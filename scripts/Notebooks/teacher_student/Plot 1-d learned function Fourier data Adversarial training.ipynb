{
 "cells": [
  {
   "cell_type": "code",
   "execution_count": 1,
   "metadata": {},
   "outputs": [
    {
     "name": "stderr",
     "output_type": "stream",
     "text": [
      "Using TensorFlow backend.\n",
      "WARNING: Logging before flag parsing goes to stderr.\n",
      "W0629 18:00:50.695003 4574504384 deprecation_wrapper.py:119] From /usr/local/lib/python3.7/site-packages/cleverhans/utils_tf.py:341: The name tf.GraphKeys is deprecated. Please use tf.compat.v1.GraphKeys instead.\n",
      "\n"
     ]
    }
   ],
   "source": [
    "#Imports\n",
    "import logging\n",
    "import os, random, time, sys\n",
    "import numpy as np\n",
    "import tensorflow as tf\n",
    "import tensorflow.contrib.layers as layers\n",
    "import ipdb\n",
    "import keras\n",
    "import pandas as pd\n",
    "\n",
    "sys.path.append('../../../')\n",
    "import feedforward_robust as ffr\n",
    "\n",
    "sys.path.append('../../../utils/')\n",
    "from utils.mnist_corruption import *\n",
    "from utils.utils_models import *\n",
    "from utils.utils_analysis import *\n",
    "from utils.utils_feedforward import *\n",
    "\n",
    "%load_ext autoreload\n",
    "%autoreload 2\n",
    "\n",
    "#Read the counter\n",
    "ctr_file = \"../../counter.txt\"\n",
    "f = open(ctr_file, 'r')\n",
    "counter = f.readline()\n",
    "f.close()\n",
    "\n",
    "counter = 1 + int(counter)\n",
    "f = open(ctr_file,'w')\n",
    "f.write('{}'.format(counter))\n",
    "f.close()\n",
    "logfile = \"../../logs/results_\" + str(counter) + \".log\"\n",
    "\n",
    "logger = logging.getLogger(\"robustness\")\n",
    "logger.setLevel(logging.DEBUG)\n",
    "fh = logging.FileHandler(logfile)\n",
    "fh.setLevel(logging.INFO)\n",
    "formatter = logging.Formatter('%(asctime)s - %(name)s - %(levelname)s - %(message)s')\n",
    "fh.setFormatter(formatter)\n",
    "logger.addHandler(fh)\n",
    "logger.addHandler(logging.StreamHandler())"
   ]
  },
  {
   "cell_type": "markdown",
   "metadata": {},
   "source": [
    "# Get Raw Training Data"
   ]
  },
  {
   "cell_type": "code",
   "execution_count": 2,
   "metadata": {},
   "outputs": [],
   "source": [
    "n = 8\n",
    "n_test = 10000\n",
    "x_train = np.linspace(-1, 1-(2)/n, n).astype(np.float64)\n",
    "x_test = np.linspace(-1, 1-(2)/n_test, n_test).astype(np.float64)\n",
    "x_train = x_train.reshape((n, 1))\n",
    "x_test = x_test.reshape((n_test, 1))"
   ]
  },
  {
   "cell_type": "code",
   "execution_count": 3,
   "metadata": {},
   "outputs": [],
   "source": [
    "y_train = np.sign(x_train).astype(np.int)\n",
    "y_train[y_train==0] = 1\n",
    "y_train_ogi = y_train.copy()\n",
    "y_train[y_train==-1] = 0\n",
    "\n",
    "y_test = np.sign(x_test).astype(np.int)\n",
    "y_test[y_test==0] = 1\n",
    "y_test[y_test==-1] = 0"
   ]
  },
  {
   "cell_type": "code",
   "execution_count": 4,
   "metadata": {},
   "outputs": [],
   "source": [
    "y_train = y_train.flatten()\n",
    "y_test = y_test.flatten()"
   ]
  },
  {
   "cell_type": "code",
   "execution_count": 5,
   "metadata": {},
   "outputs": [],
   "source": [
    "num_classes = 2\n",
    "y_train = keras.utils.to_categorical(y_train, num_classes)                                                                                         \n",
    "y_test = keras.utils.to_categorical(y_test, num_classes)"
   ]
  },
  {
   "cell_type": "code",
   "execution_count": 6,
   "metadata": {},
   "outputs": [
    {
     "data": {
      "text/plain": [
       "array([[1., 0.],\n",
       "       [1., 0.],\n",
       "       [1., 0.],\n",
       "       [1., 0.],\n",
       "       [0., 1.],\n",
       "       [0., 1.],\n",
       "       [0., 1.],\n",
       "       [0., 1.]], dtype=float32)"
      ]
     },
     "execution_count": 6,
     "metadata": {},
     "output_type": "execute_result"
    }
   ],
   "source": [
    "y_train"
   ]
  },
  {
   "cell_type": "code",
   "execution_count": 7,
   "metadata": {},
   "outputs": [
    {
     "data": {
      "text/plain": [
       "array([[1., 0.],\n",
       "       [1., 0.],\n",
       "       [1., 0.],\n",
       "       [1., 0.],\n",
       "       [1., 0.],\n",
       "       [1., 0.],\n",
       "       [1., 0.],\n",
       "       [1., 0.],\n",
       "       [1., 0.],\n",
       "       [1., 0.]], dtype=float32)"
      ]
     },
     "execution_count": 7,
     "metadata": {},
     "output_type": "execute_result"
    }
   ],
   "source": [
    "y_test[:10]"
   ]
  },
  {
   "cell_type": "code",
   "execution_count": 8,
   "metadata": {},
   "outputs": [
    {
     "data": {
      "text/plain": [
       "array([[0., 1.],\n",
       "       [0., 1.],\n",
       "       [0., 1.],\n",
       "       [0., 1.],\n",
       "       [0., 1.],\n",
       "       [0., 1.],\n",
       "       [0., 1.],\n",
       "       [0., 1.],\n",
       "       [0., 1.],\n",
       "       [0., 1.]], dtype=float32)"
      ]
     },
     "execution_count": 8,
     "metadata": {},
     "output_type": "execute_result"
    }
   ],
   "source": [
    "y_test[-10:]"
   ]
  },
  {
   "cell_type": "code",
   "execution_count": 9,
   "metadata": {},
   "outputs": [],
   "source": [
    "def featurize_fourier(X, params_dict, seed=None, p = 0):\n",
    "    d = params_dict['d']\n",
    "    p = p/2.\n",
    "    assert (d-1) % 2 == 0, \"d must be odd\"\n",
    "    \n",
    "    max_r = int((d-1)/2)\n",
    "    n = len(X)\n",
    "    A = np.zeros((n, d))\n",
    "    A[:,0] = 1*(1/np.sqrt(2))\n",
    "    \n",
    "    for d_ in range(1,max_r+1):\n",
    "        A[:,2*(d_-1)+1] = (1./(d_**(p/2))) * np.sin(d_*X*np.pi)\n",
    "        A[:,2*(d_-1)+2] = (1./(d_**(p/2))) * np.cos(d_*X*np.pi)\n",
    "    return A"
   ]
  },
  {
   "cell_type": "code",
   "execution_count": 10,
   "metadata": {},
   "outputs": [],
   "source": [
    "params_dict = {}\n",
    "params_dict['d'] = 101"
   ]
  },
  {
   "cell_type": "code",
   "execution_count": 11,
   "metadata": {},
   "outputs": [],
   "source": [
    "phi_x_train = featurize_fourier(x_train.flatten(), params_dict, p = 1.0)\n",
    "phi_x_test = featurize_fourier(x_test.flatten(), params_dict, p = 1.0)"
   ]
  },
  {
   "cell_type": "code",
   "execution_count": 12,
   "metadata": {},
   "outputs": [
    {
     "data": {
      "text/plain": [
       "array([ 7.07106781e-01,  7.07106781e-01,  7.07106781e-01,  8.40896415e-01,\n",
       "        5.14900552e-17,  5.37284966e-01, -5.37284966e-01,  8.65956056e-17,\n",
       "       -7.07106781e-01, -4.72870805e-01, -4.72870805e-01, -6.38943104e-01,\n",
       "       -1.17371944e-16, -4.34720872e-01,  4.34720872e-01, -1.45635869e-16,\n",
       "        5.94603558e-01,  4.08248290e-01,  4.08248290e-01,  5.62341325e-01,\n",
       "        1.72167376e-16,  3.88272678e-01, -3.88272678e-01,  1.97395294e-16,\n",
       "       -5.37284966e-01, -3.72390989e-01, -3.72390989e-01, -5.16973154e-01,\n",
       "       -2.21588331e-16, -3.59304112e-01,  3.59304112e-01, -2.44929360e-16,\n",
       "        5.00000000e-01,  3.48235283e-01,  3.48235283e-01,  4.85491772e-01,\n",
       "        2.67550175e-16,  3.38685499e-01, -3.38685499e-01,  2.89549859e-16,\n",
       "       -4.72870805e-01, -3.30316432e-01, -3.30316432e-01, -4.61736631e-01,\n",
       "       -1.13121438e-15, -3.22888846e-01,  3.22888846e-01, -3.31977990e-16,\n",
       "        4.51801002e-01,  3.16227766e-01,  3.16227766e-01,  4.42850014e-01,\n",
       "       -4.34141998e-16,  3.10201620e-01, -3.10201620e-01,  3.72665667e-16,\n",
       "       -4.34720872e-01, -3.04709155e-01, -3.04709155e-01, -4.27287006e-01,\n",
       "       -1.15147094e-15, -2.99670905e-01,  2.99670905e-01, -4.11920441e-16,\n",
       "        4.20448208e-01,  2.95023436e-01,  2.95023436e-01,  4.14123877e-01,\n",
       "       -3.04549623e-16,  2.90715368e-01, -2.90715368e-01,  4.49963966e-16,\n",
       "       -4.08248290e-01, -2.86704541e-01, -2.86704541e-01, -4.02767205e-01,\n",
       "       -1.18404347e-15, -2.82955963e-01,  2.82955963e-01, -4.86962876e-16,\n",
       "        3.97635364e-01,  2.79440299e-01,  2.79440299e-01,  3.92814651e-01,\n",
       "       -1.92666827e-16,  2.76132731e-01, -2.76132731e-01,  1.90246823e-15,\n",
       "       -3.88272678e-01, -2.73012086e-01, -2.73012086e-01, -3.83981713e-01,\n",
       "       -1.22286682e-15, -2.70060171e-01,  2.70060171e-01, -5.58318204e-16,\n",
       "        3.79917843e-01,  2.67261242e-01,  2.67261242e-01,  3.76060309e-01,\n",
       "       -9.23409849e-17])"
      ]
     },
     "execution_count": 12,
     "metadata": {},
     "output_type": "execute_result"
    }
   ],
   "source": [
    "phi_x_train[5]"
   ]
  },
  {
   "cell_type": "markdown",
   "metadata": {},
   "source": [
    "# Train neural network"
   ]
  },
  {
   "cell_type": "code",
   "execution_count": 13,
   "metadata": {},
   "outputs": [],
   "source": [
    "#Configurations\n",
    "eps_train = 0.10                                                                                                                           \n",
    "eps_test = 0.10 \n",
    "pgd_eta, pgd_num_iter = 1e-2, 50\n",
    "tensorboard_dir = \"../tb/\"                                                                                                                \n",
    "weights_dir = \"../weights/\"\n",
    "load_weights = False                                                                                                              \n",
    "load_counter = None                                                                                                            \n",
    "input_shape = (params_dict['d'],)\n",
    "\n",
    "\n",
    "sigma = tf.nn.relu \n",
    "epochs, reg, lr, batch_size = 1000, 0.00, 3e-4, n # Will have to experiment with learning rate a bit.                                                                                              \n"
   ]
  },
  {
   "cell_type": "code",
   "execution_count": 14,
   "metadata": {},
   "outputs": [
    {
     "name": "stderr",
     "output_type": "stream",
     "text": [
      "Initialized instance variables of the robust model class\n",
      "I0629 18:00:51.431572 4574504384 feedforward_robust.py:32] Initialized instance variables of the robust model class\n",
      "W0629 18:00:51.432821 4574504384 deprecation_wrapper.py:119] From ../../../feedforward_robust.py:36: The name tf.placeholder is deprecated. Please use tf.compat.v1.placeholder instead.\n",
      "\n",
      "Created placeholders for x and y\n",
      "I0629 18:00:51.439823 4574504384 feedforward_robust.py:40] Created placeholders for x and y\n",
      "W0629 18:00:51.441232 4574504384 deprecation_wrapper.py:119] From ../../../utils/utils_feedforward.py:34: The name tf.variable_scope is deprecated. Please use tf.compat.v1.variable_scope instead.\n",
      "\n",
      "W0629 18:00:51.442773 4574504384 deprecation_wrapper.py:119] From ../../../utils/utils_feedforward.py:34: The name tf.AUTO_REUSE is deprecated. Please use tf.compat.v1.AUTO_REUSE instead.\n",
      "\n",
      "W0629 18:00:51.443961 4574504384 deprecation_wrapper.py:119] From ../../../utils/utils_feedforward.py:36: The name tf.get_variable is deprecated. Please use tf.compat.v1.get_variable instead.\n",
      "\n",
      "W0629 18:00:51.456864 4574504384 deprecation_wrapper.py:119] From ../../../utils/utils_feedforward.py:40: The name tf.summary.histogram is deprecated. Please use tf.compat.v1.summary.histogram instead.\n",
      "\n",
      "Created layers and tensor for logits\n",
      "I0629 18:00:51.517163 4574504384 feedforward_robust.py:44] Created layers and tensor for logits\n",
      "Added accuracy computation to the graph\n",
      "I0629 18:00:51.523567 4574504384 feedforward_robust.py:48] Added accuracy computation to the graph\n",
      "W0629 18:00:51.524491 4574504384 deprecation_wrapper.py:119] From ../../../feedforward_robust.py:49: The name tf.summary.scalar is deprecated. Please use tf.compat.v1.summary.scalar instead.\n",
      "\n",
      "W0629 18:00:51.528719 4574504384 deprecation.py:323] From ../../../feedforward_robust.py:53: softmax_cross_entropy_with_logits (from tensorflow.python.ops.nn_ops) is deprecated and will be removed in a future version.\n",
      "Instructions for updating:\n",
      "\n",
      "Future major versions of TensorFlow will allow gradients to flow\n",
      "into the labels input on backprop by default.\n",
      "\n",
      "See `tf.nn.softmax_cross_entropy_with_logits_v2`.\n",
      "\n",
      "Added cross-entropy loss computation to the graph\n",
      "I0629 18:00:51.547791 4574504384 feedforward_robust.py:56] Added cross-entropy loss computation to the graph\n",
      "Model graph was created\n",
      "I0629 18:00:51.549758 4574504384 feedforward_robust.py:62] Model graph was created\n",
      "W0629 18:00:51.557304 4574504384 deprecation_wrapper.py:119] From ../../../feedforward_robust.py:63: The name tf.summary.merge_all is deprecated. Please use tf.compat.v1.summary.merge_all instead.\n",
      "\n",
      "W0629 18:00:51.617710 4574504384 deprecation.py:323] From ../../../feedforward_robust.py:838: all_variables (from tensorflow.python.ops.variables) is deprecated and will be removed after 2017-03-02.\n",
      "Instructions for updating:\n",
      "Please use tf.global_variables instead.\n",
      "W0629 18:00:51.618491 4574504384 deprecation_wrapper.py:119] From ../../../feedforward_robust.py:839: The name tf.train.AdamOptimizer is deprecated. Please use tf.compat.v1.train.AdamOptimizer instead.\n",
      "\n"
     ]
    },
    {
     "name": "stdout",
     "output_type": "stream",
     "text": [
      "Created model successfully. Now going to train\n"
     ]
    },
    {
     "name": "stderr",
     "output_type": "stream",
     "text": [
      "W0629 18:00:51.859623 4574504384 deprecation.py:323] From /usr/local/lib/python3.7/site-packages/tensorflow/python/util/tf_should_use.py:193: initialize_variables (from tensorflow.python.ops.variables) is deprecated and will be removed after 2017-03-02.\n",
      "Instructions for updating:\n",
      "Use `tf.variables_initializer` instead.\n"
     ]
    },
    {
     "name": "stdout",
     "output_type": "stream",
     "text": [
      "iteration: 0\n",
      "loss 0.817366\n",
      "iteration: 20\n",
      "loss 1.274026\n",
      "iteration: 40\n",
      "loss 1.295877\n"
     ]
    },
    {
     "name": "stderr",
     "output_type": "stream",
     "text": [
      "Epoch: 0001    cost: 1.462234259 \n",
      "I0629 18:00:52.488992 4574504384 feedforward_robust.py:890] Epoch: 0001    cost: 1.462234259 \n",
      "Accuracy on batch: 0.000000\n",
      "I0629 18:00:52.491147 4574504384 feedforward_robust.py:891] Accuracy on batch: 0.000000\n",
      "Epoch: 0002    cost: 1.444462776 \n",
      "I0629 18:00:52.590194 4574504384 feedforward_robust.py:890] Epoch: 0002    cost: 1.444462776 \n",
      "Accuracy on batch: 0.000000\n",
      "I0629 18:00:52.592015 4574504384 feedforward_robust.py:891] Accuracy on batch: 0.000000\n",
      "Epoch: 0003    cost: 1.386402607 \n",
      "I0629 18:00:52.715984 4574504384 feedforward_robust.py:890] Epoch: 0003    cost: 1.386402607 \n",
      "Accuracy on batch: 0.000000\n",
      "I0629 18:00:52.719739 4574504384 feedforward_robust.py:891] Accuracy on batch: 0.000000\n"
     ]
    },
    {
     "name": "stdout",
     "output_type": "stream",
     "text": [
      "iteration: 0\n",
      "loss 0.804617\n",
      "iteration: 20\n",
      "loss 1.239897\n",
      "iteration: 40\n",
      "loss 1.262951\n",
      "iteration: 0\n",
      "loss 0.779205\n",
      "iteration: 20\n",
      "loss 1.205567\n",
      "iteration: 40\n",
      "loss 1.220345\n"
     ]
    },
    {
     "name": "stderr",
     "output_type": "stream",
     "text": [
      "Epoch: 0004    cost: 1.374497175 \n",
      "I0629 18:00:52.815940 4574504384 feedforward_robust.py:890] Epoch: 0004    cost: 1.374497175 \n",
      "Accuracy on batch: 0.000000\n",
      "I0629 18:00:52.817291 4574504384 feedforward_robust.py:891] Accuracy on batch: 0.000000\n",
      "Epoch: 0005    cost: 1.360420227 \n",
      "I0629 18:00:52.912186 4574504384 feedforward_robust.py:890] Epoch: 0005    cost: 1.360420227 \n",
      "Accuracy on batch: 0.000000\n",
      "I0629 18:00:52.914499 4574504384 feedforward_robust.py:891] Accuracy on batch: 0.000000\n"
     ]
    },
    {
     "name": "stdout",
     "output_type": "stream",
     "text": [
      "iteration: 0\n",
      "loss 0.749020\n",
      "iteration: 20\n",
      "loss 1.175873\n",
      "iteration: 40\n",
      "loss 1.205508\n",
      "iteration: 0\n",
      "loss 0.764099\n",
      "iteration: 20\n",
      "loss 1.144922\n",
      "iteration: 40\n",
      "loss 1.191304\n",
      "iteration: 0\n",
      "loss 0.749397\n"
     ]
    },
    {
     "name": "stderr",
     "output_type": "stream",
     "text": [
      "Epoch: 0006    cost: 1.310979009 \n",
      "I0629 18:00:53.022513 4574504384 feedforward_robust.py:890] Epoch: 0006    cost: 1.310979009 \n",
      "Accuracy on batch: 0.000000\n",
      "I0629 18:00:53.024610 4574504384 feedforward_robust.py:891] Accuracy on batch: 0.000000\n",
      "Epoch: 0007    cost: 1.280178189 \n",
      "I0629 18:00:53.114845 4574504384 feedforward_robust.py:890] Epoch: 0007    cost: 1.280178189 \n",
      "Accuracy on batch: 0.000000\n",
      "I0629 18:00:53.116187 4574504384 feedforward_robust.py:891] Accuracy on batch: 0.000000\n"
     ]
    },
    {
     "name": "stdout",
     "output_type": "stream",
     "text": [
      "iteration: 20\n",
      "loss 1.117213\n",
      "iteration: 40\n",
      "loss 1.147501\n",
      "iteration: 0\n",
      "loss 0.711758\n",
      "iteration: 20\n",
      "loss 1.096678\n",
      "iteration: 40\n",
      "loss 1.115734\n",
      "iteration: 0\n",
      "loss 0.715511\n",
      "iteration: 20\n",
      "loss 1.066739\n"
     ]
    },
    {
     "name": "stderr",
     "output_type": "stream",
     "text": [
      "Epoch: 0008    cost: 1.250076771 \n",
      "I0629 18:00:53.199646 4574504384 feedforward_robust.py:890] Epoch: 0008    cost: 1.250076771 \n",
      "Accuracy on batch: 0.000000\n",
      "I0629 18:00:53.201607 4574504384 feedforward_robust.py:891] Accuracy on batch: 0.000000\n",
      "Epoch: 0009    cost: 1.226757050 \n",
      "I0629 18:00:53.283321 4574504384 feedforward_robust.py:890] Epoch: 0009    cost: 1.226757050 \n",
      "Accuracy on batch: 0.000000\n",
      "I0629 18:00:53.284782 4574504384 feedforward_robust.py:891] Accuracy on batch: 0.000000\n",
      "Epoch: 0010    cost: 1.215385199 \n",
      "I0629 18:00:53.371549 4574504384 feedforward_robust.py:890] Epoch: 0010    cost: 1.215385199 \n",
      "Accuracy on batch: 0.000000\n",
      "I0629 18:00:53.373347 4574504384 feedforward_robust.py:891] Accuracy on batch: 0.000000\n"
     ]
    },
    {
     "name": "stdout",
     "output_type": "stream",
     "text": [
      "iteration: 40\n",
      "loss 1.082043\n",
      "iteration: 0\n",
      "loss 0.707199\n",
      "iteration: 20\n",
      "loss 1.039163\n",
      "iteration: 40\n",
      "loss 1.059633\n",
      "iteration: 0\n",
      "loss 0.701145\n",
      "iteration: 20\n",
      "loss 1.021175\n",
      "iteration: 40\n",
      "loss 1.048835\n"
     ]
    },
    {
     "name": "stderr",
     "output_type": "stream",
     "text": [
      "Epoch: 0011    cost: 1.189094186 \n",
      "I0629 18:00:53.459129 4574504384 feedforward_robust.py:890] Epoch: 0011    cost: 1.189094186 \n",
      "Accuracy on batch: 0.000000\n",
      "I0629 18:00:53.460400 4574504384 feedforward_robust.py:891] Accuracy on batch: 0.000000\n",
      "Epoch: 0012    cost: 1.191307068 \n",
      "I0629 18:00:53.544915 4574504384 feedforward_robust.py:890] Epoch: 0012    cost: 1.191307068 \n",
      "Accuracy on batch: 0.000000\n",
      "I0629 18:00:53.546455 4574504384 feedforward_robust.py:891] Accuracy on batch: 0.000000\n"
     ]
    },
    {
     "name": "stdout",
     "output_type": "stream",
     "text": [
      "iteration: 0\n",
      "loss 0.693044\n",
      "iteration: 20\n",
      "loss 1.013096\n",
      "iteration: 40\n",
      "loss 1.027139\n",
      "iteration: 0\n",
      "loss 0.666200\n",
      "iteration: 20\n",
      "loss 1.000135\n",
      "iteration: 40\n",
      "loss 1.014894\n",
      "iteration: 0\n",
      "loss 0.657086\n",
      "iteration: 20\n",
      "loss 0.967798\n"
     ]
    },
    {
     "name": "stderr",
     "output_type": "stream",
     "text": [
      "Epoch: 0013    cost: 1.148444176 \n",
      "I0629 18:00:53.630941 4574504384 feedforward_robust.py:890] Epoch: 0013    cost: 1.148444176 \n",
      "Accuracy on batch: 0.000000\n",
      "I0629 18:00:53.632190 4574504384 feedforward_robust.py:891] Accuracy on batch: 0.000000\n",
      "Epoch: 0014    cost: 1.111150742 \n",
      "I0629 18:00:53.720683 4574504384 feedforward_robust.py:890] Epoch: 0014    cost: 1.111150742 \n",
      "Accuracy on batch: 0.000000\n",
      "I0629 18:00:53.722440 4574504384 feedforward_robust.py:891] Accuracy on batch: 0.000000\n",
      "Epoch: 0015    cost: 1.108163595 \n",
      "I0629 18:00:53.809134 4574504384 feedforward_robust.py:890] Epoch: 0015    cost: 1.108163595 \n",
      "Accuracy on batch: 0.000000\n",
      "I0629 18:00:53.810331 4574504384 feedforward_robust.py:891] Accuracy on batch: 0.000000\n"
     ]
    },
    {
     "name": "stdout",
     "output_type": "stream",
     "text": [
      "iteration: 40\n",
      "loss 0.982679\n",
      "iteration: 0\n",
      "loss 0.662142\n",
      "iteration: 20\n",
      "loss 0.923000\n",
      "iteration: 40\n",
      "loss 0.945579\n",
      "iteration: 0\n",
      "loss 0.651820\n",
      "iteration: 20\n",
      "loss 0.926963\n",
      "iteration: 40\n",
      "loss 0.940185\n"
     ]
    },
    {
     "name": "stderr",
     "output_type": "stream",
     "text": [
      "Epoch: 0016    cost: 1.075748801 \n",
      "I0629 18:00:53.893437 4574504384 feedforward_robust.py:890] Epoch: 0016    cost: 1.075748801 \n",
      "Accuracy on batch: 0.000000\n",
      "I0629 18:00:53.894819 4574504384 feedforward_robust.py:891] Accuracy on batch: 0.000000\n",
      "Epoch: 0017    cost: 1.068600416 \n",
      "I0629 18:00:53.976605 4574504384 feedforward_robust.py:890] Epoch: 0017    cost: 1.068600416 \n",
      "Accuracy on batch: 0.000000\n",
      "I0629 18:00:53.978170 4574504384 feedforward_robust.py:891] Accuracy on batch: 0.000000\n"
     ]
    },
    {
     "name": "stdout",
     "output_type": "stream",
     "text": [
      "iteration: 0\n",
      "loss 0.642796\n",
      "iteration: 20\n",
      "loss 0.901047\n",
      "iteration: 40\n",
      "loss 0.910513\n",
      "iteration: 0\n",
      "loss 0.628452\n",
      "iteration: 20\n",
      "loss 0.884799\n",
      "iteration: 40\n",
      "loss 0.900742\n",
      "iteration: 0\n",
      "loss 0.621774\n",
      "iteration: 20\n",
      "loss 0.854204\n"
     ]
    },
    {
     "name": "stderr",
     "output_type": "stream",
     "text": [
      "Epoch: 0018    cost: 1.042641878 \n",
      "I0629 18:00:54.067157 4574504384 feedforward_robust.py:890] Epoch: 0018    cost: 1.042641878 \n",
      "Accuracy on batch: 0.125000\n",
      "I0629 18:00:54.068755 4574504384 feedforward_robust.py:891] Accuracy on batch: 0.125000\n",
      "Epoch: 0019    cost: 1.018437862 \n",
      "I0629 18:00:54.156706 4574504384 feedforward_robust.py:890] Epoch: 0019    cost: 1.018437862 \n",
      "Accuracy on batch: 0.000000\n",
      "I0629 18:00:54.158033 4574504384 feedforward_robust.py:891] Accuracy on batch: 0.000000\n"
     ]
    },
    {
     "name": "stdout",
     "output_type": "stream",
     "text": [
      "iteration: 40\n",
      "loss 0.877334\n",
      "iteration: 0\n",
      "loss 0.614689\n",
      "iteration: 20\n",
      "loss 0.828450\n",
      "iteration: 40\n",
      "loss 0.852716\n",
      "iteration: 0\n",
      "loss 0.610603\n",
      "iteration: 20\n",
      "loss 0.818635\n",
      "iteration: 40\n",
      "loss 0.829458\n"
     ]
    },
    {
     "name": "stderr",
     "output_type": "stream",
     "text": [
      "Epoch: 0020    cost: 0.991875529 \n",
      "I0629 18:00:54.264143 4574504384 feedforward_robust.py:890] Epoch: 0020    cost: 0.991875529 \n",
      "Accuracy on batch: 0.000000\n",
      "I0629 18:00:54.265929 4574504384 feedforward_robust.py:891] Accuracy on batch: 0.000000\n",
      "Epoch: 0021    cost: 0.972534060 \n",
      "I0629 18:00:54.372877 4574504384 feedforward_robust.py:890] Epoch: 0021    cost: 0.972534060 \n",
      "Accuracy on batch: 0.000000\n",
      "I0629 18:00:54.380785 4574504384 feedforward_robust.py:891] Accuracy on batch: 0.000000\n",
      "Epoch: 0022    cost: 0.967139721 \n",
      "I0629 18:00:54.487617 4574504384 feedforward_robust.py:890] Epoch: 0022    cost: 0.967139721 \n",
      "Accuracy on batch: 0.250000\n",
      "I0629 18:00:54.488985 4574504384 feedforward_robust.py:891] Accuracy on batch: 0.250000\n"
     ]
    },
    {
     "name": "stdout",
     "output_type": "stream",
     "text": [
      "iteration: 0\n",
      "loss 0.601092\n",
      "iteration: 20\n",
      "loss 0.786170\n",
      "iteration: 40\n",
      "loss 0.804557\n",
      "iteration: 0\n",
      "loss 0.586940\n",
      "iteration: 20\n",
      "loss 0.791466\n",
      "iteration: 40\n",
      "loss 0.804122\n"
     ]
    },
    {
     "name": "stderr",
     "output_type": "stream",
     "text": [
      "Epoch: 0023    cost: 0.976894736 \n",
      "I0629 18:00:54.602969 4574504384 feedforward_robust.py:890] Epoch: 0023    cost: 0.976894736 \n",
      "Accuracy on batch: 0.000000\n",
      "I0629 18:00:54.604454 4574504384 feedforward_robust.py:891] Accuracy on batch: 0.000000\n",
      "Epoch: 0024    cost: 0.938423991 \n",
      "I0629 18:00:54.707545 4574504384 feedforward_robust.py:890] Epoch: 0024    cost: 0.938423991 \n",
      "Accuracy on batch: 0.125000\n",
      "I0629 18:00:54.710428 4574504384 feedforward_robust.py:891] Accuracy on batch: 0.125000\n"
     ]
    },
    {
     "name": "stdout",
     "output_type": "stream",
     "text": [
      "iteration: 0\n",
      "loss 0.603888\n",
      "iteration: 20\n",
      "loss 0.804268\n",
      "iteration: 40\n",
      "loss 0.813916\n",
      "iteration: 0\n",
      "loss 0.602537\n",
      "iteration: 20\n",
      "loss 0.769469\n",
      "iteration: 40\n",
      "loss 0.776305\n"
     ]
    },
    {
     "name": "stderr",
     "output_type": "stream",
     "text": [
      "Epoch: 0025    cost: 0.948521972 \n",
      "I0629 18:00:54.808825 4574504384 feedforward_robust.py:890] Epoch: 0025    cost: 0.948521972 \n",
      "Accuracy on batch: 0.125000\n",
      "I0629 18:00:54.814851 4574504384 feedforward_robust.py:891] Accuracy on batch: 0.125000\n",
      "Epoch: 0026    cost: 0.941316485 \n",
      "I0629 18:00:54.903939 4574504384 feedforward_robust.py:890] Epoch: 0026    cost: 0.941316485 \n",
      "Accuracy on batch: 0.250000\n",
      "I0629 18:00:54.905316 4574504384 feedforward_robust.py:891] Accuracy on batch: 0.250000\n"
     ]
    },
    {
     "name": "stdout",
     "output_type": "stream",
     "text": [
      "iteration: 0\n",
      "loss 0.582832\n",
      "iteration: 20\n",
      "loss 0.764146\n",
      "iteration: 40\n",
      "loss 0.784763\n",
      "iteration: 0\n",
      "loss 0.579568\n",
      "iteration: 20\n",
      "loss 0.767089\n",
      "iteration: 40\n",
      "loss 0.777345\n",
      "iteration: 0\n",
      "loss 0.579975\n"
     ]
    },
    {
     "name": "stderr",
     "output_type": "stream",
     "text": [
      "Epoch: 0027    cost: 0.933033705 \n",
      "I0629 18:00:55.000409 4574504384 feedforward_robust.py:890] Epoch: 0027    cost: 0.933033705 \n",
      "Accuracy on batch: 0.250000\n",
      "I0629 18:00:55.001888 4574504384 feedforward_robust.py:891] Accuracy on batch: 0.250000\n",
      "Epoch: 0028    cost: 0.921053827 \n",
      "I0629 18:00:55.081825 4574504384 feedforward_robust.py:890] Epoch: 0028    cost: 0.921053827 \n",
      "Accuracy on batch: 0.250000\n",
      "I0629 18:00:55.083839 4574504384 feedforward_robust.py:891] Accuracy on batch: 0.250000\n"
     ]
    },
    {
     "name": "stdout",
     "output_type": "stream",
     "text": [
      "iteration: 20\n",
      "loss 0.754962\n",
      "iteration: 40\n",
      "loss 0.770167\n",
      "iteration: 0\n",
      "loss 0.573770\n",
      "iteration: 20\n",
      "loss 0.750703\n",
      "iteration: 40\n",
      "loss 0.758440\n",
      "iteration: 0\n",
      "loss 0.573138\n",
      "iteration: 20\n",
      "loss 0.742690\n",
      "iteration: 40\n",
      "loss 0.751631\n"
     ]
    },
    {
     "name": "stderr",
     "output_type": "stream",
     "text": [
      "Epoch: 0029    cost: 0.913881719 \n",
      "I0629 18:00:55.163183 4574504384 feedforward_robust.py:890] Epoch: 0029    cost: 0.913881719 \n",
      "Accuracy on batch: 0.250000\n",
      "I0629 18:00:55.167582 4574504384 feedforward_robust.py:891] Accuracy on batch: 0.250000\n",
      "Epoch: 0030    cost: 0.904627681 \n",
      "I0629 18:00:55.266211 4574504384 feedforward_robust.py:890] Epoch: 0030    cost: 0.904627681 \n",
      "Accuracy on batch: 0.375000\n",
      "I0629 18:00:55.268058 4574504384 feedforward_robust.py:891] Accuracy on batch: 0.375000\n",
      "Epoch: 0031    cost: 0.891599178 \n",
      "I0629 18:00:55.370309 4574504384 feedforward_robust.py:890] Epoch: 0031    cost: 0.891599178 \n",
      "Accuracy on batch: 0.500000\n",
      "I0629 18:00:55.371845 4574504384 feedforward_robust.py:891] Accuracy on batch: 0.500000\n"
     ]
    },
    {
     "name": "stdout",
     "output_type": "stream",
     "text": [
      "iteration: 0\n",
      "loss 0.575157\n",
      "iteration: 20\n",
      "loss 0.735551\n",
      "iteration: 40\n",
      "loss 0.743397\n",
      "iteration: 0\n",
      "loss 0.560044\n",
      "iteration: 20\n",
      "loss 0.722363\n",
      "iteration: 40\n",
      "loss 0.730862\n"
     ]
    },
    {
     "name": "stderr",
     "output_type": "stream",
     "text": [
      "Epoch: 0032    cost: 0.902994990 \n",
      "I0629 18:00:55.467425 4574504384 feedforward_robust.py:890] Epoch: 0032    cost: 0.902994990 \n",
      "Accuracy on batch: 0.250000\n",
      "I0629 18:00:55.468770 4574504384 feedforward_robust.py:891] Accuracy on batch: 0.250000\n",
      "Epoch: 0033    cost: 0.898794293 \n",
      "I0629 18:00:55.553986 4574504384 feedforward_robust.py:890] Epoch: 0033    cost: 0.898794293 \n",
      "Accuracy on batch: 0.250000\n",
      "I0629 18:00:55.555535 4574504384 feedforward_robust.py:891] Accuracy on batch: 0.250000\n"
     ]
    },
    {
     "name": "stdout",
     "output_type": "stream",
     "text": [
      "iteration: 0\n",
      "loss 0.571688\n",
      "iteration: 20\n",
      "loss 0.730279\n",
      "iteration: 40\n",
      "loss 0.742155\n",
      "iteration: 0\n",
      "loss 0.558322\n",
      "iteration: 20\n",
      "loss 0.726612\n",
      "iteration: 40\n",
      "loss 0.736728\n",
      "iteration: 0\n",
      "loss 0.546358\n"
     ]
    },
    {
     "name": "stderr",
     "output_type": "stream",
     "text": [
      "Epoch: 0034    cost: 0.891005874 \n",
      "I0629 18:00:55.645292 4574504384 feedforward_robust.py:890] Epoch: 0034    cost: 0.891005874 \n",
      "Accuracy on batch: 0.375000\n",
      "I0629 18:00:55.646795 4574504384 feedforward_robust.py:891] Accuracy on batch: 0.375000\n",
      "Epoch: 0035    cost: 0.885347962 \n",
      "I0629 18:00:55.728730 4574504384 feedforward_robust.py:890] Epoch: 0035    cost: 0.885347962 \n",
      "Accuracy on batch: 0.375000\n",
      "I0629 18:00:55.730565 4574504384 feedforward_robust.py:891] Accuracy on batch: 0.375000\n"
     ]
    },
    {
     "name": "stdout",
     "output_type": "stream",
     "text": [
      "iteration: 20\n",
      "loss 0.725343\n",
      "iteration: 40\n",
      "loss 0.732282\n",
      "iteration: 0\n",
      "loss 0.558996\n",
      "iteration: 20\n",
      "loss 0.714810\n",
      "iteration: 40\n",
      "loss 0.724766\n",
      "iteration: 0\n",
      "loss 0.541400\n",
      "iteration: 20\n",
      "loss 0.721162\n",
      "iteration: 40\n",
      "loss 0.727665\n"
     ]
    },
    {
     "name": "stderr",
     "output_type": "stream",
     "text": [
      "Epoch: 0036    cost: 0.888951480 \n",
      "I0629 18:00:55.818960 4574504384 feedforward_robust.py:890] Epoch: 0036    cost: 0.888951480 \n",
      "Accuracy on batch: 0.375000\n",
      "I0629 18:00:55.820472 4574504384 feedforward_robust.py:891] Accuracy on batch: 0.375000\n",
      "Epoch: 0037    cost: 0.891022563 \n",
      "I0629 18:00:55.913871 4574504384 feedforward_robust.py:890] Epoch: 0037    cost: 0.891022563 \n",
      "Accuracy on batch: 0.500000\n",
      "I0629 18:00:55.915115 4574504384 feedforward_robust.py:891] Accuracy on batch: 0.500000\n",
      "Epoch: 0038    cost: 0.905256271 \n",
      "I0629 18:00:56.003484 4574504384 feedforward_robust.py:890] Epoch: 0038    cost: 0.905256271 \n",
      "Accuracy on batch: 0.375000\n",
      "I0629 18:00:56.005017 4574504384 feedforward_robust.py:891] Accuracy on batch: 0.375000\n"
     ]
    },
    {
     "name": "stdout",
     "output_type": "stream",
     "text": [
      "iteration: 0\n",
      "loss 0.540071\n",
      "iteration: 20\n",
      "loss 0.717288\n",
      "iteration: 40\n",
      "loss 0.730295\n",
      "iteration: 0\n",
      "loss 0.546038\n",
      "iteration: 20\n",
      "loss 0.712869\n",
      "iteration: 40\n",
      "loss 0.741684\n",
      "iteration: 0\n",
      "loss 0.543493\n"
     ]
    },
    {
     "name": "stderr",
     "output_type": "stream",
     "text": [
      "Epoch: 0039    cost: 0.869381964 \n",
      "I0629 18:00:56.095788 4574504384 feedforward_robust.py:890] Epoch: 0039    cost: 0.869381964 \n",
      "Accuracy on batch: 0.375000\n",
      "I0629 18:00:56.097074 4574504384 feedforward_robust.py:891] Accuracy on batch: 0.375000\n",
      "Epoch: 0040    cost: 0.852287054 \n",
      "I0629 18:00:56.201135 4574504384 feedforward_robust.py:890] Epoch: 0040    cost: 0.852287054 \n",
      "Accuracy on batch: 0.375000\n",
      "I0629 18:00:56.202842 4574504384 feedforward_robust.py:891] Accuracy on batch: 0.375000\n"
     ]
    },
    {
     "name": "stdout",
     "output_type": "stream",
     "text": [
      "iteration: 20\n",
      "loss 0.698831\n",
      "iteration: 40\n",
      "loss 0.708490\n",
      "iteration: 0\n",
      "loss 0.538791\n",
      "iteration: 20\n",
      "loss 0.685809\n",
      "iteration: 40\n",
      "loss 0.689840\n",
      "iteration: 0\n",
      "loss 0.531773\n"
     ]
    },
    {
     "name": "stderr",
     "output_type": "stream",
     "text": [
      "Epoch: 0041    cost: 0.858748436 \n",
      "I0629 18:00:56.333655 4574504384 feedforward_robust.py:890] Epoch: 0041    cost: 0.858748436 \n",
      "Accuracy on batch: 0.500000\n",
      "I0629 18:00:56.335954 4574504384 feedforward_robust.py:891] Accuracy on batch: 0.500000\n",
      "Epoch: 0042    cost: 0.851428986 \n",
      "I0629 18:00:56.439049 4574504384 feedforward_robust.py:890] Epoch: 0042    cost: 0.851428986 \n",
      "Accuracy on batch: 0.375000\n",
      "I0629 18:00:56.440376 4574504384 feedforward_robust.py:891] Accuracy on batch: 0.375000\n"
     ]
    },
    {
     "name": "stdout",
     "output_type": "stream",
     "text": [
      "iteration: 20\n",
      "loss 0.690389\n",
      "iteration: 40\n",
      "loss 0.696690\n",
      "iteration: 0\n",
      "loss 0.533243\n",
      "iteration: 20\n",
      "loss 0.675149\n",
      "iteration: 40\n",
      "loss 0.687783\n",
      "iteration: 0\n",
      "loss 0.522920\n"
     ]
    },
    {
     "name": "stderr",
     "output_type": "stream",
     "text": [
      "Epoch: 0043    cost: 0.867048979 \n",
      "I0629 18:00:56.547434 4574504384 feedforward_robust.py:890] Epoch: 0043    cost: 0.867048979 \n",
      "Accuracy on batch: 0.500000\n",
      "I0629 18:00:56.551536 4574504384 feedforward_robust.py:891] Accuracy on batch: 0.500000\n",
      "Epoch: 0044    cost: 0.829567909 \n",
      "I0629 18:00:56.657573 4574504384 feedforward_robust.py:890] Epoch: 0044    cost: 0.829567909 \n",
      "Accuracy on batch: 0.500000\n",
      "I0629 18:00:56.662483 4574504384 feedforward_robust.py:891] Accuracy on batch: 0.500000\n"
     ]
    },
    {
     "name": "stdout",
     "output_type": "stream",
     "text": [
      "iteration: 20\n",
      "loss 0.689705\n",
      "iteration: 40\n",
      "loss 0.706698\n",
      "iteration: 0\n",
      "loss 0.531829\n",
      "iteration: 20\n",
      "loss 0.664880\n",
      "iteration: 40\n",
      "loss 0.669808\n",
      "iteration: 0\n",
      "loss 0.511295\n"
     ]
    },
    {
     "name": "stderr",
     "output_type": "stream",
     "text": [
      "Epoch: 0045    cost: 0.833980680 \n",
      "I0629 18:00:56.761873 4574504384 feedforward_robust.py:890] Epoch: 0045    cost: 0.833980680 \n",
      "Accuracy on batch: 0.500000\n",
      "I0629 18:00:56.767967 4574504384 feedforward_robust.py:891] Accuracy on batch: 0.500000\n",
      "Epoch: 0046    cost: 0.831231058 \n",
      "I0629 18:00:56.869107 4574504384 feedforward_robust.py:890] Epoch: 0046    cost: 0.831231058 \n",
      "Accuracy on batch: 0.500000\n",
      "I0629 18:00:56.870373 4574504384 feedforward_robust.py:891] Accuracy on batch: 0.500000\n"
     ]
    },
    {
     "name": "stdout",
     "output_type": "stream",
     "text": [
      "iteration: 20\n",
      "loss 0.666081\n",
      "iteration: 40\n",
      "loss 0.672996\n",
      "iteration: 0\n",
      "loss 0.517559\n",
      "iteration: 20\n",
      "loss 0.658490\n",
      "iteration: 40\n",
      "loss 0.669959\n",
      "iteration: 0\n",
      "loss 0.509124\n",
      "iteration: 20\n",
      "loss 0.657167\n"
     ]
    },
    {
     "name": "stderr",
     "output_type": "stream",
     "text": [
      "Epoch: 0047    cost: 0.828847408 \n",
      "I0629 18:00:56.987949 4574504384 feedforward_robust.py:890] Epoch: 0047    cost: 0.828847408 \n",
      "Accuracy on batch: 0.625000\n",
      "I0629 18:00:56.989908 4574504384 feedforward_robust.py:891] Accuracy on batch: 0.625000\n",
      "Epoch: 0048    cost: 0.823204398 \n",
      "I0629 18:00:57.133019 4574504384 feedforward_robust.py:890] Epoch: 0048    cost: 0.823204398 \n",
      "Accuracy on batch: 0.375000\n",
      "I0629 18:00:57.137447 4574504384 feedforward_robust.py:891] Accuracy on batch: 0.375000\n"
     ]
    },
    {
     "name": "stdout",
     "output_type": "stream",
     "text": [
      "iteration: 40\n",
      "loss 0.668336\n",
      "iteration: 0\n",
      "loss 0.510386\n",
      "iteration: 20\n",
      "loss 0.656818\n",
      "iteration: 40\n",
      "loss 0.662904\n"
     ]
    },
    {
     "name": "stderr",
     "output_type": "stream",
     "text": [
      "Epoch: 0049    cost: 0.792395473 \n",
      "I0629 18:00:57.277465 4574504384 feedforward_robust.py:890] Epoch: 0049    cost: 0.792395473 \n",
      "Accuracy on batch: 0.625000\n",
      "I0629 18:00:57.281929 4574504384 feedforward_robust.py:891] Accuracy on batch: 0.625000\n"
     ]
    },
    {
     "name": "stdout",
     "output_type": "stream",
     "text": [
      "iteration: 0\n",
      "loss 0.509026\n",
      "iteration: 20\n",
      "loss 0.624039\n",
      "iteration: 40\n",
      "loss 0.631344\n",
      "iteration: 0\n",
      "loss 0.505265\n",
      "iteration: 20\n",
      "loss 0.640032\n"
     ]
    },
    {
     "name": "stderr",
     "output_type": "stream",
     "text": [
      "Epoch: 0050    cost: 0.811400771 \n",
      "I0629 18:00:57.411281 4574504384 feedforward_robust.py:890] Epoch: 0050    cost: 0.811400771 \n",
      "Accuracy on batch: 0.500000\n",
      "I0629 18:00:57.413154 4574504384 feedforward_robust.py:891] Accuracy on batch: 0.500000\n",
      "Epoch: 0051    cost: 0.835898399 \n",
      "I0629 18:00:57.521523 4574504384 feedforward_robust.py:890] Epoch: 0051    cost: 0.835898399 \n",
      "Accuracy on batch: 0.375000\n",
      "I0629 18:00:57.523440 4574504384 feedforward_robust.py:891] Accuracy on batch: 0.375000\n"
     ]
    },
    {
     "name": "stdout",
     "output_type": "stream",
     "text": [
      "iteration: 40\n",
      "loss 0.648685\n",
      "iteration: 0\n",
      "loss 0.507382\n",
      "iteration: 20\n",
      "loss 0.659146\n",
      "iteration: 40\n",
      "loss 0.675615\n",
      "iteration: 0\n",
      "loss 0.493427\n",
      "iteration: 20\n",
      "loss 0.649390\n"
     ]
    },
    {
     "name": "stderr",
     "output_type": "stream",
     "text": [
      "Epoch: 0052    cost: 0.818028271 \n",
      "I0629 18:00:57.659643 4574504384 feedforward_robust.py:890] Epoch: 0052    cost: 0.818028271 \n",
      "Accuracy on batch: 0.375000\n",
      "I0629 18:00:57.664773 4574504384 feedforward_robust.py:891] Accuracy on batch: 0.375000\n",
      "Epoch: 0053    cost: 0.783198893 \n",
      "I0629 18:00:57.786179 4574504384 feedforward_robust.py:890] Epoch: 0053    cost: 0.783198893 \n",
      "Accuracy on batch: 0.500000\n",
      "I0629 18:00:57.789861 4574504384 feedforward_robust.py:891] Accuracy on batch: 0.500000\n"
     ]
    },
    {
     "name": "stdout",
     "output_type": "stream",
     "text": [
      "iteration: 40\n",
      "loss 0.659065\n",
      "iteration: 0\n",
      "loss 0.493436\n",
      "iteration: 20\n",
      "loss 0.617242\n",
      "iteration: 40\n",
      "loss 0.624446\n",
      "iteration: 0\n",
      "loss 0.478369\n"
     ]
    },
    {
     "name": "stderr",
     "output_type": "stream",
     "text": [
      "Epoch: 0054    cost: 0.829785943 \n",
      "I0629 18:00:57.889774 4574504384 feedforward_robust.py:890] Epoch: 0054    cost: 0.829785943 \n",
      "Accuracy on batch: 0.500000\n",
      "I0629 18:00:57.891146 4574504384 feedforward_robust.py:891] Accuracy on batch: 0.500000\n",
      "Epoch: 0055    cost: 0.798383355 \n",
      "I0629 18:00:57.983555 4574504384 feedforward_robust.py:890] Epoch: 0055    cost: 0.798383355 \n",
      "Accuracy on batch: 0.375000\n",
      "I0629 18:00:57.985136 4574504384 feedforward_robust.py:891] Accuracy on batch: 0.375000\n"
     ]
    },
    {
     "name": "stdout",
     "output_type": "stream",
     "text": [
      "iteration: 20\n",
      "loss 0.655290\n",
      "iteration: 40\n",
      "loss 0.668772\n",
      "iteration: 0\n",
      "loss 0.488073\n",
      "iteration: 20\n",
      "loss 0.622450\n",
      "iteration: 40\n",
      "loss 0.639150\n",
      "iteration: 0\n",
      "loss 0.480279\n",
      "iteration: 20\n",
      "loss 0.660378\n"
     ]
    },
    {
     "name": "stderr",
     "output_type": "stream",
     "text": [
      "Epoch: 0056    cost: 0.828076482 \n",
      "I0629 18:00:58.073770 4574504384 feedforward_robust.py:890] Epoch: 0056    cost: 0.828076482 \n",
      "Accuracy on batch: 0.375000\n",
      "I0629 18:00:58.074854 4574504384 feedforward_robust.py:891] Accuracy on batch: 0.375000\n",
      "Epoch: 0057    cost: 0.790382028 \n",
      "I0629 18:00:58.160011 4574504384 feedforward_robust.py:890] Epoch: 0057    cost: 0.790382028 \n",
      "Accuracy on batch: 0.500000\n",
      "I0629 18:00:58.161653 4574504384 feedforward_robust.py:891] Accuracy on batch: 0.500000\n",
      "Epoch: 0058    cost: 0.815860391 \n",
      "I0629 18:00:58.244772 4574504384 feedforward_robust.py:890] Epoch: 0058    cost: 0.815860391 \n",
      "Accuracy on batch: 0.375000\n",
      "I0629 18:00:58.246044 4574504384 feedforward_robust.py:891] Accuracy on batch: 0.375000\n"
     ]
    },
    {
     "name": "stdout",
     "output_type": "stream",
     "text": [
      "iteration: 40\n",
      "loss 0.668424\n",
      "iteration: 0\n",
      "loss 0.476833\n",
      "iteration: 20\n",
      "loss 0.606464\n",
      "iteration: 40\n",
      "loss 0.628346\n",
      "iteration: 0\n",
      "loss 0.474908\n",
      "iteration: 20\n",
      "loss 0.641953\n",
      "iteration: 40\n",
      "loss 0.655336\n"
     ]
    },
    {
     "name": "stderr",
     "output_type": "stream",
     "text": [
      "Epoch: 0059    cost: 0.780654252 \n",
      "I0629 18:00:58.338145 4574504384 feedforward_robust.py:890] Epoch: 0059    cost: 0.780654252 \n",
      "Accuracy on batch: 0.500000\n",
      "I0629 18:00:58.341619 4574504384 feedforward_robust.py:891] Accuracy on batch: 0.500000\n",
      "Epoch: 0060    cost: 0.766841888 \n",
      "I0629 18:00:58.437093 4574504384 feedforward_robust.py:890] Epoch: 0060    cost: 0.766841888 \n",
      "Accuracy on batch: 0.500000\n",
      "I0629 18:00:58.438431 4574504384 feedforward_robust.py:891] Accuracy on batch: 0.500000\n"
     ]
    },
    {
     "name": "stdout",
     "output_type": "stream",
     "text": [
      "iteration: 0\n",
      "loss 0.470511\n",
      "iteration: 20\n",
      "loss 0.613813\n",
      "iteration: 40\n",
      "loss 0.621005\n",
      "iteration: 0\n",
      "loss 0.467855\n",
      "iteration: 20\n",
      "loss 0.600468\n",
      "iteration: 40\n",
      "loss 0.608354\n",
      "iteration: 0\n",
      "loss 0.473977\n"
     ]
    },
    {
     "name": "stderr",
     "output_type": "stream",
     "text": [
      "Epoch: 0061    cost: 0.769058347 \n",
      "I0629 18:00:58.531765 4574504384 feedforward_robust.py:890] Epoch: 0061    cost: 0.769058347 \n",
      "Accuracy on batch: 0.500000\n",
      "I0629 18:00:58.533501 4574504384 feedforward_robust.py:891] Accuracy on batch: 0.500000\n",
      "Epoch: 0062    cost: 0.778824925 \n",
      "I0629 18:00:58.618904 4574504384 feedforward_robust.py:890] Epoch: 0062    cost: 0.778824925 \n",
      "Accuracy on batch: 0.500000\n",
      "I0629 18:00:58.620463 4574504384 feedforward_robust.py:891] Accuracy on batch: 0.500000\n"
     ]
    },
    {
     "name": "stdout",
     "output_type": "stream",
     "text": [
      "iteration: 20\n",
      "loss 0.598458\n",
      "iteration: 40\n",
      "loss 0.610358\n",
      "iteration: 0\n",
      "loss 0.464705\n",
      "iteration: 20\n",
      "loss 0.606336\n",
      "iteration: 40\n",
      "loss 0.619874\n",
      "iteration: 0\n",
      "loss 0.460919\n",
      "iteration: 20\n",
      "loss 0.587326\n"
     ]
    },
    {
     "name": "stderr",
     "output_type": "stream",
     "text": [
      "Epoch: 0063    cost: 0.750375092 \n",
      "I0629 18:00:58.727766 4574504384 feedforward_robust.py:890] Epoch: 0063    cost: 0.750375092 \n",
      "Accuracy on batch: 0.625000\n",
      "I0629 18:00:58.729660 4574504384 feedforward_robust.py:891] Accuracy on batch: 0.625000\n",
      "Epoch: 0064    cost: 0.755568445 \n",
      "I0629 18:00:58.823311 4574504384 feedforward_robust.py:890] Epoch: 0064    cost: 0.755568445 \n",
      "Accuracy on batch: 0.500000\n",
      "I0629 18:00:58.824637 4574504384 feedforward_robust.py:891] Accuracy on batch: 0.500000\n"
     ]
    },
    {
     "name": "stdout",
     "output_type": "stream",
     "text": [
      "iteration: 40\n",
      "loss 0.592635\n",
      "iteration: 0\n",
      "loss 0.468494\n",
      "iteration: 20\n",
      "loss 0.592286\n",
      "iteration: 40\n",
      "loss 0.596191\n",
      "iteration: 0\n",
      "loss 0.453795\n",
      "iteration: 20\n",
      "loss 0.569769\n",
      "iteration: 40\n",
      "loss 0.574382\n"
     ]
    },
    {
     "name": "stderr",
     "output_type": "stream",
     "text": [
      "Epoch: 0065    cost: 0.733051419 \n",
      "I0629 18:00:58.918202 4574504384 feedforward_robust.py:890] Epoch: 0065    cost: 0.733051419 \n",
      "Accuracy on batch: 0.750000\n",
      "I0629 18:00:58.919482 4574504384 feedforward_robust.py:891] Accuracy on batch: 0.750000\n",
      "Epoch: 0066    cost: 0.787605047 \n",
      "I0629 18:00:59.003030 4574504384 feedforward_robust.py:890] Epoch: 0066    cost: 0.787605047 \n",
      "Accuracy on batch: 0.500000\n",
      "I0629 18:00:59.004399 4574504384 feedforward_robust.py:891] Accuracy on batch: 0.500000\n",
      "Epoch: 0067    cost: 0.724128246 \n",
      "I0629 18:00:59.088602 4574504384 feedforward_robust.py:890] Epoch: 0067    cost: 0.724128246 \n",
      "Accuracy on batch: 0.750000\n",
      "I0629 18:00:59.090240 4574504384 feedforward_robust.py:891] Accuracy on batch: 0.750000\n"
     ]
    },
    {
     "name": "stdout",
     "output_type": "stream",
     "text": [
      "iteration: 0\n",
      "loss 0.451992\n",
      "iteration: 20\n",
      "loss 0.620435\n",
      "iteration: 40\n",
      "loss 0.629152\n",
      "iteration: 0\n",
      "loss 0.441299\n",
      "iteration: 20\n",
      "loss 0.561309\n",
      "iteration: 40\n",
      "loss 0.566072\n",
      "iteration: 0\n",
      "loss 0.445468\n",
      "iteration: 20\n",
      "loss 0.574346\n"
     ]
    },
    {
     "name": "stderr",
     "output_type": "stream",
     "text": [
      "Epoch: 0068    cost: 0.742815733 \n",
      "I0629 18:00:59.188668 4574504384 feedforward_robust.py:890] Epoch: 0068    cost: 0.742815733 \n",
      "Accuracy on batch: 0.500000\n",
      "I0629 18:00:59.190732 4574504384 feedforward_robust.py:891] Accuracy on batch: 0.500000\n",
      "Epoch: 0069    cost: 0.755923927 \n",
      "I0629 18:00:59.286439 4574504384 feedforward_robust.py:890] Epoch: 0069    cost: 0.755923927 \n",
      "Accuracy on batch: 0.625000\n",
      "I0629 18:00:59.287832 4574504384 feedforward_robust.py:891] Accuracy on batch: 0.625000\n"
     ]
    },
    {
     "name": "stdout",
     "output_type": "stream",
     "text": [
      "iteration: 40\n",
      "loss 0.585096\n",
      "iteration: 0\n",
      "loss 0.434195\n",
      "iteration: 20\n",
      "loss 0.591339\n",
      "iteration: 40\n",
      "loss 0.597752\n",
      "iteration: 0\n",
      "loss 0.435996\n",
      "iteration: 20\n",
      "loss 0.599416\n",
      "iteration: 40\n",
      "loss 0.616095\n"
     ]
    },
    {
     "name": "stderr",
     "output_type": "stream",
     "text": [
      "Epoch: 0070    cost: 0.773892939 \n",
      "I0629 18:00:59.388087 4574504384 feedforward_robust.py:890] Epoch: 0070    cost: 0.773892939 \n",
      "Accuracy on batch: 0.625000\n",
      "I0629 18:00:59.389642 4574504384 feedforward_robust.py:891] Accuracy on batch: 0.625000\n",
      "Epoch: 0071    cost: 0.719547391 \n",
      "I0629 18:00:59.486768 4574504384 feedforward_robust.py:890] Epoch: 0071    cost: 0.719547391 \n",
      "Accuracy on batch: 0.625000\n",
      "I0629 18:00:59.488069 4574504384 feedforward_robust.py:891] Accuracy on batch: 0.625000\n",
      "Epoch: 0072    cost: 0.751669109 \n",
      "I0629 18:00:59.574232 4574504384 feedforward_robust.py:890] Epoch: 0072    cost: 0.751669109 \n",
      "Accuracy on batch: 0.625000\n",
      "I0629 18:00:59.575760 4574504384 feedforward_robust.py:891] Accuracy on batch: 0.625000\n"
     ]
    },
    {
     "name": "stdout",
     "output_type": "stream",
     "text": [
      "iteration: 0\n",
      "loss 0.432012\n",
      "iteration: 20\n",
      "loss 0.557426\n",
      "iteration: 40\n",
      "loss 0.561737\n",
      "iteration: 0\n",
      "loss 0.436959\n",
      "iteration: 20\n",
      "loss 0.560143\n",
      "iteration: 40\n",
      "loss 0.592668\n",
      "iteration: 0\n",
      "loss 0.434700\n"
     ]
    },
    {
     "name": "stderr",
     "output_type": "stream",
     "text": [
      "Epoch: 0073    cost: 0.750036180 \n",
      "I0629 18:00:59.667889 4574504384 feedforward_robust.py:890] Epoch: 0073    cost: 0.750036180 \n",
      "Accuracy on batch: 0.625000\n",
      "I0629 18:00:59.669221 4574504384 feedforward_robust.py:891] Accuracy on batch: 0.625000\n",
      "Epoch: 0074    cost: 0.697029591 \n",
      "I0629 18:00:59.755941 4574504384 feedforward_robust.py:890] Epoch: 0074    cost: 0.697029591 \n",
      "Accuracy on batch: 0.875000\n",
      "I0629 18:00:59.757220 4574504384 feedforward_robust.py:891] Accuracy on batch: 0.875000\n"
     ]
    },
    {
     "name": "stdout",
     "output_type": "stream",
     "text": [
      "iteration: 20\n",
      "loss 0.583397\n",
      "iteration: 40\n",
      "loss 0.591422\n",
      "iteration: 0\n",
      "loss 0.430995\n",
      "iteration: 20\n",
      "loss 0.537280\n",
      "iteration: 40\n",
      "loss 0.539209\n",
      "iteration: 0\n",
      "loss 0.426537\n",
      "iteration: 20\n",
      "loss 0.565966\n",
      "iteration: 40\n",
      "loss 0.573136\n"
     ]
    },
    {
     "name": "stderr",
     "output_type": "stream",
     "text": [
      "Epoch: 0075    cost: 0.729978085 \n",
      "I0629 18:00:59.847930 4574504384 feedforward_robust.py:890] Epoch: 0075    cost: 0.729978085 \n",
      "Accuracy on batch: 0.750000\n",
      "I0629 18:00:59.849428 4574504384 feedforward_robust.py:891] Accuracy on batch: 0.750000\n",
      "Epoch: 0076    cost: 0.690321386 \n",
      "I0629 18:00:59.930415 4574504384 feedforward_robust.py:890] Epoch: 0076    cost: 0.690321386 \n",
      "Accuracy on batch: 0.875000\n",
      "I0629 18:00:59.931697 4574504384 feedforward_robust.py:891] Accuracy on batch: 0.875000\n",
      "Epoch: 0077    cost: 0.700702190 \n",
      "I0629 18:01:00.013180 4574504384 feedforward_robust.py:890] Epoch: 0077    cost: 0.700702190 \n",
      "Accuracy on batch: 0.750000\n",
      "I0629 18:01:00.014527 4574504384 feedforward_robust.py:891] Accuracy on batch: 0.750000\n"
     ]
    },
    {
     "name": "stdout",
     "output_type": "stream",
     "text": [
      "iteration: 0\n",
      "loss 0.422523\n",
      "iteration: 20\n",
      "loss 0.530994\n",
      "iteration: 40\n",
      "loss 0.533221\n",
      "iteration: 0\n",
      "loss 0.415464\n",
      "iteration: 20\n",
      "loss 0.531166\n",
      "iteration: 40\n",
      "loss 0.543010\n",
      "iteration: 0\n",
      "loss 0.416952\n",
      "iteration: 20\n",
      "loss 0.545758\n"
     ]
    },
    {
     "name": "stderr",
     "output_type": "stream",
     "text": [
      "Epoch: 0078    cost: 0.731708646 \n",
      "I0629 18:01:00.114109 4574504384 feedforward_robust.py:890] Epoch: 0078    cost: 0.731708646 \n",
      "Accuracy on batch: 0.625000\n",
      "I0629 18:01:00.115413 4574504384 feedforward_robust.py:891] Accuracy on batch: 0.625000\n",
      "Epoch: 0079    cost: 0.698014140 \n",
      "I0629 18:01:00.198750 4574504384 feedforward_robust.py:890] Epoch: 0079    cost: 0.698014140 \n",
      "Accuracy on batch: 0.750000\n",
      "I0629 18:01:00.200150 4574504384 feedforward_robust.py:891] Accuracy on batch: 0.750000\n",
      "Epoch: 0080    cost: 0.706183970 \n",
      "I0629 18:01:00.284047 4574504384 feedforward_robust.py:890] Epoch: 0080    cost: 0.706183970 \n",
      "Accuracy on batch: 0.750000\n",
      "I0629 18:01:00.285157 4574504384 feedforward_robust.py:891] Accuracy on batch: 0.750000\n"
     ]
    },
    {
     "name": "stdout",
     "output_type": "stream",
     "text": [
      "iteration: 40\n",
      "loss 0.570514\n",
      "iteration: 0\n",
      "loss 0.411712\n",
      "iteration: 20\n",
      "loss 0.516058\n",
      "iteration: 40\n",
      "loss 0.533614\n",
      "iteration: 0\n",
      "loss 0.410169\n",
      "iteration: 20\n",
      "loss 0.527549\n",
      "iteration: 40\n",
      "loss 0.546552\n"
     ]
    },
    {
     "name": "stderr",
     "output_type": "stream",
     "text": [
      "Epoch: 0081    cost: 0.712342560 \n",
      "I0629 18:01:00.368809 4574504384 feedforward_robust.py:890] Epoch: 0081    cost: 0.712342560 \n",
      "Accuracy on batch: 0.500000\n",
      "I0629 18:01:00.370124 4574504384 feedforward_robust.py:891] Accuracy on batch: 0.500000\n",
      "Epoch: 0082    cost: 0.698319077 \n",
      "I0629 18:01:00.454970 4574504384 feedforward_robust.py:890] Epoch: 0082    cost: 0.698319077 \n",
      "Accuracy on batch: 0.750000\n",
      "I0629 18:01:00.456146 4574504384 feedforward_robust.py:891] Accuracy on batch: 0.750000\n"
     ]
    },
    {
     "name": "stdout",
     "output_type": "stream",
     "text": [
      "iteration: 0\n",
      "loss 0.413235\n",
      "iteration: 20\n",
      "loss 0.552294\n",
      "iteration: 40\n",
      "loss 0.554889\n",
      "iteration: 0\n",
      "loss 0.400828\n",
      "iteration: 20\n",
      "loss 0.530498\n",
      "iteration: 40\n",
      "loss 0.540986\n",
      "iteration: 0\n",
      "loss 0.400208\n",
      "iteration: 20\n",
      "loss 0.521208\n"
     ]
    },
    {
     "name": "stderr",
     "output_type": "stream",
     "text": [
      "Epoch: 0083    cost: 0.686727762 \n",
      "I0629 18:01:00.541399 4574504384 feedforward_robust.py:890] Epoch: 0083    cost: 0.686727762 \n",
      "Accuracy on batch: 0.750000\n",
      "I0629 18:01:00.542614 4574504384 feedforward_robust.py:891] Accuracy on batch: 0.750000\n",
      "Epoch: 0084    cost: 0.675262094 \n",
      "I0629 18:01:00.625639 4574504384 feedforward_robust.py:890] Epoch: 0084    cost: 0.675262094 \n",
      "Accuracy on batch: 0.875000\n",
      "I0629 18:01:00.627121 4574504384 feedforward_robust.py:891] Accuracy on batch: 0.875000\n",
      "Epoch: 0085    cost: 0.687765539 \n",
      "I0629 18:01:00.710426 4574504384 feedforward_robust.py:890] Epoch: 0085    cost: 0.687765539 \n",
      "Accuracy on batch: 0.750000\n",
      "I0629 18:01:00.711835 4574504384 feedforward_robust.py:891] Accuracy on batch: 0.750000\n"
     ]
    },
    {
     "name": "stdout",
     "output_type": "stream",
     "text": [
      "iteration: 40\n",
      "loss 0.525839\n",
      "iteration: 0\n",
      "loss 0.390799\n",
      "iteration: 20\n",
      "loss 0.511988\n",
      "iteration: 40\n",
      "loss 0.517652\n",
      "iteration: 0\n",
      "loss 0.397778\n",
      "iteration: 20\n",
      "loss 0.521809\n",
      "iteration: 40\n",
      "loss 0.530674\n"
     ]
    },
    {
     "name": "stderr",
     "output_type": "stream",
     "text": [
      "Epoch: 0086    cost: 0.676823378 \n",
      "I0629 18:01:00.794914 4574504384 feedforward_robust.py:890] Epoch: 0086    cost: 0.676823378 \n",
      "Accuracy on batch: 0.750000\n",
      "I0629 18:01:00.796027 4574504384 feedforward_robust.py:891] Accuracy on batch: 0.750000\n",
      "Epoch: 0087    cost: 0.671791673 \n",
      "I0629 18:01:00.882119 4574504384 feedforward_robust.py:890] Epoch: 0087    cost: 0.671791673 \n",
      "Accuracy on batch: 0.875000\n",
      "I0629 18:01:00.883234 4574504384 feedforward_robust.py:891] Accuracy on batch: 0.875000\n"
     ]
    },
    {
     "name": "stdout",
     "output_type": "stream",
     "text": [
      "iteration: 0\n",
      "loss 0.393479\n",
      "iteration: 20\n",
      "loss 0.507071\n",
      "iteration: 40\n",
      "loss 0.519355\n",
      "iteration: 0\n",
      "loss 0.391765\n",
      "iteration: 20\n",
      "loss 0.500605\n",
      "iteration: 40\n",
      "loss 0.512710\n",
      "iteration: 0\n",
      "loss 0.394442\n",
      "iteration: 20\n",
      "loss 0.520450\n"
     ]
    },
    {
     "name": "stderr",
     "output_type": "stream",
     "text": [
      "Epoch: 0088    cost: 0.687000334 \n",
      "I0629 18:01:00.982475 4574504384 feedforward_robust.py:890] Epoch: 0088    cost: 0.687000334 \n",
      "Accuracy on batch: 0.625000\n",
      "I0629 18:01:00.984151 4574504384 feedforward_robust.py:891] Accuracy on batch: 0.625000\n",
      "Epoch: 0089    cost: 0.679620683 \n",
      "I0629 18:01:01.082182 4574504384 feedforward_robust.py:890] Epoch: 0089    cost: 0.679620683 \n",
      "Accuracy on batch: 0.750000\n",
      "I0629 18:01:01.083450 4574504384 feedforward_robust.py:891] Accuracy on batch: 0.750000\n"
     ]
    },
    {
     "name": "stdout",
     "output_type": "stream",
     "text": [
      "iteration: 40\n",
      "loss 0.528130\n",
      "iteration: 0\n",
      "loss 0.379410\n",
      "iteration: 20\n",
      "loss 0.509285\n",
      "iteration: 40\n",
      "loss 0.521377\n",
      "iteration: 0\n",
      "loss 0.376502\n",
      "iteration: 20\n",
      "loss 0.492250\n",
      "iteration: 40\n",
      "loss 0.497508\n"
     ]
    },
    {
     "name": "stderr",
     "output_type": "stream",
     "text": [
      "Epoch: 0090    cost: 0.653944194 \n",
      "I0629 18:01:01.172554 4574504384 feedforward_robust.py:890] Epoch: 0090    cost: 0.653944194 \n",
      "Accuracy on batch: 1.000000\n",
      "I0629 18:01:01.174221 4574504384 feedforward_robust.py:891] Accuracy on batch: 1.000000\n",
      "Epoch: 0091    cost: 0.660644770 \n",
      "I0629 18:01:01.260208 4574504384 feedforward_robust.py:890] Epoch: 0091    cost: 0.660644770 \n",
      "Accuracy on batch: 1.000000\n",
      "I0629 18:01:01.261488 4574504384 feedforward_robust.py:891] Accuracy on batch: 1.000000\n",
      "Epoch: 0092    cost: 0.658915937 \n",
      "I0629 18:01:01.344613 4574504384 feedforward_robust.py:890] Epoch: 0092    cost: 0.658915937 \n",
      "Accuracy on batch: 0.875000\n",
      "I0629 18:01:01.345916 4574504384 feedforward_robust.py:891] Accuracy on batch: 0.875000\n"
     ]
    },
    {
     "name": "stdout",
     "output_type": "stream",
     "text": [
      "iteration: 0\n",
      "loss 0.382895\n",
      "iteration: 20\n",
      "loss 0.498203\n",
      "iteration: 40\n",
      "loss 0.504294\n",
      "iteration: 0\n",
      "loss 0.370568\n",
      "iteration: 20\n",
      "loss 0.479410\n",
      "iteration: 40\n",
      "loss 0.495290\n",
      "iteration: 0\n",
      "loss 0.378583\n",
      "iteration: 20\n",
      "loss 0.495000\n"
     ]
    },
    {
     "name": "stderr",
     "output_type": "stream",
     "text": [
      "Epoch: 0093    cost: 0.659810662 \n",
      "I0629 18:01:01.430464 4574504384 feedforward_robust.py:890] Epoch: 0093    cost: 0.659810662 \n",
      "Accuracy on batch: 0.750000\n",
      "I0629 18:01:01.431564 4574504384 feedforward_robust.py:891] Accuracy on batch: 0.750000\n",
      "Epoch: 0094    cost: 0.673248649 \n",
      "I0629 18:01:01.515676 4574504384 feedforward_robust.py:890] Epoch: 0094    cost: 0.673248649 \n",
      "Accuracy on batch: 0.750000\n",
      "I0629 18:01:01.516865 4574504384 feedforward_robust.py:891] Accuracy on batch: 0.750000\n",
      "Epoch: 0095    cost: 0.643102229 \n",
      "I0629 18:01:01.600003 4574504384 feedforward_robust.py:890] Epoch: 0095    cost: 0.643102229 \n",
      "Accuracy on batch: 1.000000\n",
      "I0629 18:01:01.601369 4574504384 feedforward_robust.py:891] Accuracy on batch: 1.000000\n"
     ]
    },
    {
     "name": "stdout",
     "output_type": "stream",
     "text": [
      "iteration: 40\n",
      "loss 0.502095\n",
      "iteration: 0\n",
      "loss 0.368832\n",
      "iteration: 20\n",
      "loss 0.505502\n",
      "iteration: 40\n",
      "loss 0.516848\n",
      "iteration: 0\n",
      "loss 0.372818\n",
      "iteration: 20\n",
      "loss 0.482107\n",
      "iteration: 40\n",
      "loss 0.486686\n"
     ]
    },
    {
     "name": "stderr",
     "output_type": "stream",
     "text": [
      "Epoch: 0096    cost: 0.648503125 \n",
      "I0629 18:01:01.684135 4574504384 feedforward_robust.py:890] Epoch: 0096    cost: 0.648503125 \n",
      "Accuracy on batch: 0.875000\n",
      "I0629 18:01:01.685343 4574504384 feedforward_robust.py:891] Accuracy on batch: 0.875000\n",
      "Epoch: 0097    cost: 0.643026829 \n",
      "I0629 18:01:01.772958 4574504384 feedforward_robust.py:890] Epoch: 0097    cost: 0.643026829 \n",
      "Accuracy on batch: 0.875000\n",
      "I0629 18:01:01.774444 4574504384 feedforward_robust.py:891] Accuracy on batch: 0.875000\n"
     ]
    },
    {
     "name": "stdout",
     "output_type": "stream",
     "text": [
      "iteration: 0\n",
      "loss 0.364311\n",
      "iteration: 20\n",
      "loss 0.486853\n",
      "iteration: 40\n",
      "loss 0.492401\n",
      "iteration: 0\n",
      "loss 0.364812\n",
      "iteration: 20\n",
      "loss 0.483355\n",
      "iteration: 40\n",
      "loss 0.486184\n",
      "iteration: 0\n",
      "loss 0.356686\n",
      "iteration: 20\n",
      "loss 0.469970\n"
     ]
    },
    {
     "name": "stderr",
     "output_type": "stream",
     "text": [
      "Epoch: 0098    cost: 0.631783068 \n",
      "I0629 18:01:01.861258 4574504384 feedforward_robust.py:890] Epoch: 0098    cost: 0.631783068 \n",
      "Accuracy on batch: 0.875000\n",
      "I0629 18:01:01.862725 4574504384 feedforward_robust.py:891] Accuracy on batch: 0.875000\n",
      "Epoch: 0099    cost: 0.623470426 \n",
      "I0629 18:01:01.948449 4574504384 feedforward_robust.py:890] Epoch: 0099    cost: 0.623470426 \n",
      "Accuracy on batch: 0.875000\n",
      "I0629 18:01:01.949807 4574504384 feedforward_robust.py:891] Accuracy on batch: 0.875000\n",
      "Epoch: 0100    cost: 0.614939332 \n",
      "I0629 18:01:02.030373 4574504384 feedforward_robust.py:890] Epoch: 0100    cost: 0.614939332 \n",
      "Accuracy on batch: 1.000000\n",
      "I0629 18:01:02.031650 4574504384 feedforward_robust.py:891] Accuracy on batch: 1.000000\n"
     ]
    },
    {
     "name": "stdout",
     "output_type": "stream",
     "text": [
      "iteration: 40\n",
      "loss 0.475234\n",
      "iteration: 0\n",
      "loss 0.358441\n",
      "iteration: 20\n",
      "loss 0.464433\n",
      "iteration: 40\n",
      "loss 0.467432\n",
      "iteration: 0\n",
      "loss 0.358373\n",
      "iteration: 20\n",
      "loss 0.458064\n",
      "iteration: 40\n",
      "loss 0.459700\n"
     ]
    },
    {
     "name": "stderr",
     "output_type": "stream",
     "text": [
      "Epoch: 0101    cost: 0.613773704 \n",
      "I0629 18:01:02.113701 4574504384 feedforward_robust.py:890] Epoch: 0101    cost: 0.613773704 \n",
      "Accuracy on batch: 1.000000\n",
      "I0629 18:01:02.115036 4574504384 feedforward_robust.py:891] Accuracy on batch: 1.000000\n",
      "Epoch: 0102    cost: 0.615530312 \n",
      "I0629 18:01:02.197439 4574504384 feedforward_robust.py:890] Epoch: 0102    cost: 0.615530312 \n",
      "Accuracy on batch: 0.875000\n",
      "I0629 18:01:02.198784 4574504384 feedforward_robust.py:891] Accuracy on batch: 0.875000\n"
     ]
    },
    {
     "name": "stdout",
     "output_type": "stream",
     "text": [
      "iteration: 0\n",
      "loss 0.354795\n",
      "iteration: 20\n",
      "loss 0.454472\n",
      "iteration: 40\n",
      "loss 0.457601\n",
      "iteration: 0\n",
      "loss 0.351091\n",
      "iteration: 20\n",
      "loss 0.456440\n",
      "iteration: 40\n",
      "loss 0.459306\n",
      "iteration: 0\n",
      "loss 0.343429\n",
      "iteration: 20\n",
      "loss 0.453215\n"
     ]
    },
    {
     "name": "stderr",
     "output_type": "stream",
     "text": [
      "Epoch: 0103    cost: 0.611073017 \n",
      "I0629 18:01:02.288307 4574504384 feedforward_robust.py:890] Epoch: 0103    cost: 0.611073017 \n",
      "Accuracy on batch: 0.875000\n",
      "I0629 18:01:02.289438 4574504384 feedforward_robust.py:891] Accuracy on batch: 0.875000\n",
      "Epoch: 0104    cost: 0.608981133 \n",
      "I0629 18:01:02.370927 4574504384 feedforward_robust.py:890] Epoch: 0104    cost: 0.608981133 \n",
      "Accuracy on batch: 0.875000\n",
      "I0629 18:01:02.372443 4574504384 feedforward_robust.py:891] Accuracy on batch: 0.875000\n",
      "Epoch: 0105    cost: 0.608839631 \n",
      "I0629 18:01:02.455557 4574504384 feedforward_robust.py:890] Epoch: 0105    cost: 0.608839631 \n",
      "Accuracy on batch: 0.875000\n",
      "I0629 18:01:02.457230 4574504384 feedforward_robust.py:891] Accuracy on batch: 0.875000\n"
     ]
    },
    {
     "name": "stdout",
     "output_type": "stream",
     "text": [
      "iteration: 40\n",
      "loss 0.455204\n",
      "iteration: 0\n",
      "loss 0.346304\n",
      "iteration: 20\n",
      "loss 0.450077\n",
      "iteration: 40\n",
      "loss 0.453801\n",
      "iteration: 0\n",
      "loss 0.344426\n",
      "iteration: 20\n",
      "loss 0.451381\n",
      "iteration: 40\n",
      "loss 0.453751\n"
     ]
    },
    {
     "name": "stderr",
     "output_type": "stream",
     "text": [
      "Epoch: 0106    cost: 0.609877288 \n",
      "I0629 18:01:02.545140 4574504384 feedforward_robust.py:890] Epoch: 0106    cost: 0.609877288 \n",
      "Accuracy on batch: 0.875000\n",
      "I0629 18:01:02.546499 4574504384 feedforward_robust.py:891] Accuracy on batch: 0.875000\n",
      "Epoch: 0107    cost: 0.595116258 \n",
      "I0629 18:01:02.629025 4574504384 feedforward_robust.py:890] Epoch: 0107    cost: 0.595116258 \n",
      "Accuracy on batch: 1.000000\n",
      "I0629 18:01:02.630297 4574504384 feedforward_robust.py:891] Accuracy on batch: 1.000000\n"
     ]
    },
    {
     "name": "stdout",
     "output_type": "stream",
     "text": [
      "iteration: 0\n",
      "loss 0.336637\n",
      "iteration: 20\n",
      "loss 0.450499\n",
      "iteration: 40\n",
      "loss 0.455252\n",
      "iteration: 0\n",
      "loss 0.337238\n",
      "iteration: 20\n",
      "loss 0.438537\n",
      "iteration: 40\n",
      "loss 0.440551\n",
      "iteration: 0\n",
      "loss 0.337582\n",
      "iteration: 20\n",
      "loss 0.441101\n"
     ]
    },
    {
     "name": "stderr",
     "output_type": "stream",
     "text": [
      "Epoch: 0108    cost: 0.618264437 \n",
      "I0629 18:01:02.715727 4574504384 feedforward_robust.py:890] Epoch: 0108    cost: 0.618264437 \n",
      "Accuracy on batch: 0.750000\n",
      "I0629 18:01:02.717540 4574504384 feedforward_robust.py:891] Accuracy on batch: 0.750000\n",
      "Epoch: 0109    cost: 0.601221144 \n",
      "I0629 18:01:02.801022 4574504384 feedforward_robust.py:890] Epoch: 0109    cost: 0.601221144 \n",
      "Accuracy on batch: 1.000000\n",
      "I0629 18:01:02.802239 4574504384 feedforward_robust.py:891] Accuracy on batch: 1.000000\n",
      "Epoch: 0110    cost: 0.599909365 \n",
      "I0629 18:01:02.885418 4574504384 feedforward_robust.py:890] Epoch: 0110    cost: 0.599909365 \n",
      "Accuracy on batch: 1.000000\n",
      "I0629 18:01:02.886945 4574504384 feedforward_robust.py:891] Accuracy on batch: 1.000000\n"
     ]
    },
    {
     "name": "stdout",
     "output_type": "stream",
     "text": [
      "iteration: 40\n",
      "loss 0.457126\n",
      "iteration: 0\n",
      "loss 0.325467\n",
      "iteration: 20\n",
      "loss 0.442733\n",
      "iteration: 40\n",
      "loss 0.445227\n",
      "iteration: 0\n",
      "loss 0.328083\n",
      "iteration: 20\n",
      "loss 0.432703\n",
      "iteration: 40\n",
      "loss 0.439329\n"
     ]
    },
    {
     "name": "stderr",
     "output_type": "stream",
     "text": [
      "Epoch: 0111    cost: 0.583832920 \n",
      "I0629 18:01:02.975717 4574504384 feedforward_robust.py:890] Epoch: 0111    cost: 0.583832920 \n",
      "Accuracy on batch: 1.000000\n",
      "I0629 18:01:02.977369 4574504384 feedforward_robust.py:891] Accuracy on batch: 1.000000\n",
      "Epoch: 0112    cost: 0.593077064 \n",
      "I0629 18:01:03.060204 4574504384 feedforward_robust.py:890] Epoch: 0112    cost: 0.593077064 \n",
      "Accuracy on batch: 0.875000\n",
      "I0629 18:01:03.061487 4574504384 feedforward_robust.py:891] Accuracy on batch: 0.875000\n"
     ]
    },
    {
     "name": "stdout",
     "output_type": "stream",
     "text": [
      "iteration: 0\n",
      "loss 0.321003\n",
      "iteration: 20\n",
      "loss 0.424323\n",
      "iteration: 40\n",
      "loss 0.428446\n",
      "iteration: 0\n",
      "loss 0.319659\n",
      "iteration: 20\n",
      "loss 0.428042\n",
      "iteration: 40\n",
      "loss 0.435187\n",
      "iteration: 0\n",
      "loss 0.319387\n",
      "iteration: 20\n",
      "loss 0.435053\n"
     ]
    },
    {
     "name": "stderr",
     "output_type": "stream",
     "text": [
      "Epoch: 0113    cost: 0.596142650 \n",
      "I0629 18:01:03.151691 4574504384 feedforward_robust.py:890] Epoch: 0113    cost: 0.596142650 \n",
      "Accuracy on batch: 0.875000\n",
      "I0629 18:01:03.152971 4574504384 feedforward_robust.py:891] Accuracy on batch: 0.875000\n",
      "Epoch: 0114    cost: 0.597613931 \n",
      "I0629 18:01:03.238548 4574504384 feedforward_robust.py:890] Epoch: 0114    cost: 0.597613931 \n",
      "Accuracy on batch: 0.750000\n",
      "I0629 18:01:03.240084 4574504384 feedforward_robust.py:891] Accuracy on batch: 0.750000\n",
      "Epoch: 0115    cost: 0.587507248 \n",
      "I0629 18:01:03.323709 4574504384 feedforward_robust.py:890] Epoch: 0115    cost: 0.587507248 \n",
      "Accuracy on batch: 0.875000\n",
      "I0629 18:01:03.325063 4574504384 feedforward_robust.py:891] Accuracy on batch: 0.875000\n"
     ]
    },
    {
     "name": "stdout",
     "output_type": "stream",
     "text": [
      "iteration: 40\n",
      "loss 0.440700\n",
      "iteration: 0\n",
      "loss 0.317499\n",
      "iteration: 20\n",
      "loss 0.438758\n",
      "iteration: 40\n",
      "loss 0.442449\n",
      "iteration: 0\n",
      "loss 0.312194\n",
      "iteration: 20\n",
      "loss 0.422135\n",
      "iteration: 40\n",
      "loss 0.430229\n"
     ]
    },
    {
     "name": "stderr",
     "output_type": "stream",
     "text": [
      "Epoch: 0116    cost: 0.585175276 \n",
      "I0629 18:01:03.408703 4574504384 feedforward_robust.py:890] Epoch: 0116    cost: 0.585175276 \n",
      "Accuracy on batch: 0.875000\n",
      "I0629 18:01:03.410200 4574504384 feedforward_robust.py:891] Accuracy on batch: 0.875000\n",
      "Epoch: 0117    cost: 0.576873660 \n",
      "I0629 18:01:03.496803 4574504384 feedforward_robust.py:890] Epoch: 0117    cost: 0.576873660 \n",
      "Accuracy on batch: 0.875000\n",
      "I0629 18:01:03.498041 4574504384 feedforward_robust.py:891] Accuracy on batch: 0.875000\n"
     ]
    },
    {
     "name": "stdout",
     "output_type": "stream",
     "text": [
      "iteration: 0\n",
      "loss 0.314280\n",
      "iteration: 20\n",
      "loss 0.425816\n",
      "iteration: 40\n",
      "loss 0.429841\n",
      "iteration: 0\n",
      "loss 0.305685\n",
      "iteration: 20\n",
      "loss 0.419368\n",
      "iteration: 40\n",
      "loss 0.421959\n",
      "iteration: 0\n",
      "loss 0.308731\n",
      "iteration: 20\n",
      "loss 0.418747\n"
     ]
    },
    {
     "name": "stderr",
     "output_type": "stream",
     "text": [
      "Epoch: 0118    cost: 0.577894330 \n",
      "I0629 18:01:03.584688 4574504384 feedforward_robust.py:890] Epoch: 0118    cost: 0.577894330 \n",
      "Accuracy on batch: 0.875000\n",
      "I0629 18:01:03.586158 4574504384 feedforward_robust.py:891] Accuracy on batch: 0.875000\n",
      "Epoch: 0119    cost: 0.606968582 \n",
      "I0629 18:01:03.668996 4574504384 feedforward_robust.py:890] Epoch: 0119    cost: 0.606968582 \n",
      "Accuracy on batch: 0.875000\n",
      "I0629 18:01:03.670451 4574504384 feedforward_robust.py:891] Accuracy on batch: 0.875000\n",
      "Epoch: 0120    cost: 0.562075675 \n",
      "I0629 18:01:03.753754 4574504384 feedforward_robust.py:890] Epoch: 0120    cost: 0.562075675 \n",
      "Accuracy on batch: 1.000000\n",
      "I0629 18:01:03.755267 4574504384 feedforward_robust.py:891] Accuracy on batch: 1.000000\n"
     ]
    },
    {
     "name": "stdout",
     "output_type": "stream",
     "text": [
      "iteration: 40\n",
      "loss 0.422789\n",
      "iteration: 0\n",
      "loss 0.310412\n",
      "iteration: 20\n",
      "loss 0.442663\n",
      "iteration: 40\n",
      "loss 0.451638\n",
      "iteration: 0\n",
      "loss 0.304837\n",
      "iteration: 20\n",
      "loss 0.403542\n",
      "iteration: 40\n",
      "loss 0.406264\n"
     ]
    },
    {
     "name": "stderr",
     "output_type": "stream",
     "text": [
      "Epoch: 0121    cost: 0.598079860 \n",
      "I0629 18:01:03.841297 4574504384 feedforward_robust.py:890] Epoch: 0121    cost: 0.598079860 \n",
      "Accuracy on batch: 0.875000\n",
      "I0629 18:01:03.842800 4574504384 feedforward_robust.py:891] Accuracy on batch: 0.875000\n",
      "Epoch: 0122    cost: 0.556395769 \n",
      "I0629 18:01:03.928918 4574504384 feedforward_robust.py:890] Epoch: 0122    cost: 0.556395769 \n",
      "Accuracy on batch: 1.000000\n",
      "I0629 18:01:03.931933 4574504384 feedforward_robust.py:891] Accuracy on batch: 1.000000\n"
     ]
    },
    {
     "name": "stdout",
     "output_type": "stream",
     "text": [
      "iteration: 0\n",
      "loss 0.291983\n",
      "iteration: 20\n",
      "loss 0.408410\n",
      "iteration: 40\n",
      "loss 0.430944\n",
      "iteration: 0\n",
      "loss 0.290966\n",
      "iteration: 20\n",
      "loss 0.399727\n",
      "iteration: 40\n",
      "loss 0.401580\n",
      "iteration: 0\n",
      "loss 0.298138\n"
     ]
    },
    {
     "name": "stderr",
     "output_type": "stream",
     "text": [
      "Epoch: 0123    cost: 0.590716958 \n",
      "I0629 18:01:04.033765 4574504384 feedforward_robust.py:890] Epoch: 0123    cost: 0.590716958 \n",
      "Accuracy on batch: 0.875000\n",
      "I0629 18:01:04.035269 4574504384 feedforward_robust.py:891] Accuracy on batch: 0.875000\n",
      "Epoch: 0124    cost: 0.556104064 \n",
      "I0629 18:01:04.115461 4574504384 feedforward_robust.py:890] Epoch: 0124    cost: 0.556104064 \n",
      "Accuracy on batch: 1.000000\n",
      "I0629 18:01:04.117005 4574504384 feedforward_robust.py:891] Accuracy on batch: 1.000000\n"
     ]
    },
    {
     "name": "stdout",
     "output_type": "stream",
     "text": [
      "iteration: 20\n",
      "loss 0.401905\n",
      "iteration: 40\n",
      "loss 0.424332\n",
      "iteration: 0\n",
      "loss 0.286766\n",
      "iteration: 20\n",
      "loss 0.396536\n",
      "iteration: 40\n",
      "loss 0.400449\n",
      "iteration: 0\n",
      "loss 0.291535\n",
      "iteration: 20\n",
      "loss 0.390781\n",
      "iteration: 40\n",
      "loss 0.393579\n"
     ]
    },
    {
     "name": "stderr",
     "output_type": "stream",
     "text": [
      "Epoch: 0125    cost: 0.547925115 \n",
      "I0629 18:01:04.201156 4574504384 feedforward_robust.py:890] Epoch: 0125    cost: 0.547925115 \n",
      "Accuracy on batch: 1.000000\n",
      "I0629 18:01:04.202662 4574504384 feedforward_robust.py:891] Accuracy on batch: 1.000000\n",
      "Epoch: 0126    cost: 0.541522920 \n",
      "I0629 18:01:04.289050 4574504384 feedforward_robust.py:890] Epoch: 0126    cost: 0.541522920 \n",
      "Accuracy on batch: 1.000000\n",
      "I0629 18:01:04.290590 4574504384 feedforward_robust.py:891] Accuracy on batch: 1.000000\n",
      "Epoch: 0127    cost: 0.540456414 \n",
      "I0629 18:01:04.380800 4574504384 feedforward_robust.py:890] Epoch: 0127    cost: 0.540456414 \n",
      "Accuracy on batch: 1.000000\n",
      "I0629 18:01:04.382140 4574504384 feedforward_robust.py:891] Accuracy on batch: 1.000000\n"
     ]
    },
    {
     "name": "stdout",
     "output_type": "stream",
     "text": [
      "iteration: 0\n",
      "loss 0.277122\n",
      "iteration: 20\n",
      "loss 0.385149\n",
      "iteration: 40\n",
      "loss 0.386595\n",
      "iteration: 0\n",
      "loss 0.281749\n",
      "iteration: 20\n",
      "loss 0.383424\n",
      "iteration: 40\n",
      "loss 0.384892\n",
      "iteration: 0\n",
      "loss 0.283198\n"
     ]
    },
    {
     "name": "stderr",
     "output_type": "stream",
     "text": [
      "Epoch: 0128    cost: 0.564040899 \n",
      "I0629 18:01:04.474282 4574504384 feedforward_robust.py:890] Epoch: 0128    cost: 0.564040899 \n",
      "Accuracy on batch: 1.000000\n",
      "I0629 18:01:04.475608 4574504384 feedforward_robust.py:891] Accuracy on batch: 1.000000\n",
      "Epoch: 0129    cost: 0.533978701 \n",
      "I0629 18:01:04.560586 4574504384 feedforward_robust.py:890] Epoch: 0129    cost: 0.533978701 \n",
      "Accuracy on batch: 1.000000\n",
      "I0629 18:01:04.562062 4574504384 feedforward_robust.py:891] Accuracy on batch: 1.000000\n"
     ]
    },
    {
     "name": "stdout",
     "output_type": "stream",
     "text": [
      "iteration: 20\n",
      "loss 0.405100\n",
      "iteration: 40\n",
      "loss 0.408838\n",
      "iteration: 0\n",
      "loss 0.274693\n",
      "iteration: 20\n",
      "loss 0.374987\n",
      "iteration: 40\n",
      "loss 0.379172\n",
      "iteration: 0\n",
      "loss 0.265724\n",
      "iteration: 20\n",
      "loss 0.375138\n",
      "iteration: 40\n",
      "loss 0.376926\n"
     ]
    },
    {
     "name": "stderr",
     "output_type": "stream",
     "text": [
      "Epoch: 0130    cost: 0.531091571 \n",
      "I0629 18:01:04.648159 4574504384 feedforward_robust.py:890] Epoch: 0130    cost: 0.531091571 \n",
      "Accuracy on batch: 1.000000\n",
      "I0629 18:01:04.649652 4574504384 feedforward_robust.py:891] Accuracy on batch: 1.000000\n",
      "Epoch: 0131    cost: 0.568395495 \n",
      "I0629 18:01:04.730988 4574504384 feedforward_robust.py:890] Epoch: 0131    cost: 0.568395495 \n",
      "Accuracy on batch: 1.000000\n",
      "I0629 18:01:04.732080 4574504384 feedforward_robust.py:891] Accuracy on batch: 1.000000\n",
      "Epoch: 0132    cost: 0.544203281 \n",
      "I0629 18:01:04.814731 4574504384 feedforward_robust.py:890] Epoch: 0132    cost: 0.544203281 \n",
      "Accuracy on batch: 1.000000\n",
      "I0629 18:01:04.815835 4574504384 feedforward_robust.py:891] Accuracy on batch: 1.000000\n"
     ]
    },
    {
     "name": "stdout",
     "output_type": "stream",
     "text": [
      "iteration: 0\n",
      "loss 0.266252\n",
      "iteration: 20\n",
      "loss 0.407050\n",
      "iteration: 40\n",
      "loss 0.413402\n",
      "iteration: 0\n",
      "loss 0.269185\n",
      "iteration: 20\n",
      "loss 0.385385\n",
      "iteration: 40\n",
      "loss 0.389863\n",
      "iteration: 0\n",
      "loss 0.257943\n",
      "iteration: 20\n",
      "loss 0.375608\n"
     ]
    },
    {
     "name": "stderr",
     "output_type": "stream",
     "text": [
      "Epoch: 0133    cost: 0.535519004 \n",
      "I0629 18:01:04.901248 4574504384 feedforward_robust.py:890] Epoch: 0133    cost: 0.535519004 \n",
      "Accuracy on batch: 1.000000\n",
      "I0629 18:01:04.902348 4574504384 feedforward_robust.py:891] Accuracy on batch: 1.000000\n",
      "Epoch: 0134    cost: 0.519917846 \n",
      "I0629 18:01:04.983867 4574504384 feedforward_robust.py:890] Epoch: 0134    cost: 0.519917846 \n",
      "Accuracy on batch: 1.000000\n",
      "I0629 18:01:04.985034 4574504384 feedforward_robust.py:891] Accuracy on batch: 1.000000\n",
      "Epoch: 0135    cost: 0.525416076 \n",
      "I0629 18:01:05.066531 4574504384 feedforward_robust.py:890] Epoch: 0135    cost: 0.525416076 \n",
      "Accuracy on batch: 1.000000\n",
      "I0629 18:01:05.067653 4574504384 feedforward_robust.py:891] Accuracy on batch: 1.000000\n"
     ]
    },
    {
     "name": "stdout",
     "output_type": "stream",
     "text": [
      "iteration: 40\n",
      "loss 0.380845\n",
      "iteration: 0\n",
      "loss 0.257754\n",
      "iteration: 20\n",
      "loss 0.362720\n",
      "iteration: 40\n",
      "loss 0.365888\n",
      "iteration: 0\n",
      "loss 0.261391\n",
      "iteration: 20\n",
      "loss 0.363525\n",
      "iteration: 40\n",
      "loss 0.370542\n"
     ]
    },
    {
     "name": "stderr",
     "output_type": "stream",
     "text": [
      "Epoch: 0136    cost: 0.524445891 \n",
      "I0629 18:01:05.152891 4574504384 feedforward_robust.py:890] Epoch: 0136    cost: 0.524445891 \n",
      "Accuracy on batch: 0.875000\n",
      "I0629 18:01:05.154109 4574504384 feedforward_robust.py:891] Accuracy on batch: 0.875000\n",
      "Epoch: 0137    cost: 0.528994381 \n",
      "I0629 18:01:05.237025 4574504384 feedforward_robust.py:890] Epoch: 0137    cost: 0.528994381 \n",
      "Accuracy on batch: 1.000000\n",
      "I0629 18:01:05.238229 4574504384 feedforward_robust.py:891] Accuracy on batch: 1.000000\n"
     ]
    },
    {
     "name": "stdout",
     "output_type": "stream",
     "text": [
      "iteration: 0\n",
      "loss 0.251930\n",
      "iteration: 20\n",
      "loss 0.367616\n",
      "iteration: 40\n",
      "loss 0.370833\n",
      "iteration: 0\n",
      "loss 0.259421\n",
      "iteration: 20\n",
      "loss 0.368772\n",
      "iteration: 40\n",
      "loss 0.374034\n",
      "iteration: 0\n",
      "loss 0.252981\n",
      "iteration: 20\n",
      "loss 0.379336\n"
     ]
    },
    {
     "name": "stderr",
     "output_type": "stream",
     "text": [
      "Epoch: 0138    cost: 0.542397857 \n",
      "I0629 18:01:05.324750 4574504384 feedforward_robust.py:890] Epoch: 0138    cost: 0.542397857 \n",
      "Accuracy on batch: 0.875000\n",
      "I0629 18:01:05.325790 4574504384 feedforward_robust.py:891] Accuracy on batch: 0.875000\n",
      "Epoch: 0139    cost: 0.508004785 \n",
      "I0629 18:01:05.409242 4574504384 feedforward_robust.py:890] Epoch: 0139    cost: 0.508004785 \n",
      "Accuracy on batch: 1.000000\n",
      "I0629 18:01:05.410592 4574504384 feedforward_robust.py:891] Accuracy on batch: 1.000000\n",
      "Epoch: 0140    cost: 0.523370028 \n",
      "I0629 18:01:05.496295 4574504384 feedforward_robust.py:890] Epoch: 0140    cost: 0.523370028 \n",
      "Accuracy on batch: 1.000000\n",
      "I0629 18:01:05.497464 4574504384 feedforward_robust.py:891] Accuracy on batch: 1.000000\n"
     ]
    },
    {
     "name": "stdout",
     "output_type": "stream",
     "text": [
      "iteration: 40\n",
      "loss 0.387919\n",
      "iteration: 0\n",
      "loss 0.254023\n",
      "iteration: 20\n",
      "loss 0.348859\n",
      "iteration: 40\n",
      "loss 0.353257\n",
      "iteration: 0\n",
      "loss 0.247283\n",
      "iteration: 20\n",
      "loss 0.364078\n",
      "iteration: 40\n",
      "loss 0.368753\n"
     ]
    },
    {
     "name": "stderr",
     "output_type": "stream",
     "text": [
      "Epoch: 0141    cost: 0.499269783 \n",
      "I0629 18:01:05.581586 4574504384 feedforward_robust.py:890] Epoch: 0141    cost: 0.499269783 \n",
      "Accuracy on batch: 1.000000\n",
      "I0629 18:01:05.582696 4574504384 feedforward_robust.py:891] Accuracy on batch: 1.000000\n",
      "Epoch: 0142    cost: 0.516636550 \n",
      "I0629 18:01:05.667464 4574504384 feedforward_robust.py:890] Epoch: 0142    cost: 0.516636550 \n",
      "Accuracy on batch: 1.000000\n",
      "I0629 18:01:05.668773 4574504384 feedforward_robust.py:891] Accuracy on batch: 1.000000\n"
     ]
    },
    {
     "name": "stdout",
     "output_type": "stream",
     "text": [
      "iteration: 0\n",
      "loss 0.241422\n",
      "iteration: 20\n",
      "loss 0.341834\n",
      "iteration: 40\n",
      "loss 0.345105\n",
      "iteration: 0\n",
      "loss 0.240279\n",
      "iteration: 20\n",
      "loss 0.351583\n",
      "iteration: 40\n",
      "loss 0.361912\n",
      "iteration: 0\n",
      "loss 0.233298\n",
      "iteration: 20\n",
      "loss 0.340580\n"
     ]
    },
    {
     "name": "stderr",
     "output_type": "stream",
     "text": [
      "Epoch: 0143    cost: 0.499441355 \n",
      "I0629 18:01:05.753930 4574504384 feedforward_robust.py:890] Epoch: 0143    cost: 0.499441355 \n",
      "Accuracy on batch: 1.000000\n",
      "I0629 18:01:05.755352 4574504384 feedforward_robust.py:891] Accuracy on batch: 1.000000\n",
      "Epoch: 0144    cost: 0.502015293 \n",
      "I0629 18:01:05.839951 4574504384 feedforward_robust.py:890] Epoch: 0144    cost: 0.502015293 \n",
      "Accuracy on batch: 0.875000\n",
      "I0629 18:01:05.841289 4574504384 feedforward_robust.py:891] Accuracy on batch: 0.875000\n",
      "Epoch: 0145    cost: 0.496929079 \n",
      "I0629 18:01:05.928097 4574504384 feedforward_robust.py:890] Epoch: 0145    cost: 0.496929079 \n",
      "Accuracy on batch: 0.875000\n",
      "I0629 18:01:05.929293 4574504384 feedforward_robust.py:891] Accuracy on batch: 0.875000\n"
     ]
    },
    {
     "name": "stdout",
     "output_type": "stream",
     "text": [
      "iteration: 40\n",
      "loss 0.345101\n",
      "iteration: 0\n",
      "loss 0.229659\n",
      "iteration: 20\n",
      "loss 0.343959\n",
      "iteration: 40\n",
      "loss 0.347579\n",
      "iteration: 0\n",
      "loss 0.226823\n",
      "iteration: 20\n",
      "loss 0.334943\n",
      "iteration: 40\n",
      "loss 0.341862\n"
     ]
    },
    {
     "name": "stderr",
     "output_type": "stream",
     "text": [
      "Epoch: 0146    cost: 0.486979246 \n",
      "I0629 18:01:06.017000 4574504384 feedforward_robust.py:890] Epoch: 0146    cost: 0.486979246 \n",
      "Accuracy on batch: 1.000000\n",
      "I0629 18:01:06.018415 4574504384 feedforward_robust.py:891] Accuracy on batch: 1.000000\n",
      "Epoch: 0147    cost: 0.487271488 \n",
      "I0629 18:01:06.102893 4574504384 feedforward_robust.py:890] Epoch: 0147    cost: 0.487271488 \n",
      "Accuracy on batch: 1.000000\n",
      "I0629 18:01:06.104166 4574504384 feedforward_robust.py:891] Accuracy on batch: 1.000000\n"
     ]
    },
    {
     "name": "stdout",
     "output_type": "stream",
     "text": [
      "iteration: 0\n",
      "loss 0.222387\n",
      "iteration: 20\n",
      "loss 0.331293\n",
      "iteration: 40\n",
      "loss 0.332983\n",
      "iteration: 0\n",
      "loss 0.218518\n",
      "iteration: 20\n",
      "loss 0.326114\n",
      "iteration: 40\n",
      "loss 0.332894\n",
      "iteration: 0\n",
      "loss 0.219268\n",
      "iteration: 20\n",
      "loss 0.328103\n"
     ]
    },
    {
     "name": "stderr",
     "output_type": "stream",
     "text": [
      "Epoch: 0148    cost: 0.490205228 \n",
      "I0629 18:01:06.195158 4574504384 feedforward_robust.py:890] Epoch: 0148    cost: 0.490205228 \n",
      "Accuracy on batch: 1.000000\n",
      "I0629 18:01:06.196692 4574504384 feedforward_robust.py:891] Accuracy on batch: 1.000000\n",
      "Epoch: 0149    cost: 0.477080077 \n",
      "I0629 18:01:06.288068 4574504384 feedforward_robust.py:890] Epoch: 0149    cost: 0.477080077 \n",
      "Accuracy on batch: 1.000000\n",
      "I0629 18:01:06.289551 4574504384 feedforward_robust.py:891] Accuracy on batch: 1.000000\n",
      "Epoch: 0150    cost: 0.473037481 \n",
      "I0629 18:01:06.376384 4574504384 feedforward_robust.py:890] Epoch: 0150    cost: 0.473037481 \n",
      "Accuracy on batch: 1.000000\n"
     ]
    },
    {
     "name": "stdout",
     "output_type": "stream",
     "text": [
      "iteration: 40\n",
      "loss 0.333208\n",
      "iteration: 0\n",
      "loss 0.221818\n",
      "iteration: 20\n",
      "loss 0.318516\n",
      "iteration: 40\n",
      "loss 0.321737\n",
      "iteration: 0\n",
      "loss 0.207281\n",
      "iteration: 20\n",
      "loss 0.312583\n",
      "iteration: 40\n",
      "loss 0.317518\n"
     ]
    },
    {
     "name": "stderr",
     "output_type": "stream",
     "text": [
      "I0629 18:01:06.377424 4574504384 feedforward_robust.py:891] Accuracy on batch: 1.000000\n",
      "Epoch: 0151    cost: 0.474296927 \n",
      "I0629 18:01:06.462572 4574504384 feedforward_robust.py:890] Epoch: 0151    cost: 0.474296927 \n",
      "Accuracy on batch: 1.000000\n",
      "I0629 18:01:06.463826 4574504384 feedforward_robust.py:891] Accuracy on batch: 1.000000\n",
      "Epoch: 0152    cost: 0.478319585 \n",
      "I0629 18:01:06.547761 4574504384 feedforward_robust.py:890] Epoch: 0152    cost: 0.478319585 \n",
      "Accuracy on batch: 0.875000\n",
      "I0629 18:01:06.549209 4574504384 feedforward_robust.py:891] Accuracy on batch: 0.875000\n"
     ]
    },
    {
     "name": "stdout",
     "output_type": "stream",
     "text": [
      "iteration: 0\n",
      "loss 0.209631\n",
      "iteration: 20\n",
      "loss 0.312331\n",
      "iteration: 40\n",
      "loss 0.318621\n",
      "iteration: 0\n",
      "loss 0.214623\n",
      "iteration: 20\n",
      "loss 0.317238\n",
      "iteration: 40\n",
      "loss 0.323270\n",
      "iteration: 0\n",
      "loss 0.198900\n",
      "iteration: 20\n",
      "loss 0.302839\n"
     ]
    },
    {
     "name": "stderr",
     "output_type": "stream",
     "text": [
      "Epoch: 0153    cost: 0.462402970 \n",
      "I0629 18:01:06.634890 4574504384 feedforward_robust.py:890] Epoch: 0153    cost: 0.462402970 \n",
      "Accuracy on batch: 1.000000\n",
      "I0629 18:01:06.636229 4574504384 feedforward_robust.py:891] Accuracy on batch: 1.000000\n",
      "Epoch: 0154    cost: 0.461983532 \n",
      "I0629 18:01:06.720735 4574504384 feedforward_robust.py:890] Epoch: 0154    cost: 0.461983532 \n",
      "Accuracy on batch: 1.000000\n",
      "I0629 18:01:06.721920 4574504384 feedforward_robust.py:891] Accuracy on batch: 1.000000\n",
      "Epoch: 0155    cost: 0.460066438 \n",
      "I0629 18:01:06.806615 4574504384 feedforward_robust.py:890] Epoch: 0155    cost: 0.460066438 \n",
      "Accuracy on batch: 1.000000\n",
      "I0629 18:01:06.807767 4574504384 feedforward_robust.py:891] Accuracy on batch: 1.000000\n"
     ]
    },
    {
     "name": "stdout",
     "output_type": "stream",
     "text": [
      "iteration: 40\n",
      "loss 0.306031\n",
      "iteration: 0\n",
      "loss 0.201916\n",
      "iteration: 20\n",
      "loss 0.300761\n",
      "iteration: 40\n",
      "loss 0.307082\n",
      "iteration: 0\n",
      "loss 0.199412\n",
      "iteration: 20\n",
      "loss 0.300989\n",
      "iteration: 40\n",
      "loss 0.305067\n"
     ]
    },
    {
     "name": "stderr",
     "output_type": "stream",
     "text": [
      "Epoch: 0156    cost: 0.451387763 \n",
      "I0629 18:01:06.893405 4574504384 feedforward_robust.py:890] Epoch: 0156    cost: 0.451387763 \n",
      "Accuracy on batch: 1.000000\n",
      "I0629 18:01:06.894571 4574504384 feedforward_robust.py:891] Accuracy on batch: 1.000000\n",
      "Epoch: 0157    cost: 0.450296819 \n",
      "I0629 18:01:06.981204 4574504384 feedforward_robust.py:890] Epoch: 0157    cost: 0.450296819 \n",
      "Accuracy on batch: 1.000000\n",
      "I0629 18:01:06.982409 4574504384 feedforward_robust.py:891] Accuracy on batch: 1.000000\n"
     ]
    },
    {
     "name": "stdout",
     "output_type": "stream",
     "text": [
      "iteration: 0\n",
      "loss 0.192312\n",
      "iteration: 20\n",
      "loss 0.293150\n",
      "iteration: 40\n",
      "loss 0.296804\n",
      "iteration: 0\n",
      "loss 0.189800\n",
      "iteration: 20\n",
      "loss 0.293431\n",
      "iteration: 40\n",
      "loss 0.295877\n",
      "iteration: 0\n",
      "loss 0.187943\n",
      "iteration: 20\n",
      "loss 0.285321\n"
     ]
    },
    {
     "name": "stderr",
     "output_type": "stream",
     "text": [
      "Epoch: 0158    cost: 0.445502788 \n",
      "I0629 18:01:07.067440 4574504384 feedforward_robust.py:890] Epoch: 0158    cost: 0.445502788 \n",
      "Accuracy on batch: 1.000000\n",
      "I0629 18:01:07.069135 4574504384 feedforward_robust.py:891] Accuracy on batch: 1.000000\n",
      "Epoch: 0159    cost: 0.439446509 \n",
      "I0629 18:01:07.153946 4574504384 feedforward_robust.py:890] Epoch: 0159    cost: 0.439446509 \n",
      "Accuracy on batch: 1.000000\n",
      "I0629 18:01:07.155173 4574504384 feedforward_robust.py:891] Accuracy on batch: 1.000000\n",
      "Epoch: 0160    cost: 0.486315727 \n",
      "I0629 18:01:07.239604 4574504384 feedforward_robust.py:890] Epoch: 0160    cost: 0.486315727 \n",
      "Accuracy on batch: 0.875000\n",
      "I0629 18:01:07.241044 4574504384 feedforward_robust.py:891] Accuracy on batch: 0.875000\n"
     ]
    },
    {
     "name": "stdout",
     "output_type": "stream",
     "text": [
      "iteration: 40\n",
      "loss 0.289158\n",
      "iteration: 0\n",
      "loss 0.185822\n",
      "iteration: 20\n",
      "loss 0.282753\n",
      "iteration: 40\n",
      "loss 0.285322\n",
      "iteration: 0\n",
      "loss 0.178629\n",
      "iteration: 20\n",
      "loss 0.311690\n",
      "iteration: 40\n",
      "loss 0.331713\n"
     ]
    },
    {
     "name": "stderr",
     "output_type": "stream",
     "text": [
      "Epoch: 0161    cost: 0.432022691 \n",
      "I0629 18:01:07.327070 4574504384 feedforward_robust.py:890] Epoch: 0161    cost: 0.432022691 \n",
      "Accuracy on batch: 1.000000\n",
      "I0629 18:01:07.328637 4574504384 feedforward_robust.py:891] Accuracy on batch: 1.000000\n",
      "Epoch: 0162    cost: 0.426587522 \n",
      "I0629 18:01:07.416523 4574504384 feedforward_robust.py:890] Epoch: 0162    cost: 0.426587522 \n",
      "Accuracy on batch: 1.000000\n",
      "I0629 18:01:07.418074 4574504384 feedforward_robust.py:891] Accuracy on batch: 1.000000\n"
     ]
    },
    {
     "name": "stdout",
     "output_type": "stream",
     "text": [
      "iteration: 0\n",
      "loss 0.179098\n",
      "iteration: 20\n",
      "loss 0.277115\n",
      "iteration: 40\n",
      "loss 0.277983\n",
      "iteration: 0\n",
      "loss 0.176390\n",
      "iteration: 20\n",
      "loss 0.271476\n",
      "iteration: 40\n",
      "loss 0.272266\n",
      "iteration: 0\n",
      "loss 0.171684\n",
      "iteration: 20\n",
      "loss 0.266633\n"
     ]
    },
    {
     "name": "stderr",
     "output_type": "stream",
     "text": [
      "Epoch: 0163    cost: 0.423473239 \n",
      "I0629 18:01:07.510695 4574504384 feedforward_robust.py:890] Epoch: 0163    cost: 0.423473239 \n",
      "Accuracy on batch: 1.000000\n",
      "I0629 18:01:07.512281 4574504384 feedforward_robust.py:891] Accuracy on batch: 1.000000\n",
      "Epoch: 0164    cost: 0.463236868 \n",
      "I0629 18:01:07.598682 4574504384 feedforward_robust.py:890] Epoch: 0164    cost: 0.463236868 \n",
      "Accuracy on batch: 0.875000\n",
      "I0629 18:01:07.600185 4574504384 feedforward_robust.py:891] Accuracy on batch: 0.875000\n",
      "Epoch: 0165    cost: 0.468817770 \n",
      "I0629 18:01:07.685603 4574504384 feedforward_robust.py:890] Epoch: 0165    cost: 0.468817770 \n",
      "Accuracy on batch: 0.875000\n",
      "I0629 18:01:07.686849 4574504384 feedforward_robust.py:891] Accuracy on batch: 0.875000\n"
     ]
    },
    {
     "name": "stdout",
     "output_type": "stream",
     "text": [
      "iteration: 40\n",
      "loss 0.268771\n",
      "iteration: 0\n",
      "loss 0.173119\n",
      "iteration: 20\n",
      "loss 0.284659\n",
      "iteration: 40\n",
      "loss 0.307097\n",
      "iteration: 0\n",
      "loss 0.171129\n",
      "iteration: 20\n",
      "loss 0.281296\n",
      "iteration: 40\n",
      "loss 0.308684\n"
     ]
    },
    {
     "name": "stderr",
     "output_type": "stream",
     "text": [
      "Epoch: 0166    cost: 0.420704126 \n",
      "I0629 18:01:07.773807 4574504384 feedforward_robust.py:890] Epoch: 0166    cost: 0.420704126 \n",
      "Accuracy on batch: 1.000000\n",
      "I0629 18:01:07.775043 4574504384 feedforward_robust.py:891] Accuracy on batch: 1.000000\n",
      "Epoch: 0167    cost: 0.405920684 \n",
      "I0629 18:01:07.861168 4574504384 feedforward_robust.py:890] Epoch: 0167    cost: 0.405920684 \n",
      "Accuracy on batch: 1.000000\n",
      "I0629 18:01:07.862490 4574504384 feedforward_robust.py:891] Accuracy on batch: 1.000000\n"
     ]
    },
    {
     "name": "stdout",
     "output_type": "stream",
     "text": [
      "iteration: 0\n",
      "loss 0.158711\n",
      "iteration: 20\n",
      "loss 0.262756\n",
      "iteration: 40\n",
      "loss 0.265342\n",
      "iteration: 0\n",
      "loss 0.160096\n",
      "iteration: 20\n",
      "loss 0.249503\n",
      "iteration: 40\n",
      "loss 0.251554\n",
      "iteration: 0\n",
      "loss 0.163355\n",
      "iteration: 20\n",
      "loss 0.246526\n"
     ]
    },
    {
     "name": "stderr",
     "output_type": "stream",
     "text": [
      "Epoch: 0168    cost: 0.403914720 \n",
      "I0629 18:01:07.955863 4574504384 feedforward_robust.py:890] Epoch: 0168    cost: 0.403914720 \n",
      "Accuracy on batch: 1.000000\n",
      "I0629 18:01:07.957208 4574504384 feedforward_robust.py:891] Accuracy on batch: 1.000000\n",
      "Epoch: 0169    cost: 0.402655303 \n",
      "I0629 18:01:08.045171 4574504384 feedforward_robust.py:890] Epoch: 0169    cost: 0.402655303 \n",
      "Accuracy on batch: 1.000000\n",
      "I0629 18:01:08.046421 4574504384 feedforward_robust.py:891] Accuracy on batch: 1.000000\n",
      "Epoch: 0170    cost: 0.415327281 \n",
      "I0629 18:01:08.133610 4574504384 feedforward_robust.py:890] Epoch: 0170    cost: 0.415327281 \n",
      "Accuracy on batch: 0.875000\n",
      "I0629 18:01:08.135176 4574504384 feedforward_robust.py:891] Accuracy on batch: 0.875000\n"
     ]
    },
    {
     "name": "stdout",
     "output_type": "stream",
     "text": [
      "iteration: 40\n",
      "loss 0.249438\n",
      "iteration: 0\n",
      "loss 0.156105\n",
      "iteration: 20\n",
      "loss 0.245402\n",
      "iteration: 40\n",
      "loss 0.247914\n",
      "iteration: 0\n",
      "loss 0.150056\n",
      "iteration: 20\n",
      "loss 0.252380\n",
      "iteration: 40\n",
      "loss 0.260579\n"
     ]
    },
    {
     "name": "stderr",
     "output_type": "stream",
     "text": [
      "Epoch: 0171    cost: 0.391178310 \n",
      "I0629 18:01:08.222264 4574504384 feedforward_robust.py:890] Epoch: 0171    cost: 0.391178310 \n",
      "Accuracy on batch: 1.000000\n",
      "I0629 18:01:08.223635 4574504384 feedforward_robust.py:891] Accuracy on batch: 1.000000\n",
      "Epoch: 0172    cost: 0.387687802 \n",
      "I0629 18:01:08.309768 4574504384 feedforward_robust.py:890] Epoch: 0172    cost: 0.387687802 \n",
      "Accuracy on batch: 1.000000\n",
      "I0629 18:01:08.311011 4574504384 feedforward_robust.py:891] Accuracy on batch: 1.000000\n"
     ]
    },
    {
     "name": "stdout",
     "output_type": "stream",
     "text": [
      "iteration: 0\n",
      "loss 0.149209\n",
      "iteration: 20\n",
      "loss 0.234309\n",
      "iteration: 40\n",
      "loss 0.236414\n",
      "iteration: 0\n",
      "loss 0.151464\n",
      "iteration: 20\n",
      "loss 0.231438\n",
      "iteration: 40\n",
      "loss 0.233327\n",
      "iteration: 0\n",
      "loss 0.141655\n",
      "iteration: 20\n",
      "loss 0.228157\n"
     ]
    },
    {
     "name": "stderr",
     "output_type": "stream",
     "text": [
      "Epoch: 0173    cost: 0.388833374 \n",
      "I0629 18:01:08.399653 4574504384 feedforward_robust.py:890] Epoch: 0173    cost: 0.388833374 \n",
      "Accuracy on batch: 1.000000\n",
      "I0629 18:01:08.401253 4574504384 feedforward_robust.py:891] Accuracy on batch: 1.000000\n",
      "Epoch: 0174    cost: 0.382890701 \n",
      "I0629 18:01:08.489013 4574504384 feedforward_robust.py:890] Epoch: 0174    cost: 0.382890701 \n",
      "Accuracy on batch: 1.000000\n",
      "I0629 18:01:08.490248 4574504384 feedforward_robust.py:891] Accuracy on batch: 1.000000\n",
      "Epoch: 0175    cost: 0.377857924 \n",
      "I0629 18:01:08.577454 4574504384 feedforward_robust.py:890] Epoch: 0175    cost: 0.377857924 \n",
      "Accuracy on batch: 1.000000\n",
      "I0629 18:01:08.578991 4574504384 feedforward_robust.py:891] Accuracy on batch: 1.000000\n"
     ]
    },
    {
     "name": "stdout",
     "output_type": "stream",
     "text": [
      "iteration: 40\n",
      "loss 0.230897\n",
      "iteration: 0\n",
      "loss 0.142632\n",
      "iteration: 20\n",
      "loss 0.226234\n",
      "iteration: 40\n",
      "loss 0.228366\n",
      "iteration: 0\n",
      "loss 0.138843\n",
      "iteration: 20\n",
      "loss 0.221821\n",
      "iteration: 40\n",
      "loss 0.223001\n"
     ]
    },
    {
     "name": "stderr",
     "output_type": "stream",
     "text": [
      "Epoch: 0176    cost: 0.372291267 \n",
      "I0629 18:01:08.667603 4574504384 feedforward_robust.py:890] Epoch: 0176    cost: 0.372291267 \n",
      "Accuracy on batch: 1.000000\n",
      "I0629 18:01:08.668908 4574504384 feedforward_robust.py:891] Accuracy on batch: 1.000000\n",
      "Epoch: 0177    cost: 0.376705825 \n",
      "I0629 18:01:08.755264 4574504384 feedforward_robust.py:890] Epoch: 0177    cost: 0.376705825 \n",
      "Accuracy on batch: 1.000000\n",
      "I0629 18:01:08.756809 4574504384 feedforward_robust.py:891] Accuracy on batch: 1.000000\n"
     ]
    },
    {
     "name": "stdout",
     "output_type": "stream",
     "text": [
      "iteration: 0\n",
      "loss 0.137903\n",
      "iteration: 20\n",
      "loss 0.216393\n",
      "iteration: 40\n",
      "loss 0.217800\n",
      "iteration: 0\n",
      "loss 0.136606\n",
      "iteration: 20\n",
      "loss 0.217302\n",
      "iteration: 40\n",
      "loss 0.219672\n",
      "iteration: 0\n",
      "loss 0.130150\n",
      "iteration: 20\n",
      "loss 0.215326\n"
     ]
    },
    {
     "name": "stderr",
     "output_type": "stream",
     "text": [
      "Epoch: 0178    cost: 0.377190739 \n",
      "I0629 18:01:08.844981 4574504384 feedforward_robust.py:890] Epoch: 0178    cost: 0.377190739 \n",
      "Accuracy on batch: 0.875000\n",
      "I0629 18:01:08.846237 4574504384 feedforward_robust.py:891] Accuracy on batch: 0.875000\n",
      "Epoch: 0179    cost: 0.375705808 \n",
      "I0629 18:01:08.933290 4574504384 feedforward_robust.py:890] Epoch: 0179    cost: 0.375705808 \n",
      "Accuracy on batch: 1.000000\n",
      "I0629 18:01:08.934606 4574504384 feedforward_robust.py:891] Accuracy on batch: 1.000000\n",
      "Epoch: 0180    cost: 0.361198753 \n",
      "I0629 18:01:09.021713 4574504384 feedforward_robust.py:890] Epoch: 0180    cost: 0.361198753 \n",
      "Accuracy on batch: 1.000000\n",
      "I0629 18:01:09.022989 4574504384 feedforward_robust.py:891] Accuracy on batch: 1.000000\n"
     ]
    },
    {
     "name": "stdout",
     "output_type": "stream",
     "text": [
      "iteration: 40\n",
      "loss 0.222524\n",
      "iteration: 0\n",
      "loss 0.134630\n",
      "iteration: 20\n",
      "loss 0.210574\n",
      "iteration: 40\n",
      "loss 0.216246\n",
      "iteration: 0\n",
      "loss 0.131162\n",
      "iteration: 20\n",
      "loss 0.205866\n",
      "iteration: 40\n",
      "loss 0.206680\n"
     ]
    },
    {
     "name": "stderr",
     "output_type": "stream",
     "text": [
      "Epoch: 0181    cost: 0.360987514 \n",
      "I0629 18:01:09.111903 4574504384 feedforward_robust.py:890] Epoch: 0181    cost: 0.360987514 \n",
      "Accuracy on batch: 1.000000\n",
      "I0629 18:01:09.113381 4574504384 feedforward_robust.py:891] Accuracy on batch: 1.000000\n",
      "Epoch: 0182    cost: 0.392587900 \n",
      "I0629 18:01:09.197734 4574504384 feedforward_robust.py:890] Epoch: 0182    cost: 0.392587900 \n",
      "Accuracy on batch: 0.875000\n",
      "I0629 18:01:09.198858 4574504384 feedforward_robust.py:891] Accuracy on batch: 0.875000\n"
     ]
    },
    {
     "name": "stdout",
     "output_type": "stream",
     "text": [
      "iteration: 0\n",
      "loss 0.130115\n",
      "iteration: 20\n",
      "loss 0.202992\n",
      "iteration: 40\n",
      "loss 0.206442\n",
      "iteration: 0\n",
      "loss 0.124884\n",
      "iteration: 20\n",
      "loss 0.228016\n",
      "iteration: 40\n",
      "loss 0.236685\n",
      "iteration: 0\n",
      "loss 0.123540\n",
      "iteration: 20\n",
      "loss 0.221101\n"
     ]
    },
    {
     "name": "stderr",
     "output_type": "stream",
     "text": [
      "Epoch: 0183    cost: 0.381866544 \n",
      "I0629 18:01:09.286844 4574504384 feedforward_robust.py:890] Epoch: 0183    cost: 0.381866544 \n",
      "Accuracy on batch: 0.875000\n",
      "I0629 18:01:09.288181 4574504384 feedforward_robust.py:891] Accuracy on batch: 0.875000\n",
      "Epoch: 0184    cost: 0.364196956 \n",
      "I0629 18:01:09.372632 4574504384 feedforward_robust.py:890] Epoch: 0184    cost: 0.364196956 \n",
      "Accuracy on batch: 1.000000\n",
      "I0629 18:01:09.373839 4574504384 feedforward_robust.py:891] Accuracy on batch: 1.000000\n",
      "Epoch: 0185    cost: 0.374290347 \n",
      "I0629 18:01:09.460114 4574504384 feedforward_robust.py:890] Epoch: 0185    cost: 0.374290347 \n",
      "Accuracy on batch: 0.875000\n",
      "I0629 18:01:09.461160 4574504384 feedforward_robust.py:891] Accuracy on batch: 0.875000\n"
     ]
    },
    {
     "name": "stdout",
     "output_type": "stream",
     "text": [
      "iteration: 40\n",
      "loss 0.227459\n",
      "iteration: 0\n",
      "loss 0.123021\n",
      "iteration: 20\n",
      "loss 0.208144\n",
      "iteration: 40\n",
      "loss 0.209997\n",
      "iteration: 0\n",
      "loss 0.116741\n",
      "iteration: 20\n",
      "loss 0.210846\n",
      "iteration: 40\n",
      "loss 0.219648\n"
     ]
    },
    {
     "name": "stderr",
     "output_type": "stream",
     "text": [
      "Epoch: 0186    cost: 0.345480323 \n",
      "I0629 18:01:09.546191 4574504384 feedforward_robust.py:890] Epoch: 0186    cost: 0.345480323 \n",
      "Accuracy on batch: 1.000000\n",
      "I0629 18:01:09.547553 4574504384 feedforward_robust.py:891] Accuracy on batch: 1.000000\n",
      "Epoch: 0187    cost: 0.345421344 \n",
      "I0629 18:01:09.632300 4574504384 feedforward_robust.py:890] Epoch: 0187    cost: 0.345421344 \n",
      "Accuracy on batch: 1.000000\n",
      "I0629 18:01:09.633641 4574504384 feedforward_robust.py:891] Accuracy on batch: 1.000000\n"
     ]
    },
    {
     "name": "stdout",
     "output_type": "stream",
     "text": [
      "iteration: 0\n",
      "loss 0.113628\n",
      "iteration: 20\n",
      "loss 0.189606\n",
      "iteration: 40\n",
      "loss 0.191100\n",
      "iteration: 0\n",
      "loss 0.113095\n",
      "iteration: 20\n",
      "loss 0.188895\n",
      "iteration: 40\n",
      "loss 0.190610\n",
      "iteration: 0\n",
      "loss 0.111806\n",
      "iteration: 20\n",
      "loss 0.195274\n"
     ]
    },
    {
     "name": "stderr",
     "output_type": "stream",
     "text": [
      "Epoch: 0188    cost: 0.357172191 \n",
      "I0629 18:01:09.721145 4574504384 feedforward_robust.py:890] Epoch: 0188    cost: 0.357172191 \n",
      "Accuracy on batch: 1.000000\n",
      "I0629 18:01:09.722361 4574504384 feedforward_robust.py:891] Accuracy on batch: 1.000000\n",
      "Epoch: 0189    cost: 0.350803196 \n",
      "I0629 18:01:09.810737 4574504384 feedforward_robust.py:890] Epoch: 0189    cost: 0.350803196 \n",
      "Accuracy on batch: 1.000000\n",
      "I0629 18:01:09.811975 4574504384 feedforward_robust.py:891] Accuracy on batch: 1.000000\n",
      "Epoch: 0190    cost: 0.347517222 \n",
      "I0629 18:01:09.898314 4574504384 feedforward_robust.py:890] Epoch: 0190    cost: 0.347517222 \n",
      "Accuracy on batch: 1.000000\n",
      "I0629 18:01:09.899834 4574504384 feedforward_robust.py:891] Accuracy on batch: 1.000000\n"
     ]
    },
    {
     "name": "stdout",
     "output_type": "stream",
     "text": [
      "iteration: 40\n",
      "loss 0.203562\n",
      "iteration: 0\n",
      "loss 0.108814\n",
      "iteration: 20\n",
      "loss 0.193474\n",
      "iteration: 40\n",
      "loss 0.196012\n",
      "iteration: 0\n",
      "loss 0.106888\n",
      "iteration: 20\n",
      "loss 0.190459\n",
      "iteration: 40\n",
      "loss 0.192725\n"
     ]
    },
    {
     "name": "stderr",
     "output_type": "stream",
     "text": [
      "Epoch: 0191    cost: 0.339951217 \n",
      "I0629 18:01:09.988590 4574504384 feedforward_robust.py:890] Epoch: 0191    cost: 0.339951217 \n",
      "Accuracy on batch: 1.000000\n",
      "I0629 18:01:09.990202 4574504384 feedforward_robust.py:891] Accuracy on batch: 1.000000\n",
      "Epoch: 0192    cost: 0.333645403 \n",
      "I0629 18:01:10.076874 4574504384 feedforward_robust.py:890] Epoch: 0192    cost: 0.333645403 \n",
      "Accuracy on batch: 1.000000\n",
      "I0629 18:01:10.078501 4574504384 feedforward_robust.py:891] Accuracy on batch: 1.000000\n"
     ]
    },
    {
     "name": "stdout",
     "output_type": "stream",
     "text": [
      "iteration: 0\n",
      "loss 0.104010\n",
      "iteration: 20\n",
      "loss 0.182189\n",
      "iteration: 40\n",
      "loss 0.185195\n",
      "iteration: 0\n",
      "loss 0.100984\n",
      "iteration: 20\n",
      "loss 0.175946\n",
      "iteration: 40\n",
      "loss 0.178433\n",
      "iteration: 0\n",
      "loss 0.100912\n",
      "iteration: 20\n",
      "loss 0.176650\n"
     ]
    },
    {
     "name": "stderr",
     "output_type": "stream",
     "text": [
      "Epoch: 0193    cost: 0.334334999 \n",
      "I0629 18:01:10.167664 4574504384 feedforward_robust.py:890] Epoch: 0193    cost: 0.334334999 \n",
      "Accuracy on batch: 1.000000\n",
      "I0629 18:01:10.169189 4574504384 feedforward_robust.py:891] Accuracy on batch: 1.000000\n",
      "Epoch: 0194    cost: 0.328447938 \n",
      "I0629 18:01:10.261062 4574504384 feedforward_robust.py:890] Epoch: 0194    cost: 0.328447938 \n",
      "Accuracy on batch: 1.000000\n",
      "I0629 18:01:10.269407 4574504384 feedforward_robust.py:891] Accuracy on batch: 1.000000\n"
     ]
    },
    {
     "name": "stdout",
     "output_type": "stream",
     "text": [
      "iteration: 40\n",
      "loss 0.179589\n",
      "iteration: 0\n",
      "loss 0.101732\n",
      "iteration: 20\n",
      "loss 0.172004\n",
      "iteration: 40\n",
      "loss 0.173742\n",
      "iteration: 0\n",
      "loss 0.098430\n",
      "iteration: 20\n",
      "loss 0.173012\n",
      "iteration: 40\n",
      "loss 0.177317\n"
     ]
    },
    {
     "name": "stderr",
     "output_type": "stream",
     "text": [
      "Epoch: 0195    cost: 0.332155645 \n",
      "I0629 18:01:10.354373 4574504384 feedforward_robust.py:890] Epoch: 0195    cost: 0.332155645 \n",
      "Accuracy on batch: 1.000000\n",
      "I0629 18:01:10.355686 4574504384 feedforward_robust.py:891] Accuracy on batch: 1.000000\n",
      "Epoch: 0196    cost: 0.325848341 \n",
      "I0629 18:01:10.441051 4574504384 feedforward_robust.py:890] Epoch: 0196    cost: 0.325848341 \n",
      "Accuracy on batch: 1.000000\n",
      "I0629 18:01:10.442551 4574504384 feedforward_robust.py:891] Accuracy on batch: 1.000000\n",
      "Epoch: 0197    cost: 0.319201350 \n",
      "I0629 18:01:10.525825 4574504384 feedforward_robust.py:890] Epoch: 0197    cost: 0.319201350 \n",
      "Accuracy on batch: 1.000000\n",
      "I0629 18:01:10.527302 4574504384 feedforward_robust.py:891] Accuracy on batch: 1.000000\n"
     ]
    },
    {
     "name": "stdout",
     "output_type": "stream",
     "text": [
      "iteration: 0\n",
      "loss 0.097276\n",
      "iteration: 20\n",
      "loss 0.164583\n",
      "iteration: 40\n",
      "loss 0.168415\n",
      "iteration: 0\n",
      "loss 0.091118\n",
      "iteration: 20\n",
      "loss 0.161463\n",
      "iteration: 40\n",
      "loss 0.164680\n",
      "iteration: 0\n",
      "loss 0.087686\n",
      "iteration: 20\n",
      "loss 0.159857\n"
     ]
    },
    {
     "name": "stderr",
     "output_type": "stream",
     "text": [
      "Epoch: 0198    cost: 0.316652298 \n",
      "I0629 18:01:10.613374 4574504384 feedforward_robust.py:890] Epoch: 0198    cost: 0.316652298 \n",
      "Accuracy on batch: 1.000000\n",
      "I0629 18:01:10.615054 4574504384 feedforward_robust.py:891] Accuracy on batch: 1.000000\n",
      "Epoch: 0199    cost: 0.314356685 \n",
      "I0629 18:01:10.700507 4574504384 feedforward_robust.py:890] Epoch: 0199    cost: 0.314356685 \n",
      "Accuracy on batch: 1.000000\n",
      "I0629 18:01:10.701732 4574504384 feedforward_robust.py:891] Accuracy on batch: 1.000000\n",
      "Epoch: 0200    cost: 0.310860217 \n",
      "I0629 18:01:10.786586 4574504384 feedforward_robust.py:890] Epoch: 0200    cost: 0.310860217 \n",
      "Accuracy on batch: 1.000000\n",
      "I0629 18:01:10.788059 4574504384 feedforward_robust.py:891] Accuracy on batch: 1.000000\n"
     ]
    },
    {
     "name": "stdout",
     "output_type": "stream",
     "text": [
      "iteration: 40\n",
      "loss 0.161904\n",
      "iteration: 0\n",
      "loss 0.090688\n",
      "iteration: 20\n",
      "loss 0.158074\n",
      "iteration: 40\n",
      "loss 0.159688\n",
      "iteration: 0\n",
      "loss 0.086453\n",
      "iteration: 20\n",
      "loss 0.154225\n",
      "iteration: 40\n",
      "loss 0.156102\n"
     ]
    },
    {
     "name": "stderr",
     "output_type": "stream",
     "text": [
      "Epoch: 0201    cost: 0.311911672 \n",
      "I0629 18:01:10.874357 4574504384 feedforward_robust.py:890] Epoch: 0201    cost: 0.311911672 \n",
      "Accuracy on batch: 1.000000\n",
      "I0629 18:01:10.875432 4574504384 feedforward_robust.py:891] Accuracy on batch: 1.000000\n",
      "Epoch: 0202    cost: 0.307893455 \n",
      "I0629 18:01:10.959539 4574504384 feedforward_robust.py:890] Epoch: 0202    cost: 0.307893455 \n",
      "Accuracy on batch: 1.000000\n",
      "I0629 18:01:10.960777 4574504384 feedforward_robust.py:891] Accuracy on batch: 1.000000\n"
     ]
    },
    {
     "name": "stdout",
     "output_type": "stream",
     "text": [
      "iteration: 0\n",
      "loss 0.086159\n",
      "iteration: 20\n",
      "loss 0.153072\n",
      "iteration: 40\n",
      "loss 0.156955\n",
      "iteration: 0\n",
      "loss 0.082377\n",
      "iteration: 20\n",
      "loss 0.149631\n",
      "iteration: 40\n",
      "loss 0.152980\n",
      "iteration: 0\n",
      "loss 0.082822\n",
      "iteration: 20\n",
      "loss 0.146456\n"
     ]
    },
    {
     "name": "stderr",
     "output_type": "stream",
     "text": [
      "Epoch: 0203    cost: 0.304591238 \n",
      "I0629 18:01:11.046491 4574504384 feedforward_robust.py:890] Epoch: 0203    cost: 0.304591238 \n",
      "Accuracy on batch: 1.000000\n",
      "I0629 18:01:11.047726 4574504384 feedforward_robust.py:891] Accuracy on batch: 1.000000\n",
      "Epoch: 0204    cost: 0.301294953 \n",
      "I0629 18:01:11.133306 4574504384 feedforward_robust.py:890] Epoch: 0204    cost: 0.301294953 \n",
      "Accuracy on batch: 1.000000\n",
      "I0629 18:01:11.134284 4574504384 feedforward_robust.py:891] Accuracy on batch: 1.000000\n",
      "Epoch: 0205    cost: 0.301710486 \n",
      "I0629 18:01:11.219034 4574504384 feedforward_robust.py:890] Epoch: 0205    cost: 0.301710486 \n",
      "Accuracy on batch: 1.000000\n",
      "I0629 18:01:11.220271 4574504384 feedforward_robust.py:891] Accuracy on batch: 1.000000\n"
     ]
    },
    {
     "name": "stdout",
     "output_type": "stream",
     "text": [
      "iteration: 40\n",
      "loss 0.149705\n",
      "iteration: 0\n",
      "loss 0.079163\n",
      "iteration: 20\n",
      "loss 0.144938\n",
      "iteration: 40\n",
      "loss 0.146624\n",
      "iteration: 0\n",
      "loss 0.075070\n",
      "iteration: 20\n",
      "loss 0.144905\n",
      "iteration: 40\n",
      "loss 0.146958\n"
     ]
    },
    {
     "name": "stderr",
     "output_type": "stream",
     "text": [
      "Epoch: 0206    cost: 0.297669411 \n",
      "I0629 18:01:11.308773 4574504384 feedforward_robust.py:890] Epoch: 0206    cost: 0.297669411 \n",
      "Accuracy on batch: 1.000000\n",
      "I0629 18:01:11.309951 4574504384 feedforward_robust.py:891] Accuracy on batch: 1.000000\n",
      "Epoch: 0207    cost: 0.293408930 \n",
      "I0629 18:01:11.394639 4574504384 feedforward_robust.py:890] Epoch: 0207    cost: 0.293408930 \n",
      "Accuracy on batch: 1.000000\n",
      "I0629 18:01:11.396084 4574504384 feedforward_robust.py:891] Accuracy on batch: 1.000000\n"
     ]
    },
    {
     "name": "stdout",
     "output_type": "stream",
     "text": [
      "iteration: 0\n",
      "loss 0.075844\n",
      "iteration: 20\n",
      "loss 0.137332\n",
      "iteration: 40\n",
      "loss 0.141925\n",
      "iteration: 0\n",
      "loss 0.072493\n",
      "iteration: 20\n",
      "loss 0.137490\n",
      "iteration: 40\n",
      "loss 0.138643\n",
      "iteration: 0\n",
      "loss 0.071382\n"
     ]
    },
    {
     "name": "stderr",
     "output_type": "stream",
     "text": [
      "Epoch: 0208    cost: 0.291335821 \n",
      "I0629 18:01:11.494246 4574504384 feedforward_robust.py:890] Epoch: 0208    cost: 0.291335821 \n",
      "Accuracy on batch: 1.000000\n",
      "I0629 18:01:11.495795 4574504384 feedforward_robust.py:891] Accuracy on batch: 1.000000\n",
      "Epoch: 0209    cost: 0.291416347 \n",
      "I0629 18:01:11.583300 4574504384 feedforward_robust.py:890] Epoch: 0209    cost: 0.291416347 \n",
      "Accuracy on batch: 1.000000\n",
      "I0629 18:01:11.584803 4574504384 feedforward_robust.py:891] Accuracy on batch: 1.000000\n"
     ]
    },
    {
     "name": "stdout",
     "output_type": "stream",
     "text": [
      "iteration: 20\n",
      "loss 0.135032\n",
      "iteration: 40\n",
      "loss 0.136488\n",
      "iteration: 0\n",
      "loss 0.071772\n",
      "iteration: 20\n",
      "loss 0.132090\n",
      "iteration: 40\n",
      "loss 0.136500\n",
      "iteration: 0\n",
      "loss 0.069269\n",
      "iteration: 20\n",
      "loss 0.131384\n",
      "iteration: 40\n",
      "loss 0.134675\n"
     ]
    },
    {
     "name": "stderr",
     "output_type": "stream",
     "text": [
      "Epoch: 0210    cost: 0.289937943 \n",
      "I0629 18:01:11.673696 4574504384 feedforward_robust.py:890] Epoch: 0210    cost: 0.289937943 \n",
      "Accuracy on batch: 1.000000\n",
      "I0629 18:01:11.675028 4574504384 feedforward_robust.py:891] Accuracy on batch: 1.000000\n",
      "Epoch: 0211    cost: 0.284330159 \n",
      "I0629 18:01:11.757173 4574504384 feedforward_robust.py:890] Epoch: 0211    cost: 0.284330159 \n",
      "Accuracy on batch: 1.000000\n",
      "I0629 18:01:11.758391 4574504384 feedforward_robust.py:891] Accuracy on batch: 1.000000\n",
      "Epoch: 0212    cost: 0.280869126 \n",
      "I0629 18:01:11.843539 4574504384 feedforward_robust.py:890] Epoch: 0212    cost: 0.280869126 \n",
      "Accuracy on batch: 1.000000\n",
      "I0629 18:01:11.845061 4574504384 feedforward_robust.py:891] Accuracy on batch: 1.000000\n"
     ]
    },
    {
     "name": "stdout",
     "output_type": "stream",
     "text": [
      "iteration: 0\n",
      "loss 0.068989\n",
      "iteration: 20\n",
      "loss 0.126219\n",
      "iteration: 40\n",
      "loss 0.129556\n",
      "iteration: 0\n",
      "loss 0.069088\n",
      "iteration: 20\n",
      "loss 0.125443\n",
      "iteration: 40\n",
      "loss 0.126256\n",
      "iteration: 0\n",
      "loss 0.066802\n",
      "iteration: 20\n",
      "loss 0.121395\n"
     ]
    },
    {
     "name": "stderr",
     "output_type": "stream",
     "text": [
      "Epoch: 0213    cost: 0.282329470 \n",
      "I0629 18:01:11.933872 4574504384 feedforward_robust.py:890] Epoch: 0213    cost: 0.282329470 \n",
      "Accuracy on batch: 1.000000\n",
      "I0629 18:01:11.935429 4574504384 feedforward_robust.py:891] Accuracy on batch: 1.000000\n",
      "Epoch: 0214    cost: 0.275060982 \n",
      "I0629 18:01:12.020816 4574504384 feedforward_robust.py:890] Epoch: 0214    cost: 0.275060982 \n",
      "Accuracy on batch: 1.000000\n",
      "I0629 18:01:12.021922 4574504384 feedforward_robust.py:891] Accuracy on batch: 1.000000\n",
      "Epoch: 0215    cost: 0.276352048 \n",
      "I0629 18:01:12.106232 4574504384 feedforward_robust.py:890] Epoch: 0215    cost: 0.276352048 \n",
      "Accuracy on batch: 1.000000\n",
      "I0629 18:01:12.107385 4574504384 feedforward_robust.py:891] Accuracy on batch: 1.000000\n"
     ]
    },
    {
     "name": "stdout",
     "output_type": "stream",
     "text": [
      "iteration: 40\n",
      "loss 0.125526\n",
      "iteration: 0\n",
      "loss 0.063820\n",
      "iteration: 20\n",
      "loss 0.119604\n",
      "iteration: 40\n",
      "loss 0.120339\n",
      "iteration: 0\n",
      "loss 0.060205\n",
      "iteration: 20\n",
      "loss 0.117128\n",
      "iteration: 40\n",
      "loss 0.120881\n"
     ]
    },
    {
     "name": "stderr",
     "output_type": "stream",
     "text": [
      "Epoch: 0216    cost: 0.275582999 \n",
      "I0629 18:01:12.193028 4574504384 feedforward_robust.py:890] Epoch: 0216    cost: 0.275582999 \n",
      "Accuracy on batch: 1.000000\n",
      "I0629 18:01:12.194298 4574504384 feedforward_robust.py:891] Accuracy on batch: 1.000000\n",
      "Epoch: 0217    cost: 0.268706739 \n",
      "I0629 18:01:12.278961 4574504384 feedforward_robust.py:890] Epoch: 0217    cost: 0.268706739 \n",
      "Accuracy on batch: 1.000000\n",
      "I0629 18:01:12.280316 4574504384 feedforward_robust.py:891] Accuracy on batch: 1.000000\n"
     ]
    },
    {
     "name": "stdout",
     "output_type": "stream",
     "text": [
      "iteration: 0\n",
      "loss 0.059360\n",
      "iteration: 20\n",
      "loss 0.115856\n",
      "iteration: 40\n",
      "loss 0.120453\n",
      "iteration: 0\n",
      "loss 0.060335\n",
      "iteration: 20\n",
      "loss 0.112250\n",
      "iteration: 40\n",
      "loss 0.113800\n",
      "iteration: 0\n",
      "loss 0.054721\n",
      "iteration: 20\n",
      "loss 0.109613\n"
     ]
    },
    {
     "name": "stderr",
     "output_type": "stream",
     "text": [
      "Epoch: 0218    cost: 0.266396612 \n",
      "I0629 18:01:12.366403 4574504384 feedforward_robust.py:890] Epoch: 0218    cost: 0.266396612 \n",
      "Accuracy on batch: 1.000000\n",
      "I0629 18:01:12.367591 4574504384 feedforward_robust.py:891] Accuracy on batch: 1.000000\n",
      "Epoch: 0219    cost: 0.264630944 \n",
      "I0629 18:01:12.454408 4574504384 feedforward_robust.py:890] Epoch: 0219    cost: 0.264630944 \n",
      "Accuracy on batch: 1.000000\n",
      "I0629 18:01:12.455604 4574504384 feedforward_robust.py:891] Accuracy on batch: 1.000000\n",
      "Epoch: 0220    cost: 0.261520952 \n",
      "I0629 18:01:12.540949 4574504384 feedforward_robust.py:890] Epoch: 0220    cost: 0.261520952 \n",
      "Accuracy on batch: 1.000000\n",
      "I0629 18:01:12.542055 4574504384 feedforward_robust.py:891] Accuracy on batch: 1.000000\n"
     ]
    },
    {
     "name": "stdout",
     "output_type": "stream",
     "text": [
      "iteration: 40\n",
      "loss 0.111405\n",
      "iteration: 0\n",
      "loss 0.056907\n",
      "iteration: 20\n",
      "loss 0.108763\n",
      "iteration: 40\n",
      "loss 0.109907\n",
      "iteration: 0\n",
      "loss 0.053557\n",
      "iteration: 20\n",
      "loss 0.105975\n",
      "iteration: 40\n",
      "loss 0.106835\n"
     ]
    },
    {
     "name": "stderr",
     "output_type": "stream",
     "text": [
      "Epoch: 0221    cost: 0.263812304 \n",
      "I0629 18:01:12.626358 4574504384 feedforward_robust.py:890] Epoch: 0221    cost: 0.263812304 \n",
      "Accuracy on batch: 1.000000\n",
      "I0629 18:01:12.627898 4574504384 feedforward_robust.py:891] Accuracy on batch: 1.000000\n",
      "Epoch: 0222    cost: 0.261583298 \n",
      "I0629 18:01:12.723076 4574504384 feedforward_robust.py:890] Epoch: 0222    cost: 0.261583298 \n",
      "Accuracy on batch: 1.000000\n",
      "I0629 18:01:12.724519 4574504384 feedforward_robust.py:891] Accuracy on batch: 1.000000\n"
     ]
    },
    {
     "name": "stdout",
     "output_type": "stream",
     "text": [
      "iteration: 0\n",
      "loss 0.052977\n",
      "iteration: 20\n",
      "loss 0.103776\n",
      "iteration: 40\n",
      "loss 0.108423\n",
      "iteration: 0\n",
      "loss 0.054261\n",
      "iteration: 20\n",
      "loss 0.105085\n",
      "iteration: 40\n",
      "loss 0.106519\n",
      "iteration: 0\n",
      "loss 0.050439\n"
     ]
    },
    {
     "name": "stderr",
     "output_type": "stream",
     "text": [
      "Epoch: 0223    cost: 0.256965697 \n",
      "I0629 18:01:12.826050 4574504384 feedforward_robust.py:890] Epoch: 0223    cost: 0.256965697 \n",
      "Accuracy on batch: 1.000000\n",
      "I0629 18:01:12.827229 4574504384 feedforward_robust.py:891] Accuracy on batch: 1.000000\n",
      "Epoch: 0224    cost: 0.258178830 \n",
      "I0629 18:01:12.917678 4574504384 feedforward_robust.py:890] Epoch: 0224    cost: 0.258178830 \n",
      "Accuracy on batch: 1.000000\n",
      "I0629 18:01:12.919231 4574504384 feedforward_robust.py:891] Accuracy on batch: 1.000000\n"
     ]
    },
    {
     "name": "stdout",
     "output_type": "stream",
     "text": [
      "iteration: 20\n",
      "loss 0.100370\n",
      "iteration: 40\n",
      "loss 0.102056\n",
      "iteration: 0\n",
      "loss 0.049284\n",
      "iteration: 20\n",
      "loss 0.097996\n",
      "iteration: 40\n",
      "loss 0.101873\n",
      "iteration: 0\n",
      "loss 0.047606\n",
      "iteration: 20\n",
      "loss 0.096380\n"
     ]
    },
    {
     "name": "stderr",
     "output_type": "stream",
     "text": [
      "Epoch: 0225    cost: 0.256175637 \n",
      "I0629 18:01:13.014595 4574504384 feedforward_robust.py:890] Epoch: 0225    cost: 0.256175637 \n",
      "Accuracy on batch: 1.000000\n",
      "I0629 18:01:13.015944 4574504384 feedforward_robust.py:891] Accuracy on batch: 1.000000\n",
      "Epoch: 0226    cost: 0.249566138 \n",
      "I0629 18:01:13.107956 4574504384 feedforward_robust.py:890] Epoch: 0226    cost: 0.249566138 \n",
      "Accuracy on batch: 1.000000\n",
      "I0629 18:01:13.109503 4574504384 feedforward_robust.py:891] Accuracy on batch: 1.000000\n"
     ]
    },
    {
     "name": "stdout",
     "output_type": "stream",
     "text": [
      "iteration: 40\n",
      "loss 0.100104\n",
      "iteration: 0\n",
      "loss 0.046109\n",
      "iteration: 20\n",
      "loss 0.093360\n",
      "iteration: 40\n",
      "loss 0.094517\n",
      "iteration: 0\n",
      "loss 0.043921\n",
      "iteration: 20\n",
      "loss 0.093871\n",
      "iteration: 40\n",
      "loss 0.094453\n"
     ]
    },
    {
     "name": "stderr",
     "output_type": "stream",
     "text": [
      "Epoch: 0227    cost: 0.248774856 \n",
      "I0629 18:01:13.202750 4574504384 feedforward_robust.py:890] Epoch: 0227    cost: 0.248774856 \n",
      "Accuracy on batch: 1.000000\n",
      "I0629 18:01:13.205934 4574504384 feedforward_robust.py:891] Accuracy on batch: 1.000000\n",
      "Epoch: 0228    cost: 0.246720582 \n",
      "I0629 18:01:13.291769 4574504384 feedforward_robust.py:890] Epoch: 0228    cost: 0.246720582 \n",
      "Accuracy on batch: 1.000000\n",
      "I0629 18:01:13.293347 4574504384 feedforward_robust.py:891] Accuracy on batch: 1.000000\n",
      "Epoch: 0229    cost: 0.244557470 \n",
      "I0629 18:01:13.379230 4574504384 feedforward_robust.py:890] Epoch: 0229    cost: 0.244557470 \n",
      "Accuracy on batch: 1.000000\n",
      "I0629 18:01:13.380772 4574504384 feedforward_robust.py:891] Accuracy on batch: 1.000000\n"
     ]
    },
    {
     "name": "stdout",
     "output_type": "stream",
     "text": [
      "iteration: 0\n",
      "loss 0.044817\n",
      "iteration: 20\n",
      "loss 0.089941\n",
      "iteration: 40\n",
      "loss 0.091832\n",
      "iteration: 0\n",
      "loss 0.043560\n",
      "iteration: 20\n",
      "loss 0.088388\n",
      "iteration: 40\n",
      "loss 0.090099\n",
      "iteration: 0\n",
      "loss 0.042054\n",
      "iteration: 20\n",
      "loss 0.086361\n"
     ]
    },
    {
     "name": "stderr",
     "output_type": "stream",
     "text": [
      "Epoch: 0230    cost: 0.241942406 \n",
      "I0629 18:01:13.474287 4574504384 feedforward_robust.py:890] Epoch: 0230    cost: 0.241942406 \n",
      "Accuracy on batch: 1.000000\n",
      "I0629 18:01:13.475841 4574504384 feedforward_robust.py:891] Accuracy on batch: 1.000000\n",
      "Epoch: 0231    cost: 0.240455866 \n",
      "I0629 18:01:13.564790 4574504384 feedforward_robust.py:890] Epoch: 0231    cost: 0.240455866 \n",
      "Accuracy on batch: 1.000000\n",
      "I0629 18:01:13.566391 4574504384 feedforward_robust.py:891] Accuracy on batch: 1.000000\n",
      "Epoch: 0232    cost: 0.237935558 \n"
     ]
    },
    {
     "name": "stdout",
     "output_type": "stream",
     "text": [
      "iteration: 40\n",
      "loss 0.087368\n",
      "iteration: 0\n",
      "loss 0.041834\n",
      "iteration: 20\n",
      "loss 0.084023\n",
      "iteration: 40\n",
      "loss 0.086058\n",
      "iteration: 0\n",
      "loss 0.039366\n",
      "iteration: 20\n",
      "loss 0.081209\n",
      "iteration: 40\n",
      "loss 0.082918\n"
     ]
    },
    {
     "name": "stderr",
     "output_type": "stream",
     "text": [
      "I0629 18:01:13.656167 4574504384 feedforward_robust.py:890] Epoch: 0232    cost: 0.237935558 \n",
      "Accuracy on batch: 1.000000\n",
      "I0629 18:01:13.657658 4574504384 feedforward_robust.py:891] Accuracy on batch: 1.000000\n",
      "Epoch: 0233    cost: 0.236352086 \n",
      "I0629 18:01:13.741441 4574504384 feedforward_robust.py:890] Epoch: 0233    cost: 0.236352086 \n",
      "Accuracy on batch: 1.000000\n",
      "I0629 18:01:13.743072 4574504384 feedforward_robust.py:891] Accuracy on batch: 1.000000\n",
      "Epoch: 0234    cost: 0.236426353 \n",
      "I0629 18:01:13.831536 4574504384 feedforward_robust.py:890] Epoch: 0234    cost: 0.236426353 \n",
      "Accuracy on batch: 1.000000\n",
      "I0629 18:01:13.833052 4574504384 feedforward_robust.py:891] Accuracy on batch: 1.000000\n"
     ]
    },
    {
     "name": "stdout",
     "output_type": "stream",
     "text": [
      "iteration: 0\n",
      "loss 0.036808\n",
      "iteration: 20\n",
      "loss 0.080986\n",
      "iteration: 40\n",
      "loss 0.081378\n",
      "iteration: 0\n",
      "loss 0.039304\n",
      "iteration: 20\n",
      "loss 0.080531\n",
      "iteration: 40\n",
      "loss 0.081558\n",
      "iteration: 0\n",
      "loss 0.036399\n",
      "iteration: 20\n",
      "loss 0.077401\n"
     ]
    },
    {
     "name": "stderr",
     "output_type": "stream",
     "text": [
      "Epoch: 0235    cost: 0.234147862 \n",
      "I0629 18:01:13.922635 4574504384 feedforward_robust.py:890] Epoch: 0235    cost: 0.234147862 \n",
      "Accuracy on batch: 1.000000\n",
      "I0629 18:01:13.924330 4574504384 feedforward_robust.py:891] Accuracy on batch: 1.000000\n",
      "Epoch: 0236    cost: 0.232074752 \n",
      "I0629 18:01:14.013494 4574504384 feedforward_robust.py:890] Epoch: 0236    cost: 0.232074752 \n",
      "Accuracy on batch: 1.000000\n",
      "I0629 18:01:14.014704 4574504384 feedforward_robust.py:891] Accuracy on batch: 1.000000\n",
      "Epoch: 0237    cost: 0.228365362 \n",
      "I0629 18:01:14.103611 4574504384 feedforward_robust.py:890] Epoch: 0237    cost: 0.228365362 \n",
      "Accuracy on batch: 1.000000\n",
      "I0629 18:01:14.104733 4574504384 feedforward_robust.py:891] Accuracy on batch: 1.000000\n"
     ]
    },
    {
     "name": "stdout",
     "output_type": "stream",
     "text": [
      "iteration: 40\n",
      "loss 0.079313\n",
      "iteration: 0\n",
      "loss 0.037990\n",
      "iteration: 20\n",
      "loss 0.075992\n",
      "iteration: 40\n",
      "loss 0.077099\n",
      "iteration: 0\n",
      "loss 0.035002\n",
      "iteration: 20\n",
      "loss 0.073259\n",
      "iteration: 40\n",
      "loss 0.074181\n"
     ]
    },
    {
     "name": "stderr",
     "output_type": "stream",
     "text": [
      "Epoch: 0238    cost: 0.228495523 \n",
      "I0629 18:01:14.190430 4574504384 feedforward_robust.py:890] Epoch: 0238    cost: 0.228495523 \n",
      "Accuracy on batch: 1.000000\n",
      "I0629 18:01:14.191617 4574504384 feedforward_robust.py:891] Accuracy on batch: 1.000000\n",
      "Epoch: 0239    cost: 0.226022691 \n",
      "I0629 18:01:14.282451 4574504384 feedforward_robust.py:890] Epoch: 0239    cost: 0.226022691 \n",
      "Accuracy on batch: 1.000000\n",
      "I0629 18:01:14.283776 4574504384 feedforward_robust.py:891] Accuracy on batch: 1.000000\n"
     ]
    },
    {
     "name": "stdout",
     "output_type": "stream",
     "text": [
      "iteration: 0\n",
      "loss 0.034775\n",
      "iteration: 20\n",
      "loss 0.072437\n",
      "iteration: 40\n",
      "loss 0.074098\n",
      "iteration: 0\n",
      "loss 0.033509\n",
      "iteration: 20\n",
      "loss 0.070687\n",
      "iteration: 40\n",
      "loss 0.071268\n",
      "iteration: 0\n",
      "loss 0.030441\n"
     ]
    },
    {
     "name": "stderr",
     "output_type": "stream",
     "text": [
      "Epoch: 0240    cost: 0.228178993 \n",
      "I0629 18:01:14.392183 4574504384 feedforward_robust.py:890] Epoch: 0240    cost: 0.228178993 \n",
      "Accuracy on batch: 1.000000\n",
      "I0629 18:01:14.393352 4574504384 feedforward_robust.py:891] Accuracy on batch: 1.000000\n",
      "Epoch: 0241    cost: 0.226629019 \n",
      "I0629 18:01:14.489959 4574504384 feedforward_robust.py:890] Epoch: 0241    cost: 0.226629019 \n",
      "Accuracy on batch: 1.000000\n",
      "I0629 18:01:14.491693 4574504384 feedforward_robust.py:891] Accuracy on batch: 1.000000\n"
     ]
    },
    {
     "name": "stdout",
     "output_type": "stream",
     "text": [
      "iteration: 20\n",
      "loss 0.072006\n",
      "iteration: 40\n",
      "loss 0.073529\n",
      "iteration: 0\n",
      "loss 0.029216\n",
      "iteration: 20\n",
      "loss 0.069132\n",
      "iteration: 40\n",
      "loss 0.072044\n"
     ]
    },
    {
     "name": "stderr",
     "output_type": "stream",
     "text": [
      "Epoch: 0242    cost: 0.222847074 \n",
      "I0629 18:01:14.619117 4574504384 feedforward_robust.py:890] Epoch: 0242    cost: 0.222847074 \n",
      "Accuracy on batch: 1.000000\n",
      "I0629 18:01:14.620592 4574504384 feedforward_robust.py:891] Accuracy on batch: 1.000000\n",
      "Epoch: 0243    cost: 0.223249957 \n",
      "I0629 18:01:14.712773 4574504384 feedforward_robust.py:890] Epoch: 0243    cost: 0.223249957 \n",
      "Accuracy on batch: 1.000000\n",
      "I0629 18:01:14.714042 4574504384 feedforward_robust.py:891] Accuracy on batch: 1.000000\n"
     ]
    },
    {
     "name": "stdout",
     "output_type": "stream",
     "text": [
      "iteration: 0\n",
      "loss 0.028538\n",
      "iteration: 20\n",
      "loss 0.066033\n",
      "iteration: 40\n",
      "loss 0.067795\n",
      "iteration: 0\n",
      "loss 0.029077\n",
      "iteration: 20\n",
      "loss 0.067638\n",
      "iteration: 40\n",
      "loss 0.068465\n",
      "iteration: 0\n",
      "loss 0.028165\n"
     ]
    },
    {
     "name": "stderr",
     "output_type": "stream",
     "text": [
      "Epoch: 0244    cost: 0.219080180 \n",
      "I0629 18:01:14.803065 4574504384 feedforward_robust.py:890] Epoch: 0244    cost: 0.219080180 \n",
      "Accuracy on batch: 1.000000\n",
      "I0629 18:01:14.804211 4574504384 feedforward_robust.py:891] Accuracy on batch: 1.000000\n",
      "Epoch: 0245    cost: 0.218773901 \n",
      "I0629 18:01:14.889830 4574504384 feedforward_robust.py:890] Epoch: 0245    cost: 0.218773901 \n",
      "Accuracy on batch: 1.000000\n",
      "I0629 18:01:14.891116 4574504384 feedforward_robust.py:891] Accuracy on batch: 1.000000\n"
     ]
    },
    {
     "name": "stdout",
     "output_type": "stream",
     "text": [
      "iteration: 20\n",
      "loss 0.063879\n",
      "iteration: 40\n",
      "loss 0.064793\n",
      "iteration: 0\n",
      "loss 0.026038\n",
      "iteration: 20\n",
      "loss 0.063136\n",
      "iteration: 40\n",
      "loss 0.064295\n",
      "iteration: 0\n",
      "loss 0.025947\n",
      "iteration: 20\n",
      "loss 0.062538\n",
      "iteration: 40\n",
      "loss 0.063540\n"
     ]
    },
    {
     "name": "stderr",
     "output_type": "stream",
     "text": [
      "Epoch: 0246    cost: 0.218193799 \n",
      "I0629 18:01:14.974344 4574504384 feedforward_robust.py:890] Epoch: 0246    cost: 0.218193799 \n",
      "Accuracy on batch: 1.000000\n",
      "I0629 18:01:14.977663 4574504384 feedforward_robust.py:891] Accuracy on batch: 1.000000\n",
      "Epoch: 0247    cost: 0.216099381 \n",
      "I0629 18:01:15.063598 4574504384 feedforward_robust.py:890] Epoch: 0247    cost: 0.216099381 \n",
      "Accuracy on batch: 1.000000\n",
      "I0629 18:01:15.065307 4574504384 feedforward_robust.py:891] Accuracy on batch: 1.000000\n",
      "Epoch: 0248    cost: 0.214233920 \n",
      "I0629 18:01:15.166209 4574504384 feedforward_robust.py:890] Epoch: 0248    cost: 0.214233920 \n",
      "Accuracy on batch: 1.000000\n",
      "I0629 18:01:15.167953 4574504384 feedforward_robust.py:891] Accuracy on batch: 1.000000\n"
     ]
    },
    {
     "name": "stdout",
     "output_type": "stream",
     "text": [
      "iteration: 0\n",
      "loss 0.026765\n",
      "iteration: 20\n",
      "loss 0.059902\n",
      "iteration: 40\n",
      "loss 0.061221\n",
      "iteration: 0\n",
      "loss 0.025781\n",
      "iteration: 20\n",
      "loss 0.059048\n",
      "iteration: 40\n",
      "loss 0.059775\n",
      "iteration: 0\n",
      "loss 0.023587\n"
     ]
    },
    {
     "name": "stderr",
     "output_type": "stream",
     "text": [
      "Epoch: 0249    cost: 0.214751020 \n",
      "I0629 18:01:15.267839 4574504384 feedforward_robust.py:890] Epoch: 0249    cost: 0.214751020 \n",
      "Accuracy on batch: 1.000000\n",
      "I0629 18:01:15.269272 4574504384 feedforward_robust.py:891] Accuracy on batch: 1.000000\n",
      "Epoch: 0250    cost: 0.211998314 \n",
      "I0629 18:01:15.361042 4574504384 feedforward_robust.py:890] Epoch: 0250    cost: 0.211998314 \n",
      "Accuracy on batch: 1.000000\n",
      "I0629 18:01:15.362422 4574504384 feedforward_robust.py:891] Accuracy on batch: 1.000000\n"
     ]
    },
    {
     "name": "stdout",
     "output_type": "stream",
     "text": [
      "iteration: 20\n",
      "loss 0.058971\n",
      "iteration: 40\n",
      "loss 0.060180\n",
      "iteration: 0\n",
      "loss 0.023237\n",
      "iteration: 20\n",
      "loss 0.056497\n",
      "iteration: 40\n",
      "loss 0.057289\n",
      "iteration: 0\n",
      "loss 0.021675\n",
      "iteration: 20\n",
      "loss 0.055958\n",
      "iteration: 40\n",
      "loss 0.056913\n"
     ]
    },
    {
     "name": "stderr",
     "output_type": "stream",
     "text": [
      "Epoch: 0251    cost: 0.211627156 \n",
      "I0629 18:01:15.446413 4574504384 feedforward_robust.py:890] Epoch: 0251    cost: 0.211627156 \n",
      "Accuracy on batch: 1.000000\n",
      "I0629 18:01:15.447645 4574504384 feedforward_robust.py:891] Accuracy on batch: 1.000000\n",
      "Epoch: 0252    cost: 0.210404783 \n",
      "I0629 18:01:15.534514 4574504384 feedforward_robust.py:890] Epoch: 0252    cost: 0.210404783 \n",
      "Accuracy on batch: 1.000000\n",
      "I0629 18:01:15.535826 4574504384 feedforward_robust.py:891] Accuracy on batch: 1.000000\n",
      "Epoch: 0253    cost: 0.210942835 \n",
      "I0629 18:01:15.622243 4574504384 feedforward_robust.py:890] Epoch: 0253    cost: 0.210942835 \n",
      "Accuracy on batch: 1.000000\n",
      "I0629 18:01:15.623368 4574504384 feedforward_robust.py:891] Accuracy on batch: 1.000000\n"
     ]
    },
    {
     "name": "stdout",
     "output_type": "stream",
     "text": [
      "iteration: 0\n",
      "loss 0.022375\n",
      "iteration: 20\n",
      "loss 0.054819\n",
      "iteration: 40\n",
      "loss 0.055785\n",
      "iteration: 0\n",
      "loss 0.020445\n",
      "iteration: 20\n",
      "loss 0.054855\n",
      "iteration: 40\n",
      "loss 0.056268\n",
      "iteration: 0\n",
      "loss 0.019788\n",
      "iteration: 20\n",
      "loss 0.053064\n"
     ]
    },
    {
     "name": "stderr",
     "output_type": "stream",
     "text": [
      "Epoch: 0254    cost: 0.211581334 \n",
      "I0629 18:01:15.708621 4574504384 feedforward_robust.py:890] Epoch: 0254    cost: 0.211581334 \n",
      "Accuracy on batch: 1.000000\n",
      "I0629 18:01:15.709968 4574504384 feedforward_robust.py:891] Accuracy on batch: 1.000000\n",
      "Epoch: 0255    cost: 0.206229538 \n",
      "I0629 18:01:15.796344 4574504384 feedforward_robust.py:890] Epoch: 0255    cost: 0.206229538 \n",
      "Accuracy on batch: 1.000000\n",
      "I0629 18:01:15.797735 4574504384 feedforward_robust.py:891] Accuracy on batch: 1.000000\n",
      "Epoch: 0256    cost: 0.204424649 \n",
      "I0629 18:01:15.887669 4574504384 feedforward_robust.py:890] Epoch: 0256    cost: 0.204424649 \n",
      "Accuracy on batch: 1.000000\n"
     ]
    },
    {
     "name": "stdout",
     "output_type": "stream",
     "text": [
      "iteration: 40\n",
      "loss 0.056733\n",
      "iteration: 0\n",
      "loss 0.020053\n",
      "iteration: 20\n",
      "loss 0.050777\n",
      "iteration: 40\n",
      "loss 0.051633\n",
      "iteration: 0\n",
      "loss 0.016977\n",
      "iteration: 20\n",
      "loss 0.049096\n",
      "iteration: 40\n",
      "loss 0.049703\n"
     ]
    },
    {
     "name": "stderr",
     "output_type": "stream",
     "text": [
      "I0629 18:01:15.889228 4574504384 feedforward_robust.py:891] Accuracy on batch: 1.000000\n",
      "Epoch: 0257    cost: 0.204375550 \n",
      "I0629 18:01:15.978965 4574504384 feedforward_robust.py:890] Epoch: 0257    cost: 0.204375550 \n",
      "Accuracy on batch: 1.000000\n",
      "I0629 18:01:15.980311 4574504384 feedforward_robust.py:891] Accuracy on batch: 1.000000\n",
      "Epoch: 0258    cost: 0.203103423 \n",
      "I0629 18:01:16.068810 4574504384 feedforward_robust.py:890] Epoch: 0258    cost: 0.203103423 \n",
      "Accuracy on batch: 1.000000\n",
      "I0629 18:01:16.070350 4574504384 feedforward_robust.py:891] Accuracy on batch: 1.000000\n"
     ]
    },
    {
     "name": "stdout",
     "output_type": "stream",
     "text": [
      "iteration: 0\n",
      "loss 0.019274\n",
      "iteration: 20\n",
      "loss 0.048566\n",
      "iteration: 40\n",
      "loss 0.049600\n",
      "iteration: 0\n",
      "loss 0.018284\n",
      "iteration: 20\n",
      "loss 0.046871\n",
      "iteration: 40\n",
      "loss 0.048269\n",
      "iteration: 0\n",
      "loss 0.018232\n",
      "iteration: 20\n",
      "loss 0.045503\n"
     ]
    },
    {
     "name": "stderr",
     "output_type": "stream",
     "text": [
      "Epoch: 0259    cost: 0.200821742 \n",
      "I0629 18:01:16.161196 4574504384 feedforward_robust.py:890] Epoch: 0259    cost: 0.200821742 \n",
      "Accuracy on batch: 1.000000\n",
      "I0629 18:01:16.162525 4574504384 feedforward_robust.py:891] Accuracy on batch: 1.000000\n",
      "Epoch: 0260    cost: 0.199637622 \n",
      "I0629 18:01:16.252127 4574504384 feedforward_robust.py:890] Epoch: 0260    cost: 0.199637622 \n",
      "Accuracy on batch: 1.000000\n",
      "I0629 18:01:16.253430 4574504384 feedforward_robust.py:891] Accuracy on batch: 1.000000\n",
      "Epoch: 0261    cost: 0.200898334 \n",
      "I0629 18:01:16.341386 4574504384 feedforward_robust.py:890] Epoch: 0261    cost: 0.200898334 \n",
      "Accuracy on batch: 1.000000\n",
      "I0629 18:01:16.342477 4574504384 feedforward_robust.py:891] Accuracy on batch: 1.000000\n"
     ]
    },
    {
     "name": "stdout",
     "output_type": "stream",
     "text": [
      "iteration: 40\n",
      "loss 0.046186\n",
      "iteration: 0\n",
      "loss 0.015869\n",
      "iteration: 20\n",
      "loss 0.044414\n",
      "iteration: 40\n",
      "loss 0.044999\n",
      "iteration: 0\n",
      "loss 0.014899\n",
      "iteration: 20\n",
      "loss 0.044900\n",
      "iteration: 40\n",
      "loss 0.046155\n"
     ]
    },
    {
     "name": "stderr",
     "output_type": "stream",
     "text": [
      "Epoch: 0262    cost: 0.197774962 \n",
      "I0629 18:01:16.430387 4574504384 feedforward_robust.py:890] Epoch: 0262    cost: 0.197774962 \n",
      "Accuracy on batch: 1.000000\n",
      "I0629 18:01:16.431482 4574504384 feedforward_robust.py:891] Accuracy on batch: 1.000000\n",
      "Epoch: 0263    cost: 0.198997796 \n",
      "I0629 18:01:16.515897 4574504384 feedforward_robust.py:890] Epoch: 0263    cost: 0.198997796 \n",
      "Accuracy on batch: 1.000000\n",
      "I0629 18:01:16.517132 4574504384 feedforward_robust.py:891] Accuracy on batch: 1.000000\n"
     ]
    },
    {
     "name": "stdout",
     "output_type": "stream",
     "text": [
      "iteration: 0\n",
      "loss 0.015370\n",
      "iteration: 20\n",
      "loss 0.042647\n",
      "iteration: 40\n",
      "loss 0.043187\n",
      "iteration: 0\n",
      "loss 0.014576\n",
      "iteration: 20\n",
      "loss 0.043284\n",
      "iteration: 40\n",
      "loss 0.044397\n",
      "iteration: 0\n",
      "loss 0.015185\n",
      "iteration: 20\n",
      "loss 0.041925\n"
     ]
    },
    {
     "name": "stderr",
     "output_type": "stream",
     "text": [
      "Epoch: 0264    cost: 0.198172495 \n",
      "I0629 18:01:16.606415 4574504384 feedforward_robust.py:890] Epoch: 0264    cost: 0.198172495 \n",
      "Accuracy on batch: 1.000000\n",
      "I0629 18:01:16.608855 4574504384 feedforward_robust.py:891] Accuracy on batch: 1.000000\n",
      "Epoch: 0265    cost: 0.196772754 \n",
      "I0629 18:01:16.692498 4574504384 feedforward_robust.py:890] Epoch: 0265    cost: 0.196772754 \n",
      "Accuracy on batch: 1.000000\n",
      "I0629 18:01:16.694009 4574504384 feedforward_robust.py:891] Accuracy on batch: 1.000000\n",
      "Epoch: 0266    cost: 0.193652049 \n",
      "I0629 18:01:16.780385 4574504384 feedforward_robust.py:890] Epoch: 0266    cost: 0.193652049 \n",
      "Accuracy on batch: 1.000000\n",
      "I0629 18:01:16.781683 4574504384 feedforward_robust.py:891] Accuracy on batch: 1.000000\n"
     ]
    },
    {
     "name": "stdout",
     "output_type": "stream",
     "text": [
      "iteration: 40\n",
      "loss 0.043551\n",
      "iteration: 0\n",
      "loss 0.014294\n",
      "iteration: 20\n",
      "loss 0.039802\n",
      "iteration: 40\n",
      "loss 0.042087\n",
      "iteration: 0\n",
      "loss 0.013392\n",
      "iteration: 20\n",
      "loss 0.038526\n",
      "iteration: 40\n",
      "loss 0.039035\n"
     ]
    },
    {
     "name": "stderr",
     "output_type": "stream",
     "text": [
      "Epoch: 0267    cost: 0.195656464 \n",
      "I0629 18:01:16.869872 4574504384 feedforward_robust.py:890] Epoch: 0267    cost: 0.195656464 \n",
      "Accuracy on batch: 1.000000\n",
      "I0629 18:01:16.871143 4574504384 feedforward_robust.py:891] Accuracy on batch: 1.000000\n",
      "Epoch: 0268    cost: 0.194102108 \n",
      "I0629 18:01:16.957302 4574504384 feedforward_robust.py:890] Epoch: 0268    cost: 0.194102108 \n",
      "Accuracy on batch: 1.000000\n",
      "I0629 18:01:16.958604 4574504384 feedforward_robust.py:891] Accuracy on batch: 1.000000\n"
     ]
    },
    {
     "name": "stdout",
     "output_type": "stream",
     "text": [
      "iteration: 0\n",
      "loss 0.012750\n",
      "iteration: 20\n",
      "loss 0.037944\n",
      "iteration: 40\n",
      "loss 0.040396\n",
      "iteration: 0\n",
      "loss 0.011966\n",
      "iteration: 20\n",
      "loss 0.036932\n",
      "iteration: 40\n",
      "loss 0.039218\n",
      "iteration: 0\n",
      "loss 0.013069\n",
      "iteration: 20\n",
      "loss 0.037373\n"
     ]
    },
    {
     "name": "stderr",
     "output_type": "stream",
     "text": [
      "Epoch: 0269    cost: 0.193845183 \n",
      "I0629 18:01:17.047782 4574504384 feedforward_robust.py:890] Epoch: 0269    cost: 0.193845183 \n",
      "Accuracy on batch: 1.000000\n",
      "I0629 18:01:17.049379 4574504384 feedforward_robust.py:891] Accuracy on batch: 1.000000\n",
      "Epoch: 0270    cost: 0.190687180 \n",
      "I0629 18:01:17.134089 4574504384 feedforward_robust.py:890] Epoch: 0270    cost: 0.190687180 \n",
      "Accuracy on batch: 1.000000\n",
      "I0629 18:01:17.135429 4574504384 feedforward_robust.py:891] Accuracy on batch: 1.000000\n",
      "Epoch: 0271    cost: 0.188843846 \n",
      "I0629 18:01:17.219937 4574504384 feedforward_robust.py:890] Epoch: 0271    cost: 0.188843846 \n",
      "Accuracy on batch: 1.000000\n",
      "I0629 18:01:17.221023 4574504384 feedforward_robust.py:891] Accuracy on batch: 1.000000\n"
     ]
    },
    {
     "name": "stdout",
     "output_type": "stream",
     "text": [
      "iteration: 40\n",
      "loss 0.039150\n",
      "iteration: 0\n",
      "loss 0.011875\n",
      "iteration: 20\n",
      "loss 0.035218\n",
      "iteration: 40\n",
      "loss 0.036044\n",
      "iteration: 0\n",
      "loss 0.011508\n",
      "iteration: 20\n",
      "loss 0.033923\n",
      "iteration: 40\n",
      "loss 0.034279\n"
     ]
    },
    {
     "name": "stderr",
     "output_type": "stream",
     "text": [
      "Epoch: 0272    cost: 0.188700736 \n",
      "I0629 18:01:17.305341 4574504384 feedforward_robust.py:890] Epoch: 0272    cost: 0.188700736 \n",
      "Accuracy on batch: 1.000000\n",
      "I0629 18:01:17.306457 4574504384 feedforward_robust.py:891] Accuracy on batch: 1.000000\n",
      "Epoch: 0273    cost: 0.189015746 \n",
      "I0629 18:01:17.392060 4574504384 feedforward_robust.py:890] Epoch: 0273    cost: 0.189015746 \n",
      "Accuracy on batch: 1.000000\n",
      "I0629 18:01:17.393295 4574504384 feedforward_robust.py:891] Accuracy on batch: 1.000000\n"
     ]
    },
    {
     "name": "stdout",
     "output_type": "stream",
     "text": [
      "iteration: 0\n",
      "loss 0.010668\n",
      "iteration: 20\n",
      "loss 0.033430\n",
      "iteration: 40\n",
      "loss 0.034189\n",
      "iteration: 0\n",
      "loss 0.011347\n",
      "iteration: 20\n",
      "loss 0.032673\n",
      "iteration: 40\n",
      "loss 0.034413\n",
      "iteration: 0\n",
      "loss 0.010326\n",
      "iteration: 20\n",
      "loss 0.031965\n"
     ]
    },
    {
     "name": "stderr",
     "output_type": "stream",
     "text": [
      "Epoch: 0274    cost: 0.187135637 \n",
      "I0629 18:01:17.481486 4574504384 feedforward_robust.py:890] Epoch: 0274    cost: 0.187135637 \n",
      "Accuracy on batch: 1.000000\n",
      "I0629 18:01:17.482547 4574504384 feedforward_robust.py:891] Accuracy on batch: 1.000000\n",
      "Epoch: 0275    cost: 0.185956478 \n",
      "I0629 18:01:17.568835 4574504384 feedforward_robust.py:890] Epoch: 0275    cost: 0.185956478 \n",
      "Accuracy on batch: 1.000000\n",
      "I0629 18:01:17.569909 4574504384 feedforward_robust.py:891] Accuracy on batch: 1.000000\n",
      "Epoch: 0276    cost: 0.186400384 \n",
      "I0629 18:01:17.655178 4574504384 feedforward_robust.py:890] Epoch: 0276    cost: 0.186400384 \n",
      "Accuracy on batch: 1.000000\n",
      "I0629 18:01:17.656629 4574504384 feedforward_robust.py:891] Accuracy on batch: 1.000000\n"
     ]
    },
    {
     "name": "stdout",
     "output_type": "stream",
     "text": [
      "iteration: 40\n",
      "loss 0.032656\n",
      "iteration: 0\n",
      "loss 0.010852\n",
      "iteration: 20\n",
      "loss 0.031201\n",
      "iteration: 40\n",
      "loss 0.031559\n",
      "iteration: 0\n",
      "loss 0.009678\n",
      "iteration: 20\n",
      "loss 0.030528\n",
      "iteration: 40\n",
      "loss 0.031894\n"
     ]
    },
    {
     "name": "stderr",
     "output_type": "stream",
     "text": [
      "Epoch: 0277    cost: 0.185932994 \n",
      "I0629 18:01:17.743689 4574504384 feedforward_robust.py:890] Epoch: 0277    cost: 0.185932994 \n",
      "Accuracy on batch: 1.000000\n",
      "I0629 18:01:17.745259 4574504384 feedforward_robust.py:891] Accuracy on batch: 1.000000\n",
      "Epoch: 0278    cost: 0.184563801 \n",
      "I0629 18:01:17.835080 4574504384 feedforward_robust.py:890] Epoch: 0278    cost: 0.184563801 \n",
      "Accuracy on batch: 1.000000\n",
      "I0629 18:01:17.836607 4574504384 feedforward_robust.py:891] Accuracy on batch: 1.000000\n"
     ]
    },
    {
     "name": "stdout",
     "output_type": "stream",
     "text": [
      "iteration: 0\n",
      "loss 0.009593\n",
      "iteration: 20\n",
      "loss 0.030349\n",
      "iteration: 40\n",
      "loss 0.031412\n",
      "iteration: 0\n",
      "loss 0.009074\n",
      "iteration: 20\n",
      "loss 0.029568\n",
      "iteration: 40\n",
      "loss 0.030114\n",
      "iteration: 0\n",
      "loss 0.008585\n",
      "iteration: 20\n",
      "loss 0.028632\n"
     ]
    },
    {
     "name": "stderr",
     "output_type": "stream",
     "text": [
      "Epoch: 0279    cost: 0.183903784 \n",
      "I0629 18:01:17.925156 4574504384 feedforward_robust.py:890] Epoch: 0279    cost: 0.183903784 \n",
      "Accuracy on batch: 1.000000\n",
      "I0629 18:01:17.927067 4574504384 feedforward_robust.py:891] Accuracy on batch: 1.000000\n",
      "Epoch: 0280    cost: 0.184410498 \n",
      "I0629 18:01:18.025776 4574504384 feedforward_robust.py:890] Epoch: 0280    cost: 0.184410498 \n",
      "Accuracy on batch: 1.000000\n",
      "I0629 18:01:18.027185 4574504384 feedforward_robust.py:891] Accuracy on batch: 1.000000\n"
     ]
    },
    {
     "name": "stdout",
     "output_type": "stream",
     "text": [
      "iteration: 40\n",
      "loss 0.029396\n",
      "iteration: 0\n",
      "loss 0.008543\n",
      "iteration: 20\n",
      "loss 0.029111\n",
      "iteration: 40\n",
      "loss 0.029908\n",
      "iteration: 0\n",
      "loss 0.008155\n",
      "iteration: 20\n",
      "loss 0.027362\n",
      "iteration: 40\n",
      "loss 0.027790\n"
     ]
    },
    {
     "name": "stderr",
     "output_type": "stream",
     "text": [
      "Epoch: 0281    cost: 0.182346210 \n",
      "I0629 18:01:18.121643 4574504384 feedforward_robust.py:890] Epoch: 0281    cost: 0.182346210 \n",
      "Accuracy on batch: 1.000000\n",
      "I0629 18:01:18.123258 4574504384 feedforward_robust.py:891] Accuracy on batch: 1.000000\n",
      "Epoch: 0282    cost: 0.182291359 \n",
      "I0629 18:01:18.210165 4574504384 feedforward_robust.py:890] Epoch: 0282    cost: 0.182291359 \n",
      "Accuracy on batch: 1.000000\n",
      "I0629 18:01:18.211661 4574504384 feedforward_robust.py:891] Accuracy on batch: 1.000000\n",
      "Epoch: 0283    cost: 0.180821463 \n",
      "I0629 18:01:18.299186 4574504384 feedforward_robust.py:890] Epoch: 0283    cost: 0.180821463 \n",
      "Accuracy on batch: 1.000000\n",
      "I0629 18:01:18.300526 4574504384 feedforward_robust.py:891] Accuracy on batch: 1.000000\n"
     ]
    },
    {
     "name": "stdout",
     "output_type": "stream",
     "text": [
      "iteration: 0\n",
      "loss 0.008337\n",
      "iteration: 20\n",
      "loss 0.026926\n",
      "iteration: 40\n",
      "loss 0.027636\n",
      "iteration: 0\n",
      "loss 0.008129\n",
      "iteration: 20\n",
      "loss 0.026254\n",
      "iteration: 40\n",
      "loss 0.026464\n",
      "iteration: 0\n",
      "loss 0.008177\n",
      "iteration: 20\n",
      "loss 0.025976\n"
     ]
    },
    {
     "name": "stderr",
     "output_type": "stream",
     "text": [
      "Epoch: 0284    cost: 0.181539148 \n",
      "I0629 18:01:18.391162 4574504384 feedforward_robust.py:890] Epoch: 0284    cost: 0.181539148 \n",
      "Accuracy on batch: 1.000000\n",
      "I0629 18:01:18.392967 4574504384 feedforward_robust.py:891] Accuracy on batch: 1.000000\n",
      "Epoch: 0285    cost: 0.180475116 \n",
      "I0629 18:01:18.480641 4574504384 feedforward_robust.py:890] Epoch: 0285    cost: 0.180475116 \n",
      "Accuracy on batch: 1.000000\n",
      "I0629 18:01:18.482259 4574504384 feedforward_robust.py:891] Accuracy on batch: 1.000000\n",
      "Epoch: 0286    cost: 0.179668143 \n",
      "I0629 18:01:18.569570 4574504384 feedforward_robust.py:890] Epoch: 0286    cost: 0.179668143 \n",
      "Accuracy on batch: 1.000000\n",
      "I0629 18:01:18.571129 4574504384 feedforward_robust.py:891] Accuracy on batch: 1.000000\n"
     ]
    },
    {
     "name": "stdout",
     "output_type": "stream",
     "text": [
      "iteration: 40\n",
      "loss 0.027050\n",
      "iteration: 0\n",
      "loss 0.007636\n",
      "iteration: 20\n",
      "loss 0.025575\n",
      "iteration: 40\n",
      "loss 0.026162\n",
      "iteration: 0\n",
      "loss 0.006619\n",
      "iteration: 20\n",
      "loss 0.024743\n",
      "iteration: 40\n",
      "loss 0.025336\n"
     ]
    },
    {
     "name": "stderr",
     "output_type": "stream",
     "text": [
      "Epoch: 0287    cost: 0.179738745 \n",
      "I0629 18:01:18.658096 4574504384 feedforward_robust.py:890] Epoch: 0287    cost: 0.179738745 \n",
      "Accuracy on batch: 1.000000\n",
      "I0629 18:01:18.659330 4574504384 feedforward_robust.py:891] Accuracy on batch: 1.000000\n",
      "Epoch: 0288    cost: 0.178512201 \n",
      "I0629 18:01:18.744817 4574504384 feedforward_robust.py:890] Epoch: 0288    cost: 0.178512201 \n",
      "Accuracy on batch: 1.000000\n",
      "I0629 18:01:18.746053 4574504384 feedforward_robust.py:891] Accuracy on batch: 1.000000\n"
     ]
    },
    {
     "name": "stdout",
     "output_type": "stream",
     "text": [
      "iteration: 0\n",
      "loss 0.007301\n",
      "iteration: 20\n",
      "loss 0.025025\n",
      "iteration: 40\n",
      "loss 0.025432\n",
      "iteration: 0\n",
      "loss 0.006764\n",
      "iteration: 20\n",
      "loss 0.023525\n",
      "iteration: 40\n",
      "loss 0.024196\n",
      "iteration: 0\n",
      "loss 0.006531\n",
      "iteration: 20\n",
      "loss 0.023916\n"
     ]
    },
    {
     "name": "stderr",
     "output_type": "stream",
     "text": [
      "Epoch: 0289    cost: 0.178948343 \n",
      "I0629 18:01:18.834743 4574504384 feedforward_robust.py:890] Epoch: 0289    cost: 0.178948343 \n",
      "Accuracy on batch: 1.000000\n",
      "I0629 18:01:18.836246 4574504384 feedforward_robust.py:891] Accuracy on batch: 1.000000\n",
      "Epoch: 0290    cost: 0.177662700 \n",
      "I0629 18:01:18.923353 4574504384 feedforward_robust.py:890] Epoch: 0290    cost: 0.177662700 \n",
      "Accuracy on batch: 1.000000\n",
      "I0629 18:01:18.924614 4574504384 feedforward_robust.py:891] Accuracy on batch: 1.000000\n",
      "Epoch: 0291    cost: 0.177164286 \n",
      "I0629 18:01:19.008787 4574504384 feedforward_robust.py:890] Epoch: 0291    cost: 0.177164286 \n",
      "Accuracy on batch: 1.000000\n",
      "I0629 18:01:19.009782 4574504384 feedforward_robust.py:891] Accuracy on batch: 1.000000\n"
     ]
    },
    {
     "name": "stdout",
     "output_type": "stream",
     "text": [
      "iteration: 40\n",
      "loss 0.024586\n",
      "iteration: 0\n",
      "loss 0.006014\n",
      "iteration: 20\n",
      "loss 0.022755\n",
      "iteration: 40\n",
      "loss 0.023379\n",
      "iteration: 0\n",
      "loss 0.005963\n",
      "iteration: 20\n",
      "loss 0.022476\n",
      "iteration: 40\n",
      "loss 0.022926\n"
     ]
    },
    {
     "name": "stderr",
     "output_type": "stream",
     "text": [
      "Epoch: 0292    cost: 0.176674157 \n",
      "I0629 18:01:19.098152 4574504384 feedforward_robust.py:890] Epoch: 0292    cost: 0.176674157 \n",
      "Accuracy on batch: 1.000000\n",
      "I0629 18:01:19.099532 4574504384 feedforward_robust.py:891] Accuracy on batch: 1.000000\n",
      "Epoch: 0293    cost: 0.176155373 \n",
      "I0629 18:01:19.189155 4574504384 feedforward_robust.py:890] Epoch: 0293    cost: 0.176155373 \n",
      "Accuracy on batch: 1.000000\n",
      "I0629 18:01:19.190333 4574504384 feedforward_robust.py:891] Accuracy on batch: 1.000000\n"
     ]
    },
    {
     "name": "stdout",
     "output_type": "stream",
     "text": [
      "iteration: 0\n",
      "loss 0.005806\n",
      "iteration: 20\n",
      "loss 0.022206\n",
      "iteration: 40\n",
      "loss 0.022463\n",
      "iteration: 0\n",
      "loss 0.005990\n",
      "iteration: 20\n",
      "loss 0.021625\n",
      "iteration: 40\n",
      "loss 0.021868\n",
      "iteration: 0\n",
      "loss 0.006157\n",
      "iteration: 20\n",
      "loss 0.021302\n"
     ]
    },
    {
     "name": "stderr",
     "output_type": "stream",
     "text": [
      "Epoch: 0294    cost: 0.177362442 \n",
      "I0629 18:01:19.279738 4574504384 feedforward_robust.py:890] Epoch: 0294    cost: 0.177362442 \n",
      "Accuracy on batch: 1.000000\n",
      "I0629 18:01:19.281199 4574504384 feedforward_robust.py:891] Accuracy on batch: 1.000000\n",
      "Epoch: 0295    cost: 0.176176876 \n",
      "I0629 18:01:19.367590 4574504384 feedforward_robust.py:890] Epoch: 0295    cost: 0.176176876 \n",
      "Accuracy on batch: 1.000000\n",
      "I0629 18:01:19.368857 4574504384 feedforward_robust.py:891] Accuracy on batch: 1.000000\n",
      "Epoch: 0296    cost: 0.176031888 \n",
      "I0629 18:01:19.454535 4574504384 feedforward_robust.py:890] Epoch: 0296    cost: 0.176031888 \n",
      "Accuracy on batch: 1.000000\n",
      "I0629 18:01:19.455813 4574504384 feedforward_robust.py:891] Accuracy on batch: 1.000000\n"
     ]
    },
    {
     "name": "stdout",
     "output_type": "stream",
     "text": [
      "iteration: 40\n",
      "loss 0.022956\n",
      "iteration: 0\n",
      "loss 0.005384\n",
      "iteration: 20\n",
      "loss 0.021214\n",
      "iteration: 40\n",
      "loss 0.021945\n",
      "iteration: 0\n",
      "loss 0.005713\n",
      "iteration: 20\n",
      "loss 0.020724\n",
      "iteration: 40\n",
      "loss 0.021728\n"
     ]
    },
    {
     "name": "stderr",
     "output_type": "stream",
     "text": [
      "Epoch: 0297    cost: 0.175611436 \n",
      "I0629 18:01:19.542447 4574504384 feedforward_robust.py:890] Epoch: 0297    cost: 0.175611436 \n",
      "Accuracy on batch: 1.000000\n",
      "I0629 18:01:19.543735 4574504384 feedforward_robust.py:891] Accuracy on batch: 1.000000\n",
      "Epoch: 0298    cost: 0.174850866 \n",
      "I0629 18:01:19.629379 4574504384 feedforward_robust.py:890] Epoch: 0298    cost: 0.174850866 \n",
      "Accuracy on batch: 1.000000\n",
      "I0629 18:01:19.630502 4574504384 feedforward_robust.py:891] Accuracy on batch: 1.000000\n"
     ]
    },
    {
     "name": "stdout",
     "output_type": "stream",
     "text": [
      "iteration: 0\n",
      "loss 0.005697\n",
      "iteration: 20\n",
      "loss 0.020714\n",
      "iteration: 40\n",
      "loss 0.021358\n",
      "iteration: 0\n",
      "loss 0.005405\n",
      "iteration: 20\n",
      "loss 0.020183\n",
      "iteration: 40\n",
      "loss 0.020646\n",
      "iteration: 0\n",
      "loss 0.005507\n",
      "iteration: 20\n",
      "loss 0.020133\n"
     ]
    },
    {
     "name": "stderr",
     "output_type": "stream",
     "text": [
      "Epoch: 0299    cost: 0.174903274 \n",
      "I0629 18:01:19.718276 4574504384 feedforward_robust.py:890] Epoch: 0299    cost: 0.174903274 \n",
      "Accuracy on batch: 1.000000\n",
      "I0629 18:01:19.719600 4574504384 feedforward_robust.py:891] Accuracy on batch: 1.000000\n",
      "Epoch: 0300    cost: 0.174042463 \n",
      "I0629 18:01:19.806874 4574504384 feedforward_robust.py:890] Epoch: 0300    cost: 0.174042463 \n",
      "Accuracy on batch: 1.000000\n",
      "I0629 18:01:19.808027 4574504384 feedforward_robust.py:891] Accuracy on batch: 1.000000\n",
      "Epoch: 0301    cost: 0.173259243 \n",
      "I0629 18:01:19.892815 4574504384 feedforward_robust.py:890] Epoch: 0301    cost: 0.173259243 \n",
      "Accuracy on batch: 1.000000\n",
      "I0629 18:01:19.894290 4574504384 feedforward_robust.py:891] Accuracy on batch: 1.000000\n"
     ]
    },
    {
     "name": "stdout",
     "output_type": "stream",
     "text": [
      "iteration: 40\n",
      "loss 0.020671\n",
      "iteration: 0\n",
      "loss 0.004944\n",
      "iteration: 20\n",
      "loss 0.019547\n",
      "iteration: 40\n",
      "loss 0.019882\n",
      "iteration: 0\n",
      "loss 0.005382\n",
      "iteration: 20\n",
      "loss 0.018769\n",
      "iteration: 40\n",
      "loss 0.019085\n"
     ]
    },
    {
     "name": "stderr",
     "output_type": "stream",
     "text": [
      "Epoch: 0302    cost: 0.173294529 \n",
      "I0629 18:01:19.980965 4574504384 feedforward_robust.py:890] Epoch: 0302    cost: 0.173294529 \n",
      "Accuracy on batch: 1.000000\n",
      "I0629 18:01:19.982068 4574504384 feedforward_robust.py:891] Accuracy on batch: 1.000000\n",
      "Epoch: 0303    cost: 0.172456667 \n",
      "I0629 18:01:20.072016 4574504384 feedforward_robust.py:890] Epoch: 0303    cost: 0.172456667 \n",
      "Accuracy on batch: 1.000000\n",
      "I0629 18:01:20.073297 4574504384 feedforward_robust.py:891] Accuracy on batch: 1.000000\n"
     ]
    },
    {
     "name": "stdout",
     "output_type": "stream",
     "text": [
      "iteration: 0\n",
      "loss 0.005123\n",
      "iteration: 20\n",
      "loss 0.018690\n",
      "iteration: 40\n",
      "loss 0.019228\n",
      "iteration: 0\n",
      "loss 0.004788\n",
      "iteration: 20\n",
      "loss 0.017934\n",
      "iteration: 40\n",
      "loss 0.018383\n",
      "iteration: 0\n",
      "loss 0.004755\n",
      "iteration: 20\n",
      "loss 0.018689\n"
     ]
    },
    {
     "name": "stderr",
     "output_type": "stream",
     "text": [
      "Epoch: 0304    cost: 0.173034489 \n",
      "I0629 18:01:20.162899 4574504384 feedforward_robust.py:890] Epoch: 0304    cost: 0.173034489 \n",
      "Accuracy on batch: 1.000000\n",
      "I0629 18:01:20.164218 4574504384 feedforward_robust.py:891] Accuracy on batch: 1.000000\n",
      "Epoch: 0305    cost: 0.172260433 \n",
      "I0629 18:01:20.250981 4574504384 feedforward_robust.py:890] Epoch: 0305    cost: 0.172260433 \n",
      "Accuracy on batch: 1.000000\n",
      "I0629 18:01:20.252367 4574504384 feedforward_robust.py:891] Accuracy on batch: 1.000000\n",
      "Epoch: 0306    cost: 0.171812996 \n",
      "I0629 18:01:20.339596 4574504384 feedforward_robust.py:890] Epoch: 0306    cost: 0.171812996 \n",
      "Accuracy on batch: 1.000000\n",
      "I0629 18:01:20.340903 4574504384 feedforward_robust.py:891] Accuracy on batch: 1.000000\n"
     ]
    },
    {
     "name": "stdout",
     "output_type": "stream",
     "text": [
      "iteration: 40\n",
      "loss 0.018984\n",
      "iteration: 0\n",
      "loss 0.005134\n",
      "iteration: 20\n",
      "loss 0.017664\n",
      "iteration: 40\n",
      "loss 0.018205\n",
      "iteration: 0\n",
      "loss 0.004608\n",
      "iteration: 20\n",
      "loss 0.017537\n",
      "iteration: 40\n",
      "loss 0.017819\n"
     ]
    },
    {
     "name": "stderr",
     "output_type": "stream",
     "text": [
      "Epoch: 0307    cost: 0.171760604 \n",
      "I0629 18:01:20.430130 4574504384 feedforward_robust.py:890] Epoch: 0307    cost: 0.171760604 \n",
      "Accuracy on batch: 1.000000\n",
      "I0629 18:01:20.431523 4574504384 feedforward_robust.py:891] Accuracy on batch: 1.000000\n",
      "Epoch: 0308    cost: 0.171602145 \n",
      "I0629 18:01:20.526130 4574504384 feedforward_robust.py:890] Epoch: 0308    cost: 0.171602145 \n",
      "Accuracy on batch: 1.000000\n",
      "I0629 18:01:20.527668 4574504384 feedforward_robust.py:891] Accuracy on batch: 1.000000\n"
     ]
    },
    {
     "name": "stdout",
     "output_type": "stream",
     "text": [
      "iteration: 0\n",
      "loss 0.004408\n",
      "iteration: 20\n",
      "loss 0.017286\n",
      "iteration: 40\n",
      "loss 0.017745\n",
      "iteration: 0\n",
      "loss 0.004187\n",
      "iteration: 20\n",
      "loss 0.017338\n",
      "iteration: 40\n",
      "loss 0.017591\n",
      "iteration: 0\n",
      "loss 0.004501\n"
     ]
    },
    {
     "name": "stderr",
     "output_type": "stream",
     "text": [
      "Epoch: 0309    cost: 0.171466187 \n",
      "I0629 18:01:20.620182 4574504384 feedforward_robust.py:890] Epoch: 0309    cost: 0.171466187 \n",
      "Accuracy on batch: 1.000000\n",
      "I0629 18:01:20.621546 4574504384 feedforward_robust.py:891] Accuracy on batch: 1.000000\n",
      "Epoch: 0310    cost: 0.170702219 \n",
      "I0629 18:01:20.706600 4574504384 feedforward_robust.py:890] Epoch: 0310    cost: 0.170702219 \n",
      "Accuracy on batch: 1.000000\n",
      "I0629 18:01:20.708142 4574504384 feedforward_robust.py:891] Accuracy on batch: 1.000000\n"
     ]
    },
    {
     "name": "stdout",
     "output_type": "stream",
     "text": [
      "iteration: 20\n",
      "loss 0.016867\n",
      "iteration: 40\n",
      "loss 0.017484\n",
      "iteration: 0\n",
      "loss 0.004137\n",
      "iteration: 20\n",
      "loss 0.016454\n",
      "iteration: 40\n",
      "loss 0.016674\n",
      "iteration: 0\n",
      "loss 0.003781\n",
      "iteration: 20\n",
      "loss 0.016416\n",
      "iteration: 40\n",
      "loss 0.017194\n"
     ]
    },
    {
     "name": "stderr",
     "output_type": "stream",
     "text": [
      "Epoch: 0311    cost: 0.171216533 \n",
      "I0629 18:01:20.797906 4574504384 feedforward_robust.py:890] Epoch: 0311    cost: 0.171216533 \n",
      "Accuracy on batch: 1.000000\n",
      "I0629 18:01:20.799926 4574504384 feedforward_robust.py:891] Accuracy on batch: 1.000000\n",
      "Epoch: 0312    cost: 0.171597138 \n",
      "I0629 18:01:20.891638 4574504384 feedforward_robust.py:890] Epoch: 0312    cost: 0.171597138 \n",
      "Accuracy on batch: 1.000000\n",
      "I0629 18:01:20.892879 4574504384 feedforward_robust.py:891] Accuracy on batch: 1.000000\n",
      "Epoch: 0313    cost: 0.170665249 \n",
      "I0629 18:01:20.979748 4574504384 feedforward_robust.py:890] Epoch: 0313    cost: 0.170665249 \n",
      "Accuracy on batch: 1.000000\n",
      "I0629 18:01:20.980993 4574504384 feedforward_robust.py:891] Accuracy on batch: 1.000000\n"
     ]
    },
    {
     "name": "stdout",
     "output_type": "stream",
     "text": [
      "iteration: 0\n",
      "loss 0.004119\n",
      "iteration: 20\n",
      "loss 0.016316\n",
      "iteration: 40\n",
      "loss 0.017551\n",
      "iteration: 0\n",
      "loss 0.004035\n",
      "iteration: 20\n",
      "loss 0.015661\n",
      "iteration: 40\n",
      "loss 0.016678\n",
      "iteration: 0\n",
      "loss 0.003587\n",
      "iteration: 20\n",
      "loss 0.015702\n"
     ]
    },
    {
     "name": "stderr",
     "output_type": "stream",
     "text": [
      "Epoch: 0314    cost: 0.171143562 \n",
      "I0629 18:01:21.070629 4574504384 feedforward_robust.py:890] Epoch: 0314    cost: 0.171143562 \n",
      "Accuracy on batch: 1.000000\n",
      "I0629 18:01:21.071788 4574504384 feedforward_robust.py:891] Accuracy on batch: 1.000000\n",
      "Epoch: 0315    cost: 0.169381574 \n",
      "I0629 18:01:21.158682 4574504384 feedforward_robust.py:890] Epoch: 0315    cost: 0.169381574 \n",
      "Accuracy on batch: 1.000000\n",
      "I0629 18:01:21.160153 4574504384 feedforward_robust.py:891] Accuracy on batch: 1.000000\n",
      "Epoch: 0316    cost: 0.168954179 \n",
      "I0629 18:01:21.247648 4574504384 feedforward_robust.py:890] Epoch: 0316    cost: 0.168954179 \n",
      "Accuracy on batch: 1.000000\n",
      "I0629 18:01:21.248905 4574504384 feedforward_robust.py:891] Accuracy on batch: 1.000000\n"
     ]
    },
    {
     "name": "stdout",
     "output_type": "stream",
     "text": [
      "iteration: 40\n",
      "loss 0.016911\n",
      "iteration: 0\n",
      "loss 0.003693\n",
      "iteration: 20\n",
      "loss 0.015117\n",
      "iteration: 40\n",
      "loss 0.015444\n",
      "iteration: 0\n",
      "loss 0.004096\n",
      "iteration: 20\n",
      "loss 0.014917\n",
      "iteration: 40\n",
      "loss 0.015127\n"
     ]
    },
    {
     "name": "stderr",
     "output_type": "stream",
     "text": [
      "Epoch: 0317    cost: 0.168778196 \n",
      "I0629 18:01:21.335270 4574504384 feedforward_robust.py:890] Epoch: 0317    cost: 0.168778196 \n",
      "Accuracy on batch: 1.000000\n",
      "I0629 18:01:21.336738 4574504384 feedforward_robust.py:891] Accuracy on batch: 1.000000\n",
      "Epoch: 0318    cost: 0.168570653 \n",
      "I0629 18:01:21.422520 4574504384 feedforward_robust.py:890] Epoch: 0318    cost: 0.168570653 \n",
      "Accuracy on batch: 1.000000\n",
      "I0629 18:01:21.423955 4574504384 feedforward_robust.py:891] Accuracy on batch: 1.000000\n"
     ]
    },
    {
     "name": "stdout",
     "output_type": "stream",
     "text": [
      "iteration: 0\n",
      "loss 0.004047\n",
      "iteration: 20\n",
      "loss 0.014469\n",
      "iteration: 40\n",
      "loss 0.014889\n",
      "iteration: 0\n",
      "loss 0.003214\n",
      "iteration: 20\n",
      "loss 0.014310\n",
      "iteration: 40\n",
      "loss 0.014706\n",
      "iteration: 0\n",
      "loss 0.003381\n",
      "iteration: 20\n",
      "loss 0.014313\n"
     ]
    },
    {
     "name": "stderr",
     "output_type": "stream",
     "text": [
      "Epoch: 0319    cost: 0.168362141 \n",
      "I0629 18:01:21.513459 4574504384 feedforward_robust.py:890] Epoch: 0319    cost: 0.168362141 \n",
      "Accuracy on batch: 1.000000\n",
      "I0629 18:01:21.514997 4574504384 feedforward_robust.py:891] Accuracy on batch: 1.000000\n",
      "Epoch: 0320    cost: 0.168172508 \n",
      "I0629 18:01:21.599339 4574504384 feedforward_robust.py:890] Epoch: 0320    cost: 0.168172508 \n",
      "Accuracy on batch: 1.000000\n",
      "I0629 18:01:21.600661 4574504384 feedforward_robust.py:891] Accuracy on batch: 1.000000\n",
      "Epoch: 0321    cost: 0.168065533 \n",
      "I0629 18:01:21.686903 4574504384 feedforward_robust.py:890] Epoch: 0321    cost: 0.168065533 \n",
      "Accuracy on batch: 1.000000\n",
      "I0629 18:01:21.688191 4574504384 feedforward_robust.py:891] Accuracy on batch: 1.000000\n"
     ]
    },
    {
     "name": "stdout",
     "output_type": "stream",
     "text": [
      "iteration: 40\n",
      "loss 0.014586\n",
      "iteration: 0\n",
      "loss 0.003480\n",
      "iteration: 20\n",
      "loss 0.013980\n",
      "iteration: 40\n",
      "loss 0.014369\n",
      "iteration: 0\n",
      "loss 0.003584\n",
      "iteration: 20\n",
      "loss 0.013969\n",
      "iteration: 40\n",
      "loss 0.014298\n"
     ]
    },
    {
     "name": "stderr",
     "output_type": "stream",
     "text": [
      "Epoch: 0322    cost: 0.168411970 \n",
      "I0629 18:01:21.776228 4574504384 feedforward_robust.py:890] Epoch: 0322    cost: 0.168411970 \n",
      "Accuracy on batch: 1.000000\n",
      "I0629 18:01:21.777733 4574504384 feedforward_robust.py:891] Accuracy on batch: 1.000000\n",
      "Epoch: 0323    cost: 0.167990342 \n",
      "I0629 18:01:21.865359 4574504384 feedforward_robust.py:890] Epoch: 0323    cost: 0.167990342 \n",
      "Accuracy on batch: 1.000000\n",
      "I0629 18:01:21.866873 4574504384 feedforward_robust.py:891] Accuracy on batch: 1.000000\n"
     ]
    },
    {
     "name": "stdout",
     "output_type": "stream",
     "text": [
      "iteration: 0\n",
      "loss 0.003499\n",
      "iteration: 20\n",
      "loss 0.013828\n",
      "iteration: 40\n",
      "loss 0.014664\n",
      "iteration: 0\n",
      "loss 0.002973\n",
      "iteration: 20\n",
      "loss 0.013463\n",
      "iteration: 40\n",
      "loss 0.014229\n",
      "iteration: 0\n",
      "loss 0.003468\n"
     ]
    },
    {
     "name": "stderr",
     "output_type": "stream",
     "text": [
      "Epoch: 0324    cost: 0.167216778 \n",
      "I0629 18:01:21.966192 4574504384 feedforward_robust.py:890] Epoch: 0324    cost: 0.167216778 \n",
      "Accuracy on batch: 1.000000\n",
      "I0629 18:01:21.967444 4574504384 feedforward_robust.py:891] Accuracy on batch: 1.000000\n",
      "Epoch: 0325    cost: 0.167714238 \n",
      "I0629 18:01:22.059349 4574504384 feedforward_robust.py:890] Epoch: 0325    cost: 0.167714238 \n",
      "Accuracy on batch: 1.000000\n",
      "I0629 18:01:22.060682 4574504384 feedforward_robust.py:891] Accuracy on batch: 1.000000\n"
     ]
    },
    {
     "name": "stdout",
     "output_type": "stream",
     "text": [
      "iteration: 20\n",
      "loss 0.013272\n",
      "iteration: 40\n",
      "loss 0.013457\n",
      "iteration: 0\n",
      "loss 0.003421\n",
      "iteration: 20\n",
      "loss 0.013710\n",
      "iteration: 40\n",
      "loss 0.014074\n",
      "iteration: 0\n",
      "loss 0.003034\n",
      "iteration: 20\n",
      "loss 0.013395\n"
     ]
    },
    {
     "name": "stderr",
     "output_type": "stream",
     "text": [
      "Epoch: 0326    cost: 0.167874828 \n",
      "I0629 18:01:22.149849 4574504384 feedforward_robust.py:890] Epoch: 0326    cost: 0.167874828 \n",
      "Accuracy on batch: 1.000000\n",
      "I0629 18:01:22.151360 4574504384 feedforward_robust.py:891] Accuracy on batch: 1.000000\n",
      "Epoch: 0327    cost: 0.167054474 \n",
      "I0629 18:01:22.239974 4574504384 feedforward_robust.py:890] Epoch: 0327    cost: 0.167054474 \n",
      "Accuracy on batch: 1.000000\n",
      "I0629 18:01:22.241815 4574504384 feedforward_robust.py:891] Accuracy on batch: 1.000000\n",
      "Epoch: 0328    cost: 0.166474700 \n",
      "I0629 18:01:22.329199 4574504384 feedforward_robust.py:890] Epoch: 0328    cost: 0.166474700 \n",
      "Accuracy on batch: 1.000000\n"
     ]
    },
    {
     "name": "stdout",
     "output_type": "stream",
     "text": [
      "iteration: 40\n",
      "loss 0.014053\n",
      "iteration: 0\n",
      "loss 0.003116\n",
      "iteration: 20\n",
      "loss 0.012613\n",
      "iteration: 40\n",
      "loss 0.013154\n",
      "iteration: 0\n",
      "loss 0.003079\n",
      "iteration: 20\n",
      "loss 0.012532\n",
      "iteration: 40\n",
      "loss 0.012859\n"
     ]
    },
    {
     "name": "stderr",
     "output_type": "stream",
     "text": [
      "I0629 18:01:22.330315 4574504384 feedforward_robust.py:891] Accuracy on batch: 1.000000\n",
      "Epoch: 0329    cost: 0.167251304 \n",
      "I0629 18:01:22.420483 4574504384 feedforward_robust.py:890] Epoch: 0329    cost: 0.167251304 \n",
      "Accuracy on batch: 1.000000\n",
      "I0629 18:01:22.422039 4574504384 feedforward_robust.py:891] Accuracy on batch: 1.000000\n",
      "Epoch: 0330    cost: 0.166955084 \n",
      "I0629 18:01:22.513153 4574504384 feedforward_robust.py:890] Epoch: 0330    cost: 0.166955084 \n",
      "Accuracy on batch: 1.000000\n",
      "I0629 18:01:22.514357 4574504384 feedforward_robust.py:891] Accuracy on batch: 1.000000\n"
     ]
    },
    {
     "name": "stdout",
     "output_type": "stream",
     "text": [
      "iteration: 0\n",
      "loss 0.002849\n",
      "iteration: 20\n",
      "loss 0.013203\n",
      "iteration: 40\n",
      "loss 0.013596\n",
      "iteration: 0\n",
      "loss 0.002912\n",
      "iteration: 20\n",
      "loss 0.012431\n",
      "iteration: 40\n",
      "loss 0.013289\n",
      "iteration: 0\n",
      "loss 0.002747\n",
      "iteration: 20\n",
      "loss 0.012257\n"
     ]
    },
    {
     "name": "stderr",
     "output_type": "stream",
     "text": [
      "Epoch: 0331    cost: 0.166454956 \n",
      "I0629 18:01:22.603821 4574504384 feedforward_robust.py:890] Epoch: 0331    cost: 0.166454956 \n",
      "Accuracy on batch: 1.000000\n",
      "I0629 18:01:22.605357 4574504384 feedforward_robust.py:891] Accuracy on batch: 1.000000\n",
      "Epoch: 0332    cost: 0.166033924 \n",
      "I0629 18:01:22.694238 4574504384 feedforward_robust.py:890] Epoch: 0332    cost: 0.166033924 \n",
      "Accuracy on batch: 1.000000\n",
      "I0629 18:01:22.695528 4574504384 feedforward_robust.py:891] Accuracy on batch: 1.000000\n",
      "Epoch: 0333    cost: 0.166545957 \n",
      "I0629 18:01:22.782123 4574504384 feedforward_robust.py:890] Epoch: 0333    cost: 0.166545957 \n",
      "Accuracy on batch: 1.000000\n",
      "I0629 18:01:22.783430 4574504384 feedforward_robust.py:891] Accuracy on batch: 1.000000\n"
     ]
    },
    {
     "name": "stdout",
     "output_type": "stream",
     "text": [
      "iteration: 40\n",
      "loss 0.012886\n",
      "iteration: 0\n",
      "loss 0.003094\n",
      "iteration: 20\n",
      "loss 0.012043\n",
      "iteration: 40\n",
      "loss 0.012451\n",
      "iteration: 0\n",
      "loss 0.002546\n",
      "iteration: 20\n",
      "loss 0.012192\n",
      "iteration: 40\n",
      "loss 0.012852\n"
     ]
    },
    {
     "name": "stderr",
     "output_type": "stream",
     "text": [
      "Epoch: 0334    cost: 0.165933475 \n",
      "I0629 18:01:22.872828 4574504384 feedforward_robust.py:890] Epoch: 0334    cost: 0.165933475 \n",
      "Accuracy on batch: 1.000000\n",
      "I0629 18:01:22.874262 4574504384 feedforward_robust.py:891] Accuracy on batch: 1.000000\n",
      "Epoch: 0335    cost: 0.165280163 \n",
      "I0629 18:01:22.960652 4574504384 feedforward_robust.py:890] Epoch: 0335    cost: 0.165280163 \n",
      "Accuracy on batch: 1.000000\n",
      "I0629 18:01:22.962157 4574504384 feedforward_robust.py:891] Accuracy on batch: 1.000000\n"
     ]
    },
    {
     "name": "stdout",
     "output_type": "stream",
     "text": [
      "iteration: 0\n",
      "loss 0.002492\n",
      "iteration: 20\n",
      "loss 0.011796\n",
      "iteration: 40\n",
      "loss 0.012204\n",
      "iteration: 0\n",
      "loss 0.002644\n",
      "iteration: 20\n",
      "loss 0.011615\n",
      "iteration: 40\n",
      "loss 0.011778\n",
      "iteration: 0\n",
      "loss 0.002581\n",
      "iteration: 20\n",
      "loss 0.012004\n"
     ]
    },
    {
     "name": "stderr",
     "output_type": "stream",
     "text": [
      "Epoch: 0336    cost: 0.165906280 \n",
      "I0629 18:01:23.054840 4574504384 feedforward_robust.py:890] Epoch: 0336    cost: 0.165906280 \n",
      "Accuracy on batch: 1.000000\n",
      "I0629 18:01:23.056326 4574504384 feedforward_robust.py:891] Accuracy on batch: 1.000000\n",
      "Epoch: 0337    cost: 0.166187972 \n",
      "I0629 18:01:23.144926 4574504384 feedforward_robust.py:890] Epoch: 0337    cost: 0.166187972 \n",
      "Accuracy on batch: 1.000000\n",
      "I0629 18:01:23.146308 4574504384 feedforward_robust.py:891] Accuracy on batch: 1.000000\n",
      "Epoch: 0338    cost: 0.165212303 \n",
      "I0629 18:01:23.234501 4574504384 feedforward_robust.py:890] Epoch: 0338    cost: 0.165212303 \n",
      "Accuracy on batch: 1.000000\n",
      "I0629 18:01:23.236049 4574504384 feedforward_robust.py:891] Accuracy on batch: 1.000000\n"
     ]
    },
    {
     "name": "stdout",
     "output_type": "stream",
     "text": [
      "iteration: 40\n",
      "loss 0.012389\n",
      "iteration: 0\n",
      "loss 0.002323\n",
      "iteration: 20\n",
      "loss 0.011910\n",
      "iteration: 40\n",
      "loss 0.012538\n",
      "iteration: 0\n",
      "loss 0.002624\n",
      "iteration: 20\n",
      "loss 0.011289\n",
      "iteration: 40\n",
      "loss 0.011738\n"
     ]
    },
    {
     "name": "stderr",
     "output_type": "stream",
     "text": [
      "Epoch: 0339    cost: 0.165500641 \n",
      "I0629 18:01:23.326640 4574504384 feedforward_robust.py:890] Epoch: 0339    cost: 0.165500641 \n",
      "Accuracy on batch: 1.000000\n",
      "I0629 18:01:23.328541 4574504384 feedforward_robust.py:891] Accuracy on batch: 1.000000\n",
      "Epoch: 0340    cost: 0.164414391 \n",
      "I0629 18:01:23.419697 4574504384 feedforward_robust.py:890] Epoch: 0340    cost: 0.164414391 \n",
      "Accuracy on batch: 1.000000\n",
      "I0629 18:01:23.421250 4574504384 feedforward_robust.py:891] Accuracy on batch: 1.000000\n"
     ]
    },
    {
     "name": "stdout",
     "output_type": "stream",
     "text": [
      "iteration: 0\n",
      "loss 0.002583\n",
      "iteration: 20\n",
      "loss 0.011380\n",
      "iteration: 40\n",
      "loss 0.011975\n",
      "iteration: 0\n",
      "loss 0.002363\n",
      "iteration: 20\n",
      "loss 0.010934\n",
      "iteration: 40\n",
      "loss 0.011028\n",
      "iteration: 0\n",
      "loss 0.002271\n",
      "iteration: 20\n",
      "loss 0.010922\n"
     ]
    },
    {
     "name": "stderr",
     "output_type": "stream",
     "text": [
      "Epoch: 0341    cost: 0.165002957 \n",
      "I0629 18:01:23.512055 4574504384 feedforward_robust.py:890] Epoch: 0341    cost: 0.165002957 \n",
      "Accuracy on batch: 1.000000\n",
      "I0629 18:01:23.513396 4574504384 feedforward_robust.py:891] Accuracy on batch: 1.000000\n",
      "Epoch: 0342    cost: 0.164248705 \n",
      "I0629 18:01:23.602033 4574504384 feedforward_robust.py:890] Epoch: 0342    cost: 0.164248705 \n",
      "Accuracy on batch: 1.000000\n",
      "I0629 18:01:23.603909 4574504384 feedforward_robust.py:891] Accuracy on batch: 1.000000\n",
      "Epoch: 0343    cost: 0.164370015 \n",
      "I0629 18:01:23.690074 4574504384 feedforward_robust.py:890] Epoch: 0343    cost: 0.164370015 \n",
      "Accuracy on batch: 1.000000\n",
      "I0629 18:01:23.691574 4574504384 feedforward_robust.py:891] Accuracy on batch: 1.000000\n"
     ]
    },
    {
     "name": "stdout",
     "output_type": "stream",
     "text": [
      "iteration: 40\n",
      "loss 0.011525\n",
      "iteration: 0\n",
      "loss 0.002401\n",
      "iteration: 20\n",
      "loss 0.010831\n",
      "iteration: 40\n",
      "loss 0.010929\n",
      "iteration: 0\n",
      "loss 0.002331\n",
      "iteration: 20\n",
      "loss 0.010769\n",
      "iteration: 40\n",
      "loss 0.011066\n"
     ]
    },
    {
     "name": "stderr",
     "output_type": "stream",
     "text": [
      "Epoch: 0344    cost: 0.164236039 \n",
      "I0629 18:01:23.781295 4574504384 feedforward_robust.py:890] Epoch: 0344    cost: 0.164236039 \n",
      "Accuracy on batch: 1.000000\n",
      "I0629 18:01:23.782618 4574504384 feedforward_robust.py:891] Accuracy on batch: 1.000000\n",
      "Epoch: 0345    cost: 0.164273992 \n",
      "I0629 18:01:23.872221 4574504384 feedforward_robust.py:890] Epoch: 0345    cost: 0.164273992 \n",
      "Accuracy on batch: 1.000000\n",
      "I0629 18:01:23.874104 4574504384 feedforward_robust.py:891] Accuracy on batch: 1.000000\n"
     ]
    },
    {
     "name": "stdout",
     "output_type": "stream",
     "text": [
      "iteration: 0\n",
      "loss 0.002473\n",
      "iteration: 20\n",
      "loss 0.010806\n",
      "iteration: 40\n",
      "loss 0.010973\n",
      "iteration: 0\n",
      "loss 0.002422\n",
      "iteration: 20\n",
      "loss 0.010439\n",
      "iteration: 40\n",
      "loss 0.010923\n",
      "iteration: 0\n",
      "loss 0.002284\n"
     ]
    },
    {
     "name": "stderr",
     "output_type": "stream",
     "text": [
      "Epoch: 0346    cost: 0.163735121 \n",
      "I0629 18:01:23.982128 4574504384 feedforward_robust.py:890] Epoch: 0346    cost: 0.163735121 \n",
      "Accuracy on batch: 1.000000\n",
      "I0629 18:01:23.983484 4574504384 feedforward_robust.py:891] Accuracy on batch: 1.000000\n",
      "Epoch: 0347    cost: 0.163856015 \n",
      "I0629 18:01:24.085186 4574504384 feedforward_robust.py:890] Epoch: 0347    cost: 0.163856015 \n",
      "Accuracy on batch: 1.000000\n",
      "I0629 18:01:24.086969 4574504384 feedforward_robust.py:891] Accuracy on batch: 1.000000\n"
     ]
    },
    {
     "name": "stdout",
     "output_type": "stream",
     "text": [
      "iteration: 20\n",
      "loss 0.010274\n",
      "iteration: 40\n",
      "loss 0.010479\n",
      "iteration: 0\n",
      "loss 0.002333\n",
      "iteration: 20\n",
      "loss 0.010378\n",
      "iteration: 40\n",
      "loss 0.010615\n",
      "iteration: 0\n",
      "loss 0.002252\n"
     ]
    },
    {
     "name": "stderr",
     "output_type": "stream",
     "text": [
      "Epoch: 0348    cost: 0.163380742 \n",
      "I0629 18:01:24.184762 4574504384 feedforward_robust.py:890] Epoch: 0348    cost: 0.163380742 \n",
      "Accuracy on batch: 1.000000\n",
      "I0629 18:01:24.186033 4574504384 feedforward_robust.py:891] Accuracy on batch: 1.000000\n",
      "Epoch: 0349    cost: 0.163898319 \n",
      "I0629 18:01:24.277707 4574504384 feedforward_robust.py:890] Epoch: 0349    cost: 0.163898319 \n",
      "Accuracy on batch: 1.000000\n",
      "I0629 18:01:24.279211 4574504384 feedforward_robust.py:891] Accuracy on batch: 1.000000\n"
     ]
    },
    {
     "name": "stdout",
     "output_type": "stream",
     "text": [
      "iteration: 20\n",
      "loss 0.009954\n",
      "iteration: 40\n",
      "loss 0.010164\n",
      "iteration: 0\n",
      "loss 0.002095\n",
      "iteration: 20\n",
      "loss 0.009903\n",
      "iteration: 40\n",
      "loss 0.010386\n",
      "iteration: 0\n",
      "loss 0.002253\n",
      "iteration: 20\n",
      "loss 0.009751\n"
     ]
    },
    {
     "name": "stderr",
     "output_type": "stream",
     "text": [
      "Epoch: 0350    cost: 0.163141429 \n",
      "I0629 18:01:24.370804 4574504384 feedforward_robust.py:890] Epoch: 0350    cost: 0.163141429 \n",
      "Accuracy on batch: 1.000000\n",
      "I0629 18:01:24.372155 4574504384 feedforward_robust.py:891] Accuracy on batch: 1.000000\n",
      "Epoch: 0351    cost: 0.163558081 \n",
      "I0629 18:01:24.461177 4574504384 feedforward_robust.py:890] Epoch: 0351    cost: 0.163558081 \n",
      "Accuracy on batch: 1.000000\n",
      "I0629 18:01:24.462419 4574504384 feedforward_robust.py:891] Accuracy on batch: 1.000000\n",
      "Epoch: 0352    cost: 0.163672790 \n",
      "I0629 18:01:24.550392 4574504384 feedforward_robust.py:890] Epoch: 0352    cost: 0.163672790 \n",
      "Accuracy on batch: 1.000000\n"
     ]
    },
    {
     "name": "stdout",
     "output_type": "stream",
     "text": [
      "iteration: 40\n",
      "loss 0.009957\n",
      "iteration: 0\n",
      "loss 0.002002\n",
      "iteration: 20\n",
      "loss 0.009896\n",
      "iteration: 40\n",
      "loss 0.010365\n",
      "iteration: 0\n",
      "loss 0.001948\n",
      "iteration: 20\n",
      "loss 0.010007\n",
      "iteration: 40\n",
      "loss 0.010468\n"
     ]
    },
    {
     "name": "stderr",
     "output_type": "stream",
     "text": [
      "I0629 18:01:24.551522 4574504384 feedforward_robust.py:891] Accuracy on batch: 1.000000\n",
      "Epoch: 0353    cost: 0.163272932 \n",
      "I0629 18:01:24.657747 4574504384 feedforward_robust.py:890] Epoch: 0353    cost: 0.163272932 \n",
      "Accuracy on batch: 1.000000\n",
      "I0629 18:01:24.660186 4574504384 feedforward_robust.py:891] Accuracy on batch: 1.000000\n",
      "Epoch: 0354    cost: 0.163229883 \n",
      "I0629 18:01:24.756144 4574504384 feedforward_robust.py:890] Epoch: 0354    cost: 0.163229883 \n",
      "Accuracy on batch: 1.000000\n",
      "I0629 18:01:24.757246 4574504384 feedforward_robust.py:891] Accuracy on batch: 1.000000\n"
     ]
    },
    {
     "name": "stdout",
     "output_type": "stream",
     "text": [
      "iteration: 0\n",
      "loss 0.001911\n",
      "iteration: 20\n",
      "loss 0.009655\n",
      "iteration: 40\n",
      "loss 0.009990\n",
      "iteration: 0\n",
      "loss 0.002251\n",
      "iteration: 20\n",
      "loss 0.009896\n",
      "iteration: 40\n",
      "loss 0.010131\n"
     ]
    },
    {
     "name": "stderr",
     "output_type": "stream",
     "text": [
      "Epoch: 0355    cost: 0.162567914 \n",
      "I0629 18:01:24.859963 4574504384 feedforward_robust.py:890] Epoch: 0355    cost: 0.162567914 \n",
      "Accuracy on batch: 1.000000\n",
      "I0629 18:01:24.861077 4574504384 feedforward_robust.py:891] Accuracy on batch: 1.000000\n",
      "Epoch: 0356    cost: 0.162548035 \n",
      "I0629 18:01:24.948835 4574504384 feedforward_robust.py:890] Epoch: 0356    cost: 0.162548035 \n",
      "Accuracy on batch: 1.000000\n",
      "I0629 18:01:24.949978 4574504384 feedforward_robust.py:891] Accuracy on batch: 1.000000\n"
     ]
    },
    {
     "name": "stdout",
     "output_type": "stream",
     "text": [
      "iteration: 0\n",
      "loss 0.002113\n",
      "iteration: 20\n",
      "loss 0.009407\n",
      "iteration: 40\n",
      "loss 0.009522\n",
      "iteration: 0\n",
      "loss 0.001807\n",
      "iteration: 20\n",
      "loss 0.009237\n",
      "iteration: 40\n",
      "loss 0.009444\n",
      "iteration: 0\n",
      "loss 0.001936\n"
     ]
    },
    {
     "name": "stderr",
     "output_type": "stream",
     "text": [
      "Epoch: 0357    cost: 0.162399068 \n",
      "I0629 18:01:25.044806 4574504384 feedforward_robust.py:890] Epoch: 0357    cost: 0.162399068 \n",
      "Accuracy on batch: 1.000000\n",
      "I0629 18:01:25.046073 4574504384 feedforward_robust.py:891] Accuracy on batch: 1.000000\n",
      "Epoch: 0358    cost: 0.162693605 \n",
      "I0629 18:01:25.132627 4574504384 feedforward_robust.py:890] Epoch: 0358    cost: 0.162693605 \n",
      "Accuracy on batch: 1.000000\n",
      "I0629 18:01:25.133765 4574504384 feedforward_robust.py:891] Accuracy on batch: 1.000000\n"
     ]
    },
    {
     "name": "stdout",
     "output_type": "stream",
     "text": [
      "iteration: 20\n",
      "loss 0.009179\n",
      "iteration: 40\n",
      "loss 0.009379\n",
      "iteration: 0\n",
      "loss 0.002007\n",
      "iteration: 20\n",
      "loss 0.009263\n",
      "iteration: 40\n",
      "loss 0.009665\n",
      "iteration: 0\n",
      "loss 0.001919\n",
      "iteration: 20\n",
      "loss 0.008925\n",
      "iteration: 40\n",
      "loss 0.009028\n"
     ]
    },
    {
     "name": "stderr",
     "output_type": "stream",
     "text": [
      "Epoch: 0359    cost: 0.162027299 \n",
      "I0629 18:01:25.218279 4574504384 feedforward_robust.py:890] Epoch: 0359    cost: 0.162027299 \n",
      "Accuracy on batch: 1.000000\n",
      "I0629 18:01:25.219524 4574504384 feedforward_robust.py:891] Accuracy on batch: 1.000000\n",
      "Epoch: 0360    cost: 0.162758932 \n",
      "I0629 18:01:25.309445 4574504384 feedforward_robust.py:890] Epoch: 0360    cost: 0.162758932 \n",
      "Accuracy on batch: 1.000000\n",
      "I0629 18:01:25.310850 4574504384 feedforward_robust.py:891] Accuracy on batch: 1.000000\n",
      "Epoch: 0361    cost: 0.162312478 \n",
      "I0629 18:01:25.405201 4574504384 feedforward_robust.py:890] Epoch: 0361    cost: 0.162312478 \n",
      "Accuracy on batch: 1.000000\n",
      "I0629 18:01:25.406330 4574504384 feedforward_robust.py:891] Accuracy on batch: 1.000000\n"
     ]
    },
    {
     "name": "stdout",
     "output_type": "stream",
     "text": [
      "iteration: 0\n",
      "loss 0.001856\n",
      "iteration: 20\n",
      "loss 0.009320\n",
      "iteration: 40\n",
      "loss 0.009720\n",
      "iteration: 0\n",
      "loss 0.001814\n",
      "iteration: 20\n",
      "loss 0.009028\n",
      "iteration: 40\n",
      "loss 0.009349\n",
      "iteration: 0\n",
      "loss 0.001824\n"
     ]
    },
    {
     "name": "stderr",
     "output_type": "stream",
     "text": [
      "Epoch: 0362    cost: 0.162051827 \n",
      "I0629 18:01:25.507491 4574504384 feedforward_robust.py:890] Epoch: 0362    cost: 0.162051827 \n",
      "Accuracy on batch: 1.000000\n",
      "I0629 18:01:25.508744 4574504384 feedforward_robust.py:891] Accuracy on batch: 1.000000\n",
      "Epoch: 0363    cost: 0.162196919 \n",
      "I0629 18:01:25.604115 4574504384 feedforward_robust.py:890] Epoch: 0363    cost: 0.162196919 \n",
      "Accuracy on batch: 1.000000\n",
      "I0629 18:01:25.605381 4574504384 feedforward_robust.py:891] Accuracy on batch: 1.000000\n"
     ]
    },
    {
     "name": "stdout",
     "output_type": "stream",
     "text": [
      "iteration: 20\n",
      "loss 0.008815\n",
      "iteration: 40\n",
      "loss 0.009052\n",
      "iteration: 0\n",
      "loss 0.001888\n",
      "iteration: 20\n",
      "loss 0.008792\n",
      "iteration: 40\n",
      "loss 0.009190\n",
      "iteration: 0\n",
      "loss 0.001837\n",
      "iteration: 20\n",
      "loss 0.009090\n"
     ]
    },
    {
     "name": "stderr",
     "output_type": "stream",
     "text": [
      "Epoch: 0364    cost: 0.162298247 \n",
      "I0629 18:01:25.698441 4574504384 feedforward_robust.py:890] Epoch: 0364    cost: 0.162298247 \n",
      "Accuracy on batch: 1.000000\n",
      "I0629 18:01:25.699589 4574504384 feedforward_robust.py:891] Accuracy on batch: 1.000000\n",
      "Epoch: 0365    cost: 0.161991566 \n",
      "I0629 18:01:25.785598 4574504384 feedforward_robust.py:890] Epoch: 0365    cost: 0.161991566 \n",
      "Accuracy on batch: 1.000000\n",
      "I0629 18:01:25.786807 4574504384 feedforward_robust.py:891] Accuracy on batch: 1.000000\n",
      "Epoch: 0366    cost: 0.161717713 \n",
      "I0629 18:01:25.873239 4574504384 feedforward_robust.py:890] Epoch: 0366    cost: 0.161717713 \n",
      "Accuracy on batch: 1.000000\n",
      "I0629 18:01:25.874506 4574504384 feedforward_robust.py:891] Accuracy on batch: 1.000000\n"
     ]
    },
    {
     "name": "stdout",
     "output_type": "stream",
     "text": [
      "iteration: 40\n",
      "loss 0.009378\n",
      "iteration: 0\n",
      "loss 0.001755\n",
      "iteration: 20\n",
      "loss 0.008888\n",
      "iteration: 40\n",
      "loss 0.009109\n",
      "iteration: 0\n",
      "loss 0.001976\n",
      "iteration: 20\n",
      "loss 0.008721\n",
      "iteration: 40\n",
      "loss 0.008906\n"
     ]
    },
    {
     "name": "stderr",
     "output_type": "stream",
     "text": [
      "Epoch: 0367    cost: 0.161759272 \n",
      "I0629 18:01:25.961945 4574504384 feedforward_robust.py:890] Epoch: 0367    cost: 0.161759272 \n",
      "Accuracy on batch: 1.000000\n",
      "I0629 18:01:25.963106 4574504384 feedforward_robust.py:891] Accuracy on batch: 1.000000\n",
      "Epoch: 0368    cost: 0.161796063 \n",
      "I0629 18:01:26.049194 4574504384 feedforward_robust.py:890] Epoch: 0368    cost: 0.161796063 \n",
      "Accuracy on batch: 1.000000\n",
      "I0629 18:01:26.050230 4574504384 feedforward_robust.py:891] Accuracy on batch: 1.000000\n"
     ]
    },
    {
     "name": "stdout",
     "output_type": "stream",
     "text": [
      "iteration: 0\n",
      "loss 0.001785\n",
      "iteration: 20\n",
      "loss 0.008531\n",
      "iteration: 40\n",
      "loss 0.008925\n",
      "iteration: 0\n",
      "loss 0.001818\n",
      "iteration: 20\n",
      "loss 0.008460\n",
      "iteration: 40\n",
      "loss 0.008971\n",
      "iteration: 0\n",
      "loss 0.001716\n",
      "iteration: 20\n",
      "loss 0.008224\n"
     ]
    },
    {
     "name": "stderr",
     "output_type": "stream",
     "text": [
      "Epoch: 0369    cost: 0.161092028 \n",
      "I0629 18:01:26.140455 4574504384 feedforward_robust.py:890] Epoch: 0369    cost: 0.161092028 \n",
      "Accuracy on batch: 1.000000\n",
      "I0629 18:01:26.141592 4574504384 feedforward_robust.py:891] Accuracy on batch: 1.000000\n",
      "Epoch: 0370    cost: 0.161351517 \n",
      "I0629 18:01:26.229029 4574504384 feedforward_robust.py:890] Epoch: 0370    cost: 0.161351517 \n",
      "Accuracy on batch: 1.000000\n",
      "I0629 18:01:26.231467 4574504384 feedforward_robust.py:891] Accuracy on batch: 1.000000\n",
      "Epoch: 0371    cost: 0.161404103 \n",
      "I0629 18:01:26.322372 4574504384 feedforward_robust.py:890] Epoch: 0371    cost: 0.161404103 \n",
      "Accuracy on batch: 1.000000\n"
     ]
    },
    {
     "name": "stdout",
     "output_type": "stream",
     "text": [
      "iteration: 40\n",
      "loss 0.008338\n",
      "iteration: 0\n",
      "loss 0.001792\n",
      "iteration: 20\n",
      "loss 0.008396\n",
      "iteration: 40\n",
      "loss 0.008595\n",
      "iteration: 0\n",
      "loss 0.001578\n",
      "iteration: 20\n",
      "loss 0.008228\n",
      "iteration: 40\n",
      "loss 0.008621\n"
     ]
    },
    {
     "name": "stderr",
     "output_type": "stream",
     "text": [
      "I0629 18:01:26.323822 4574504384 feedforward_robust.py:891] Accuracy on batch: 1.000000\n",
      "Epoch: 0372    cost: 0.161048368 \n",
      "I0629 18:01:26.413009 4574504384 feedforward_robust.py:890] Epoch: 0372    cost: 0.161048368 \n",
      "Accuracy on batch: 1.000000\n",
      "I0629 18:01:26.414252 4574504384 feedforward_robust.py:891] Accuracy on batch: 1.000000\n",
      "Epoch: 0373    cost: 0.161091328 \n",
      "I0629 18:01:26.502274 4574504384 feedforward_robust.py:890] Epoch: 0373    cost: 0.161091328 \n",
      "Accuracy on batch: 1.000000\n",
      "I0629 18:01:26.503514 4574504384 feedforward_robust.py:891] Accuracy on batch: 1.000000\n"
     ]
    },
    {
     "name": "stdout",
     "output_type": "stream",
     "text": [
      "iteration: 0\n",
      "loss 0.001525\n",
      "iteration: 20\n",
      "loss 0.008034\n",
      "iteration: 40\n",
      "loss 0.008350\n",
      "iteration: 0\n",
      "loss 0.001520\n",
      "iteration: 20\n",
      "loss 0.008064\n",
      "iteration: 40\n",
      "loss 0.008398\n",
      "iteration: 0\n",
      "loss 0.001574\n",
      "iteration: 20\n",
      "loss 0.008114\n"
     ]
    },
    {
     "name": "stderr",
     "output_type": "stream",
     "text": [
      "Epoch: 0374    cost: 0.161045730 \n",
      "I0629 18:01:26.591344 4574504384 feedforward_robust.py:890] Epoch: 0374    cost: 0.161045730 \n",
      "Accuracy on batch: 1.000000\n",
      "I0629 18:01:26.592705 4574504384 feedforward_robust.py:891] Accuracy on batch: 1.000000\n",
      "Epoch: 0375    cost: 0.160640940 \n",
      "I0629 18:01:26.683708 4574504384 feedforward_robust.py:890] Epoch: 0375    cost: 0.160640940 \n",
      "Accuracy on batch: 1.000000\n",
      "I0629 18:01:26.685129 4574504384 feedforward_robust.py:891] Accuracy on batch: 1.000000\n"
     ]
    },
    {
     "name": "stdout",
     "output_type": "stream",
     "text": [
      "iteration: 40\n",
      "loss 0.008345\n",
      "iteration: 0\n",
      "loss 0.001524\n",
      "iteration: 20\n",
      "loss 0.007870\n",
      "iteration: 40\n",
      "loss 0.008003\n",
      "iteration: 0\n",
      "loss 0.001534\n",
      "iteration: 20\n",
      "loss 0.007690\n",
      "iteration: 40\n",
      "loss 0.007847\n"
     ]
    },
    {
     "name": "stderr",
     "output_type": "stream",
     "text": [
      "Epoch: 0376    cost: 0.160488963 \n",
      "I0629 18:01:26.788335 4574504384 feedforward_robust.py:890] Epoch: 0376    cost: 0.160488963 \n",
      "Accuracy on batch: 1.000000\n",
      "I0629 18:01:26.790102 4574504384 feedforward_robust.py:891] Accuracy on batch: 1.000000\n",
      "Epoch: 0377    cost: 0.160378650 \n",
      "I0629 18:01:26.890565 4574504384 feedforward_robust.py:890] Epoch: 0377    cost: 0.160378650 \n",
      "Accuracy on batch: 1.000000\n",
      "I0629 18:01:26.891958 4574504384 feedforward_robust.py:891] Accuracy on batch: 1.000000\n",
      "Epoch: 0378    cost: 0.160440728 \n",
      "I0629 18:01:26.985529 4574504384 feedforward_robust.py:890] Epoch: 0378    cost: 0.160440728 \n",
      "Accuracy on batch: 1.000000\n",
      "I0629 18:01:26.986845 4574504384 feedforward_robust.py:891] Accuracy on batch: 1.000000\n"
     ]
    },
    {
     "name": "stdout",
     "output_type": "stream",
     "text": [
      "iteration: 0\n",
      "loss 0.001602\n",
      "iteration: 20\n",
      "loss 0.007674\n",
      "iteration: 40\n",
      "loss 0.007790\n",
      "iteration: 0\n",
      "loss 0.001500\n",
      "iteration: 20\n",
      "loss 0.007720\n",
      "iteration: 40\n",
      "loss 0.007889\n",
      "iteration: 0\n",
      "loss 0.001465\n"
     ]
    },
    {
     "name": "stderr",
     "output_type": "stream",
     "text": [
      "Epoch: 0379    cost: 0.160750434 \n",
      "I0629 18:01:27.081501 4574504384 feedforward_robust.py:890] Epoch: 0379    cost: 0.160750434 \n",
      "Accuracy on batch: 1.000000\n",
      "I0629 18:01:27.082976 4574504384 feedforward_robust.py:891] Accuracy on batch: 1.000000\n",
      "Epoch: 0380    cost: 0.160300717 \n",
      "I0629 18:01:27.170255 4574504384 feedforward_robust.py:890] Epoch: 0380    cost: 0.160300717 \n",
      "Accuracy on batch: 1.000000\n",
      "I0629 18:01:27.171346 4574504384 feedforward_robust.py:891] Accuracy on batch: 1.000000\n"
     ]
    },
    {
     "name": "stdout",
     "output_type": "stream",
     "text": [
      "iteration: 20\n",
      "loss 0.007607\n",
      "iteration: 40\n",
      "loss 0.008108\n",
      "iteration: 0\n",
      "loss 0.001671\n",
      "iteration: 20\n",
      "loss 0.007725\n",
      "iteration: 40\n",
      "loss 0.007808\n",
      "iteration: 0\n",
      "loss 0.001507\n",
      "iteration: 20\n",
      "loss 0.007486\n",
      "iteration: 40\n",
      "loss 0.007960\n"
     ]
    },
    {
     "name": "stderr",
     "output_type": "stream",
     "text": [
      "Epoch: 0381    cost: 0.160491675 \n",
      "I0629 18:01:27.265758 4574504384 feedforward_robust.py:890] Epoch: 0381    cost: 0.160491675 \n",
      "Accuracy on batch: 1.000000\n",
      "I0629 18:01:27.267084 4574504384 feedforward_robust.py:891] Accuracy on batch: 1.000000\n",
      "Epoch: 0382    cost: 0.160253897 \n",
      "I0629 18:01:27.359508 4574504384 feedforward_robust.py:890] Epoch: 0382    cost: 0.160253897 \n",
      "Accuracy on batch: 1.000000\n",
      "I0629 18:01:27.360679 4574504384 feedforward_robust.py:891] Accuracy on batch: 1.000000\n",
      "Epoch: 0383    cost: 0.160309359 \n",
      "I0629 18:01:27.450710 4574504384 feedforward_robust.py:890] Epoch: 0383    cost: 0.160309359 \n",
      "Accuracy on batch: 1.000000\n",
      "I0629 18:01:27.452203 4574504384 feedforward_robust.py:891] Accuracy on batch: 1.000000\n"
     ]
    },
    {
     "name": "stdout",
     "output_type": "stream",
     "text": [
      "iteration: 0\n",
      "loss 0.001532\n",
      "iteration: 20\n",
      "loss 0.007527\n",
      "iteration: 40\n",
      "loss 0.007761\n",
      "iteration: 0\n",
      "loss 0.001463\n",
      "iteration: 20\n",
      "loss 0.007683\n",
      "iteration: 40\n",
      "loss 0.007865\n",
      "iteration: 0\n",
      "loss 0.001733\n",
      "iteration: 20\n",
      "loss 0.007318\n"
     ]
    },
    {
     "name": "stderr",
     "output_type": "stream",
     "text": [
      "Epoch: 0384    cost: 0.160330281 \n",
      "I0629 18:01:27.541487 4574504384 feedforward_robust.py:890] Epoch: 0384    cost: 0.160330281 \n",
      "Accuracy on batch: 1.000000\n",
      "I0629 18:01:27.542887 4574504384 feedforward_robust.py:891] Accuracy on batch: 1.000000\n",
      "Epoch: 0385    cost: 0.160144866 \n",
      "I0629 18:01:27.634676 4574504384 feedforward_robust.py:890] Epoch: 0385    cost: 0.160144866 \n",
      "Accuracy on batch: 1.000000\n",
      "I0629 18:01:27.636012 4574504384 feedforward_robust.py:891] Accuracy on batch: 1.000000\n",
      "Epoch: 0386    cost: 0.159867629 \n",
      "I0629 18:01:27.723778 4574504384 feedforward_robust.py:890] Epoch: 0386    cost: 0.159867629 \n",
      "Accuracy on batch: 1.000000\n",
      "I0629 18:01:27.725030 4574504384 feedforward_robust.py:891] Accuracy on batch: 1.000000\n"
     ]
    },
    {
     "name": "stdout",
     "output_type": "stream",
     "text": [
      "iteration: 40\n",
      "loss 0.007862\n",
      "iteration: 0\n",
      "loss 0.001392\n",
      "iteration: 20\n",
      "loss 0.007261\n",
      "iteration: 40\n",
      "loss 0.007620\n",
      "iteration: 0\n",
      "loss 0.001357\n",
      "iteration: 20\n",
      "loss 0.007347\n",
      "iteration: 40\n",
      "loss 0.007461\n"
     ]
    },
    {
     "name": "stderr",
     "output_type": "stream",
     "text": [
      "Epoch: 0387    cost: 0.159691155 \n",
      "I0629 18:01:27.821290 4574504384 feedforward_robust.py:890] Epoch: 0387    cost: 0.159691155 \n",
      "Accuracy on batch: 1.000000\n",
      "I0629 18:01:27.822479 4574504384 feedforward_robust.py:891] Accuracy on batch: 1.000000\n",
      "Epoch: 0388    cost: 0.159452587 \n",
      "I0629 18:01:27.925304 4574504384 feedforward_robust.py:890] Epoch: 0388    cost: 0.159452587 \n",
      "Accuracy on batch: 1.000000\n",
      "I0629 18:01:27.926738 4574504384 feedforward_robust.py:891] Accuracy on batch: 1.000000\n"
     ]
    },
    {
     "name": "stdout",
     "output_type": "stream",
     "text": [
      "iteration: 0\n",
      "loss 0.001402\n",
      "iteration: 20\n",
      "loss 0.007129\n",
      "iteration: 40\n",
      "loss 0.007302\n",
      "iteration: 0\n",
      "loss 0.001317\n",
      "iteration: 20\n",
      "loss 0.007043\n",
      "iteration: 40\n",
      "loss 0.007097\n",
      "iteration: 0\n",
      "loss 0.001370\n"
     ]
    },
    {
     "name": "stderr",
     "output_type": "stream",
     "text": [
      "Epoch: 0389    cost: 0.159464374 \n",
      "I0629 18:01:28.027053 4574504384 feedforward_robust.py:890] Epoch: 0389    cost: 0.159464374 \n",
      "Accuracy on batch: 1.000000\n",
      "I0629 18:01:28.028619 4574504384 feedforward_robust.py:891] Accuracy on batch: 1.000000\n",
      "Epoch: 0390    cost: 0.159433171 \n",
      "I0629 18:01:28.119120 4574504384 feedforward_robust.py:890] Epoch: 0390    cost: 0.159433171 \n",
      "Accuracy on batch: 1.000000\n",
      "I0629 18:01:28.120582 4574504384 feedforward_robust.py:891] Accuracy on batch: 1.000000\n"
     ]
    },
    {
     "name": "stdout",
     "output_type": "stream",
     "text": [
      "iteration: 20\n",
      "loss 0.006996\n",
      "iteration: 40\n",
      "loss 0.007135\n",
      "iteration: 0\n",
      "loss 0.001347\n",
      "iteration: 20\n",
      "loss 0.006943\n",
      "iteration: 40\n",
      "loss 0.007107\n",
      "iteration: 0\n",
      "loss 0.001407\n",
      "iteration: 20\n",
      "loss 0.006993\n"
     ]
    },
    {
     "name": "stderr",
     "output_type": "stream",
     "text": [
      "Epoch: 0391    cost: 0.159669667 \n",
      "I0629 18:01:28.210062 4574504384 feedforward_robust.py:890] Epoch: 0391    cost: 0.159669667 \n",
      "Accuracy on batch: 1.000000\n",
      "I0629 18:01:28.211564 4574504384 feedforward_robust.py:891] Accuracy on batch: 1.000000\n",
      "Epoch: 0392    cost: 0.159242183 \n",
      "I0629 18:01:28.309150 4574504384 feedforward_robust.py:890] Epoch: 0392    cost: 0.159242183 \n",
      "Accuracy on batch: 1.000000\n",
      "I0629 18:01:28.311281 4574504384 feedforward_robust.py:891] Accuracy on batch: 1.000000\n"
     ]
    },
    {
     "name": "stdout",
     "output_type": "stream",
     "text": [
      "iteration: 40\n",
      "loss 0.007299\n",
      "iteration: 0\n",
      "loss 0.001287\n",
      "iteration: 20\n",
      "loss 0.006850\n",
      "iteration: 40\n",
      "loss 0.006960\n",
      "iteration: 0\n",
      "loss 0.001410\n",
      "iteration: 20\n",
      "loss 0.006820\n",
      "iteration: 40\n",
      "loss 0.006900\n"
     ]
    },
    {
     "name": "stderr",
     "output_type": "stream",
     "text": [
      "Epoch: 0393    cost: 0.159130111 \n",
      "I0629 18:01:28.406218 4574504384 feedforward_robust.py:890] Epoch: 0393    cost: 0.159130111 \n",
      "Accuracy on batch: 1.000000\n",
      "I0629 18:01:28.407562 4574504384 feedforward_robust.py:891] Accuracy on batch: 1.000000\n",
      "Epoch: 0394    cost: 0.159500524 \n",
      "I0629 18:01:28.499325 4574504384 feedforward_robust.py:890] Epoch: 0394    cost: 0.159500524 \n",
      "Accuracy on batch: 1.000000\n",
      "I0629 18:01:28.500689 4574504384 feedforward_robust.py:891] Accuracy on batch: 1.000000\n",
      "Epoch: 0395    cost: 0.159508497 \n",
      "I0629 18:01:28.593999 4574504384 feedforward_robust.py:890] Epoch: 0395    cost: 0.159508497 \n",
      "Accuracy on batch: 1.000000\n",
      "I0629 18:01:28.595631 4574504384 feedforward_robust.py:891] Accuracy on batch: 1.000000\n"
     ]
    },
    {
     "name": "stdout",
     "output_type": "stream",
     "text": [
      "iteration: 0\n",
      "loss 0.001312\n",
      "iteration: 20\n",
      "loss 0.006837\n",
      "iteration: 40\n",
      "loss 0.007277\n",
      "iteration: 0\n",
      "loss 0.001354\n",
      "iteration: 20\n",
      "loss 0.006935\n",
      "iteration: 40\n",
      "loss 0.007277\n",
      "iteration: 0\n",
      "loss 0.001244\n"
     ]
    },
    {
     "name": "stderr",
     "output_type": "stream",
     "text": [
      "Epoch: 0396    cost: 0.159228295 \n",
      "I0629 18:01:28.702679 4574504384 feedforward_robust.py:890] Epoch: 0396    cost: 0.159228295 \n",
      "Accuracy on batch: 1.000000\n",
      "I0629 18:01:28.708431 4574504384 feedforward_robust.py:891] Accuracy on batch: 1.000000\n",
      "Epoch: 0397    cost: 0.159132108 \n",
      "I0629 18:01:28.825980 4574504384 feedforward_robust.py:890] Epoch: 0397    cost: 0.159132108 \n",
      "Accuracy on batch: 1.000000\n",
      "I0629 18:01:28.827641 4574504384 feedforward_robust.py:891] Accuracy on batch: 1.000000\n"
     ]
    },
    {
     "name": "stdout",
     "output_type": "stream",
     "text": [
      "iteration: 20\n",
      "loss 0.006820\n",
      "iteration: 40\n",
      "loss 0.007033\n",
      "iteration: 0\n",
      "loss 0.001393\n",
      "iteration: 20\n",
      "loss 0.006736\n",
      "iteration: 40\n",
      "loss 0.006984\n"
     ]
    },
    {
     "name": "stderr",
     "output_type": "stream",
     "text": [
      "Epoch: 0398    cost: 0.159244522 \n",
      "I0629 18:01:28.922864 4574504384 feedforward_robust.py:890] Epoch: 0398    cost: 0.159244522 \n",
      "Accuracy on batch: 1.000000\n",
      "I0629 18:01:28.924202 4574504384 feedforward_robust.py:891] Accuracy on batch: 1.000000\n",
      "Epoch: 0399    cost: 0.159408718 \n",
      "I0629 18:01:29.013732 4574504384 feedforward_robust.py:890] Epoch: 0399    cost: 0.159408718 \n",
      "Accuracy on batch: 1.000000\n",
      "I0629 18:01:29.015056 4574504384 feedforward_robust.py:891] Accuracy on batch: 1.000000\n"
     ]
    },
    {
     "name": "stdout",
     "output_type": "stream",
     "text": [
      "iteration: 0\n",
      "loss 0.001269\n",
      "iteration: 20\n",
      "loss 0.006566\n",
      "iteration: 40\n",
      "loss 0.007007\n",
      "iteration: 0\n",
      "loss 0.001204\n",
      "iteration: 20\n",
      "loss 0.006777\n",
      "iteration: 40\n",
      "loss 0.007326\n",
      "iteration: 0\n",
      "loss 0.001176\n"
     ]
    },
    {
     "name": "stderr",
     "output_type": "stream",
     "text": [
      "Epoch: 0400    cost: 0.158512235 \n",
      "I0629 18:01:29.113582 4574504384 feedforward_robust.py:890] Epoch: 0400    cost: 0.158512235 \n",
      "Accuracy on batch: 1.000000\n",
      "I0629 18:01:29.115134 4574504384 feedforward_robust.py:891] Accuracy on batch: 1.000000\n",
      "Epoch: 0401    cost: 0.158876047 \n",
      "I0629 18:01:29.207436 4574504384 feedforward_robust.py:890] Epoch: 0401    cost: 0.158876047 \n",
      "Accuracy on batch: 1.000000\n",
      "I0629 18:01:29.209836 4574504384 feedforward_robust.py:891] Accuracy on batch: 1.000000\n"
     ]
    },
    {
     "name": "stdout",
     "output_type": "stream",
     "text": [
      "iteration: 20\n",
      "loss 0.006396\n",
      "iteration: 40\n",
      "loss 0.006481\n",
      "iteration: 0\n",
      "loss 0.001195\n",
      "iteration: 20\n",
      "loss 0.006414\n",
      "iteration: 40\n",
      "loss 0.006768\n",
      "iteration: 0\n",
      "loss 0.001434\n",
      "iteration: 20\n",
      "loss 0.006349\n"
     ]
    },
    {
     "name": "stderr",
     "output_type": "stream",
     "text": [
      "Epoch: 0402    cost: 0.158818007 \n",
      "I0629 18:01:29.296461 4574504384 feedforward_robust.py:890] Epoch: 0402    cost: 0.158818007 \n",
      "Accuracy on batch: 1.000000\n",
      "I0629 18:01:29.297589 4574504384 feedforward_robust.py:891] Accuracy on batch: 1.000000\n",
      "Epoch: 0403    cost: 0.158820540 \n",
      "I0629 18:01:29.393772 4574504384 feedforward_robust.py:890] Epoch: 0403    cost: 0.158820540 \n",
      "Accuracy on batch: 1.000000\n",
      "I0629 18:01:29.394954 4574504384 feedforward_robust.py:891] Accuracy on batch: 1.000000\n"
     ]
    },
    {
     "name": "stdout",
     "output_type": "stream",
     "text": [
      "iteration: 40\n",
      "loss 0.006719\n",
      "iteration: 0\n",
      "loss 0.001228\n",
      "iteration: 20\n",
      "loss 0.006438\n",
      "iteration: 40\n",
      "loss 0.006779\n",
      "iteration: 0\n",
      "loss 0.001251\n",
      "iteration: 20\n",
      "loss 0.006353\n",
      "iteration: 40\n",
      "loss 0.006432\n"
     ]
    },
    {
     "name": "stderr",
     "output_type": "stream",
     "text": [
      "Epoch: 0404    cost: 0.158422321 \n",
      "I0629 18:01:29.503139 4574504384 feedforward_robust.py:890] Epoch: 0404    cost: 0.158422321 \n",
      "Accuracy on batch: 1.000000\n",
      "I0629 18:01:29.504783 4574504384 feedforward_robust.py:891] Accuracy on batch: 1.000000\n",
      "Epoch: 0405    cost: 0.158275023 \n",
      "I0629 18:01:29.602250 4574504384 feedforward_robust.py:890] Epoch: 0405    cost: 0.158275023 \n",
      "Accuracy on batch: 1.000000\n",
      "I0629 18:01:29.603976 4574504384 feedforward_robust.py:891] Accuracy on batch: 1.000000\n",
      "Epoch: 0406    cost: 0.158565834 \n",
      "I0629 18:01:29.692801 4574504384 feedforward_robust.py:890] Epoch: 0406    cost: 0.158565834 \n",
      "Accuracy on batch: 1.000000\n",
      "I0629 18:01:29.694116 4574504384 feedforward_robust.py:891] Accuracy on batch: 1.000000\n"
     ]
    },
    {
     "name": "stdout",
     "output_type": "stream",
     "text": [
      "iteration: 0\n",
      "loss 0.001123\n",
      "iteration: 20\n",
      "loss 0.006286\n",
      "iteration: 40\n",
      "loss 0.006348\n",
      "iteration: 0\n",
      "loss 0.001180\n",
      "iteration: 20\n",
      "loss 0.006208\n",
      "iteration: 40\n",
      "loss 0.006570\n",
      "iteration: 0\n",
      "loss 0.001250\n"
     ]
    },
    {
     "name": "stderr",
     "output_type": "stream",
     "text": [
      "Epoch: 0407    cost: 0.158382297 \n",
      "I0629 18:01:29.788389 4574504384 feedforward_robust.py:890] Epoch: 0407    cost: 0.158382297 \n",
      "Accuracy on batch: 1.000000\n",
      "I0629 18:01:29.789582 4574504384 feedforward_robust.py:891] Accuracy on batch: 1.000000\n",
      "Epoch: 0408    cost: 0.158440530 \n",
      "I0629 18:01:29.875923 4574504384 feedforward_robust.py:890] Epoch: 0408    cost: 0.158440530 \n",
      "Accuracy on batch: 1.000000\n",
      "I0629 18:01:29.877433 4574504384 feedforward_robust.py:891] Accuracy on batch: 1.000000\n"
     ]
    },
    {
     "name": "stdout",
     "output_type": "stream",
     "text": [
      "iteration: 20\n",
      "loss 0.006265\n",
      "iteration: 40\n",
      "loss 0.006438\n",
      "iteration: 0\n",
      "loss 0.001087\n",
      "iteration: 20\n",
      "loss 0.006131\n",
      "iteration: 40\n",
      "loss 0.006522\n",
      "iteration: 0\n",
      "loss 0.001174\n",
      "iteration: 20\n",
      "loss 0.006057\n"
     ]
    },
    {
     "name": "stderr",
     "output_type": "stream",
     "text": [
      "Epoch: 0409    cost: 0.157998726 \n",
      "I0629 18:01:29.978139 4574504384 feedforward_robust.py:890] Epoch: 0409    cost: 0.157998726 \n",
      "Accuracy on batch: 1.000000\n",
      "I0629 18:01:29.979429 4574504384 feedforward_robust.py:891] Accuracy on batch: 1.000000\n",
      "Epoch: 0410    cost: 0.158092767 \n",
      "I0629 18:01:30.081456 4574504384 feedforward_robust.py:890] Epoch: 0410    cost: 0.158092767 \n",
      "Accuracy on batch: 1.000000\n",
      "I0629 18:01:30.084592 4574504384 feedforward_robust.py:891] Accuracy on batch: 1.000000\n"
     ]
    },
    {
     "name": "stdout",
     "output_type": "stream",
     "text": [
      "iteration: 40\n",
      "loss 0.006118\n",
      "iteration: 0\n",
      "loss 0.001156\n",
      "iteration: 20\n",
      "loss 0.005997\n",
      "iteration: 40\n",
      "loss 0.006156\n",
      "iteration: 0\n",
      "loss 0.001152\n",
      "iteration: 20\n",
      "loss 0.006092\n",
      "iteration: 40\n",
      "loss 0.006399\n"
     ]
    },
    {
     "name": "stderr",
     "output_type": "stream",
     "text": [
      "Epoch: 0411    cost: 0.158244506 \n",
      "I0629 18:01:30.175231 4574504384 feedforward_robust.py:890] Epoch: 0411    cost: 0.158244506 \n",
      "Accuracy on batch: 1.000000\n",
      "I0629 18:01:30.176903 4574504384 feedforward_robust.py:891] Accuracy on batch: 1.000000\n",
      "Epoch: 0412    cost: 0.157897308 \n",
      "I0629 18:01:30.265312 4574504384 feedforward_robust.py:890] Epoch: 0412    cost: 0.157897308 \n",
      "Accuracy on batch: 1.000000\n",
      "I0629 18:01:30.266443 4574504384 feedforward_robust.py:891] Accuracy on batch: 1.000000\n",
      "Epoch: 0413    cost: 0.157927454 \n",
      "I0629 18:01:30.352846 4574504384 feedforward_robust.py:890] Epoch: 0413    cost: 0.157927454 \n",
      "Accuracy on batch: 1.000000\n",
      "I0629 18:01:30.354305 4574504384 feedforward_robust.py:891] Accuracy on batch: 1.000000\n"
     ]
    },
    {
     "name": "stdout",
     "output_type": "stream",
     "text": [
      "iteration: 0\n",
      "loss 0.001064\n",
      "iteration: 20\n",
      "loss 0.005910\n",
      "iteration: 40\n",
      "loss 0.006074\n",
      "iteration: 0\n",
      "loss 0.001023\n",
      "iteration: 20\n",
      "loss 0.005933\n",
      "iteration: 40\n",
      "loss 0.006130\n",
      "iteration: 0\n",
      "loss 0.001085\n",
      "iteration: 20\n",
      "loss 0.005830\n"
     ]
    },
    {
     "name": "stderr",
     "output_type": "stream",
     "text": [
      "Epoch: 0414    cost: 0.157737404 \n",
      "I0629 18:01:30.442201 4574504384 feedforward_robust.py:890] Epoch: 0414    cost: 0.157737404 \n",
      "Accuracy on batch: 1.000000\n",
      "I0629 18:01:30.443351 4574504384 feedforward_robust.py:891] Accuracy on batch: 1.000000\n",
      "Epoch: 0415    cost: 0.157928601 \n",
      "I0629 18:01:30.531038 4574504384 feedforward_robust.py:890] Epoch: 0415    cost: 0.157928601 \n",
      "Accuracy on batch: 1.000000\n",
      "I0629 18:01:30.532108 4574504384 feedforward_robust.py:891] Accuracy on batch: 1.000000\n",
      "Epoch: 0416    cost: 0.157754928 \n",
      "I0629 18:01:30.621237 4574504384 feedforward_robust.py:890] Epoch: 0416    cost: 0.157754928 \n",
      "Accuracy on batch: 1.000000\n",
      "I0629 18:01:30.622824 4574504384 feedforward_robust.py:891] Accuracy on batch: 1.000000\n"
     ]
    },
    {
     "name": "stdout",
     "output_type": "stream",
     "text": [
      "iteration: 40\n",
      "loss 0.005927\n",
      "iteration: 0\n",
      "loss 0.001008\n",
      "iteration: 20\n",
      "loss 0.005925\n",
      "iteration: 40\n",
      "loss 0.006181\n",
      "iteration: 0\n",
      "loss 0.001059\n",
      "iteration: 20\n",
      "loss 0.005947\n",
      "iteration: 40\n",
      "loss 0.006042\n"
     ]
    },
    {
     "name": "stderr",
     "output_type": "stream",
     "text": [
      "Epoch: 0417    cost: 0.157627240 \n",
      "I0629 18:01:30.713091 4574504384 feedforward_robust.py:890] Epoch: 0417    cost: 0.157627240 \n",
      "Accuracy on batch: 1.000000\n",
      "I0629 18:01:30.714369 4574504384 feedforward_robust.py:891] Accuracy on batch: 1.000000\n",
      "Epoch: 0418    cost: 0.157378539 \n",
      "I0629 18:01:30.804023 4574504384 feedforward_robust.py:890] Epoch: 0418    cost: 0.157378539 \n",
      "Accuracy on batch: 1.000000\n",
      "I0629 18:01:30.805438 4574504384 feedforward_robust.py:891] Accuracy on batch: 1.000000\n"
     ]
    },
    {
     "name": "stdout",
     "output_type": "stream",
     "text": [
      "iteration: 0\n",
      "loss 0.001073\n",
      "iteration: 20\n",
      "loss 0.005846\n",
      "iteration: 40\n",
      "loss 0.005930\n",
      "iteration: 0\n",
      "loss 0.001021\n",
      "iteration: 20\n",
      "loss 0.005656\n",
      "iteration: 40\n",
      "loss 0.005705\n",
      "iteration: 0\n",
      "loss 0.001026\n",
      "iteration: 20\n",
      "loss 0.005758\n"
     ]
    },
    {
     "name": "stderr",
     "output_type": "stream",
     "text": [
      "Epoch: 0419    cost: 0.157474175 \n",
      "I0629 18:01:30.897935 4574504384 feedforward_robust.py:890] Epoch: 0419    cost: 0.157474175 \n",
      "Accuracy on batch: 1.000000\n",
      "I0629 18:01:30.899252 4574504384 feedforward_robust.py:891] Accuracy on batch: 1.000000\n",
      "Epoch: 0420    cost: 0.157331795 \n",
      "I0629 18:01:30.990425 4574504384 feedforward_robust.py:890] Epoch: 0420    cost: 0.157331795 \n",
      "Accuracy on batch: 1.000000\n",
      "I0629 18:01:30.992063 4574504384 feedforward_robust.py:891] Accuracy on batch: 1.000000\n"
     ]
    },
    {
     "name": "stdout",
     "output_type": "stream",
     "text": [
      "iteration: 40\n",
      "loss 0.005842\n",
      "iteration: 0\n",
      "loss 0.001024\n",
      "iteration: 20\n",
      "loss 0.005602\n",
      "iteration: 40\n",
      "loss 0.005709\n",
      "iteration: 0\n",
      "loss 0.001010\n",
      "iteration: 20\n",
      "loss 0.005885\n",
      "iteration: 40\n",
      "loss 0.006142\n"
     ]
    },
    {
     "name": "stderr",
     "output_type": "stream",
     "text": [
      "Epoch: 0421    cost: 0.157761768 \n",
      "I0629 18:01:31.082561 4574504384 feedforward_robust.py:890] Epoch: 0421    cost: 0.157761768 \n",
      "Accuracy on batch: 1.000000\n",
      "I0629 18:01:31.084538 4574504384 feedforward_robust.py:891] Accuracy on batch: 1.000000\n",
      "Epoch: 0422    cost: 0.157198012 \n",
      "I0629 18:01:31.179955 4574504384 feedforward_robust.py:890] Epoch: 0422    cost: 0.157198012 \n",
      "Accuracy on batch: 1.000000\n",
      "I0629 18:01:31.181678 4574504384 feedforward_robust.py:891] Accuracy on batch: 1.000000\n",
      "Epoch: 0423    cost: 0.157267466 \n",
      "I0629 18:01:31.286106 4574504384 feedforward_robust.py:890] Epoch: 0423    cost: 0.157267466 \n",
      "Accuracy on batch: 1.000000\n",
      "I0629 18:01:31.287747 4574504384 feedforward_robust.py:891] Accuracy on batch: 1.000000\n"
     ]
    },
    {
     "name": "stdout",
     "output_type": "stream",
     "text": [
      "iteration: 0\n",
      "loss 0.000909\n",
      "iteration: 20\n",
      "loss 0.005510\n",
      "iteration: 40\n",
      "loss 0.005601\n",
      "iteration: 0\n",
      "loss 0.001069\n",
      "iteration: 20\n",
      "loss 0.005618\n",
      "iteration: 40\n",
      "loss 0.005732\n"
     ]
    },
    {
     "name": "stderr",
     "output_type": "stream",
     "text": [
      "Epoch: 0424    cost: 0.157232225 \n",
      "I0629 18:01:31.392248 4574504384 feedforward_robust.py:890] Epoch: 0424    cost: 0.157232225 \n",
      "Accuracy on batch: 1.000000\n",
      "I0629 18:01:31.393961 4574504384 feedforward_robust.py:891] Accuracy on batch: 1.000000\n",
      "Epoch: 0425    cost: 0.157013044 \n",
      "I0629 18:01:31.485885 4574504384 feedforward_robust.py:890] Epoch: 0425    cost: 0.157013044 \n",
      "Accuracy on batch: 1.000000\n",
      "I0629 18:01:31.487624 4574504384 feedforward_robust.py:891] Accuracy on batch: 1.000000\n"
     ]
    },
    {
     "name": "stdout",
     "output_type": "stream",
     "text": [
      "iteration: 0\n",
      "loss 0.000998\n",
      "iteration: 20\n",
      "loss 0.005561\n",
      "iteration: 40\n",
      "loss 0.005707\n",
      "iteration: 0\n",
      "loss 0.000876\n",
      "iteration: 20\n",
      "loss 0.005454\n",
      "iteration: 40\n",
      "loss 0.005536\n",
      "iteration: 0\n",
      "loss 0.001089\n"
     ]
    },
    {
     "name": "stderr",
     "output_type": "stream",
     "text": [
      "Epoch: 0426    cost: 0.157251522 \n",
      "I0629 18:01:31.582233 4574504384 feedforward_robust.py:890] Epoch: 0426    cost: 0.157251522 \n",
      "Accuracy on batch: 1.000000\n",
      "I0629 18:01:31.583714 4574504384 feedforward_robust.py:891] Accuracy on batch: 1.000000\n",
      "Epoch: 0427    cost: 0.157160163 \n",
      "I0629 18:01:31.670680 4574504384 feedforward_robust.py:890] Epoch: 0427    cost: 0.157160163 \n",
      "Accuracy on batch: 1.000000\n",
      "I0629 18:01:31.672207 4574504384 feedforward_robust.py:891] Accuracy on batch: 1.000000\n"
     ]
    },
    {
     "name": "stdout",
     "output_type": "stream",
     "text": [
      "iteration: 20\n",
      "loss 0.005600\n",
      "iteration: 40\n",
      "loss 0.005769\n",
      "iteration: 0\n",
      "loss 0.000944\n",
      "iteration: 20\n",
      "loss 0.005476\n",
      "iteration: 40\n",
      "loss 0.005648\n",
      "iteration: 0\n",
      "loss 0.000929\n",
      "iteration: 20\n",
      "loss 0.005485\n"
     ]
    },
    {
     "name": "stderr",
     "output_type": "stream",
     "text": [
      "Epoch: 0428    cost: 0.157106325 \n",
      "I0629 18:01:31.764074 4574504384 feedforward_robust.py:890] Epoch: 0428    cost: 0.157106325 \n",
      "Accuracy on batch: 1.000000\n",
      "I0629 18:01:31.765445 4574504384 feedforward_robust.py:891] Accuracy on batch: 1.000000\n",
      "Epoch: 0429    cost: 0.157283872 \n",
      "I0629 18:01:31.850940 4574504384 feedforward_robust.py:890] Epoch: 0429    cost: 0.157283872 \n",
      "Accuracy on batch: 1.000000\n",
      "I0629 18:01:31.851983 4574504384 feedforward_robust.py:891] Accuracy on batch: 1.000000\n",
      "Epoch: 0430    cost: 0.156858355 \n",
      "I0629 18:01:31.938362 4574504384 feedforward_robust.py:890] Epoch: 0430    cost: 0.156858355 \n",
      "Accuracy on batch: 1.000000\n",
      "I0629 18:01:31.939475 4574504384 feedforward_robust.py:891] Accuracy on batch: 1.000000\n"
     ]
    },
    {
     "name": "stdout",
     "output_type": "stream",
     "text": [
      "iteration: 40\n",
      "loss 0.005675\n",
      "iteration: 0\n",
      "loss 0.001087\n",
      "iteration: 20\n",
      "loss 0.005623\n",
      "iteration: 40\n",
      "loss 0.005871\n",
      "iteration: 0\n",
      "loss 0.001128\n",
      "iteration: 20\n",
      "loss 0.005309\n",
      "iteration: 40\n",
      "loss 0.005455\n"
     ]
    },
    {
     "name": "stderr",
     "output_type": "stream",
     "text": [
      "Epoch: 0431    cost: 0.156758711 \n",
      "I0629 18:01:32.026587 4574504384 feedforward_robust.py:890] Epoch: 0431    cost: 0.156758711 \n",
      "Accuracy on batch: 1.000000\n",
      "I0629 18:01:32.027689 4574504384 feedforward_robust.py:891] Accuracy on batch: 1.000000\n",
      "Epoch: 0432    cost: 0.156922400 \n",
      "I0629 18:01:32.119259 4574504384 feedforward_robust.py:890] Epoch: 0432    cost: 0.156922400 \n",
      "Accuracy on batch: 1.000000\n",
      "I0629 18:01:32.120707 4574504384 feedforward_robust.py:891] Accuracy on batch: 1.000000\n"
     ]
    },
    {
     "name": "stdout",
     "output_type": "stream",
     "text": [
      "iteration: 0\n",
      "loss 0.000996\n",
      "iteration: 20\n",
      "loss 0.005239\n",
      "iteration: 40\n",
      "loss 0.005402\n",
      "iteration: 0\n",
      "loss 0.000964\n",
      "iteration: 20\n",
      "loss 0.005319\n",
      "iteration: 40\n",
      "loss 0.005598\n",
      "iteration: 0\n",
      "loss 0.001030\n",
      "iteration: 20\n",
      "loss 0.005345\n"
     ]
    },
    {
     "name": "stderr",
     "output_type": "stream",
     "text": [
      "Epoch: 0433    cost: 0.156846046 \n",
      "I0629 18:01:32.212832 4574504384 feedforward_robust.py:890] Epoch: 0433    cost: 0.156846046 \n",
      "Accuracy on batch: 1.000000\n",
      "I0629 18:01:32.214070 4574504384 feedforward_robust.py:891] Accuracy on batch: 1.000000\n",
      "Epoch: 0434    cost: 0.156700924 \n",
      "I0629 18:01:32.305327 4574504384 feedforward_robust.py:890] Epoch: 0434    cost: 0.156700924 \n",
      "Accuracy on batch: 1.000000\n",
      "I0629 18:01:32.306615 4574504384 feedforward_robust.py:891] Accuracy on batch: 1.000000\n",
      "Epoch: 0435    cost: 0.156850845 \n"
     ]
    },
    {
     "name": "stdout",
     "output_type": "stream",
     "text": [
      "iteration: 40\n",
      "loss 0.005533\n",
      "iteration: 0\n",
      "loss 0.000858\n",
      "iteration: 20\n",
      "loss 0.005304\n",
      "iteration: 40\n",
      "loss 0.005439\n",
      "iteration: 0\n",
      "loss 0.000922\n",
      "iteration: 20\n",
      "loss 0.005274\n",
      "iteration: 40\n",
      "loss 0.005537\n"
     ]
    },
    {
     "name": "stderr",
     "output_type": "stream",
     "text": [
      "I0629 18:01:32.394964 4574504384 feedforward_robust.py:890] Epoch: 0435    cost: 0.156850845 \n",
      "Accuracy on batch: 1.000000\n",
      "I0629 18:01:32.396241 4574504384 feedforward_robust.py:891] Accuracy on batch: 1.000000\n",
      "Epoch: 0436    cost: 0.156872541 \n",
      "I0629 18:01:32.483963 4574504384 feedforward_robust.py:890] Epoch: 0436    cost: 0.156872541 \n",
      "Accuracy on batch: 1.000000\n",
      "I0629 18:01:32.485296 4574504384 feedforward_robust.py:891] Accuracy on batch: 1.000000\n",
      "Epoch: 0437    cost: 0.156510174 \n",
      "I0629 18:01:32.574613 4574504384 feedforward_robust.py:890] Epoch: 0437    cost: 0.156510174 \n",
      "Accuracy on batch: 1.000000\n",
      "I0629 18:01:32.575978 4574504384 feedforward_robust.py:891] Accuracy on batch: 1.000000\n"
     ]
    },
    {
     "name": "stdout",
     "output_type": "stream",
     "text": [
      "iteration: 0\n",
      "loss 0.000837\n",
      "iteration: 20\n",
      "loss 0.005261\n",
      "iteration: 40\n",
      "loss 0.005619\n",
      "iteration: 0\n",
      "loss 0.000906\n",
      "iteration: 20\n",
      "loss 0.005108\n",
      "iteration: 40\n",
      "loss 0.005302\n",
      "iteration: 0\n",
      "loss 0.000870\n"
     ]
    },
    {
     "name": "stderr",
     "output_type": "stream",
     "text": [
      "Epoch: 0438    cost: 0.156526580 \n",
      "I0629 18:01:32.669857 4574504384 feedforward_robust.py:890] Epoch: 0438    cost: 0.156526580 \n",
      "Accuracy on batch: 1.000000\n",
      "I0629 18:01:32.671130 4574504384 feedforward_robust.py:891] Accuracy on batch: 1.000000\n",
      "Epoch: 0439    cost: 0.156485334 \n",
      "I0629 18:01:32.761447 4574504384 feedforward_robust.py:890] Epoch: 0439    cost: 0.156485334 \n",
      "Accuracy on batch: 1.000000\n",
      "I0629 18:01:32.763065 4574504384 feedforward_robust.py:891] Accuracy on batch: 1.000000\n"
     ]
    },
    {
     "name": "stdout",
     "output_type": "stream",
     "text": [
      "iteration: 20\n",
      "loss 0.005207\n",
      "iteration: 40\n",
      "loss 0.005347\n",
      "iteration: 0\n",
      "loss 0.000877\n",
      "iteration: 20\n",
      "loss 0.005133\n",
      "iteration: 40\n",
      "loss 0.005328\n",
      "iteration: 0\n",
      "loss 0.000939\n",
      "iteration: 20\n",
      "loss 0.005159\n"
     ]
    },
    {
     "name": "stderr",
     "output_type": "stream",
     "text": [
      "Epoch: 0440    cost: 0.156507209 \n",
      "I0629 18:01:32.853940 4574504384 feedforward_robust.py:890] Epoch: 0440    cost: 0.156507209 \n",
      "Accuracy on batch: 1.000000\n",
      "I0629 18:01:32.856009 4574504384 feedforward_robust.py:891] Accuracy on batch: 1.000000\n",
      "Epoch: 0441    cost: 0.156274110 \n",
      "I0629 18:01:32.944704 4574504384 feedforward_robust.py:890] Epoch: 0441    cost: 0.156274110 \n",
      "Accuracy on batch: 1.000000\n",
      "I0629 18:01:32.946264 4574504384 feedforward_robust.py:891] Accuracy on batch: 1.000000\n"
     ]
    },
    {
     "name": "stdout",
     "output_type": "stream",
     "text": [
      "iteration: 40\n",
      "loss 0.005347\n",
      "iteration: 0\n",
      "loss 0.000983\n",
      "iteration: 20\n",
      "loss 0.005019\n",
      "iteration: 40\n",
      "loss 0.005171\n",
      "iteration: 0\n",
      "loss 0.000847\n",
      "iteration: 20\n",
      "loss 0.005082\n",
      "iteration: 40\n",
      "loss 0.005168\n"
     ]
    },
    {
     "name": "stderr",
     "output_type": "stream",
     "text": [
      "Epoch: 0442    cost: 0.156258121 \n",
      "I0629 18:01:33.037678 4574504384 feedforward_robust.py:890] Epoch: 0442    cost: 0.156258121 \n",
      "Accuracy on batch: 1.000000\n",
      "I0629 18:01:33.040112 4574504384 feedforward_robust.py:891] Accuracy on batch: 1.000000\n",
      "Epoch: 0443    cost: 0.156131700 \n",
      "I0629 18:01:33.130103 4574504384 feedforward_robust.py:890] Epoch: 0443    cost: 0.156131700 \n",
      "Accuracy on batch: 1.000000\n",
      "I0629 18:01:33.131211 4574504384 feedforward_robust.py:891] Accuracy on batch: 1.000000\n",
      "Epoch: 0444    cost: 0.156418324 \n",
      "I0629 18:01:33.218904 4574504384 feedforward_robust.py:890] Epoch: 0444    cost: 0.156418324 \n",
      "Accuracy on batch: 1.000000\n",
      "I0629 18:01:33.219963 4574504384 feedforward_robust.py:891] Accuracy on batch: 1.000000\n"
     ]
    },
    {
     "name": "stdout",
     "output_type": "stream",
     "text": [
      "iteration: 0\n",
      "loss 0.000871\n",
      "iteration: 20\n",
      "loss 0.004968\n",
      "iteration: 40\n",
      "loss 0.005046\n",
      "iteration: 0\n",
      "loss 0.000892\n",
      "iteration: 20\n",
      "loss 0.005159\n",
      "iteration: 40\n",
      "loss 0.005372\n",
      "iteration: 0\n",
      "loss 0.000787\n",
      "iteration: 20\n",
      "loss 0.004978\n"
     ]
    },
    {
     "name": "stderr",
     "output_type": "stream",
     "text": [
      "Epoch: 0445    cost: 0.156074658 \n",
      "I0629 18:01:33.314812 4574504384 feedforward_robust.py:890] Epoch: 0445    cost: 0.156074658 \n",
      "Accuracy on batch: 1.000000\n",
      "I0629 18:01:33.316154 4574504384 feedforward_robust.py:891] Accuracy on batch: 1.000000\n",
      "Epoch: 0446    cost: 0.155903772 \n",
      "I0629 18:01:33.403738 4574504384 feedforward_robust.py:890] Epoch: 0446    cost: 0.155903772 \n",
      "Accuracy on batch: 1.000000\n",
      "I0629 18:01:33.404963 4574504384 feedforward_robust.py:891] Accuracy on batch: 1.000000\n",
      "Epoch: 0447    cost: 0.156433731 \n",
      "I0629 18:01:33.492538 4574504384 feedforward_robust.py:890] Epoch: 0447    cost: 0.156433731 \n",
      "Accuracy on batch: 1.000000\n",
      "I0629 18:01:33.493813 4574504384 feedforward_robust.py:891] Accuracy on batch: 1.000000\n"
     ]
    },
    {
     "name": "stdout",
     "output_type": "stream",
     "text": [
      "iteration: 40\n",
      "loss 0.005060\n",
      "iteration: 0\n",
      "loss 0.000788\n",
      "iteration: 20\n",
      "loss 0.004763\n",
      "iteration: 40\n",
      "loss 0.004881\n",
      "iteration: 0\n",
      "loss 0.000823\n",
      "iteration: 20\n",
      "loss 0.004947\n",
      "iteration: 40\n",
      "loss 0.005321\n"
     ]
    },
    {
     "name": "stderr",
     "output_type": "stream",
     "text": [
      "Epoch: 0448    cost: 0.155855909 \n",
      "I0629 18:01:33.583884 4574504384 feedforward_robust.py:890] Epoch: 0448    cost: 0.155855909 \n",
      "Accuracy on batch: 1.000000\n",
      "I0629 18:01:33.585036 4574504384 feedforward_robust.py:891] Accuracy on batch: 1.000000\n",
      "Epoch: 0449    cost: 0.155763850 \n",
      "I0629 18:01:33.672325 4574504384 feedforward_robust.py:890] Epoch: 0449    cost: 0.155763850 \n",
      "Accuracy on batch: 1.000000\n",
      "I0629 18:01:33.673675 4574504384 feedforward_robust.py:891] Accuracy on batch: 1.000000\n"
     ]
    },
    {
     "name": "stdout",
     "output_type": "stream",
     "text": [
      "iteration: 0\n",
      "loss 0.000892\n",
      "iteration: 20\n",
      "loss 0.004819\n",
      "iteration: 40\n",
      "loss 0.004939\n",
      "iteration: 0\n",
      "loss 0.000877\n",
      "iteration: 20\n",
      "loss 0.004735\n",
      "iteration: 40\n",
      "loss 0.004856\n",
      "iteration: 0\n",
      "loss 0.000763\n",
      "iteration: 20\n",
      "loss 0.004768\n"
     ]
    },
    {
     "name": "stderr",
     "output_type": "stream",
     "text": [
      "Epoch: 0450    cost: 0.155711576 \n",
      "I0629 18:01:33.762831 4574504384 feedforward_robust.py:890] Epoch: 0450    cost: 0.155711576 \n",
      "Accuracy on batch: 1.000000\n",
      "I0629 18:01:33.764249 4574504384 feedforward_robust.py:891] Accuracy on batch: 1.000000\n",
      "Epoch: 0451    cost: 0.155556738 \n",
      "I0629 18:01:33.852977 4574504384 feedforward_robust.py:890] Epoch: 0451    cost: 0.155556738 \n",
      "Accuracy on batch: 1.000000\n",
      "I0629 18:01:33.854207 4574504384 feedforward_robust.py:891] Accuracy on batch: 1.000000\n",
      "Epoch: 0452    cost: 0.155538574 \n",
      "I0629 18:01:33.942842 4574504384 feedforward_robust.py:890] Epoch: 0452    cost: 0.155538574 \n",
      "Accuracy on batch: 1.000000\n",
      "I0629 18:01:33.944015 4574504384 feedforward_robust.py:891] Accuracy on batch: 1.000000\n"
     ]
    },
    {
     "name": "stdout",
     "output_type": "stream",
     "text": [
      "iteration: 40\n",
      "loss 0.004872\n",
      "iteration: 0\n",
      "loss 0.000786\n",
      "iteration: 20\n",
      "loss 0.004677\n",
      "iteration: 40\n",
      "loss 0.004737\n",
      "iteration: 0\n",
      "loss 0.000788\n",
      "iteration: 20\n",
      "loss 0.004677\n",
      "iteration: 40\n",
      "loss 0.004742\n"
     ]
    },
    {
     "name": "stderr",
     "output_type": "stream",
     "text": [
      "Epoch: 0453    cost: 0.155653998 \n",
      "I0629 18:01:34.036462 4574504384 feedforward_robust.py:890] Epoch: 0453    cost: 0.155653998 \n",
      "Accuracy on batch: 1.000000\n",
      "I0629 18:01:34.037562 4574504384 feedforward_robust.py:891] Accuracy on batch: 1.000000\n",
      "Epoch: 0454    cost: 0.155923933 \n",
      "I0629 18:01:34.130750 4574504384 feedforward_robust.py:890] Epoch: 0454    cost: 0.155923933 \n",
      "Accuracy on batch: 1.000000\n",
      "I0629 18:01:34.133975 4574504384 feedforward_robust.py:891] Accuracy on batch: 1.000000\n"
     ]
    },
    {
     "name": "stdout",
     "output_type": "stream",
     "text": [
      "iteration: 0\n",
      "loss 0.000770\n",
      "iteration: 20\n",
      "loss 0.004672\n",
      "iteration: 40\n",
      "loss 0.004819\n",
      "iteration: 0\n",
      "loss 0.000761\n",
      "iteration: 20\n",
      "loss 0.004669\n",
      "iteration: 40\n",
      "loss 0.005094\n",
      "iteration: 0\n",
      "loss 0.000727\n"
     ]
    },
    {
     "name": "stderr",
     "output_type": "stream",
     "text": [
      "Epoch: 0455    cost: 0.155391678 \n",
      "I0629 18:01:34.242614 4574504384 feedforward_robust.py:890] Epoch: 0455    cost: 0.155391678 \n",
      "Accuracy on batch: 1.000000\n",
      "I0629 18:01:34.243716 4574504384 feedforward_robust.py:891] Accuracy on batch: 1.000000\n",
      "Epoch: 0456    cost: 0.155545712 \n",
      "I0629 18:01:34.353219 4574504384 feedforward_robust.py:890] Epoch: 0456    cost: 0.155545712 \n",
      "Accuracy on batch: 1.000000\n",
      "I0629 18:01:34.354777 4574504384 feedforward_robust.py:891] Accuracy on batch: 1.000000\n"
     ]
    },
    {
     "name": "stdout",
     "output_type": "stream",
     "text": [
      "iteration: 20\n",
      "loss 0.004587\n",
      "iteration: 40\n",
      "loss 0.004650\n",
      "iteration: 0\n",
      "loss 0.000824\n",
      "iteration: 20\n",
      "loss 0.004640\n",
      "iteration: 40\n",
      "loss 0.004788\n",
      "iteration: 0\n",
      "loss 0.000761\n"
     ]
    },
    {
     "name": "stderr",
     "output_type": "stream",
     "text": [
      "Epoch: 0457    cost: 0.155826151 \n",
      "I0629 18:01:34.454064 4574504384 feedforward_robust.py:890] Epoch: 0457    cost: 0.155826151 \n",
      "Accuracy on batch: 1.000000\n",
      "I0629 18:01:34.455630 4574504384 feedforward_robust.py:891] Accuracy on batch: 1.000000\n",
      "Epoch: 0458    cost: 0.155402720 \n",
      "I0629 18:01:34.549307 4574504384 feedforward_robust.py:890] Epoch: 0458    cost: 0.155402720 \n",
      "Accuracy on batch: 1.000000\n",
      "I0629 18:01:34.550647 4574504384 feedforward_robust.py:891] Accuracy on batch: 1.000000\n"
     ]
    },
    {
     "name": "stdout",
     "output_type": "stream",
     "text": [
      "iteration: 20\n",
      "loss 0.004757\n",
      "iteration: 40\n",
      "loss 0.005066\n",
      "iteration: 0\n",
      "loss 0.000796\n",
      "iteration: 20\n",
      "loss 0.004484\n",
      "iteration: 40\n",
      "loss 0.004692\n",
      "iteration: 0\n",
      "loss 0.000742\n",
      "iteration: 20\n",
      "loss 0.004472\n"
     ]
    },
    {
     "name": "stderr",
     "output_type": "stream",
     "text": [
      "Epoch: 0459    cost: 0.155404225 \n",
      "I0629 18:01:34.641901 4574504384 feedforward_robust.py:890] Epoch: 0459    cost: 0.155404225 \n",
      "Accuracy on batch: 1.000000\n",
      "I0629 18:01:34.643122 4574504384 feedforward_robust.py:891] Accuracy on batch: 1.000000\n",
      "Epoch: 0460    cost: 0.155462757 \n",
      "I0629 18:01:34.730849 4574504384 feedforward_robust.py:890] Epoch: 0460    cost: 0.155462757 \n",
      "Accuracy on batch: 1.000000\n",
      "I0629 18:01:34.732567 4574504384 feedforward_robust.py:891] Accuracy on batch: 1.000000\n"
     ]
    },
    {
     "name": "stdout",
     "output_type": "stream",
     "text": [
      "iteration: 40\n",
      "loss 0.004728\n",
      "iteration: 0\n",
      "loss 0.000796\n",
      "iteration: 20\n",
      "loss 0.004544\n",
      "iteration: 40\n",
      "loss 0.004798\n",
      "iteration: 0\n",
      "loss 0.000756\n",
      "iteration: 20\n",
      "loss 0.004443\n",
      "iteration: 40\n",
      "loss 0.004506\n"
     ]
    },
    {
     "name": "stderr",
     "output_type": "stream",
     "text": [
      "Epoch: 0461    cost: 0.155105695 \n",
      "I0629 18:01:34.832704 4574504384 feedforward_robust.py:890] Epoch: 0461    cost: 0.155105695 \n",
      "Accuracy on batch: 1.000000\n",
      "I0629 18:01:34.838197 4574504384 feedforward_robust.py:891] Accuracy on batch: 1.000000\n",
      "Epoch: 0462    cost: 0.155115783 \n",
      "I0629 18:01:34.944288 4574504384 feedforward_robust.py:890] Epoch: 0462    cost: 0.155115783 \n",
      "Accuracy on batch: 1.000000\n",
      "I0629 18:01:34.945715 4574504384 feedforward_robust.py:891] Accuracy on batch: 1.000000\n",
      "Epoch: 0463    cost: 0.155429125 \n",
      "I0629 18:01:35.055399 4574504384 feedforward_robust.py:890] Epoch: 0463    cost: 0.155429125 \n",
      "Accuracy on batch: 1.000000\n",
      "I0629 18:01:35.056684 4574504384 feedforward_robust.py:891] Accuracy on batch: 1.000000\n"
     ]
    },
    {
     "name": "stdout",
     "output_type": "stream",
     "text": [
      "iteration: 0\n",
      "loss 0.000802\n",
      "iteration: 20\n",
      "loss 0.004394\n",
      "iteration: 40\n",
      "loss 0.004522\n",
      "iteration: 0\n",
      "loss 0.000717\n",
      "iteration: 20\n",
      "loss 0.004467\n",
      "iteration: 40\n",
      "loss 0.004863\n"
     ]
    },
    {
     "name": "stderr",
     "output_type": "stream",
     "text": [
      "Epoch: 0464    cost: 0.155066326 \n",
      "I0629 18:01:35.149724 4574504384 feedforward_robust.py:890] Epoch: 0464    cost: 0.155066326 \n",
      "Accuracy on batch: 1.000000\n",
      "I0629 18:01:35.150961 4574504384 feedforward_robust.py:891] Accuracy on batch: 1.000000\n",
      "Epoch: 0465    cost: 0.155149654 \n",
      "I0629 18:01:35.242245 4574504384 feedforward_robust.py:890] Epoch: 0465    cost: 0.155149654 \n",
      "Accuracy on batch: 1.000000\n",
      "I0629 18:01:35.243566 4574504384 feedforward_robust.py:891] Accuracy on batch: 1.000000\n"
     ]
    },
    {
     "name": "stdout",
     "output_type": "stream",
     "text": [
      "iteration: 0\n",
      "loss 0.000815\n",
      "iteration: 20\n",
      "loss 0.004463\n",
      "iteration: 40\n",
      "loss 0.004537\n",
      "iteration: 0\n",
      "loss 0.000774\n",
      "iteration: 20\n",
      "loss 0.004422\n",
      "iteration: 40\n",
      "loss 0.004616\n",
      "iteration: 0\n",
      "loss 0.000718\n"
     ]
    },
    {
     "name": "stderr",
     "output_type": "stream",
     "text": [
      "Epoch: 0466    cost: 0.155074507 \n",
      "I0629 18:01:35.337701 4574504384 feedforward_robust.py:890] Epoch: 0466    cost: 0.155074507 \n",
      "Accuracy on batch: 1.000000\n",
      "I0629 18:01:35.338998 4574504384 feedforward_robust.py:891] Accuracy on batch: 1.000000\n",
      "Epoch: 0467    cost: 0.155036286 \n",
      "I0629 18:01:35.423459 4574504384 feedforward_robust.py:890] Epoch: 0467    cost: 0.155036286 \n",
      "Accuracy on batch: 1.000000\n",
      "I0629 18:01:35.425007 4574504384 feedforward_robust.py:891] Accuracy on batch: 1.000000\n"
     ]
    },
    {
     "name": "stdout",
     "output_type": "stream",
     "text": [
      "iteration: 20\n",
      "loss 0.004411\n",
      "iteration: 40\n",
      "loss 0.004576\n",
      "iteration: 0\n",
      "loss 0.000704\n",
      "iteration: 20\n",
      "loss 0.004422\n",
      "iteration: 40\n",
      "loss 0.004574\n",
      "iteration: 0\n",
      "loss 0.000770\n",
      "iteration: 20\n",
      "loss 0.004258\n",
      "iteration: 40\n",
      "loss 0.004387\n"
     ]
    },
    {
     "name": "stderr",
     "output_type": "stream",
     "text": [
      "Epoch: 0468    cost: 0.154833287 \n",
      "I0629 18:01:35.524454 4574504384 feedforward_robust.py:890] Epoch: 0468    cost: 0.154833287 \n",
      "Accuracy on batch: 1.000000\n",
      "I0629 18:01:35.525950 4574504384 feedforward_robust.py:891] Accuracy on batch: 1.000000\n",
      "Epoch: 0469    cost: 0.155013308 \n",
      "I0629 18:01:35.620033 4574504384 feedforward_robust.py:890] Epoch: 0469    cost: 0.155013308 \n",
      "Accuracy on batch: 1.000000\n",
      "I0629 18:01:35.621522 4574504384 feedforward_robust.py:891] Accuracy on batch: 1.000000\n",
      "Epoch: 0470    cost: 0.154744238 \n",
      "I0629 18:01:35.713418 4574504384 feedforward_robust.py:890] Epoch: 0470    cost: 0.154744238 \n",
      "Accuracy on batch: 1.000000\n",
      "I0629 18:01:35.714884 4574504384 feedforward_robust.py:891] Accuracy on batch: 1.000000\n"
     ]
    },
    {
     "name": "stdout",
     "output_type": "stream",
     "text": [
      "iteration: 0\n",
      "loss 0.000714\n",
      "iteration: 20\n",
      "loss 0.004314\n",
      "iteration: 40\n",
      "loss 0.004590\n",
      "iteration: 0\n",
      "loss 0.000695\n",
      "iteration: 20\n",
      "loss 0.004289\n",
      "iteration: 40\n",
      "loss 0.004356\n",
      "iteration: 0\n",
      "loss 0.000712\n"
     ]
    },
    {
     "name": "stderr",
     "output_type": "stream",
     "text": [
      "Epoch: 0471    cost: 0.155012101 \n",
      "I0629 18:01:35.815047 4574504384 feedforward_robust.py:890] Epoch: 0471    cost: 0.155012101 \n",
      "Accuracy on batch: 1.000000\n",
      "I0629 18:01:35.816421 4574504384 feedforward_robust.py:891] Accuracy on batch: 1.000000\n",
      "Epoch: 0472    cost: 0.154540464 \n",
      "I0629 18:01:35.923087 4574504384 feedforward_robust.py:890] Epoch: 0472    cost: 0.154540464 \n",
      "Accuracy on batch: 1.000000\n",
      "I0629 18:01:35.924230 4574504384 feedforward_robust.py:891] Accuracy on batch: 1.000000\n"
     ]
    },
    {
     "name": "stdout",
     "output_type": "stream",
     "text": [
      "iteration: 20\n",
      "loss 0.004332\n",
      "iteration: 40\n",
      "loss 0.004665\n",
      "iteration: 0\n",
      "loss 0.000717\n",
      "iteration: 20\n",
      "loss 0.004184\n",
      "iteration: 40\n",
      "loss 0.004237\n",
      "iteration: 0\n",
      "loss 0.000629\n"
     ]
    },
    {
     "name": "stderr",
     "output_type": "stream",
     "text": [
      "Epoch: 0473    cost: 0.154817089 \n",
      "I0629 18:01:36.026667 4574504384 feedforward_robust.py:890] Epoch: 0473    cost: 0.154817089 \n",
      "Accuracy on batch: 1.000000\n",
      "I0629 18:01:36.027910 4574504384 feedforward_robust.py:891] Accuracy on batch: 1.000000\n",
      "Epoch: 0474    cost: 0.154733315 \n",
      "I0629 18:01:36.122618 4574504384 feedforward_robust.py:890] Epoch: 0474    cost: 0.154733315 \n",
      "Accuracy on batch: 1.000000\n",
      "I0629 18:01:36.123712 4574504384 feedforward_robust.py:891] Accuracy on batch: 1.000000\n"
     ]
    },
    {
     "name": "stdout",
     "output_type": "stream",
     "text": [
      "iteration: 20\n",
      "loss 0.004246\n",
      "iteration: 40\n",
      "loss 0.004456\n",
      "iteration: 0\n",
      "loss 0.000642\n",
      "iteration: 20\n",
      "loss 0.004294\n",
      "iteration: 40\n",
      "loss 0.004467\n",
      "iteration: 0\n",
      "loss 0.000681\n",
      "iteration: 20\n",
      "loss 0.004119\n"
     ]
    },
    {
     "name": "stderr",
     "output_type": "stream",
     "text": [
      "Epoch: 0475    cost: 0.154708147 \n",
      "I0629 18:01:36.217849 4574504384 feedforward_robust.py:890] Epoch: 0475    cost: 0.154708147 \n",
      "Accuracy on batch: 1.000000\n",
      "I0629 18:01:36.219572 4574504384 feedforward_robust.py:891] Accuracy on batch: 1.000000\n",
      "Epoch: 0476    cost: 0.154887706 \n",
      "I0629 18:01:36.309324 4574504384 feedforward_robust.py:890] Epoch: 0476    cost: 0.154887706 \n",
      "Accuracy on batch: 1.000000\n",
      "I0629 18:01:36.310793 4574504384 feedforward_robust.py:891] Accuracy on batch: 1.000000\n"
     ]
    },
    {
     "name": "stdout",
     "output_type": "stream",
     "text": [
      "iteration: 40\n",
      "loss 0.004346\n",
      "iteration: 0\n",
      "loss 0.000622\n",
      "iteration: 20\n",
      "loss 0.004280\n",
      "iteration: 40\n",
      "loss 0.004599\n",
      "iteration: 0\n",
      "loss 0.000720\n",
      "iteration: 20\n",
      "loss 0.004091\n",
      "iteration: 40\n",
      "loss 0.004363\n"
     ]
    },
    {
     "name": "stderr",
     "output_type": "stream",
     "text": [
      "Epoch: 0477    cost: 0.154584020 \n",
      "I0629 18:01:36.403376 4574504384 feedforward_robust.py:890] Epoch: 0477    cost: 0.154584020 \n",
      "Accuracy on batch: 1.000000\n",
      "I0629 18:01:36.406291 4574504384 feedforward_robust.py:891] Accuracy on batch: 1.000000\n",
      "Epoch: 0478    cost: 0.154582590 \n",
      "I0629 18:01:36.497525 4574504384 feedforward_robust.py:890] Epoch: 0478    cost: 0.154582590 \n",
      "Accuracy on batch: 1.000000\n",
      "I0629 18:01:36.499179 4574504384 feedforward_robust.py:891] Accuracy on batch: 1.000000\n",
      "Epoch: 0479    cost: 0.154312715 \n",
      "I0629 18:01:36.595748 4574504384 feedforward_robust.py:890] Epoch: 0479    cost: 0.154312715 \n",
      "Accuracy on batch: 1.000000\n",
      "I0629 18:01:36.597335 4574504384 feedforward_robust.py:891] Accuracy on batch: 1.000000\n"
     ]
    },
    {
     "name": "stdout",
     "output_type": "stream",
     "text": [
      "iteration: 0\n",
      "loss 0.000694\n",
      "iteration: 20\n",
      "loss 0.004153\n",
      "iteration: 40\n",
      "loss 0.004355\n",
      "iteration: 0\n",
      "loss 0.000702\n",
      "iteration: 20\n",
      "loss 0.004071\n",
      "iteration: 40\n",
      "loss 0.004125\n",
      "iteration: 0\n",
      "loss 0.000705\n"
     ]
    },
    {
     "name": "stderr",
     "output_type": "stream",
     "text": [
      "Epoch: 0480    cost: 0.154361263 \n",
      "I0629 18:01:36.695430 4574504384 feedforward_robust.py:890] Epoch: 0480    cost: 0.154361263 \n",
      "Accuracy on batch: 1.000000\n",
      "I0629 18:01:36.696647 4574504384 feedforward_robust.py:891] Accuracy on batch: 1.000000\n",
      "Epoch: 0481    cost: 0.154458091 \n",
      "I0629 18:01:36.801169 4574504384 feedforward_robust.py:890] Epoch: 0481    cost: 0.154458091 \n",
      "Accuracy on batch: 1.000000\n",
      "I0629 18:01:36.803176 4574504384 feedforward_robust.py:891] Accuracy on batch: 1.000000\n"
     ]
    },
    {
     "name": "stdout",
     "output_type": "stream",
     "text": [
      "iteration: 20\n",
      "loss 0.004089\n",
      "iteration: 40\n",
      "loss 0.004170\n",
      "iteration: 0\n",
      "loss 0.000655\n",
      "iteration: 20\n",
      "loss 0.004119\n",
      "iteration: 40\n",
      "loss 0.004313\n",
      "iteration: 0\n",
      "loss 0.000675\n"
     ]
    },
    {
     "name": "stderr",
     "output_type": "stream",
     "text": [
      "Epoch: 0482    cost: 0.154174507 \n",
      "I0629 18:01:36.915176 4574504384 feedforward_robust.py:890] Epoch: 0482    cost: 0.154174507 \n",
      "Accuracy on batch: 1.000000\n",
      "I0629 18:01:36.916962 4574504384 feedforward_robust.py:891] Accuracy on batch: 1.000000\n",
      "Epoch: 0483    cost: 0.154087275 \n",
      "I0629 18:01:37.016822 4574504384 feedforward_robust.py:890] Epoch: 0483    cost: 0.154087275 \n",
      "Accuracy on batch: 1.000000\n",
      "I0629 18:01:37.017903 4574504384 feedforward_robust.py:891] Accuracy on batch: 1.000000\n"
     ]
    },
    {
     "name": "stdout",
     "output_type": "stream",
     "text": [
      "iteration: 20\n",
      "loss 0.004018\n",
      "iteration: 40\n",
      "loss 0.004051\n",
      "iteration: 0\n",
      "loss 0.000600\n",
      "iteration: 20\n",
      "loss 0.003937\n",
      "iteration: 40\n",
      "loss 0.003996\n",
      "iteration: 0\n",
      "loss 0.000690\n"
     ]
    },
    {
     "name": "stderr",
     "output_type": "stream",
     "text": [
      "Epoch: 0484    cost: 0.154094145 \n",
      "I0629 18:01:37.114581 4574504384 feedforward_robust.py:890] Epoch: 0484    cost: 0.154094145 \n",
      "Accuracy on batch: 1.000000\n",
      "I0629 18:01:37.116100 4574504384 feedforward_robust.py:891] Accuracy on batch: 1.000000\n",
      "Epoch: 0485    cost: 0.154105425 \n",
      "I0629 18:01:37.205604 4574504384 feedforward_robust.py:890] Epoch: 0485    cost: 0.154105425 \n",
      "Accuracy on batch: 1.000000\n",
      "I0629 18:01:37.206779 4574504384 feedforward_robust.py:891] Accuracy on batch: 1.000000\n"
     ]
    },
    {
     "name": "stdout",
     "output_type": "stream",
     "text": [
      "iteration: 20\n",
      "loss 0.003984\n",
      "iteration: 40\n",
      "loss 0.004027\n",
      "iteration: 0\n",
      "loss 0.000605\n",
      "iteration: 20\n",
      "loss 0.004029\n",
      "iteration: 40\n",
      "loss 0.004088\n",
      "iteration: 0\n",
      "loss 0.000678\n",
      "iteration: 20\n",
      "loss 0.004044\n"
     ]
    },
    {
     "name": "stderr",
     "output_type": "stream",
     "text": [
      "Epoch: 0486    cost: 0.154219776 \n",
      "I0629 18:01:37.307198 4574504384 feedforward_robust.py:890] Epoch: 0486    cost: 0.154219776 \n",
      "Accuracy on batch: 1.000000\n",
      "I0629 18:01:37.308954 4574504384 feedforward_robust.py:891] Accuracy on batch: 1.000000\n",
      "Epoch: 0487    cost: 0.154068172 \n",
      "I0629 18:01:37.412901 4574504384 feedforward_robust.py:890] Epoch: 0487    cost: 0.154068172 \n",
      "Accuracy on batch: 1.000000\n",
      "I0629 18:01:37.414258 4574504384 feedforward_robust.py:891] Accuracy on batch: 1.000000\n"
     ]
    },
    {
     "name": "stdout",
     "output_type": "stream",
     "text": [
      "iteration: 40\n",
      "loss 0.004236\n",
      "iteration: 0\n",
      "loss 0.000602\n",
      "iteration: 20\n",
      "loss 0.003921\n",
      "iteration: 40\n",
      "loss 0.004139\n",
      "iteration: 0\n",
      "loss 0.000582\n",
      "iteration: 20\n",
      "loss 0.003845\n"
     ]
    },
    {
     "name": "stderr",
     "output_type": "stream",
     "text": [
      "Epoch: 0488    cost: 0.153978229 \n",
      "I0629 18:01:37.522201 4574504384 feedforward_robust.py:890] Epoch: 0488    cost: 0.153978229 \n",
      "Accuracy on batch: 1.000000\n",
      "I0629 18:01:37.523714 4574504384 feedforward_robust.py:891] Accuracy on batch: 1.000000\n",
      "Epoch: 0489    cost: 0.154025674 \n",
      "I0629 18:01:37.622493 4574504384 feedforward_robust.py:890] Epoch: 0489    cost: 0.154025674 \n",
      "Accuracy on batch: 1.000000\n",
      "I0629 18:01:37.624397 4574504384 feedforward_robust.py:891] Accuracy on batch: 1.000000\n"
     ]
    },
    {
     "name": "stdout",
     "output_type": "stream",
     "text": [
      "iteration: 40\n",
      "loss 0.003994\n",
      "iteration: 0\n",
      "loss 0.000608\n",
      "iteration: 20\n",
      "loss 0.003946\n",
      "iteration: 40\n",
      "loss 0.004134\n",
      "iteration: 0\n",
      "loss 0.000646\n",
      "iteration: 20\n",
      "loss 0.003962\n",
      "iteration: 40\n",
      "loss 0.004064\n"
     ]
    },
    {
     "name": "stderr",
     "output_type": "stream",
     "text": [
      "Epoch: 0490    cost: 0.153927878 \n",
      "I0629 18:01:37.711613 4574504384 feedforward_robust.py:890] Epoch: 0490    cost: 0.153927878 \n",
      "Accuracy on batch: 1.000000\n",
      "I0629 18:01:37.712710 4574504384 feedforward_robust.py:891] Accuracy on batch: 1.000000\n",
      "Epoch: 0491    cost: 0.153864622 \n",
      "I0629 18:01:37.801928 4574504384 feedforward_robust.py:890] Epoch: 0491    cost: 0.153864622 \n",
      "Accuracy on batch: 1.000000\n",
      "I0629 18:01:37.803107 4574504384 feedforward_robust.py:891] Accuracy on batch: 1.000000\n",
      "Epoch: 0492    cost: 0.153724179 \n",
      "I0629 18:01:37.890809 4574504384 feedforward_robust.py:890] Epoch: 0492    cost: 0.153724179 \n",
      "Accuracy on batch: 1.000000\n",
      "I0629 18:01:37.892263 4574504384 feedforward_robust.py:891] Accuracy on batch: 1.000000\n"
     ]
    },
    {
     "name": "stdout",
     "output_type": "stream",
     "text": [
      "iteration: 0\n",
      "loss 0.000655\n",
      "iteration: 20\n",
      "loss 0.003926\n",
      "iteration: 40\n",
      "loss 0.004013\n",
      "iteration: 0\n",
      "loss 0.000625\n",
      "iteration: 20\n",
      "loss 0.003809\n",
      "iteration: 40\n",
      "loss 0.003896\n",
      "iteration: 0\n",
      "loss 0.000645\n",
      "iteration: 20\n",
      "loss 0.003790\n"
     ]
    },
    {
     "name": "stderr",
     "output_type": "stream",
     "text": [
      "Epoch: 0493    cost: 0.153685868 \n",
      "I0629 18:01:37.987786 4574504384 feedforward_robust.py:890] Epoch: 0493    cost: 0.153685868 \n",
      "Accuracy on batch: 1.000000\n",
      "I0629 18:01:37.988936 4574504384 feedforward_robust.py:891] Accuracy on batch: 1.000000\n",
      "Epoch: 0494    cost: 0.153637320 \n",
      "I0629 18:01:38.076313 4574504384 feedforward_robust.py:890] Epoch: 0494    cost: 0.153637320 \n",
      "Accuracy on batch: 1.000000\n",
      "I0629 18:01:38.077627 4574504384 feedforward_robust.py:891] Accuracy on batch: 1.000000\n",
      "Epoch: 0495    cost: 0.153612390 \n"
     ]
    },
    {
     "name": "stdout",
     "output_type": "stream",
     "text": [
      "iteration: 40\n",
      "loss 0.003889\n",
      "iteration: 0\n",
      "loss 0.000587\n",
      "iteration: 20\n",
      "loss 0.003776\n",
      "iteration: 40\n",
      "loss 0.003866\n",
      "iteration: 0\n",
      "loss 0.000613\n",
      "iteration: 20\n",
      "loss 0.003764\n",
      "iteration: 40\n",
      "loss 0.003865\n"
     ]
    },
    {
     "name": "stderr",
     "output_type": "stream",
     "text": [
      "I0629 18:01:38.171849 4574504384 feedforward_robust.py:890] Epoch: 0495    cost: 0.153612390 \n",
      "Accuracy on batch: 1.000000\n",
      "I0629 18:01:38.173335 4574504384 feedforward_robust.py:891] Accuracy on batch: 1.000000\n",
      "Epoch: 0496    cost: 0.153585285 \n",
      "I0629 18:01:38.263745 4574504384 feedforward_robust.py:890] Epoch: 0496    cost: 0.153585285 \n",
      "Accuracy on batch: 1.000000\n",
      "I0629 18:01:38.264863 4574504384 feedforward_robust.py:891] Accuracy on batch: 1.000000\n",
      "Epoch: 0497    cost: 0.153579891 \n",
      "I0629 18:01:38.359199 4574504384 feedforward_robust.py:890] Epoch: 0497    cost: 0.153579891 \n",
      "Accuracy on batch: 1.000000\n",
      "I0629 18:01:38.360490 4574504384 feedforward_robust.py:891] Accuracy on batch: 1.000000\n"
     ]
    },
    {
     "name": "stdout",
     "output_type": "stream",
     "text": [
      "iteration: 0\n",
      "loss 0.000561\n",
      "iteration: 20\n",
      "loss 0.003737\n",
      "iteration: 40\n",
      "loss 0.003846\n",
      "iteration: 0\n",
      "loss 0.000579\n",
      "iteration: 20\n",
      "loss 0.003782\n",
      "iteration: 40\n",
      "loss 0.003874\n",
      "iteration: 0\n",
      "loss 0.000493\n"
     ]
    },
    {
     "name": "stderr",
     "output_type": "stream",
     "text": [
      "Epoch: 0498    cost: 0.153448865 \n",
      "I0629 18:01:38.464885 4574504384 feedforward_robust.py:890] Epoch: 0498    cost: 0.153448865 \n",
      "Accuracy on batch: 1.000000\n",
      "I0629 18:01:38.470480 4574504384 feedforward_robust.py:891] Accuracy on batch: 1.000000\n",
      "Epoch: 0499    cost: 0.153735533 \n"
     ]
    },
    {
     "name": "stdout",
     "output_type": "stream",
     "text": [
      "iteration: 20\n",
      "loss 0.003695\n",
      "iteration: 40\n",
      "loss 0.003765\n",
      "iteration: 0\n",
      "loss 0.000604\n",
      "iteration: 20\n",
      "loss 0.003819\n",
      "iteration: 40\n",
      "loss 0.004076\n"
     ]
    },
    {
     "name": "stderr",
     "output_type": "stream",
     "text": [
      "I0629 18:01:38.619987 4574504384 feedforward_robust.py:890] Epoch: 0499    cost: 0.153735533 \n",
      "Accuracy on batch: 1.000000\n",
      "I0629 18:01:38.623243 4574504384 feedforward_robust.py:891] Accuracy on batch: 1.000000\n",
      "Epoch: 0500    cost: 0.153419629 \n",
      "I0629 18:01:38.715449 4574504384 feedforward_robust.py:890] Epoch: 0500    cost: 0.153419629 \n",
      "Accuracy on batch: 1.000000\n",
      "I0629 18:01:38.716727 4574504384 feedforward_robust.py:891] Accuracy on batch: 1.000000\n",
      "Epoch: 0501    cost: 0.153484568 \n",
      "I0629 18:01:38.808154 4574504384 feedforward_robust.py:890] Epoch: 0501    cost: 0.153484568 \n",
      "Accuracy on batch: 1.000000\n",
      "I0629 18:01:38.809668 4574504384 feedforward_robust.py:891] Accuracy on batch: 1.000000\n"
     ]
    },
    {
     "name": "stdout",
     "output_type": "stream",
     "text": [
      "iteration: 0\n",
      "loss 0.000614\n",
      "iteration: 20\n",
      "loss 0.003707\n",
      "iteration: 40\n",
      "loss 0.003794\n",
      "iteration: 0\n",
      "loss 0.000568\n",
      "iteration: 20\n",
      "loss 0.003748\n",
      "iteration: 40\n",
      "loss 0.003859\n",
      "iteration: 0\n",
      "loss 0.000534\n"
     ]
    },
    {
     "name": "stderr",
     "output_type": "stream",
     "text": [
      "Epoch: 0502    cost: 0.153547063 \n",
      "I0629 18:01:38.900820 4574504384 feedforward_robust.py:890] Epoch: 0502    cost: 0.153547063 \n",
      "Accuracy on batch: 1.000000\n",
      "I0629 18:01:38.902378 4574504384 feedforward_robust.py:891] Accuracy on batch: 1.000000\n",
      "Epoch: 0503    cost: 0.153587356 \n",
      "I0629 18:01:38.994212 4574504384 feedforward_robust.py:890] Epoch: 0503    cost: 0.153587356 \n",
      "Accuracy on batch: 1.000000\n",
      "I0629 18:01:38.995723 4574504384 feedforward_robust.py:891] Accuracy on batch: 1.000000\n"
     ]
    },
    {
     "name": "stdout",
     "output_type": "stream",
     "text": [
      "iteration: 20\n",
      "loss 0.003728\n",
      "iteration: 40\n",
      "loss 0.003960\n",
      "iteration: 0\n",
      "loss 0.000586\n",
      "iteration: 20\n",
      "loss 0.003637\n",
      "iteration: 40\n",
      "loss 0.003870\n",
      "iteration: 0\n",
      "loss 0.000602\n",
      "iteration: 20\n",
      "loss 0.003800\n"
     ]
    },
    {
     "name": "stderr",
     "output_type": "stream",
     "text": [
      "Epoch: 0504    cost: 0.153731838 \n",
      "I0629 18:01:39.086688 4574504384 feedforward_robust.py:890] Epoch: 0504    cost: 0.153731838 \n",
      "Accuracy on batch: 1.000000\n",
      "I0629 18:01:39.088088 4574504384 feedforward_robust.py:891] Accuracy on batch: 1.000000\n",
      "Epoch: 0505    cost: 0.153457776 \n",
      "I0629 18:01:39.181100 4574504384 feedforward_robust.py:890] Epoch: 0505    cost: 0.153457776 \n",
      "Accuracy on batch: 1.000000\n",
      "I0629 18:01:39.182605 4574504384 feedforward_robust.py:891] Accuracy on batch: 1.000000\n"
     ]
    },
    {
     "name": "stdout",
     "output_type": "stream",
     "text": [
      "iteration: 40\n",
      "loss 0.004101\n",
      "iteration: 0\n",
      "loss 0.000643\n",
      "iteration: 20\n",
      "loss 0.003634\n",
      "iteration: 40\n",
      "loss 0.003883\n",
      "iteration: 0\n",
      "loss 0.000503\n",
      "iteration: 20\n",
      "loss 0.003634\n",
      "iteration: 40\n",
      "loss 0.003763\n"
     ]
    },
    {
     "name": "stderr",
     "output_type": "stream",
     "text": [
      "Epoch: 0506    cost: 0.153256476 \n",
      "I0629 18:01:39.275105 4574504384 feedforward_robust.py:890] Epoch: 0506    cost: 0.153256476 \n",
      "Accuracy on batch: 1.000000\n",
      "I0629 18:01:39.276478 4574504384 feedforward_robust.py:891] Accuracy on batch: 1.000000\n",
      "Epoch: 0507    cost: 0.153382584 \n",
      "I0629 18:01:39.366925 4574504384 feedforward_robust.py:890] Epoch: 0507    cost: 0.153382584 \n",
      "Accuracy on batch: 1.000000\n",
      "I0629 18:01:39.368301 4574504384 feedforward_robust.py:891] Accuracy on batch: 1.000000\n",
      "Epoch: 0508    cost: 0.153142571 \n",
      "I0629 18:01:39.467376 4574504384 feedforward_robust.py:890] Epoch: 0508    cost: 0.153142571 \n",
      "Accuracy on batch: 1.000000\n",
      "I0629 18:01:39.469824 4574504384 feedforward_robust.py:891] Accuracy on batch: 1.000000\n"
     ]
    },
    {
     "name": "stdout",
     "output_type": "stream",
     "text": [
      "iteration: 0\n",
      "loss 0.000559\n",
      "iteration: 20\n",
      "loss 0.003625\n",
      "iteration: 40\n",
      "loss 0.003876\n",
      "iteration: 0\n",
      "loss 0.000615\n",
      "iteration: 20\n",
      "loss 0.003595\n",
      "iteration: 40\n",
      "loss 0.003672\n",
      "iteration: 0\n",
      "loss 0.000539\n"
     ]
    },
    {
     "name": "stderr",
     "output_type": "stream",
     "text": [
      "Epoch: 0509    cost: 0.153139591 \n",
      "I0629 18:01:39.567435 4574504384 feedforward_robust.py:890] Epoch: 0509    cost: 0.153139591 \n",
      "Accuracy on batch: 1.000000\n",
      "I0629 18:01:39.568837 4574504384 feedforward_robust.py:891] Accuracy on batch: 1.000000\n",
      "Epoch: 0510    cost: 0.153141022 \n",
      "I0629 18:01:39.672005 4574504384 feedforward_robust.py:890] Epoch: 0510    cost: 0.153141022 \n",
      "Accuracy on batch: 1.000000\n",
      "I0629 18:01:39.673744 4574504384 feedforward_robust.py:891] Accuracy on batch: 1.000000\n"
     ]
    },
    {
     "name": "stdout",
     "output_type": "stream",
     "text": [
      "iteration: 20\n",
      "loss 0.003610\n",
      "iteration: 40\n",
      "loss 0.003711\n",
      "iteration: 0\n",
      "loss 0.000573\n",
      "iteration: 20\n",
      "loss 0.003608\n",
      "iteration: 40\n",
      "loss 0.003729\n",
      "iteration: 0\n",
      "loss 0.000538\n",
      "iteration: 20\n",
      "loss 0.003500\n"
     ]
    },
    {
     "name": "stderr",
     "output_type": "stream",
     "text": [
      "Epoch: 0511    cost: 0.152942345 \n",
      "I0629 18:01:39.777721 4574504384 feedforward_robust.py:890] Epoch: 0511    cost: 0.152942345 \n",
      "Accuracy on batch: 1.000000\n",
      "I0629 18:01:39.778954 4574504384 feedforward_robust.py:891] Accuracy on batch: 1.000000\n",
      "Epoch: 0512    cost: 0.152935445 \n",
      "I0629 18:01:39.873936 4574504384 feedforward_robust.py:890] Epoch: 0512    cost: 0.152935445 \n",
      "Accuracy on batch: 1.000000\n",
      "I0629 18:01:39.875398 4574504384 feedforward_robust.py:891] Accuracy on batch: 1.000000\n"
     ]
    },
    {
     "name": "stdout",
     "output_type": "stream",
     "text": [
      "iteration: 40\n",
      "loss 0.003567\n",
      "iteration: 0\n",
      "loss 0.000575\n",
      "iteration: 20\n",
      "loss 0.003522\n",
      "iteration: 40\n",
      "loss 0.003589\n",
      "iteration: 0\n",
      "loss 0.000565\n",
      "iteration: 20\n",
      "loss 0.003455\n",
      "iteration: 40\n",
      "loss 0.003519\n"
     ]
    },
    {
     "name": "stderr",
     "output_type": "stream",
     "text": [
      "Epoch: 0513    cost: 0.152836904 \n",
      "I0629 18:01:39.970202 4574504384 feedforward_robust.py:890] Epoch: 0513    cost: 0.152836904 \n",
      "Accuracy on batch: 1.000000\n",
      "I0629 18:01:39.971704 4574504384 feedforward_robust.py:891] Accuracy on batch: 1.000000\n",
      "Epoch: 0514    cost: 0.152879030 \n",
      "I0629 18:01:40.061711 4574504384 feedforward_robust.py:890] Epoch: 0514    cost: 0.152879030 \n",
      "Accuracy on batch: 1.000000\n",
      "I0629 18:01:40.063383 4574504384 feedforward_robust.py:891] Accuracy on batch: 1.000000\n",
      "Epoch: 0515    cost: 0.152820855 \n",
      "I0629 18:01:40.154644 4574504384 feedforward_robust.py:890] Epoch: 0515    cost: 0.152820855 \n",
      "Accuracy on batch: 1.000000\n",
      "I0629 18:01:40.156171 4574504384 feedforward_robust.py:891] Accuracy on batch: 1.000000\n"
     ]
    },
    {
     "name": "stdout",
     "output_type": "stream",
     "text": [
      "iteration: 0\n",
      "loss 0.000525\n",
      "iteration: 20\n",
      "loss 0.003506\n",
      "iteration: 40\n",
      "loss 0.003586\n",
      "iteration: 0\n",
      "loss 0.000588\n",
      "iteration: 20\n",
      "loss 0.003465\n",
      "iteration: 40\n",
      "loss 0.003555\n",
      "iteration: 0\n",
      "loss 0.000613\n"
     ]
    },
    {
     "name": "stderr",
     "output_type": "stream",
     "text": [
      "Epoch: 0516    cost: 0.152768031 \n",
      "I0629 18:01:40.251745 4574504384 feedforward_robust.py:890] Epoch: 0516    cost: 0.152768031 \n",
      "Accuracy on batch: 1.000000\n",
      "I0629 18:01:40.253248 4574504384 feedforward_robust.py:891] Accuracy on batch: 1.000000\n",
      "Epoch: 0517    cost: 0.152698427 \n",
      "I0629 18:01:40.357669 4574504384 feedforward_robust.py:890] Epoch: 0517    cost: 0.152698427 \n",
      "Accuracy on batch: 1.000000\n",
      "I0629 18:01:40.360817 4574504384 feedforward_robust.py:891] Accuracy on batch: 1.000000\n"
     ]
    },
    {
     "name": "stdout",
     "output_type": "stream",
     "text": [
      "iteration: 20\n",
      "loss 0.003478\n",
      "iteration: 40\n",
      "loss 0.003538\n",
      "iteration: 0\n",
      "loss 0.000574\n",
      "iteration: 20\n",
      "loss 0.003411\n",
      "iteration: 40\n",
      "loss 0.003495\n",
      "iteration: 0\n",
      "loss 0.000507\n",
      "iteration: 20\n",
      "loss 0.003429\n"
     ]
    },
    {
     "name": "stderr",
     "output_type": "stream",
     "text": [
      "Epoch: 0518    cost: 0.152652681 \n",
      "I0629 18:01:40.455817 4574504384 feedforward_robust.py:890] Epoch: 0518    cost: 0.152652681 \n",
      "Accuracy on batch: 1.000000\n",
      "I0629 18:01:40.457149 4574504384 feedforward_robust.py:891] Accuracy on batch: 1.000000\n",
      "Epoch: 0519    cost: 0.152694315 \n",
      "I0629 18:01:40.559239 4574504384 feedforward_robust.py:890] Epoch: 0519    cost: 0.152694315 \n",
      "Accuracy on batch: 1.000000\n",
      "I0629 18:01:40.561093 4574504384 feedforward_robust.py:891] Accuracy on batch: 1.000000\n"
     ]
    },
    {
     "name": "stdout",
     "output_type": "stream",
     "text": [
      "iteration: 40\n",
      "loss 0.003487\n",
      "iteration: 0\n",
      "loss 0.000521\n",
      "iteration: 20\n",
      "loss 0.003514\n",
      "iteration: 40\n",
      "loss 0.003560\n",
      "iteration: 0\n",
      "loss 0.000554\n",
      "iteration: 20\n",
      "loss 0.003388\n"
     ]
    },
    {
     "name": "stderr",
     "output_type": "stream",
     "text": [
      "Epoch: 0520    cost: 0.152752310 \n",
      "I0629 18:01:40.667228 4574504384 feedforward_robust.py:890] Epoch: 0520    cost: 0.152752310 \n",
      "Accuracy on batch: 1.000000\n",
      "I0629 18:01:40.669572 4574504384 feedforward_robust.py:891] Accuracy on batch: 1.000000\n",
      "Epoch: 0521    cost: 0.152585432 \n",
      "I0629 18:01:40.771461 4574504384 feedforward_robust.py:890] Epoch: 0521    cost: 0.152585432 \n",
      "Accuracy on batch: 1.000000\n",
      "I0629 18:01:40.772580 4574504384 feedforward_robust.py:891] Accuracy on batch: 1.000000\n"
     ]
    },
    {
     "name": "stdout",
     "output_type": "stream",
     "text": [
      "iteration: 40\n",
      "loss 0.003629\n",
      "iteration: 0\n",
      "loss 0.000573\n",
      "iteration: 20\n",
      "loss 0.003379\n",
      "iteration: 40\n",
      "loss 0.003491\n",
      "iteration: 0\n",
      "loss 0.000568\n",
      "iteration: 20\n",
      "loss 0.003451\n"
     ]
    },
    {
     "name": "stderr",
     "output_type": "stream",
     "text": [
      "Epoch: 0522    cost: 0.152876362 \n",
      "I0629 18:01:40.866847 4574504384 feedforward_robust.py:890] Epoch: 0522    cost: 0.152876362 \n",
      "Accuracy on batch: 1.000000\n",
      "I0629 18:01:40.868087 4574504384 feedforward_robust.py:891] Accuracy on batch: 1.000000\n",
      "Epoch: 0523    cost: 0.152520135 \n",
      "I0629 18:01:40.960685 4574504384 feedforward_robust.py:890] Epoch: 0523    cost: 0.152520135 \n",
      "Accuracy on batch: 1.000000\n",
      "I0629 18:01:40.962063 4574504384 feedforward_robust.py:891] Accuracy on batch: 1.000000\n"
     ]
    },
    {
     "name": "stdout",
     "output_type": "stream",
     "text": [
      "iteration: 40\n",
      "loss 0.003798\n",
      "iteration: 0\n",
      "loss 0.000508\n",
      "iteration: 20\n",
      "loss 0.003341\n",
      "iteration: 40\n",
      "loss 0.003482\n",
      "iteration: 0\n",
      "loss 0.000540\n",
      "iteration: 20\n",
      "loss 0.003331\n",
      "iteration: 40\n",
      "loss 0.003556\n"
     ]
    },
    {
     "name": "stderr",
     "output_type": "stream",
     "text": [
      "Epoch: 0524    cost: 0.152614266 \n",
      "I0629 18:01:41.054437 4574504384 feedforward_robust.py:890] Epoch: 0524    cost: 0.152614266 \n",
      "Accuracy on batch: 1.000000\n",
      "I0629 18:01:41.055847 4574504384 feedforward_robust.py:891] Accuracy on batch: 1.000000\n",
      "Epoch: 0525    cost: 0.152700454 \n",
      "I0629 18:01:41.146352 4574504384 feedforward_robust.py:890] Epoch: 0525    cost: 0.152700454 \n",
      "Accuracy on batch: 1.000000\n",
      "I0629 18:01:41.147684 4574504384 feedforward_robust.py:891] Accuracy on batch: 1.000000\n",
      "Epoch: 0526    cost: 0.152450666 \n",
      "I0629 18:01:41.248325 4574504384 feedforward_robust.py:890] Epoch: 0526    cost: 0.152450666 \n",
      "Accuracy on batch: 1.000000\n",
      "I0629 18:01:41.250102 4574504384 feedforward_robust.py:891] Accuracy on batch: 1.000000\n"
     ]
    },
    {
     "name": "stdout",
     "output_type": "stream",
     "text": [
      "iteration: 0\n",
      "loss 0.000514\n",
      "iteration: 20\n",
      "loss 0.003432\n",
      "iteration: 40\n",
      "loss 0.003707\n",
      "iteration: 0\n",
      "loss 0.000510\n",
      "iteration: 20\n",
      "loss 0.003355\n",
      "iteration: 40\n",
      "loss 0.003501\n",
      "iteration: 0\n",
      "loss 0.000541\n"
     ]
    },
    {
     "name": "stderr",
     "output_type": "stream",
     "text": [
      "Epoch: 0527    cost: 0.152529851 \n",
      "I0629 18:01:41.356863 4574504384 feedforward_robust.py:890] Epoch: 0527    cost: 0.152529851 \n",
      "Accuracy on batch: 1.000000\n",
      "I0629 18:01:41.358501 4574504384 feedforward_robust.py:891] Accuracy on batch: 1.000000\n",
      "Epoch: 0528    cost: 0.152252123 \n",
      "I0629 18:01:41.457669 4574504384 feedforward_robust.py:890] Epoch: 0528    cost: 0.152252123 \n",
      "Accuracy on batch: 1.000000\n",
      "I0629 18:01:41.458800 4574504384 feedforward_robust.py:891] Accuracy on batch: 1.000000\n"
     ]
    },
    {
     "name": "stdout",
     "output_type": "stream",
     "text": [
      "iteration: 20\n",
      "loss 0.003345\n",
      "iteration: 40\n",
      "loss 0.003575\n",
      "iteration: 0\n",
      "loss 0.000519\n",
      "iteration: 20\n",
      "loss 0.003263\n",
      "iteration: 40\n",
      "loss 0.003339\n",
      "iteration: 0\n",
      "loss 0.000534\n",
      "iteration: 20\n",
      "loss 0.003445\n"
     ]
    },
    {
     "name": "stderr",
     "output_type": "stream",
     "text": [
      "Epoch: 0529    cost: 0.152430370 \n",
      "I0629 18:01:41.550601 4574504384 feedforward_robust.py:890] Epoch: 0529    cost: 0.152430370 \n",
      "Accuracy on batch: 1.000000\n",
      "I0629 18:01:41.551852 4574504384 feedforward_robust.py:891] Accuracy on batch: 1.000000\n",
      "Epoch: 0530    cost: 0.152425364 \n",
      "I0629 18:01:41.644042 4574504384 feedforward_robust.py:890] Epoch: 0530    cost: 0.152425364 \n",
      "Accuracy on batch: 1.000000\n",
      "I0629 18:01:41.645296 4574504384 feedforward_robust.py:891] Accuracy on batch: 1.000000\n"
     ]
    },
    {
     "name": "stdout",
     "output_type": "stream",
     "text": [
      "iteration: 40\n",
      "loss 0.003530\n",
      "iteration: 0\n",
      "loss 0.000528\n",
      "iteration: 20\n",
      "loss 0.003347\n",
      "iteration: 40\n",
      "loss 0.003523\n",
      "iteration: 0\n",
      "loss 0.000523\n",
      "iteration: 20\n",
      "loss 0.003450\n",
      "iteration: 40\n",
      "loss 0.003558\n"
     ]
    },
    {
     "name": "stderr",
     "output_type": "stream",
     "text": [
      "Epoch: 0531    cost: 0.152394414 \n",
      "I0629 18:01:41.743273 4574504384 feedforward_robust.py:890] Epoch: 0531    cost: 0.152394414 \n",
      "Accuracy on batch: 1.000000\n",
      "I0629 18:01:41.746697 4574504384 feedforward_robust.py:891] Accuracy on batch: 1.000000\n",
      "Epoch: 0532    cost: 0.152554572 \n",
      "I0629 18:01:41.841700 4574504384 feedforward_robust.py:890] Epoch: 0532    cost: 0.152554572 \n",
      "Accuracy on batch: 1.000000\n",
      "I0629 18:01:41.842969 4574504384 feedforward_robust.py:891] Accuracy on batch: 1.000000\n",
      "Epoch: 0533    cost: 0.152197659 \n",
      "I0629 18:01:41.952214 4574504384 feedforward_robust.py:890] Epoch: 0533    cost: 0.152197659 \n",
      "Accuracy on batch: 1.000000\n",
      "I0629 18:01:41.953487 4574504384 feedforward_robust.py:891] Accuracy on batch: 1.000000\n"
     ]
    },
    {
     "name": "stdout",
     "output_type": "stream",
     "text": [
      "iteration: 0\n",
      "loss 0.000490\n",
      "iteration: 20\n",
      "loss 0.003401\n",
      "iteration: 40\n",
      "loss 0.003700\n",
      "iteration: 0\n",
      "loss 0.000496\n",
      "iteration: 20\n",
      "loss 0.003241\n",
      "iteration: 40\n",
      "loss 0.003343\n"
     ]
    },
    {
     "name": "stderr",
     "output_type": "stream",
     "text": [
      "Epoch: 0534    cost: 0.152018219 \n",
      "I0629 18:01:42.058506 4574504384 feedforward_robust.py:890] Epoch: 0534    cost: 0.152018219 \n",
      "Accuracy on batch: 1.000000\n",
      "I0629 18:01:42.059919 4574504384 feedforward_robust.py:891] Accuracy on batch: 1.000000\n",
      "Epoch: 0535    cost: 0.152087361 \n",
      "I0629 18:01:42.151710 4574504384 feedforward_robust.py:890] Epoch: 0535    cost: 0.152087361 \n",
      "Accuracy on batch: 1.000000\n",
      "I0629 18:01:42.152873 4574504384 feedforward_robust.py:891] Accuracy on batch: 1.000000\n"
     ]
    },
    {
     "name": "stdout",
     "output_type": "stream",
     "text": [
      "iteration: 0\n",
      "loss 0.000475\n",
      "iteration: 20\n",
      "loss 0.003190\n",
      "iteration: 40\n",
      "loss 0.003253\n",
      "iteration: 0\n",
      "loss 0.000469\n",
      "iteration: 20\n",
      "loss 0.003207\n",
      "iteration: 40\n",
      "loss 0.003333\n",
      "iteration: 0\n",
      "loss 0.000566\n"
     ]
    },
    {
     "name": "stderr",
     "output_type": "stream",
     "text": [
      "Epoch: 0536    cost: 0.152233124 \n",
      "I0629 18:01:42.248287 4574504384 feedforward_robust.py:890] Epoch: 0536    cost: 0.152233124 \n",
      "Accuracy on batch: 1.000000\n",
      "I0629 18:01:42.249849 4574504384 feedforward_robust.py:891] Accuracy on batch: 1.000000\n",
      "Epoch: 0537    cost: 0.152004898 \n",
      "I0629 18:01:42.339696 4574504384 feedforward_robust.py:890] Epoch: 0537    cost: 0.152004898 \n",
      "Accuracy on batch: 1.000000\n",
      "I0629 18:01:42.341168 4574504384 feedforward_robust.py:891] Accuracy on batch: 1.000000\n"
     ]
    },
    {
     "name": "stdout",
     "output_type": "stream",
     "text": [
      "iteration: 20\n",
      "loss 0.003242\n",
      "iteration: 40\n",
      "loss 0.003453\n",
      "iteration: 0\n",
      "loss 0.000506\n",
      "iteration: 20\n",
      "loss 0.003208\n",
      "iteration: 40\n",
      "loss 0.003312\n",
      "iteration: 0\n",
      "loss 0.000462\n",
      "iteration: 20\n",
      "loss 0.003326\n"
     ]
    },
    {
     "name": "stderr",
     "output_type": "stream",
     "text": [
      "Epoch: 0538    cost: 0.152271584 \n",
      "I0629 18:01:42.431592 4574504384 feedforward_robust.py:890] Epoch: 0538    cost: 0.152271584 \n",
      "Accuracy on batch: 1.000000\n",
      "I0629 18:01:42.432997 4574504384 feedforward_robust.py:891] Accuracy on batch: 1.000000\n",
      "Epoch: 0539    cost: 0.152148247 \n",
      "I0629 18:01:42.527289 4574504384 feedforward_robust.py:890] Epoch: 0539    cost: 0.152148247 \n",
      "Accuracy on batch: 1.000000\n",
      "I0629 18:01:42.528543 4574504384 feedforward_robust.py:891] Accuracy on batch: 1.000000\n"
     ]
    },
    {
     "name": "stdout",
     "output_type": "stream",
     "text": [
      "iteration: 40\n",
      "loss 0.003560\n",
      "iteration: 0\n",
      "loss 0.000481\n",
      "iteration: 20\n",
      "loss 0.003248\n",
      "iteration: 40\n",
      "loss 0.003484\n",
      "iteration: 0\n",
      "loss 0.000469\n",
      "iteration: 20\n",
      "loss 0.003127\n",
      "iteration: 40\n",
      "loss 0.003293\n"
     ]
    },
    {
     "name": "stderr",
     "output_type": "stream",
     "text": [
      "Epoch: 0540    cost: 0.151927009 \n",
      "I0629 18:01:42.632061 4574504384 feedforward_robust.py:890] Epoch: 0540    cost: 0.151927009 \n",
      "Accuracy on batch: 1.000000\n",
      "I0629 18:01:42.633614 4574504384 feedforward_robust.py:891] Accuracy on batch: 1.000000\n",
      "Epoch: 0541    cost: 0.151844293 \n",
      "I0629 18:01:42.729404 4574504384 feedforward_robust.py:890] Epoch: 0541    cost: 0.151844293 \n",
      "Accuracy on batch: 1.000000\n",
      "I0629 18:01:42.730988 4574504384 feedforward_robust.py:891] Accuracy on batch: 1.000000\n",
      "Epoch: 0542    cost: 0.151877657 \n",
      "I0629 18:01:42.832517 4574504384 feedforward_robust.py:890] Epoch: 0542    cost: 0.151877657 \n",
      "Accuracy on batch: 1.000000\n",
      "I0629 18:01:42.836580 4574504384 feedforward_robust.py:891] Accuracy on batch: 1.000000\n"
     ]
    },
    {
     "name": "stdout",
     "output_type": "stream",
     "text": [
      "iteration: 0\n",
      "loss 0.000519\n",
      "iteration: 20\n",
      "loss 0.003084\n",
      "iteration: 40\n",
      "loss 0.003231\n",
      "iteration: 0\n",
      "loss 0.000445\n",
      "iteration: 20\n",
      "loss 0.003122\n",
      "iteration: 40\n",
      "loss 0.003329\n"
     ]
    },
    {
     "name": "stderr",
     "output_type": "stream",
     "text": [
      "Epoch: 0543    cost: 0.151657790 \n",
      "I0629 18:01:42.939428 4574504384 feedforward_robust.py:890] Epoch: 0543    cost: 0.151657790 \n",
      "Accuracy on batch: 1.000000\n",
      "I0629 18:01:42.941401 4574504384 feedforward_robust.py:891] Accuracy on batch: 1.000000\n",
      "Epoch: 0544    cost: 0.151704878 \n",
      "I0629 18:01:43.040835 4574504384 feedforward_robust.py:890] Epoch: 0544    cost: 0.151704878 \n",
      "Accuracy on batch: 1.000000\n",
      "I0629 18:01:43.042543 4574504384 feedforward_robust.py:891] Accuracy on batch: 1.000000\n"
     ]
    },
    {
     "name": "stdout",
     "output_type": "stream",
     "text": [
      "iteration: 0\n",
      "loss 0.000484\n",
      "iteration: 20\n",
      "loss 0.003072\n",
      "iteration: 40\n",
      "loss 0.003146\n",
      "iteration: 0\n",
      "loss 0.000499\n",
      "iteration: 20\n",
      "loss 0.003155\n",
      "iteration: 40\n",
      "loss 0.003241\n"
     ]
    },
    {
     "name": "stderr",
     "output_type": "stream",
     "text": [
      "Epoch: 0545    cost: 0.151607990 \n",
      "I0629 18:01:43.143458 4574504384 feedforward_robust.py:890] Epoch: 0545    cost: 0.151607990 \n",
      "Accuracy on batch: 1.000000\n",
      "I0629 18:01:43.144762 4574504384 feedforward_robust.py:891] Accuracy on batch: 1.000000\n",
      "Epoch: 0546    cost: 0.151657090 \n",
      "I0629 18:01:43.237055 4574504384 feedforward_robust.py:890] Epoch: 0546    cost: 0.151657090 \n",
      "Accuracy on batch: 1.000000\n",
      "I0629 18:01:43.238631 4574504384 feedforward_robust.py:891] Accuracy on batch: 1.000000\n"
     ]
    },
    {
     "name": "stdout",
     "output_type": "stream",
     "text": [
      "iteration: 0\n",
      "loss 0.000482\n",
      "iteration: 20\n",
      "loss 0.003121\n",
      "iteration: 40\n",
      "loss 0.003187\n",
      "iteration: 0\n",
      "loss 0.000448\n",
      "iteration: 20\n",
      "loss 0.003139\n",
      "iteration: 40\n",
      "loss 0.003244\n",
      "iteration: 0\n",
      "loss 0.000447\n"
     ]
    },
    {
     "name": "stderr",
     "output_type": "stream",
     "text": [
      "Epoch: 0547    cost: 0.151422679 \n",
      "I0629 18:01:43.334874 4574504384 feedforward_robust.py:890] Epoch: 0547    cost: 0.151422679 \n",
      "Accuracy on batch: 1.000000\n",
      "I0629 18:01:43.336110 4574504384 feedforward_robust.py:891] Accuracy on batch: 1.000000\n",
      "Epoch: 0548    cost: 0.151473626 \n",
      "I0629 18:01:43.424201 4574504384 feedforward_robust.py:890] Epoch: 0548    cost: 0.151473626 \n",
      "Accuracy on batch: 1.000000\n",
      "I0629 18:01:43.425628 4574504384 feedforward_robust.py:891] Accuracy on batch: 1.000000\n"
     ]
    },
    {
     "name": "stdout",
     "output_type": "stream",
     "text": [
      "iteration: 20\n",
      "loss 0.003030\n",
      "iteration: 40\n",
      "loss 0.003057\n",
      "iteration: 0\n",
      "loss 0.000419\n",
      "iteration: 20\n",
      "loss 0.003051\n",
      "iteration: 40\n",
      "loss 0.003129\n",
      "iteration: 0\n",
      "loss 0.000451\n",
      "iteration: 20\n",
      "loss 0.003030\n",
      "iteration: 40\n",
      "loss 0.003142\n"
     ]
    },
    {
     "name": "stderr",
     "output_type": "stream",
     "text": [
      "Epoch: 0549    cost: 0.151452884 \n",
      "I0629 18:01:43.516996 4574504384 feedforward_robust.py:890] Epoch: 0549    cost: 0.151452884 \n",
      "Accuracy on batch: 1.000000\n",
      "I0629 18:01:43.518301 4574504384 feedforward_robust.py:891] Accuracy on batch: 1.000000\n",
      "Epoch: 0550    cost: 0.151851252 \n",
      "I0629 18:01:43.613965 4574504384 feedforward_robust.py:890] Epoch: 0550    cost: 0.151851252 \n",
      "Accuracy on batch: 1.000000\n",
      "I0629 18:01:43.615845 4574504384 feedforward_robust.py:891] Accuracy on batch: 1.000000\n",
      "Epoch: 0551    cost: 0.151317850 \n",
      "I0629 18:01:43.710381 4574504384 feedforward_robust.py:890] Epoch: 0551    cost: 0.151317850 \n",
      "Accuracy on batch: 1.000000\n",
      "I0629 18:01:43.711848 4574504384 feedforward_robust.py:891] Accuracy on batch: 1.000000\n"
     ]
    },
    {
     "name": "stdout",
     "output_type": "stream",
     "text": [
      "iteration: 0\n",
      "loss 0.000470\n",
      "iteration: 20\n",
      "loss 0.003296\n",
      "iteration: 40\n",
      "loss 0.003529\n",
      "iteration: 0\n",
      "loss 0.000456\n",
      "iteration: 20\n",
      "loss 0.002989\n",
      "iteration: 40\n",
      "loss 0.003051\n",
      "iteration: 0\n",
      "loss 0.000487\n"
     ]
    },
    {
     "name": "stderr",
     "output_type": "stream",
     "text": [
      "Epoch: 0552    cost: 0.151374370 \n",
      "I0629 18:01:43.819633 4574504384 feedforward_robust.py:890] Epoch: 0552    cost: 0.151374370 \n",
      "Accuracy on batch: 1.000000\n",
      "I0629 18:01:43.820876 4574504384 feedforward_robust.py:891] Accuracy on batch: 1.000000\n",
      "Epoch: 0553    cost: 0.151482210 \n",
      "I0629 18:01:43.922199 4574504384 feedforward_robust.py:890] Epoch: 0553    cost: 0.151482210 \n",
      "Accuracy on batch: 1.000000\n",
      "I0629 18:01:43.923611 4574504384 feedforward_robust.py:891] Accuracy on batch: 1.000000\n"
     ]
    },
    {
     "name": "stdout",
     "output_type": "stream",
     "text": [
      "iteration: 20\n",
      "loss 0.003014\n",
      "iteration: 40\n",
      "loss 0.003112\n",
      "iteration: 0\n",
      "loss 0.000488\n",
      "iteration: 20\n",
      "loss 0.003051\n",
      "iteration: 40\n",
      "loss 0.003273\n",
      "iteration: 0\n",
      "loss 0.000412\n"
     ]
    },
    {
     "name": "stderr",
     "output_type": "stream",
     "text": [
      "Epoch: 0554    cost: 0.151333988 \n",
      "I0629 18:01:44.024673 4574504384 feedforward_robust.py:890] Epoch: 0554    cost: 0.151333988 \n",
      "Accuracy on batch: 1.000000\n",
      "I0629 18:01:44.026255 4574504384 feedforward_robust.py:891] Accuracy on batch: 1.000000\n",
      "Epoch: 0555    cost: 0.151504427 \n",
      "I0629 18:01:44.121768 4574504384 feedforward_robust.py:890] Epoch: 0555    cost: 0.151504427 \n",
      "Accuracy on batch: 1.000000\n",
      "I0629 18:01:44.123029 4574504384 feedforward_robust.py:891] Accuracy on batch: 1.000000\n"
     ]
    },
    {
     "name": "stdout",
     "output_type": "stream",
     "text": [
      "iteration: 20\n",
      "loss 0.003028\n",
      "iteration: 40\n",
      "loss 0.003097\n",
      "iteration: 0\n",
      "loss 0.000493\n",
      "iteration: 20\n",
      "loss 0.002974\n",
      "iteration: 40\n",
      "loss 0.003225\n",
      "iteration: 0\n",
      "loss 0.000458\n",
      "iteration: 20\n",
      "loss 0.003044\n"
     ]
    },
    {
     "name": "stderr",
     "output_type": "stream",
     "text": [
      "Epoch: 0556    cost: 0.151438788 \n",
      "I0629 18:01:44.214918 4574504384 feedforward_robust.py:890] Epoch: 0556    cost: 0.151438788 \n",
      "Accuracy on batch: 1.000000\n",
      "I0629 18:01:44.216170 4574504384 feedforward_robust.py:891] Accuracy on batch: 1.000000\n",
      "Epoch: 0557    cost: 0.151110306 \n",
      "I0629 18:01:44.310865 4574504384 feedforward_robust.py:890] Epoch: 0557    cost: 0.151110306 \n",
      "Accuracy on batch: 1.000000\n",
      "I0629 18:01:44.312462 4574504384 feedforward_robust.py:891] Accuracy on batch: 1.000000\n"
     ]
    },
    {
     "name": "stdout",
     "output_type": "stream",
     "text": [
      "iteration: 40\n",
      "loss 0.003258\n",
      "iteration: 0\n",
      "loss 0.000375\n",
      "iteration: 20\n",
      "loss 0.002916\n",
      "iteration: 40\n",
      "loss 0.002995\n",
      "iteration: 0\n",
      "loss 0.000424\n",
      "iteration: 20\n",
      "loss 0.002999\n",
      "iteration: 40\n",
      "loss 0.003102\n"
     ]
    },
    {
     "name": "stderr",
     "output_type": "stream",
     "text": [
      "Epoch: 0558    cost: 0.151188612 \n",
      "I0629 18:01:44.406069 4574504384 feedforward_robust.py:890] Epoch: 0558    cost: 0.151188612 \n",
      "Accuracy on batch: 1.000000\n",
      "I0629 18:01:44.408624 4574504384 feedforward_robust.py:891] Accuracy on batch: 1.000000\n",
      "Epoch: 0559    cost: 0.151053295 \n",
      "I0629 18:01:44.513711 4574504384 feedforward_robust.py:890] Epoch: 0559    cost: 0.151053295 \n",
      "Accuracy on batch: 1.000000\n",
      "I0629 18:01:44.515357 4574504384 feedforward_robust.py:891] Accuracy on batch: 1.000000\n",
      "Epoch: 0560    cost: 0.151166007 \n",
      "I0629 18:01:44.611693 4574504384 feedforward_robust.py:890] Epoch: 0560    cost: 0.151166007 \n",
      "Accuracy on batch: 1.000000\n",
      "I0629 18:01:44.613436 4574504384 feedforward_robust.py:891] Accuracy on batch: 1.000000\n"
     ]
    },
    {
     "name": "stdout",
     "output_type": "stream",
     "text": [
      "iteration: 0\n",
      "loss 0.000452\n",
      "iteration: 20\n",
      "loss 0.002935\n",
      "iteration: 40\n",
      "loss 0.003016\n",
      "iteration: 0\n",
      "loss 0.000432\n",
      "iteration: 20\n",
      "loss 0.003029\n",
      "iteration: 40\n",
      "loss 0.003158\n",
      "iteration: 0\n",
      "loss 0.000420\n"
     ]
    },
    {
     "name": "stderr",
     "output_type": "stream",
     "text": [
      "Epoch: 0561    cost: 0.151211947 \n",
      "I0629 18:01:44.708392 4574504384 feedforward_robust.py:890] Epoch: 0561    cost: 0.151211947 \n",
      "Accuracy on batch: 1.000000\n",
      "I0629 18:01:44.709908 4574504384 feedforward_robust.py:891] Accuracy on batch: 1.000000\n",
      "Epoch: 0562    cost: 0.151181504 \n",
      "I0629 18:01:44.798818 4574504384 feedforward_robust.py:890] Epoch: 0562    cost: 0.151181504 \n",
      "Accuracy on batch: 1.000000\n",
      "I0629 18:01:44.800040 4574504384 feedforward_robust.py:891] Accuracy on batch: 1.000000\n"
     ]
    },
    {
     "name": "stdout",
     "output_type": "stream",
     "text": [
      "iteration: 20\n",
      "loss 0.002954\n",
      "iteration: 40\n",
      "loss 0.003214\n",
      "iteration: 0\n",
      "loss 0.000401\n",
      "iteration: 20\n",
      "loss 0.002893\n",
      "iteration: 40\n",
      "loss 0.003132\n",
      "iteration: 0\n",
      "loss 0.000472\n",
      "iteration: 20\n",
      "loss 0.002910\n"
     ]
    },
    {
     "name": "stderr",
     "output_type": "stream",
     "text": [
      "Epoch: 0563    cost: 0.150940731 \n",
      "I0629 18:01:44.892580 4574504384 feedforward_robust.py:890] Epoch: 0563    cost: 0.150940731 \n",
      "Accuracy on batch: 1.000000\n",
      "I0629 18:01:44.893988 4574504384 feedforward_robust.py:891] Accuracy on batch: 1.000000\n",
      "Epoch: 0564    cost: 0.151101455 \n",
      "I0629 18:01:44.984741 4574504384 feedforward_robust.py:890] Epoch: 0564    cost: 0.151101455 \n",
      "Accuracy on batch: 1.000000\n",
      "I0629 18:01:44.986204 4574504384 feedforward_robust.py:891] Accuracy on batch: 1.000000\n"
     ]
    },
    {
     "name": "stdout",
     "output_type": "stream",
     "text": [
      "iteration: 40\n",
      "loss 0.002993\n",
      "iteration: 0\n",
      "loss 0.000408\n",
      "iteration: 20\n",
      "loss 0.002966\n",
      "iteration: 40\n",
      "loss 0.003139\n",
      "iteration: 0\n",
      "loss 0.000423\n",
      "iteration: 20\n",
      "loss 0.002955\n",
      "iteration: 40\n",
      "loss 0.003142\n"
     ]
    },
    {
     "name": "stderr",
     "output_type": "stream",
     "text": [
      "Epoch: 0565    cost: 0.151052281 \n",
      "I0629 18:01:45.079744 4574504384 feedforward_robust.py:890] Epoch: 0565    cost: 0.151052281 \n",
      "Accuracy on batch: 1.000000\n",
      "I0629 18:01:45.081005 4574504384 feedforward_robust.py:891] Accuracy on batch: 1.000000\n",
      "Epoch: 0566    cost: 0.151006520 \n",
      "I0629 18:01:45.185808 4574504384 feedforward_robust.py:890] Epoch: 0566    cost: 0.151006520 \n",
      "Accuracy on batch: 1.000000\n",
      "I0629 18:01:45.187117 4574504384 feedforward_robust.py:891] Accuracy on batch: 1.000000\n",
      "Epoch: 0567    cost: 0.150871441 \n",
      "I0629 18:01:45.292185 4574504384 feedforward_robust.py:890] Epoch: 0567    cost: 0.150871441 \n",
      "Accuracy on batch: 1.000000\n",
      "I0629 18:01:45.295027 4574504384 feedforward_robust.py:891] Accuracy on batch: 1.000000\n"
     ]
    },
    {
     "name": "stdout",
     "output_type": "stream",
     "text": [
      "iteration: 0\n",
      "loss 0.000413\n",
      "iteration: 20\n",
      "loss 0.002850\n",
      "iteration: 40\n",
      "loss 0.003111\n",
      "iteration: 0\n",
      "loss 0.000464\n",
      "iteration: 20\n",
      "loss 0.002863\n",
      "iteration: 40\n",
      "loss 0.002988\n"
     ]
    },
    {
     "name": "stderr",
     "output_type": "stream",
     "text": [
      "Epoch: 0568    cost: 0.150916860 \n",
      "I0629 18:01:45.392069 4574504384 feedforward_robust.py:890] Epoch: 0568    cost: 0.150916860 \n",
      "Accuracy on batch: 1.000000\n",
      "I0629 18:01:45.393484 4574504384 feedforward_robust.py:891] Accuracy on batch: 1.000000\n",
      "Epoch: 0569    cost: 0.150816351 \n",
      "I0629 18:01:45.488631 4574504384 feedforward_robust.py:890] Epoch: 0569    cost: 0.150816351 \n",
      "Accuracy on batch: 1.000000\n",
      "I0629 18:01:45.489987 4574504384 feedforward_robust.py:891] Accuracy on batch: 1.000000\n"
     ]
    },
    {
     "name": "stdout",
     "output_type": "stream",
     "text": [
      "iteration: 0\n",
      "loss 0.000427\n",
      "iteration: 20\n",
      "loss 0.002923\n",
      "iteration: 40\n",
      "loss 0.003063\n",
      "iteration: 0\n",
      "loss 0.000396\n",
      "iteration: 20\n",
      "loss 0.002901\n",
      "iteration: 40\n",
      "loss 0.003002\n",
      "iteration: 0\n",
      "loss 0.000346\n"
     ]
    },
    {
     "name": "stderr",
     "output_type": "stream",
     "text": [
      "Epoch: 0570    cost: 0.150675997 \n",
      "I0629 18:01:45.588937 4574504384 feedforward_robust.py:890] Epoch: 0570    cost: 0.150675997 \n",
      "Accuracy on batch: 1.000000\n",
      "I0629 18:01:45.590188 4574504384 feedforward_robust.py:891] Accuracy on batch: 1.000000\n",
      "Epoch: 0571    cost: 0.150731489 \n",
      "I0629 18:01:45.679577 4574504384 feedforward_robust.py:890] Epoch: 0571    cost: 0.150731489 \n",
      "Accuracy on batch: 1.000000\n",
      "I0629 18:01:45.680819 4574504384 feedforward_robust.py:891] Accuracy on batch: 1.000000\n"
     ]
    },
    {
     "name": "stdout",
     "output_type": "stream",
     "text": [
      "iteration: 20\n",
      "loss 0.002807\n",
      "iteration: 40\n",
      "loss 0.002878\n",
      "iteration: 0\n",
      "loss 0.000390\n",
      "iteration: 20\n",
      "loss 0.002836\n",
      "iteration: 40\n",
      "loss 0.002961\n",
      "iteration: 0\n",
      "loss 0.000382\n",
      "iteration: 20\n",
      "loss 0.002890\n"
     ]
    },
    {
     "name": "stderr",
     "output_type": "stream",
     "text": [
      "Epoch: 0572    cost: 0.150822774 \n",
      "I0629 18:01:45.773941 4574504384 feedforward_robust.py:890] Epoch: 0572    cost: 0.150822774 \n",
      "Accuracy on batch: 1.000000\n",
      "I0629 18:01:45.775964 4574504384 feedforward_robust.py:891] Accuracy on batch: 1.000000\n",
      "Epoch: 0573    cost: 0.150749207 \n",
      "I0629 18:01:45.872474 4574504384 feedforward_robust.py:890] Epoch: 0573    cost: 0.150749207 \n",
      "Accuracy on batch: 1.000000\n",
      "I0629 18:01:45.873797 4574504384 feedforward_robust.py:891] Accuracy on batch: 1.000000\n"
     ]
    },
    {
     "name": "stdout",
     "output_type": "stream",
     "text": [
      "iteration: 40\n",
      "loss 0.003057\n",
      "iteration: 0\n",
      "loss 0.000478\n",
      "iteration: 20\n",
      "loss 0.002873\n",
      "iteration: 40\n",
      "loss 0.003028\n",
      "iteration: 0\n",
      "loss 0.000393\n",
      "iteration: 20\n",
      "loss 0.002775\n",
      "iteration: 40\n",
      "loss 0.002831\n"
     ]
    },
    {
     "name": "stderr",
     "output_type": "stream",
     "text": [
      "Epoch: 0574    cost: 0.150525749 \n",
      "I0629 18:01:45.971755 4574504384 feedforward_robust.py:890] Epoch: 0574    cost: 0.150525749 \n",
      "Accuracy on batch: 1.000000\n",
      "I0629 18:01:45.974557 4574504384 feedforward_robust.py:891] Accuracy on batch: 1.000000\n",
      "Epoch: 0575    cost: 0.150683939 \n",
      "I0629 18:01:46.069999 4574504384 feedforward_robust.py:890] Epoch: 0575    cost: 0.150683939 \n",
      "Accuracy on batch: 1.000000\n",
      "I0629 18:01:46.071669 4574504384 feedforward_robust.py:891] Accuracy on batch: 1.000000\n",
      "Epoch: 0576    cost: 0.150433823 \n",
      "I0629 18:01:46.162361 4574504384 feedforward_robust.py:890] Epoch: 0576    cost: 0.150433823 \n",
      "Accuracy on batch: 1.000000\n",
      "I0629 18:01:46.163632 4574504384 feedforward_robust.py:891] Accuracy on batch: 1.000000\n"
     ]
    },
    {
     "name": "stdout",
     "output_type": "stream",
     "text": [
      "iteration: 0\n",
      "loss 0.000382\n",
      "iteration: 20\n",
      "loss 0.002804\n",
      "iteration: 40\n",
      "loss 0.002998\n",
      "iteration: 0\n",
      "loss 0.000389\n",
      "iteration: 20\n",
      "loss 0.002761\n",
      "iteration: 40\n",
      "loss 0.002828\n",
      "iteration: 0\n",
      "loss 0.000402\n"
     ]
    },
    {
     "name": "stderr",
     "output_type": "stream",
     "text": [
      "Epoch: 0577    cost: 0.150517419 \n",
      "I0629 18:01:46.261198 4574504384 feedforward_robust.py:890] Epoch: 0577    cost: 0.150517419 \n",
      "Accuracy on batch: 1.000000\n",
      "I0629 18:01:46.262787 4574504384 feedforward_robust.py:891] Accuracy on batch: 1.000000\n",
      "Epoch: 0578    cost: 0.150327593 \n",
      "I0629 18:01:46.350832 4574504384 feedforward_robust.py:890] Epoch: 0578    cost: 0.150327593 \n",
      "Accuracy on batch: 1.000000\n",
      "I0629 18:01:46.352370 4574504384 feedforward_robust.py:891] Accuracy on batch: 1.000000\n"
     ]
    },
    {
     "name": "stdout",
     "output_type": "stream",
     "text": [
      "iteration: 20\n",
      "loss 0.002821\n",
      "iteration: 40\n",
      "loss 0.002938\n",
      "iteration: 0\n",
      "loss 0.000410\n",
      "iteration: 20\n",
      "loss 0.002713\n",
      "iteration: 40\n",
      "loss 0.002760\n",
      "iteration: 0\n",
      "loss 0.000435\n",
      "iteration: 20\n",
      "loss 0.002773\n"
     ]
    },
    {
     "name": "stderr",
     "output_type": "stream",
     "text": [
      "Epoch: 0579    cost: 0.150458425 \n",
      "I0629 18:01:46.447269 4574504384 feedforward_robust.py:890] Epoch: 0579    cost: 0.150458425 \n",
      "Accuracy on batch: 1.000000\n",
      "I0629 18:01:46.448647 4574504384 feedforward_robust.py:891] Accuracy on batch: 1.000000\n",
      "Epoch: 0580    cost: 0.150376022 \n",
      "I0629 18:01:46.534895 4574504384 feedforward_robust.py:890] Epoch: 0580    cost: 0.150376022 \n",
      "Accuracy on batch: 1.000000\n",
      "I0629 18:01:46.536420 4574504384 feedforward_robust.py:891] Accuracy on batch: 1.000000\n",
      "Epoch: 0581    cost: 0.150272042 \n",
      "I0629 18:01:46.625766 4574504384 feedforward_robust.py:890] Epoch: 0581    cost: 0.150272042 \n",
      "Accuracy on batch: 1.000000\n",
      "I0629 18:01:46.626845 4574504384 feedforward_robust.py:891] Accuracy on batch: 1.000000\n"
     ]
    },
    {
     "name": "stdout",
     "output_type": "stream",
     "text": [
      "iteration: 40\n",
      "loss 0.002919\n",
      "iteration: 0\n",
      "loss 0.000377\n",
      "iteration: 20\n",
      "loss 0.002792\n",
      "iteration: 40\n",
      "loss 0.002869\n",
      "iteration: 0\n",
      "loss 0.000454\n",
      "iteration: 20\n",
      "loss 0.002748\n",
      "iteration: 40\n",
      "loss 0.002811\n"
     ]
    },
    {
     "name": "stderr",
     "output_type": "stream",
     "text": [
      "Epoch: 0582    cost: 0.150411606 \n",
      "I0629 18:01:46.717482 4574504384 feedforward_robust.py:890] Epoch: 0582    cost: 0.150411606 \n",
      "Accuracy on batch: 1.000000\n",
      "I0629 18:01:46.718857 4574504384 feedforward_robust.py:891] Accuracy on batch: 1.000000\n",
      "Epoch: 0583    cost: 0.150293052 \n",
      "I0629 18:01:46.812943 4574504384 feedforward_robust.py:890] Epoch: 0583    cost: 0.150293052 \n",
      "Accuracy on batch: 1.000000\n",
      "I0629 18:01:46.814226 4574504384 feedforward_robust.py:891] Accuracy on batch: 1.000000\n"
     ]
    },
    {
     "name": "stdout",
     "output_type": "stream",
     "text": [
      "iteration: 0\n",
      "loss 0.000400\n",
      "iteration: 20\n",
      "loss 0.002685\n",
      "iteration: 40\n",
      "loss 0.002884\n",
      "iteration: 0\n",
      "loss 0.000394\n",
      "iteration: 20\n",
      "loss 0.002806\n",
      "iteration: 40\n",
      "loss 0.002886\n",
      "iteration: 0\n",
      "loss 0.000382\n"
     ]
    },
    {
     "name": "stderr",
     "output_type": "stream",
     "text": [
      "Epoch: 0584    cost: 0.150126308 \n",
      "I0629 18:01:46.932978 4574504384 feedforward_robust.py:890] Epoch: 0584    cost: 0.150126308 \n",
      "Accuracy on batch: 1.000000\n",
      "I0629 18:01:46.934419 4574504384 feedforward_robust.py:891] Accuracy on batch: 1.000000\n",
      "Epoch: 0585    cost: 0.150105640 \n",
      "I0629 18:01:47.049602 4574504384 feedforward_robust.py:890] Epoch: 0585    cost: 0.150105640 \n",
      "Accuracy on batch: 1.000000\n",
      "I0629 18:01:47.051285 4574504384 feedforward_robust.py:891] Accuracy on batch: 1.000000\n"
     ]
    },
    {
     "name": "stdout",
     "output_type": "stream",
     "text": [
      "iteration: 20\n",
      "loss 0.002688\n",
      "iteration: 40\n",
      "loss 0.002740\n",
      "iteration: 0\n",
      "loss 0.000358\n",
      "iteration: 20\n",
      "loss 0.002661\n",
      "iteration: 40\n",
      "loss 0.002722\n"
     ]
    },
    {
     "name": "stderr",
     "output_type": "stream",
     "text": [
      "Epoch: 0586    cost: 0.150396928 \n",
      "I0629 18:01:47.150721 4574504384 feedforward_robust.py:890] Epoch: 0586    cost: 0.150396928 \n",
      "Accuracy on batch: 1.000000\n",
      "I0629 18:01:47.151961 4574504384 feedforward_robust.py:891] Accuracy on batch: 1.000000\n",
      "Epoch: 0587    cost: 0.150200427 \n",
      "I0629 18:01:47.249130 4574504384 feedforward_robust.py:890] Epoch: 0587    cost: 0.150200427 \n",
      "Accuracy on batch: 1.000000\n",
      "I0629 18:01:47.250612 4574504384 feedforward_robust.py:891] Accuracy on batch: 1.000000\n"
     ]
    },
    {
     "name": "stdout",
     "output_type": "stream",
     "text": [
      "iteration: 0\n",
      "loss 0.000391\n",
      "iteration: 20\n",
      "loss 0.002791\n",
      "iteration: 40\n",
      "loss 0.003019\n",
      "iteration: 0\n",
      "loss 0.000402\n",
      "iteration: 20\n",
      "loss 0.002676\n",
      "iteration: 40\n",
      "loss 0.002886\n",
      "iteration: 0\n",
      "loss 0.000437\n"
     ]
    },
    {
     "name": "stderr",
     "output_type": "stream",
     "text": [
      "Epoch: 0588    cost: 0.149945810 \n",
      "I0629 18:01:47.344835 4574504384 feedforward_robust.py:890] Epoch: 0588    cost: 0.149945810 \n",
      "Accuracy on batch: 1.000000\n",
      "I0629 18:01:47.346729 4574504384 feedforward_robust.py:891] Accuracy on batch: 1.000000\n",
      "Epoch: 0589    cost: 0.150132373 \n",
      "I0629 18:01:47.435254 4574504384 feedforward_robust.py:890] Epoch: 0589    cost: 0.150132373 \n",
      "Accuracy on batch: 1.000000\n",
      "I0629 18:01:47.437184 4574504384 feedforward_robust.py:891] Accuracy on batch: 1.000000\n"
     ]
    },
    {
     "name": "stdout",
     "output_type": "stream",
     "text": [
      "iteration: 20\n",
      "loss 0.002620\n",
      "iteration: 40\n",
      "loss 0.002666\n",
      "iteration: 0\n",
      "loss 0.000410\n",
      "iteration: 20\n",
      "loss 0.002711\n",
      "iteration: 40\n",
      "loss 0.002852\n",
      "iteration: 0\n",
      "loss 0.000398\n",
      "iteration: 20\n",
      "loss 0.002626\n"
     ]
    },
    {
     "name": "stderr",
     "output_type": "stream",
     "text": [
      "Epoch: 0590    cost: 0.149927735 \n",
      "I0629 18:01:47.549580 4574504384 feedforward_robust.py:890] Epoch: 0590    cost: 0.149927735 \n",
      "Accuracy on batch: 1.000000\n",
      "I0629 18:01:47.551292 4574504384 feedforward_robust.py:891] Accuracy on batch: 1.000000\n",
      "Epoch: 0591    cost: 0.150048867 \n",
      "I0629 18:01:47.654845 4574504384 feedforward_robust.py:890] Epoch: 0591    cost: 0.150048867 \n",
      "Accuracy on batch: 1.000000\n",
      "I0629 18:01:47.656084 4574504384 feedforward_robust.py:891] Accuracy on batch: 1.000000\n"
     ]
    },
    {
     "name": "stdout",
     "output_type": "stream",
     "text": [
      "iteration: 40\n",
      "loss 0.002685\n",
      "iteration: 0\n",
      "loss 0.000365\n",
      "iteration: 20\n",
      "loss 0.002716\n",
      "iteration: 40\n",
      "loss 0.002835\n",
      "iteration: 0\n",
      "loss 0.000400\n",
      "iteration: 20\n",
      "loss 0.002713\n"
     ]
    },
    {
     "name": "stderr",
     "output_type": "stream",
     "text": [
      "Epoch: 0592    cost: 0.150289670 \n",
      "I0629 18:01:47.771324 4574504384 feedforward_robust.py:890] Epoch: 0592    cost: 0.150289670 \n",
      "Accuracy on batch: 1.000000\n",
      "I0629 18:01:47.772538 4574504384 feedforward_robust.py:891] Accuracy on batch: 1.000000\n",
      "Epoch: 0593    cost: 0.149809599 \n",
      "I0629 18:01:47.866708 4574504384 feedforward_robust.py:890] Epoch: 0593    cost: 0.149809599 \n",
      "Accuracy on batch: 1.000000\n",
      "I0629 18:01:47.867949 4574504384 feedforward_robust.py:891] Accuracy on batch: 1.000000\n"
     ]
    },
    {
     "name": "stdout",
     "output_type": "stream",
     "text": [
      "iteration: 40\n",
      "loss 0.003009\n",
      "iteration: 0\n",
      "loss 0.000388\n",
      "iteration: 20\n",
      "loss 0.002615\n",
      "iteration: 40\n",
      "loss 0.002641\n",
      "iteration: 0\n",
      "loss 0.000406\n",
      "iteration: 20\n",
      "loss 0.002675\n",
      "iteration: 40\n",
      "loss 0.002766\n"
     ]
    },
    {
     "name": "stderr",
     "output_type": "stream",
     "text": [
      "Epoch: 0594    cost: 0.149932444 \n",
      "I0629 18:01:47.961441 4574504384 feedforward_robust.py:890] Epoch: 0594    cost: 0.149932444 \n",
      "Accuracy on batch: 1.000000\n",
      "I0629 18:01:47.962970 4574504384 feedforward_robust.py:891] Accuracy on batch: 1.000000\n",
      "Epoch: 0595    cost: 0.149973840 \n",
      "I0629 18:01:48.053576 4574504384 feedforward_robust.py:890] Epoch: 0595    cost: 0.149973840 \n",
      "Accuracy on batch: 1.000000\n",
      "I0629 18:01:48.054816 4574504384 feedforward_robust.py:891] Accuracy on batch: 1.000000\n",
      "Epoch: 0596    cost: 0.149847701 \n",
      "I0629 18:01:48.147003 4574504384 feedforward_robust.py:890] Epoch: 0596    cost: 0.149847701 \n",
      "Accuracy on batch: 1.000000\n",
      "I0629 18:01:48.148333 4574504384 feedforward_robust.py:891] Accuracy on batch: 1.000000\n"
     ]
    },
    {
     "name": "stdout",
     "output_type": "stream",
     "text": [
      "iteration: 0\n",
      "loss 0.000378\n",
      "iteration: 20\n",
      "loss 0.002580\n",
      "iteration: 40\n",
      "loss 0.002737\n",
      "iteration: 0\n",
      "loss 0.000370\n",
      "iteration: 20\n",
      "loss 0.002627\n",
      "iteration: 40\n",
      "loss 0.002726\n",
      "iteration: 0\n",
      "loss 0.000393\n"
     ]
    },
    {
     "name": "stderr",
     "output_type": "stream",
     "text": [
      "Epoch: 0597    cost: 0.149761334 \n",
      "I0629 18:01:48.245819 4574504384 feedforward_robust.py:890] Epoch: 0597    cost: 0.149761334 \n",
      "Accuracy on batch: 1.000000\n",
      "I0629 18:01:48.247173 4574504384 feedforward_robust.py:891] Accuracy on batch: 1.000000\n",
      "Epoch: 0598    cost: 0.149676651 \n",
      "I0629 18:01:48.343290 4574504384 feedforward_robust.py:890] Epoch: 0598    cost: 0.149676651 \n",
      "Accuracy on batch: 1.000000\n",
      "I0629 18:01:48.344460 4574504384 feedforward_robust.py:891] Accuracy on batch: 1.000000\n"
     ]
    },
    {
     "name": "stdout",
     "output_type": "stream",
     "text": [
      "iteration: 20\n",
      "loss 0.002595\n",
      "iteration: 40\n",
      "loss 0.002671\n",
      "iteration: 0\n",
      "loss 0.000387\n",
      "iteration: 20\n",
      "loss 0.002564\n",
      "iteration: 40\n",
      "loss 0.002611\n",
      "iteration: 0\n",
      "loss 0.000402\n",
      "iteration: 20\n",
      "loss 0.002619\n"
     ]
    },
    {
     "name": "stderr",
     "output_type": "stream",
     "text": [
      "Epoch: 0599    cost: 0.149734750 \n",
      "I0629 18:01:48.442753 4574504384 feedforward_robust.py:890] Epoch: 0599    cost: 0.149734750 \n",
      "Accuracy on batch: 1.000000\n",
      "I0629 18:01:48.444274 4574504384 feedforward_robust.py:891] Accuracy on batch: 1.000000\n",
      "Epoch: 0600    cost: 0.149876744 \n",
      "I0629 18:01:48.539187 4574504384 feedforward_robust.py:890] Epoch: 0600    cost: 0.149876744 \n",
      "Accuracy on batch: 1.000000\n",
      "I0629 18:01:48.540822 4574504384 feedforward_robust.py:891] Accuracy on batch: 1.000000\n"
     ]
    },
    {
     "name": "stdout",
     "output_type": "stream",
     "text": [
      "iteration: 40\n",
      "loss 0.002701\n",
      "iteration: 0\n",
      "loss 0.000365\n",
      "iteration: 20\n",
      "loss 0.002665\n",
      "iteration: 40\n",
      "loss 0.002825\n",
      "iteration: 0\n",
      "loss 0.000358\n",
      "iteration: 20\n",
      "loss 0.002551\n",
      "iteration: 40\n",
      "loss 0.002604\n"
     ]
    },
    {
     "name": "stderr",
     "output_type": "stream",
     "text": [
      "Epoch: 0601    cost: 0.149592087 \n",
      "I0629 18:01:48.635536 4574504384 feedforward_robust.py:890] Epoch: 0601    cost: 0.149592087 \n",
      "Accuracy on batch: 1.000000\n",
      "I0629 18:01:48.637216 4574504384 feedforward_robust.py:891] Accuracy on batch: 1.000000\n",
      "Epoch: 0602    cost: 0.149691045 \n",
      "I0629 18:01:48.737540 4574504384 feedforward_robust.py:890] Epoch: 0602    cost: 0.149691045 \n",
      "Accuracy on batch: 1.000000\n",
      "I0629 18:01:48.738801 4574504384 feedforward_robust.py:891] Accuracy on batch: 1.000000\n",
      "Epoch: 0603    cost: 0.149802998 \n",
      "I0629 18:01:48.858222 4574504384 feedforward_robust.py:890] Epoch: 0603    cost: 0.149802998 \n",
      "Accuracy on batch: 1.000000\n",
      "I0629 18:01:48.860239 4574504384 feedforward_robust.py:891] Accuracy on batch: 1.000000\n"
     ]
    },
    {
     "name": "stdout",
     "output_type": "stream",
     "text": [
      "iteration: 0\n",
      "loss 0.000378\n",
      "iteration: 20\n",
      "loss 0.002561\n",
      "iteration: 40\n",
      "loss 0.002733\n",
      "iteration: 0\n",
      "loss 0.000377\n",
      "iteration: 20\n",
      "loss 0.002648\n",
      "iteration: 40\n",
      "loss 0.002839\n"
     ]
    },
    {
     "name": "stderr",
     "output_type": "stream",
     "text": [
      "Epoch: 0604    cost: 0.149557024 \n",
      "I0629 18:01:48.965818 4574504384 feedforward_robust.py:890] Epoch: 0604    cost: 0.149557024 \n",
      "Accuracy on batch: 1.000000\n",
      "I0629 18:01:48.967131 4574504384 feedforward_robust.py:891] Accuracy on batch: 1.000000\n",
      "Epoch: 0605    cost: 0.149657384 \n",
      "I0629 18:01:49.063651 4574504384 feedforward_robust.py:890] Epoch: 0605    cost: 0.149657384 \n",
      "Accuracy on batch: 1.000000\n",
      "I0629 18:01:49.065016 4574504384 feedforward_robust.py:891] Accuracy on batch: 1.000000\n"
     ]
    },
    {
     "name": "stdout",
     "output_type": "stream",
     "text": [
      "iteration: 0\n",
      "loss 0.000389\n",
      "iteration: 20\n",
      "loss 0.002602\n",
      "iteration: 40\n",
      "loss 0.002673\n",
      "iteration: 0\n",
      "loss 0.000367\n",
      "iteration: 20\n",
      "loss 0.002622\n",
      "iteration: 40\n",
      "loss 0.002763\n",
      "iteration: 0\n",
      "loss 0.000365\n"
     ]
    },
    {
     "name": "stderr",
     "output_type": "stream",
     "text": [
      "Epoch: 0606    cost: 0.149500236 \n",
      "I0629 18:01:49.160699 4574504384 feedforward_robust.py:890] Epoch: 0606    cost: 0.149500236 \n",
      "Accuracy on batch: 1.000000\n",
      "I0629 18:01:49.161966 4574504384 feedforward_robust.py:891] Accuracy on batch: 1.000000\n",
      "Epoch: 0607    cost: 0.149486378 \n",
      "I0629 18:01:49.254182 4574504384 feedforward_robust.py:890] Epoch: 0607    cost: 0.149486378 \n",
      "Accuracy on batch: 1.000000\n",
      "I0629 18:01:49.256086 4574504384 feedforward_robust.py:891] Accuracy on batch: 1.000000\n"
     ]
    },
    {
     "name": "stdout",
     "output_type": "stream",
     "text": [
      "iteration: 20\n",
      "loss 0.002554\n",
      "iteration: 40\n",
      "loss 0.002682\n",
      "iteration: 0\n",
      "loss 0.000367\n",
      "iteration: 20\n",
      "loss 0.002605\n",
      "iteration: 40\n",
      "loss 0.002686\n",
      "iteration: 0\n",
      "loss 0.000402\n",
      "iteration: 20\n",
      "loss 0.002467\n"
     ]
    },
    {
     "name": "stderr",
     "output_type": "stream",
     "text": [
      "Epoch: 0608    cost: 0.149340272 \n",
      "I0629 18:01:49.350193 4574504384 feedforward_robust.py:890] Epoch: 0608    cost: 0.149340272 \n",
      "Accuracy on batch: 1.000000\n",
      "I0629 18:01:49.351704 4574504384 feedforward_robust.py:891] Accuracy on batch: 1.000000\n",
      "Epoch: 0609    cost: 0.149284199 \n",
      "I0629 18:01:49.439425 4574504384 feedforward_robust.py:890] Epoch: 0609    cost: 0.149284199 \n",
      "Accuracy on batch: 1.000000\n",
      "I0629 18:01:49.440754 4574504384 feedforward_robust.py:891] Accuracy on batch: 1.000000\n"
     ]
    },
    {
     "name": "stdout",
     "output_type": "stream",
     "text": [
      "iteration: 40\n",
      "loss 0.002563\n",
      "iteration: 0\n",
      "loss 0.000421\n",
      "iteration: 20\n",
      "loss 0.002492\n",
      "iteration: 40\n",
      "loss 0.002537\n",
      "iteration: 0\n",
      "loss 0.000351\n",
      "iteration: 20\n",
      "loss 0.002519\n",
      "iteration: 40\n",
      "loss 0.002577\n"
     ]
    },
    {
     "name": "stderr",
     "output_type": "stream",
     "text": [
      "Epoch: 0610    cost: 0.149315566 \n",
      "I0629 18:01:49.537835 4574504384 feedforward_robust.py:890] Epoch: 0610    cost: 0.149315566 \n",
      "Accuracy on batch: 1.000000\n",
      "I0629 18:01:49.539816 4574504384 feedforward_robust.py:891] Accuracy on batch: 1.000000\n",
      "Epoch: 0611    cost: 0.149441257 \n",
      "I0629 18:01:49.652909 4574504384 feedforward_robust.py:890] Epoch: 0611    cost: 0.149441257 \n",
      "Accuracy on batch: 1.000000\n",
      "I0629 18:01:49.654480 4574504384 feedforward_robust.py:891] Accuracy on batch: 1.000000\n",
      "Epoch: 0612    cost: 0.149207622 \n",
      "I0629 18:01:49.767848 4574504384 feedforward_robust.py:890] Epoch: 0612    cost: 0.149207622 \n",
      "Accuracy on batch: 1.000000\n",
      "I0629 18:01:49.769882 4574504384 feedforward_robust.py:891] Accuracy on batch: 1.000000\n"
     ]
    },
    {
     "name": "stdout",
     "output_type": "stream",
     "text": [
      "iteration: 0\n",
      "loss 0.000352\n",
      "iteration: 20\n",
      "loss 0.002531\n",
      "iteration: 40\n",
      "loss 0.002719\n",
      "iteration: 0\n",
      "loss 0.000380\n",
      "iteration: 20\n",
      "loss 0.002481\n",
      "iteration: 40\n",
      "loss 0.002528\n"
     ]
    },
    {
     "name": "stderr",
     "output_type": "stream",
     "text": [
      "Epoch: 0613    cost: 0.149189115 \n",
      "I0629 18:01:49.877783 4574504384 feedforward_robust.py:890] Epoch: 0613    cost: 0.149189115 \n",
      "Accuracy on batch: 1.000000\n",
      "I0629 18:01:49.879030 4574504384 feedforward_robust.py:891] Accuracy on batch: 1.000000\n",
      "Epoch: 0614    cost: 0.149337485 \n",
      "I0629 18:01:49.971349 4574504384 feedforward_robust.py:890] Epoch: 0614    cost: 0.149337485 \n",
      "Accuracy on batch: 1.000000\n",
      "I0629 18:01:49.974560 4574504384 feedforward_robust.py:891] Accuracy on batch: 1.000000\n"
     ]
    },
    {
     "name": "stdout",
     "output_type": "stream",
     "text": [
      "iteration: 0\n",
      "loss 0.000378\n",
      "iteration: 20\n",
      "loss 0.002451\n",
      "iteration: 40\n",
      "loss 0.002525\n",
      "iteration: 0\n",
      "loss 0.000364\n",
      "iteration: 20\n",
      "loss 0.002557\n",
      "iteration: 40\n",
      "loss 0.002695\n",
      "iteration: 0\n",
      "loss 0.000364\n"
     ]
    },
    {
     "name": "stderr",
     "output_type": "stream",
     "text": [
      "Epoch: 0615    cost: 0.149058372 \n",
      "I0629 18:01:50.069864 4574504384 feedforward_robust.py:890] Epoch: 0615    cost: 0.149058372 \n",
      "Accuracy on batch: 1.000000\n",
      "I0629 18:01:50.071202 4574504384 feedforward_robust.py:891] Accuracy on batch: 1.000000\n",
      "Epoch: 0616    cost: 0.149281979 \n",
      "I0629 18:01:50.164751 4574504384 feedforward_robust.py:890] Epoch: 0616    cost: 0.149281979 \n",
      "Accuracy on batch: 1.000000\n",
      "I0629 18:01:50.166086 4574504384 feedforward_robust.py:891] Accuracy on batch: 1.000000\n"
     ]
    },
    {
     "name": "stdout",
     "output_type": "stream",
     "text": [
      "iteration: 20\n",
      "loss 0.002453\n",
      "iteration: 40\n",
      "loss 0.002493\n",
      "iteration: 0\n",
      "loss 0.000396\n",
      "iteration: 20\n",
      "loss 0.002494\n",
      "iteration: 40\n",
      "loss 0.002714\n",
      "iteration: 0\n",
      "loss 0.000351\n",
      "iteration: 20\n",
      "loss 0.002498\n"
     ]
    },
    {
     "name": "stderr",
     "output_type": "stream",
     "text": [
      "Epoch: 0617    cost: 0.149050489 \n",
      "I0629 18:01:50.273635 4574504384 feedforward_robust.py:890] Epoch: 0617    cost: 0.149050489 \n",
      "Accuracy on batch: 1.000000\n",
      "I0629 18:01:50.275263 4574504384 feedforward_robust.py:891] Accuracy on batch: 1.000000\n",
      "Epoch: 0618    cost: 0.148983791 \n",
      "I0629 18:01:50.387279 4574504384 feedforward_robust.py:890] Epoch: 0618    cost: 0.148983791 \n",
      "Accuracy on batch: 1.000000\n",
      "I0629 18:01:50.388565 4574504384 feedforward_robust.py:891] Accuracy on batch: 1.000000\n"
     ]
    },
    {
     "name": "stdout",
     "output_type": "stream",
     "text": [
      "iteration: 40\n",
      "loss 0.002540\n",
      "iteration: 0\n",
      "loss 0.000376\n",
      "iteration: 20\n",
      "loss 0.002463\n",
      "iteration: 40\n",
      "loss 0.002505\n",
      "iteration: 0\n",
      "loss 0.000361\n"
     ]
    },
    {
     "name": "stderr",
     "output_type": "stream",
     "text": [
      "Epoch: 0619    cost: 0.149031192 \n",
      "I0629 18:01:50.502634 4574504384 feedforward_robust.py:890] Epoch: 0619    cost: 0.149031192 \n",
      "Accuracy on batch: 1.000000\n",
      "I0629 18:01:50.503977 4574504384 feedforward_robust.py:891] Accuracy on batch: 1.000000\n",
      "Epoch: 0620    cost: 0.148903012 \n",
      "I0629 18:01:50.602874 4574504384 feedforward_robust.py:890] Epoch: 0620    cost: 0.148903012 \n",
      "Accuracy on batch: 1.000000\n",
      "I0629 18:01:50.604283 4574504384 feedforward_robust.py:891] Accuracy on batch: 1.000000\n"
     ]
    },
    {
     "name": "stdout",
     "output_type": "stream",
     "text": [
      "iteration: 20\n",
      "loss 0.002485\n",
      "iteration: 40\n",
      "loss 0.002554\n",
      "iteration: 0\n",
      "loss 0.000347\n",
      "iteration: 20\n",
      "loss 0.002413\n",
      "iteration: 40\n",
      "loss 0.002463\n",
      "iteration: 0\n",
      "loss 0.000355\n"
     ]
    },
    {
     "name": "stderr",
     "output_type": "stream",
     "text": [
      "Epoch: 0621    cost: 0.149203986 \n",
      "I0629 18:01:50.700753 4574504384 feedforward_robust.py:890] Epoch: 0621    cost: 0.149203986 \n",
      "Accuracy on batch: 1.000000\n",
      "I0629 18:01:50.702652 4574504384 feedforward_robust.py:891] Accuracy on batch: 1.000000\n",
      "Epoch: 0622    cost: 0.148847014 \n",
      "I0629 18:01:50.793615 4574504384 feedforward_robust.py:890] Epoch: 0622    cost: 0.148847014 \n",
      "Accuracy on batch: 1.000000\n",
      "I0629 18:01:50.794902 4574504384 feedforward_robust.py:891] Accuracy on batch: 1.000000\n"
     ]
    },
    {
     "name": "stdout",
     "output_type": "stream",
     "text": [
      "iteration: 20\n",
      "loss 0.002519\n",
      "iteration: 40\n",
      "loss 0.002758\n",
      "iteration: 0\n",
      "loss 0.000401\n",
      "iteration: 20\n",
      "loss 0.002405\n",
      "iteration: 40\n",
      "loss 0.002458\n",
      "iteration: 0\n",
      "loss 0.000357\n",
      "iteration: 20\n",
      "loss 0.002385\n"
     ]
    },
    {
     "name": "stderr",
     "output_type": "stream",
     "text": [
      "Epoch: 0623    cost: 0.148792177 \n",
      "I0629 18:01:50.892593 4574504384 feedforward_robust.py:890] Epoch: 0623    cost: 0.148792177 \n",
      "Accuracy on batch: 1.000000\n",
      "I0629 18:01:50.894015 4574504384 feedforward_robust.py:891] Accuracy on batch: 1.000000\n",
      "Epoch: 0624    cost: 0.148872152 \n",
      "I0629 18:01:51.005259 4574504384 feedforward_robust.py:890] Epoch: 0624    cost: 0.148872152 \n",
      "Accuracy on batch: 1.000000\n",
      "I0629 18:01:51.007206 4574504384 feedforward_robust.py:891] Accuracy on batch: 1.000000\n"
     ]
    },
    {
     "name": "stdout",
     "output_type": "stream",
     "text": [
      "iteration: 40\n",
      "loss 0.002425\n",
      "iteration: 0\n",
      "loss 0.000373\n",
      "iteration: 20\n",
      "loss 0.002428\n",
      "iteration: 40\n",
      "loss 0.002520\n",
      "iteration: 0\n",
      "loss 0.000354\n"
     ]
    },
    {
     "name": "stderr",
     "output_type": "stream",
     "text": [
      "Epoch: 0625    cost: 0.148797989 \n",
      "I0629 18:01:51.123577 4574504384 feedforward_robust.py:890] Epoch: 0625    cost: 0.148797989 \n",
      "Accuracy on batch: 1.000000\n",
      "I0629 18:01:51.129068 4574504384 feedforward_robust.py:891] Accuracy on batch: 1.000000\n",
      "Epoch: 0626    cost: 0.148961574 \n",
      "I0629 18:01:51.226405 4574504384 feedforward_robust.py:890] Epoch: 0626    cost: 0.148961574 \n",
      "Accuracy on batch: 1.000000\n",
      "I0629 18:01:51.228012 4574504384 feedforward_robust.py:891] Accuracy on batch: 1.000000\n"
     ]
    },
    {
     "name": "stdout",
     "output_type": "stream",
     "text": [
      "iteration: 20\n",
      "loss 0.002396\n",
      "iteration: 40\n",
      "loss 0.002462\n",
      "iteration: 0\n",
      "loss 0.000344\n",
      "iteration: 20\n",
      "loss 0.002556\n",
      "iteration: 40\n",
      "loss 0.002662\n",
      "iteration: 0\n",
      "loss 0.000297\n"
     ]
    },
    {
     "name": "stderr",
     "output_type": "stream",
     "text": [
      "Epoch: 0627    cost: 0.148944095 \n",
      "I0629 18:01:51.332612 4574504384 feedforward_robust.py:890] Epoch: 0627    cost: 0.148944095 \n",
      "Accuracy on batch: 1.000000\n",
      "I0629 18:01:51.335389 4574504384 feedforward_robust.py:891] Accuracy on batch: 1.000000\n",
      "Epoch: 0628    cost: 0.149036527 \n",
      "I0629 18:01:51.427832 4574504384 feedforward_robust.py:890] Epoch: 0628    cost: 0.149036527 \n",
      "Accuracy on batch: 1.000000\n",
      "I0629 18:01:51.429800 4574504384 feedforward_robust.py:891] Accuracy on batch: 1.000000\n"
     ]
    },
    {
     "name": "stdout",
     "output_type": "stream",
     "text": [
      "iteration: 20\n",
      "loss 0.002455\n",
      "iteration: 40\n",
      "loss 0.002667\n",
      "iteration: 0\n",
      "loss 0.000330\n",
      "iteration: 20\n",
      "loss 0.002458\n",
      "iteration: 40\n",
      "loss 0.002737\n",
      "iteration: 0\n",
      "loss 0.000334\n",
      "iteration: 20\n",
      "loss 0.002373\n"
     ]
    },
    {
     "name": "stderr",
     "output_type": "stream",
     "text": [
      "Epoch: 0629    cost: 0.148684978 \n",
      "I0629 18:01:51.524517 4574504384 feedforward_robust.py:890] Epoch: 0629    cost: 0.148684978 \n",
      "Accuracy on batch: 1.000000\n",
      "I0629 18:01:51.525911 4574504384 feedforward_robust.py:891] Accuracy on batch: 1.000000\n",
      "Epoch: 0630    cost: 0.148652285 \n",
      "I0629 18:01:51.621325 4574504384 feedforward_robust.py:890] Epoch: 0630    cost: 0.148652285 \n",
      "Accuracy on batch: 1.000000\n",
      "I0629 18:01:51.623109 4574504384 feedforward_robust.py:891] Accuracy on batch: 1.000000\n"
     ]
    },
    {
     "name": "stdout",
     "output_type": "stream",
     "text": [
      "iteration: 40\n",
      "loss 0.002452\n",
      "iteration: 0\n",
      "loss 0.000358\n",
      "iteration: 20\n",
      "loss 0.002379\n",
      "iteration: 40\n",
      "loss 0.002457\n",
      "iteration: 0\n",
      "loss 0.000337\n",
      "iteration: 20\n",
      "loss 0.002428\n",
      "iteration: 40\n",
      "loss 0.002509\n"
     ]
    },
    {
     "name": "stderr",
     "output_type": "stream",
     "text": [
      "Epoch: 0631    cost: 0.148688152 \n",
      "I0629 18:01:51.718857 4574504384 feedforward_robust.py:890] Epoch: 0631    cost: 0.148688152 \n",
      "Accuracy on batch: 1.000000\n",
      "I0629 18:01:51.720532 4574504384 feedforward_robust.py:891] Accuracy on batch: 1.000000\n",
      "Epoch: 0632    cost: 0.148573741 \n",
      "I0629 18:01:51.815752 4574504384 feedforward_robust.py:890] Epoch: 0632    cost: 0.148573741 \n",
      "Accuracy on batch: 1.000000\n",
      "I0629 18:01:51.817018 4574504384 feedforward_robust.py:891] Accuracy on batch: 1.000000\n",
      "Epoch: 0633    cost: 0.148717016 \n",
      "I0629 18:01:51.915921 4574504384 feedforward_robust.py:890] Epoch: 0633    cost: 0.148717016 \n",
      "Accuracy on batch: 1.000000\n",
      "I0629 18:01:51.917463 4574504384 feedforward_robust.py:891] Accuracy on batch: 1.000000\n"
     ]
    },
    {
     "name": "stdout",
     "output_type": "stream",
     "text": [
      "iteration: 0\n",
      "loss 0.000332\n",
      "iteration: 20\n",
      "loss 0.002350\n",
      "iteration: 40\n",
      "loss 0.002426\n",
      "iteration: 0\n",
      "loss 0.000311\n",
      "iteration: 20\n",
      "loss 0.002430\n",
      "iteration: 40\n",
      "loss 0.002598\n",
      "iteration: 0\n",
      "loss 0.000332\n"
     ]
    },
    {
     "name": "stderr",
     "output_type": "stream",
     "text": [
      "Epoch: 0634    cost: 0.148605034 \n",
      "I0629 18:01:52.010789 4574504384 feedforward_robust.py:890] Epoch: 0634    cost: 0.148605034 \n",
      "Accuracy on batch: 1.000000\n",
      "I0629 18:01:52.012545 4574504384 feedforward_robust.py:891] Accuracy on batch: 1.000000\n",
      "Epoch: 0635    cost: 0.148624584 \n",
      "I0629 18:01:52.100944 4574504384 feedforward_robust.py:890] Epoch: 0635    cost: 0.148624584 \n",
      "Accuracy on batch: 1.000000\n",
      "I0629 18:01:52.102330 4574504384 feedforward_robust.py:891] Accuracy on batch: 1.000000\n"
     ]
    },
    {
     "name": "stdout",
     "output_type": "stream",
     "text": [
      "iteration: 20\n",
      "loss 0.002408\n",
      "iteration: 40\n",
      "loss 0.002516\n",
      "iteration: 0\n",
      "loss 0.000337\n",
      "iteration: 20\n",
      "loss 0.002381\n",
      "iteration: 40\n",
      "loss 0.002569\n",
      "iteration: 0\n",
      "loss 0.000344\n",
      "iteration: 20\n",
      "loss 0.002287\n"
     ]
    },
    {
     "name": "stderr",
     "output_type": "stream",
     "text": [
      "Epoch: 0636    cost: 0.148405075 \n",
      "I0629 18:01:52.207836 4574504384 feedforward_robust.py:890] Epoch: 0636    cost: 0.148405075 \n",
      "Accuracy on batch: 1.000000\n",
      "I0629 18:01:52.209666 4574504384 feedforward_robust.py:891] Accuracy on batch: 1.000000\n",
      "Epoch: 0637    cost: 0.148575783 \n",
      "I0629 18:01:52.311619 4574504384 feedforward_robust.py:890] Epoch: 0637    cost: 0.148575783 \n",
      "Accuracy on batch: 1.000000\n",
      "I0629 18:01:52.313231 4574504384 feedforward_robust.py:891] Accuracy on batch: 1.000000\n"
     ]
    },
    {
     "name": "stdout",
     "output_type": "stream",
     "text": [
      "iteration: 40\n",
      "loss 0.002374\n",
      "iteration: 0\n",
      "loss 0.000317\n",
      "iteration: 20\n",
      "loss 0.002365\n",
      "iteration: 40\n",
      "loss 0.002553\n",
      "iteration: 0\n",
      "loss 0.000307\n",
      "iteration: 20\n",
      "loss 0.002401\n"
     ]
    },
    {
     "name": "stderr",
     "output_type": "stream",
     "text": [
      "Epoch: 0638    cost: 0.148508281 \n",
      "I0629 18:01:52.412058 4574504384 feedforward_robust.py:890] Epoch: 0638    cost: 0.148508281 \n",
      "Accuracy on batch: 1.000000\n",
      "I0629 18:01:52.413315 4574504384 feedforward_robust.py:891] Accuracy on batch: 1.000000\n",
      "Epoch: 0639    cost: 0.148395628 \n",
      "I0629 18:01:52.505970 4574504384 feedforward_robust.py:890] Epoch: 0639    cost: 0.148395628 \n",
      "Accuracy on batch: 1.000000\n",
      "I0629 18:01:52.507362 4574504384 feedforward_robust.py:891] Accuracy on batch: 1.000000\n"
     ]
    },
    {
     "name": "stdout",
     "output_type": "stream",
     "text": [
      "iteration: 40\n",
      "loss 0.002535\n",
      "iteration: 0\n",
      "loss 0.000329\n",
      "iteration: 20\n",
      "loss 0.002345\n",
      "iteration: 40\n",
      "loss 0.002436\n",
      "iteration: 0\n",
      "loss 0.000344\n",
      "iteration: 20\n",
      "loss 0.002365\n",
      "iteration: 40\n",
      "loss 0.002465\n"
     ]
    },
    {
     "name": "stderr",
     "output_type": "stream",
     "text": [
      "Epoch: 0640    cost: 0.148398355 \n",
      "I0629 18:01:52.599898 4574504384 feedforward_robust.py:890] Epoch: 0640    cost: 0.148398355 \n",
      "Accuracy on batch: 1.000000\n",
      "I0629 18:01:52.601226 4574504384 feedforward_robust.py:891] Accuracy on batch: 1.000000\n",
      "Epoch: 0641    cost: 0.148198932 \n",
      "I0629 18:01:52.692166 4574504384 feedforward_robust.py:890] Epoch: 0641    cost: 0.148198932 \n",
      "Accuracy on batch: 1.000000\n",
      "I0629 18:01:52.693526 4574504384 feedforward_robust.py:891] Accuracy on batch: 1.000000\n",
      "Epoch: 0642    cost: 0.148302898 \n",
      "I0629 18:01:52.785029 4574504384 feedforward_robust.py:890] Epoch: 0642    cost: 0.148302898 \n",
      "Accuracy on batch: 1.000000\n",
      "I0629 18:01:52.786519 4574504384 feedforward_robust.py:891] Accuracy on batch: 1.000000\n"
     ]
    },
    {
     "name": "stdout",
     "output_type": "stream",
     "text": [
      "iteration: 0\n",
      "loss 0.000309\n",
      "iteration: 20\n",
      "loss 0.002265\n",
      "iteration: 40\n",
      "loss 0.002297\n",
      "iteration: 0\n",
      "loss 0.000311\n",
      "iteration: 20\n",
      "loss 0.002296\n",
      "iteration: 40\n",
      "loss 0.002398\n",
      "iteration: 0\n",
      "loss 0.000311\n"
     ]
    },
    {
     "name": "stderr",
     "output_type": "stream",
     "text": [
      "Epoch: 0643    cost: 0.148207918 \n",
      "I0629 18:01:52.879474 4574504384 feedforward_robust.py:890] Epoch: 0643    cost: 0.148207918 \n",
      "Accuracy on batch: 1.000000\n",
      "I0629 18:01:52.880674 4574504384 feedforward_robust.py:891] Accuracy on batch: 1.000000\n",
      "Epoch: 0644    cost: 0.148175836 \n",
      "I0629 18:01:52.979135 4574504384 feedforward_robust.py:890] Epoch: 0644    cost: 0.148175836 \n",
      "Accuracy on batch: 1.000000\n",
      "I0629 18:01:52.980291 4574504384 feedforward_robust.py:891] Accuracy on batch: 1.000000\n"
     ]
    },
    {
     "name": "stdout",
     "output_type": "stream",
     "text": [
      "iteration: 20\n",
      "loss 0.002266\n",
      "iteration: 40\n",
      "loss 0.002351\n",
      "iteration: 0\n",
      "loss 0.000329\n",
      "iteration: 20\n",
      "loss 0.002269\n",
      "iteration: 40\n",
      "loss 0.002338\n",
      "iteration: 0\n",
      "loss 0.000292\n",
      "iteration: 20\n",
      "loss 0.002361\n"
     ]
    },
    {
     "name": "stderr",
     "output_type": "stream",
     "text": [
      "Epoch: 0645    cost: 0.148349047 \n",
      "I0629 18:01:53.078888 4574504384 feedforward_robust.py:890] Epoch: 0645    cost: 0.148349047 \n",
      "Accuracy on batch: 1.000000\n",
      "I0629 18:01:53.080116 4574504384 feedforward_robust.py:891] Accuracy on batch: 1.000000\n",
      "Epoch: 0646    cost: 0.148118868 \n",
      "I0629 18:01:53.170191 4574504384 feedforward_robust.py:890] Epoch: 0646    cost: 0.148118868 \n",
      "Accuracy on batch: 1.000000\n",
      "I0629 18:01:53.171492 4574504384 feedforward_robust.py:891] Accuracy on batch: 1.000000\n"
     ]
    },
    {
     "name": "stdout",
     "output_type": "stream",
     "text": [
      "iteration: 40\n",
      "loss 0.002536\n",
      "iteration: 0\n",
      "loss 0.000335\n",
      "iteration: 20\n",
      "loss 0.002278\n",
      "iteration: 40\n",
      "loss 0.002342\n",
      "iteration: 0\n",
      "loss 0.000353\n",
      "iteration: 20\n",
      "loss 0.002279\n",
      "iteration: 40\n",
      "loss 0.002459\n"
     ]
    },
    {
     "name": "stderr",
     "output_type": "stream",
     "text": [
      "Epoch: 0647    cost: 0.148229912 \n",
      "I0629 18:01:53.274204 4574504384 feedforward_robust.py:890] Epoch: 0647    cost: 0.148229912 \n",
      "Accuracy on batch: 1.000000\n",
      "I0629 18:01:53.278223 4574504384 feedforward_robust.py:891] Accuracy on batch: 1.000000\n",
      "Epoch: 0648    cost: 0.148151383 \n",
      "I0629 18:01:53.385622 4574504384 feedforward_robust.py:890] Epoch: 0648    cost: 0.148151383 \n",
      "Accuracy on batch: 1.000000\n",
      "I0629 18:01:53.387388 4574504384 feedforward_robust.py:891] Accuracy on batch: 1.000000\n",
      "Epoch: 0649    cost: 0.148098379 \n",
      "I0629 18:01:53.489329 4574504384 feedforward_robust.py:890] Epoch: 0649    cost: 0.148098379 \n",
      "Accuracy on batch: 1.000000\n",
      "I0629 18:01:53.490669 4574504384 feedforward_robust.py:891] Accuracy on batch: 1.000000\n"
     ]
    },
    {
     "name": "stdout",
     "output_type": "stream",
     "text": [
      "iteration: 0\n",
      "loss 0.000298\n",
      "iteration: 20\n",
      "loss 0.002334\n",
      "iteration: 40\n",
      "loss 0.002449\n",
      "iteration: 0\n",
      "loss 0.000333\n",
      "iteration: 20\n",
      "loss 0.002258\n",
      "iteration: 40\n",
      "loss 0.002382\n"
     ]
    },
    {
     "name": "stderr",
     "output_type": "stream",
     "text": [
      "Epoch: 0650    cost: 0.148207515 \n",
      "I0629 18:01:53.590187 4574504384 feedforward_robust.py:890] Epoch: 0650    cost: 0.148207515 \n",
      "Accuracy on batch: 1.000000\n",
      "I0629 18:01:53.591608 4574504384 feedforward_robust.py:891] Accuracy on batch: 1.000000\n",
      "Epoch: 0651    cost: 0.148065835 \n",
      "I0629 18:01:53.685683 4574504384 feedforward_robust.py:890] Epoch: 0651    cost: 0.148065835 \n",
      "Accuracy on batch: 1.000000\n",
      "I0629 18:01:53.687232 4574504384 feedforward_robust.py:891] Accuracy on batch: 1.000000\n"
     ]
    },
    {
     "name": "stdout",
     "output_type": "stream",
     "text": [
      "iteration: 0\n",
      "loss 0.000307\n",
      "iteration: 20\n",
      "loss 0.002315\n",
      "iteration: 40\n",
      "loss 0.002536\n",
      "iteration: 0\n",
      "loss 0.000307\n",
      "iteration: 20\n",
      "loss 0.002200\n",
      "iteration: 40\n",
      "loss 0.002391\n",
      "iteration: 0\n",
      "loss 0.000297\n"
     ]
    },
    {
     "name": "stderr",
     "output_type": "stream",
     "text": [
      "Epoch: 0652    cost: 0.148031577 \n",
      "I0629 18:01:53.783977 4574504384 feedforward_robust.py:890] Epoch: 0652    cost: 0.148031577 \n",
      "Accuracy on batch: 1.000000\n",
      "I0629 18:01:53.785321 4574504384 feedforward_robust.py:891] Accuracy on batch: 1.000000\n",
      "Epoch: 0653    cost: 0.147829905 \n",
      "I0629 18:01:53.880285 4574504384 feedforward_robust.py:890] Epoch: 0653    cost: 0.147829905 \n",
      "Accuracy on batch: 1.000000\n",
      "I0629 18:01:53.881757 4574504384 feedforward_robust.py:891] Accuracy on batch: 1.000000\n"
     ]
    },
    {
     "name": "stdout",
     "output_type": "stream",
     "text": [
      "iteration: 20\n",
      "loss 0.002303\n",
      "iteration: 40\n",
      "loss 0.002418\n",
      "iteration: 0\n",
      "loss 0.000319\n",
      "iteration: 20\n",
      "loss 0.002227\n",
      "iteration: 40\n",
      "loss 0.002271\n",
      "iteration: 0\n",
      "loss 0.000298\n",
      "iteration: 20\n",
      "loss 0.002312\n"
     ]
    },
    {
     "name": "stderr",
     "output_type": "stream",
     "text": [
      "Epoch: 0654    cost: 0.148006424 \n",
      "I0629 18:01:53.995994 4574504384 feedforward_robust.py:890] Epoch: 0654    cost: 0.148006424 \n",
      "Accuracy on batch: 1.000000\n",
      "I0629 18:01:53.997503 4574504384 feedforward_robust.py:891] Accuracy on batch: 1.000000\n",
      "Epoch: 0655    cost: 0.147704512 \n",
      "I0629 18:01:54.107656 4574504384 feedforward_robust.py:890] Epoch: 0655    cost: 0.147704512 \n",
      "Accuracy on batch: 1.000000\n",
      "I0629 18:01:54.108834 4574504384 feedforward_robust.py:891] Accuracy on batch: 1.000000\n"
     ]
    },
    {
     "name": "stdout",
     "output_type": "stream",
     "text": [
      "iteration: 40\n",
      "loss 0.002473\n",
      "iteration: 0\n",
      "loss 0.000288\n",
      "iteration: 20\n",
      "loss 0.002178\n",
      "iteration: 40\n",
      "loss 0.002231\n",
      "iteration: 0\n",
      "loss 0.000308\n",
      "iteration: 20\n",
      "loss 0.002213\n"
     ]
    },
    {
     "name": "stderr",
     "output_type": "stream",
     "text": [
      "Epoch: 0656    cost: 0.147728845 \n",
      "I0629 18:01:54.207912 4574504384 feedforward_robust.py:890] Epoch: 0656    cost: 0.147728845 \n",
      "Accuracy on batch: 1.000000\n",
      "I0629 18:01:54.209209 4574504384 feedforward_robust.py:891] Accuracy on batch: 1.000000\n",
      "Epoch: 0657    cost: 0.147910923 \n",
      "I0629 18:01:54.307870 4574504384 feedforward_robust.py:890] Epoch: 0657    cost: 0.147910923 \n",
      "Accuracy on batch: 1.000000\n",
      "I0629 18:01:54.309109 4574504384 feedforward_robust.py:891] Accuracy on batch: 1.000000\n"
     ]
    },
    {
     "name": "stdout",
     "output_type": "stream",
     "text": [
      "iteration: 40\n",
      "loss 0.002260\n",
      "iteration: 0\n",
      "loss 0.000292\n",
      "iteration: 20\n",
      "loss 0.002282\n",
      "iteration: 40\n",
      "loss 0.002443\n",
      "iteration: 0\n",
      "loss 0.000277\n",
      "iteration: 20\n",
      "loss 0.002175\n",
      "iteration: 40\n",
      "loss 0.002227\n"
     ]
    },
    {
     "name": "stderr",
     "output_type": "stream",
     "text": [
      "Epoch: 0658    cost: 0.147636712 \n",
      "I0629 18:01:54.406139 4574504384 feedforward_robust.py:890] Epoch: 0658    cost: 0.147636712 \n",
      "Accuracy on batch: 1.000000\n",
      "I0629 18:01:54.407557 4574504384 feedforward_robust.py:891] Accuracy on batch: 1.000000\n",
      "Epoch: 0659    cost: 0.147806406 \n",
      "I0629 18:01:54.495877 4574504384 feedforward_robust.py:890] Epoch: 0659    cost: 0.147806406 \n",
      "Accuracy on batch: 1.000000\n",
      "I0629 18:01:54.496999 4574504384 feedforward_robust.py:891] Accuracy on batch: 1.000000\n",
      "Epoch: 0660    cost: 0.147718146 \n",
      "I0629 18:01:54.593662 4574504384 feedforward_robust.py:890] Epoch: 0660    cost: 0.147718146 \n",
      "Accuracy on batch: 1.000000\n",
      "I0629 18:01:54.594830 4574504384 feedforward_robust.py:891] Accuracy on batch: 1.000000\n"
     ]
    },
    {
     "name": "stdout",
     "output_type": "stream",
     "text": [
      "iteration: 0\n",
      "loss 0.000284\n",
      "iteration: 20\n",
      "loss 0.002189\n",
      "iteration: 40\n",
      "loss 0.002385\n",
      "iteration: 0\n",
      "loss 0.000289\n",
      "iteration: 20\n",
      "loss 0.002184\n",
      "iteration: 40\n",
      "loss 0.002265\n",
      "iteration: 0\n",
      "loss 0.000302\n"
     ]
    },
    {
     "name": "stderr",
     "output_type": "stream",
     "text": [
      "Epoch: 0661    cost: 0.147716552 \n",
      "I0629 18:01:54.694570 4574504384 feedforward_robust.py:890] Epoch: 0661    cost: 0.147716552 \n",
      "Accuracy on batch: 1.000000\n",
      "I0629 18:01:54.695964 4574504384 feedforward_robust.py:891] Accuracy on batch: 1.000000\n",
      "Epoch: 0662    cost: 0.147881642 \n",
      "I0629 18:01:54.792649 4574504384 feedforward_robust.py:890] Epoch: 0662    cost: 0.147881642 \n",
      "Accuracy on batch: 1.000000\n",
      "I0629 18:01:54.793933 4574504384 feedforward_robust.py:891] Accuracy on batch: 1.000000\n"
     ]
    },
    {
     "name": "stdout",
     "output_type": "stream",
     "text": [
      "iteration: 20\n",
      "loss 0.002150\n",
      "iteration: 40\n",
      "loss 0.002329\n",
      "iteration: 0\n",
      "loss 0.000286\n",
      "iteration: 20\n",
      "loss 0.002324\n",
      "iteration: 40\n",
      "loss 0.002552\n",
      "iteration: 0\n",
      "loss 0.000298\n",
      "iteration: 20\n",
      "loss 0.002184\n"
     ]
    },
    {
     "name": "stderr",
     "output_type": "stream",
     "text": [
      "Epoch: 0663    cost: 0.147711813 \n",
      "I0629 18:01:54.890614 4574504384 feedforward_robust.py:890] Epoch: 0663    cost: 0.147711813 \n",
      "Accuracy on batch: 1.000000\n",
      "I0629 18:01:54.892144 4574504384 feedforward_robust.py:891] Accuracy on batch: 1.000000\n",
      "Epoch: 0664    cost: 0.147696629 \n",
      "I0629 18:01:54.980913 4574504384 feedforward_robust.py:890] Epoch: 0664    cost: 0.147696629 \n",
      "Accuracy on batch: 1.000000\n",
      "I0629 18:01:54.982149 4574504384 feedforward_robust.py:891] Accuracy on batch: 1.000000\n"
     ]
    },
    {
     "name": "stdout",
     "output_type": "stream",
     "text": [
      "iteration: 40\n",
      "loss 0.002384\n",
      "iteration: 0\n",
      "loss 0.000320\n",
      "iteration: 20\n",
      "loss 0.002208\n",
      "iteration: 40\n",
      "loss 0.002389\n",
      "iteration: 0\n",
      "loss 0.000314\n",
      "iteration: 20\n",
      "loss 0.002206\n",
      "iteration: 40\n",
      "loss 0.002342\n"
     ]
    },
    {
     "name": "stderr",
     "output_type": "stream",
     "text": [
      "Epoch: 0665    cost: 0.147583529 \n",
      "I0629 18:01:55.077229 4574504384 feedforward_robust.py:890] Epoch: 0665    cost: 0.147583529 \n",
      "Accuracy on batch: 1.000000\n",
      "I0629 18:01:55.078763 4574504384 feedforward_robust.py:891] Accuracy on batch: 1.000000\n",
      "Epoch: 0666    cost: 0.147710457 \n",
      "I0629 18:01:55.194391 4574504384 feedforward_robust.py:890] Epoch: 0666    cost: 0.147710457 \n",
      "Accuracy on batch: 1.000000\n",
      "I0629 18:01:55.195847 4574504384 feedforward_robust.py:891] Accuracy on batch: 1.000000\n",
      "Epoch: 0667    cost: 0.147658691 \n",
      "I0629 18:01:55.302888 4574504384 feedforward_robust.py:890] Epoch: 0667    cost: 0.147658691 \n",
      "Accuracy on batch: 1.000000\n",
      "I0629 18:01:55.304130 4574504384 feedforward_robust.py:891] Accuracy on batch: 1.000000\n"
     ]
    },
    {
     "name": "stdout",
     "output_type": "stream",
     "text": [
      "iteration: 0\n",
      "loss 0.000307\n",
      "iteration: 20\n",
      "loss 0.002275\n",
      "iteration: 40\n",
      "loss 0.002454\n",
      "iteration: 0\n",
      "loss 0.000272\n",
      "iteration: 20\n",
      "loss 0.002216\n",
      "iteration: 40\n",
      "loss 0.002435\n"
     ]
    },
    {
     "name": "stderr",
     "output_type": "stream",
     "text": [
      "Epoch: 0668    cost: 0.147474080 \n",
      "I0629 18:01:55.403578 4574504384 feedforward_robust.py:890] Epoch: 0668    cost: 0.147474080 \n",
      "Accuracy on batch: 1.000000\n",
      "I0629 18:01:55.404798 4574504384 feedforward_robust.py:891] Accuracy on batch: 1.000000\n",
      "Epoch: 0669    cost: 0.147455364 \n",
      "I0629 18:01:55.500431 4574504384 feedforward_robust.py:890] Epoch: 0669    cost: 0.147455364 \n",
      "Accuracy on batch: 1.000000\n",
      "I0629 18:01:55.501694 4574504384 feedforward_robust.py:891] Accuracy on batch: 1.000000\n"
     ]
    },
    {
     "name": "stdout",
     "output_type": "stream",
     "text": [
      "iteration: 0\n",
      "loss 0.000297\n",
      "iteration: 20\n",
      "loss 0.002129\n",
      "iteration: 40\n",
      "loss 0.002219\n",
      "iteration: 0\n",
      "loss 0.000309\n",
      "iteration: 20\n",
      "loss 0.002153\n",
      "iteration: 40\n",
      "loss 0.002296\n",
      "iteration: 0\n",
      "loss 0.000318\n"
     ]
    },
    {
     "name": "stderr",
     "output_type": "stream",
     "text": [
      "Epoch: 0670    cost: 0.147603169 \n",
      "I0629 18:01:55.605412 4574504384 feedforward_robust.py:890] Epoch: 0670    cost: 0.147603169 \n",
      "Accuracy on batch: 1.000000\n",
      "I0629 18:01:55.606748 4574504384 feedforward_robust.py:891] Accuracy on batch: 1.000000\n",
      "Epoch: 0671    cost: 0.147502005 \n",
      "I0629 18:01:55.712742 4574504384 feedforward_robust.py:890] Epoch: 0671    cost: 0.147502005 \n",
      "Accuracy on batch: 1.000000\n",
      "I0629 18:01:55.714160 4574504384 feedforward_robust.py:891] Accuracy on batch: 1.000000\n"
     ]
    },
    {
     "name": "stdout",
     "output_type": "stream",
     "text": [
      "iteration: 20\n",
      "loss 0.002211\n",
      "iteration: 40\n",
      "loss 0.002432\n",
      "iteration: 0\n",
      "loss 0.000299\n",
      "iteration: 20\n",
      "loss 0.002234\n",
      "iteration: 40\n",
      "loss 0.002382\n",
      "iteration: 0\n",
      "loss 0.000264\n"
     ]
    },
    {
     "name": "stderr",
     "output_type": "stream",
     "text": [
      "Epoch: 0672    cost: 0.147332191 \n",
      "I0629 18:01:55.840929 4574504384 feedforward_robust.py:890] Epoch: 0672    cost: 0.147332191 \n",
      "Accuracy on batch: 1.000000\n",
      "I0629 18:01:55.842869 4574504384 feedforward_robust.py:891] Accuracy on batch: 1.000000\n",
      "Epoch: 0673    cost: 0.147183761 \n",
      "I0629 18:01:55.946861 4574504384 feedforward_robust.py:890] Epoch: 0673    cost: 0.147183761 \n",
      "Accuracy on batch: 1.000000\n",
      "I0629 18:01:55.948214 4574504384 feedforward_robust.py:891] Accuracy on batch: 1.000000\n"
     ]
    },
    {
     "name": "stdout",
     "output_type": "stream",
     "text": [
      "iteration: 20\n",
      "loss 0.002112\n",
      "iteration: 40\n",
      "loss 0.002267\n",
      "iteration: 0\n",
      "loss 0.000277\n",
      "iteration: 20\n",
      "loss 0.002099\n",
      "iteration: 40\n",
      "loss 0.002150\n",
      "iteration: 0\n",
      "loss 0.000278\n"
     ]
    },
    {
     "name": "stderr",
     "output_type": "stream",
     "text": [
      "Epoch: 0674    cost: 0.147327200 \n",
      "I0629 18:01:56.049650 4574504384 feedforward_robust.py:890] Epoch: 0674    cost: 0.147327200 \n",
      "Accuracy on batch: 1.000000\n",
      "I0629 18:01:56.051522 4574504384 feedforward_robust.py:891] Accuracy on batch: 1.000000\n",
      "Epoch: 0675    cost: 0.147113189 \n",
      "I0629 18:01:56.143651 4574504384 feedforward_robust.py:890] Epoch: 0675    cost: 0.147113189 \n",
      "Accuracy on batch: 1.000000\n",
      "I0629 18:01:56.144972 4574504384 feedforward_robust.py:891] Accuracy on batch: 1.000000\n"
     ]
    },
    {
     "name": "stdout",
     "output_type": "stream",
     "text": [
      "iteration: 20\n",
      "loss 0.002169\n",
      "iteration: 40\n",
      "loss 0.002318\n",
      "iteration: 0\n",
      "loss 0.000264\n",
      "iteration: 20\n",
      "loss 0.002105\n",
      "iteration: 40\n",
      "loss 0.002145\n",
      "iteration: 0\n",
      "loss 0.000286\n",
      "iteration: 20\n",
      "loss 0.002165\n"
     ]
    },
    {
     "name": "stderr",
     "output_type": "stream",
     "text": [
      "Epoch: 0676    cost: 0.147177592 \n",
      "I0629 18:01:56.239636 4574504384 feedforward_robust.py:890] Epoch: 0676    cost: 0.147177592 \n",
      "Accuracy on batch: 1.000000\n",
      "I0629 18:01:56.240901 4574504384 feedforward_robust.py:891] Accuracy on batch: 1.000000\n",
      "Epoch: 0677    cost: 0.147240266 \n",
      "I0629 18:01:56.335267 4574504384 feedforward_robust.py:890] Epoch: 0677    cost: 0.147240266 \n",
      "Accuracy on batch: 1.000000\n",
      "I0629 18:01:56.336829 4574504384 feedforward_robust.py:891] Accuracy on batch: 1.000000\n"
     ]
    },
    {
     "name": "stdout",
     "output_type": "stream",
     "text": [
      "iteration: 40\n",
      "loss 0.002239\n",
      "iteration: 0\n",
      "loss 0.000320\n",
      "iteration: 20\n",
      "loss 0.002167\n",
      "iteration: 40\n",
      "loss 0.002309\n",
      "iteration: 0\n",
      "loss 0.000294\n",
      "iteration: 20\n",
      "loss 0.002107\n",
      "iteration: 40\n",
      "loss 0.002304\n"
     ]
    },
    {
     "name": "stderr",
     "output_type": "stream",
     "text": [
      "Epoch: 0678    cost: 0.147251546 \n",
      "I0629 18:01:56.440802 4574504384 feedforward_robust.py:890] Epoch: 0678    cost: 0.147251546 \n",
      "Accuracy on batch: 1.000000\n",
      "I0629 18:01:56.442258 4574504384 feedforward_robust.py:891] Accuracy on batch: 1.000000\n",
      "Epoch: 0679    cost: 0.147279412 \n",
      "I0629 18:01:56.559674 4574504384 feedforward_robust.py:890] Epoch: 0679    cost: 0.147279412 \n",
      "Accuracy on batch: 1.000000\n",
      "I0629 18:01:56.561364 4574504384 feedforward_robust.py:891] Accuracy on batch: 1.000000\n",
      "Epoch: 0680    cost: 0.147201523 \n",
      "I0629 18:01:56.669019 4574504384 feedforward_robust.py:890] Epoch: 0680    cost: 0.147201523 \n",
      "Accuracy on batch: 1.000000\n",
      "I0629 18:01:56.670243 4574504384 feedforward_robust.py:891] Accuracy on batch: 1.000000\n"
     ]
    },
    {
     "name": "stdout",
     "output_type": "stream",
     "text": [
      "iteration: 0\n",
      "loss 0.000274\n",
      "iteration: 20\n",
      "loss 0.002199\n",
      "iteration: 40\n",
      "loss 0.002410\n",
      "iteration: 0\n",
      "loss 0.000288\n",
      "iteration: 20\n",
      "loss 0.002169\n",
      "iteration: 40\n",
      "loss 0.002336\n"
     ]
    },
    {
     "name": "stderr",
     "output_type": "stream",
     "text": [
      "Epoch: 0681    cost: 0.147134840 \n",
      "I0629 18:01:56.768255 4574504384 feedforward_robust.py:890] Epoch: 0681    cost: 0.147134840 \n",
      "Accuracy on batch: 1.000000\n",
      "I0629 18:01:56.769564 4574504384 feedforward_robust.py:891] Accuracy on batch: 1.000000\n",
      "Epoch: 0682    cost: 0.147099435 \n",
      "I0629 18:01:56.864349 4574504384 feedforward_robust.py:890] Epoch: 0682    cost: 0.147099435 \n",
      "Accuracy on batch: 1.000000\n",
      "I0629 18:01:56.865746 4574504384 feedforward_robust.py:891] Accuracy on batch: 1.000000\n"
     ]
    },
    {
     "name": "stdout",
     "output_type": "stream",
     "text": [
      "iteration: 0\n",
      "loss 0.000309\n",
      "iteration: 20\n",
      "loss 0.002159\n",
      "iteration: 40\n",
      "loss 0.002312\n",
      "iteration: 0\n",
      "loss 0.000277\n",
      "iteration: 20\n",
      "loss 0.002119\n",
      "iteration: 40\n",
      "loss 0.002281\n",
      "iteration: 0\n",
      "loss 0.000265\n"
     ]
    },
    {
     "name": "stderr",
     "output_type": "stream",
     "text": [
      "Epoch: 0683    cost: 0.147042140 \n",
      "I0629 18:01:56.961216 4574504384 feedforward_robust.py:890] Epoch: 0683    cost: 0.147042140 \n",
      "Accuracy on batch: 1.000000\n",
      "I0629 18:01:56.963017 4574504384 feedforward_robust.py:891] Accuracy on batch: 1.000000\n",
      "Epoch: 0684    cost: 0.146914825 \n",
      "I0629 18:01:57.059429 4574504384 feedforward_robust.py:890] Epoch: 0684    cost: 0.146914825 \n",
      "Accuracy on batch: 1.000000\n",
      "I0629 18:01:57.060725 4574504384 feedforward_robust.py:891] Accuracy on batch: 1.000000\n"
     ]
    },
    {
     "name": "stdout",
     "output_type": "stream",
     "text": [
      "iteration: 20\n",
      "loss 0.002097\n",
      "iteration: 40\n",
      "loss 0.002205\n",
      "iteration: 0\n",
      "loss 0.000281\n",
      "iteration: 20\n",
      "loss 0.002126\n",
      "iteration: 40\n",
      "loss 0.002199\n",
      "iteration: 0\n",
      "loss 0.000288\n",
      "iteration: 20\n",
      "loss 0.002060\n"
     ]
    },
    {
     "name": "stderr",
     "output_type": "stream",
     "text": [
      "Epoch: 0685    cost: 0.146915063 \n",
      "I0629 18:01:57.157146 4574504384 feedforward_robust.py:890] Epoch: 0685    cost: 0.146915063 \n",
      "Accuracy on batch: 1.000000\n",
      "I0629 18:01:57.158476 4574504384 feedforward_robust.py:891] Accuracy on batch: 1.000000\n",
      "Epoch: 0686    cost: 0.146871030 \n",
      "I0629 18:01:57.272005 4574504384 feedforward_robust.py:890] Epoch: 0686    cost: 0.146871030 \n",
      "Accuracy on batch: 1.000000\n",
      "I0629 18:01:57.273893 4574504384 feedforward_robust.py:891] Accuracy on batch: 1.000000\n"
     ]
    },
    {
     "name": "stdout",
     "output_type": "stream",
     "text": [
      "iteration: 40\n",
      "loss 0.002185\n",
      "iteration: 0\n",
      "loss 0.000290\n",
      "iteration: 20\n",
      "loss 0.002102\n",
      "iteration: 40\n",
      "loss 0.002189\n",
      "iteration: 0\n",
      "loss 0.000270\n",
      "iteration: 20\n",
      "loss 0.002053\n"
     ]
    },
    {
     "name": "stderr",
     "output_type": "stream",
     "text": [
      "Epoch: 0687    cost: 0.146892399 \n",
      "I0629 18:01:57.385344 4574504384 feedforward_robust.py:890] Epoch: 0687    cost: 0.146892399 \n",
      "Accuracy on batch: 1.000000\n",
      "I0629 18:01:57.386860 4574504384 feedforward_robust.py:891] Accuracy on batch: 1.000000\n",
      "Epoch: 0688    cost: 0.146806598 \n",
      "I0629 18:01:57.491184 4574504384 feedforward_robust.py:890] Epoch: 0688    cost: 0.146806598 \n",
      "Accuracy on batch: 1.000000\n",
      "I0629 18:01:57.492469 4574504384 feedforward_robust.py:891] Accuracy on batch: 1.000000\n"
     ]
    },
    {
     "name": "stdout",
     "output_type": "stream",
     "text": [
      "iteration: 40\n",
      "loss 0.002185\n",
      "iteration: 0\n",
      "loss 0.000273\n",
      "iteration: 20\n",
      "loss 0.002051\n",
      "iteration: 40\n",
      "loss 0.002137\n",
      "iteration: 0\n",
      "loss 0.000291\n",
      "iteration: 20\n",
      "loss 0.002066\n"
     ]
    },
    {
     "name": "stderr",
     "output_type": "stream",
     "text": [
      "Epoch: 0689    cost: 0.146816134 \n",
      "I0629 18:01:57.589653 4574504384 feedforward_robust.py:890] Epoch: 0689    cost: 0.146816134 \n",
      "Accuracy on batch: 1.000000\n",
      "I0629 18:01:57.590910 4574504384 feedforward_robust.py:891] Accuracy on batch: 1.000000\n",
      "Epoch: 0690    cost: 0.146794915 \n",
      "I0629 18:01:57.682565 4574504384 feedforward_robust.py:890] Epoch: 0690    cost: 0.146794915 \n",
      "Accuracy on batch: 1.000000\n",
      "I0629 18:01:57.683840 4574504384 feedforward_robust.py:891] Accuracy on batch: 1.000000\n"
     ]
    },
    {
     "name": "stdout",
     "output_type": "stream",
     "text": [
      "iteration: 40\n",
      "loss 0.002168\n",
      "iteration: 0\n",
      "loss 0.000295\n",
      "iteration: 20\n",
      "loss 0.002053\n",
      "iteration: 40\n",
      "loss 0.002176\n",
      "iteration: 0\n",
      "loss 0.000271\n",
      "iteration: 20\n",
      "loss 0.002075\n",
      "iteration: 40\n",
      "loss 0.002212\n"
     ]
    },
    {
     "name": "stderr",
     "output_type": "stream",
     "text": [
      "Epoch: 0691    cost: 0.146825746 \n",
      "I0629 18:01:57.776531 4574504384 feedforward_robust.py:890] Epoch: 0691    cost: 0.146825746 \n",
      "Accuracy on batch: 1.000000\n",
      "I0629 18:01:57.778049 4574504384 feedforward_robust.py:891] Accuracy on batch: 1.000000\n",
      "Epoch: 0692    cost: 0.146769822 \n",
      "I0629 18:01:57.871311 4574504384 feedforward_robust.py:890] Epoch: 0692    cost: 0.146769822 \n",
      "Accuracy on batch: 1.000000\n",
      "I0629 18:01:57.873266 4574504384 feedforward_robust.py:891] Accuracy on batch: 1.000000\n",
      "Epoch: 0693    cost: 0.146803871 \n",
      "I0629 18:01:57.969690 4574504384 feedforward_robust.py:890] Epoch: 0693    cost: 0.146803871 \n",
      "Accuracy on batch: 1.000000\n",
      "I0629 18:01:57.971276 4574504384 feedforward_robust.py:891] Accuracy on batch: 1.000000\n"
     ]
    },
    {
     "name": "stdout",
     "output_type": "stream",
     "text": [
      "iteration: 0\n",
      "loss 0.000242\n",
      "iteration: 20\n",
      "loss 0.002037\n",
      "iteration: 40\n",
      "loss 0.002193\n",
      "iteration: 0\n",
      "loss 0.000296\n",
      "iteration: 20\n",
      "loss 0.002104\n",
      "iteration: 40\n",
      "loss 0.002280\n",
      "iteration: 0\n",
      "loss 0.000242\n"
     ]
    },
    {
     "name": "stderr",
     "output_type": "stream",
     "text": [
      "Epoch: 0694    cost: 0.146643355 \n",
      "I0629 18:01:58.072103 4574504384 feedforward_robust.py:890] Epoch: 0694    cost: 0.146643355 \n",
      "Accuracy on batch: 1.000000\n",
      "I0629 18:01:58.073773 4574504384 feedforward_robust.py:891] Accuracy on batch: 1.000000\n",
      "Epoch: 0695    cost: 0.146501318 \n",
      "I0629 18:01:58.191039 4574504384 feedforward_robust.py:890] Epoch: 0695    cost: 0.146501318 \n",
      "Accuracy on batch: 1.000000\n",
      "I0629 18:01:58.192831 4574504384 feedforward_robust.py:891] Accuracy on batch: 1.000000\n"
     ]
    },
    {
     "name": "stdout",
     "output_type": "stream",
     "text": [
      "iteration: 20\n",
      "loss 0.002051\n",
      "iteration: 40\n",
      "loss 0.002173\n",
      "iteration: 0\n",
      "loss 0.000302\n",
      "iteration: 20\n",
      "loss 0.002016\n",
      "iteration: 40\n",
      "loss 0.002055\n"
     ]
    },
    {
     "name": "stderr",
     "output_type": "stream",
     "text": [
      "Epoch: 0696    cost: 0.146548927 \n",
      "I0629 18:01:58.302089 4574504384 feedforward_robust.py:890] Epoch: 0696    cost: 0.146548927 \n",
      "Accuracy on batch: 1.000000\n",
      "I0629 18:01:58.303791 4574504384 feedforward_robust.py:891] Accuracy on batch: 1.000000\n",
      "Epoch: 0697    cost: 0.146579474 \n",
      "I0629 18:01:58.403004 4574504384 feedforward_robust.py:890] Epoch: 0697    cost: 0.146579474 \n",
      "Accuracy on batch: 1.000000\n",
      "I0629 18:01:58.404558 4574504384 feedforward_robust.py:891] Accuracy on batch: 1.000000\n"
     ]
    },
    {
     "name": "stdout",
     "output_type": "stream",
     "text": [
      "iteration: 0\n",
      "loss 0.000253\n",
      "iteration: 20\n",
      "loss 0.002011\n",
      "iteration: 40\n",
      "loss 0.002127\n",
      "iteration: 0\n",
      "loss 0.000273\n",
      "iteration: 20\n",
      "loss 0.002072\n",
      "iteration: 40\n",
      "loss 0.002167\n"
     ]
    },
    {
     "name": "stderr",
     "output_type": "stream",
     "text": [
      "Epoch: 0698    cost: 0.146440342 \n",
      "I0629 18:01:58.503753 4574504384 feedforward_robust.py:890] Epoch: 0698    cost: 0.146440342 \n",
      "Accuracy on batch: 1.000000\n",
      "I0629 18:01:58.504964 4574504384 feedforward_robust.py:891] Accuracy on batch: 1.000000\n",
      "Epoch: 0699    cost: 0.146526843 \n",
      "I0629 18:01:58.597733 4574504384 feedforward_robust.py:890] Epoch: 0699    cost: 0.146526843 \n",
      "Accuracy on batch: 1.000000\n",
      "I0629 18:01:58.599009 4574504384 feedforward_robust.py:891] Accuracy on batch: 1.000000\n"
     ]
    },
    {
     "name": "stdout",
     "output_type": "stream",
     "text": [
      "iteration: 0\n",
      "loss 0.000262\n",
      "iteration: 20\n",
      "loss 0.001983\n",
      "iteration: 40\n",
      "loss 0.002063\n",
      "iteration: 0\n",
      "loss 0.000273\n",
      "iteration: 20\n",
      "loss 0.002012\n",
      "iteration: 40\n",
      "loss 0.002203\n",
      "iteration: 0\n",
      "loss 0.000269\n"
     ]
    },
    {
     "name": "stderr",
     "output_type": "stream",
     "text": [
      "Epoch: 0700    cost: 0.146332130 \n",
      "I0629 18:01:58.703375 4574504384 feedforward_robust.py:890] Epoch: 0700    cost: 0.146332130 \n",
      "Accuracy on batch: 1.000000\n",
      "I0629 18:01:58.706027 4574504384 feedforward_robust.py:891] Accuracy on batch: 1.000000\n",
      "Epoch: 0701    cost: 0.146354988 \n",
      "I0629 18:01:58.813668 4574504384 feedforward_robust.py:890] Epoch: 0701    cost: 0.146354988 \n",
      "Accuracy on batch: 1.000000\n",
      "I0629 18:01:58.815063 4574504384 feedforward_robust.py:891] Accuracy on batch: 1.000000\n"
     ]
    },
    {
     "name": "stdout",
     "output_type": "stream",
     "text": [
      "iteration: 20\n",
      "loss 0.002012\n",
      "iteration: 40\n",
      "loss 0.002050\n",
      "iteration: 0\n",
      "loss 0.000261\n",
      "iteration: 20\n",
      "loss 0.001989\n",
      "iteration: 40\n",
      "loss 0.002072\n",
      "iteration: 0\n",
      "loss 0.000273\n"
     ]
    },
    {
     "name": "stderr",
     "output_type": "stream",
     "text": [
      "Epoch: 0702    cost: 0.146485239 \n",
      "I0629 18:01:58.921247 4574504384 feedforward_robust.py:890] Epoch: 0702    cost: 0.146485239 \n",
      "Accuracy on batch: 1.000000\n",
      "I0629 18:01:58.923056 4574504384 feedforward_robust.py:891] Accuracy on batch: 1.000000\n",
      "Epoch: 0703    cost: 0.146354288 \n",
      "I0629 18:01:59.030261 4574504384 feedforward_robust.py:890] Epoch: 0703    cost: 0.146354288 \n",
      "Accuracy on batch: 1.000000\n",
      "I0629 18:01:59.031525 4574504384 feedforward_robust.py:891] Accuracy on batch: 1.000000\n"
     ]
    },
    {
     "name": "stdout",
     "output_type": "stream",
     "text": [
      "iteration: 20\n",
      "loss 0.002045\n",
      "iteration: 40\n",
      "loss 0.002237\n",
      "iteration: 0\n",
      "loss 0.000262\n",
      "iteration: 20\n",
      "loss 0.002031\n",
      "iteration: 40\n",
      "loss 0.002145\n",
      "iteration: 0\n",
      "loss 0.000272\n"
     ]
    },
    {
     "name": "stderr",
     "output_type": "stream",
     "text": [
      "Epoch: 0704    cost: 0.146290138 \n",
      "I0629 18:01:59.142941 4574504384 feedforward_robust.py:890] Epoch: 0704    cost: 0.146290138 \n",
      "Accuracy on batch: 1.000000\n",
      "I0629 18:01:59.144187 4574504384 feedforward_robust.py:891] Accuracy on batch: 1.000000\n",
      "Epoch: 0705    cost: 0.146260545 \n",
      "I0629 18:01:59.250352 4574504384 feedforward_robust.py:890] Epoch: 0705    cost: 0.146260545 \n",
      "Accuracy on batch: 1.000000\n",
      "I0629 18:01:59.253201 4574504384 feedforward_robust.py:891] Accuracy on batch: 1.000000\n"
     ]
    },
    {
     "name": "stdout",
     "output_type": "stream",
     "text": [
      "iteration: 20\n",
      "loss 0.001981\n",
      "iteration: 40\n",
      "loss 0.002113\n",
      "iteration: 0\n",
      "loss 0.000291\n",
      "iteration: 20\n",
      "loss 0.001983\n",
      "iteration: 40\n",
      "loss 0.002069\n",
      "iteration: 0"
     ]
    },
    {
     "name": "stderr",
     "output_type": "stream",
     "text": [
      "Epoch: 0706    cost: 0.146256089 \n",
      "I0629 18:01:59.364667 4574504384 feedforward_robust.py:890] Epoch: 0706    cost: 0.146256089 \n",
      "Accuracy on batch: 1.000000\n",
      "I0629 18:01:59.366288 4574504384 feedforward_robust.py:891] Accuracy on batch: 1.000000\n",
      "Epoch: 0707    cost: 0.146168783 \n",
      "I0629 18:01:59.474354 4574504384 feedforward_robust.py:890] Epoch: 0707    cost: 0.146168783 \n",
      "Accuracy on batch: 1.000000\n",
      "I0629 18:01:59.475979 4574504384 feedforward_robust.py:891] Accuracy on batch: 1.000000\n"
     ]
    },
    {
     "name": "stdout",
     "output_type": "stream",
     "text": [
      "\n",
      "loss 0.000253\n",
      "iteration: 20\n",
      "loss 0.001944\n",
      "iteration: 40\n",
      "loss 0.002090\n",
      "iteration: 0\n",
      "loss 0.000271\n",
      "iteration: 20\n",
      "loss 0.001967\n",
      "iteration: 40\n",
      "loss 0.002065\n"
     ]
    },
    {
     "name": "stderr",
     "output_type": "stream",
     "text": [
      "Epoch: 0708    cost: 0.146297947 \n",
      "I0629 18:01:59.586730 4574504384 feedforward_robust.py:890] Epoch: 0708    cost: 0.146297947 \n",
      "Accuracy on batch: 1.000000\n",
      "I0629 18:01:59.588753 4574504384 feedforward_robust.py:891] Accuracy on batch: 1.000000\n",
      "Epoch: 0709    cost: 0.146226928 \n",
      "I0629 18:01:59.694650 4574504384 feedforward_robust.py:890] Epoch: 0709    cost: 0.146226928 \n",
      "Accuracy on batch: 1.000000\n",
      "I0629 18:01:59.696043 4574504384 feedforward_robust.py:891] Accuracy on batch: 1.000000\n"
     ]
    },
    {
     "name": "stdout",
     "output_type": "stream",
     "text": [
      "iteration: 0\n",
      "loss 0.000262\n",
      "iteration: 20\n",
      "loss 0.001987\n",
      "iteration: 40\n",
      "loss 0.002196\n",
      "iteration: 0\n",
      "loss 0.000276\n",
      "iteration: 20\n",
      "loss 0.002035\n",
      "iteration: 40\n",
      "loss 0.002181\n"
     ]
    },
    {
     "name": "stderr",
     "output_type": "stream",
     "text": [
      "Epoch: 0710    cost: 0.146154836 \n",
      "I0629 18:01:59.805344 4574504384 feedforward_robust.py:890] Epoch: 0710    cost: 0.146154836 \n",
      "Accuracy on batch: 1.000000\n",
      "I0629 18:01:59.807068 4574504384 feedforward_robust.py:891] Accuracy on batch: 1.000000\n",
      "Epoch: 0711    cost: 0.145972908 \n",
      "I0629 18:01:59.900366 4574504384 feedforward_robust.py:890] Epoch: 0711    cost: 0.145972908 \n",
      "Accuracy on batch: 1.000000\n",
      "I0629 18:01:59.901870 4574504384 feedforward_robust.py:891] Accuracy on batch: 1.000000\n"
     ]
    },
    {
     "name": "stdout",
     "output_type": "stream",
     "text": [
      "iteration: 0\n",
      "loss 0.000269\n",
      "iteration: 20\n",
      "loss 0.001947\n",
      "iteration: 40\n",
      "loss 0.002110\n",
      "iteration: 0\n",
      "loss 0.000263\n",
      "iteration: 20\n",
      "loss 0.001947\n",
      "iteration: 40\n",
      "loss 0.001987\n",
      "iteration: 0\n",
      "loss 0.000271\n"
     ]
    },
    {
     "name": "stderr",
     "output_type": "stream",
     "text": [
      "Epoch: 0712    cost: 0.146038830 \n",
      "I0629 18:02:00.011445 4574504384 feedforward_robust.py:890] Epoch: 0712    cost: 0.146038830 \n",
      "Accuracy on batch: 1.000000\n",
      "I0629 18:02:00.012720 4574504384 feedforward_robust.py:891] Accuracy on batch: 1.000000\n",
      "Epoch: 0713    cost: 0.146041021 \n",
      "I0629 18:02:00.131436 4574504384 feedforward_robust.py:890] Epoch: 0713    cost: 0.146041021 \n",
      "Accuracy on batch: 1.000000\n",
      "I0629 18:02:00.132995 4574504384 feedforward_robust.py:891] Accuracy on batch: 1.000000\n"
     ]
    },
    {
     "name": "stdout",
     "output_type": "stream",
     "text": [
      "iteration: 20\n",
      "loss 0.001996\n",
      "iteration: 40\n",
      "loss 0.002062\n",
      "iteration: 0\n",
      "loss 0.000267\n",
      "iteration: 20\n",
      "loss 0.001929\n",
      "iteration: 40\n",
      "loss 0.002057\n"
     ]
    },
    {
     "name": "stderr",
     "output_type": "stream",
     "text": [
      "Epoch: 0714    cost: 0.145994574 \n",
      "I0629 18:02:00.247051 4574504384 feedforward_robust.py:890] Epoch: 0714    cost: 0.145994574 \n",
      "Accuracy on batch: 1.000000\n",
      "I0629 18:02:00.248839 4574504384 feedforward_robust.py:891] Accuracy on batch: 1.000000\n",
      "Epoch: 0715    cost: 0.145882905 \n",
      "I0629 18:02:00.361421 4574504384 feedforward_robust.py:890] Epoch: 0715    cost: 0.145882905 \n",
      "Accuracy on batch: 1.000000\n",
      "I0629 18:02:00.362797 4574504384 feedforward_robust.py:891] Accuracy on batch: 1.000000\n"
     ]
    },
    {
     "name": "stdout",
     "output_type": "stream",
     "text": [
      "iteration: 0\n",
      "loss 0.000280\n",
      "iteration: 20\n",
      "loss 0.001935\n",
      "iteration: 40\n",
      "loss 0.002091\n",
      "iteration: 0\n",
      "loss 0.000285\n",
      "iteration: 20\n",
      "loss 0.001932\n",
      "iteration: 40\n",
      "loss 0.002010\n"
     ]
    },
    {
     "name": "stderr",
     "output_type": "stream",
     "text": [
      "Epoch: 0716    cost: 0.145888284 \n",
      "I0629 18:02:00.461410 4574504384 feedforward_robust.py:890] Epoch: 0716    cost: 0.145888284 \n",
      "Accuracy on batch: 1.000000\n",
      "I0629 18:02:00.462507 4574504384 feedforward_robust.py:891] Accuracy on batch: 1.000000\n",
      "Epoch: 0717    cost: 0.145840675 \n",
      "I0629 18:02:00.555790 4574504384 feedforward_robust.py:890] Epoch: 0717    cost: 0.145840675 \n",
      "Accuracy on batch: 1.000000\n",
      "I0629 18:02:00.557232 4574504384 feedforward_robust.py:891] Accuracy on batch: 1.000000\n"
     ]
    },
    {
     "name": "stdout",
     "output_type": "stream",
     "text": [
      "iteration: 0\n",
      "loss 0.000232\n",
      "iteration: 20\n",
      "loss 0.001984\n",
      "iteration: 40\n",
      "loss 0.002021\n",
      "iteration: 0\n",
      "loss 0.000241\n",
      "iteration: 20\n",
      "loss 0.001919\n",
      "iteration: 40\n",
      "loss 0.002011\n",
      "iteration: 0\n",
      "loss 0.000277\n"
     ]
    },
    {
     "name": "stderr",
     "output_type": "stream",
     "text": [
      "Epoch: 0718    cost: 0.145869106 \n",
      "I0629 18:02:00.656148 4574504384 feedforward_robust.py:890] Epoch: 0718    cost: 0.145869106 \n",
      "Accuracy on batch: 1.000000\n",
      "I0629 18:02:00.657410 4574504384 feedforward_robust.py:891] Accuracy on batch: 1.000000\n",
      "Epoch: 0719    cost: 0.145788521 \n",
      "I0629 18:02:00.745939 4574504384 feedforward_robust.py:890] Epoch: 0719    cost: 0.145788521 \n",
      "Accuracy on batch: 1.000000\n",
      "I0629 18:02:00.747262 4574504384 feedforward_robust.py:891] Accuracy on batch: 1.000000\n"
     ]
    },
    {
     "name": "stdout",
     "output_type": "stream",
     "text": [
      "iteration: 20\n",
      "loss 0.001939\n",
      "iteration: 40\n",
      "loss 0.002075\n",
      "iteration: 0\n",
      "loss 0.000264\n",
      "iteration: 20\n",
      "loss 0.001936\n",
      "iteration: 40\n",
      "loss 0.002024\n",
      "iteration: 0\n",
      "loss 0.000253\n"
     ]
    },
    {
     "name": "stderr",
     "output_type": "stream",
     "text": [
      "Epoch: 0720    cost: 0.145808131 \n",
      "I0629 18:02:00.869282 4574504384 feedforward_robust.py:890] Epoch: 0720    cost: 0.145808131 \n",
      "Accuracy on batch: 1.000000\n",
      "I0629 18:02:00.870362 4574504384 feedforward_robust.py:891] Accuracy on batch: 1.000000\n",
      "Epoch: 0721    cost: 0.145745695 \n",
      "I0629 18:02:00.978244 4574504384 feedforward_robust.py:890] Epoch: 0721    cost: 0.145745695 \n",
      "Accuracy on batch: 1.000000\n",
      "I0629 18:02:00.979950 4574504384 feedforward_robust.py:891] Accuracy on batch: 1.000000\n"
     ]
    },
    {
     "name": "stdout",
     "output_type": "stream",
     "text": [
      "iteration: 20\n",
      "loss 0.001989\n",
      "iteration: 40\n",
      "loss 0.002045\n",
      "iteration: 0\n",
      "loss 0.000258\n",
      "iteration: 20\n",
      "loss 0.001925\n",
      "iteration: 40\n",
      "loss 0.002016\n",
      "iteration: 0\n",
      "loss 0.000261\n"
     ]
    },
    {
     "name": "stderr",
     "output_type": "stream",
     "text": [
      "Epoch: 0722    cost: 0.145734772 \n",
      "I0629 18:02:01.085979 4574504384 feedforward_robust.py:890] Epoch: 0722    cost: 0.145734772 \n",
      "Accuracy on batch: 1.000000\n",
      "I0629 18:02:01.088989 4574504384 feedforward_robust.py:891] Accuracy on batch: 1.000000\n",
      "Epoch: 0723    cost: 0.145712376 \n",
      "I0629 18:02:01.178243 4574504384 feedforward_robust.py:890] Epoch: 0723    cost: 0.145712376 \n",
      "Accuracy on batch: 1.000000\n",
      "I0629 18:02:01.179524 4574504384 feedforward_robust.py:891] Accuracy on batch: 1.000000\n"
     ]
    },
    {
     "name": "stdout",
     "output_type": "stream",
     "text": [
      "iteration: 20\n",
      "loss 0.001910\n",
      "iteration: 40\n",
      "loss 0.002023\n",
      "iteration: 0\n",
      "loss 0.000268\n",
      "iteration: 20\n",
      "loss 0.001931\n",
      "iteration: 40\n",
      "loss 0.002042\n",
      "iteration: 0\n",
      "loss 0.000279\n",
      "iteration: 20\n",
      "loss 0.001900\n"
     ]
    },
    {
     "name": "stderr",
     "output_type": "stream",
     "text": [
      "Epoch: 0724    cost: 0.145637035 \n",
      "I0629 18:02:01.277395 4574504384 feedforward_robust.py:890] Epoch: 0724    cost: 0.145637035 \n",
      "Accuracy on batch: 1.000000\n",
      "I0629 18:02:01.278822 4574504384 feedforward_robust.py:891] Accuracy on batch: 1.000000\n",
      "Epoch: 0725    cost: 0.145557553 \n",
      "I0629 18:02:01.378935 4574504384 feedforward_robust.py:890] Epoch: 0725    cost: 0.145557553 \n",
      "Accuracy on batch: 1.000000\n",
      "I0629 18:02:01.380252 4574504384 feedforward_robust.py:891] Accuracy on batch: 1.000000\n"
     ]
    },
    {
     "name": "stdout",
     "output_type": "stream",
     "text": [
      "iteration: 40\n",
      "loss 0.001977\n",
      "iteration: 0\n",
      "loss 0.000265\n",
      "iteration: 20\n",
      "loss 0.001887\n",
      "iteration: 40\n",
      "loss 0.001922\n",
      "iteration: 0\n",
      "loss 0.000247\n",
      "iteration: 20\n",
      "loss 0.001987\n",
      "iteration: 40\n",
      "loss 0.002091\n"
     ]
    },
    {
     "name": "stderr",
     "output_type": "stream",
     "text": [
      "Epoch: 0726    cost: 0.145671248 \n",
      "I0629 18:02:01.478291 4574504384 feedforward_robust.py:890] Epoch: 0726    cost: 0.145671248 \n",
      "Accuracy on batch: 1.000000\n",
      "I0629 18:02:01.480080 4574504384 feedforward_robust.py:891] Accuracy on batch: 1.000000\n",
      "Epoch: 0727    cost: 0.145585209 \n",
      "I0629 18:02:01.572208 4574504384 feedforward_robust.py:890] Epoch: 0727    cost: 0.145585209 \n",
      "Accuracy on batch: 1.000000\n",
      "I0629 18:02:01.573659 4574504384 feedforward_robust.py:891] Accuracy on batch: 1.000000\n",
      "Epoch: 0728    cost: 0.145544574 \n",
      "I0629 18:02:01.684502 4574504384 feedforward_robust.py:890] Epoch: 0728    cost: 0.145544574 \n",
      "Accuracy on batch: 1.000000\n",
      "I0629 18:02:01.686129 4574504384 feedforward_robust.py:891] Accuracy on batch: 1.000000\n"
     ]
    },
    {
     "name": "stdout",
     "output_type": "stream",
     "text": [
      "iteration: 0\n",
      "loss 0.000241\n",
      "iteration: 20\n",
      "loss 0.001988\n",
      "iteration: 40\n",
      "loss 0.002046\n",
      "iteration: 0\n",
      "loss 0.000261\n",
      "iteration: 20\n",
      "loss 0.001887\n",
      "iteration: 40\n",
      "loss 0.001977\n"
     ]
    },
    {
     "name": "stderr",
     "output_type": "stream",
     "text": [
      "Epoch: 0729    cost: 0.145610034 \n",
      "I0629 18:02:01.800076 4574504384 feedforward_robust.py:890] Epoch: 0729    cost: 0.145610034 \n",
      "Accuracy on batch: 1.000000\n",
      "I0629 18:02:01.801280 4574504384 feedforward_robust.py:891] Accuracy on batch: 1.000000\n",
      "Epoch: 0730    cost: 0.145529702 \n",
      "I0629 18:02:01.909801 4574504384 feedforward_robust.py:890] Epoch: 0730    cost: 0.145529702 \n",
      "Accuracy on batch: 1.000000\n",
      "I0629 18:02:01.912456 4574504384 feedforward_robust.py:891] Accuracy on batch: 1.000000\n"
     ]
    },
    {
     "name": "stdout",
     "output_type": "stream",
     "text": [
      "iteration: 0\n",
      "loss 0.000241\n",
      "iteration: 20\n",
      "loss 0.001971\n",
      "iteration: 40\n",
      "loss 0.002081\n",
      "iteration: 0\n",
      "loss 0.000243\n",
      "iteration: 20\n",
      "loss 0.001872\n",
      "iteration: 40\n",
      "loss 0.002003\n"
     ]
    },
    {
     "name": "stderr",
     "output_type": "stream",
     "text": [
      "Epoch: 0731    cost: 0.145338967 \n",
      "I0629 18:02:02.038714 4574504384 feedforward_robust.py:890] Epoch: 0731    cost: 0.145338967 \n",
      "Accuracy on batch: 1.000000\n",
      "I0629 18:02:02.040257 4574504384 feedforward_robust.py:891] Accuracy on batch: 1.000000\n",
      "Epoch: 0732    cost: 0.145407259 \n",
      "I0629 18:02:02.151700 4574504384 feedforward_robust.py:890] Epoch: 0732    cost: 0.145407259 \n",
      "Accuracy on batch: 1.000000\n",
      "I0629 18:02:02.153349 4574504384 feedforward_robust.py:891] Accuracy on batch: 1.000000\n"
     ]
    },
    {
     "name": "stdout",
     "output_type": "stream",
     "text": [
      "iteration: 0\n",
      "loss 0.000243\n",
      "iteration: 20\n",
      "loss 0.001864\n",
      "iteration: 40\n",
      "loss 0.001900\n",
      "iteration: 0\n",
      "loss 0.000245\n",
      "iteration: 20\n",
      "loss 0.001857\n",
      "iteration: 40\n",
      "loss 0.001945\n"
     ]
    },
    {
     "name": "stderr",
     "output_type": "stream",
     "text": [
      "Epoch: 0733    cost: 0.145412385 \n",
      "I0629 18:02:02.255556 4574504384 feedforward_robust.py:890] Epoch: 0733    cost: 0.145412385 \n",
      "Accuracy on batch: 1.000000\n",
      "I0629 18:02:02.257034 4574504384 feedforward_robust.py:891] Accuracy on batch: 1.000000\n",
      "Epoch: 0734    cost: 0.145336866 \n",
      "I0629 18:02:02.350629 4574504384 feedforward_robust.py:890] Epoch: 0734    cost: 0.145336866 \n",
      "Accuracy on batch: 1.000000\n",
      "I0629 18:02:02.351888 4574504384 feedforward_robust.py:891] Accuracy on batch: 1.000000\n"
     ]
    },
    {
     "name": "stdout",
     "output_type": "stream",
     "text": [
      "iteration: 0\n",
      "loss 0.000259\n",
      "iteration: 20\n",
      "loss 0.001860\n",
      "iteration: 40\n",
      "loss 0.001962\n",
      "iteration: 0\n",
      "loss 0.000270\n",
      "iteration: 20\n",
      "loss 0.001910\n",
      "iteration: 40\n",
      "loss 0.001990\n",
      "iteration: 0\n",
      "loss 0.000243\n"
     ]
    },
    {
     "name": "stderr",
     "output_type": "stream",
     "text": [
      "Epoch: 0735    cost: 0.145212740 \n",
      "I0629 18:02:02.447498 4574504384 feedforward_robust.py:890] Epoch: 0735    cost: 0.145212740 \n",
      "Accuracy on batch: 1.000000\n",
      "I0629 18:02:02.449058 4574504384 feedforward_robust.py:891] Accuracy on batch: 1.000000\n",
      "Epoch: 0736    cost: 0.145232350 \n",
      "I0629 18:02:02.542992 4574504384 feedforward_robust.py:890] Epoch: 0736    cost: 0.145232350 \n",
      "Accuracy on batch: 1.000000\n",
      "I0629 18:02:02.544261 4574504384 feedforward_robust.py:891] Accuracy on batch: 1.000000\n"
     ]
    },
    {
     "name": "stdout",
     "output_type": "stream",
     "text": [
      "iteration: 20\n",
      "loss 0.001831\n",
      "iteration: 40\n",
      "loss 0.001888\n",
      "iteration: 0\n",
      "loss 0.000261\n",
      "iteration: 20\n",
      "loss 0.001840\n",
      "iteration: 40\n",
      "loss 0.001908\n",
      "iteration: 0\n",
      "loss 0.000214\n"
     ]
    },
    {
     "name": "stderr",
     "output_type": "stream",
     "text": [
      "Epoch: 0737    cost: 0.145209357 \n",
      "I0629 18:02:02.660122 4574504384 feedforward_robust.py:890] Epoch: 0737    cost: 0.145209357 \n",
      "Accuracy on batch: 1.000000\n",
      "I0629 18:02:02.661618 4574504384 feedforward_robust.py:891] Accuracy on batch: 1.000000\n",
      "Epoch: 0738    cost: 0.145254672 \n",
      "I0629 18:02:02.772062 4574504384 feedforward_robust.py:890] Epoch: 0738    cost: 0.145254672 \n",
      "Accuracy on batch: 1.000000\n",
      "I0629 18:02:02.775472 4574504384 feedforward_robust.py:891] Accuracy on batch: 1.000000\n"
     ]
    },
    {
     "name": "stdout",
     "output_type": "stream",
     "text": [
      "iteration: 20\n",
      "loss 0.001839\n",
      "iteration: 40\n",
      "loss 0.001905\n",
      "iteration: 0\n",
      "loss 0.000258\n",
      "iteration: 20\n",
      "loss 0.001919\n",
      "iteration: 40\n",
      "loss 0.002003\n",
      "iteration: 0\n",
      "loss 0.000242\n"
     ]
    },
    {
     "name": "stderr",
     "output_type": "stream",
     "text": [
      "Epoch: 0739    cost: 0.145190418 \n",
      "I0629 18:02:02.876540 4574504384 feedforward_robust.py:890] Epoch: 0739    cost: 0.145190418 \n",
      "Accuracy on batch: 1.000000\n",
      "I0629 18:02:02.878106 4574504384 feedforward_robust.py:891] Accuracy on batch: 1.000000\n",
      "Epoch: 0740    cost: 0.145136550 \n",
      "I0629 18:02:02.973988 4574504384 feedforward_robust.py:890] Epoch: 0740    cost: 0.145136550 \n",
      "Accuracy on batch: 1.000000\n",
      "I0629 18:02:02.975385 4574504384 feedforward_robust.py:891] Accuracy on batch: 1.000000\n"
     ]
    },
    {
     "name": "stdout",
     "output_type": "stream",
     "text": [
      "iteration: 20\n",
      "loss 0.001851\n",
      "iteration: 40\n",
      "loss 0.001970\n",
      "iteration: 0\n",
      "loss 0.000278\n",
      "iteration: 20\n",
      "loss 0.001848\n",
      "iteration: 40\n",
      "loss 0.001952\n",
      "iteration: 0\n",
      "loss 0.000251\n",
      "iteration: 20\n",
      "loss 0.001818\n"
     ]
    },
    {
     "name": "stderr",
     "output_type": "stream",
     "text": [
      "Epoch: 0741    cost: 0.145003825 \n",
      "I0629 18:02:03.070426 4574504384 feedforward_robust.py:890] Epoch: 0741    cost: 0.145003825 \n",
      "Accuracy on batch: 1.000000\n",
      "I0629 18:02:03.071965 4574504384 feedforward_robust.py:891] Accuracy on batch: 1.000000\n",
      "Epoch: 0742    cost: 0.145122349 \n",
      "I0629 18:02:03.172449 4574504384 feedforward_robust.py:890] Epoch: 0742    cost: 0.145122349 \n",
      "Accuracy on batch: 1.000000\n",
      "I0629 18:02:03.173754 4574504384 feedforward_robust.py:891] Accuracy on batch: 1.000000\n"
     ]
    },
    {
     "name": "stdout",
     "output_type": "stream",
     "text": [
      "iteration: 40\n",
      "loss 0.001843\n",
      "iteration: 0\n",
      "loss 0.000252\n",
      "iteration: 20\n",
      "loss 0.001853\n",
      "iteration: 40\n",
      "loss 0.001988\n",
      "iteration: 0\n",
      "loss 0.000258\n",
      "iteration: 20\n",
      "loss 0.001843\n"
     ]
    },
    {
     "name": "stderr",
     "output_type": "stream",
     "text": [
      "Epoch: 0743    cost: 0.144990727 \n",
      "I0629 18:02:03.271573 4574504384 feedforward_robust.py:890] Epoch: 0743    cost: 0.144990727 \n",
      "Accuracy on batch: 1.000000\n",
      "I0629 18:02:03.275499 4574504384 feedforward_robust.py:891] Accuracy on batch: 1.000000\n",
      "Epoch: 0744    cost: 0.144976482 \n",
      "I0629 18:02:03.371365 4574504384 feedforward_robust.py:890] Epoch: 0744    cost: 0.144976482 \n",
      "Accuracy on batch: 1.000000\n",
      "I0629 18:02:03.372961 4574504384 feedforward_robust.py:891] Accuracy on batch: 1.000000\n"
     ]
    },
    {
     "name": "stdout",
     "output_type": "stream",
     "text": [
      "iteration: 40\n",
      "loss 0.001873\n",
      "iteration: 0\n",
      "loss 0.000262\n",
      "iteration: 20\n",
      "loss 0.001828\n",
      "iteration: 40\n",
      "loss 0.001889\n",
      "iteration: 0\n",
      "loss 0.000228\n",
      "iteration: 20\n",
      "loss 0.001844\n",
      "iteration: 40\n",
      "loss 0.001937\n"
     ]
    },
    {
     "name": "stderr",
     "output_type": "stream",
     "text": [
      "Epoch: 0745    cost: 0.145033494 \n",
      "I0629 18:02:03.474182 4574504384 feedforward_robust.py:890] Epoch: 0745    cost: 0.145033494 \n",
      "Accuracy on batch: 1.000000\n",
      "I0629 18:02:03.475958 4574504384 feedforward_robust.py:891] Accuracy on batch: 1.000000\n",
      "Epoch: 0746    cost: 0.144867226 \n",
      "I0629 18:02:03.579966 4574504384 feedforward_robust.py:890] Epoch: 0746    cost: 0.144867226 \n",
      "Accuracy on batch: 1.000000\n",
      "I0629 18:02:03.581266 4574504384 feedforward_robust.py:891] Accuracy on batch: 1.000000\n",
      "Epoch: 0747    cost: 0.145169929 \n",
      "I0629 18:02:03.706425 4574504384 feedforward_robust.py:890] Epoch: 0747    cost: 0.145169929 \n",
      "Accuracy on batch: 1.000000\n",
      "I0629 18:02:03.708097 4574504384 feedforward_robust.py:891] Accuracy on batch: 1.000000\n"
     ]
    },
    {
     "name": "stdout",
     "output_type": "stream",
     "text": [
      "iteration: 0\n",
      "loss 0.000236\n",
      "iteration: 20\n",
      "loss 0.001821\n",
      "iteration: 40\n",
      "loss 0.001853\n",
      "iteration: 0\n",
      "loss 0.000292\n",
      "iteration: 20\n",
      "loss 0.001950\n",
      "iteration: 40\n",
      "loss 0.002101\n"
     ]
    },
    {
     "name": "stderr",
     "output_type": "stream",
     "text": [
      "Epoch: 0748    cost: 0.144912109 \n",
      "I0629 18:02:03.820322 4574504384 feedforward_robust.py:890] Epoch: 0748    cost: 0.144912109 \n",
      "Accuracy on batch: 1.000000\n",
      "I0629 18:02:03.821586 4574504384 feedforward_robust.py:891] Accuracy on batch: 1.000000\n",
      "Epoch: 0749    cost: 0.144843966 \n",
      "I0629 18:02:03.921157 4574504384 feedforward_robust.py:890] Epoch: 0749    cost: 0.144843966 \n",
      "Accuracy on batch: 1.000000\n",
      "I0629 18:02:03.922315 4574504384 feedforward_robust.py:891] Accuracy on batch: 1.000000\n"
     ]
    },
    {
     "name": "stdout",
     "output_type": "stream",
     "text": [
      "iteration: 0\n",
      "loss 0.000232\n",
      "iteration: 20\n",
      "loss 0.001825\n",
      "iteration: 40\n",
      "loss 0.001911\n",
      "iteration: 0\n",
      "loss 0.000246\n",
      "iteration: 20\n",
      "loss 0.001801\n",
      "iteration: 40\n",
      "loss 0.001869\n"
     ]
    },
    {
     "name": "stderr",
     "output_type": "stream",
     "text": [
      "Epoch: 0750    cost: 0.144858181 \n",
      "I0629 18:02:04.023581 4574504384 feedforward_robust.py:890] Epoch: 0750    cost: 0.144858181 \n",
      "Accuracy on batch: 1.000000\n",
      "I0629 18:02:04.024924 4574504384 feedforward_robust.py:891] Accuracy on batch: 1.000000\n",
      "Epoch: 0751    cost: 0.144773632 \n",
      "I0629 18:02:04.114391 4574504384 feedforward_robust.py:890] Epoch: 0751    cost: 0.144773632 \n",
      "Accuracy on batch: 1.000000\n",
      "I0629 18:02:04.115689 4574504384 feedforward_robust.py:891] Accuracy on batch: 1.000000\n"
     ]
    },
    {
     "name": "stdout",
     "output_type": "stream",
     "text": [
      "iteration: 0\n",
      "loss 0.000237\n",
      "iteration: 20\n",
      "loss 0.001863\n",
      "iteration: 40\n",
      "loss 0.001946\n",
      "iteration: 0\n",
      "loss 0.000230\n",
      "iteration: 20\n",
      "loss 0.001803\n",
      "iteration: 40\n",
      "loss 0.001889\n",
      "iteration: 0\n",
      "loss 0.000224\n"
     ]
    },
    {
     "name": "stderr",
     "output_type": "stream",
     "text": [
      "Epoch: 0752    cost: 0.144881219 \n",
      "I0629 18:02:04.221801 4574504384 feedforward_robust.py:890] Epoch: 0752    cost: 0.144881219 \n",
      "Accuracy on batch: 1.000000\n",
      "I0629 18:02:04.223077 4574504384 feedforward_robust.py:891] Accuracy on batch: 1.000000\n",
      "Epoch: 0753    cost: 0.144714415 \n",
      "I0629 18:02:04.322440 4574504384 feedforward_robust.py:890] Epoch: 0753    cost: 0.144714415 \n",
      "Accuracy on batch: 1.000000\n",
      "I0629 18:02:04.326269 4574504384 feedforward_robust.py:891] Accuracy on batch: 1.000000\n"
     ]
    },
    {
     "name": "stdout",
     "output_type": "stream",
     "text": [
      "iteration: 20\n",
      "loss 0.001920\n",
      "iteration: 40\n",
      "loss 0.002000\n",
      "iteration: 0\n",
      "loss 0.000235\n",
      "iteration: 20\n",
      "loss 0.001785\n",
      "iteration: 40\n",
      "loss 0.001856\n",
      "iteration: 0\n",
      "loss 0.000261\n"
     ]
    },
    {
     "name": "stderr",
     "output_type": "stream",
     "text": [
      "Epoch: 0754    cost: 0.144707441 \n",
      "I0629 18:02:04.422337 4574504384 feedforward_robust.py:890] Epoch: 0754    cost: 0.144707441 \n",
      "Accuracy on batch: 1.000000\n",
      "I0629 18:02:04.425904 4574504384 feedforward_robust.py:891] Accuracy on batch: 1.000000\n",
      "Epoch: 0755    cost: 0.144793108 \n",
      "I0629 18:02:04.522926 4574504384 feedforward_robust.py:890] Epoch: 0755    cost: 0.144793108 \n",
      "Accuracy on batch: 1.000000\n",
      "I0629 18:02:04.525258 4574504384 feedforward_robust.py:891] Accuracy on batch: 1.000000\n"
     ]
    },
    {
     "name": "stdout",
     "output_type": "stream",
     "text": [
      "iteration: 20\n",
      "loss 0.001850\n",
      "iteration: 40\n",
      "loss 0.001912\n",
      "iteration: 0\n",
      "loss 0.000251\n",
      "iteration: 20\n",
      "loss 0.001901\n",
      "iteration: 40\n",
      "loss 0.001994\n",
      "iteration: 0\n",
      "loss 0.000253\n",
      "iteration: 20\n",
      "loss 0.001827\n"
     ]
    },
    {
     "name": "stderr",
     "output_type": "stream",
     "text": [
      "Epoch: 0756    cost: 0.144709751 \n",
      "I0629 18:02:04.619705 4574504384 feedforward_robust.py:890] Epoch: 0756    cost: 0.144709751 \n",
      "Accuracy on batch: 1.000000\n",
      "I0629 18:02:04.620948 4574504384 feedforward_robust.py:891] Accuracy on batch: 1.000000\n",
      "Epoch: 0757    cost: 0.144695804 \n",
      "I0629 18:02:04.716632 4574504384 feedforward_robust.py:890] Epoch: 0757    cost: 0.144695804 \n",
      "Accuracy on batch: 1.000000\n",
      "I0629 18:02:04.717886 4574504384 feedforward_robust.py:891] Accuracy on batch: 1.000000\n"
     ]
    },
    {
     "name": "stdout",
     "output_type": "stream",
     "text": [
      "iteration: 40\n",
      "loss 0.001963\n",
      "iteration: 0\n",
      "loss 0.000254\n",
      "iteration: 20\n",
      "loss 0.001834\n",
      "iteration: 40\n",
      "loss 0.001947\n",
      "iteration: 0\n",
      "loss 0.000222\n",
      "iteration: 20\n",
      "loss 0.001795\n",
      "iteration: 40\n",
      "loss 0.001908\n"
     ]
    },
    {
     "name": "stderr",
     "output_type": "stream",
     "text": [
      "Epoch: 0758    cost: 0.144613072 \n",
      "I0629 18:02:04.814066 4574504384 feedforward_robust.py:890] Epoch: 0758    cost: 0.144613072 \n",
      "Accuracy on batch: 1.000000\n",
      "I0629 18:02:04.816229 4574504384 feedforward_robust.py:891] Accuracy on batch: 1.000000\n",
      "Epoch: 0759    cost: 0.144577548 \n",
      "I0629 18:02:04.906795 4574504384 feedforward_robust.py:890] Epoch: 0759    cost: 0.144577548 \n",
      "Accuracy on batch: 1.000000\n",
      "I0629 18:02:04.908183 4574504384 feedforward_robust.py:891] Accuracy on batch: 1.000000\n",
      "Epoch: 0760    cost: 0.144483522 \n",
      "I0629 18:02:05.000004 4574504384 feedforward_robust.py:890] Epoch: 0760    cost: 0.144483522 \n",
      "Accuracy on batch: 1.000000\n",
      "I0629 18:02:05.001203 4574504384 feedforward_robust.py:891] Accuracy on batch: 1.000000\n"
     ]
    },
    {
     "name": "stdout",
     "output_type": "stream",
     "text": [
      "iteration: 0\n",
      "loss 0.000271\n",
      "iteration: 20\n",
      "loss 0.001839\n",
      "iteration: 40\n",
      "loss 0.001922\n",
      "iteration: 0\n",
      "loss 0.000241\n",
      "iteration: 20\n",
      "loss 0.001783\n",
      "iteration: 40\n",
      "loss 0.001851\n",
      "iteration: 0\n",
      "loss 0.000231\n"
     ]
    },
    {
     "name": "stderr",
     "output_type": "stream",
     "text": [
      "Epoch: 0761    cost: 0.144494444 \n",
      "I0629 18:02:05.095993 4574504384 feedforward_robust.py:890] Epoch: 0761    cost: 0.144494444 \n",
      "Accuracy on batch: 1.000000\n",
      "I0629 18:02:05.097196 4574504384 feedforward_robust.py:891] Accuracy on batch: 1.000000\n",
      "Epoch: 0762    cost: 0.144316554 \n",
      "I0629 18:02:05.192564 4574504384 feedforward_robust.py:890] Epoch: 0762    cost: 0.144316554 \n",
      "Accuracy on batch: 1.000000\n",
      "I0629 18:02:05.193804 4574504384 feedforward_robust.py:891] Accuracy on batch: 1.000000\n"
     ]
    },
    {
     "name": "stdout",
     "output_type": "stream",
     "text": [
      "iteration: 20\n",
      "loss 0.001829\n",
      "iteration: 40\n",
      "loss 0.001898\n",
      "iteration: 0\n",
      "loss 0.000229\n",
      "iteration: 20\n",
      "loss 0.001751\n",
      "iteration: 40\n",
      "loss 0.001775\n",
      "iteration: 0\n",
      "loss 0.000219\n",
      "iteration: 20\n",
      "loss 0.001769\n"
     ]
    },
    {
     "name": "stderr",
     "output_type": "stream",
     "text": [
      "Epoch: 0763    cost: 0.144383892 \n",
      "I0629 18:02:05.290105 4574504384 feedforward_robust.py:890] Epoch: 0763    cost: 0.144383892 \n",
      "Accuracy on batch: 1.000000\n",
      "I0629 18:02:05.291965 4574504384 feedforward_robust.py:891] Accuracy on batch: 1.000000\n",
      "Epoch: 0764    cost: 0.144366205 \n",
      "I0629 18:02:05.394746 4574504384 feedforward_robust.py:890] Epoch: 0764    cost: 0.144366205 \n",
      "Accuracy on batch: 1.000000\n",
      "I0629 18:02:05.396404 4574504384 feedforward_robust.py:891] Accuracy on batch: 1.000000\n"
     ]
    },
    {
     "name": "stdout",
     "output_type": "stream",
     "text": [
      "iteration: 40\n",
      "loss 0.001876\n",
      "iteration: 0\n",
      "loss 0.000251\n",
      "iteration: 20\n",
      "loss 0.001769\n",
      "iteration: 40\n",
      "loss 0.001865\n",
      "iteration: 0\n",
      "loss 0.000202\n",
      "iteration: 20\n",
      "loss 0.001741\n"
     ]
    },
    {
     "name": "stderr",
     "output_type": "stream",
     "text": [
      "Epoch: 0765    cost: 0.144240275 \n",
      "I0629 18:02:05.511568 4574504384 feedforward_robust.py:890] Epoch: 0765    cost: 0.144240275 \n",
      "Accuracy on batch: 1.000000\n",
      "I0629 18:02:05.513018 4574504384 feedforward_robust.py:891] Accuracy on batch: 1.000000\n",
      "Epoch: 0766    cost: 0.144313931 \n",
      "I0629 18:02:05.628559 4574504384 feedforward_robust.py:890] Epoch: 0766    cost: 0.144313931 \n",
      "Accuracy on batch: 1.000000\n",
      "I0629 18:02:05.632395 4574504384 feedforward_robust.py:891] Accuracy on batch: 1.000000\n"
     ]
    },
    {
     "name": "stdout",
     "output_type": "stream",
     "text": [
      "iteration: 40\n",
      "loss 0.001786\n",
      "iteration: 0\n",
      "loss 0.000232\n",
      "iteration: 20\n",
      "loss 0.001770\n",
      "iteration: 40\n",
      "loss 0.001886\n",
      "iteration: 0\n",
      "loss 0.000246\n"
     ]
    },
    {
     "name": "stderr",
     "output_type": "stream",
     "text": [
      "Epoch: 0767    cost: 0.144201785 \n",
      "I0629 18:02:05.748401 4574504384 feedforward_robust.py:890] Epoch: 0767    cost: 0.144201785 \n",
      "Accuracy on batch: 1.000000\n",
      "I0629 18:02:05.749831 4574504384 feedforward_robust.py:891] Accuracy on batch: 1.000000\n",
      "Epoch: 0768    cost: 0.144236758 \n",
      "I0629 18:02:05.863927 4574504384 feedforward_robust.py:890] Epoch: 0768    cost: 0.144236758 \n",
      "Accuracy on batch: 1.000000\n",
      "I0629 18:02:05.865288 4574504384 feedforward_robust.py:891] Accuracy on batch: 1.000000\n"
     ]
    },
    {
     "name": "stdout",
     "output_type": "stream",
     "text": [
      "iteration: 20\n",
      "loss 0.001765\n",
      "iteration: 40\n",
      "loss 0.001822\n",
      "iteration: 0\n",
      "loss 0.000213\n",
      "iteration: 20\n",
      "loss 0.001756\n",
      "iteration: 40\n",
      "loss 0.001848\n"
     ]
    },
    {
     "name": "stderr",
     "output_type": "stream",
     "text": [
      "Epoch: 0769    cost: 0.144180819 \n",
      "I0629 18:02:05.977364 4574504384 feedforward_robust.py:890] Epoch: 0769    cost: 0.144180819 \n",
      "Accuracy on batch: 1.000000\n",
      "I0629 18:02:05.980005 4574504384 feedforward_robust.py:891] Accuracy on batch: 1.000000\n",
      "Epoch: 0770    cost: 0.144191787 \n",
      "I0629 18:02:06.076446 4574504384 feedforward_robust.py:890] Epoch: 0770    cost: 0.144191787 \n",
      "Accuracy on batch: 1.000000\n",
      "I0629 18:02:06.077960 4574504384 feedforward_robust.py:891] Accuracy on batch: 1.000000\n"
     ]
    },
    {
     "name": "stdout",
     "output_type": "stream",
     "text": [
      "iteration: 0\n",
      "loss 0.000211\n",
      "iteration: 20\n",
      "loss 0.001763\n",
      "iteration: 40\n",
      "loss 0.001859\n",
      "iteration: 0\n",
      "loss 0.000268\n",
      "iteration: 20\n",
      "loss 0.001797\n",
      "iteration: 40\n",
      "loss 0.001879\n"
     ]
    },
    {
     "name": "stderr",
     "output_type": "stream",
     "text": [
      "Epoch: 0771    cost: 0.144091874 \n",
      "I0629 18:02:06.178292 4574504384 feedforward_robust.py:890] Epoch: 0771    cost: 0.144091874 \n",
      "Accuracy on batch: 1.000000\n",
      "I0629 18:02:06.179636 4574504384 feedforward_robust.py:891] Accuracy on batch: 1.000000\n",
      "Epoch: 0772    cost: 0.144158274 \n",
      "I0629 18:02:06.275816 4574504384 feedforward_robust.py:890] Epoch: 0772    cost: 0.144158274 \n",
      "Accuracy on batch: 1.000000\n",
      "I0629 18:02:06.277073 4574504384 feedforward_robust.py:891] Accuracy on batch: 1.000000\n"
     ]
    },
    {
     "name": "stdout",
     "output_type": "stream",
     "text": [
      "iteration: 0\n",
      "loss 0.000233\n",
      "iteration: 20\n",
      "loss 0.001755\n",
      "iteration: 40\n",
      "loss 0.001803\n",
      "iteration: 0\n",
      "loss 0.000214\n",
      "iteration: 20\n",
      "loss 0.001789\n",
      "iteration: 40\n",
      "loss 0.001868\n",
      "iteration: 0\n",
      "loss 0.000238\n"
     ]
    },
    {
     "name": "stderr",
     "output_type": "stream",
     "text": [
      "Epoch: 0773    cost: 0.143980980 \n",
      "I0629 18:02:06.375626 4574504384 feedforward_robust.py:890] Epoch: 0773    cost: 0.143980980 \n",
      "Accuracy on batch: 1.000000\n",
      "I0629 18:02:06.376874 4574504384 feedforward_robust.py:891] Accuracy on batch: 1.000000\n",
      "Epoch: 0774    cost: 0.144198567 \n",
      "I0629 18:02:06.468568 4574504384 feedforward_robust.py:890] Epoch: 0774    cost: 0.144198567 \n",
      "Accuracy on batch: 1.000000\n",
      "I0629 18:02:06.469876 4574504384 feedforward_robust.py:891] Accuracy on batch: 1.000000\n"
     ]
    },
    {
     "name": "stdout",
     "output_type": "stream",
     "text": [
      "iteration: 20\n",
      "loss 0.001722\n",
      "iteration: 40\n",
      "loss 0.001755\n",
      "iteration: 0\n",
      "loss 0.000222\n",
      "iteration: 20\n",
      "loss 0.001759\n",
      "iteration: 40\n",
      "loss 0.001985\n",
      "iteration: 0\n",
      "loss 0.000226\n",
      "iteration: 20\n",
      "loss 0.001744\n"
     ]
    },
    {
     "name": "stderr",
     "output_type": "stream",
     "text": [
      "Epoch: 0775    cost: 0.143969700 \n",
      "I0629 18:02:06.579301 4574504384 feedforward_robust.py:890] Epoch: 0775    cost: 0.143969700 \n",
      "Accuracy on batch: 1.000000\n",
      "I0629 18:02:06.580713 4574504384 feedforward_robust.py:891] Accuracy on batch: 1.000000\n",
      "Epoch: 0776    cost: 0.143953815 \n",
      "I0629 18:02:06.681605 4574504384 feedforward_robust.py:890] Epoch: 0776    cost: 0.143953815 \n",
      "Accuracy on batch: 1.000000\n",
      "I0629 18:02:06.682697 4574504384 feedforward_robust.py:891] Accuracy on batch: 1.000000\n"
     ]
    },
    {
     "name": "stdout",
     "output_type": "stream",
     "text": [
      "iteration: 40\n",
      "loss 0.001798\n",
      "iteration: 0\n",
      "loss 0.000253\n",
      "iteration: 20\n",
      "loss 0.001754\n",
      "iteration: 40\n",
      "loss 0.001790\n",
      "iteration: 0\n",
      "loss 0.000228\n",
      "iteration: 20\n",
      "loss 0.001747\n"
     ]
    },
    {
     "name": "stderr",
     "output_type": "stream",
     "text": [
      "Epoch: 0777    cost: 0.143927798 \n",
      "I0629 18:02:06.783972 4574504384 feedforward_robust.py:890] Epoch: 0777    cost: 0.143927798 \n",
      "Accuracy on batch: 1.000000\n",
      "I0629 18:02:06.785438 4574504384 feedforward_robust.py:891] Accuracy on batch: 1.000000\n",
      "Epoch: 0778    cost: 0.143956959 \n",
      "I0629 18:02:06.882972 4574504384 feedforward_robust.py:890] Epoch: 0778    cost: 0.143956959 \n",
      "Accuracy on batch: 1.000000\n",
      "I0629 18:02:06.884181 4574504384 feedforward_robust.py:891] Accuracy on batch: 1.000000\n"
     ]
    },
    {
     "name": "stdout",
     "output_type": "stream",
     "text": [
      "iteration: 40\n",
      "loss 0.001805\n",
      "iteration: 0\n",
      "loss 0.000234\n",
      "iteration: 20\n",
      "loss 0.001766\n",
      "iteration: 40\n",
      "loss 0.001844\n",
      "iteration: 0\n",
      "loss 0.000241\n",
      "iteration: 20\n",
      "loss 0.001799\n",
      "iteration: 40\n",
      "loss 0.001915\n"
     ]
    },
    {
     "name": "stderr",
     "output_type": "stream",
     "text": [
      "Epoch: 0779    cost: 0.143984437 \n",
      "I0629 18:02:06.985435 4574504384 feedforward_robust.py:890] Epoch: 0779    cost: 0.143984437 \n",
      "Accuracy on batch: 1.000000\n",
      "I0629 18:02:06.986897 4574504384 feedforward_robust.py:891] Accuracy on batch: 1.000000\n",
      "Epoch: 0780    cost: 0.143946588 \n",
      "I0629 18:02:07.103363 4574504384 feedforward_robust.py:890] Epoch: 0780    cost: 0.143946588 \n",
      "Accuracy on batch: 1.000000\n",
      "I0629 18:02:07.104602 4574504384 feedforward_robust.py:891] Accuracy on batch: 1.000000\n",
      "Epoch: 0781    cost: 0.143816561 \n",
      "I0629 18:02:07.215244 4574504384 feedforward_robust.py:890] Epoch: 0781    cost: 0.143816561 \n",
      "Accuracy on batch: 1.000000\n",
      "I0629 18:02:07.216803 4574504384 feedforward_robust.py:891] Accuracy on batch: 1.000000\n"
     ]
    },
    {
     "name": "stdout",
     "output_type": "stream",
     "text": [
      "iteration: 0\n",
      "loss 0.000236\n",
      "iteration: 20\n",
      "loss 0.001812\n",
      "iteration: 40\n",
      "loss 0.001887\n",
      "iteration: 0\n",
      "loss 0.000248\n",
      "iteration: 20\n",
      "loss 0.001715\n",
      "iteration: 40\n",
      "loss 0.001794\n"
     ]
    },
    {
     "name": "stderr",
     "output_type": "stream",
     "text": [
      "Epoch: 0782    cost: 0.143774420 \n",
      "I0629 18:02:07.318243 4574504384 feedforward_robust.py:890] Epoch: 0782    cost: 0.143774420 \n",
      "Accuracy on batch: 1.000000\n",
      "I0629 18:02:07.319668 4574504384 feedforward_robust.py:891] Accuracy on batch: 1.000000\n",
      "Epoch: 0783    cost: 0.143795490 \n",
      "I0629 18:02:07.417742 4574504384 feedforward_robust.py:890] Epoch: 0783    cost: 0.143795490 \n",
      "Accuracy on batch: 1.000000\n",
      "I0629 18:02:07.419290 4574504384 feedforward_robust.py:891] Accuracy on batch: 1.000000\n"
     ]
    },
    {
     "name": "stdout",
     "output_type": "stream",
     "text": [
      "iteration: 0\n",
      "loss 0.000226\n",
      "iteration: 20\n",
      "loss 0.001709\n",
      "iteration: 40\n",
      "loss 0.001780\n",
      "iteration: 0\n",
      "loss 0.000275\n",
      "iteration: 20\n",
      "loss 0.001744\n",
      "iteration: 40\n",
      "loss 0.001818\n",
      "iteration: 0\n",
      "loss 0.000209\n"
     ]
    },
    {
     "name": "stderr",
     "output_type": "stream",
     "text": [
      "Epoch: 0784    cost: 0.143662393 \n",
      "I0629 18:02:07.517186 4574504384 feedforward_robust.py:890] Epoch: 0784    cost: 0.143662393 \n",
      "Accuracy on batch: 1.000000\n",
      "I0629 18:02:07.518527 4574504384 feedforward_robust.py:891] Accuracy on batch: 1.000000\n",
      "Epoch: 0785    cost: 0.143830985 \n",
      "I0629 18:02:07.609305 4574504384 feedforward_robust.py:890] Epoch: 0785    cost: 0.143830985 \n",
      "Accuracy on batch: 1.000000\n",
      "I0629 18:02:07.610782 4574504384 feedforward_robust.py:891] Accuracy on batch: 1.000000\n"
     ]
    },
    {
     "name": "stdout",
     "output_type": "stream",
     "text": [
      "iteration: 20\n",
      "loss 0.001721\n",
      "iteration: 40\n",
      "loss 0.001742\n",
      "iteration: 0\n",
      "loss 0.000214\n",
      "iteration: 20\n",
      "loss 0.001799\n",
      "iteration: 40\n",
      "loss 0.001896\n",
      "iteration: 0\n",
      "loss 0.000214\n",
      "iteration: 20\n",
      "loss 0.001711\n"
     ]
    },
    {
     "name": "stderr",
     "output_type": "stream",
     "text": [
      "Epoch: 0786    cost: 0.143702492 \n",
      "I0629 18:02:07.709172 4574504384 feedforward_robust.py:890] Epoch: 0786    cost: 0.143702492 \n",
      "Accuracy on batch: 1.000000\n",
      "I0629 18:02:07.710457 4574504384 feedforward_robust.py:891] Accuracy on batch: 1.000000\n",
      "Epoch: 0787    cost: 0.143754706 \n",
      "I0629 18:02:07.819604 4574504384 feedforward_robust.py:890] Epoch: 0787    cost: 0.143754706 \n",
      "Accuracy on batch: 1.000000\n",
      "I0629 18:02:07.821216 4574504384 feedforward_robust.py:891] Accuracy on batch: 1.000000\n"
     ]
    },
    {
     "name": "stdout",
     "output_type": "stream",
     "text": [
      "iteration: 40\n",
      "loss 0.001854\n",
      "iteration: 0\n",
      "loss 0.000215\n",
      "iteration: 20\n",
      "loss 0.001805\n",
      "iteration: 40\n",
      "loss 0.001940\n",
      "iteration: 0\n",
      "loss 0.000219\n",
      "iteration: 20\n",
      "loss 0.001740\n"
     ]
    },
    {
     "name": "stderr",
     "output_type": "stream",
     "text": [
      "Epoch: 0788    cost: 0.143551216 \n",
      "I0629 18:02:07.928884 4574504384 feedforward_robust.py:890] Epoch: 0788    cost: 0.143551216 \n",
      "Accuracy on batch: 1.000000\n",
      "I0629 18:02:07.930342 4574504384 feedforward_robust.py:891] Accuracy on batch: 1.000000\n",
      "Epoch: 0789    cost: 0.143519565 \n",
      "I0629 18:02:08.029008 4574504384 feedforward_robust.py:890] Epoch: 0789    cost: 0.143519565 \n",
      "Accuracy on batch: 1.000000\n",
      "I0629 18:02:08.030000 4574504384 feedforward_robust.py:891] Accuracy on batch: 1.000000\n"
     ]
    },
    {
     "name": "stdout",
     "output_type": "stream",
     "text": [
      "iteration: 40\n",
      "loss 0.001778\n",
      "iteration: 0\n",
      "loss 0.000230\n",
      "iteration: 20\n",
      "loss 0.001721\n",
      "iteration: 40\n",
      "loss 0.001780\n",
      "iteration: 0\n",
      "loss 0.000225\n",
      "iteration: 20\n",
      "loss 0.001717\n",
      "iteration: 40\n",
      "loss 0.001741\n"
     ]
    },
    {
     "name": "stderr",
     "output_type": "stream",
     "text": [
      "Epoch: 0790    cost: 0.143476650 \n",
      "I0629 18:02:08.128295 4574504384 feedforward_robust.py:890] Epoch: 0790    cost: 0.143476650 \n",
      "Accuracy on batch: 1.000000\n",
      "I0629 18:02:08.130103 4574504384 feedforward_robust.py:891] Accuracy on batch: 1.000000\n",
      "Epoch: 0791    cost: 0.143531904 \n",
      "I0629 18:02:08.221146 4574504384 feedforward_robust.py:890] Epoch: 0791    cost: 0.143531904 \n",
      "Accuracy on batch: 1.000000\n",
      "I0629 18:02:08.222294 4574504384 feedforward_robust.py:891] Accuracy on batch: 1.000000\n",
      "Epoch: 0792    cost: 0.143490225 \n",
      "I0629 18:02:08.315655 4574504384 feedforward_robust.py:890] Epoch: 0792    cost: 0.143490225 \n",
      "Accuracy on batch: 1.000000\n",
      "I0629 18:02:08.316977 4574504384 feedforward_robust.py:891] Accuracy on batch: 1.000000\n"
     ]
    },
    {
     "name": "stdout",
     "output_type": "stream",
     "text": [
      "iteration: 0\n",
      "loss 0.000225\n",
      "iteration: 20\n",
      "loss 0.001708\n",
      "iteration: 40\n",
      "loss 0.001816\n",
      "iteration: 0\n",
      "loss 0.000239\n",
      "iteration: 20\n",
      "loss 0.001718\n",
      "iteration: 40\n",
      "loss 0.001802\n",
      "iteration: 0\n",
      "loss 0.000229\n"
     ]
    },
    {
     "name": "stderr",
     "output_type": "stream",
     "text": [
      "Epoch: 0793    cost: 0.143414184 \n",
      "I0629 18:02:08.416847 4574504384 feedforward_robust.py:890] Epoch: 0793    cost: 0.143414184 \n",
      "Accuracy on batch: 1.000000\n",
      "I0629 18:02:08.418337 4574504384 feedforward_robust.py:891] Accuracy on batch: 1.000000\n",
      "Epoch: 0794    cost: 0.143287823 \n",
      "I0629 18:02:08.507133 4574504384 feedforward_robust.py:890] Epoch: 0794    cost: 0.143287823 \n",
      "Accuracy on batch: 1.000000\n",
      "I0629 18:02:08.508254 4574504384 feedforward_robust.py:891] Accuracy on batch: 1.000000\n"
     ]
    },
    {
     "name": "stdout",
     "output_type": "stream",
     "text": [
      "iteration: 20\n",
      "loss 0.001691\n",
      "iteration: 40\n",
      "loss 0.001743\n",
      "iteration: 0\n",
      "loss 0.000188\n",
      "iteration: 20\n",
      "loss 0.001665\n",
      "iteration: 40\n",
      "loss 0.001684\n",
      "iteration: 0\n",
      "loss 0.000212\n",
      "iteration: 20\n",
      "loss 0.001692\n"
     ]
    },
    {
     "name": "stderr",
     "output_type": "stream",
     "text": [
      "Epoch: 0795    cost: 0.143386751 \n",
      "I0629 18:02:08.604552 4574504384 feedforward_robust.py:890] Epoch: 0795    cost: 0.143386751 \n",
      "Accuracy on batch: 1.000000\n",
      "I0629 18:02:08.606053 4574504384 feedforward_robust.py:891] Accuracy on batch: 1.000000\n",
      "Epoch: 0796    cost: 0.143335521 \n",
      "I0629 18:02:08.714939 4574504384 feedforward_robust.py:890] Epoch: 0796    cost: 0.143335521 \n",
      "Accuracy on batch: 1.000000\n",
      "I0629 18:02:08.717924 4574504384 feedforward_robust.py:891] Accuracy on batch: 1.000000\n"
     ]
    },
    {
     "name": "stdout",
     "output_type": "stream",
     "text": [
      "iteration: 40\n",
      "loss 0.001793\n",
      "iteration: 0\n",
      "loss 0.000205\n",
      "iteration: 20\n",
      "loss 0.001680\n",
      "iteration: 40\n",
      "loss 0.001749\n",
      "iteration: 0\n",
      "loss 0.000205\n",
      "iteration: 20\n",
      "loss 0.001659\n"
     ]
    },
    {
     "name": "stderr",
     "output_type": "stream",
     "text": [
      "Epoch: 0797    cost: 0.143247947 \n",
      "I0629 18:02:08.820013 4574504384 feedforward_robust.py:890] Epoch: 0797    cost: 0.143247947 \n",
      "Accuracy on batch: 1.000000\n",
      "I0629 18:02:08.821893 4574504384 feedforward_robust.py:891] Accuracy on batch: 1.000000\n",
      "Epoch: 0798    cost: 0.143244103 \n",
      "I0629 18:02:08.923184 4574504384 feedforward_robust.py:890] Epoch: 0798    cost: 0.143244103 \n",
      "Accuracy on batch: 1.000000\n",
      "I0629 18:02:08.925218 4574504384 feedforward_robust.py:891] Accuracy on batch: 1.000000\n"
     ]
    },
    {
     "name": "stdout",
     "output_type": "stream",
     "text": [
      "iteration: 40\n",
      "loss 0.001712\n",
      "iteration: 0\n",
      "loss 0.000218\n",
      "iteration: 20\n",
      "loss 0.001724\n",
      "iteration: 40\n",
      "loss 0.001767\n",
      "iteration: 0\n",
      "loss 0.000202\n",
      "iteration: 20\n",
      "loss 0.001665\n"
     ]
    },
    {
     "name": "stderr",
     "output_type": "stream",
     "text": [
      "Epoch: 0799    cost: 0.143179268 \n",
      "I0629 18:02:09.023874 4574504384 feedforward_robust.py:890] Epoch: 0799    cost: 0.143179268 \n",
      "Accuracy on batch: 1.000000\n",
      "I0629 18:02:09.025335 4574504384 feedforward_robust.py:891] Accuracy on batch: 1.000000\n",
      "Epoch: 0800    cost: 0.143117204 \n",
      "I0629 18:02:09.125617 4574504384 feedforward_robust.py:890] Epoch: 0800    cost: 0.143117204 \n",
      "Accuracy on batch: 1.000000\n",
      "I0629 18:02:09.127302 4574504384 feedforward_robust.py:891] Accuracy on batch: 1.000000\n"
     ]
    },
    {
     "name": "stdout",
     "output_type": "stream",
     "text": [
      "iteration: 40\n",
      "loss 0.001707\n",
      "iteration: 0\n",
      "loss 0.000236\n",
      "iteration: 20\n",
      "loss 0.001655\n",
      "iteration: 40\n",
      "loss 0.001680\n",
      "iteration: 0\n",
      "loss 0.000206\n",
      "iteration: 20\n",
      "loss 0.001655\n"
     ]
    },
    {
     "name": "stderr",
     "output_type": "stream",
     "text": [
      "Epoch: 0801    cost: 0.143163398 \n",
      "I0629 18:02:09.228151 4574504384 feedforward_robust.py:890] Epoch: 0801    cost: 0.143163398 \n",
      "Accuracy on batch: 1.000000\n",
      "I0629 18:02:09.229647 4574504384 feedforward_robust.py:891] Accuracy on batch: 1.000000\n",
      "Epoch: 0802    cost: 0.143098608 \n",
      "I0629 18:02:09.352267 4574504384 feedforward_robust.py:890] Epoch: 0802    cost: 0.143098608 \n",
      "Accuracy on batch: 1.000000\n",
      "I0629 18:02:09.353701 4574504384 feedforward_robust.py:891] Accuracy on batch: 1.000000\n"
     ]
    },
    {
     "name": "stdout",
     "output_type": "stream",
     "text": [
      "iteration: 40\n",
      "loss 0.001718\n",
      "iteration: 0\n",
      "loss 0.000242\n",
      "iteration: 20\n",
      "loss 0.001652\n",
      "iteration: 40\n",
      "loss 0.001702\n",
      "iteration: 0\n",
      "loss 0.000214\n"
     ]
    },
    {
     "name": "stderr",
     "output_type": "stream",
     "text": [
      "Epoch: 0803    cost: 0.143024221 \n",
      "I0629 18:02:09.467536 4574504384 feedforward_robust.py:890] Epoch: 0803    cost: 0.143024221 \n",
      "Accuracy on batch: 1.000000\n",
      "I0629 18:02:09.469516 4574504384 feedforward_robust.py:891] Accuracy on batch: 1.000000\n",
      "Epoch: 0804    cost: 0.143091574 \n",
      "I0629 18:02:09.561981 4574504384 feedforward_robust.py:890] Epoch: 0804    cost: 0.143091574 \n",
      "Accuracy on batch: 1.000000\n",
      "I0629 18:02:09.563318 4574504384 feedforward_robust.py:891] Accuracy on batch: 1.000000\n"
     ]
    },
    {
     "name": "stdout",
     "output_type": "stream",
     "text": [
      "iteration: 20\n",
      "loss 0.001639\n",
      "iteration: 40\n",
      "loss 0.001666\n",
      "iteration: 0\n",
      "loss 0.000211\n",
      "iteration: 20\n",
      "loss 0.001647\n",
      "iteration: 40\n",
      "loss 0.001738\n",
      "iteration: 0\n",
      "loss 0.000220\n",
      "iteration: 20\n",
      "loss 0.001652\n"
     ]
    },
    {
     "name": "stderr",
     "output_type": "stream",
     "text": [
      "Epoch: 0805    cost: 0.143045351 \n",
      "I0629 18:02:09.666160 4574504384 feedforward_robust.py:890] Epoch: 0805    cost: 0.143045351 \n",
      "Accuracy on batch: 1.000000\n",
      "I0629 18:02:09.667490 4574504384 feedforward_robust.py:891] Accuracy on batch: 1.000000\n",
      "Epoch: 0806    cost: 0.143090293 \n",
      "I0629 18:02:09.760517 4574504384 feedforward_robust.py:890] Epoch: 0806    cost: 0.143090293 \n",
      "Accuracy on batch: 1.000000\n",
      "I0629 18:02:09.762010 4574504384 feedforward_robust.py:891] Accuracy on batch: 1.000000\n"
     ]
    },
    {
     "name": "stdout",
     "output_type": "stream",
     "text": [
      "iteration: 40\n",
      "loss 0.001701\n",
      "iteration: 0\n",
      "loss 0.000212\n",
      "iteration: 20\n",
      "loss 0.001702\n",
      "iteration: 40\n",
      "loss 0.001770\n",
      "iteration: 0\n",
      "loss 0.000212\n",
      "iteration: 20\n",
      "loss 0.001639\n",
      "iteration: 40\n",
      "loss 0.001670\n"
     ]
    },
    {
     "name": "stderr",
     "output_type": "stream",
     "text": [
      "Epoch: 0807    cost: 0.142955169 \n",
      "I0629 18:02:09.874502 4574504384 feedforward_robust.py:890] Epoch: 0807    cost: 0.142955169 \n",
      "Accuracy on batch: 1.000000\n",
      "I0629 18:02:09.877865 4574504384 feedforward_robust.py:891] Accuracy on batch: 1.000000\n",
      "Epoch: 0808    cost: 0.142930523 \n",
      "I0629 18:02:09.989536 4574504384 feedforward_robust.py:890] Epoch: 0808    cost: 0.142930523 \n",
      "Accuracy on batch: 1.000000\n",
      "I0629 18:02:09.990987 4574504384 feedforward_robust.py:891] Accuracy on batch: 1.000000\n",
      "Epoch: 0809    cost: 0.142966092 \n",
      "I0629 18:02:10.093016 4574504384 feedforward_robust.py:890] Epoch: 0809    cost: 0.142966092 \n",
      "Accuracy on batch: 1.000000\n",
      "I0629 18:02:10.094096 4574504384 feedforward_robust.py:891] Accuracy on batch: 1.000000\n"
     ]
    },
    {
     "name": "stdout",
     "output_type": "stream",
     "text": [
      "iteration: 0\n",
      "loss 0.000253\n",
      "iteration: 20\n",
      "loss 0.001655\n",
      "iteration: 40\n",
      "loss 0.001675\n",
      "iteration: 0\n",
      "loss 0.000221\n",
      "iteration: 20\n",
      "loss 0.001672\n",
      "iteration: 40\n",
      "loss 0.001752\n"
     ]
    },
    {
     "name": "stderr",
     "output_type": "stream",
     "text": [
      "Epoch: 0810    cost: 0.142958820 \n",
      "I0629 18:02:10.198910 4574504384 feedforward_robust.py:890] Epoch: 0810    cost: 0.142958820 \n",
      "Accuracy on batch: 1.000000\n",
      "I0629 18:02:10.200459 4574504384 feedforward_robust.py:891] Accuracy on batch: 1.000000\n",
      "Epoch: 0811    cost: 0.142842889 \n",
      "I0629 18:02:10.294445 4574504384 feedforward_robust.py:890] Epoch: 0811    cost: 0.142842889 \n",
      "Accuracy on batch: 1.000000\n",
      "I0629 18:02:10.295811 4574504384 feedforward_robust.py:891] Accuracy on batch: 1.000000\n"
     ]
    },
    {
     "name": "stdout",
     "output_type": "stream",
     "text": [
      "iteration: 0\n",
      "loss 0.000233\n",
      "iteration: 20\n",
      "loss 0.001693\n",
      "iteration: 40\n",
      "loss 0.001770\n",
      "iteration: 0\n",
      "loss 0.000194\n",
      "iteration: 20\n",
      "loss 0.001630\n",
      "iteration: 40\n",
      "loss 0.001679\n"
     ]
    },
    {
     "name": "stderr",
     "output_type": "stream",
     "text": [
      "Epoch: 0812    cost: 0.142806008 \n",
      "I0629 18:02:10.404840 4574504384 feedforward_robust.py:890] Epoch: 0812    cost: 0.142806008 \n",
      "Accuracy on batch: 1.000000\n",
      "I0629 18:02:10.407989 4574504384 feedforward_robust.py:891] Accuracy on batch: 1.000000\n",
      "Epoch: 0813    cost: 0.142833292 \n",
      "I0629 18:02:10.505369 4574504384 feedforward_robust.py:890] Epoch: 0813    cost: 0.142833292 \n",
      "Accuracy on batch: 1.000000\n",
      "I0629 18:02:10.506621 4574504384 feedforward_robust.py:891] Accuracy on batch: 1.000000\n"
     ]
    },
    {
     "name": "stdout",
     "output_type": "stream",
     "text": [
      "iteration: 0\n",
      "loss 0.000232\n",
      "iteration: 20\n",
      "loss 0.001698\n",
      "iteration: 40\n",
      "loss 0.001723\n",
      "iteration: 0\n",
      "loss 0.000222\n",
      "iteration: 20\n",
      "loss 0.001655\n",
      "iteration: 40\n",
      "loss 0.001767\n",
      "iteration: 0\n",
      "loss 0.000242\n"
     ]
    },
    {
     "name": "stderr",
     "output_type": "stream",
     "text": [
      "Epoch: 0814    cost: 0.142823428 \n",
      "I0629 18:02:10.606850 4574504384 feedforward_robust.py:890] Epoch: 0814    cost: 0.142823428 \n",
      "Accuracy on batch: 1.000000\n",
      "I0629 18:02:10.608079 4574504384 feedforward_robust.py:891] Accuracy on batch: 1.000000\n",
      "Epoch: 0815    cost: 0.142692789 \n",
      "I0629 18:02:10.716356 4574504384 feedforward_robust.py:890] Epoch: 0815    cost: 0.142692789 \n",
      "Accuracy on batch: 1.000000\n",
      "I0629 18:02:10.718156 4574504384 feedforward_robust.py:891] Accuracy on batch: 1.000000\n"
     ]
    },
    {
     "name": "stdout",
     "output_type": "stream",
     "text": [
      "iteration: 20\n",
      "loss 0.001686\n",
      "iteration: 40\n",
      "loss 0.001748\n",
      "iteration: 0\n",
      "loss 0.000218\n",
      "iteration: 20\n",
      "loss 0.001622\n",
      "iteration: 40\n",
      "loss 0.001680\n",
      "iteration: 0\n",
      "loss 0.000176\n"
     ]
    },
    {
     "name": "stderr",
     "output_type": "stream",
     "text": [
      "Epoch: 0816    cost: 0.142788008 \n",
      "I0629 18:02:10.815542 4574504384 feedforward_robust.py:890] Epoch: 0816    cost: 0.142788008 \n",
      "Accuracy on batch: 1.000000\n",
      "I0629 18:02:10.817270 4574504384 feedforward_robust.py:891] Accuracy on batch: 1.000000\n",
      "Epoch: 0817    cost: 0.142638028 \n",
      "I0629 18:02:10.917457 4574504384 feedforward_robust.py:890] Epoch: 0817    cost: 0.142638028 \n",
      "Accuracy on batch: 1.000000\n",
      "I0629 18:02:10.918890 4574504384 feedforward_robust.py:891] Accuracy on batch: 1.000000\n"
     ]
    },
    {
     "name": "stdout",
     "output_type": "stream",
     "text": [
      "iteration: 20\n",
      "loss 0.001695\n",
      "iteration: 40\n",
      "loss 0.001808\n",
      "iteration: 0\n",
      "loss 0.000200\n",
      "iteration: 20\n",
      "loss 0.001644\n",
      "iteration: 40\n",
      "loss 0.001701\n",
      "iteration: 0\n",
      "loss 0.000212\n"
     ]
    },
    {
     "name": "stderr",
     "output_type": "stream",
     "text": [
      "Epoch: 0818    cost: 0.142642513 \n",
      "I0629 18:02:11.032317 4574504384 feedforward_robust.py:890] Epoch: 0818    cost: 0.142642513 \n",
      "Accuracy on batch: 1.000000\n",
      "I0629 18:02:11.034320 4574504384 feedforward_robust.py:891] Accuracy on batch: 1.000000\n",
      "Epoch: 0819    cost: 0.142533928 \n",
      "I0629 18:02:11.145668 4574504384 feedforward_robust.py:890] Epoch: 0819    cost: 0.142533928 \n",
      "Accuracy on batch: 1.000000\n",
      "I0629 18:02:11.147120 4574504384 feedforward_robust.py:891] Accuracy on batch: 1.000000\n"
     ]
    },
    {
     "name": "stdout",
     "output_type": "stream",
     "text": [
      "iteration: 20\n",
      "loss 0.001624\n",
      "iteration: 40\n",
      "loss 0.001719\n",
      "iteration: 0\n",
      "loss 0.000192\n",
      "iteration: 20\n",
      "loss 0.001620\n",
      "iteration: 40\n",
      "loss 0.001653\n",
      "iteration: 0\n",
      "loss 0.000209\n"
     ]
    },
    {
     "name": "stderr",
     "output_type": "stream",
     "text": [
      "Epoch: 0820    cost: 0.142494857 \n",
      "I0629 18:02:11.257862 4574504384 feedforward_robust.py:890] Epoch: 0820    cost: 0.142494857 \n",
      "Accuracy on batch: 1.000000\n",
      "I0629 18:02:11.259256 4574504384 feedforward_robust.py:891] Accuracy on batch: 1.000000\n",
      "Epoch: 0821    cost: 0.142581522 \n",
      "I0629 18:02:11.366980 4574504384 feedforward_robust.py:890] Epoch: 0821    cost: 0.142581522 \n",
      "Accuracy on batch: 1.000000\n",
      "I0629 18:02:11.369673 4574504384 feedforward_robust.py:891] Accuracy on batch: 1.000000\n"
     ]
    },
    {
     "name": "stdout",
     "output_type": "stream",
     "text": [
      "iteration: 20\n",
      "loss 0.001626\n",
      "iteration: 40\n",
      "loss 0.001646\n",
      "iteration: 0\n",
      "loss 0.000208\n",
      "iteration: 20\n",
      "loss 0.001663\n",
      "iteration: 40\n",
      "loss 0.001763\n",
      "iteration: 0\n",
      "loss 0.000200\n"
     ]
    },
    {
     "name": "stderr",
     "output_type": "stream",
     "text": [
      "Epoch: 0822    cost: 0.142559901 \n",
      "I0629 18:02:11.477838 4574504384 feedforward_robust.py:890] Epoch: 0822    cost: 0.142559901 \n",
      "Accuracy on batch: 1.000000\n",
      "I0629 18:02:11.479686 4574504384 feedforward_robust.py:891] Accuracy on batch: 1.000000\n",
      "Epoch: 0823    cost: 0.142389119 \n",
      "I0629 18:02:11.583668 4574504384 feedforward_robust.py:890] Epoch: 0823    cost: 0.142389119 \n",
      "Accuracy on batch: 1.000000\n",
      "I0629 18:02:11.584927 4574504384 feedforward_robust.py:891] Accuracy on batch: 1.000000\n"
     ]
    },
    {
     "name": "stdout",
     "output_type": "stream",
     "text": [
      "iteration: 20\n",
      "loss 0.001677\n",
      "iteration: 40\n",
      "loss 0.001769\n",
      "iteration: 0\n",
      "loss 0.000198\n",
      "iteration: 20\n",
      "loss 0.001621\n",
      "iteration: 40\n",
      "loss 0.001648\n",
      "iteration: 0\n",
      "loss 0.000241\n"
     ]
    },
    {
     "name": "stderr",
     "output_type": "stream",
     "text": [
      "Epoch: 0824    cost: 0.142438740 \n",
      "I0629 18:02:11.702374 4574504384 feedforward_robust.py:890] Epoch: 0824    cost: 0.142438740 \n",
      "Accuracy on batch: 1.000000\n",
      "I0629 18:02:11.703742 4574504384 feedforward_robust.py:891] Accuracy on batch: 1.000000\n",
      "Epoch: 0825    cost: 0.142462328 \n",
      "I0629 18:02:11.811222 4574504384 feedforward_robust.py:890] Epoch: 0825    cost: 0.142462328 \n",
      "Accuracy on batch: 1.000000\n",
      "I0629 18:02:11.812528 4574504384 feedforward_robust.py:891] Accuracy on batch: 1.000000\n"
     ]
    },
    {
     "name": "stdout",
     "output_type": "stream",
     "text": [
      "iteration: 20\n",
      "loss 0.001610\n",
      "iteration: 40\n",
      "loss 0.001705\n",
      "iteration: 0\n",
      "loss 0.000216\n",
      "iteration: 20\n",
      "loss 0.001641\n",
      "iteration: 40\n",
      "loss 0.001734\n",
      "iteration: 0\n",
      "loss 0.000221\n"
     ]
    },
    {
     "name": "stderr",
     "output_type": "stream",
     "text": [
      "Epoch: 0826    cost: 0.142391205 \n",
      "I0629 18:02:11.923557 4574504384 feedforward_robust.py:890] Epoch: 0826    cost: 0.142391205 \n",
      "Accuracy on batch: 1.000000\n",
      "I0629 18:02:11.925399 4574504384 feedforward_robust.py:891] Accuracy on batch: 1.000000\n",
      "Epoch: 0827    cost: 0.142324492 \n",
      "I0629 18:02:12.035532 4574504384 feedforward_robust.py:890] Epoch: 0827    cost: 0.142324492 \n",
      "Accuracy on batch: 1.000000\n",
      "I0629 18:02:12.037308 4574504384 feedforward_robust.py:891] Accuracy on batch: 1.000000\n"
     ]
    },
    {
     "name": "stdout",
     "output_type": "stream",
     "text": [
      "iteration: 20\n",
      "loss 0.001649\n",
      "iteration: 40\n",
      "loss 0.001701\n",
      "iteration: 0\n",
      "loss 0.000211\n",
      "iteration: 20\n",
      "loss 0.001630\n",
      "iteration: 40\n",
      "loss 0.001676\n"
     ]
    },
    {
     "name": "stderr",
     "output_type": "stream",
     "text": [
      "Epoch: 0828    cost: 0.142254770 \n",
      "I0629 18:02:12.149681 4574504384 feedforward_robust.py:890] Epoch: 0828    cost: 0.142254770 \n",
      "Accuracy on batch: 1.000000\n",
      "I0629 18:02:12.152110 4574504384 feedforward_robust.py:891] Accuracy on batch: 1.000000\n",
      "Epoch: 0829    cost: 0.142266363 \n",
      "I0629 18:02:12.257330 4574504384 feedforward_robust.py:890] Epoch: 0829    cost: 0.142266363 \n",
      "Accuracy on batch: 1.000000\n",
      "I0629 18:02:12.259098 4574504384 feedforward_robust.py:891] Accuracy on batch: 1.000000\n"
     ]
    },
    {
     "name": "stdout",
     "output_type": "stream",
     "text": [
      "iteration: 0\n",
      "loss 0.000209\n",
      "iteration: 20\n",
      "loss 0.001602\n",
      "iteration: 40\n",
      "loss 0.001638\n",
      "iteration: 0\n",
      "loss 0.000213\n",
      "iteration: 20\n",
      "loss 0.001602\n",
      "iteration: 40\n",
      "loss 0.001667\n"
     ]
    },
    {
     "name": "stderr",
     "output_type": "stream",
     "text": [
      "Epoch: 0830    cost: 0.142233357 \n",
      "I0629 18:02:12.375522 4574504384 feedforward_robust.py:890] Epoch: 0830    cost: 0.142233357 \n",
      "Accuracy on batch: 1.000000\n",
      "I0629 18:02:12.377931 4574504384 feedforward_robust.py:891] Accuracy on batch: 1.000000\n",
      "Epoch: 0831    cost: 0.142298087 \n",
      "I0629 18:02:12.482836 4574504384 feedforward_robust.py:890] Epoch: 0831    cost: 0.142298087 \n",
      "Accuracy on batch: 1.000000\n",
      "I0629 18:02:12.485878 4574504384 feedforward_robust.py:891] Accuracy on batch: 1.000000\n"
     ]
    },
    {
     "name": "stdout",
     "output_type": "stream",
     "text": [
      "iteration: 0\n",
      "loss 0.000208\n",
      "iteration: 20\n",
      "loss 0.001589\n",
      "iteration: 40\n",
      "loss 0.001647\n",
      "iteration: 0\n",
      "loss 0.000199\n",
      "iteration: 20\n",
      "loss 0.001648\n",
      "iteration: 40\n",
      "loss 0.001756\n"
     ]
    },
    {
     "name": "stderr",
     "output_type": "stream",
     "text": [
      "Epoch: 0832    cost: 0.142173097 \n",
      "I0629 18:02:12.580485 4574504384 feedforward_robust.py:890] Epoch: 0832    cost: 0.142173097 \n",
      "Accuracy on batch: 1.000000\n",
      "I0629 18:02:12.582900 4574504384 feedforward_robust.py:891] Accuracy on batch: 1.000000\n",
      "Epoch: 0833    cost: 0.142142549 \n",
      "I0629 18:02:12.677178 4574504384 feedforward_robust.py:890] Epoch: 0833    cost: 0.142142549 \n",
      "Accuracy on batch: 1.000000\n",
      "I0629 18:02:12.678586 4574504384 feedforward_robust.py:891] Accuracy on batch: 1.000000\n"
     ]
    },
    {
     "name": "stdout",
     "output_type": "stream",
     "text": [
      "iteration: 0\n",
      "loss 0.000201\n",
      "iteration: 20\n",
      "loss 0.001652\n",
      "iteration: 40\n",
      "loss 0.001702\n",
      "iteration: 0\n",
      "loss 0.000215\n",
      "iteration: 20\n",
      "loss 0.001628\n",
      "iteration: 40\n",
      "loss 0.001676\n",
      "iteration: 0\n",
      "loss 0.000198\n"
     ]
    },
    {
     "name": "stderr",
     "output_type": "stream",
     "text": [
      "Epoch: 0834    cost: 0.142146170 \n",
      "I0629 18:02:12.780285 4574504384 feedforward_robust.py:890] Epoch: 0834    cost: 0.142146170 \n",
      "Accuracy on batch: 1.000000\n",
      "I0629 18:02:12.781960 4574504384 feedforward_robust.py:891] Accuracy on batch: 1.000000\n",
      "Epoch: 0835    cost: 0.142063722 \n",
      "I0629 18:02:12.888478 4574504384 feedforward_robust.py:890] Epoch: 0835    cost: 0.142063722 \n",
      "Accuracy on batch: 1.000000\n",
      "I0629 18:02:12.893692 4574504384 feedforward_robust.py:891] Accuracy on batch: 1.000000\n"
     ]
    },
    {
     "name": "stdout",
     "output_type": "stream",
     "text": [
      "iteration: 20\n",
      "loss 0.001593\n",
      "iteration: 40\n",
      "loss 0.001674\n",
      "iteration: 0\n",
      "loss 0.000211\n",
      "iteration: 20\n",
      "loss 0.001594\n",
      "iteration: 40\n",
      "loss 0.001633\n",
      "iteration: 0\n",
      "loss 0.000224\n"
     ]
    },
    {
     "name": "stderr",
     "output_type": "stream",
     "text": [
      "Epoch: 0836    cost: 0.142065927 \n",
      "I0629 18:02:13.011345 4574504384 feedforward_robust.py:890] Epoch: 0836    cost: 0.142065927 \n",
      "Accuracy on batch: 1.000000\n",
      "I0629 18:02:13.012784 4574504384 feedforward_robust.py:891] Accuracy on batch: 1.000000\n",
      "Epoch: 0837    cost: 0.142058417 \n",
      "I0629 18:02:13.129318 4574504384 feedforward_robust.py:890] Epoch: 0837    cost: 0.142058417 \n",
      "Accuracy on batch: 1.000000\n",
      "I0629 18:02:13.131255 4574504384 feedforward_robust.py:891] Accuracy on batch: 1.000000\n"
     ]
    },
    {
     "name": "stdout",
     "output_type": "stream",
     "text": [
      "iteration: 20\n",
      "loss 0.001630\n",
      "iteration: 40\n",
      "loss 0.001668\n",
      "iteration: 0\n",
      "loss 0.000188\n",
      "iteration: 20\n",
      "loss 0.001593\n",
      "iteration: 40\n",
      "loss 0.001698\n"
     ]
    },
    {
     "name": "stderr",
     "output_type": "stream",
     "text": [
      "Epoch: 0838    cost: 0.142025843 \n",
      "I0629 18:02:13.244446 4574504384 feedforward_robust.py:890] Epoch: 0838    cost: 0.142025843 \n",
      "Accuracy on batch: 1.000000\n",
      "I0629 18:02:13.246024 4574504384 feedforward_robust.py:891] Accuracy on batch: 1.000000\n",
      "Epoch: 0839    cost: 0.141942829 \n",
      "I0629 18:02:13.354642 4574504384 feedforward_robust.py:890] Epoch: 0839    cost: 0.141942829 \n",
      "Accuracy on batch: 1.000000\n",
      "I0629 18:02:13.355844 4574504384 feedforward_robust.py:891] Accuracy on batch: 1.000000\n"
     ]
    },
    {
     "name": "stdout",
     "output_type": "stream",
     "text": [
      "iteration: 0\n",
      "loss 0.000212\n",
      "iteration: 20\n",
      "loss 0.001577\n",
      "iteration: 40\n",
      "loss 0.001648\n",
      "iteration: 0\n",
      "loss 0.000188\n",
      "iteration: 20\n",
      "loss 0.001569\n",
      "iteration: 40\n",
      "loss 0.001618\n"
     ]
    },
    {
     "name": "stderr",
     "output_type": "stream",
     "text": [
      "Epoch: 0840    cost: 0.142039865 \n",
      "I0629 18:02:13.471212 4574504384 feedforward_robust.py:890] Epoch: 0840    cost: 0.142039865 \n",
      "Accuracy on batch: 1.000000\n",
      "I0629 18:02:13.472619 4574504384 feedforward_robust.py:891] Accuracy on batch: 1.000000\n",
      "Epoch: 0841    cost: 0.141931862 \n",
      "I0629 18:02:13.583877 4574504384 feedforward_robust.py:890] Epoch: 0841    cost: 0.141931862 \n",
      "Accuracy on batch: 1.000000\n",
      "I0629 18:02:13.586316 4574504384 feedforward_robust.py:891] Accuracy on batch: 1.000000\n"
     ]
    },
    {
     "name": "stdout",
     "output_type": "stream",
     "text": [
      "iteration: 0\n",
      "loss 0.000212\n",
      "iteration: 20\n",
      "loss 0.001650\n",
      "iteration: 40\n",
      "loss 0.001734\n",
      "iteration: 0\n",
      "loss 0.000221\n",
      "iteration: 20\n",
      "loss 0.001591\n",
      "iteration: 40\n",
      "loss 0.001650\n"
     ]
    },
    {
     "name": "stderr",
     "output_type": "stream",
     "text": [
      "Epoch: 0842    cost: 0.141925111 \n",
      "I0629 18:02:13.698066 4574504384 feedforward_robust.py:890] Epoch: 0842    cost: 0.141925111 \n",
      "Accuracy on batch: 1.000000\n",
      "I0629 18:02:13.699414 4574504384 feedforward_robust.py:891] Accuracy on batch: 1.000000\n",
      "Epoch: 0843    cost: 0.141952261 \n",
      "I0629 18:02:13.795717 4574504384 feedforward_robust.py:890] Epoch: 0843    cost: 0.141952261 \n",
      "Accuracy on batch: 1.000000\n",
      "I0629 18:02:13.796905 4574504384 feedforward_robust.py:891] Accuracy on batch: 1.000000\n"
     ]
    },
    {
     "name": "stdout",
     "output_type": "stream",
     "text": [
      "iteration: 0\n",
      "loss 0.000196\n",
      "iteration: 20\n",
      "loss 0.001606\n",
      "iteration: 40\n",
      "loss 0.001682\n",
      "iteration: 0\n",
      "loss 0.000215\n",
      "iteration: 20\n",
      "loss 0.001600\n",
      "iteration: 40\n",
      "loss 0.001732\n"
     ]
    },
    {
     "name": "stderr",
     "output_type": "stream",
     "text": [
      "Epoch: 0844    cost: 0.141926199 \n",
      "I0629 18:02:13.897161 4574504384 feedforward_robust.py:890] Epoch: 0844    cost: 0.141926199 \n",
      "Accuracy on batch: 1.000000\n",
      "I0629 18:02:13.898494 4574504384 feedforward_robust.py:891] Accuracy on batch: 1.000000\n",
      "Epoch: 0845    cost: 0.141785756 \n",
      "I0629 18:02:13.993222 4574504384 feedforward_robust.py:890] Epoch: 0845    cost: 0.141785756 \n",
      "Accuracy on batch: 1.000000\n",
      "I0629 18:02:13.994480 4574504384 feedforward_robust.py:891] Accuracy on batch: 1.000000\n"
     ]
    },
    {
     "name": "stdout",
     "output_type": "stream",
     "text": [
      "iteration: 0\n",
      "loss 0.000221\n",
      "iteration: 20\n",
      "loss 0.001608\n",
      "iteration: 40\n",
      "loss 0.001748\n",
      "iteration: 0\n",
      "loss 0.000187\n",
      "iteration: 20\n",
      "loss 0.001548\n",
      "iteration: 40\n",
      "loss 0.001624\n",
      "iteration: 0\n",
      "loss 0.000195\n"
     ]
    },
    {
     "name": "stderr",
     "output_type": "stream",
     "text": [
      "Epoch: 0846    cost: 0.141675085 \n",
      "I0629 18:02:14.111930 4574504384 feedforward_robust.py:890] Epoch: 0846    cost: 0.141675085 \n",
      "Accuracy on batch: 1.000000\n",
      "I0629 18:02:14.113182 4574504384 feedforward_robust.py:891] Accuracy on batch: 1.000000\n",
      "Epoch: 0847    cost: 0.141720057 \n",
      "I0629 18:02:14.226341 4574504384 feedforward_robust.py:890] Epoch: 0847    cost: 0.141720057 \n",
      "Accuracy on batch: 1.000000\n",
      "I0629 18:02:14.227519 4574504384 feedforward_robust.py:891] Accuracy on batch: 1.000000\n"
     ]
    },
    {
     "name": "stdout",
     "output_type": "stream",
     "text": [
      "iteration: 20\n",
      "loss 0.001546\n",
      "iteration: 40\n",
      "loss 0.001581\n",
      "iteration: 0\n",
      "loss 0.000200\n",
      "iteration: 20\n",
      "loss 0.001615\n",
      "iteration: 40\n",
      "loss 0.001656\n"
     ]
    },
    {
     "name": "stderr",
     "output_type": "stream",
     "text": [
      "Epoch: 0848    cost: 0.141660184 \n",
      "I0629 18:02:14.342386 4574504384 feedforward_robust.py:890] Epoch: 0848    cost: 0.141660184 \n",
      "Accuracy on batch: 1.000000\n",
      "I0629 18:02:14.343598 4574504384 feedforward_robust.py:891] Accuracy on batch: 1.000000\n",
      "Epoch: 0849    cost: 0.141670108 \n",
      "I0629 18:02:14.452612 4574504384 feedforward_robust.py:890] Epoch: 0849    cost: 0.141670108 \n",
      "Accuracy on batch: 1.000000\n",
      "I0629 18:02:14.453984 4574504384 feedforward_robust.py:891] Accuracy on batch: 1.000000\n"
     ]
    },
    {
     "name": "stdout",
     "output_type": "stream",
     "text": [
      "iteration: 0\n",
      "loss 0.000207\n",
      "iteration: 20\n",
      "loss 0.001617\n",
      "iteration: 40\n",
      "loss 0.001634\n",
      "iteration: 0\n",
      "loss 0.000197\n",
      "iteration: 20\n",
      "loss 0.001572\n",
      "iteration: 40\n",
      "loss 0.001652\n"
     ]
    },
    {
     "name": "stderr",
     "output_type": "stream",
     "text": [
      "Epoch: 0850    cost: 0.141675696 \n",
      "I0629 18:02:14.565274 4574504384 feedforward_robust.py:890] Epoch: 0850    cost: 0.141675696 \n",
      "Accuracy on batch: 1.000000\n",
      "I0629 18:02:14.567448 4574504384 feedforward_robust.py:891] Accuracy on batch: 1.000000\n",
      "Epoch: 0851    cost: 0.141561896 \n",
      "I0629 18:02:14.677585 4574504384 feedforward_robust.py:890] Epoch: 0851    cost: 0.141561896 \n",
      "Accuracy on batch: 1.000000\n",
      "I0629 18:02:14.678821 4574504384 feedforward_robust.py:891] Accuracy on batch: 1.000000\n"
     ]
    },
    {
     "name": "stdout",
     "output_type": "stream",
     "text": [
      "iteration: 0\n",
      "loss 0.000204\n",
      "iteration: 20\n",
      "loss 0.001595\n",
      "iteration: 40\n",
      "loss 0.001675\n",
      "iteration: 0\n",
      "loss 0.000224\n",
      "iteration: 20\n",
      "loss 0.001560\n",
      "iteration: 40\n",
      "loss 0.001608\n"
     ]
    },
    {
     "name": "stderr",
     "output_type": "stream",
     "text": [
      "Epoch: 0852    cost: 0.141502857 \n",
      "I0629 18:02:14.791868 4574504384 feedforward_robust.py:890] Epoch: 0852    cost: 0.141502857 \n",
      "Accuracy on batch: 1.000000\n",
      "I0629 18:02:14.793178 4574504384 feedforward_robust.py:891] Accuracy on batch: 1.000000\n",
      "Epoch: 0853    cost: 0.141483098 \n",
      "I0629 18:02:14.906553 4574504384 feedforward_robust.py:890] Epoch: 0853    cost: 0.141483098 \n",
      "Accuracy on batch: 1.000000\n",
      "I0629 18:02:14.908197 4574504384 feedforward_robust.py:891] Accuracy on batch: 1.000000\n"
     ]
    },
    {
     "name": "stdout",
     "output_type": "stream",
     "text": [
      "iteration: 0\n",
      "loss 0.000224\n",
      "iteration: 20\n",
      "loss 0.001556\n",
      "iteration: 40\n",
      "loss 0.001572\n",
      "iteration: 0\n",
      "loss 0.000208\n",
      "iteration: 20\n",
      "loss 0.001549\n",
      "iteration: 40\n",
      "loss 0.001585\n"
     ]
    },
    {
     "name": "stderr",
     "output_type": "stream",
     "text": [
      "Epoch: 0854    cost: 0.141518354 \n",
      "I0629 18:02:15.003934 4574504384 feedforward_robust.py:890] Epoch: 0854    cost: 0.141518354 \n",
      "Accuracy on batch: 1.000000\n",
      "I0629 18:02:15.005197 4574504384 feedforward_robust.py:891] Accuracy on batch: 1.000000\n",
      "Epoch: 0855    cost: 0.141443893 \n",
      "I0629 18:02:15.102764 4574504384 feedforward_robust.py:890] Epoch: 0855    cost: 0.141443893 \n",
      "Accuracy on batch: 1.000000\n",
      "I0629 18:02:15.103962 4574504384 feedforward_robust.py:891] Accuracy on batch: 1.000000\n"
     ]
    },
    {
     "name": "stdout",
     "output_type": "stream",
     "text": [
      "iteration: 0\n",
      "loss 0.000203\n",
      "iteration: 20\n",
      "loss 0.001547\n",
      "iteration: 40\n",
      "loss 0.001639\n",
      "iteration: 0\n",
      "loss 0.000212\n",
      "iteration: 20\n",
      "loss 0.001554\n",
      "iteration: 40\n",
      "loss 0.001607\n",
      "iteration: 0\n",
      "loss 0.000199\n"
     ]
    },
    {
     "name": "stderr",
     "output_type": "stream",
     "text": [
      "Epoch: 0856    cost: 0.141519442 \n",
      "I0629 18:02:15.205156 4574504384 feedforward_robust.py:890] Epoch: 0856    cost: 0.141519442 \n",
      "Accuracy on batch: 1.000000\n",
      "I0629 18:02:15.206412 4574504384 feedforward_robust.py:891] Accuracy on batch: 1.000000\n",
      "Epoch: 0857    cost: 0.141576201 \n",
      "I0629 18:02:15.313733 4574504384 feedforward_robust.py:890] Epoch: 0857    cost: 0.141576201 \n",
      "Accuracy on batch: 1.000000\n",
      "I0629 18:02:15.315054 4574504384 feedforward_robust.py:891] Accuracy on batch: 1.000000\n"
     ]
    },
    {
     "name": "stdout",
     "output_type": "stream",
     "text": [
      "iteration: 20\n",
      "loss 0.001601\n",
      "iteration: 40\n",
      "loss 0.001694\n",
      "iteration: 0\n",
      "loss 0.000226\n",
      "iteration: 20\n",
      "loss 0.001595\n",
      "iteration: 40\n",
      "loss 0.001744\n"
     ]
    },
    {
     "name": "stderr",
     "output_type": "stream",
     "text": [
      "Epoch: 0858    cost: 0.141437575 \n",
      "I0629 18:02:15.434021 4574504384 feedforward_robust.py:890] Epoch: 0858    cost: 0.141437575 \n",
      "Accuracy on batch: 1.000000\n",
      "I0629 18:02:15.438472 4574504384 feedforward_robust.py:891] Accuracy on batch: 1.000000\n",
      "Epoch: 0859    cost: 0.141364411 \n",
      "I0629 18:02:15.552760 4574504384 feedforward_robust.py:890] Epoch: 0859    cost: 0.141364411 \n",
      "Accuracy on batch: 1.000000\n",
      "I0629 18:02:15.557337 4574504384 feedforward_robust.py:891] Accuracy on batch: 1.000000\n"
     ]
    },
    {
     "name": "stdout",
     "output_type": "stream",
     "text": [
      "iteration: 0\n",
      "loss 0.000217\n",
      "iteration: 20\n",
      "loss 0.001607\n",
      "iteration: 40\n",
      "loss 0.001687\n",
      "iteration: 0\n",
      "loss 0.000205\n",
      "iteration: 20\n",
      "loss 0.001544\n",
      "iteration: 40\n",
      "loss 0.001640\n"
     ]
    },
    {
     "name": "stderr",
     "output_type": "stream",
     "text": [
      "Epoch: 0860    cost: 0.141462699 \n",
      "I0629 18:02:15.659695 4574504384 feedforward_robust.py:890] Epoch: 0860    cost: 0.141462699 \n",
      "Accuracy on batch: 1.000000\n",
      "I0629 18:02:15.661576 4574504384 feedforward_robust.py:891] Accuracy on batch: 1.000000\n",
      "Epoch: 0861    cost: 0.141204759 \n",
      "I0629 18:02:15.762266 4574504384 feedforward_robust.py:890] Epoch: 0861    cost: 0.141204759 \n",
      "Accuracy on batch: 1.000000\n",
      "I0629 18:02:15.763586 4574504384 feedforward_robust.py:891] Accuracy on batch: 1.000000\n"
     ]
    },
    {
     "name": "stdout",
     "output_type": "stream",
     "text": [
      "iteration: 0\n",
      "loss 0.000195\n",
      "iteration: 20\n",
      "loss 0.001609\n",
      "iteration: 40\n",
      "loss 0.001738\n",
      "iteration: 0\n",
      "loss 0.000190\n",
      "iteration: 20\n",
      "loss 0.001528\n",
      "iteration: 40\n",
      "loss 0.001556\n"
     ]
    },
    {
     "name": "stderr",
     "output_type": "stream",
     "text": [
      "Epoch: 0862    cost: 0.141322866 \n",
      "I0629 18:02:15.864485 4574504384 feedforward_robust.py:890] Epoch: 0862    cost: 0.141322866 \n",
      "Accuracy on batch: 1.000000\n",
      "I0629 18:02:15.865826 4574504384 feedforward_robust.py:891] Accuracy on batch: 1.000000\n",
      "Epoch: 0863    cost: 0.141299799 \n",
      "I0629 18:02:15.963629 4574504384 feedforward_robust.py:890] Epoch: 0863    cost: 0.141299799 \n",
      "Accuracy on batch: 1.000000\n",
      "I0629 18:02:15.964730 4574504384 feedforward_robust.py:891] Accuracy on batch: 1.000000\n"
     ]
    },
    {
     "name": "stdout",
     "output_type": "stream",
     "text": [
      "iteration: 0\n",
      "loss 0.000177\n",
      "iteration: 20\n",
      "loss 0.001573\n",
      "iteration: 40\n",
      "loss 0.001686\n",
      "iteration: 0\n",
      "loss 0.000220\n",
      "iteration: 20\n",
      "loss 0.001574\n",
      "iteration: 40\n",
      "loss 0.001669\n",
      "iteration: 0\n",
      "loss 0.000190\n"
     ]
    },
    {
     "name": "stderr",
     "output_type": "stream",
     "text": [
      "Epoch: 0864    cost: 0.141117096 \n",
      "I0629 18:02:16.062290 4574504384 feedforward_robust.py:890] Epoch: 0864    cost: 0.141117096 \n",
      "Accuracy on batch: 1.000000\n",
      "I0629 18:02:16.063471 4574504384 feedforward_robust.py:891] Accuracy on batch: 1.000000\n",
      "Epoch: 0865    cost: 0.141129002 \n",
      "I0629 18:02:16.167049 4574504384 feedforward_robust.py:890] Epoch: 0865    cost: 0.141129002 \n",
      "Accuracy on batch: 1.000000\n",
      "I0629 18:02:16.168357 4574504384 feedforward_robust.py:891] Accuracy on batch: 1.000000\n"
     ]
    },
    {
     "name": "stdout",
     "output_type": "stream",
     "text": [
      "iteration: 20\n",
      "loss 0.001523\n",
      "iteration: 40\n",
      "loss 0.001559\n",
      "iteration: 0\n",
      "loss 0.000205\n",
      "iteration: 20\n",
      "loss 0.001525\n",
      "iteration: 40\n",
      "loss 0.001591\n",
      "iteration: 0\n",
      "loss 0.000184\n"
     ]
    },
    {
     "name": "stderr",
     "output_type": "stream",
     "text": [
      "Epoch: 0866    cost: 0.141136095 \n",
      "I0629 18:02:16.282814 4574504384 feedforward_robust.py:890] Epoch: 0866    cost: 0.141136095 \n",
      "Accuracy on batch: 1.000000\n",
      "I0629 18:02:16.285732 4574504384 feedforward_robust.py:891] Accuracy on batch: 1.000000\n",
      "Epoch: 0867    cost: 0.141097695 \n",
      "I0629 18:02:16.394862 4574504384 feedforward_robust.py:890] Epoch: 0867    cost: 0.141097695 \n",
      "Accuracy on batch: 1.000000\n",
      "I0629 18:02:16.396368 4574504384 feedforward_robust.py:891] Accuracy on batch: 1.000000\n"
     ]
    },
    {
     "name": "stdout",
     "output_type": "stream",
     "text": [
      "iteration: 20\n",
      "loss 0.001516\n",
      "iteration: 40\n",
      "loss 0.001606\n",
      "iteration: 0\n",
      "loss 0.000213\n",
      "iteration: 20\n",
      "loss 0.001535\n",
      "iteration: 40\n",
      "loss 0.001590\n"
     ]
    },
    {
     "name": "stderr",
     "output_type": "stream",
     "text": [
      "Epoch: 0868    cost: 0.141132638 \n",
      "I0629 18:02:16.507071 4574504384 feedforward_robust.py:890] Epoch: 0868    cost: 0.141132638 \n",
      "Accuracy on batch: 1.000000\n",
      "I0629 18:02:16.508315 4574504384 feedforward_robust.py:891] Accuracy on batch: 1.000000\n",
      "Epoch: 0869    cost: 0.141029418 \n",
      "I0629 18:02:16.613217 4574504384 feedforward_robust.py:890] Epoch: 0869    cost: 0.141029418 \n",
      "Accuracy on batch: 1.000000\n",
      "I0629 18:02:16.614385 4574504384 feedforward_robust.py:891] Accuracy on batch: 1.000000\n"
     ]
    },
    {
     "name": "stdout",
     "output_type": "stream",
     "text": [
      "iteration: 0\n",
      "loss 0.000201\n",
      "iteration: 20\n",
      "loss 0.001517\n",
      "iteration: 40\n",
      "loss 0.001652\n",
      "iteration: 0\n",
      "loss 0.000180\n",
      "iteration: 20\n",
      "loss 0.001562\n",
      "iteration: 40\n",
      "loss 0.001599\n"
     ]
    },
    {
     "name": "stderr",
     "output_type": "stream",
     "text": [
      "Epoch: 0870    cost: 0.140983030 \n",
      "I0629 18:02:16.727346 4574504384 feedforward_robust.py:890] Epoch: 0870    cost: 0.140983030 \n",
      "Accuracy on batch: 1.000000\n",
      "I0629 18:02:16.728835 4574504384 feedforward_robust.py:891] Accuracy on batch: 1.000000\n",
      "Epoch: 0871    cost: 0.141064018 \n",
      "I0629 18:02:16.840039 4574504384 feedforward_robust.py:890] Epoch: 0871    cost: 0.141064018 \n",
      "Accuracy on batch: 1.000000\n",
      "I0629 18:02:16.841234 4574504384 feedforward_robust.py:891] Accuracy on batch: 1.000000\n"
     ]
    },
    {
     "name": "stdout",
     "output_type": "stream",
     "text": [
      "iteration: 0\n",
      "loss 0.000194\n",
      "iteration: 20\n",
      "loss 0.001526\n",
      "iteration: 40\n",
      "loss 0.001558\n",
      "iteration: 0\n",
      "loss 0.000191\n",
      "iteration: 20\n",
      "loss 0.001585\n",
      "iteration: 40\n",
      "loss 0.001679\n"
     ]
    },
    {
     "name": "stderr",
     "output_type": "stream",
     "text": [
      "Epoch: 0872    cost: 0.140905082 \n",
      "I0629 18:02:16.957989 4574504384 feedforward_robust.py:890] Epoch: 0872    cost: 0.140905082 \n",
      "Accuracy on batch: 1.000000\n",
      "I0629 18:02:16.959227 4574504384 feedforward_robust.py:891] Accuracy on batch: 1.000000\n",
      "Epoch: 0873    cost: 0.140937045 \n",
      "I0629 18:02:17.077273 4574504384 feedforward_robust.py:890] Epoch: 0873    cost: 0.140937045 \n",
      "Accuracy on batch: 1.000000\n",
      "I0629 18:02:17.078794 4574504384 feedforward_robust.py:891] Accuracy on batch: 1.000000\n"
     ]
    },
    {
     "name": "stdout",
     "output_type": "stream",
     "text": [
      "iteration: 0\n",
      "loss 0.000183\n",
      "iteration: 20\n",
      "loss 0.001531\n",
      "iteration: 40\n",
      "loss 0.001587\n",
      "iteration: 0\n",
      "loss 0.000213\n",
      "iteration: 20\n",
      "loss 0.001571\n",
      "iteration: 40\n",
      "loss 0.001621\n"
     ]
    },
    {
     "name": "stderr",
     "output_type": "stream",
     "text": [
      "Epoch: 0874    cost: 0.140843064 \n",
      "I0629 18:02:17.181087 4574504384 feedforward_robust.py:890] Epoch: 0874    cost: 0.140843064 \n",
      "Accuracy on batch: 1.000000\n",
      "I0629 18:02:17.182221 4574504384 feedforward_robust.py:891] Accuracy on batch: 1.000000\n",
      "Epoch: 0875    cost: 0.140925854 \n",
      "I0629 18:02:17.277120 4574504384 feedforward_robust.py:890] Epoch: 0875    cost: 0.140925854 \n",
      "Accuracy on batch: 1.000000\n",
      "I0629 18:02:17.278211 4574504384 feedforward_robust.py:891] Accuracy on batch: 1.000000\n"
     ]
    },
    {
     "name": "stdout",
     "output_type": "stream",
     "text": [
      "iteration: 0\n",
      "loss 0.000214\n",
      "iteration: 20\n",
      "loss 0.001527\n",
      "iteration: 40\n",
      "loss 0.001588\n",
      "iteration: 0\n",
      "loss 0.000193\n",
      "iteration: 20\n",
      "loss 0.001551\n",
      "iteration: 40\n",
      "loss 0.001675\n",
      "iteration: 0\n",
      "loss 0.000178\n"
     ]
    },
    {
     "name": "stderr",
     "output_type": "stream",
     "text": [
      "Epoch: 0876    cost: 0.140804574 \n",
      "I0629 18:02:17.376154 4574504384 feedforward_robust.py:890] Epoch: 0876    cost: 0.140804574 \n",
      "Accuracy on batch: 1.000000\n",
      "I0629 18:02:17.377432 4574504384 feedforward_robust.py:891] Accuracy on batch: 1.000000\n",
      "Epoch: 0877    cost: 0.140809804 \n",
      "I0629 18:02:17.471366 4574504384 feedforward_robust.py:890] Epoch: 0877    cost: 0.140809804 \n",
      "Accuracy on batch: 1.000000\n",
      "I0629 18:02:17.472622 4574504384 feedforward_robust.py:891] Accuracy on batch: 1.000000\n"
     ]
    },
    {
     "name": "stdout",
     "output_type": "stream",
     "text": [
      "iteration: 20\n",
      "loss 0.001504\n",
      "iteration: 40\n",
      "loss 0.001564\n",
      "iteration: 0\n",
      "loss 0.000198\n",
      "iteration: 20\n",
      "loss 0.001499\n",
      "iteration: 40\n",
      "loss 0.001589\n",
      "iteration: 0\n",
      "loss 0.000202\n",
      "iteration: 20\n",
      "loss 0.001558\n"
     ]
    },
    {
     "name": "stderr",
     "output_type": "stream",
     "text": [
      "Epoch: 0878    cost: 0.140816212 \n",
      "I0629 18:02:17.572614 4574504384 feedforward_robust.py:890] Epoch: 0878    cost: 0.140816212 \n",
      "Accuracy on batch: 1.000000\n",
      "I0629 18:02:17.573969 4574504384 feedforward_robust.py:891] Accuracy on batch: 1.000000\n",
      "Epoch: 0879    cost: 0.140701666 \n",
      "I0629 18:02:17.676162 4574504384 feedforward_robust.py:890] Epoch: 0879    cost: 0.140701666 \n",
      "Accuracy on batch: 1.000000\n",
      "I0629 18:02:17.677838 4574504384 feedforward_robust.py:891] Accuracy on batch: 1.000000\n"
     ]
    },
    {
     "name": "stdout",
     "output_type": "stream",
     "text": [
      "iteration: 40\n",
      "loss 0.001626\n",
      "iteration: 0\n",
      "loss 0.000171\n",
      "iteration: 20\n",
      "loss 0.001526\n",
      "iteration: 40\n",
      "loss 0.001565\n",
      "iteration: 0\n",
      "loss 0.000195\n",
      "iteration: 20\n",
      "loss 0.001525\n"
     ]
    },
    {
     "name": "stderr",
     "output_type": "stream",
     "text": [
      "Epoch: 0880    cost: 0.140698358 \n",
      "I0629 18:02:17.776453 4574504384 feedforward_robust.py:890] Epoch: 0880    cost: 0.140698358 \n",
      "Accuracy on batch: 1.000000\n",
      "I0629 18:02:17.777840 4574504384 feedforward_robust.py:891] Accuracy on batch: 1.000000\n",
      "Epoch: 0881    cost: 0.140717670 \n",
      "I0629 18:02:17.879396 4574504384 feedforward_robust.py:890] Epoch: 0881    cost: 0.140717670 \n",
      "Accuracy on batch: 1.000000\n",
      "I0629 18:02:17.880915 4574504384 feedforward_robust.py:891] Accuracy on batch: 1.000000\n"
     ]
    },
    {
     "name": "stdout",
     "output_type": "stream",
     "text": [
      "iteration: 40\n",
      "loss 0.001573\n",
      "iteration: 0\n",
      "loss 0.000205\n",
      "iteration: 20\n",
      "loss 0.001505\n",
      "iteration: 40\n",
      "loss 0.001568\n",
      "iteration: 0\n",
      "loss 0.000195\n",
      "iteration: 20\n",
      "loss 0.001523\n"
     ]
    },
    {
     "name": "stderr",
     "output_type": "stream",
     "text": [
      "Epoch: 0882    cost: 0.140619606 \n",
      "I0629 18:02:17.976751 4574504384 feedforward_robust.py:890] Epoch: 0882    cost: 0.140619606 \n",
      "Accuracy on batch: 1.000000\n",
      "I0629 18:02:17.978177 4574504384 feedforward_robust.py:891] Accuracy on batch: 1.000000\n",
      "Epoch: 0883    cost: 0.140547335 \n",
      "I0629 18:02:18.075278 4574504384 feedforward_robust.py:890] Epoch: 0883    cost: 0.140547335 \n",
      "Accuracy on batch: 1.000000\n",
      "I0629 18:02:18.076405 4574504384 feedforward_robust.py:891] Accuracy on batch: 1.000000\n"
     ]
    },
    {
     "name": "stdout",
     "output_type": "stream",
     "text": [
      "iteration: 40\n",
      "loss 0.001566\n",
      "iteration: 0\n",
      "loss 0.000175\n",
      "iteration: 20\n",
      "loss 0.001488\n",
      "iteration: 40\n",
      "loss 0.001518\n",
      "iteration: 0\n",
      "loss 0.000210\n",
      "iteration: 20\n",
      "loss 0.001500\n",
      "iteration: 40\n",
      "loss 0.001605\n"
     ]
    },
    {
     "name": "stderr",
     "output_type": "stream",
     "text": [
      "Epoch: 0884    cost: 0.140634045 \n",
      "I0629 18:02:18.177243 4574504384 feedforward_robust.py:890] Epoch: 0884    cost: 0.140634045 \n",
      "Accuracy on batch: 1.000000\n",
      "I0629 18:02:18.178807 4574504384 feedforward_robust.py:891] Accuracy on batch: 1.000000\n",
      "Epoch: 0885    cost: 0.140557498 \n",
      "I0629 18:02:18.274715 4574504384 feedforward_robust.py:890] Epoch: 0885    cost: 0.140557498 \n",
      "Accuracy on batch: 1.000000\n",
      "I0629 18:02:18.275813 4574504384 feedforward_robust.py:891] Accuracy on batch: 1.000000\n",
      "Epoch: 0886    cost: 0.140596703 \n",
      "I0629 18:02:18.370287 4574504384 feedforward_robust.py:890] Epoch: 0886    cost: 0.140596703 \n",
      "Accuracy on batch: 1.000000\n",
      "I0629 18:02:18.371663 4574504384 feedforward_robust.py:891] Accuracy on batch: 1.000000\n"
     ]
    },
    {
     "name": "stdout",
     "output_type": "stream",
     "text": [
      "iteration: 0\n",
      "loss 0.000200\n",
      "iteration: 20\n",
      "loss 0.001495\n",
      "iteration: 40\n",
      "loss 0.001560\n",
      "iteration: 0\n",
      "loss 0.000203\n",
      "iteration: 20\n",
      "loss 0.001498\n",
      "iteration: 40\n",
      "loss 0.001638\n",
      "iteration: 0\n",
      "loss 0.000177\n"
     ]
    },
    {
     "name": "stderr",
     "output_type": "stream",
     "text": [
      "Epoch: 0887    cost: 0.140432224 \n",
      "I0629 18:02:18.472400 4574504384 feedforward_robust.py:890] Epoch: 0887    cost: 0.140432224 \n",
      "Accuracy on batch: 1.000000\n",
      "I0629 18:02:18.473743 4574504384 feedforward_robust.py:891] Accuracy on batch: 1.000000\n",
      "Epoch: 0888    cost: 0.140394866 \n",
      "I0629 18:02:18.565966 4574504384 feedforward_robust.py:890] Epoch: 0888    cost: 0.140394866 \n",
      "Accuracy on batch: 1.000000\n",
      "I0629 18:02:18.567368 4574504384 feedforward_robust.py:891] Accuracy on batch: 1.000000\n"
     ]
    },
    {
     "name": "stdout",
     "output_type": "stream",
     "text": [
      "iteration: 20\n",
      "loss 0.001484\n",
      "iteration: 40\n",
      "loss 0.001518\n",
      "iteration: 0\n",
      "loss 0.000195\n",
      "iteration: 20\n",
      "loss 0.001489\n",
      "iteration: 40\n",
      "loss 0.001511\n",
      "iteration: 0\n",
      "loss 0.000169\n",
      "iteration: 20\n",
      "loss 0.001485\n"
     ]
    },
    {
     "name": "stderr",
     "output_type": "stream",
     "text": [
      "Epoch: 0889    cost: 0.140398517 \n",
      "I0629 18:02:18.679737 4574504384 feedforward_robust.py:890] Epoch: 0889    cost: 0.140398517 \n",
      "Accuracy on batch: 1.000000\n",
      "I0629 18:02:18.680646 4574504384 feedforward_robust.py:891] Accuracy on batch: 1.000000\n",
      "Epoch: 0890    cost: 0.140411630 \n",
      "I0629 18:02:18.799186 4574504384 feedforward_robust.py:890] Epoch: 0890    cost: 0.140411630 \n",
      "Accuracy on batch: 1.000000\n",
      "I0629 18:02:18.801789 4574504384 feedforward_robust.py:891] Accuracy on batch: 1.000000\n"
     ]
    },
    {
     "name": "stdout",
     "output_type": "stream",
     "text": [
      "iteration: 40\n",
      "loss 0.001549\n",
      "iteration: 0\n",
      "loss 0.000176\n",
      "iteration: 20\n",
      "loss 0.001511\n",
      "iteration: 40\n",
      "loss 0.001579\n",
      "iteration: 0\n",
      "loss 0.000184\n"
     ]
    },
    {
     "name": "stderr",
     "output_type": "stream",
     "text": [
      "Epoch: 0891    cost: 0.140278921 \n",
      "I0629 18:02:18.918481 4574504384 feedforward_robust.py:890] Epoch: 0891    cost: 0.140278921 \n",
      "Accuracy on batch: 1.000000\n",
      "I0629 18:02:18.920831 4574504384 feedforward_robust.py:891] Accuracy on batch: 1.000000\n",
      "Epoch: 0892    cost: 0.140305266 \n",
      "I0629 18:02:19.015374 4574504384 feedforward_robust.py:890] Epoch: 0892    cost: 0.140305266 \n",
      "Accuracy on batch: 1.000000\n",
      "I0629 18:02:19.016593 4574504384 feedforward_robust.py:891] Accuracy on batch: 1.000000\n"
     ]
    },
    {
     "name": "stdout",
     "output_type": "stream",
     "text": [
      "iteration: 20\n",
      "loss 0.001484\n",
      "iteration: 40\n",
      "loss 0.001504\n",
      "iteration: 0\n",
      "loss 0.000181\n",
      "iteration: 20\n",
      "loss 0.001476\n",
      "iteration: 40\n",
      "loss 0.001535\n",
      "iteration: 0\n",
      "loss 0.000180\n"
     ]
    },
    {
     "name": "stderr",
     "output_type": "stream",
     "text": [
      "Epoch: 0893    cost: 0.140240848 \n",
      "I0629 18:02:19.117853 4574504384 feedforward_robust.py:890] Epoch: 0893    cost: 0.140240848 \n",
      "Accuracy on batch: 1.000000\n",
      "I0629 18:02:19.119210 4574504384 feedforward_robust.py:891] Accuracy on batch: 1.000000\n",
      "Epoch: 0894    cost: 0.140182853 \n",
      "I0629 18:02:19.223040 4574504384 feedforward_robust.py:890] Epoch: 0894    cost: 0.140182853 \n",
      "Accuracy on batch: 1.000000\n",
      "I0629 18:02:19.224236 4574504384 feedforward_robust.py:891] Accuracy on batch: 1.000000\n"
     ]
    },
    {
     "name": "stdout",
     "output_type": "stream",
     "text": [
      "iteration: 20\n",
      "loss 0.001459\n",
      "iteration: 40\n",
      "loss 0.001504\n",
      "iteration: 0\n",
      "loss 0.000186\n",
      "iteration: 20\n",
      "loss 0.001483\n",
      "iteration: 40\n",
      "loss 0.001510\n",
      "iteration: 0\n",
      "loss 0.000192\n"
     ]
    },
    {
     "name": "stderr",
     "output_type": "stream",
     "text": [
      "Epoch: 0895    cost: 0.140159711 \n",
      "I0629 18:02:19.352582 4574504384 feedforward_robust.py:890] Epoch: 0895    cost: 0.140159711 \n",
      "Accuracy on batch: 1.000000\n",
      "I0629 18:02:19.358831 4574504384 feedforward_robust.py:891] Accuracy on batch: 1.000000\n",
      "Epoch: 0896    cost: 0.140195936 \n",
      "I0629 18:02:19.469807 4574504384 feedforward_robust.py:890] Epoch: 0896    cost: 0.140195936 \n",
      "Accuracy on batch: 1.000000\n",
      "I0629 18:02:19.475649 4574504384 feedforward_robust.py:891] Accuracy on batch: 1.000000\n"
     ]
    },
    {
     "name": "stdout",
     "output_type": "stream",
     "text": [
      "iteration: 20\n",
      "loss 0.001487\n",
      "iteration: 40\n",
      "loss 0.001527\n",
      "iteration: 0\n",
      "loss 0.000188\n",
      "iteration: 20\n",
      "loss 0.001471\n",
      "iteration: 40\n",
      "loss 0.001568\n"
     ]
    },
    {
     "name": "stderr",
     "output_type": "stream",
     "text": [
      "Epoch: 0897    cost: 0.140154719 \n",
      "I0629 18:02:19.579985 4574504384 feedforward_robust.py:890] Epoch: 0897    cost: 0.140154719 \n",
      "Accuracy on batch: 1.000000\n",
      "I0629 18:02:19.581218 4574504384 feedforward_robust.py:891] Accuracy on batch: 1.000000\n",
      "Epoch: 0898    cost: 0.140054286 \n",
      "I0629 18:02:19.696573 4574504384 feedforward_robust.py:890] Epoch: 0898    cost: 0.140054286 \n",
      "Accuracy on batch: 1.000000\n",
      "I0629 18:02:19.697925 4574504384 feedforward_robust.py:891] Accuracy on batch: 1.000000\n"
     ]
    },
    {
     "name": "stdout",
     "output_type": "stream",
     "text": [
      "iteration: 0\n",
      "loss 0.000199\n",
      "iteration: 20\n",
      "loss 0.001468\n",
      "iteration: 40\n",
      "loss 0.001542\n",
      "iteration: 0\n",
      "loss 0.000178\n",
      "iteration: 20\n",
      "loss 0.001482\n",
      "iteration: 40\n",
      "loss 0.001504\n"
     ]
    },
    {
     "name": "stderr",
     "output_type": "stream",
     "text": [
      "Epoch: 0899    cost: 0.140095785 \n",
      "I0629 18:02:19.813013 4574504384 feedforward_robust.py:890] Epoch: 0899    cost: 0.140095785 \n",
      "Accuracy on batch: 1.000000\n",
      "I0629 18:02:19.814389 4574504384 feedforward_robust.py:891] Accuracy on batch: 1.000000\n",
      "Epoch: 0900    cost: 0.140037999 \n",
      "I0629 18:02:19.928703 4574504384 feedforward_robust.py:890] Epoch: 0900    cost: 0.140037999 \n",
      "Accuracy on batch: 1.000000\n",
      "I0629 18:02:19.930160 4574504384 feedforward_robust.py:891] Accuracy on batch: 1.000000\n"
     ]
    },
    {
     "name": "stdout",
     "output_type": "stream",
     "text": [
      "iteration: 0\n",
      "loss 0.000187\n",
      "iteration: 20\n",
      "loss 0.001495\n",
      "iteration: 40\n",
      "loss 0.001570\n",
      "iteration: 0\n",
      "loss 0.000190\n",
      "iteration: 20\n",
      "loss 0.001459\n",
      "iteration: 40\n",
      "loss 0.001528\n"
     ]
    },
    {
     "name": "stderr",
     "output_type": "stream",
     "text": [
      "Epoch: 0901    cost: 0.140003368 \n",
      "I0629 18:02:20.043862 4574504384 feedforward_robust.py:890] Epoch: 0901    cost: 0.140003368 \n",
      "Accuracy on batch: 1.000000\n",
      "I0629 18:02:20.045325 4574504384 feedforward_robust.py:891] Accuracy on batch: 1.000000\n",
      "Epoch: 0902    cost: 0.140124634 \n",
      "I0629 18:02:20.154321 4574504384 feedforward_robust.py:890] Epoch: 0902    cost: 0.140124634 \n",
      "Accuracy on batch: 1.000000\n",
      "I0629 18:02:20.156742 4574504384 feedforward_robust.py:891] Accuracy on batch: 1.000000\n"
     ]
    },
    {
     "name": "stdout",
     "output_type": "stream",
     "text": [
      "iteration: 0\n",
      "loss 0.000176\n",
      "iteration: 20\n",
      "loss 0.001468\n",
      "iteration: 40\n",
      "loss 0.001536\n",
      "iteration: 0\n",
      "loss 0.000205\n",
      "iteration: 20\n",
      "loss 0.001522\n",
      "iteration: 40\n",
      "loss 0.001662\n"
     ]
    },
    {
     "name": "stderr",
     "output_type": "stream",
     "text": [
      "Epoch: 0903    cost: 0.139925390 \n",
      "I0629 18:02:20.259212 4574504384 feedforward_robust.py:890] Epoch: 0903    cost: 0.139925390 \n",
      "Accuracy on batch: 1.000000\n",
      "I0629 18:02:20.260899 4574504384 feedforward_robust.py:891] Accuracy on batch: 1.000000\n",
      "Epoch: 0904    cost: 0.139971584 \n",
      "I0629 18:02:20.382524 4574504384 feedforward_robust.py:890] Epoch: 0904    cost: 0.139971584 \n",
      "Accuracy on batch: 1.000000\n",
      "I0629 18:02:20.385477 4574504384 feedforward_robust.py:891] Accuracy on batch: 1.000000\n"
     ]
    },
    {
     "name": "stdout",
     "output_type": "stream",
     "text": [
      "iteration: 0\n",
      "loss 0.000197\n",
      "iteration: 20\n",
      "loss 0.001473\n",
      "iteration: 40\n",
      "loss 0.001500\n",
      "iteration: 0\n",
      "loss 0.000162\n",
      "iteration: 20\n",
      "loss 0.001517\n",
      "iteration: 40\n",
      "loss 0.001571\n"
     ]
    },
    {
     "name": "stderr",
     "output_type": "stream",
     "text": [
      "Epoch: 0905    cost: 0.139930069 \n",
      "I0629 18:02:20.506652 4574504384 feedforward_robust.py:890] Epoch: 0905    cost: 0.139930069 \n",
      "Accuracy on batch: 1.000000\n",
      "I0629 18:02:20.508415 4574504384 feedforward_robust.py:891] Accuracy on batch: 1.000000\n",
      "Epoch: 0906    cost: 0.139868528 \n",
      "I0629 18:02:20.601649 4574504384 feedforward_robust.py:890] Epoch: 0906    cost: 0.139868528 \n",
      "Accuracy on batch: 1.000000\n",
      "I0629 18:02:20.603189 4574504384 feedforward_robust.py:891] Accuracy on batch: 1.000000\n"
     ]
    },
    {
     "name": "stdout",
     "output_type": "stream",
     "text": [
      "iteration: 0\n",
      "loss 0.000204\n",
      "iteration: 20\n",
      "loss 0.001466\n",
      "iteration: 40\n",
      "loss 0.001547\n",
      "iteration: 0\n",
      "loss 0.000188\n",
      "iteration: 20\n",
      "loss 0.001478\n",
      "iteration: 40\n",
      "loss 0.001558\n"
     ]
    },
    {
     "name": "stderr",
     "output_type": "stream",
     "text": [
      "Epoch: 0907    cost: 0.139840394 \n",
      "I0629 18:02:20.706784 4574504384 feedforward_robust.py:890] Epoch: 0907    cost: 0.139840394 \n",
      "Accuracy on batch: 1.000000\n",
      "I0629 18:02:20.709370 4574504384 feedforward_robust.py:891] Accuracy on batch: 1.000000\n",
      "Epoch: 0908    cost: 0.139861196 \n",
      "I0629 18:02:20.822905 4574504384 feedforward_robust.py:890] Epoch: 0908    cost: 0.139861196 \n",
      "Accuracy on batch: 1.000000\n",
      "I0629 18:02:20.824272 4574504384 feedforward_robust.py:891] Accuracy on batch: 1.000000\n"
     ]
    },
    {
     "name": "stdout",
     "output_type": "stream",
     "text": [
      "iteration: 0\n",
      "loss 0.000182\n",
      "iteration: 20\n",
      "loss 0.001511\n",
      "iteration: 40\n",
      "loss 0.001554\n",
      "iteration: 0\n",
      "loss 0.000200\n",
      "iteration: 20\n",
      "loss 0.001474\n",
      "iteration: 40\n",
      "loss 0.001601\n"
     ]
    },
    {
     "name": "stderr",
     "output_type": "stream",
     "text": [
      "Epoch: 0909    cost: 0.139980972 \n",
      "I0629 18:02:20.944917 4574504384 feedforward_robust.py:890] Epoch: 0909    cost: 0.139980972 \n",
      "Accuracy on batch: 1.000000\n",
      "I0629 18:02:20.946213 4574504384 feedforward_robust.py:891] Accuracy on batch: 1.000000\n",
      "Epoch: 0910    cost: 0.139825195 \n",
      "I0629 18:02:21.062224 4574504384 feedforward_robust.py:890] Epoch: 0910    cost: 0.139825195 \n",
      "Accuracy on batch: 1.000000\n",
      "I0629 18:02:21.063578 4574504384 feedforward_robust.py:891] Accuracy on batch: 1.000000\n"
     ]
    },
    {
     "name": "stdout",
     "output_type": "stream",
     "text": [
      "iteration: 0\n",
      "loss 0.000172\n",
      "iteration: 20\n",
      "loss 0.001550\n",
      "iteration: 40\n",
      "loss 0.001702\n",
      "iteration: 0\n",
      "loss 0.000191\n",
      "iteration: 20\n",
      "loss 0.001501\n",
      "iteration: 40\n",
      "loss 0.001620\n"
     ]
    },
    {
     "name": "stderr",
     "output_type": "stream",
     "text": [
      "Epoch: 0911    cost: 0.139712483 \n",
      "I0629 18:02:21.166451 4574504384 feedforward_robust.py:890] Epoch: 0911    cost: 0.139712483 \n",
      "Accuracy on batch: 1.000000\n",
      "I0629 18:02:21.167551 4574504384 feedforward_robust.py:891] Accuracy on batch: 1.000000\n",
      "Epoch: 0912    cost: 0.139702156 \n",
      "I0629 18:02:21.288373 4574504384 feedforward_robust.py:890] Epoch: 0912    cost: 0.139702156 \n",
      "Accuracy on batch: 1.000000\n",
      "I0629 18:02:21.289562 4574504384 feedforward_robust.py:891] Accuracy on batch: 1.000000\n"
     ]
    },
    {
     "name": "stdout",
     "output_type": "stream",
     "text": [
      "iteration: 0\n",
      "loss 0.000181\n",
      "iteration: 20\n",
      "loss 0.001488\n",
      "iteration: 40\n",
      "loss 0.001547\n",
      "iteration: 0\n",
      "loss 0.000209\n",
      "iteration: 20\n",
      "loss 0.001456\n",
      "iteration: 40\n",
      "loss 0.001562\n"
     ]
    },
    {
     "name": "stderr",
     "output_type": "stream",
     "text": [
      "Epoch: 0913    cost: 0.139569059 \n",
      "I0629 18:02:21.385239 4574504384 feedforward_robust.py:890] Epoch: 0913    cost: 0.139569059 \n",
      "Accuracy on batch: 1.000000\n",
      "I0629 18:02:21.386843 4574504384 feedforward_robust.py:891] Accuracy on batch: 1.000000\n",
      "Epoch: 0914    cost: 0.139596447 \n",
      "I0629 18:02:21.493323 4574504384 feedforward_robust.py:890] Epoch: 0914    cost: 0.139596447 \n",
      "Accuracy on batch: 1.000000\n",
      "I0629 18:02:21.494590 4574504384 feedforward_robust.py:891] Accuracy on batch: 1.000000\n"
     ]
    },
    {
     "name": "stdout",
     "output_type": "stream",
     "text": [
      "iteration: 0\n",
      "loss 0.000175\n",
      "iteration: 20\n",
      "loss 0.001453\n",
      "iteration: 40\n",
      "loss 0.001467\n",
      "iteration: 0\n",
      "loss 0.000200\n",
      "iteration: 20\n",
      "loss 0.001468\n",
      "iteration: 40\n",
      "loss 0.001521\n"
     ]
    },
    {
     "name": "stderr",
     "output_type": "stream",
     "text": [
      "Epoch: 0915    cost: 0.139543280 \n",
      "I0629 18:02:21.614149 4574504384 feedforward_robust.py:890] Epoch: 0915    cost: 0.139543280 \n",
      "Accuracy on batch: 1.000000\n",
      "I0629 18:02:21.615783 4574504384 feedforward_robust.py:891] Accuracy on batch: 1.000000\n",
      "Epoch: 0916    cost: 0.139469922 \n",
      "I0629 18:02:21.736015 4574504384 feedforward_robust.py:890] Epoch: 0916    cost: 0.139469922 \n",
      "Accuracy on batch: 1.000000\n",
      "I0629 18:02:21.741266 4574504384 feedforward_robust.py:891] Accuracy on batch: 1.000000\n"
     ]
    },
    {
     "name": "stdout",
     "output_type": "stream",
     "text": [
      "iteration: 0\n",
      "loss 0.000174\n",
      "iteration: 20\n",
      "loss 0.001449\n",
      "iteration: 40\n",
      "loss 0.001490\n",
      "iteration: 0\n",
      "loss 0.000170\n",
      "iteration: 20\n",
      "loss 0.001435\n",
      "iteration: 40\n",
      "loss 0.001461\n"
     ]
    },
    {
     "name": "stderr",
     "output_type": "stream",
     "text": [
      "Epoch: 0917    cost: 0.139635056 \n",
      "I0629 18:02:21.842926 4574504384 feedforward_robust.py:890] Epoch: 0917    cost: 0.139635056 \n",
      "Accuracy on batch: 1.000000\n",
      "I0629 18:02:21.844275 4574504384 feedforward_robust.py:891] Accuracy on batch: 1.000000\n",
      "Epoch: 0918    cost: 0.139410734 \n",
      "I0629 18:02:21.946729 4574504384 feedforward_robust.py:890] Epoch: 0918    cost: 0.139410734 \n",
      "Accuracy on batch: 1.000000\n",
      "I0629 18:02:21.947930 4574504384 feedforward_robust.py:891] Accuracy on batch: 1.000000\n"
     ]
    },
    {
     "name": "stdout",
     "output_type": "stream",
     "text": [
      "iteration: 0\n",
      "loss 0.000181\n",
      "iteration: 20\n",
      "loss 0.001474\n",
      "iteration: 40\n",
      "loss 0.001619\n",
      "iteration: 0\n",
      "loss 0.000173\n",
      "iteration: 20\n",
      "loss 0.001446\n",
      "iteration: 40\n",
      "loss 0.001479\n"
     ]
    },
    {
     "name": "stderr",
     "output_type": "stream",
     "text": [
      "Epoch: 0919    cost: 0.139533803 \n",
      "I0629 18:02:22.045018 4574504384 feedforward_robust.py:890] Epoch: 0919    cost: 0.139533803 \n",
      "Accuracy on batch: 1.000000\n",
      "I0629 18:02:22.046298 4574504384 feedforward_robust.py:891] Accuracy on batch: 1.000000\n",
      "Epoch: 0920    cost: 0.139380619 \n",
      "I0629 18:02:22.147376 4574504384 feedforward_robust.py:890] Epoch: 0920    cost: 0.139380619 \n",
      "Accuracy on batch: 1.000000\n",
      "I0629 18:02:22.149919 4574504384 feedforward_robust.py:891] Accuracy on batch: 1.000000\n"
     ]
    },
    {
     "name": "stdout",
     "output_type": "stream",
     "text": [
      "iteration: 0\n",
      "loss 0.000189\n",
      "iteration: 20\n",
      "loss 0.001499\n",
      "iteration: 40\n",
      "loss 0.001610\n",
      "iteration: 0\n",
      "loss 0.000180\n",
      "iteration: 20\n",
      "loss 0.001425\n",
      "iteration: 40\n",
      "loss 0.001482\n"
     ]
    },
    {
     "name": "stderr",
     "output_type": "stream",
     "text": [
      "Epoch: 0921    cost: 0.139415234 \n",
      "I0629 18:02:22.272171 4574504384 feedforward_robust.py:890] Epoch: 0921    cost: 0.139415234 \n",
      "Accuracy on batch: 1.000000\n",
      "I0629 18:02:22.273882 4574504384 feedforward_robust.py:891] Accuracy on batch: 1.000000\n",
      "Epoch: 0922    cost: 0.139324203 \n",
      "I0629 18:02:22.381937 4574504384 feedforward_robust.py:890] Epoch: 0922    cost: 0.139324203 \n",
      "Accuracy on batch: 1.000000\n",
      "I0629 18:02:22.383581 4574504384 feedforward_robust.py:891] Accuracy on batch: 1.000000\n"
     ]
    },
    {
     "name": "stdout",
     "output_type": "stream",
     "text": [
      "iteration: 0\n",
      "loss 0.000177\n",
      "iteration: 20\n",
      "loss 0.001430\n",
      "iteration: 40\n",
      "loss 0.001552\n",
      "iteration: 0\n",
      "loss 0.000195\n",
      "iteration: 20\n",
      "loss 0.001433\n",
      "iteration: 40\n",
      "loss 0.001494\n"
     ]
    },
    {
     "name": "stderr",
     "output_type": "stream",
     "text": [
      "Epoch: 0923    cost: 0.139281452 \n",
      "I0629 18:02:22.483125 4574504384 feedforward_robust.py:890] Epoch: 0923    cost: 0.139281452 \n",
      "Accuracy on batch: 1.000000\n",
      "I0629 18:02:22.484929 4574504384 feedforward_robust.py:891] Accuracy on batch: 1.000000\n",
      "Epoch: 0924    cost: 0.139267683 \n",
      "I0629 18:02:22.587455 4574504384 feedforward_robust.py:890] Epoch: 0924    cost: 0.139267683 \n",
      "Accuracy on batch: 1.000000\n",
      "I0629 18:02:22.588955 4574504384 feedforward_robust.py:891] Accuracy on batch: 1.000000\n"
     ]
    },
    {
     "name": "stdout",
     "output_type": "stream",
     "text": [
      "iteration: 0\n",
      "loss 0.000169\n",
      "iteration: 20\n",
      "loss 0.001449\n",
      "iteration: 40\n",
      "loss 0.001465\n",
      "iteration: 0\n",
      "loss 0.000189\n",
      "iteration: 20\n",
      "loss 0.001454\n",
      "iteration: 40\n",
      "loss 0.001495\n"
     ]
    },
    {
     "name": "stderr",
     "output_type": "stream",
     "text": [
      "Epoch: 0925    cost: 0.139309660 \n",
      "I0629 18:02:22.696389 4574504384 feedforward_robust.py:890] Epoch: 0925    cost: 0.139309660 \n",
      "Accuracy on batch: 1.000000\n",
      "I0629 18:02:22.697977 4574504384 feedforward_robust.py:891] Accuracy on batch: 1.000000\n",
      "Epoch: 0926    cost: 0.139296815 \n",
      "I0629 18:02:22.814552 4574504384 feedforward_robust.py:890] Epoch: 0926    cost: 0.139296815 \n",
      "Accuracy on batch: 1.000000\n",
      "I0629 18:02:22.816401 4574504384 feedforward_robust.py:891] Accuracy on batch: 1.000000\n"
     ]
    },
    {
     "name": "stdout",
     "output_type": "stream",
     "text": [
      "iteration: 0\n",
      "loss 0.000184\n",
      "iteration: 20\n",
      "loss 0.001482\n",
      "iteration: 40\n",
      "loss 0.001544\n",
      "iteration: 0\n",
      "loss 0.000178\n",
      "iteration: 20\n",
      "loss 0.001446\n",
      "iteration: 40\n",
      "loss 0.001549\n"
     ]
    },
    {
     "name": "stderr",
     "output_type": "stream",
     "text": [
      "Epoch: 0927    cost: 0.139216200 \n",
      "I0629 18:02:22.943237 4574504384 feedforward_robust.py:890] Epoch: 0927    cost: 0.139216200 \n",
      "Accuracy on batch: 1.000000\n",
      "I0629 18:02:22.945347 4574504384 feedforward_robust.py:891] Accuracy on batch: 1.000000\n",
      "Epoch: 0928    cost: 0.139201462 \n",
      "I0629 18:02:23.062481 4574504384 feedforward_robust.py:890] Epoch: 0928    cost: 0.139201462 \n",
      "Accuracy on batch: 1.000000\n",
      "I0629 18:02:23.063961 4574504384 feedforward_robust.py:891] Accuracy on batch: 1.000000\n"
     ]
    },
    {
     "name": "stdout",
     "output_type": "stream",
     "text": [
      "iteration: 0\n",
      "loss 0.000171\n",
      "iteration: 20\n",
      "loss 0.001497\n",
      "iteration: 40\n",
      "loss 0.001537\n",
      "iteration: 0\n",
      "loss 0.000173\n",
      "iteration: 20\n",
      "loss 0.001424\n",
      "iteration: 40\n",
      "loss 0.001509\n"
     ]
    },
    {
     "name": "stderr",
     "output_type": "stream",
     "text": [
      "Epoch: 0929    cost: 0.139205784 \n",
      "I0629 18:02:23.168512 4574504384 feedforward_robust.py:890] Epoch: 0929    cost: 0.139205784 \n",
      "Accuracy on batch: 1.000000\n",
      "I0629 18:02:23.170061 4574504384 feedforward_robust.py:891] Accuracy on batch: 1.000000\n",
      "Epoch: 0930    cost: 0.139080718 \n",
      "I0629 18:02:23.267192 4574504384 feedforward_robust.py:890] Epoch: 0930    cost: 0.139080718 \n",
      "Accuracy on batch: 1.000000\n",
      "I0629 18:02:23.268551 4574504384 feedforward_robust.py:891] Accuracy on batch: 1.000000\n"
     ]
    },
    {
     "name": "stdout",
     "output_type": "stream",
     "text": [
      "iteration: 0\n",
      "loss 0.000182\n",
      "iteration: 20\n",
      "loss 0.001438\n",
      "iteration: 40\n",
      "loss 0.001524\n",
      "iteration: 0\n",
      "loss 0.000161\n",
      "iteration: 20\n",
      "loss 0.001416\n",
      "iteration: 40\n",
      "loss 0.001454\n"
     ]
    },
    {
     "name": "stderr",
     "output_type": "stream",
     "text": [
      "Epoch: 0931    cost: 0.139066681 \n",
      "I0629 18:02:23.366133 4574504384 feedforward_robust.py:890] Epoch: 0931    cost: 0.139066681 \n",
      "Accuracy on batch: 1.000000\n",
      "I0629 18:02:23.367399 4574504384 feedforward_robust.py:891] Accuracy on batch: 1.000000\n",
      "Epoch: 0932    cost: 0.139020741 \n",
      "I0629 18:02:23.477272 4574504384 feedforward_robust.py:890] Epoch: 0932    cost: 0.139020741 \n",
      "Accuracy on batch: 1.000000\n",
      "I0629 18:02:23.478878 4574504384 feedforward_robust.py:891] Accuracy on batch: 1.000000\n"
     ]
    },
    {
     "name": "stdout",
     "output_type": "stream",
     "text": [
      "iteration: 0\n",
      "loss 0.000175\n",
      "iteration: 20\n",
      "loss 0.001415\n",
      "iteration: 40\n",
      "loss 0.001482\n",
      "iteration: 0\n",
      "loss 0.000211\n",
      "iteration: 20\n",
      "loss 0.001411\n",
      "iteration: 40\n",
      "loss 0.001461\n"
     ]
    },
    {
     "name": "stderr",
     "output_type": "stream",
     "text": [
      "Epoch: 0933    cost: 0.139006183 \n",
      "I0629 18:02:23.599315 4574504384 feedforward_robust.py:890] Epoch: 0933    cost: 0.139006183 \n",
      "Accuracy on batch: 1.000000\n",
      "I0629 18:02:23.603204 4574504384 feedforward_robust.py:891] Accuracy on batch: 1.000000\n",
      "Epoch: 0934    cost: 0.138995200 \n",
      "I0629 18:02:23.714377 4574504384 feedforward_robust.py:890] Epoch: 0934    cost: 0.138995200 \n",
      "Accuracy on batch: 1.000000\n",
      "I0629 18:02:23.719126 4574504384 feedforward_robust.py:891] Accuracy on batch: 1.000000\n"
     ]
    },
    {
     "name": "stdout",
     "output_type": "stream",
     "text": [
      "iteration: 0\n",
      "loss 0.000169\n",
      "iteration: 20\n",
      "loss 0.001419\n",
      "iteration: 40\n",
      "loss 0.001465\n",
      "iteration: 0\n",
      "loss 0.000211\n",
      "iteration: 20\n",
      "loss 0.001420\n",
      "iteration: 40\n",
      "loss 0.001497\n"
     ]
    },
    {
     "name": "stderr",
     "output_type": "stream",
     "text": [
      "Epoch: 0935    cost: 0.139002278 \n",
      "I0629 18:02:23.826609 4574504384 feedforward_robust.py:890] Epoch: 0935    cost: 0.139002278 \n",
      "Accuracy on batch: 1.000000\n",
      "I0629 18:02:23.827906 4574504384 feedforward_robust.py:891] Accuracy on batch: 1.000000\n",
      "Epoch: 0936    cost: 0.138949573 \n",
      "I0629 18:02:23.926341 4574504384 feedforward_robust.py:890] Epoch: 0936    cost: 0.138949573 \n",
      "Accuracy on batch: 1.000000\n",
      "I0629 18:02:23.927615 4574504384 feedforward_robust.py:891] Accuracy on batch: 1.000000\n"
     ]
    },
    {
     "name": "stdout",
     "output_type": "stream",
     "text": [
      "iteration: 0\n",
      "loss 0.000175\n",
      "iteration: 20\n",
      "loss 0.001425\n",
      "iteration: 40\n",
      "loss 0.001523\n",
      "iteration: 0\n",
      "loss 0.000191\n",
      "iteration: 20\n",
      "loss 0.001471\n",
      "iteration: 40\n",
      "loss 0.001532\n",
      "iteration: 0"
     ]
    },
    {
     "name": "stderr",
     "output_type": "stream",
     "text": [
      "Epoch: 0937    cost: 0.138908967 \n",
      "I0629 18:02:24.034758 4574504384 feedforward_robust.py:890] Epoch: 0937    cost: 0.138908967 \n",
      "Accuracy on batch: 1.000000\n",
      "I0629 18:02:24.035937 4574504384 feedforward_robust.py:891] Accuracy on batch: 1.000000\n",
      "Epoch: 0938    cost: 0.138812289 \n",
      "I0629 18:02:24.155267 4574504384 feedforward_robust.py:890] Epoch: 0938    cost: 0.138812289 \n",
      "Accuracy on batch: 1.000000\n",
      "I0629 18:02:24.156501 4574504384 feedforward_robust.py:891] Accuracy on batch: 1.000000\n"
     ]
    },
    {
     "name": "stdout",
     "output_type": "stream",
     "text": [
      "\n",
      "loss 0.000195\n",
      "iteration: 20\n",
      "loss 0.001449\n",
      "iteration: 40\n",
      "loss 0.001530\n",
      "iteration: 0\n",
      "loss 0.000169\n",
      "iteration: 20\n",
      "loss 0.001399\n",
      "iteration: 40\n",
      "loss 0.001453\n"
     ]
    },
    {
     "name": "stderr",
     "output_type": "stream",
     "text": [
      "Epoch: 0939    cost: 0.138817653 \n",
      "I0629 18:02:24.278596 4574504384 feedforward_robust.py:890] Epoch: 0939    cost: 0.138817653 \n",
      "Accuracy on batch: 1.000000\n",
      "I0629 18:02:24.280361 4574504384 feedforward_robust.py:891] Accuracy on batch: 1.000000\n",
      "Epoch: 0940    cost: 0.138831422 \n",
      "I0629 18:02:24.380023 4574504384 feedforward_robust.py:890] Epoch: 0940    cost: 0.138831422 \n",
      "Accuracy on batch: 1.000000\n",
      "I0629 18:02:24.381098 4574504384 feedforward_robust.py:891] Accuracy on batch: 1.000000\n"
     ]
    },
    {
     "name": "stdout",
     "output_type": "stream",
     "text": [
      "iteration: 0\n",
      "loss 0.000174\n",
      "iteration: 20\n",
      "loss 0.001431\n",
      "iteration: 40\n",
      "loss 0.001484\n",
      "iteration: 0\n",
      "loss 0.000166\n",
      "iteration: 20\n",
      "loss 0.001407\n",
      "iteration: 40\n",
      "loss 0.001497\n"
     ]
    },
    {
     "name": "stderr",
     "output_type": "stream",
     "text": [
      "Epoch: 0941    cost: 0.138756454 \n",
      "I0629 18:02:24.480506 4574504384 feedforward_robust.py:890] Epoch: 0941    cost: 0.138756454 \n",
      "Accuracy on batch: 1.000000\n",
      "I0629 18:02:24.481688 4574504384 feedforward_robust.py:891] Accuracy on batch: 1.000000\n",
      "Epoch: 0942    cost: 0.138812587 \n",
      "I0629 18:02:24.587775 4574504384 feedforward_robust.py:890] Epoch: 0942    cost: 0.138812587 \n",
      "Accuracy on batch: 1.000000\n",
      "I0629 18:02:24.589239 4574504384 feedforward_robust.py:891] Accuracy on batch: 1.000000\n"
     ]
    },
    {
     "name": "stdout",
     "output_type": "stream",
     "text": [
      "iteration: 0\n",
      "loss 0.000171\n",
      "iteration: 20\n",
      "loss 0.001411\n",
      "iteration: 40\n",
      "loss 0.001486\n",
      "iteration: 0\n",
      "loss 0.000167\n",
      "iteration: 20\n",
      "loss 0.001433\n",
      "iteration: 40\n",
      "loss 0.001548\n"
     ]
    },
    {
     "name": "stderr",
     "output_type": "stream",
     "text": [
      "Epoch: 0943    cost: 0.138757423 \n",
      "I0629 18:02:24.697341 4574504384 feedforward_robust.py:890] Epoch: 0943    cost: 0.138757423 \n",
      "Accuracy on batch: 1.000000\n",
      "I0629 18:02:24.698916 4574504384 feedforward_robust.py:891] Accuracy on batch: 1.000000\n",
      "Epoch: 0944    cost: 0.138690948 \n",
      "I0629 18:02:24.812927 4574504384 feedforward_robust.py:890] Epoch: 0944    cost: 0.138690948 \n",
      "Accuracy on batch: 1.000000\n",
      "I0629 18:02:24.814969 4574504384 feedforward_robust.py:891] Accuracy on batch: 1.000000\n"
     ]
    },
    {
     "name": "stdout",
     "output_type": "stream",
     "text": [
      "iteration: 0\n",
      "loss 0.000185\n",
      "iteration: 20\n",
      "loss 0.001436\n",
      "iteration: 40\n",
      "loss 0.001504\n",
      "iteration: 0\n",
      "loss 0.000181\n",
      "iteration: 20\n",
      "loss 0.001441\n",
      "iteration: 40\n",
      "loss 0.001494\n"
     ]
    },
    {
     "name": "stderr",
     "output_type": "stream",
     "text": [
      "Epoch: 0945    cost: 0.138600245 \n",
      "I0629 18:02:24.933714 4574504384 feedforward_robust.py:890] Epoch: 0945    cost: 0.138600245 \n",
      "Accuracy on batch: 1.000000\n",
      "I0629 18:02:24.934973 4574504384 feedforward_robust.py:891] Accuracy on batch: 1.000000\n",
      "Epoch: 0946    cost: 0.138563693 \n",
      "I0629 18:02:25.054399 4574504384 feedforward_robust.py:890] Epoch: 0946    cost: 0.138563693 \n",
      "Accuracy on batch: 1.000000\n",
      "I0629 18:02:25.055735 4574504384 feedforward_robust.py:891] Accuracy on batch: 1.000000\n"
     ]
    },
    {
     "name": "stdout",
     "output_type": "stream",
     "text": [
      "iteration: 0\n",
      "loss 0.000180\n",
      "iteration: 20\n",
      "loss 0.001418\n",
      "iteration: 40\n",
      "loss 0.001435\n",
      "iteration: 0\n",
      "loss 0.000169\n",
      "iteration: 20\n",
      "loss 0.001397\n",
      "iteration: 40\n",
      "loss 0.001436\n"
     ]
    },
    {
     "name": "stderr",
     "output_type": "stream",
     "text": [
      "Epoch: 0947    cost: 0.138589934 \n",
      "I0629 18:02:25.184794 4574504384 feedforward_robust.py:890] Epoch: 0947    cost: 0.138589934 \n",
      "Accuracy on batch: 1.000000\n",
      "I0629 18:02:25.185953 4574504384 feedforward_robust.py:891] Accuracy on batch: 1.000000\n",
      "Epoch: 0948    cost: 0.138585612 \n",
      "I0629 18:02:25.302405 4574504384 feedforward_robust.py:890] Epoch: 0948    cost: 0.138585612 \n",
      "Accuracy on batch: 1.000000\n",
      "I0629 18:02:25.303676 4574504384 feedforward_robust.py:891] Accuracy on batch: 1.000000\n"
     ]
    },
    {
     "name": "stdout",
     "output_type": "stream",
     "text": [
      "iteration: 0\n",
      "loss 0.000168\n",
      "iteration: 20\n",
      "loss 0.001428\n",
      "iteration: 40\n",
      "loss 0.001506\n",
      "iteration: 0\n",
      "loss 0.000166\n",
      "iteration: 20\n",
      "loss 0.001393\n",
      "iteration: 40\n",
      "loss 0.001494\n"
     ]
    },
    {
     "name": "stderr",
     "output_type": "stream",
     "text": [
      "Epoch: 0949    cost: 0.138437733 \n",
      "I0629 18:02:25.415918 4574504384 feedforward_robust.py:890] Epoch: 0949    cost: 0.138437733 \n",
      "Accuracy on batch: 1.000000\n",
      "I0629 18:02:25.417852 4574504384 feedforward_robust.py:891] Accuracy on batch: 1.000000\n",
      "Epoch: 0950    cost: 0.138468504 \n",
      "I0629 18:02:25.517669 4574504384 feedforward_robust.py:890] Epoch: 0950    cost: 0.138468504 \n",
      "Accuracy on batch: 1.000000\n",
      "I0629 18:02:25.519402 4574504384 feedforward_robust.py:891] Accuracy on batch: 1.000000\n"
     ]
    },
    {
     "name": "stdout",
     "output_type": "stream",
     "text": [
      "iteration: 0\n",
      "loss 0.000174\n",
      "iteration: 20\n",
      "loss 0.001399\n",
      "iteration: 40\n",
      "loss 0.001418\n",
      "iteration: 0\n",
      "loss 0.000161\n",
      "iteration: 20\n",
      "loss 0.001419\n",
      "iteration: 40\n",
      "loss 0.001471\n"
     ]
    },
    {
     "name": "stderr",
     "output_type": "stream",
     "text": [
      "Epoch: 0951    cost: 0.138469785 \n",
      "I0629 18:02:25.626362 4574504384 feedforward_robust.py:890] Epoch: 0951    cost: 0.138469785 \n",
      "Accuracy on batch: 1.000000\n",
      "I0629 18:02:25.627855 4574504384 feedforward_robust.py:891] Accuracy on batch: 1.000000\n",
      "Epoch: 0952    cost: 0.138412207 \n",
      "I0629 18:02:25.736843 4574504384 feedforward_robust.py:890] Epoch: 0952    cost: 0.138412207 \n",
      "Accuracy on batch: 1.000000\n",
      "I0629 18:02:25.738360 4574504384 feedforward_robust.py:891] Accuracy on batch: 1.000000\n"
     ]
    },
    {
     "name": "stdout",
     "output_type": "stream",
     "text": [
      "iteration: 0\n",
      "loss 0.000160\n",
      "iteration: 20\n",
      "loss 0.001421\n",
      "iteration: 40\n",
      "loss 0.001506\n",
      "iteration: 0\n",
      "loss 0.000176\n",
      "iteration: 20\n",
      "loss 0.001411\n",
      "iteration: 40\n",
      "loss 0.001472\n"
     ]
    },
    {
     "name": "stderr",
     "output_type": "stream",
     "text": [
      "Epoch: 0953    cost: 0.138401270 \n",
      "I0629 18:02:25.840404 4574504384 feedforward_robust.py:890] Epoch: 0953    cost: 0.138401270 \n",
      "Accuracy on batch: 1.000000\n",
      "I0629 18:02:25.841974 4574504384 feedforward_robust.py:891] Accuracy on batch: 1.000000\n",
      "Epoch: 0954    cost: 0.138481006 \n",
      "I0629 18:02:25.950603 4574504384 feedforward_robust.py:890] Epoch: 0954    cost: 0.138481006 \n",
      "Accuracy on batch: 1.000000\n",
      "I0629 18:02:25.952513 4574504384 feedforward_robust.py:891] Accuracy on batch: 1.000000\n"
     ]
    },
    {
     "name": "stdout",
     "output_type": "stream",
     "text": [
      "iteration: 0\n",
      "loss 0.000174\n",
      "iteration: 20\n",
      "loss 0.001390\n",
      "iteration: 40\n",
      "loss 0.001465\n",
      "iteration: 0\n",
      "loss 0.000173\n",
      "iteration: 20\n",
      "loss 0.001431\n",
      "iteration: 40\n",
      "loss 0.001530\n"
     ]
    },
    {
     "name": "stderr",
     "output_type": "stream",
     "text": [
      "Epoch: 0955    cost: 0.138404101 \n",
      "I0629 18:02:26.068380 4574504384 feedforward_robust.py:890] Epoch: 0955    cost: 0.138404101 \n",
      "Accuracy on batch: 1.000000\n",
      "I0629 18:02:26.069969 4574504384 feedforward_robust.py:891] Accuracy on batch: 1.000000\n",
      "Epoch: 0956    cost: 0.138383821 \n",
      "I0629 18:02:26.174467 4574504384 feedforward_robust.py:890] Epoch: 0956    cost: 0.138383821 \n",
      "Accuracy on batch: 1.000000\n",
      "I0629 18:02:26.176250 4574504384 feedforward_robust.py:891] Accuracy on batch: 1.000000\n"
     ]
    },
    {
     "name": "stdout",
     "output_type": "stream",
     "text": [
      "iteration: 0\n",
      "loss 0.000165\n",
      "iteration: 20\n",
      "loss 0.001421\n",
      "iteration: 40\n",
      "loss 0.001535\n",
      "iteration: 0\n",
      "loss 0.000177\n",
      "iteration: 20\n",
      "loss 0.001424\n",
      "iteration: 40\n",
      "loss 0.001536\n"
     ]
    },
    {
     "name": "stderr",
     "output_type": "stream",
     "text": [
      "Epoch: 0957    cost: 0.138347894 \n",
      "I0629 18:02:26.284838 4574504384 feedforward_robust.py:890] Epoch: 0957    cost: 0.138347894 \n",
      "Accuracy on batch: 1.000000\n",
      "I0629 18:02:26.286126 4574504384 feedforward_robust.py:891] Accuracy on batch: 1.000000\n",
      "Epoch: 0958    cost: 0.138361052 \n",
      "I0629 18:02:26.420248 4574504384 feedforward_robust.py:890] Epoch: 0958    cost: 0.138361052 \n"
     ]
    },
    {
     "name": "stdout",
     "output_type": "stream",
     "text": [
      "iteration: 0\n",
      "loss 0.000170\n",
      "iteration: 20\n",
      "loss 0.001451\n",
      "iteration: 40\n",
      "loss 0.001536\n",
      "iteration: 0\n",
      "loss 0.000189\n",
      "iteration: 20\n",
      "loss 0.001431\n",
      "iteration: 40\n",
      "loss 0.001567\n"
     ]
    },
    {
     "name": "stderr",
     "output_type": "stream",
     "text": [
      "Accuracy on batch: 1.000000\n",
      "I0629 18:02:26.421704 4574504384 feedforward_robust.py:891] Accuracy on batch: 1.000000\n",
      "Epoch: 0959    cost: 0.138229966 \n",
      "I0629 18:02:26.555909 4574504384 feedforward_robust.py:890] Epoch: 0959    cost: 0.138229966 \n",
      "Accuracy on batch: 1.000000\n",
      "I0629 18:02:26.557534 4574504384 feedforward_robust.py:891] Accuracy on batch: 1.000000\n",
      "Epoch: 0960    cost: 0.138236672 \n",
      "I0629 18:02:26.658106 4574504384 feedforward_robust.py:890] Epoch: 0960    cost: 0.138236672 \n",
      "Accuracy on batch: 1.000000\n",
      "I0629 18:02:26.659569 4574504384 feedforward_robust.py:891] Accuracy on batch: 1.000000\n"
     ]
    },
    {
     "name": "stdout",
     "output_type": "stream",
     "text": [
      "iteration: 0\n",
      "loss 0.000183\n",
      "iteration: 20\n",
      "loss 0.001404\n",
      "iteration: 40\n",
      "loss 0.001484\n",
      "iteration: 0\n",
      "loss 0.000189\n",
      "iteration: 20\n",
      "loss 0.001415\n",
      "iteration: 40\n",
      "loss 0.001502\n"
     ]
    },
    {
     "name": "stderr",
     "output_type": "stream",
     "text": [
      "Epoch: 0961    cost: 0.138095692 \n",
      "I0629 18:02:26.758264 4574504384 feedforward_robust.py:890] Epoch: 0961    cost: 0.138095692 \n",
      "Accuracy on batch: 1.000000\n",
      "I0629 18:02:26.759642 4574504384 feedforward_robust.py:891] Accuracy on batch: 1.000000\n",
      "Epoch: 0962    cost: 0.138187185 \n",
      "I0629 18:02:26.860336 4574504384 feedforward_robust.py:890] Epoch: 0962    cost: 0.138187185 \n",
      "Accuracy on batch: 1.000000\n",
      "I0629 18:02:26.862000 4574504384 feedforward_robust.py:891] Accuracy on batch: 1.000000\n"
     ]
    },
    {
     "name": "stdout",
     "output_type": "stream",
     "text": [
      "iteration: 0\n",
      "loss 0.000171\n",
      "iteration: 20\n",
      "loss 0.001372\n",
      "iteration: 40\n",
      "loss 0.001416\n",
      "iteration: 0\n",
      "loss 0.000168\n",
      "iteration: 20\n",
      "loss 0.001389\n",
      "iteration: 40\n",
      "loss 0.001478\n"
     ]
    },
    {
     "name": "stderr",
     "output_type": "stream",
     "text": [
      "Epoch: 0963    cost: 0.138019100 \n",
      "I0629 18:02:26.962313 4574504384 feedforward_robust.py:890] Epoch: 0963    cost: 0.138019100 \n",
      "Accuracy on batch: 1.000000\n",
      "I0629 18:02:26.963376 4574504384 feedforward_robust.py:891] Accuracy on batch: 1.000000\n",
      "Epoch: 0964    cost: 0.138064057 \n",
      "I0629 18:02:27.057474 4574504384 feedforward_robust.py:890] Epoch: 0964    cost: 0.138064057 \n",
      "Accuracy on batch: 1.000000\n",
      "I0629 18:02:27.058828 4574504384 feedforward_robust.py:891] Accuracy on batch: 1.000000\n"
     ]
    },
    {
     "name": "stdout",
     "output_type": "stream",
     "text": [
      "iteration: 0\n",
      "loss 0.000169\n",
      "iteration: 20\n",
      "loss 0.001374\n",
      "iteration: 40\n",
      "loss 0.001396\n",
      "iteration: 0\n",
      "loss 0.000173\n",
      "iteration: 20\n",
      "loss 0.001395\n",
      "iteration: 40\n",
      "loss 0.001469\n",
      "iteration: 0\n",
      "loss 0.000177\n"
     ]
    },
    {
     "name": "stderr",
     "output_type": "stream",
     "text": [
      "Epoch: 0965    cost: 0.138166964 \n",
      "I0629 18:02:27.184494 4574504384 feedforward_robust.py:890] Epoch: 0965    cost: 0.138166964 \n",
      "Accuracy on batch: 1.000000\n",
      "I0629 18:02:27.185839 4574504384 feedforward_robust.py:891] Accuracy on batch: 1.000000\n",
      "Epoch: 0966    cost: 0.138045952 \n",
      "I0629 18:02:27.299176 4574504384 feedforward_robust.py:890] Epoch: 0966    cost: 0.138045952 \n",
      "Accuracy on batch: 1.000000\n",
      "I0629 18:02:27.300467 4574504384 feedforward_robust.py:891] Accuracy on batch: 1.000000\n"
     ]
    },
    {
     "name": "stdout",
     "output_type": "stream",
     "text": [
      "iteration: 20\n",
      "loss 0.001453\n",
      "iteration: 40\n",
      "loss 0.001574\n",
      "iteration: 0\n",
      "loss 0.000191\n",
      "iteration: 20\n",
      "loss 0.001395\n",
      "iteration: 40\n",
      "loss 0.001503\n"
     ]
    },
    {
     "name": "stderr",
     "output_type": "stream",
     "text": [
      "Epoch: 0967    cost: 0.137995154 \n",
      "I0629 18:02:27.416761 4574504384 feedforward_robust.py:890] Epoch: 0967    cost: 0.137995154 \n",
      "Accuracy on batch: 1.000000\n",
      "I0629 18:02:27.418178 4574504384 feedforward_robust.py:891] Accuracy on batch: 1.000000\n",
      "Epoch: 0968    cost: 0.137918577 \n",
      "I0629 18:02:27.527684 4574504384 feedforward_robust.py:890] Epoch: 0968    cost: 0.137918577 \n",
      "Accuracy on batch: 1.000000\n",
      "I0629 18:02:27.529167 4574504384 feedforward_robust.py:891] Accuracy on batch: 1.000000\n"
     ]
    },
    {
     "name": "stdout",
     "output_type": "stream",
     "text": [
      "iteration: 0\n",
      "loss 0.000182\n",
      "iteration: 20\n",
      "loss 0.001398\n",
      "iteration: 40\n",
      "loss 0.001468\n",
      "iteration: 0\n",
      "loss 0.000175\n",
      "iteration: 20\n",
      "loss 0.001393\n",
      "iteration: 40\n",
      "loss 0.001441\n"
     ]
    },
    {
     "name": "stderr",
     "output_type": "stream",
     "text": [
      "Epoch: 0969    cost: 0.137833685 \n",
      "I0629 18:02:27.644767 4574504384 feedforward_robust.py:890] Epoch: 0969    cost: 0.137833685 \n",
      "Accuracy on batch: 1.000000\n",
      "I0629 18:02:27.647322 4574504384 feedforward_robust.py:891] Accuracy on batch: 1.000000\n",
      "Epoch: 0970    cost: 0.137826562 \n",
      "I0629 18:02:27.755928 4574504384 feedforward_robust.py:890] Epoch: 0970    cost: 0.137826562 \n",
      "Accuracy on batch: 1.000000\n",
      "I0629 18:02:27.757368 4574504384 feedforward_robust.py:891] Accuracy on batch: 1.000000\n"
     ]
    },
    {
     "name": "stdout",
     "output_type": "stream",
     "text": [
      "iteration: 0\n",
      "loss 0.000185\n",
      "iteration: 20\n",
      "loss 0.001379\n",
      "iteration: 40\n",
      "loss 0.001402\n",
      "iteration: 0\n",
      "loss 0.000189\n",
      "iteration: 20\n",
      "loss 0.001363\n",
      "iteration: 40\n",
      "loss 0.001398\n"
     ]
    },
    {
     "name": "stderr",
     "output_type": "stream",
     "text": [
      "Epoch: 0971    cost: 0.137950480 \n",
      "I0629 18:02:27.859127 4574504384 feedforward_robust.py:890] Epoch: 0971    cost: 0.137950480 \n",
      "Accuracy on batch: 1.000000\n",
      "I0629 18:02:27.860473 4574504384 feedforward_robust.py:891] Accuracy on batch: 1.000000\n",
      "Epoch: 0972    cost: 0.137772843 \n",
      "I0629 18:02:27.960655 4574504384 feedforward_robust.py:890] Epoch: 0972    cost: 0.137772843 \n",
      "Accuracy on batch: 1.000000\n",
      "I0629 18:02:27.962655 4574504384 feedforward_robust.py:891] Accuracy on batch: 1.000000\n"
     ]
    },
    {
     "name": "stdout",
     "output_type": "stream",
     "text": [
      "iteration: 0\n",
      "loss 0.000184\n",
      "iteration: 20\n",
      "loss 0.001407\n",
      "iteration: 40\n",
      "loss 0.001511\n",
      "iteration: 0\n",
      "loss 0.000187\n",
      "iteration: 20\n",
      "loss 0.001365\n",
      "iteration: 40\n",
      "loss 0.001415\n"
     ]
    },
    {
     "name": "stderr",
     "output_type": "stream",
     "text": [
      "Epoch: 0973    cost: 0.137747616 \n",
      "I0629 18:02:28.065368 4574504384 feedforward_robust.py:890] Epoch: 0973    cost: 0.137747616 \n",
      "Accuracy on batch: 1.000000\n",
      "I0629 18:02:28.066774 4574504384 feedforward_robust.py:891] Accuracy on batch: 1.000000\n",
      "Epoch: 0974    cost: 0.137709469 \n",
      "I0629 18:02:28.157650 4574504384 feedforward_robust.py:890] Epoch: 0974    cost: 0.137709469 \n",
      "Accuracy on batch: 1.000000\n",
      "I0629 18:02:28.158838 4574504384 feedforward_robust.py:891] Accuracy on batch: 1.000000\n"
     ]
    },
    {
     "name": "stdout",
     "output_type": "stream",
     "text": [
      "iteration: 0\n",
      "loss 0.000174\n",
      "iteration: 20\n",
      "loss 0.001372\n",
      "iteration: 40\n",
      "loss 0.001413\n",
      "iteration: 0\n",
      "loss 0.000183\n",
      "iteration: 20\n",
      "loss 0.001394\n",
      "iteration: 40\n",
      "loss 0.001419\n",
      "iteration: 0\n",
      "loss 0.000180\n"
     ]
    },
    {
     "name": "stderr",
     "output_type": "stream",
     "text": [
      "Epoch: 0975    cost: 0.137733176 \n",
      "I0629 18:02:28.264450 4574504384 feedforward_robust.py:890] Epoch: 0975    cost: 0.137733176 \n",
      "Accuracy on batch: 1.000000\n",
      "I0629 18:02:28.265713 4574504384 feedforward_robust.py:891] Accuracy on batch: 1.000000\n",
      "Epoch: 0976    cost: 0.137785360 \n",
      "I0629 18:02:28.363955 4574504384 feedforward_robust.py:890] Epoch: 0976    cost: 0.137785360 \n",
      "Accuracy on batch: 1.000000\n",
      "I0629 18:02:28.365324 4574504384 feedforward_robust.py:891] Accuracy on batch: 1.000000\n"
     ]
    },
    {
     "name": "stdout",
     "output_type": "stream",
     "text": [
      "iteration: 20\n",
      "loss 0.001395\n",
      "iteration: 40\n",
      "loss 0.001457\n",
      "iteration: 0\n",
      "loss 0.000178\n",
      "iteration: 20\n",
      "loss 0.001381\n",
      "iteration: 40\n",
      "loss 0.001510\n",
      "iteration: 0\n",
      "loss 0.000159\n",
      "iteration: 20\n",
      "loss 0.001394\n"
     ]
    },
    {
     "name": "stderr",
     "output_type": "stream",
     "text": [
      "Epoch: 0977    cost: 0.137669355 \n",
      "I0629 18:02:28.462934 4574504384 feedforward_robust.py:890] Epoch: 0977    cost: 0.137669355 \n",
      "Accuracy on batch: 1.000000\n",
      "I0629 18:02:28.464394 4574504384 feedforward_robust.py:891] Accuracy on batch: 1.000000\n",
      "Epoch: 0978    cost: 0.137535006 \n",
      "I0629 18:02:28.555974 4574504384 feedforward_robust.py:890] Epoch: 0978    cost: 0.137535006 \n",
      "Accuracy on batch: 1.000000\n",
      "I0629 18:02:28.557373 4574504384 feedforward_robust.py:891] Accuracy on batch: 1.000000\n"
     ]
    },
    {
     "name": "stdout",
     "output_type": "stream",
     "text": [
      "iteration: 40\n",
      "loss 0.001506\n",
      "iteration: 0\n",
      "loss 0.000188\n",
      "iteration: 20\n",
      "loss 0.001351\n",
      "iteration: 40\n",
      "loss 0.001407\n",
      "iteration: 0\n",
      "loss 0.000172\n",
      "iteration: 20\n",
      "loss 0.001383\n",
      "iteration: 40\n",
      "loss 0.001434\n"
     ]
    },
    {
     "name": "stderr",
     "output_type": "stream",
     "text": [
      "Epoch: 0979    cost: 0.137546316 \n",
      "I0629 18:02:28.654172 4574504384 feedforward_robust.py:890] Epoch: 0979    cost: 0.137546316 \n",
      "Accuracy on batch: 1.000000\n",
      "I0629 18:02:28.656074 4574504384 feedforward_robust.py:891] Accuracy on batch: 1.000000\n",
      "Epoch: 0980    cost: 0.137499854 \n",
      "I0629 18:02:28.759111 4574504384 feedforward_robust.py:890] Epoch: 0980    cost: 0.137499854 \n",
      "Accuracy on batch: 1.000000\n",
      "I0629 18:02:28.760613 4574504384 feedforward_robust.py:891] Accuracy on batch: 1.000000\n",
      "Epoch: 0981    cost: 0.137498870 \n",
      "I0629 18:02:28.858749 4574504384 feedforward_robust.py:890] Epoch: 0981    cost: 0.137498870 \n",
      "Accuracy on batch: 1.000000\n",
      "I0629 18:02:28.860400 4574504384 feedforward_robust.py:891] Accuracy on batch: 1.000000\n"
     ]
    },
    {
     "name": "stdout",
     "output_type": "stream",
     "text": [
      "iteration: 0\n",
      "loss 0.000170\n",
      "iteration: 20\n",
      "loss 0.001353\n",
      "iteration: 40\n",
      "loss 0.001413\n",
      "iteration: 0\n",
      "loss 0.000168\n",
      "iteration: 20\n",
      "loss 0.001393\n",
      "iteration: 40\n",
      "loss 0.001435\n"
     ]
    },
    {
     "name": "stderr",
     "output_type": "stream",
     "text": [
      "Epoch: 0982    cost: 0.137427062 \n",
      "I0629 18:02:28.967190 4574504384 feedforward_robust.py:890] Epoch: 0982    cost: 0.137427062 \n",
      "Accuracy on batch: 1.000000\n",
      "I0629 18:02:28.968593 4574504384 feedforward_robust.py:891] Accuracy on batch: 1.000000\n",
      "Epoch: 0983    cost: 0.137535885 \n",
      "I0629 18:02:29.062839 4574504384 feedforward_robust.py:890] Epoch: 0983    cost: 0.137535885 \n",
      "Accuracy on batch: 1.000000\n",
      "I0629 18:02:29.064174 4574504384 feedforward_robust.py:891] Accuracy on batch: 1.000000\n"
     ]
    },
    {
     "name": "stdout",
     "output_type": "stream",
     "text": [
      "iteration: 0\n",
      "loss 0.000179\n",
      "iteration: 20\n",
      "loss 0.001341\n",
      "iteration: 40\n",
      "loss 0.001380\n",
      "iteration: 0\n",
      "loss 0.000173\n",
      "iteration: 20\n",
      "loss 0.001378\n",
      "iteration: 40\n",
      "loss 0.001519\n",
      "iteration: 0\n",
      "loss 0.000174\n"
     ]
    },
    {
     "name": "stderr",
     "output_type": "stream",
     "text": [
      "Epoch: 0984    cost: 0.137588084 \n",
      "I0629 18:02:29.165219 4574504384 feedforward_robust.py:890] Epoch: 0984    cost: 0.137588084 \n",
      "Accuracy on batch: 1.000000\n",
      "I0629 18:02:29.166507 4574504384 feedforward_robust.py:891] Accuracy on batch: 1.000000\n",
      "Epoch: 0985    cost: 0.137387291 \n",
      "I0629 18:02:29.259562 4574504384 feedforward_robust.py:890] Epoch: 0985    cost: 0.137387291 \n",
      "Accuracy on batch: 1.000000\n",
      "I0629 18:02:29.260947 4574504384 feedforward_robust.py:891] Accuracy on batch: 1.000000\n"
     ]
    },
    {
     "name": "stdout",
     "output_type": "stream",
     "text": [
      "iteration: 20\n",
      "loss 0.001482\n",
      "iteration: 40\n",
      "loss 0.001622\n",
      "iteration: 0\n",
      "loss 0.000177\n",
      "iteration: 20\n",
      "loss 0.001416\n",
      "iteration: 40\n",
      "loss 0.001462\n",
      "iteration: 0\n",
      "loss 0.000174\n",
      "iteration: 20\n",
      "loss 0.001369\n"
     ]
    },
    {
     "name": "stderr",
     "output_type": "stream",
     "text": [
      "Epoch: 0986    cost: 0.137326136 \n",
      "I0629 18:02:29.361088 4574504384 feedforward_robust.py:890] Epoch: 0986    cost: 0.137326136 \n",
      "Accuracy on batch: 1.000000\n",
      "I0629 18:02:29.362455 4574504384 feedforward_robust.py:891] Accuracy on batch: 1.000000\n",
      "Epoch: 0987    cost: 0.137339026 \n",
      "I0629 18:02:29.459086 4574504384 feedforward_robust.py:890] Epoch: 0987    cost: 0.137339026 \n",
      "Accuracy on batch: 1.000000\n",
      "I0629 18:02:29.460176 4574504384 feedforward_robust.py:891] Accuracy on batch: 1.000000\n"
     ]
    },
    {
     "name": "stdout",
     "output_type": "stream",
     "text": [
      "iteration: 40\n",
      "loss 0.001421\n",
      "iteration: 0\n",
      "loss 0.000169\n",
      "iteration: 20\n",
      "loss 0.001349\n",
      "iteration: 40\n",
      "loss 0.001437\n",
      "iteration: 0\n",
      "loss 0.000183\n",
      "iteration: 20\n",
      "loss 0.001343\n",
      "iteration: 40\n",
      "loss 0.001409\n"
     ]
    },
    {
     "name": "stderr",
     "output_type": "stream",
     "text": [
      "Epoch: 0988    cost: 0.137284100 \n",
      "I0629 18:02:29.563296 4574504384 feedforward_robust.py:890] Epoch: 0988    cost: 0.137284100 \n",
      "Accuracy on batch: 1.000000\n",
      "I0629 18:02:29.564817 4574504384 feedforward_robust.py:891] Accuracy on batch: 1.000000\n",
      "Epoch: 0989    cost: 0.137199834 \n",
      "I0629 18:02:29.660389 4574504384 feedforward_robust.py:890] Epoch: 0989    cost: 0.137199834 \n",
      "Accuracy on batch: 1.000000\n",
      "I0629 18:02:29.661699 4574504384 feedforward_robust.py:891] Accuracy on batch: 1.000000\n",
      "Epoch: 0990    cost: 0.137289375 \n",
      "I0629 18:02:29.756613 4574504384 feedforward_robust.py:890] Epoch: 0990    cost: 0.137289375 \n",
      "Accuracy on batch: 1.000000\n",
      "I0629 18:02:29.757936 4574504384 feedforward_robust.py:891] Accuracy on batch: 1.000000\n"
     ]
    },
    {
     "name": "stdout",
     "output_type": "stream",
     "text": [
      "iteration: 0\n",
      "loss 0.000173\n",
      "iteration: 20\n",
      "loss 0.001348\n",
      "iteration: 40\n",
      "loss 0.001361\n",
      "iteration: 0\n",
      "loss 0.000166\n",
      "iteration: 20\n",
      "loss 0.001372\n",
      "iteration: 40\n",
      "loss 0.001451\n",
      "iteration: 0\n",
      "loss 0.000185\n"
     ]
    },
    {
     "name": "stderr",
     "output_type": "stream",
     "text": [
      "Epoch: 0991    cost: 0.137185723 \n",
      "I0629 18:02:29.857007 4574504384 feedforward_robust.py:890] Epoch: 0991    cost: 0.137185723 \n",
      "Accuracy on batch: 1.000000\n",
      "I0629 18:02:29.858310 4574504384 feedforward_robust.py:891] Accuracy on batch: 1.000000\n",
      "Epoch: 0992    cost: 0.137171194 \n",
      "I0629 18:02:29.950345 4574504384 feedforward_robust.py:890] Epoch: 0992    cost: 0.137171194 \n",
      "Accuracy on batch: 1.000000\n",
      "I0629 18:02:29.951493 4574504384 feedforward_robust.py:891] Accuracy on batch: 1.000000\n"
     ]
    },
    {
     "name": "stdout",
     "output_type": "stream",
     "text": [
      "iteration: 20\n",
      "loss 0.001336\n",
      "iteration: 40\n",
      "loss 0.001386\n",
      "iteration: 0\n",
      "loss 0.000163\n",
      "iteration: 20\n",
      "loss 0.001347\n",
      "iteration: 40\n",
      "loss 0.001386\n",
      "iteration: 0\n",
      "loss 0.000165\n",
      "iteration: 20\n",
      "loss 0.001387\n"
     ]
    },
    {
     "name": "stderr",
     "output_type": "stream",
     "text": [
      "Epoch: 0993    cost: 0.137138575 \n",
      "I0629 18:02:30.053959 4574504384 feedforward_robust.py:890] Epoch: 0993    cost: 0.137138575 \n",
      "Accuracy on batch: 1.000000\n",
      "I0629 18:02:30.055088 4574504384 feedforward_robust.py:891] Accuracy on batch: 1.000000\n",
      "Epoch: 0994    cost: 0.137099296 \n",
      "I0629 18:02:30.155509 4574504384 feedforward_robust.py:890] Epoch: 0994    cost: 0.137099296 \n",
      "Accuracy on batch: 1.000000\n",
      "I0629 18:02:30.156651 4574504384 feedforward_robust.py:891] Accuracy on batch: 1.000000\n"
     ]
    },
    {
     "name": "stdout",
     "output_type": "stream",
     "text": [
      "iteration: 40\n",
      "loss 0.001413\n",
      "iteration: 0\n",
      "loss 0.000156\n",
      "iteration: 20\n",
      "loss 0.001351\n",
      "iteration: 40\n",
      "loss 0.001403\n",
      "iteration: 0\n",
      "loss 0.000162\n",
      "iteration: 20\n",
      "loss 0.001337\n"
     ]
    },
    {
     "name": "stderr",
     "output_type": "stream",
     "text": [
      "Epoch: 0995    cost: 0.137115821 \n",
      "I0629 18:02:30.256860 4574504384 feedforward_robust.py:890] Epoch: 0995    cost: 0.137115821 \n",
      "Accuracy on batch: 1.000000\n",
      "I0629 18:02:30.258420 4574504384 feedforward_robust.py:891] Accuracy on batch: 1.000000\n",
      "Epoch: 0996    cost: 0.137062535 \n",
      "I0629 18:02:30.363008 4574504384 feedforward_robust.py:890] Epoch: 0996    cost: 0.137062535 \n",
      "Accuracy on batch: 1.000000\n",
      "I0629 18:02:30.364279 4574504384 feedforward_robust.py:891] Accuracy on batch: 1.000000\n"
     ]
    },
    {
     "name": "stdout",
     "output_type": "stream",
     "text": [
      "iteration: 40\n",
      "loss 0.001418\n",
      "iteration: 0\n",
      "loss 0.000177\n",
      "iteration: 20\n",
      "loss 0.001370\n",
      "iteration: 40\n",
      "loss 0.001417\n",
      "iteration: 0\n",
      "loss 0.000166\n",
      "iteration: 20\n",
      "loss 0.001358\n"
     ]
    },
    {
     "name": "stderr",
     "output_type": "stream",
     "text": [
      "Epoch: 0997    cost: 0.137050763 \n",
      "I0629 18:02:30.468526 4574504384 feedforward_robust.py:890] Epoch: 0997    cost: 0.137050763 \n",
      "Accuracy on batch: 1.000000\n",
      "I0629 18:02:30.470113 4574504384 feedforward_robust.py:891] Accuracy on batch: 1.000000\n",
      "Epoch: 0998    cost: 0.136962950 \n",
      "I0629 18:02:30.573532 4574504384 feedforward_robust.py:890] Epoch: 0998    cost: 0.136962950 \n",
      "Accuracy on batch: 1.000000\n",
      "I0629 18:02:30.575129 4574504384 feedforward_robust.py:891] Accuracy on batch: 1.000000\n"
     ]
    },
    {
     "name": "stdout",
     "output_type": "stream",
     "text": [
      "iteration: 40\n",
      "loss 0.001426\n",
      "iteration: 0\n",
      "loss 0.000175\n",
      "iteration: 20\n",
      "loss 0.001381\n",
      "iteration: 40\n",
      "loss 0.001413\n",
      "iteration: 0\n",
      "loss 0.000165\n",
      "iteration: 20\n",
      "loss 0.001390\n"
     ]
    },
    {
     "name": "stderr",
     "output_type": "stream",
     "text": [
      "Epoch: 0999    cost: 0.136969298 \n",
      "I0629 18:02:30.679570 4574504384 feedforward_robust.py:890] Epoch: 0999    cost: 0.136969298 \n",
      "Accuracy on batch: 1.000000\n",
      "I0629 18:02:30.680997 4574504384 feedforward_robust.py:891] Accuracy on batch: 1.000000\n",
      "Epoch: 1000    cost: 0.136911049 \n",
      "I0629 18:02:30.798588 4574504384 feedforward_robust.py:890] Epoch: 1000    cost: 0.136911049 \n",
      "Accuracy on batch: 1.000000\n",
      "I0629 18:02:30.800185 4574504384 feedforward_robust.py:891] Accuracy on batch: 1.000000\n",
      "Optimization Finished!\n",
      "I0629 18:02:30.804209 4574504384 feedforward_robust.py:892] Optimization Finished!\n",
      "Final Train Loss 0.000134\n",
      "I0629 18:02:30.843091 4574504384 feedforward_robust.py:900] Final Train Loss 0.000134\n",
      "Final Train Accuracy 1.000000:\n",
      "I0629 18:02:30.845181 4574504384 feedforward_robust.py:901] Final Train Accuracy 1.000000:\n",
      "Model was evaluated on benign data\n",
      "I0629 18:02:30.857744 4574504384 feedforward_robust.py:663] Model was evaluated on benign data\n"
     ]
    },
    {
     "name": "stdout",
     "output_type": "stream",
     "text": [
      "iteration: 40\n",
      "loss 0.001438\n",
      "iteration: 0\n",
      "loss 0.000174\n",
      "iteration: 20\n",
      "loss 0.001332\n",
      "iteration: 40\n",
      "loss 0.001386\n",
      "----Regular loss and accuracy ----\n",
      "(0.58132505, 0.758)\n"
     ]
    }
   ],
   "source": [
    "#Setup - Dataset stuff\n",
    "tf.reset_default_graph()\n",
    "sess = tf.Session()\n",
    "hidden_sizes = [64, 64, 5]\n",
    "dataset = ((phi_x_train, y_train), (phi_x_test, y_test))\n",
    "\n",
    "scope_name = \"visualize_one_dim\"\n",
    "if not load_weights:\n",
    "    with tf.variable_scope(scope_name, reuse = False) as scope:\n",
    "\n",
    "        logdir = tensorboard_dir + str(counter)\n",
    "\n",
    "        #Create model\n",
    "        writer = tf.summary.FileWriter(logdir)\n",
    "        model = ffr.RobustMLP(input_shape, hidden_sizes, num_classes, writer = writer, scope = scope_name, logger = logger, sigma = sigma)\n",
    "        sess.run(tf.global_variables_initializer())\n",
    "        print(\"Created model successfully. Now going to train\")\n",
    "    \n",
    "        #Train model\n",
    "        preds_list = model.pgd_fit(sess, phi_x_train, y_train, eps_train, pgd_eta, pgd_num_iter, training_epochs = epochs, lr = lr, batch_size = batch_size, x_test = phi_x_test)\n",
    "        \n",
    "        #preds_list, feat_list = returned[0], returned[1]\n",
    "        \n",
    "        cross_loss, cross_acc = model.evaluate(sess, phi_x_test, y_test)\n",
    "        print(\"----Regular loss and accuracy ----\")\n",
    "        print((cross_loss, cross_acc))\n",
    "        \n",
    "        \n",
    "        #featurization = model.get_featurizations(sess, x_test)\n",
    "        \"\"\"\n",
    "        #cross_margins = model.get_pointwise_margin(sess, x_train, y_train)\n",
    "        cross_weight_norms = model.get_weight_norms(sess)\n",
    "        print(\"----- Weight norms ----\")\n",
    "        print(cross_weight_norms)\n",
    "        \n",
    "        #Test model - regular, fgsm adv, pgd adv\n",
    "\n",
    "        \n",
    "        cross_confidences = model.get_prediction(sess, x_test_flat)\n",
    "        \n",
    "        cross_spectral = model.get_spectral_norm(sess)\n",
    "        \"\"\""
   ]
  },
  {
   "cell_type": "code",
   "execution_count": 15,
   "metadata": {},
   "outputs": [],
   "source": [
    "#feat_list = np.array(feat_list)\n",
    "preds_list = np.array(preds_list)"
   ]
  },
  {
   "cell_type": "code",
   "execution_count": 16,
   "metadata": {},
   "outputs": [],
   "source": [
    "#feat_list.shape"
   ]
  },
  {
   "cell_type": "code",
   "execution_count": null,
   "metadata": {},
   "outputs": [],
   "source": []
  },
  {
   "cell_type": "markdown",
   "metadata": {},
   "source": [
    "# Processing preds and plotting"
   ]
  },
  {
   "cell_type": "code",
   "execution_count": 17,
   "metadata": {},
   "outputs": [],
   "source": [
    "def flatten_single_pred(preds_single_epoch):\n",
    "    preds_new = [preds[1] - preds[0] for preds in preds_single_epoch]\n",
    "    return preds_new"
   ]
  },
  {
   "cell_type": "code",
   "execution_count": 18,
   "metadata": {},
   "outputs": [],
   "source": [
    "preds_list_flat = [flatten_single_pred(pse) for pse in preds_list]"
   ]
  },
  {
   "cell_type": "code",
   "execution_count": 19,
   "metadata": {},
   "outputs": [
    {
     "data": {
      "text/plain": [
       "(1000, 10000)"
      ]
     },
     "execution_count": 19,
     "metadata": {},
     "output_type": "execute_result"
    }
   ],
   "source": [
    "preds_list_flat = np.array(preds_list_flat)\n",
    "preds_list_flat.shape"
   ]
  },
  {
   "cell_type": "code",
   "execution_count": 20,
   "metadata": {},
   "outputs": [
    {
     "data": {
      "text/plain": [
       "(1000,)"
      ]
     },
     "execution_count": 20,
     "metadata": {},
     "output_type": "execute_result"
    }
   ],
   "source": [
    "preds_means = np.mean(np.abs(preds_list_flat), axis = 1)\n",
    "preds_means.shape"
   ]
  },
  {
   "cell_type": "code",
   "execution_count": 21,
   "metadata": {},
   "outputs": [
    {
     "data": {
      "text/plain": [
       "array([0.3234252 , 0.31290516, 0.30247676, 0.292458  , 0.28299442,\n",
       "       0.27386954, 0.2653566 , 0.2573187 , 0.24972875, 0.2426582 ,\n",
       "       0.23609185, 0.22996601, 0.22413093, 0.21866973, 0.21366557,\n",
       "       0.20908076, 0.20488872, 0.20112073, 0.19777615, 0.19476746,\n",
       "       0.19209881, 0.18985961, 0.1880467 , 0.18682864, 0.18600467,\n",
       "       0.18557896, 0.18552755, 0.18594663, 0.18677382, 0.18782277,\n",
       "       0.18924417, 0.19106506, 0.1932144 , 0.19566017, 0.19833787,\n",
       "       0.20111743, 0.20398155, 0.20683251, 0.2098957 , 0.21308601,\n",
       "       0.21656226, 0.22031026, 0.2242509 , 0.22842132, 0.2329814 ,\n",
       "       0.23795867, 0.24325928, 0.24864043, 0.25442752, 0.26021287,\n",
       "       0.26552597, 0.27071205, 0.27616233, 0.28106788, 0.28583488,\n",
       "       0.2901194 , 0.29454574, 0.2984213 , 0.30226126, 0.3064825 ,\n",
       "       0.31075433, 0.31482738, 0.31936625, 0.32383686, 0.32888627,\n",
       "       0.3336471 , 0.33881736, 0.3439437 , 0.34886026, 0.35304213,\n",
       "       0.35762042, 0.36196288, 0.36597657, 0.3703367 , 0.37448177,\n",
       "       0.37882456, 0.3833268 , 0.38712993, 0.39118466, 0.39555544,\n",
       "       0.3996244 , 0.40389532, 0.4084839 , 0.41340145, 0.41846782,\n",
       "       0.42373055, 0.4293558 , 0.4348302 , 0.43981788, 0.44468656,\n",
       "       0.44932002, 0.45389342, 0.45828325, 0.46181044, 0.46547574,\n",
       "       0.46908066, 0.47258237, 0.47631058, 0.48031762, 0.48477423,\n",
       "       0.48960733, 0.49462056, 0.49988154, 0.50543094, 0.51120764,\n",
       "       0.5173499 , 0.5238877 , 0.5298825 , 0.53574973, 0.54119545,\n",
       "       0.5468213 , 0.55242056, 0.5580218 , 0.5633582 , 0.5686674 ,\n",
       "       0.57409364, 0.57944566, 0.58469886, 0.58906376, 0.5939215 ,\n",
       "       0.5978469 , 0.6020254 , 0.60587215, 0.61003506, 0.614497  ,\n",
       "       0.619272  , 0.62437487, 0.62835133, 0.63262004, 0.6371018 ,\n",
       "       0.6401149 , 0.6427349 , 0.6451514 , 0.64844334, 0.6517846 ,\n",
       "       0.6550975 , 0.65782285, 0.6601415 , 0.66267985, 0.6647683 ,\n",
       "       0.6673561 , 0.6701333 , 0.6731374 , 0.6763052 , 0.67957616,\n",
       "       0.683818  , 0.68890345, 0.69307214, 0.6980822 , 0.70326513,\n",
       "       0.7091539 , 0.7152025 , 0.72118056, 0.72701204, 0.73287857,\n",
       "       0.7386971 , 0.7452721 , 0.7517751 , 0.7587274 , 0.76376575,\n",
       "       0.76928777, 0.7751624 , 0.78152096, 0.7862083 , 0.7889565 ,\n",
       "       0.7916004 , 0.79474944, 0.79863447, 0.80263054, 0.8059171 ,\n",
       "       0.8097935 , 0.81407326, 0.8182199 , 0.82268417, 0.82737464,\n",
       "       0.8325334 , 0.8375198 , 0.8423119 , 0.84641856, 0.85084826,\n",
       "       0.8556031 , 0.8590759 , 0.8615181 , 0.8635367 , 0.86452734,\n",
       "       0.86618847, 0.8684795 , 0.87008595, 0.87161154, 0.87301093,\n",
       "       0.87452257, 0.8762511 , 0.8781375 , 0.88018584, 0.8820822 ,\n",
       "       0.88386464, 0.8860875 , 0.88861746, 0.8914183 , 0.89457256,\n",
       "       0.8978385 , 0.90140665, 0.90526015, 0.9093348 , 0.9131916 ,\n",
       "       0.91697556, 0.9209656 , 0.92514616, 0.92920107, 0.93321985,\n",
       "       0.9372955 , 0.94143456, 0.9453691 , 0.9493881 , 0.9534071 ,\n",
       "       0.95716864, 0.96106243, 0.9650416 , 0.96916074, 0.9733908 ,\n",
       "       0.97745675, 0.9813661 , 0.985257  , 0.98890996, 0.99251056,\n",
       "       0.9962426 , 0.9999977 , 1.0039611 , 1.0080668 , 1.0122877 ,\n",
       "       1.016521  , 1.0208483 , 1.0251942 , 1.0295839 , 1.0340792 ,\n",
       "       1.038662  , 1.043346  , 1.0480721 , 1.0529078 , 1.0576769 ,\n",
       "       1.0624299 , 1.0672132 , 1.0720197 , 1.0768962 , 1.081747  ,\n",
       "       1.0867541 , 1.091768  , 1.0968317 , 1.1018455 , 1.1069186 ,\n",
       "       1.1120688 , 1.1172664 , 1.1224751 , 1.1275622 , 1.1326809 ,\n",
       "       1.1377685 , 1.1429172 , 1.1479917 , 1.1530621 , 1.1580945 ,\n",
       "       1.1631131 , 1.1681435 , 1.1731254 , 1.1780705 , 1.1829519 ,\n",
       "       1.1878508 , 1.1927172 , 1.1975338 , 1.2022973 , 1.2070717 ,\n",
       "       1.211858  , 1.2166    , 1.2213024 , 1.22602   , 1.2307346 ,\n",
       "       1.2353989 , 1.2400569 , 1.2446537 , 1.2492748 , 1.2538869 ,\n",
       "       1.2584713 , 1.2630259 , 1.2675561 , 1.2721258 , 1.2766805 ,\n",
       "       1.2811637 , 1.285585  , 1.2899485 , 1.2943119 , 1.2986361 ,\n",
       "       1.3029274 , 1.3071404 , 1.3112915 , 1.315423  , 1.3195328 ,\n",
       "       1.3235805 , 1.3275995 , 1.3315994 , 1.3355472 , 1.3394405 ,\n",
       "       1.3433032 , 1.3471315 , 1.3509063 , 1.3546381 , 1.3583684 ,\n",
       "       1.3620579 , 1.3657197 , 1.3693618 , 1.3729652 , 1.3765113 ,\n",
       "       1.3800209 , 1.3834887 , 1.3869445 , 1.3903764 , 1.393783  ,\n",
       "       1.3971711 , 1.400506  , 1.403791  , 1.4070476 , 1.4102583 ,\n",
       "       1.4134629 , 1.4166496 , 1.4198335 , 1.4229425 , 1.4260298 ,\n",
       "       1.4291098 , 1.4321661 , 1.4351957 , 1.4382122 , 1.4411888 ,\n",
       "       1.4441526 , 1.4471076 , 1.4500242 , 1.4529155 , 1.4557369 ,\n",
       "       1.4585087 , 1.46125   , 1.4639931 , 1.4667262 , 1.4694409 ,\n",
       "       1.4721369 , 1.4748162 , 1.4774686 , 1.480079  , 1.482667  ,\n",
       "       1.4851909 , 1.4877123 , 1.4902047 , 1.4926896 , 1.4951458 ,\n",
       "       1.4976001 , 1.5000727 , 1.5025494 , 1.5049906 , 1.5073743 ,\n",
       "       1.5097378 , 1.5120775 , 1.5143881 , 1.5166532 , 1.5189228 ,\n",
       "       1.5211741 , 1.523414  , 1.5256232 , 1.5278125 , 1.5299777 ,\n",
       "       1.532142  , 1.534315  , 1.5364645 , 1.5386134 , 1.5407461 ,\n",
       "       1.5428653 , 1.5449739 , 1.547047  , 1.5490963 , 1.5511515 ,\n",
       "       1.5531808 , 1.5551922 , 1.557168  , 1.5591586 , 1.5611414 ,\n",
       "       1.5631123 , 1.5650915 , 1.5670289 , 1.5689677 , 1.570891  ,\n",
       "       1.5728043 , 1.5747126 , 1.5765933 , 1.5784605 , 1.580315  ,\n",
       "       1.5821341 , 1.5839334 , 1.5857418 , 1.5875334 , 1.5893277 ,\n",
       "       1.5911088 , 1.5929031 , 1.5947037 , 1.5965127 , 1.5983177 ,\n",
       "       1.6001276 , 1.6019284 , 1.6037383 , 1.6055019 , 1.6072276 ,\n",
       "       1.6089627 , 1.6106898 , 1.6124326 , 1.6141256 , 1.6158155 ,\n",
       "       1.6175066 , 1.619181  , 1.6208524 , 1.622537  , 1.6242008 ,\n",
       "       1.6258291 , 1.6274558 , 1.6290632 , 1.6306633 , 1.6322399 ,\n",
       "       1.6338267 , 1.6353865 , 1.6369461 , 1.6385131 , 1.640084  ,\n",
       "       1.6416453 , 1.6431968 , 1.6447389 , 1.6463081 , 1.6479018 ,\n",
       "       1.6494951 , 1.6510644 , 1.6526287 , 1.6541883 , 1.6557479 ,\n",
       "       1.657311  , 1.6588942 , 1.6604826 , 1.6620281 , 1.6635691 ,\n",
       "       1.665107  , 1.6666483 , 1.6681597 , 1.6696539 , 1.6711102 ,\n",
       "       1.67256   , 1.6740799 , 1.6755695 , 1.6770325 , 1.6784898 ,\n",
       "       1.6799222 , 1.6813363 , 1.68276   , 1.6842074 , 1.6856256 ,\n",
       "       1.6870141 , 1.6884203 , 1.6898234 , 1.6912273 , 1.6926469 ,\n",
       "       1.694037  , 1.6954203 , 1.6968055 , 1.6981969 , 1.6995523 ,\n",
       "       1.700906  , 1.7022287 , 1.7035445 , 1.7048559 , 1.7061785 ,\n",
       "       1.7075052 , 1.708794  , 1.7100848 , 1.7113737 , 1.7126883 ,\n",
       "       1.7139673 , 1.7152365 , 1.7164955 , 1.7177492 , 1.7189904 ,\n",
       "       1.7202297 , 1.7214144 , 1.7225826 , 1.7237242 , 1.7248662 ,\n",
       "       1.726033  , 1.7272102 , 1.7284006 , 1.7295812 , 1.7307801 ,\n",
       "       1.7319801 , 1.733173  , 1.7343096 , 1.7354445 , 1.7365752 ,\n",
       "       1.7377263 , 1.7388946 , 1.7400283 , 1.7411522 , 1.7422881 ,\n",
       "       1.7434086 , 1.7445121 , 1.7456242 , 1.7467729 , 1.7479123 ,\n",
       "       1.749043  , 1.7501903 , 1.7513214 , 1.7524271 , 1.7535539 ,\n",
       "       1.7546672 , 1.7557791 , 1.7568886 , 1.7579834 , 1.7590445 ,\n",
       "       1.7601056 , 1.7611228 , 1.7621166 , 1.7631205 , 1.7641106 ,\n",
       "       1.765122  , 1.7661352 , 1.7671627 , 1.7681713 , 1.7691826 ,\n",
       "       1.7701957 , 1.7711989 , 1.7721522 , 1.7731098 , 1.7740735 ,\n",
       "       1.7750525 , 1.7760774 , 1.7770963 , 1.7781105 , 1.7791457 ,\n",
       "       1.7801918 , 1.7812252 , 1.7822906 , 1.7833503 , 1.7843847 ,\n",
       "       1.7853676 , 1.7863632 , 1.7873563 , 1.7883488 , 1.7893265 ,\n",
       "       1.7902623 , 1.7911597 , 1.7920831 , 1.7929852 , 1.7939078 ,\n",
       "       1.7948135 , 1.7957021 , 1.7965816 , 1.7974774 , 1.7983615 ,\n",
       "       1.7992531 , 1.8001155 , 1.8010199 , 1.8019315 , 1.8028408 ,\n",
       "       1.8037684 , 1.8047377 , 1.8056821 , 1.8066441 , 1.8076047 ,\n",
       "       1.8085934 , 1.8095719 , 1.8105211 , 1.8114849 , 1.8124377 ,\n",
       "       1.813397  , 1.8143653 , 1.815288  , 1.8161854 , 1.8170588 ,\n",
       "       1.8179084 , 1.8187516 , 1.8195297 , 1.8203293 , 1.8211209 ,\n",
       "       1.8219144 , 1.8227557 , 1.8235441 , 1.8243332 , 1.8250918 ,\n",
       "       1.8258901 , 1.8267064 , 1.8274941 , 1.8282446 , 1.8289504 ,\n",
       "       1.8296262 , 1.8303367 , 1.8310299 , 1.8317118 , 1.8323405 ,\n",
       "       1.8330164 , 1.8336809 , 1.8343635 , 1.8350735 , 1.8358375 ,\n",
       "       1.83662   , 1.8374207 , 1.8382213 , 1.8390082 , 1.839799  ,\n",
       "       1.8405586 , 1.8413062 , 1.8420236 , 1.8427045 , 1.8433814 ,\n",
       "       1.8440834 , 1.8447869 , 1.8454792 , 1.8461752 , 1.8468814 ,\n",
       "       1.8476008 , 1.8483052 , 1.848995  , 1.8497127 , 1.8504219 ,\n",
       "       1.8511355 , 1.8518219 , 1.8524733 , 1.8531513 , 1.8538555 ,\n",
       "       1.8545616 , 1.855283  , 1.8560421 , 1.8568366 , 1.8576092 ,\n",
       "       1.8583926 , 1.8591514 , 1.8599015 , 1.860619  , 1.8613354 ,\n",
       "       1.8620342 , 1.8627471 , 1.8634346 , 1.8641366 , 1.8647864 ,\n",
       "       1.8654088 , 1.8660504 , 1.866702  , 1.8673649 , 1.8679748 ,\n",
       "       1.868618  , 1.869275  , 1.8699266 , 1.8705969 , 1.8712447 ,\n",
       "       1.8718599 , 1.8725091 , 1.8731598 , 1.8738629 , 1.8745762 ,\n",
       "       1.8752612 , 1.8759315 , 1.876586  , 1.877227  , 1.8778781 ,\n",
       "       1.8785468 , 1.8792645 , 1.8800067 , 1.8806803 , 1.8813868 ,\n",
       "       1.8821031 , 1.8828465 , 1.8835654 , 1.8842511 , 1.8849125 ,\n",
       "       1.8856231 , 1.8863037 , 1.8869852 , 1.8876351 , 1.8883096 ,\n",
       "       1.8889766 , 1.8896295 , 1.8902855 , 1.8909078 , 1.8915508 ,\n",
       "       1.8921504 , 1.892707  , 1.8932536 , 1.8938245 , 1.8944186 ,\n",
       "       1.8950344 , 1.8956226 , 1.89621   , 1.8967968 , 1.897438  ,\n",
       "       1.8980532 , 1.898693  , 1.8993511 , 1.8999923 , 1.9006234 ,\n",
       "       1.901221  , 1.9018147 , 1.9024178 , 1.9030371 , 1.9035847 ,\n",
       "       1.9040918 , 1.9046338 , 1.9052293 , 1.9058052 , 1.9063528 ,\n",
       "       1.9069256 , 1.9074615 , 1.9079782 , 1.9084812 , 1.9089364 ,\n",
       "       1.9094015 , 1.9098848 , 1.9104111 , 1.9109285 , 1.9114736 ,\n",
       "       1.9120516 , 1.9125872 , 1.9131067 , 1.9136199 , 1.9141244 ,\n",
       "       1.914659  , 1.9152131 , 1.9157672 , 1.9162879 , 1.9168206 ,\n",
       "       1.9173592 , 1.9179078 , 1.9184346 , 1.918959  , 1.919491  ,\n",
       "       1.9200128 , 1.9205426 , 1.9210893 , 1.9215996 , 1.9220206 ,\n",
       "       1.92247   , 1.9229152 , 1.9233742 , 1.9238207 , 1.9242718 ,\n",
       "       1.9246945 , 1.9250988 , 1.9254961 , 1.9258868 , 1.926302  ,\n",
       "       1.926715  , 1.9271467 , 1.9275564 , 1.9279715 , 1.9283698 ,\n",
       "       1.9288019 , 1.9292684 , 1.9297848 , 1.9302667 , 1.9307117 ,\n",
       "       1.9311281 , 1.9315798 , 1.9320678 , 1.9325502 , 1.9330442 ,\n",
       "       1.933557  , 1.9340762 , 1.9345187 , 1.9349756 , 1.9354135 ,\n",
       "       1.93585   , 1.9362768 , 1.9366602 , 1.9369936 , 1.9373537 ,\n",
       "       1.9377371 , 1.9381101 , 1.9384891 , 1.9388953 , 1.9393172 ,\n",
       "       1.9397178 , 1.9400938 , 1.9404826 , 1.9408822 , 1.9412928 ,\n",
       "       1.9417309 , 1.9422069 , 1.9426353 , 1.9430615 , 1.9435099 ,\n",
       "       1.9439982 , 1.9445192 , 1.9450213 , 1.9455034 , 1.9459691 ,\n",
       "       1.9464142 , 1.9468637 , 1.9473382 , 1.9477808 , 1.9481691 ,\n",
       "       1.9485655 , 1.9489514 , 1.9492873 , 1.9496385 , 1.9499471 ,\n",
       "       1.9502577 , 1.9505383 , 1.9507918 , 1.9510415 , 1.9513083 ,\n",
       "       1.9515711 , 1.9518652 , 1.9521861 , 1.9525318 , 1.9528707 ,\n",
       "       1.9532268 , 1.9535838 , 1.9539208 , 1.95425   , 1.9545807 ,\n",
       "       1.954909  , 1.9552497 , 1.9555799 , 1.9558659 , 1.9561679 ,\n",
       "       1.9565301 , 1.9568666 , 1.957217  , 1.9575566 , 1.9579297 ,\n",
       "       1.9583027 , 1.958673  , 1.9590391 , 1.9594043 , 1.9597584 ,\n",
       "       1.960101  , 1.9604446 , 1.9608308 , 1.9612428 , 1.9615977 ,\n",
       "       1.961993  , 1.9624133 , 1.9628215 , 1.963192  , 1.9634943 ,\n",
       "       1.9637908 , 1.9641024 , 1.9644148 , 1.9647278 , 1.9650072 ,\n",
       "       1.9652653 , 1.9654871 , 1.9656521 , 1.9658164 , 1.9659984 ,\n",
       "       1.966174  , 1.9663588 , 1.9665102 , 1.9667011 , 1.9668525 ,\n",
       "       1.9670527 , 1.9672934 , 1.9675621 , 1.9678245 , 1.9681523 ,\n",
       "       1.9684658 , 1.9688047 , 1.9691732 , 1.9695324 , 1.9698676 ,\n",
       "       1.9701666 , 1.9704709 , 1.9707719 , 1.9710934 , 1.9713461 ,\n",
       "       1.9716451 , 1.9719744 , 1.9722952 , 1.972585  , 1.9729049 ,\n",
       "       1.9732082 , 1.973509  , 1.9737574 , 1.9740318 , 1.974294  ,\n",
       "       1.974525  , 1.9747473 , 1.9749882 , 1.9752268 , 1.9755223 ,\n",
       "       1.9758373 , 1.976124  , 1.9763805 , 1.9766234 , 1.9768519 ,\n",
       "       1.9770851 , 1.9773282 , 1.977526  , 1.9777715 , 1.9779992 ,\n",
       "       1.9782363 , 1.9784365 , 1.9786055 , 1.9787787 , 1.9789668 ,\n",
       "       1.9791571 , 1.9793575 , 1.9795492 , 1.9797789 , 1.9799658 ,\n",
       "       1.980173  , 1.9804004 , 1.9806781 , 1.980968  , 1.9812204 ,\n",
       "       1.9814703 , 1.9817102 , 1.9819268 , 1.9821508 , 1.9824219 ,\n",
       "       1.9826688 , 1.9828738 , 1.9830292 , 1.9831702 , 1.9833508 ,\n",
       "       1.9836035 , 1.9838543 , 1.984065  , 1.984293  , 1.9845346 ,\n",
       "       1.9847522 , 1.9849691 , 1.9852442 , 1.98554   , 1.9858205 ,\n",
       "       1.9861287 , 1.986408  , 1.9866849 , 1.9869467 , 1.9871887 ,\n",
       "       1.9873848 , 1.9876055 , 1.9877844 , 1.9879304 , 1.9880707 ,\n",
       "       1.9882578 , 1.9884787 , 1.9887292 , 1.9890194 , 1.9892926 ,\n",
       "       1.9895022 , 1.989658  , 1.9898398 , 1.9899927 , 1.9901814 ,\n",
       "       1.9903846 , 1.9905722 , 1.9907787 , 1.991032  , 1.9912887 ,\n",
       "       1.9915618 , 1.9918094 , 1.9920219 , 1.99223   , 1.9924482 ,\n",
       "       1.9926625 , 1.9928774 , 1.9930832 , 1.9932961 , 1.9935207 ,\n",
       "       1.9936924 , 1.993902  , 1.9941168 , 1.9942684 , 1.9943523 ,\n",
       "       1.9944916 , 1.994617  , 1.9947565 , 1.9948969 , 1.9950275 ,\n",
       "       1.9951551 , 1.9953201 , 1.9955254 , 1.9957132 , 1.995874  ,\n",
       "       1.9960498 , 1.9961895 , 1.9963932 , 1.9966218 , 1.9968919 ,\n",
       "       1.9971478 , 1.9974289 , 1.9977452 , 1.9980099 , 1.9982353 ,\n",
       "       1.9984516 , 1.9986775 , 1.998843  , 1.9989539 , 1.9990653 ,\n",
       "       1.9991367 , 1.9992133 , 1.9992446 , 1.9993129 , 1.9994248 ],\n",
       "      dtype=float32)"
      ]
     },
     "execution_count": 21,
     "metadata": {},
     "output_type": "execute_result"
    }
   ],
   "source": [
    "preds_means"
   ]
  },
  {
   "cell_type": "code",
   "execution_count": 22,
   "metadata": {},
   "outputs": [
    {
     "data": {
      "text/plain": [
       "(10000,)"
      ]
     },
     "execution_count": 22,
     "metadata": {},
     "output_type": "execute_result"
    }
   ],
   "source": [
    "final_preds = preds_list_flat[-1]\n",
    "final_preds.shape"
   ]
  },
  {
   "cell_type": "code",
   "execution_count": 23,
   "metadata": {},
   "outputs": [],
   "source": [
    "indices = np.arange(0, 100, 20)"
   ]
  },
  {
   "cell_type": "code",
   "execution_count": 24,
   "metadata": {},
   "outputs": [
    {
     "data": {
      "text/plain": [
       "array([ 0, 20, 40, 60, 80])"
      ]
     },
     "execution_count": 24,
     "metadata": {},
     "output_type": "execute_result"
    }
   ],
   "source": [
    "indices"
   ]
  },
  {
   "cell_type": "code",
   "execution_count": 32,
   "metadata": {},
   "outputs": [],
   "source": [
    "indices_two = np.arange(100, 1000, 100)"
   ]
  },
  {
   "cell_type": "code",
   "execution_count": 33,
   "metadata": {},
   "outputs": [],
   "source": [
    "indices = np.hstack((indices, indices_two))"
   ]
  },
  {
   "cell_type": "code",
   "execution_count": 34,
   "metadata": {},
   "outputs": [
    {
     "data": {
      "text/plain": [
       "(14, 10000)"
      ]
     },
     "execution_count": 34,
     "metadata": {},
     "output_type": "execute_result"
    }
   ],
   "source": [
    "preds_list_smaller = preds_list_flat[indices]\n",
    "preds_list_smaller.shape"
   ]
  },
  {
   "cell_type": "code",
   "execution_count": 35,
   "metadata": {},
   "outputs": [
    {
     "data": {
      "text/plain": [
       "(8, 1)"
      ]
     },
     "execution_count": 35,
     "metadata": {},
     "output_type": "execute_result"
    }
   ],
   "source": [
    "x_train.shape"
   ]
  },
  {
   "cell_type": "code",
   "execution_count": 36,
   "metadata": {},
   "outputs": [
    {
     "data": {
      "text/plain": [
       "(8, 1)"
      ]
     },
     "execution_count": 36,
     "metadata": {},
     "output_type": "execute_result"
    }
   ],
   "source": [
    "y_train_ogi.shape"
   ]
  },
  {
   "cell_type": "code",
   "execution_count": 38,
   "metadata": {},
   "outputs": [
    {
     "data": {
      "image/png": "[encoded data removed]",
      "text/plain": [
       "<Figure size 432x288 with 1 Axes>"
      ]
     },
     "metadata": {
      "needs_background": "light"
     },
     "output_type": "display_data"
    },
    {
     "data": {
      "image/png": "[encoded data removed]",
      "text/plain": [
       "<Figure size 432x288 with 1 Axes>"
      ]
     },
     "metadata": {
      "needs_background": "light"
     },
     "output_type": "display_data"
    },
    {
     "data": {
      "image/png": "[encoded data removed]",
      "text/plain": [
       "<Figure size 432x288 with 1 Axes>"
      ]
     },
     "metadata": {
      "needs_background": "light"
     },
     "output_type": "display_data"
    },
    {
     "data": {
      "image/png": "[encoded data removed]",
      "text/plain": [
       "<Figure size 432x288 with 1 Axes>"
      ]
     },
     "metadata": {
      "needs_background": "light"
     },
     "output_type": "display_data"
    },
    {
     "data": {
      "image/png": "[encoded data removed]",
      "text/plain": [
       "<Figure size 432x288 with 1 Axes>"
      ]
     },
     "metadata": {
      "needs_background": "light"
     },
     "output_type": "display_data"
    },
    {
     "data": {
      "image/png": "[encoded data removed]",
      "text/plain": [
       "<Figure size 432x288 with 1 Axes>"
      ]
     },
     "metadata": {
      "needs_background": "light"
     },
     "output_type": "display_data"
    },
    {
     "data": {
      "image/png": "[encoded data removed]",
      "text/plain": [
       "<Figure size 432x288 with 1 Axes>"
      ]
     },
     "metadata": {
      "needs_background": "light"
     },
     "output_type": "display_data"
    },
    {
     "data": {
      "image/png": "[encoded data removed]",
      "text/plain": [
       "<Figure size 432x288 with 1 Axes>"
      ]
     },
     "metadata": {
      "needs_background": "light"
     },
     "output_type": "display_data"
    },
    {
     "data": {
      "image/png": "[encoded data removed]",
      "text/plain": [
       "<Figure size 432x288 with 1 Axes>"
      ]
     },
     "metadata": {
      "needs_background": "light"
     },
     "output_type": "display_data"
    },
    {
     "data": {
      "image/png": "[encoded data removed]",
      "text/plain": [
       "<Figure size 432x288 with 1 Axes>"
      ]
     },
     "metadata": {
      "needs_background": "light"
     },
     "output_type": "display_data"
    },
    {
     "data": {
      "image/png": "[encoded data removed]",
      "text/plain": [
       "<Figure size 432x288 with 1 Axes>"
      ]
     },
     "metadata": {
      "needs_background": "light"
     },
     "output_type": "display_data"
    },
    {
     "data": {
      "image/png": "[encoded data removed]",
      "text/plain": [
       "<Figure size 432x288 with 1 Axes>"
      ]
     },
     "metadata": {
      "needs_background": "light"
     },
     "output_type": "display_data"
    },
    {
     "data": {
      "image/png": "[encoded data removed]",
      "text/plain": [
       "<Figure size 432x288 with 1 Axes>"
      ]
     },
     "metadata": {
      "needs_background": "light"
     },
     "output_type": "display_data"
    },
    {
     "data": {
      "image/png": "[encoded data removed]",
      "text/plain": [
       "<Figure size 432x288 with 1 Axes>"
      ]
     },
     "metadata": {
      "needs_background": "light"
     },
     "output_type": "display_data"
    }
   ],
   "source": [
    "#plt.plot(x_train, y_train_ogi.flatten(),  color = \"blue\", linewidth=0, marker=\"D\", markersize=5, label = 'Train data', alpha = 0.75 )\n",
    "\n",
    "for (idx, preds) in enumerate(preds_list_smaller):\n",
    "    label = \"Iteration: \" + str(indices[idx])\n",
    "    plt.scatter(x_train, y_train_ogi, label = 'train data', color = 'red')\n",
    "    plt.plot(x_test, preds,'-', marker = 'x', markersize = 0, linewidth = 1.5, label = label)\n",
    "    plt.ylim([-10,10])\n",
    "    plt.legend()\n",
    "    plt.show()"
   ]
  },
  {
   "cell_type": "code",
   "execution_count": null,
   "metadata": {},
   "outputs": [],
   "source": []
  },
  {
   "cell_type": "markdown",
   "metadata": {},
   "source": [
    "# Processing feats and plotting"
   ]
  },
  {
   "cell_type": "code",
   "execution_count": 31,
   "metadata": {},
   "outputs": [
    {
     "ename": "NameError",
     "evalue": "name 'feat_list' is not defined",
     "output_type": "error",
     "traceback": [
      "\u001b[0;31m---------------------------------------------------------------------------\u001b[0m",
      "\u001b[0;31mNameError\u001b[0m                                 Traceback (most recent call last)",
      "\u001b[0;32m<ipython-input-31-ea1cdc4e5edd>\u001b[0m in \u001b[0;36m<module>\u001b[0;34m\u001b[0m\n\u001b[0;32m----> 1\u001b[0;31m \u001b[0mfeats_select\u001b[0m \u001b[0;34m=\u001b[0m \u001b[0mfeat_list\u001b[0m\u001b[0;34m[\u001b[0m\u001b[0;36m80\u001b[0m\u001b[0;34m]\u001b[0m\u001b[0;34m\u001b[0m\u001b[0;34m\u001b[0m\u001b[0m\n\u001b[0m",
      "\u001b[0;31mNameError\u001b[0m: name 'feat_list' is not defined"
     ]
    }
   ],
   "source": [
    "feats_select = feat_list[80]"
   ]
  },
  {
   "cell_type": "code",
   "execution_count": null,
   "metadata": {},
   "outputs": [],
   "source": [
    "for i in range(5):\n",
    "    feat_i = feats_select[:, i]\n",
    "    label = \"feature no: \" + str(i)\n",
    "    plt.plot(x_test, feat_i, label = label)\n",
    "    plt.legend()\n",
    "    plt.show()"
   ]
  },
  {
   "cell_type": "code",
   "execution_count": null,
   "metadata": {},
   "outputs": [],
   "source": []
  }
 ],
 "metadata": {
  "kernelspec": {
   "display_name": "Python 3",
   "language": "python",
   "name": "python3"
  },
  "language_info": {
   "codemirror_mode": {
    "name": "ipython",
    "version": 3
   },
   "file_extension": ".py",
   "mimetype": "text/x-python",
   "name": "python",
   "nbconvert_exporter": "python",
   "pygments_lexer": "ipython3",
   "version": "3.7.3"
  }
 },
 "nbformat": 4,
 "nbformat_minor": 4
}

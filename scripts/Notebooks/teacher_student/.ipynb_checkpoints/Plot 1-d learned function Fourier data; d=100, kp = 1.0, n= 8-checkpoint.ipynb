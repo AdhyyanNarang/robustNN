{
 "cells": [
  {
   "cell_type": "code",
   "execution_count": 1,
   "metadata": {},
   "outputs": [
    {
     "name": "stderr",
     "output_type": "stream",
     "text": [
      "Using TensorFlow backend.\n",
      "WARNING: Logging before flag parsing goes to stderr.\n",
      "W0627 23:48:21.064129 4538308032 deprecation_wrapper.py:119] From /usr/local/lib/python3.7/site-packages/cleverhans/utils_tf.py:341: The name tf.GraphKeys is deprecated. Please use tf.compat.v1.GraphKeys instead.\n",
      "\n"
     ]
    }
   ],
   "source": [
    "#Imports\n",
    "import logging\n",
    "import os, random, time, sys\n",
    "import numpy as np\n",
    "import tensorflow as tf\n",
    "import tensorflow.contrib.layers as layers\n",
    "import ipdb\n",
    "import keras\n",
    "import pandas as pd\n",
    "\n",
    "sys.path.append('../../../')\n",
    "import feedforward_robust as ffr\n",
    "\n",
    "sys.path.append('../../../utils/')\n",
    "from utils.mnist_corruption import *\n",
    "from utils.utils_models import *\n",
    "from utils.utils_analysis import *\n",
    "from utils.utils_feedforward import *\n",
    "\n",
    "%load_ext autoreload\n",
    "%autoreload 2\n",
    "\n",
    "#Read the counter\n",
    "ctr_file = \"../../counter.txt\"\n",
    "f = open(ctr_file, 'r')\n",
    "counter = f.readline()\n",
    "f.close()\n",
    "\n",
    "counter = 1 + int(counter)\n",
    "f = open(ctr_file,'w')\n",
    "f.write('{}'.format(counter))\n",
    "f.close()\n",
    "logfile = \"../../logs/results_\" + str(counter) + \".log\"\n",
    "\n",
    "logger = logging.getLogger(\"robustness\")\n",
    "logger.setLevel(logging.DEBUG)\n",
    "fh = logging.FileHandler(logfile)\n",
    "fh.setLevel(logging.INFO)\n",
    "formatter = logging.Formatter('%(asctime)s - %(name)s - %(levelname)s - %(message)s')\n",
    "fh.setFormatter(formatter)\n",
    "logger.addHandler(fh)\n",
    "logger.addHandler(logging.StreamHandler())"
   ]
  },
  {
   "cell_type": "markdown",
   "metadata": {},
   "source": [
    "# Get Raw Training Data"
   ]
  },
  {
   "cell_type": "code",
   "execution_count": 2,
   "metadata": {},
   "outputs": [],
   "source": [
    "n = 8\n",
    "n_test = 10000\n",
    "x_train = np.linspace(-1, 1-(2)/n, n).astype(np.float64)\n",
    "x_test = np.linspace(-1, 1-(2)/n_test, n_test).astype(np.float64)\n",
    "x_train = x_train.reshape((n, 1))\n",
    "x_test = x_test.reshape((n_test, 1))"
   ]
  },
  {
   "cell_type": "code",
   "execution_count": 3,
   "metadata": {},
   "outputs": [],
   "source": [
    "y_train = np.sign(x_train).astype(np.int)\n",
    "y_train[y_train==0] = 1\n",
    "y_train_ogi = y_train.copy()\n",
    "y_train[y_train==-1] = 0\n",
    "\n",
    "y_test = np.sign(x_test).astype(np.int)\n",
    "y_test[y_test==0] = 1\n",
    "y_test[y_test==-1] = 0"
   ]
  },
  {
   "cell_type": "code",
   "execution_count": 4,
   "metadata": {},
   "outputs": [],
   "source": [
    "y_train = y_train.flatten()\n",
    "y_test = y_test.flatten()"
   ]
  },
  {
   "cell_type": "code",
   "execution_count": 5,
   "metadata": {},
   "outputs": [],
   "source": [
    "num_classes = 2\n",
    "y_train = keras.utils.to_categorical(y_train, num_classes)                                                                                         \n",
    "y_test = keras.utils.to_categorical(y_test, num_classes)"
   ]
  },
  {
   "cell_type": "code",
   "execution_count": 6,
   "metadata": {},
   "outputs": [
    {
     "data": {
      "text/plain": [
       "array([[1., 0.],\n",
       "       [1., 0.],\n",
       "       [1., 0.],\n",
       "       [1., 0.],\n",
       "       [0., 1.],\n",
       "       [0., 1.],\n",
       "       [0., 1.],\n",
       "       [0., 1.]], dtype=float32)"
      ]
     },
     "execution_count": 6,
     "metadata": {},
     "output_type": "execute_result"
    }
   ],
   "source": [
    "y_train"
   ]
  },
  {
   "cell_type": "code",
   "execution_count": 7,
   "metadata": {},
   "outputs": [
    {
     "data": {
      "text/plain": [
       "array([[1., 0.],\n",
       "       [1., 0.],\n",
       "       [1., 0.],\n",
       "       [1., 0.],\n",
       "       [1., 0.],\n",
       "       [1., 0.],\n",
       "       [1., 0.],\n",
       "       [1., 0.],\n",
       "       [1., 0.],\n",
       "       [1., 0.]], dtype=float32)"
      ]
     },
     "execution_count": 7,
     "metadata": {},
     "output_type": "execute_result"
    }
   ],
   "source": [
    "y_test[:10]"
   ]
  },
  {
   "cell_type": "code",
   "execution_count": 8,
   "metadata": {},
   "outputs": [
    {
     "data": {
      "text/plain": [
       "array([[0., 1.],\n",
       "       [0., 1.],\n",
       "       [0., 1.],\n",
       "       [0., 1.],\n",
       "       [0., 1.],\n",
       "       [0., 1.],\n",
       "       [0., 1.],\n",
       "       [0., 1.],\n",
       "       [0., 1.],\n",
       "       [0., 1.]], dtype=float32)"
      ]
     },
     "execution_count": 8,
     "metadata": {},
     "output_type": "execute_result"
    }
   ],
   "source": [
    "y_test[-10:]"
   ]
  },
  {
   "cell_type": "markdown",
   "metadata": {},
   "source": [
    "# Train neural network"
   ]
  },
  {
   "cell_type": "code",
   "execution_count": 9,
   "metadata": {},
   "outputs": [],
   "source": [
    "#Configurations\n",
    "eps_train = None                                                                                                                            \n",
    "eps_test = None \n",
    "pgd_eta, pgd_num_iter = 1e-2, 50\n",
    "tensorboard_dir = \"../tb/\"                                                                                                                \n",
    "weights_dir = \"../weights/\"\n",
    "load_weights = False                                                                                                              \n",
    "load_counter = None                                                                                                            \n",
    "input_shape = (1,)\n",
    "\n",
    "\n",
    "sigma = tf.nn.relu \n",
    "epochs, reg, lr, batch_size = 100, 0.00, 3e-4, 8 # Will have to experiment with learning rate a bit.                                                                                              \n"
   ]
  },
  {
   "cell_type": "code",
   "execution_count": 10,
   "metadata": {},
   "outputs": [
    {
     "name": "stderr",
     "output_type": "stream",
     "text": [
      "Initialized instance variables of the robust model class\n",
      "I0627 23:48:21.603106 4538308032 feedforward_robust.py:32] Initialized instance variables of the robust model class\n",
      "W0627 23:48:21.604347 4538308032 deprecation_wrapper.py:119] From ../../../feedforward_robust.py:36: The name tf.placeholder is deprecated. Please use tf.compat.v1.placeholder instead.\n",
      "\n",
      "Created placeholders for x and y\n",
      "I0627 23:48:21.610746 4538308032 feedforward_robust.py:40] Created placeholders for x and y\n",
      "W0627 23:48:21.612833 4538308032 deprecation_wrapper.py:119] From ../../../utils/utils_feedforward.py:34: The name tf.variable_scope is deprecated. Please use tf.compat.v1.variable_scope instead.\n",
      "\n",
      "W0627 23:48:21.614598 4538308032 deprecation_wrapper.py:119] From ../../../utils/utils_feedforward.py:34: The name tf.AUTO_REUSE is deprecated. Please use tf.compat.v1.AUTO_REUSE instead.\n",
      "\n",
      "W0627 23:48:21.615813 4538308032 deprecation_wrapper.py:119] From ../../../utils/utils_feedforward.py:36: The name tf.get_variable is deprecated. Please use tf.compat.v1.get_variable instead.\n",
      "\n",
      "W0627 23:48:21.639039 4538308032 deprecation_wrapper.py:119] From ../../../utils/utils_feedforward.py:40: The name tf.summary.histogram is deprecated. Please use tf.compat.v1.summary.histogram instead.\n",
      "\n",
      "Created layers and tensor for logits\n",
      "I0627 23:48:21.713509 4538308032 feedforward_robust.py:44] Created layers and tensor for logits\n",
      "Added accuracy computation to the graph\n",
      "I0627 23:48:21.720198 4538308032 feedforward_robust.py:48] Added accuracy computation to the graph\n",
      "W0627 23:48:21.721243 4538308032 deprecation_wrapper.py:119] From ../../../feedforward_robust.py:49: The name tf.summary.scalar is deprecated. Please use tf.compat.v1.summary.scalar instead.\n",
      "\n",
      "W0627 23:48:21.724326 4538308032 deprecation.py:323] From ../../../feedforward_robust.py:53: softmax_cross_entropy_with_logits (from tensorflow.python.ops.nn_ops) is deprecated and will be removed in a future version.\n",
      "Instructions for updating:\n",
      "\n",
      "Future major versions of TensorFlow will allow gradients to flow\n",
      "into the labels input on backprop by default.\n",
      "\n",
      "See `tf.nn.softmax_cross_entropy_with_logits_v2`.\n",
      "\n",
      "Added cross-entropy loss computation to the graph\n",
      "I0627 23:48:21.752873 4538308032 feedforward_robust.py:56] Added cross-entropy loss computation to the graph\n",
      "Model graph was created\n",
      "I0627 23:48:21.754215 4538308032 feedforward_robust.py:62] Model graph was created\n",
      "W0627 23:48:21.757982 4538308032 deprecation_wrapper.py:119] From ../../../feedforward_robust.py:63: The name tf.summary.merge_all is deprecated. Please use tf.compat.v1.summary.merge_all instead.\n",
      "\n",
      "W0627 23:48:21.809823 4538308032 deprecation_wrapper.py:119] From ../../../utils/utils_feedforward.py:78: The name tf.linalg.transpose is deprecated. Please use tf.linalg.matrix_transpose instead.\n",
      "\n",
      "W0627 23:48:21.848890 4538308032 deprecation.py:323] From ../../../feedforward_robust.py:776: all_variables (from tensorflow.python.ops.variables) is deprecated and will be removed after 2017-03-02.\n",
      "Instructions for updating:\n",
      "Please use tf.global_variables instead.\n",
      "W0627 23:48:21.849704 4538308032 deprecation_wrapper.py:119] From ../../../feedforward_robust.py:777: The name tf.train.AdamOptimizer is deprecated. Please use tf.compat.v1.train.AdamOptimizer instead.\n",
      "\n"
     ]
    },
    {
     "name": "stdout",
     "output_type": "stream",
     "text": [
      "Created model successfully. Now going to train\n"
     ]
    },
    {
     "name": "stderr",
     "output_type": "stream",
     "text": [
      "W0627 23:48:22.273987 4538308032 deprecation.py:323] From /usr/local/lib/python3.7/site-packages/tensorflow/python/util/tf_should_use.py:193: initialize_variables (from tensorflow.python.ops.variables) is deprecated and will be removed after 2017-03-02.\n",
      "Instructions for updating:\n",
      "Use `tf.variables_initializer` instead.\n",
      "Epoch: 0001    cost: 0.695052266 \n",
      "I0627 23:48:22.525523 4538308032 feedforward_robust.py:749] Epoch: 0001    cost: 0.695052266 \n",
      "Accuracy on batch: 0.375000\n",
      "I0627 23:48:22.527366 4538308032 feedforward_robust.py:750] Accuracy on batch: 0.375000\n",
      "Epoch: 0002    cost: 0.692851126 \n",
      "I0627 23:48:22.541940 4538308032 feedforward_robust.py:749] Epoch: 0002    cost: 0.692851126 \n",
      "Accuracy on batch: 0.375000\n",
      "I0627 23:48:22.544741 4538308032 feedforward_robust.py:750] Accuracy on batch: 0.375000\n",
      "Epoch: 0003    cost: 0.690590501 \n",
      "I0627 23:48:22.580696 4538308032 feedforward_robust.py:749] Epoch: 0003    cost: 0.690590501 \n",
      "Accuracy on batch: 0.375000\n",
      "I0627 23:48:22.583139 4538308032 feedforward_robust.py:750] Accuracy on batch: 0.375000\n",
      "Epoch: 0004    cost: 0.688561082 \n",
      "I0627 23:48:22.608551 4538308032 feedforward_robust.py:749] Epoch: 0004    cost: 0.688561082 \n",
      "Accuracy on batch: 0.375000\n",
      "I0627 23:48:22.613955 4538308032 feedforward_robust.py:750] Accuracy on batch: 0.375000\n",
      "Epoch: 0005    cost: 0.686521828 \n",
      "I0627 23:48:22.661771 4538308032 feedforward_robust.py:749] Epoch: 0005    cost: 0.686521828 \n",
      "Accuracy on batch: 0.500000\n",
      "I0627 23:48:22.666586 4538308032 feedforward_robust.py:750] Accuracy on batch: 0.500000\n",
      "Epoch: 0006    cost: 0.684458852 \n",
      "I0627 23:48:22.689621 4538308032 feedforward_robust.py:749] Epoch: 0006    cost: 0.684458852 \n",
      "Accuracy on batch: 0.625000\n",
      "I0627 23:48:22.691260 4538308032 feedforward_robust.py:750] Accuracy on batch: 0.625000\n",
      "Epoch: 0007    cost: 0.682453454 \n",
      "I0627 23:48:22.704070 4538308032 feedforward_robust.py:749] Epoch: 0007    cost: 0.682453454 \n",
      "Accuracy on batch: 0.750000\n",
      "I0627 23:48:22.706822 4538308032 feedforward_robust.py:750] Accuracy on batch: 0.750000\n",
      "Epoch: 0008    cost: 0.680496812 \n",
      "I0627 23:48:22.718394 4538308032 feedforward_robust.py:749] Epoch: 0008    cost: 0.680496812 \n",
      "Accuracy on batch: 0.875000\n",
      "I0627 23:48:22.719515 4538308032 feedforward_robust.py:750] Accuracy on batch: 0.875000\n",
      "Epoch: 0009    cost: 0.678577542 \n",
      "I0627 23:48:22.732730 4538308032 feedforward_robust.py:749] Epoch: 0009    cost: 0.678577542 \n",
      "Accuracy on batch: 0.875000\n",
      "I0627 23:48:22.733901 4538308032 feedforward_robust.py:750] Accuracy on batch: 0.875000\n",
      "Epoch: 0010    cost: 0.676736116 \n",
      "I0627 23:48:22.743985 4538308032 feedforward_robust.py:749] Epoch: 0010    cost: 0.676736116 \n",
      "Accuracy on batch: 0.875000\n",
      "I0627 23:48:22.745661 4538308032 feedforward_robust.py:750] Accuracy on batch: 0.875000\n",
      "Epoch: 0011    cost: 0.674916029 \n",
      "I0627 23:48:22.759604 4538308032 feedforward_robust.py:749] Epoch: 0011    cost: 0.674916029 \n",
      "Accuracy on batch: 0.875000\n",
      "I0627 23:48:22.761416 4538308032 feedforward_robust.py:750] Accuracy on batch: 0.875000\n",
      "Epoch: 0012    cost: 0.673128664 \n",
      "I0627 23:48:22.773444 4538308032 feedforward_robust.py:749] Epoch: 0012    cost: 0.673128664 \n",
      "Accuracy on batch: 0.875000\n",
      "I0627 23:48:22.775516 4538308032 feedforward_robust.py:750] Accuracy on batch: 0.875000\n",
      "Epoch: 0013    cost: 0.671456218 \n",
      "I0627 23:48:22.790490 4538308032 feedforward_robust.py:749] Epoch: 0013    cost: 0.671456218 \n",
      "Accuracy on batch: 0.875000\n",
      "I0627 23:48:22.792464 4538308032 feedforward_robust.py:750] Accuracy on batch: 0.875000\n",
      "Epoch: 0014    cost: 0.669805765 \n",
      "I0627 23:48:22.804491 4538308032 feedforward_robust.py:749] Epoch: 0014    cost: 0.669805765 \n",
      "Accuracy on batch: 0.875000\n",
      "I0627 23:48:22.807157 4538308032 feedforward_robust.py:750] Accuracy on batch: 0.875000\n",
      "Epoch: 0015    cost: 0.668241739 \n",
      "I0627 23:48:22.821006 4538308032 feedforward_robust.py:749] Epoch: 0015    cost: 0.668241739 \n",
      "Accuracy on batch: 0.875000\n",
      "I0627 23:48:22.822738 4538308032 feedforward_robust.py:750] Accuracy on batch: 0.875000\n",
      "Epoch: 0016    cost: 0.666694522 \n",
      "I0627 23:48:22.833189 4538308032 feedforward_robust.py:749] Epoch: 0016    cost: 0.666694522 \n",
      "Accuracy on batch: 0.875000\n",
      "I0627 23:48:22.837760 4538308032 feedforward_robust.py:750] Accuracy on batch: 0.875000\n",
      "Epoch: 0017    cost: 0.665165782 \n",
      "I0627 23:48:22.852667 4538308032 feedforward_robust.py:749] Epoch: 0017    cost: 0.665165782 \n",
      "Accuracy on batch: 0.875000\n",
      "I0627 23:48:22.857484 4538308032 feedforward_robust.py:750] Accuracy on batch: 0.875000\n",
      "Epoch: 0018    cost: 0.663607180 \n",
      "I0627 23:48:22.870959 4538308032 feedforward_robust.py:749] Epoch: 0018    cost: 0.663607180 \n",
      "Accuracy on batch: 0.875000\n",
      "I0627 23:48:22.872745 4538308032 feedforward_robust.py:750] Accuracy on batch: 0.875000\n",
      "Epoch: 0019    cost: 0.662015080 \n",
      "I0627 23:48:22.885154 4538308032 feedforward_robust.py:749] Epoch: 0019    cost: 0.662015080 \n",
      "Accuracy on batch: 0.875000\n",
      "I0627 23:48:22.886821 4538308032 feedforward_robust.py:750] Accuracy on batch: 0.875000\n",
      "Epoch: 0020    cost: 0.660386682 \n",
      "I0627 23:48:22.899966 4538308032 feedforward_robust.py:749] Epoch: 0020    cost: 0.660386682 \n",
      "Accuracy on batch: 0.875000\n",
      "I0627 23:48:22.901314 4538308032 feedforward_robust.py:750] Accuracy on batch: 0.875000\n",
      "Epoch: 0021    cost: 0.658743501 \n",
      "I0627 23:48:22.910894 4538308032 feedforward_robust.py:749] Epoch: 0021    cost: 0.658743501 \n",
      "Accuracy on batch: 0.875000\n",
      "I0627 23:48:22.912112 4538308032 feedforward_robust.py:750] Accuracy on batch: 0.875000\n",
      "Epoch: 0022    cost: 0.657082617 \n",
      "I0627 23:48:22.920909 4538308032 feedforward_robust.py:749] Epoch: 0022    cost: 0.657082617 \n",
      "Accuracy on batch: 0.875000\n",
      "I0627 23:48:22.922091 4538308032 feedforward_robust.py:750] Accuracy on batch: 0.875000\n",
      "Epoch: 0023    cost: 0.655412078 \n",
      "I0627 23:48:22.930943 4538308032 feedforward_robust.py:749] Epoch: 0023    cost: 0.655412078 \n",
      "Accuracy on batch: 0.875000\n",
      "I0627 23:48:22.932384 4538308032 feedforward_robust.py:750] Accuracy on batch: 0.875000\n",
      "Epoch: 0024    cost: 0.653734922 \n",
      "I0627 23:48:22.941895 4538308032 feedforward_robust.py:749] Epoch: 0024    cost: 0.653734922 \n",
      "Accuracy on batch: 0.875000\n",
      "I0627 23:48:22.943186 4538308032 feedforward_robust.py:750] Accuracy on batch: 0.875000\n",
      "Epoch: 0025    cost: 0.652044177 \n",
      "I0627 23:48:22.953520 4538308032 feedforward_robust.py:749] Epoch: 0025    cost: 0.652044177 \n",
      "Accuracy on batch: 0.875000\n",
      "I0627 23:48:22.955662 4538308032 feedforward_robust.py:750] Accuracy on batch: 0.875000\n",
      "Epoch: 0026    cost: 0.650341988 \n",
      "I0627 23:48:22.966972 4538308032 feedforward_robust.py:749] Epoch: 0026    cost: 0.650341988 \n",
      "Accuracy on batch: 0.875000\n",
      "I0627 23:48:22.968908 4538308032 feedforward_robust.py:750] Accuracy on batch: 0.875000\n",
      "Epoch: 0027    cost: 0.648669660 \n",
      "I0627 23:48:22.979907 4538308032 feedforward_robust.py:749] Epoch: 0027    cost: 0.648669660 \n",
      "Accuracy on batch: 0.875000\n",
      "I0627 23:48:22.982223 4538308032 feedforward_robust.py:750] Accuracy on batch: 0.875000\n",
      "Epoch: 0028    cost: 0.647027731 \n",
      "I0627 23:48:22.996541 4538308032 feedforward_robust.py:749] Epoch: 0028    cost: 0.647027731 \n",
      "Accuracy on batch: 0.875000\n",
      "I0627 23:48:22.999808 4538308032 feedforward_robust.py:750] Accuracy on batch: 0.875000\n",
      "Epoch: 0029    cost: 0.645394266 \n",
      "I0627 23:48:23.010818 4538308032 feedforward_robust.py:749] Epoch: 0029    cost: 0.645394266 \n",
      "Accuracy on batch: 0.875000\n",
      "I0627 23:48:23.012965 4538308032 feedforward_robust.py:750] Accuracy on batch: 0.875000\n",
      "Epoch: 0030    cost: 0.643718481 \n",
      "I0627 23:48:23.024190 4538308032 feedforward_robust.py:749] Epoch: 0030    cost: 0.643718481 \n",
      "Accuracy on batch: 0.875000\n",
      "I0627 23:48:23.025846 4538308032 feedforward_robust.py:750] Accuracy on batch: 0.875000\n",
      "Epoch: 0031    cost: 0.641982079 \n",
      "I0627 23:48:23.036453 4538308032 feedforward_robust.py:749] Epoch: 0031    cost: 0.641982079 \n",
      "Accuracy on batch: 0.875000\n",
      "I0627 23:48:23.037912 4538308032 feedforward_robust.py:750] Accuracy on batch: 0.875000\n",
      "Epoch: 0032    cost: 0.640236616 \n",
      "I0627 23:48:23.050930 4538308032 feedforward_robust.py:749] Epoch: 0032    cost: 0.640236616 \n",
      "Accuracy on batch: 0.875000\n",
      "I0627 23:48:23.052958 4538308032 feedforward_robust.py:750] Accuracy on batch: 0.875000\n",
      "Epoch: 0033    cost: 0.638509035 \n",
      "I0627 23:48:23.062790 4538308032 feedforward_robust.py:749] Epoch: 0033    cost: 0.638509035 \n"
     ]
    },
    {
     "name": "stderr",
     "output_type": "stream",
     "text": [
      "Accuracy on batch: 0.875000\n",
      "I0627 23:48:23.064320 4538308032 feedforward_robust.py:750] Accuracy on batch: 0.875000\n",
      "Epoch: 0034    cost: 0.636732221 \n",
      "I0627 23:48:23.076440 4538308032 feedforward_robust.py:749] Epoch: 0034    cost: 0.636732221 \n",
      "Accuracy on batch: 0.875000\n",
      "I0627 23:48:23.078149 4538308032 feedforward_robust.py:750] Accuracy on batch: 0.875000\n",
      "Epoch: 0035    cost: 0.634861946 \n",
      "I0627 23:48:23.090032 4538308032 feedforward_robust.py:749] Epoch: 0035    cost: 0.634861946 \n",
      "Accuracy on batch: 1.000000\n",
      "I0627 23:48:23.091600 4538308032 feedforward_robust.py:750] Accuracy on batch: 1.000000\n",
      "Epoch: 0036    cost: 0.632942855 \n",
      "I0627 23:48:23.102394 4538308032 feedforward_robust.py:749] Epoch: 0036    cost: 0.632942855 \n",
      "Accuracy on batch: 1.000000\n",
      "I0627 23:48:23.105520 4538308032 feedforward_robust.py:750] Accuracy on batch: 1.000000\n",
      "Epoch: 0037    cost: 0.630991280 \n",
      "I0627 23:48:23.117591 4538308032 feedforward_robust.py:749] Epoch: 0037    cost: 0.630991280 \n",
      "Accuracy on batch: 1.000000\n",
      "I0627 23:48:23.120528 4538308032 feedforward_robust.py:750] Accuracy on batch: 1.000000\n",
      "Epoch: 0038    cost: 0.628992796 \n",
      "I0627 23:48:23.134786 4538308032 feedforward_robust.py:749] Epoch: 0038    cost: 0.628992796 \n",
      "Accuracy on batch: 1.000000\n",
      "I0627 23:48:23.138322 4538308032 feedforward_robust.py:750] Accuracy on batch: 1.000000\n",
      "Epoch: 0039    cost: 0.626953125 \n",
      "I0627 23:48:23.153728 4538308032 feedforward_robust.py:749] Epoch: 0039    cost: 0.626953125 \n",
      "Accuracy on batch: 1.000000\n",
      "I0627 23:48:23.156529 4538308032 feedforward_robust.py:750] Accuracy on batch: 1.000000\n",
      "Epoch: 0040    cost: 0.624887347 \n",
      "I0627 23:48:23.169982 4538308032 feedforward_robust.py:749] Epoch: 0040    cost: 0.624887347 \n",
      "Accuracy on batch: 1.000000\n",
      "I0627 23:48:23.172211 4538308032 feedforward_robust.py:750] Accuracy on batch: 1.000000\n",
      "Epoch: 0041    cost: 0.622796953 \n",
      "I0627 23:48:23.185189 4538308032 feedforward_robust.py:749] Epoch: 0041    cost: 0.622796953 \n",
      "Accuracy on batch: 1.000000\n",
      "I0627 23:48:23.187520 4538308032 feedforward_robust.py:750] Accuracy on batch: 1.000000\n",
      "Epoch: 0042    cost: 0.620679915 \n",
      "I0627 23:48:23.200107 4538308032 feedforward_robust.py:749] Epoch: 0042    cost: 0.620679915 \n",
      "Accuracy on batch: 1.000000\n",
      "I0627 23:48:23.203933 4538308032 feedforward_robust.py:750] Accuracy on batch: 1.000000\n",
      "Epoch: 0043    cost: 0.618529081 \n",
      "I0627 23:48:23.217242 4538308032 feedforward_robust.py:749] Epoch: 0043    cost: 0.618529081 \n",
      "Accuracy on batch: 1.000000\n",
      "I0627 23:48:23.219621 4538308032 feedforward_robust.py:750] Accuracy on batch: 1.000000\n",
      "Epoch: 0044    cost: 0.616348505 \n",
      "I0627 23:48:23.232955 4538308032 feedforward_robust.py:749] Epoch: 0044    cost: 0.616348505 \n",
      "Accuracy on batch: 1.000000\n",
      "I0627 23:48:23.235076 4538308032 feedforward_robust.py:750] Accuracy on batch: 1.000000\n",
      "Epoch: 0045    cost: 0.614128709 \n",
      "I0627 23:48:23.249616 4538308032 feedforward_robust.py:749] Epoch: 0045    cost: 0.614128709 \n",
      "Accuracy on batch: 1.000000\n",
      "I0627 23:48:23.252102 4538308032 feedforward_robust.py:750] Accuracy on batch: 1.000000\n",
      "Epoch: 0046    cost: 0.611878276 \n",
      "I0627 23:48:23.265897 4538308032 feedforward_robust.py:749] Epoch: 0046    cost: 0.611878276 \n",
      "Accuracy on batch: 1.000000\n",
      "I0627 23:48:23.267960 4538308032 feedforward_robust.py:750] Accuracy on batch: 1.000000\n",
      "Epoch: 0047    cost: 0.609585464 \n",
      "I0627 23:48:23.283349 4538308032 feedforward_robust.py:749] Epoch: 0047    cost: 0.609585464 \n",
      "Accuracy on batch: 1.000000\n",
      "I0627 23:48:23.286353 4538308032 feedforward_robust.py:750] Accuracy on batch: 1.000000\n",
      "Epoch: 0048    cost: 0.607238531 \n",
      "I0627 23:48:23.299381 4538308032 feedforward_robust.py:749] Epoch: 0048    cost: 0.607238531 \n",
      "Accuracy on batch: 1.000000\n",
      "I0627 23:48:23.301707 4538308032 feedforward_robust.py:750] Accuracy on batch: 1.000000\n",
      "Epoch: 0049    cost: 0.604867697 \n",
      "I0627 23:48:23.313711 4538308032 feedforward_robust.py:749] Epoch: 0049    cost: 0.604867697 \n",
      "Accuracy on batch: 1.000000\n",
      "I0627 23:48:23.317467 4538308032 feedforward_robust.py:750] Accuracy on batch: 1.000000\n",
      "Epoch: 0050    cost: 0.602456987 \n",
      "I0627 23:48:23.331588 4538308032 feedforward_robust.py:749] Epoch: 0050    cost: 0.602456987 \n",
      "Accuracy on batch: 1.000000\n",
      "I0627 23:48:23.334582 4538308032 feedforward_robust.py:750] Accuracy on batch: 1.000000\n",
      "Epoch: 0051    cost: 0.599989533 \n",
      "I0627 23:48:23.347326 4538308032 feedforward_robust.py:749] Epoch: 0051    cost: 0.599989533 \n",
      "Accuracy on batch: 1.000000\n",
      "I0627 23:48:23.349105 4538308032 feedforward_robust.py:750] Accuracy on batch: 1.000000\n",
      "Epoch: 0052    cost: 0.597489476 \n",
      "I0627 23:48:23.363842 4538308032 feedforward_robust.py:749] Epoch: 0052    cost: 0.597489476 \n",
      "Accuracy on batch: 1.000000\n",
      "I0627 23:48:23.365758 4538308032 feedforward_robust.py:750] Accuracy on batch: 1.000000\n",
      "Epoch: 0053    cost: 0.594951272 \n",
      "I0627 23:48:23.381283 4538308032 feedforward_robust.py:749] Epoch: 0053    cost: 0.594951272 \n",
      "Accuracy on batch: 1.000000\n",
      "I0627 23:48:23.383364 4538308032 feedforward_robust.py:750] Accuracy on batch: 1.000000\n",
      "Epoch: 0054    cost: 0.592376530 \n",
      "I0627 23:48:23.395648 4538308032 feedforward_robust.py:749] Epoch: 0054    cost: 0.592376530 \n",
      "Accuracy on batch: 1.000000\n",
      "I0627 23:48:23.397773 4538308032 feedforward_robust.py:750] Accuracy on batch: 1.000000\n",
      "Epoch: 0055    cost: 0.589761317 \n",
      "I0627 23:48:23.410336 4538308032 feedforward_robust.py:749] Epoch: 0055    cost: 0.589761317 \n",
      "Accuracy on batch: 1.000000\n",
      "I0627 23:48:23.412412 4538308032 feedforward_robust.py:750] Accuracy on batch: 1.000000\n",
      "Epoch: 0056    cost: 0.587092519 \n",
      "I0627 23:48:23.425789 4538308032 feedforward_robust.py:749] Epoch: 0056    cost: 0.587092519 \n",
      "Accuracy on batch: 1.000000\n",
      "I0627 23:48:23.427711 4538308032 feedforward_robust.py:750] Accuracy on batch: 1.000000\n",
      "Epoch: 0057    cost: 0.584379077 \n",
      "I0627 23:48:23.438786 4538308032 feedforward_robust.py:749] Epoch: 0057    cost: 0.584379077 \n",
      "Accuracy on batch: 1.000000\n",
      "I0627 23:48:23.440479 4538308032 feedforward_robust.py:750] Accuracy on batch: 1.000000\n",
      "Epoch: 0058    cost: 0.581633568 \n",
      "I0627 23:48:23.452891 4538308032 feedforward_robust.py:749] Epoch: 0058    cost: 0.581633568 \n",
      "Accuracy on batch: 1.000000\n",
      "I0627 23:48:23.455345 4538308032 feedforward_robust.py:750] Accuracy on batch: 1.000000\n",
      "Epoch: 0059    cost: 0.578863204 \n",
      "I0627 23:48:23.467689 4538308032 feedforward_robust.py:749] Epoch: 0059    cost: 0.578863204 \n",
      "Accuracy on batch: 1.000000\n",
      "I0627 23:48:23.469456 4538308032 feedforward_robust.py:750] Accuracy on batch: 1.000000\n",
      "Epoch: 0060    cost: 0.576060891 \n",
      "I0627 23:48:23.482492 4538308032 feedforward_robust.py:749] Epoch: 0060    cost: 0.576060891 \n",
      "Accuracy on batch: 1.000000\n",
      "I0627 23:48:23.485424 4538308032 feedforward_robust.py:750] Accuracy on batch: 1.000000\n",
      "Epoch: 0061    cost: 0.573226213 \n",
      "I0627 23:48:23.500015 4538308032 feedforward_robust.py:749] Epoch: 0061    cost: 0.573226213 \n",
      "Accuracy on batch: 1.000000\n",
      "I0627 23:48:23.501982 4538308032 feedforward_robust.py:750] Accuracy on batch: 1.000000\n",
      "Epoch: 0062    cost: 0.570350051 \n",
      "I0627 23:48:23.515336 4538308032 feedforward_robust.py:749] Epoch: 0062    cost: 0.570350051 \n",
      "Accuracy on batch: 1.000000\n",
      "I0627 23:48:23.519044 4538308032 feedforward_robust.py:750] Accuracy on batch: 1.000000\n",
      "Epoch: 0063    cost: 0.567466497 \n",
      "I0627 23:48:23.533661 4538308032 feedforward_robust.py:749] Epoch: 0063    cost: 0.567466497 \n",
      "Accuracy on batch: 1.000000\n",
      "I0627 23:48:23.535598 4538308032 feedforward_robust.py:750] Accuracy on batch: 1.000000\n",
      "Epoch: 0064    cost: 0.564566135 \n",
      "I0627 23:48:23.547857 4538308032 feedforward_robust.py:749] Epoch: 0064    cost: 0.564566135 \n",
      "Accuracy on batch: 1.000000\n",
      "I0627 23:48:23.549335 4538308032 feedforward_robust.py:750] Accuracy on batch: 1.000000\n",
      "Epoch: 0065    cost: 0.561629176 \n",
      "I0627 23:48:23.561624 4538308032 feedforward_robust.py:749] Epoch: 0065    cost: 0.561629176 \n",
      "Accuracy on batch: 1.000000\n",
      "I0627 23:48:23.563544 4538308032 feedforward_robust.py:750] Accuracy on batch: 1.000000\n",
      "Epoch: 0066    cost: 0.558649182 \n",
      "I0627 23:48:23.577018 4538308032 feedforward_robust.py:749] Epoch: 0066    cost: 0.558649182 \n",
      "Accuracy on batch: 1.000000\n",
      "I0627 23:48:23.579204 4538308032 feedforward_robust.py:750] Accuracy on batch: 1.000000\n",
      "Epoch: 0067    cost: 0.555631697 \n"
     ]
    },
    {
     "name": "stderr",
     "output_type": "stream",
     "text": [
      "I0627 23:48:23.592625 4538308032 feedforward_robust.py:749] Epoch: 0067    cost: 0.555631697 \n",
      "Accuracy on batch: 1.000000\n",
      "I0627 23:48:23.594310 4538308032 feedforward_robust.py:750] Accuracy on batch: 1.000000\n",
      "Epoch: 0068    cost: 0.552576542 \n",
      "I0627 23:48:23.607434 4538308032 feedforward_robust.py:749] Epoch: 0068    cost: 0.552576542 \n",
      "Accuracy on batch: 1.000000\n",
      "I0627 23:48:23.609416 4538308032 feedforward_robust.py:750] Accuracy on batch: 1.000000\n",
      "Epoch: 0069    cost: 0.549477458 \n",
      "I0627 23:48:23.622641 4538308032 feedforward_robust.py:749] Epoch: 0069    cost: 0.549477458 \n",
      "Accuracy on batch: 1.000000\n",
      "I0627 23:48:23.624351 4538308032 feedforward_robust.py:750] Accuracy on batch: 1.000000\n",
      "Epoch: 0070    cost: 0.546356320 \n",
      "I0627 23:48:23.638353 4538308032 feedforward_robust.py:749] Epoch: 0070    cost: 0.546356320 \n",
      "Accuracy on batch: 1.000000\n",
      "I0627 23:48:23.640279 4538308032 feedforward_robust.py:750] Accuracy on batch: 1.000000\n",
      "Epoch: 0071    cost: 0.543220043 \n",
      "I0627 23:48:23.655013 4538308032 feedforward_robust.py:749] Epoch: 0071    cost: 0.543220043 \n",
      "Accuracy on batch: 1.000000\n",
      "I0627 23:48:23.657384 4538308032 feedforward_robust.py:750] Accuracy on batch: 1.000000\n",
      "Epoch: 0072    cost: 0.540055096 \n",
      "I0627 23:48:23.671015 4538308032 feedforward_robust.py:749] Epoch: 0072    cost: 0.540055096 \n",
      "Accuracy on batch: 1.000000\n",
      "I0627 23:48:23.673900 4538308032 feedforward_robust.py:750] Accuracy on batch: 1.000000\n",
      "Epoch: 0073    cost: 0.536847413 \n",
      "I0627 23:48:23.687906 4538308032 feedforward_robust.py:749] Epoch: 0073    cost: 0.536847413 \n",
      "Accuracy on batch: 1.000000\n",
      "I0627 23:48:23.690022 4538308032 feedforward_robust.py:750] Accuracy on batch: 1.000000\n",
      "Epoch: 0074    cost: 0.533591509 \n",
      "I0627 23:48:23.702125 4538308032 feedforward_robust.py:749] Epoch: 0074    cost: 0.533591509 \n",
      "Accuracy on batch: 1.000000\n",
      "I0627 23:48:23.703927 4538308032 feedforward_robust.py:750] Accuracy on batch: 1.000000\n",
      "Epoch: 0075    cost: 0.530282259 \n",
      "I0627 23:48:23.717520 4538308032 feedforward_robust.py:749] Epoch: 0075    cost: 0.530282259 \n",
      "Accuracy on batch: 1.000000\n",
      "I0627 23:48:23.719271 4538308032 feedforward_robust.py:750] Accuracy on batch: 1.000000\n",
      "Epoch: 0076    cost: 0.526932895 \n",
      "I0627 23:48:23.736136 4538308032 feedforward_robust.py:749] Epoch: 0076    cost: 0.526932895 \n",
      "Accuracy on batch: 1.000000\n",
      "I0627 23:48:23.738688 4538308032 feedforward_robust.py:750] Accuracy on batch: 1.000000\n",
      "Epoch: 0077    cost: 0.523541868 \n",
      "I0627 23:48:23.751247 4538308032 feedforward_robust.py:749] Epoch: 0077    cost: 0.523541868 \n",
      "Accuracy on batch: 1.000000\n",
      "I0627 23:48:23.753456 4538308032 feedforward_robust.py:750] Accuracy on batch: 1.000000\n",
      "Epoch: 0078    cost: 0.520120740 \n",
      "I0627 23:48:23.764815 4538308032 feedforward_robust.py:749] Epoch: 0078    cost: 0.520120740 \n",
      "Accuracy on batch: 1.000000\n",
      "I0627 23:48:23.766459 4538308032 feedforward_robust.py:750] Accuracy on batch: 1.000000\n",
      "Epoch: 0079    cost: 0.516662359 \n",
      "I0627 23:48:23.778568 4538308032 feedforward_robust.py:749] Epoch: 0079    cost: 0.516662359 \n",
      "Accuracy on batch: 1.000000\n",
      "I0627 23:48:23.780842 4538308032 feedforward_robust.py:750] Accuracy on batch: 1.000000\n",
      "Epoch: 0080    cost: 0.513181686 \n",
      "I0627 23:48:23.793820 4538308032 feedforward_robust.py:749] Epoch: 0080    cost: 0.513181686 \n",
      "Accuracy on batch: 1.000000\n",
      "I0627 23:48:23.795876 4538308032 feedforward_robust.py:750] Accuracy on batch: 1.000000\n",
      "Epoch: 0081    cost: 0.509670615 \n",
      "I0627 23:48:23.806807 4538308032 feedforward_robust.py:749] Epoch: 0081    cost: 0.509670615 \n",
      "Accuracy on batch: 1.000000\n",
      "I0627 23:48:23.808538 4538308032 feedforward_robust.py:750] Accuracy on batch: 1.000000\n",
      "Epoch: 0082    cost: 0.506122410 \n",
      "I0627 23:48:23.820518 4538308032 feedforward_robust.py:749] Epoch: 0082    cost: 0.506122410 \n",
      "Accuracy on batch: 1.000000\n",
      "I0627 23:48:23.822432 4538308032 feedforward_robust.py:750] Accuracy on batch: 1.000000\n",
      "Epoch: 0083    cost: 0.502541423 \n",
      "I0627 23:48:23.837168 4538308032 feedforward_robust.py:749] Epoch: 0083    cost: 0.502541423 \n",
      "Accuracy on batch: 1.000000\n",
      "I0627 23:48:23.839506 4538308032 feedforward_robust.py:750] Accuracy on batch: 1.000000\n",
      "Epoch: 0084    cost: 0.498931825 \n",
      "I0627 23:48:23.851711 4538308032 feedforward_robust.py:749] Epoch: 0084    cost: 0.498931825 \n",
      "Accuracy on batch: 1.000000\n",
      "I0627 23:48:23.853936 4538308032 feedforward_robust.py:750] Accuracy on batch: 1.000000\n",
      "Epoch: 0085    cost: 0.495295823 \n",
      "I0627 23:48:23.865072 4538308032 feedforward_robust.py:749] Epoch: 0085    cost: 0.495295823 \n",
      "Accuracy on batch: 1.000000\n",
      "I0627 23:48:23.866853 4538308032 feedforward_robust.py:750] Accuracy on batch: 1.000000\n",
      "Epoch: 0086    cost: 0.491632521 \n",
      "I0627 23:48:23.880240 4538308032 feedforward_robust.py:749] Epoch: 0086    cost: 0.491632521 \n",
      "Accuracy on batch: 1.000000\n",
      "I0627 23:48:23.882205 4538308032 feedforward_robust.py:750] Accuracy on batch: 1.000000\n",
      "Epoch: 0087    cost: 0.487937510 \n",
      "I0627 23:48:23.894607 4538308032 feedforward_robust.py:749] Epoch: 0087    cost: 0.487937510 \n",
      "Accuracy on batch: 1.000000\n",
      "I0627 23:48:23.896541 4538308032 feedforward_robust.py:750] Accuracy on batch: 1.000000\n",
      "Epoch: 0088    cost: 0.484214187 \n",
      "I0627 23:48:23.909647 4538308032 feedforward_robust.py:749] Epoch: 0088    cost: 0.484214187 \n",
      "Accuracy on batch: 1.000000\n",
      "I0627 23:48:23.911711 4538308032 feedforward_robust.py:750] Accuracy on batch: 1.000000\n",
      "Epoch: 0089    cost: 0.480456501 \n",
      "I0627 23:48:23.926693 4538308032 feedforward_robust.py:749] Epoch: 0089    cost: 0.480456501 \n",
      "Accuracy on batch: 1.000000\n",
      "I0627 23:48:23.928349 4538308032 feedforward_robust.py:750] Accuracy on batch: 1.000000\n",
      "Epoch: 0090    cost: 0.476678431 \n",
      "I0627 23:48:23.940555 4538308032 feedforward_robust.py:749] Epoch: 0090    cost: 0.476678431 \n",
      "Accuracy on batch: 1.000000\n",
      "I0627 23:48:23.942649 4538308032 feedforward_robust.py:750] Accuracy on batch: 1.000000\n",
      "Epoch: 0091    cost: 0.472887099 \n",
      "I0627 23:48:23.955785 4538308032 feedforward_robust.py:749] Epoch: 0091    cost: 0.472887099 \n",
      "Accuracy on batch: 1.000000\n",
      "I0627 23:48:23.958088 4538308032 feedforward_robust.py:750] Accuracy on batch: 1.000000\n",
      "Epoch: 0092    cost: 0.469078034 \n",
      "I0627 23:48:23.972538 4538308032 feedforward_robust.py:749] Epoch: 0092    cost: 0.469078034 \n",
      "Accuracy on batch: 1.000000\n",
      "I0627 23:48:23.974061 4538308032 feedforward_robust.py:750] Accuracy on batch: 1.000000\n",
      "Epoch: 0093    cost: 0.465240240 \n",
      "I0627 23:48:23.985972 4538308032 feedforward_robust.py:749] Epoch: 0093    cost: 0.465240240 \n",
      "Accuracy on batch: 1.000000\n",
      "I0627 23:48:23.988954 4538308032 feedforward_robust.py:750] Accuracy on batch: 1.000000\n",
      "Epoch: 0094    cost: 0.461379111 \n",
      "I0627 23:48:24.000389 4538308032 feedforward_robust.py:749] Epoch: 0094    cost: 0.461379111 \n",
      "Accuracy on batch: 1.000000\n",
      "I0627 23:48:24.001974 4538308032 feedforward_robust.py:750] Accuracy on batch: 1.000000\n",
      "Epoch: 0095    cost: 0.457501441 \n",
      "I0627 23:48:24.015280 4538308032 feedforward_robust.py:749] Epoch: 0095    cost: 0.457501441 \n",
      "Accuracy on batch: 1.000000\n",
      "I0627 23:48:24.016965 4538308032 feedforward_robust.py:750] Accuracy on batch: 1.000000\n",
      "Epoch: 0096    cost: 0.453604370 \n",
      "I0627 23:48:24.028577 4538308032 feedforward_robust.py:749] Epoch: 0096    cost: 0.453604370 \n",
      "Accuracy on batch: 1.000000\n",
      "I0627 23:48:24.030596 4538308032 feedforward_robust.py:750] Accuracy on batch: 1.000000\n",
      "Epoch: 0097    cost: 0.449690878 \n",
      "I0627 23:48:24.044748 4538308032 feedforward_robust.py:749] Epoch: 0097    cost: 0.449690878 \n",
      "Accuracy on batch: 1.000000\n",
      "I0627 23:48:24.046634 4538308032 feedforward_robust.py:750] Accuracy on batch: 1.000000\n",
      "Epoch: 0098    cost: 0.445763886 \n",
      "I0627 23:48:24.058409 4538308032 feedforward_robust.py:749] Epoch: 0098    cost: 0.445763886 \n",
      "Accuracy on batch: 1.000000\n",
      "I0627 23:48:24.060047 4538308032 feedforward_robust.py:750] Accuracy on batch: 1.000000\n",
      "Epoch: 0099    cost: 0.441821069 \n",
      "I0627 23:48:24.071865 4538308032 feedforward_robust.py:749] Epoch: 0099    cost: 0.441821069 \n",
      "Accuracy on batch: 1.000000\n",
      "I0627 23:48:24.073812 4538308032 feedforward_robust.py:750] Accuracy on batch: 1.000000\n",
      "Epoch: 0100    cost: 0.437865466 \n",
      "I0627 23:48:24.084601 4538308032 feedforward_robust.py:749] Epoch: 0100    cost: 0.437865466 \n",
      "Accuracy on batch: 1.000000\n",
      "I0627 23:48:24.086760 4538308032 feedforward_robust.py:750] Accuracy on batch: 1.000000\n"
     ]
    },
    {
     "name": "stderr",
     "output_type": "stream",
     "text": [
      "Optimization Finished!\n",
      "I0627 23:48:24.088531 4538308032 feedforward_robust.py:751] Optimization Finished!\n",
      "Final Train Loss 0.433908\n",
      "I0627 23:48:24.123668 4538308032 feedforward_robust.py:759] Final Train Loss 0.433908\n",
      "Final Train Accuracy 1.000000:\n",
      "I0627 23:48:24.125262 4538308032 feedforward_robust.py:760] Final Train Accuracy 1.000000:\n",
      "Model was trained on benign data\n",
      "I0627 23:48:24.126542 4538308032 feedforward_robust.py:782] Model was trained on benign data\n",
      "Model was evaluated on benign data\n",
      "I0627 23:48:24.134849 4538308032 feedforward_robust.py:662] Model was evaluated on benign data\n"
     ]
    },
    {
     "name": "stdout",
     "output_type": "stream",
     "text": [
      "----Regular loss and accuracy ----\n",
      "(0.42733848, 0.9621)\n"
     ]
    }
   ],
   "source": [
    "#Setup - Dataset stuff\n",
    "tf.reset_default_graph()\n",
    "sess = tf.Session()\n",
    "hidden_sizes = [64, 64, 16]\n",
    "dataset = ((x_train, y_train), (x_test, y_test))\n",
    "\n",
    "scope_name = \"visualize_one_dim\"\n",
    "if not load_weights:\n",
    "    with tf.variable_scope(scope_name, reuse = False) as scope:\n",
    "\n",
    "        logdir = tensorboard_dir + str(counter)\n",
    "\n",
    "        #Create model\n",
    "        writer = tf.summary.FileWriter(logdir)\n",
    "        model = ffr.RobustMLP(input_shape, hidden_sizes, num_classes, writer = writer, scope = scope_name, logger = logger, sigma = sigma)\n",
    "        sess.run(tf.global_variables_initializer())\n",
    "        print(\"Created model successfully. Now going to train\")\n",
    "    \n",
    "        #Train model\n",
    "        returned = model.fit(sess, x_train, y_train, training_epochs = epochs, reg_op = reg , lr = lr, batch_size = batch_size, x_test = x_test)\n",
    "        \n",
    "        preds_list, feat_list = returned[0], returned[1]\n",
    "        \n",
    "        cross_loss, cross_acc = model.evaluate(sess, x_test, y_test)\n",
    "        print(\"----Regular loss and accuracy ----\")\n",
    "        print((cross_loss, cross_acc))\n",
    "        \n",
    "        \n",
    "        #featurization = model.get_featurizations(sess, x_test)\n",
    "        \"\"\"\n",
    "        #cross_margins = model.get_pointwise_margin(sess, x_train, y_train)\n",
    "        cross_weight_norms = model.get_weight_norms(sess)\n",
    "        print(\"----- Weight norms ----\")\n",
    "        print(cross_weight_norms)\n",
    "        \n",
    "        #Test model - regular, fgsm adv, pgd adv\n",
    "\n",
    "        \n",
    "        cross_confidences = model.get_prediction(sess, x_test_flat)\n",
    "        \n",
    "        cross_spectral = model.get_spectral_norm(sess)\n",
    "        \"\"\""
   ]
  },
  {
   "cell_type": "code",
   "execution_count": 11,
   "metadata": {},
   "outputs": [],
   "source": [
    "feat_list = np.array(feat_list)\n",
    "preds_list = np.array(preds_list)"
   ]
  },
  {
   "cell_type": "code",
   "execution_count": 12,
   "metadata": {},
   "outputs": [
    {
     "data": {
      "text/plain": [
       "(100, 10000, 16)"
      ]
     },
     "execution_count": 12,
     "metadata": {},
     "output_type": "execute_result"
    }
   ],
   "source": [
    "feat_list.shape"
   ]
  },
  {
   "cell_type": "code",
   "execution_count": 13,
   "metadata": {},
   "outputs": [],
   "source": []
  },
  {
   "cell_type": "markdown",
   "metadata": {},
   "source": [
    "# Processing preds and plotting"
   ]
  },
  {
   "cell_type": "code",
   "execution_count": 14,
   "metadata": {},
   "outputs": [],
   "source": [
    "def flatten_single_pred(preds_single_epoch):\n",
    "    preds_new = [preds[1] - preds[0] for preds in preds_single_epoch]\n",
    "    return preds_new"
   ]
  },
  {
   "cell_type": "code",
   "execution_count": 15,
   "metadata": {},
   "outputs": [],
   "source": [
    "preds_list_flat = [flatten_single_pred(pse) for pse in preds_list]"
   ]
  },
  {
   "cell_type": "code",
   "execution_count": 16,
   "metadata": {},
   "outputs": [
    {
     "data": {
      "text/plain": [
       "(100, 10000)"
      ]
     },
     "execution_count": 16,
     "metadata": {},
     "output_type": "execute_result"
    }
   ],
   "source": [
    "preds_list_flat = np.array(preds_list_flat)\n",
    "preds_list_flat.shape"
   ]
  },
  {
   "cell_type": "code",
   "execution_count": 17,
   "metadata": {},
   "outputs": [
    {
     "data": {
      "text/plain": [
       "(100,)"
      ]
     },
     "execution_count": 17,
     "metadata": {},
     "output_type": "execute_result"
    }
   ],
   "source": [
    "preds_means = np.mean(np.abs(preds_list_flat), axis = 1)\n",
    "preds_means.shape"
   ]
  },
  {
   "cell_type": "code",
   "execution_count": 18,
   "metadata": {},
   "outputs": [
    {
     "data": {
      "text/plain": [
       "array([0.02745762, 0.0272653 , 0.02646659, 0.026096  , 0.02667559,\n",
       "       0.02910455, 0.03307725, 0.03701488, 0.04089211, 0.04470388,\n",
       "       0.04842532, 0.05207356, 0.05563295, 0.05908988, 0.06246621,\n",
       "       0.06586975, 0.06931543, 0.07283812, 0.07641201, 0.08002409,\n",
       "       0.08366687, 0.08732972, 0.09101807, 0.09472774, 0.09845205,\n",
       "       0.10218541, 0.10588244, 0.10954963, 0.11329437, 0.11714838,\n",
       "       0.12107392, 0.12499136, 0.12899655, 0.13320147, 0.1375645 ,\n",
       "       0.14208163, 0.14672288, 0.15145813, 0.15630029, 0.16124284,\n",
       "       0.16626932, 0.17138538, 0.17659289, 0.18189426, 0.18730833,\n",
       "       0.19286227, 0.1986056 , 0.20446822, 0.21044268, 0.21652988,\n",
       "       0.22272529, 0.22903083, 0.23545207, 0.24199487, 0.24867022,\n",
       "       0.25547662, 0.2624291 , 0.2695009 , 0.2766735 , 0.28397727,\n",
       "       0.29140115, 0.29890233, 0.30649823, 0.3142111 , 0.32204908,\n",
       "       0.33001256, 0.3381141 , 0.34635606, 0.35472244, 0.36320952,\n",
       "       0.3718391 , 0.3806269 , 0.3895796 , 0.3987265 , 0.40807155,\n",
       "       0.41758427, 0.42725497, 0.4370833 , 0.44706953, 0.45720795,\n",
       "       0.4675007 , 0.47794774, 0.488554  , 0.49932608, 0.51025563,\n",
       "       0.52134734, 0.53260314, 0.5440255 , 0.55561423, 0.56737727,\n",
       "       0.57931894, 0.5914375 , 0.60372543, 0.61617655, 0.62878764,\n",
       "       0.6415584 , 0.65449464, 0.6676035 , 0.6808836 , 0.6943309 ],\n",
       "      dtype=float32)"
      ]
     },
     "execution_count": 18,
     "metadata": {},
     "output_type": "execute_result"
    }
   ],
   "source": [
    "preds_means"
   ]
  },
  {
   "cell_type": "code",
   "execution_count": 19,
   "metadata": {},
   "outputs": [
    {
     "data": {
      "text/plain": [
       "(10000,)"
      ]
     },
     "execution_count": 19,
     "metadata": {},
     "output_type": "execute_result"
    }
   ],
   "source": [
    "final_preds = preds_list_flat[-1]\n",
    "final_preds.shape"
   ]
  },
  {
   "cell_type": "code",
   "execution_count": 20,
   "metadata": {},
   "outputs": [
    {
     "data": {
      "text/plain": [
       "(5, 10000)"
      ]
     },
     "execution_count": 20,
     "metadata": {},
     "output_type": "execute_result"
    }
   ],
   "source": [
    "indices = np.arange(0, 100, 20)\n",
    "preds_list_smaller = preds_list_flat[indices]\n",
    "preds_list_smaller.shape"
   ]
  },
  {
   "cell_type": "code",
   "execution_count": 21,
   "metadata": {},
   "outputs": [
    {
     "data": {
      "text/plain": [
       "<matplotlib.legend.Legend at 0x148bbcc18>"
      ]
     },
     "execution_count": 21,
     "metadata": {},
     "output_type": "execute_result"
    },
    {
     "data": {
      "image/png": "[encoded data removed]",
      "text/plain": [
       "<Figure size 432x288 with 1 Axes>"
      ]
     },
     "metadata": {
      "needs_background": "light"
     },
     "output_type": "display_data"
    }
   ],
   "source": [
    "#plt.plot(x_train, y_train_ogi.flatten(),  color = \"blue\", linewidth=0, marker=\"D\", markersize=5, label = 'Train data', alpha = 0.75 )\n",
    "\n",
    "for (idx, preds) in enumerate(preds_list_smaller):\n",
    "    label = \"Iteration: \" + str(indices[idx])\n",
    "    plt.plot(x_test, preds,'-', marker = 'x', markersize = 0, linewidth = 1.5, label = label)\n",
    "\n",
    "plt.legend()"
   ]
  },
  {
   "cell_type": "code",
   "execution_count": null,
   "metadata": {},
   "outputs": [],
   "source": []
  },
  {
   "cell_type": "markdown",
   "metadata": {},
   "source": [
    "# Processing feats and plotting"
   ]
  },
  {
   "cell_type": "code",
   "execution_count": 32,
   "metadata": {},
   "outputs": [],
   "source": [
    "feats_select = feat_list[80]"
   ]
  },
  {
   "cell_type": "code",
   "execution_count": 33,
   "metadata": {},
   "outputs": [
    {
     "data": {
      "text/plain": [
       "<matplotlib.legend.Legend at 0x14c0724e0>"
      ]
     },
     "execution_count": 33,
     "metadata": {},
     "output_type": "execute_result"
    },
    {
     "data": {
      "image/png": "[encoded data removed]",
      "text/plain": [
       "<Figure size 432x288 with 1 Axes>"
      ]
     },
     "metadata": {
      "needs_background": "light"
     },
     "output_type": "display_data"
    }
   ],
   "source": [
    "for i in range(16):\n",
    "    feat_i = feats_select[:, i]\n",
    "    label = \"feature no: \" + str(i)\n",
    "    plt.plot(x_test, feat_i, label = label)\n",
    "plt.legend()"
   ]
  },
  {
   "cell_type": "code",
   "execution_count": null,
   "metadata": {},
   "outputs": [],
   "source": []
  }
 ],
 "metadata": {
  "kernelspec": {
   "display_name": "Python 3",
   "language": "python",
   "name": "python3"
  },
  "language_info": {
   "codemirror_mode": {
    "name": "ipython",
    "version": 3
   },
   "file_extension": ".py",
   "mimetype": "text/x-python",
   "name": "python",
   "nbconvert_exporter": "python",
   "pygments_lexer": "ipython3",
   "version": "3.7.3"
  }
 },
 "nbformat": 4,
 "nbformat_minor": 4
}

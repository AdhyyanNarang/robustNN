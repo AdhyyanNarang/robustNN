{
 "cells": [
  {
   "cell_type": "code",
   "execution_count": 1,
   "metadata": {},
   "outputs": [
    {
     "name": "stderr",
     "output_type": "stream",
     "text": [
      "Using TensorFlow backend.\n",
      "WARNING: Logging before flag parsing goes to stderr.\n",
      "W0627 22:31:30.801707 4595987904 deprecation_wrapper.py:119] From /usr/local/lib/python3.7/site-packages/cleverhans/utils_tf.py:341: The name tf.GraphKeys is deprecated. Please use tf.compat.v1.GraphKeys instead.\n",
      "\n"
     ]
    }
   ],
   "source": [
    "#Imports\n",
    "import logging\n",
    "import os, random, time, sys\n",
    "import numpy as np\n",
    "import tensorflow as tf\n",
    "import tensorflow.contrib.layers as layers\n",
    "import ipdb\n",
    "import keras\n",
    "import pandas as pd\n",
    "\n",
    "sys.path.append('../../../')\n",
    "import feedforward_robust as ffr\n",
    "\n",
    "sys.path.append('../../../utils/')\n",
    "from utils.mnist_corruption import *\n",
    "from utils.utils_models import *\n",
    "from utils.utils_analysis import *\n",
    "from utils.utils_feedforward import *\n",
    "\n",
    "%load_ext autoreload\n",
    "%autoreload 2\n",
    "\n",
    "#Read the counter\n",
    "ctr_file = \"../../counter.txt\"\n",
    "f = open(ctr_file, 'r')\n",
    "counter = f.readline()\n",
    "f.close()\n",
    "\n",
    "counter = 1 + int(counter)\n",
    "f = open(ctr_file,'w')\n",
    "f.write('{}'.format(counter))\n",
    "f.close()\n",
    "logfile = \"../../logs/results_\" + str(counter) + \".log\"\n",
    "\n",
    "logger = logging.getLogger(\"robustness\")\n",
    "logger.setLevel(logging.DEBUG)\n",
    "fh = logging.FileHandler(logfile)\n",
    "fh.setLevel(logging.INFO)\n",
    "formatter = logging.Formatter('%(asctime)s - %(name)s - %(levelname)s - %(message)s')\n",
    "fh.setFormatter(formatter)\n",
    "logger.addHandler(fh)\n",
    "logger.addHandler(logging.StreamHandler())"
   ]
  },
  {
   "cell_type": "markdown",
   "metadata": {},
   "source": [
    "# Get Raw Training Data"
   ]
  },
  {
   "cell_type": "code",
   "execution_count": 2,
   "metadata": {},
   "outputs": [],
   "source": [
    "n = 64\n",
    "n_test = 10000\n",
    "x_train = np.linspace(-1, 1-(2)/n, n).astype(np.float64)\n",
    "x_test = np.linspace(-1, 1-(2)/n_test, n_test).astype(np.float64)\n",
    "x_train = x_train.reshape((n, 1))\n",
    "x_test = x_test.reshape((n_test, 1))"
   ]
  },
  {
   "cell_type": "code",
   "execution_count": 3,
   "metadata": {},
   "outputs": [],
   "source": [
    "y_train = np.sign(x_train).astype(np.int)\n",
    "y_train[y_train==0] = 1\n",
    "y_train_ogi = y_train.copy()\n",
    "y_train[y_train==-1] = 0\n",
    "\n",
    "y_test = np.sign(x_test).astype(np.int)\n",
    "y_test[y_test==0] = 1\n",
    "y_test[y_test==-1] = 0"
   ]
  },
  {
   "cell_type": "code",
   "execution_count": 4,
   "metadata": {},
   "outputs": [],
   "source": [
    "y_train = y_train.flatten()\n",
    "y_test = y_test.flatten()"
   ]
  },
  {
   "cell_type": "code",
   "execution_count": 5,
   "metadata": {},
   "outputs": [],
   "source": [
    "num_classes = 2\n",
    "y_train = keras.utils.to_categorical(y_train, num_classes)                                                                                         \n",
    "y_test = keras.utils.to_categorical(y_test, num_classes)"
   ]
  },
  {
   "cell_type": "code",
   "execution_count": 6,
   "metadata": {},
   "outputs": [
    {
     "data": {
      "text/plain": [
       "array([[1., 0.],\n",
       "       [1., 0.],\n",
       "       [1., 0.],\n",
       "       [1., 0.],\n",
       "       [1., 0.],\n",
       "       [1., 0.],\n",
       "       [1., 0.],\n",
       "       [1., 0.],\n",
       "       [1., 0.],\n",
       "       [1., 0.],\n",
       "       [1., 0.],\n",
       "       [1., 0.],\n",
       "       [1., 0.],\n",
       "       [1., 0.],\n",
       "       [1., 0.],\n",
       "       [1., 0.],\n",
       "       [1., 0.],\n",
       "       [1., 0.],\n",
       "       [1., 0.],\n",
       "       [1., 0.],\n",
       "       [1., 0.],\n",
       "       [1., 0.],\n",
       "       [1., 0.],\n",
       "       [1., 0.],\n",
       "       [1., 0.],\n",
       "       [1., 0.],\n",
       "       [1., 0.],\n",
       "       [1., 0.],\n",
       "       [1., 0.],\n",
       "       [1., 0.],\n",
       "       [1., 0.],\n",
       "       [1., 0.],\n",
       "       [0., 1.],\n",
       "       [0., 1.],\n",
       "       [0., 1.],\n",
       "       [0., 1.],\n",
       "       [0., 1.],\n",
       "       [0., 1.],\n",
       "       [0., 1.],\n",
       "       [0., 1.],\n",
       "       [0., 1.],\n",
       "       [0., 1.],\n",
       "       [0., 1.],\n",
       "       [0., 1.],\n",
       "       [0., 1.],\n",
       "       [0., 1.],\n",
       "       [0., 1.],\n",
       "       [0., 1.],\n",
       "       [0., 1.],\n",
       "       [0., 1.],\n",
       "       [0., 1.],\n",
       "       [0., 1.],\n",
       "       [0., 1.],\n",
       "       [0., 1.],\n",
       "       [0., 1.],\n",
       "       [0., 1.],\n",
       "       [0., 1.],\n",
       "       [0., 1.],\n",
       "       [0., 1.],\n",
       "       [0., 1.],\n",
       "       [0., 1.],\n",
       "       [0., 1.],\n",
       "       [0., 1.],\n",
       "       [0., 1.]], dtype=float32)"
      ]
     },
     "execution_count": 6,
     "metadata": {},
     "output_type": "execute_result"
    }
   ],
   "source": [
    "y_train"
   ]
  },
  {
   "cell_type": "code",
   "execution_count": 7,
   "metadata": {},
   "outputs": [
    {
     "data": {
      "text/plain": [
       "array([[1., 0.],\n",
       "       [1., 0.],\n",
       "       [1., 0.],\n",
       "       [1., 0.],\n",
       "       [1., 0.],\n",
       "       [1., 0.],\n",
       "       [1., 0.],\n",
       "       [1., 0.],\n",
       "       [1., 0.],\n",
       "       [1., 0.]], dtype=float32)"
      ]
     },
     "execution_count": 7,
     "metadata": {},
     "output_type": "execute_result"
    }
   ],
   "source": [
    "y_test[:10]"
   ]
  },
  {
   "cell_type": "code",
   "execution_count": 8,
   "metadata": {},
   "outputs": [
    {
     "data": {
      "text/plain": [
       "array([[0., 1.],\n",
       "       [0., 1.],\n",
       "       [0., 1.],\n",
       "       [0., 1.],\n",
       "       [0., 1.],\n",
       "       [0., 1.],\n",
       "       [0., 1.],\n",
       "       [0., 1.],\n",
       "       [0., 1.],\n",
       "       [0., 1.]], dtype=float32)"
      ]
     },
     "execution_count": 8,
     "metadata": {},
     "output_type": "execute_result"
    }
   ],
   "source": [
    "y_test[-10:]"
   ]
  },
  {
   "cell_type": "markdown",
   "metadata": {},
   "source": [
    "# Train neural network"
   ]
  },
  {
   "cell_type": "code",
   "execution_count": 9,
   "metadata": {},
   "outputs": [],
   "source": [
    "#Configurations\n",
    "eps_train = None                                                                                                                            \n",
    "eps_test = None \n",
    "pgd_eta, pgd_num_iter = 1e-2, 50\n",
    "tensorboard_dir = \"../tb/\"                                                                                                                \n",
    "weights_dir = \"../weights/\"\n",
    "load_weights = False                                                                                                              \n",
    "load_counter = None                                                                                                            \n",
    "input_shape = (1,)\n",
    "\n",
    "\n",
    "sigma = tf.nn.relu \n",
    "epochs, reg, lr, batch_size = 100, 0.00, 3e-4, 64 # Will have to experiment with learning rate a bit.                                                                                              \n"
   ]
  },
  {
   "cell_type": "code",
   "execution_count": 10,
   "metadata": {},
   "outputs": [
    {
     "name": "stderr",
     "output_type": "stream",
     "text": [
      "Initialized instance variables of the robust model class\n",
      "I0627 22:31:31.407963 4595987904 feedforward_robust.py:32] Initialized instance variables of the robust model class\n",
      "W0627 22:31:31.409231 4595987904 deprecation_wrapper.py:119] From ../../../feedforward_robust.py:36: The name tf.placeholder is deprecated. Please use tf.compat.v1.placeholder instead.\n",
      "\n",
      "Created placeholders for x and y\n",
      "I0627 22:31:31.416299 4595987904 feedforward_robust.py:40] Created placeholders for x and y\n",
      "W0627 22:31:31.417464 4595987904 deprecation_wrapper.py:119] From ../../../utils/utils_feedforward.py:34: The name tf.variable_scope is deprecated. Please use tf.compat.v1.variable_scope instead.\n",
      "\n",
      "W0627 22:31:31.417999 4595987904 deprecation_wrapper.py:119] From ../../../utils/utils_feedforward.py:34: The name tf.AUTO_REUSE is deprecated. Please use tf.compat.v1.AUTO_REUSE instead.\n",
      "\n",
      "W0627 22:31:31.419018 4595987904 deprecation_wrapper.py:119] From ../../../utils/utils_feedforward.py:36: The name tf.get_variable is deprecated. Please use tf.compat.v1.get_variable instead.\n",
      "\n",
      "W0627 22:31:31.434761 4595987904 deprecation_wrapper.py:119] From ../../../utils/utils_feedforward.py:40: The name tf.summary.histogram is deprecated. Please use tf.compat.v1.summary.histogram instead.\n",
      "\n",
      "Created layers and tensor for logits\n",
      "I0627 22:31:31.495744 4595987904 feedforward_robust.py:44] Created layers and tensor for logits\n",
      "Added accuracy computation to the graph\n",
      "I0627 22:31:31.502099 4595987904 feedforward_robust.py:48] Added accuracy computation to the graph\n",
      "W0627 22:31:31.503576 4595987904 deprecation_wrapper.py:119] From ../../../feedforward_robust.py:49: The name tf.summary.scalar is deprecated. Please use tf.compat.v1.summary.scalar instead.\n",
      "\n",
      "W0627 22:31:31.507126 4595987904 deprecation.py:323] From ../../../feedforward_robust.py:53: softmax_cross_entropy_with_logits (from tensorflow.python.ops.nn_ops) is deprecated and will be removed in a future version.\n",
      "Instructions for updating:\n",
      "\n",
      "Future major versions of TensorFlow will allow gradients to flow\n",
      "into the labels input on backprop by default.\n",
      "\n",
      "See `tf.nn.softmax_cross_entropy_with_logits_v2`.\n",
      "\n",
      "Added cross-entropy loss computation to the graph\n",
      "I0627 22:31:31.557076 4595987904 feedforward_robust.py:56] Added cross-entropy loss computation to the graph\n",
      "Model graph was created\n",
      "I0627 22:31:31.558298 4595987904 feedforward_robust.py:62] Model graph was created\n",
      "W0627 22:31:31.562238 4595987904 deprecation_wrapper.py:119] From ../../../feedforward_robust.py:63: The name tf.summary.merge_all is deprecated. Please use tf.compat.v1.summary.merge_all instead.\n",
      "\n",
      "W0627 22:31:31.602021 4595987904 deprecation_wrapper.py:119] From ../../../utils/utils_feedforward.py:78: The name tf.linalg.transpose is deprecated. Please use tf.linalg.matrix_transpose instead.\n",
      "\n",
      "W0627 22:31:31.635370 4595987904 deprecation.py:323] From ../../../feedforward_robust.py:766: all_variables (from tensorflow.python.ops.variables) is deprecated and will be removed after 2017-03-02.\n",
      "Instructions for updating:\n",
      "Please use tf.global_variables instead.\n",
      "W0627 22:31:31.635973 4595987904 deprecation_wrapper.py:119] From ../../../feedforward_robust.py:767: The name tf.train.AdamOptimizer is deprecated. Please use tf.compat.v1.train.AdamOptimizer instead.\n",
      "\n"
     ]
    },
    {
     "name": "stdout",
     "output_type": "stream",
     "text": [
      "Created model successfully. Now going to train\n"
     ]
    },
    {
     "name": "stderr",
     "output_type": "stream",
     "text": [
      "W0627 22:31:32.056266 4595987904 deprecation.py:323] From /usr/local/lib/python3.7/site-packages/tensorflow/python/util/tf_should_use.py:193: initialize_variables (from tensorflow.python.ops.variables) is deprecated and will be removed after 2017-03-02.\n",
      "Instructions for updating:\n",
      "Use `tf.variables_initializer` instead.\n",
      "Epoch: 0001    cost: 0.708126068 \n",
      "I0627 22:31:32.283373 4595987904 feedforward_robust.py:739] Epoch: 0001    cost: 0.708126068 \n",
      "Accuracy on batch: 0.000000\n",
      "I0627 22:31:32.288012 4595987904 feedforward_robust.py:740] Accuracy on batch: 0.000000\n",
      "Epoch: 0002    cost: 0.703516722 \n",
      "I0627 22:31:32.296437 4595987904 feedforward_robust.py:739] Epoch: 0002    cost: 0.703516722 \n",
      "Accuracy on batch: 0.093750\n",
      "I0627 22:31:32.298009 4595987904 feedforward_robust.py:740] Accuracy on batch: 0.093750\n",
      "Epoch: 0003    cost: 0.698976636 \n",
      "I0627 22:31:32.307589 4595987904 feedforward_robust.py:739] Epoch: 0003    cost: 0.698976636 \n",
      "Accuracy on batch: 0.546875\n",
      "I0627 22:31:32.309077 4595987904 feedforward_robust.py:740] Accuracy on batch: 0.546875\n",
      "Epoch: 0004    cost: 0.694748759 \n",
      "I0627 22:31:32.317255 4595987904 feedforward_robust.py:739] Epoch: 0004    cost: 0.694748759 \n",
      "Accuracy on batch: 0.593750\n",
      "I0627 22:31:32.318714 4595987904 feedforward_robust.py:740] Accuracy on batch: 0.593750\n",
      "Epoch: 0005    cost: 0.690594494 \n",
      "I0627 22:31:32.326807 4595987904 feedforward_robust.py:739] Epoch: 0005    cost: 0.690594494 \n",
      "Accuracy on batch: 0.656250\n",
      "I0627 22:31:32.328206 4595987904 feedforward_robust.py:740] Accuracy on batch: 0.656250\n",
      "Epoch: 0006    cost: 0.686386168 \n",
      "I0627 22:31:32.336319 4595987904 feedforward_robust.py:739] Epoch: 0006    cost: 0.686386168 \n",
      "Accuracy on batch: 0.765625\n",
      "I0627 22:31:32.337647 4595987904 feedforward_robust.py:740] Accuracy on batch: 0.765625\n",
      "Epoch: 0007    cost: 0.682287574 \n",
      "I0627 22:31:32.345376 4595987904 feedforward_robust.py:739] Epoch: 0007    cost: 0.682287574 \n",
      "Accuracy on batch: 1.000000\n",
      "I0627 22:31:32.346623 4595987904 feedforward_robust.py:740] Accuracy on batch: 1.000000\n",
      "Epoch: 0008    cost: 0.678298950 \n",
      "I0627 22:31:32.354999 4595987904 feedforward_robust.py:739] Epoch: 0008    cost: 0.678298950 \n",
      "Accuracy on batch: 1.000000\n",
      "I0627 22:31:32.356562 4595987904 feedforward_robust.py:740] Accuracy on batch: 1.000000\n",
      "Epoch: 0009    cost: 0.674440742 \n",
      "I0627 22:31:32.363917 4595987904 feedforward_robust.py:739] Epoch: 0009    cost: 0.674440742 \n",
      "Accuracy on batch: 1.000000\n",
      "I0627 22:31:32.365062 4595987904 feedforward_robust.py:740] Accuracy on batch: 1.000000\n",
      "Epoch: 0010    cost: 0.670790434 \n",
      "I0627 22:31:32.372402 4595987904 feedforward_robust.py:739] Epoch: 0010    cost: 0.670790434 \n",
      "Accuracy on batch: 1.000000\n",
      "I0627 22:31:32.373447 4595987904 feedforward_robust.py:740] Accuracy on batch: 1.000000\n",
      "Epoch: 0011    cost: 0.667252064 \n",
      "I0627 22:31:32.380805 4595987904 feedforward_robust.py:739] Epoch: 0011    cost: 0.667252064 \n",
      "Accuracy on batch: 1.000000\n",
      "I0627 22:31:32.381983 4595987904 feedforward_robust.py:740] Accuracy on batch: 1.000000\n",
      "Epoch: 0012    cost: 0.663847029 \n",
      "I0627 22:31:32.389271 4595987904 feedforward_robust.py:739] Epoch: 0012    cost: 0.663847029 \n",
      "Accuracy on batch: 1.000000\n",
      "I0627 22:31:32.390314 4595987904 feedforward_robust.py:740] Accuracy on batch: 1.000000\n",
      "Epoch: 0013    cost: 0.660570562 \n",
      "I0627 22:31:32.397858 4595987904 feedforward_robust.py:739] Epoch: 0013    cost: 0.660570562 \n",
      "Accuracy on batch: 1.000000\n",
      "I0627 22:31:32.399307 4595987904 feedforward_robust.py:740] Accuracy on batch: 1.000000\n",
      "Epoch: 0014    cost: 0.657344580 \n",
      "I0627 22:31:32.406682 4595987904 feedforward_robust.py:739] Epoch: 0014    cost: 0.657344580 \n",
      "Accuracy on batch: 1.000000\n",
      "I0627 22:31:32.408131 4595987904 feedforward_robust.py:740] Accuracy on batch: 1.000000\n",
      "Epoch: 0015    cost: 0.654129863 \n",
      "I0627 22:31:32.415650 4595987904 feedforward_robust.py:739] Epoch: 0015    cost: 0.654129863 \n",
      "Accuracy on batch: 1.000000\n",
      "I0627 22:31:32.416952 4595987904 feedforward_robust.py:740] Accuracy on batch: 1.000000\n",
      "Epoch: 0016    cost: 0.650923908 \n",
      "I0627 22:31:32.424374 4595987904 feedforward_robust.py:739] Epoch: 0016    cost: 0.650923908 \n",
      "Accuracy on batch: 1.000000\n",
      "I0627 22:31:32.425378 4595987904 feedforward_robust.py:740] Accuracy on batch: 1.000000\n",
      "Epoch: 0017    cost: 0.647699535 \n",
      "I0627 22:31:32.433228 4595987904 feedforward_robust.py:739] Epoch: 0017    cost: 0.647699535 \n",
      "Accuracy on batch: 1.000000\n",
      "I0627 22:31:32.434540 4595987904 feedforward_robust.py:740] Accuracy on batch: 1.000000\n",
      "Epoch: 0018    cost: 0.644458413 \n",
      "I0627 22:31:32.443624 4595987904 feedforward_robust.py:739] Epoch: 0018    cost: 0.644458413 \n",
      "Accuracy on batch: 1.000000\n",
      "I0627 22:31:32.452111 4595987904 feedforward_robust.py:740] Accuracy on batch: 1.000000\n",
      "Epoch: 0019    cost: 0.641165018 \n",
      "I0627 22:31:32.461367 4595987904 feedforward_robust.py:739] Epoch: 0019    cost: 0.641165018 \n",
      "Accuracy on batch: 1.000000\n",
      "I0627 22:31:32.462660 4595987904 feedforward_robust.py:740] Accuracy on batch: 1.000000\n",
      "Epoch: 0020    cost: 0.637783766 \n",
      "I0627 22:31:32.470129 4595987904 feedforward_robust.py:739] Epoch: 0020    cost: 0.637783766 \n",
      "Accuracy on batch: 1.000000\n",
      "I0627 22:31:32.471240 4595987904 feedforward_robust.py:740] Accuracy on batch: 1.000000\n",
      "Epoch: 0021    cost: 0.634365678 \n",
      "I0627 22:31:32.478816 4595987904 feedforward_robust.py:739] Epoch: 0021    cost: 0.634365678 \n",
      "Accuracy on batch: 1.000000\n",
      "I0627 22:31:32.480039 4595987904 feedforward_robust.py:740] Accuracy on batch: 1.000000\n",
      "Epoch: 0022    cost: 0.630919933 \n",
      "I0627 22:31:32.487419 4595987904 feedforward_robust.py:739] Epoch: 0022    cost: 0.630919933 \n",
      "Accuracy on batch: 1.000000\n",
      "I0627 22:31:32.488754 4595987904 feedforward_robust.py:740] Accuracy on batch: 1.000000\n",
      "Epoch: 0023    cost: 0.627454400 \n",
      "I0627 22:31:32.496166 4595987904 feedforward_robust.py:739] Epoch: 0023    cost: 0.627454400 \n",
      "Accuracy on batch: 1.000000\n",
      "I0627 22:31:32.497562 4595987904 feedforward_robust.py:740] Accuracy on batch: 1.000000\n",
      "Epoch: 0024    cost: 0.623973131 \n",
      "I0627 22:31:32.505033 4595987904 feedforward_robust.py:739] Epoch: 0024    cost: 0.623973131 \n",
      "Accuracy on batch: 1.000000\n",
      "I0627 22:31:32.506213 4595987904 feedforward_robust.py:740] Accuracy on batch: 1.000000\n",
      "Epoch: 0025    cost: 0.620472550 \n",
      "I0627 22:31:32.513463 4595987904 feedforward_robust.py:739] Epoch: 0025    cost: 0.620472550 \n",
      "Accuracy on batch: 1.000000\n",
      "I0627 22:31:32.514590 4595987904 feedforward_robust.py:740] Accuracy on batch: 1.000000\n",
      "Epoch: 0026    cost: 0.616961241 \n",
      "I0627 22:31:32.522103 4595987904 feedforward_robust.py:739] Epoch: 0026    cost: 0.616961241 \n",
      "Accuracy on batch: 1.000000\n",
      "I0627 22:31:32.523443 4595987904 feedforward_robust.py:740] Accuracy on batch: 1.000000\n",
      "Epoch: 0027    cost: 0.613472760 \n",
      "I0627 22:31:32.530972 4595987904 feedforward_robust.py:739] Epoch: 0027    cost: 0.613472760 \n",
      "Accuracy on batch: 1.000000\n",
      "I0627 22:31:32.532314 4595987904 feedforward_robust.py:740] Accuracy on batch: 1.000000\n",
      "Epoch: 0028    cost: 0.609995902 \n",
      "I0627 22:31:32.540175 4595987904 feedforward_robust.py:739] Epoch: 0028    cost: 0.609995902 \n",
      "Accuracy on batch: 1.000000\n",
      "I0627 22:31:32.541593 4595987904 feedforward_robust.py:740] Accuracy on batch: 1.000000\n",
      "Epoch: 0029    cost: 0.606541514 \n",
      "I0627 22:31:32.549206 4595987904 feedforward_robust.py:739] Epoch: 0029    cost: 0.606541514 \n",
      "Accuracy on batch: 1.000000\n",
      "I0627 22:31:32.550307 4595987904 feedforward_robust.py:740] Accuracy on batch: 1.000000\n",
      "Epoch: 0030    cost: 0.603072524 \n",
      "I0627 22:31:32.557571 4595987904 feedforward_robust.py:739] Epoch: 0030    cost: 0.603072524 \n",
      "Accuracy on batch: 1.000000\n",
      "I0627 22:31:32.558652 4595987904 feedforward_robust.py:740] Accuracy on batch: 1.000000\n",
      "Epoch: 0031    cost: 0.599563599 \n",
      "I0627 22:31:32.566817 4595987904 feedforward_robust.py:739] Epoch: 0031    cost: 0.599563599 \n",
      "Accuracy on batch: 1.000000\n",
      "I0627 22:31:32.568163 4595987904 feedforward_robust.py:740] Accuracy on batch: 1.000000\n",
      "Epoch: 0032    cost: 0.596016705 \n",
      "I0627 22:31:32.575923 4595987904 feedforward_robust.py:739] Epoch: 0032    cost: 0.596016705 \n",
      "Accuracy on batch: 1.000000\n",
      "I0627 22:31:32.577345 4595987904 feedforward_robust.py:740] Accuracy on batch: 1.000000\n",
      "Epoch: 0033    cost: 0.592462242 \n",
      "I0627 22:31:32.584863 4595987904 feedforward_robust.py:739] Epoch: 0033    cost: 0.592462242 \n"
     ]
    },
    {
     "name": "stderr",
     "output_type": "stream",
     "text": [
      "Accuracy on batch: 1.000000\n",
      "I0627 22:31:32.585914 4595987904 feedforward_robust.py:740] Accuracy on batch: 1.000000\n",
      "Epoch: 0034    cost: 0.588930130 \n",
      "I0627 22:31:32.593239 4595987904 feedforward_robust.py:739] Epoch: 0034    cost: 0.588930130 \n",
      "Accuracy on batch: 1.000000\n",
      "I0627 22:31:32.594492 4595987904 feedforward_robust.py:740] Accuracy on batch: 1.000000\n",
      "Epoch: 0035    cost: 0.585391641 \n",
      "I0627 22:31:32.601764 4595987904 feedforward_robust.py:739] Epoch: 0035    cost: 0.585391641 \n",
      "Accuracy on batch: 1.000000\n",
      "I0627 22:31:32.603064 4595987904 feedforward_robust.py:740] Accuracy on batch: 1.000000\n",
      "Epoch: 0036    cost: 0.581850290 \n",
      "I0627 22:31:32.610326 4595987904 feedforward_robust.py:739] Epoch: 0036    cost: 0.581850290 \n",
      "Accuracy on batch: 1.000000\n",
      "I0627 22:31:32.611447 4595987904 feedforward_robust.py:740] Accuracy on batch: 1.000000\n",
      "Epoch: 0037    cost: 0.578309596 \n",
      "I0627 22:31:32.619134 4595987904 feedforward_robust.py:739] Epoch: 0037    cost: 0.578309596 \n",
      "Accuracy on batch: 1.000000\n",
      "I0627 22:31:32.620321 4595987904 feedforward_robust.py:740] Accuracy on batch: 1.000000\n",
      "Epoch: 0038    cost: 0.574774683 \n",
      "I0627 22:31:32.627552 4595987904 feedforward_robust.py:739] Epoch: 0038    cost: 0.574774683 \n",
      "Accuracy on batch: 1.000000\n",
      "I0627 22:31:32.628730 4595987904 feedforward_robust.py:740] Accuracy on batch: 1.000000\n",
      "Epoch: 0039    cost: 0.571229696 \n",
      "I0627 22:31:32.636051 4595987904 feedforward_robust.py:739] Epoch: 0039    cost: 0.571229696 \n",
      "Accuracy on batch: 1.000000\n",
      "I0627 22:31:32.637525 4595987904 feedforward_robust.py:740] Accuracy on batch: 1.000000\n",
      "Epoch: 0040    cost: 0.567659020 \n",
      "I0627 22:31:32.645485 4595987904 feedforward_robust.py:739] Epoch: 0040    cost: 0.567659020 \n",
      "Accuracy on batch: 1.000000\n",
      "I0627 22:31:32.646601 4595987904 feedforward_robust.py:740] Accuracy on batch: 1.000000\n",
      "Epoch: 0041    cost: 0.564068437 \n",
      "I0627 22:31:32.654661 4595987904 feedforward_robust.py:739] Epoch: 0041    cost: 0.564068437 \n",
      "Accuracy on batch: 1.000000\n",
      "I0627 22:31:32.655967 4595987904 feedforward_robust.py:740] Accuracy on batch: 1.000000\n",
      "Epoch: 0042    cost: 0.560460091 \n",
      "I0627 22:31:32.663558 4595987904 feedforward_robust.py:739] Epoch: 0042    cost: 0.560460091 \n",
      "Accuracy on batch: 1.000000\n",
      "I0627 22:31:32.664752 4595987904 feedforward_robust.py:740] Accuracy on batch: 1.000000\n",
      "Epoch: 0043    cost: 0.556838036 \n",
      "I0627 22:31:32.671869 4595987904 feedforward_robust.py:739] Epoch: 0043    cost: 0.556838036 \n",
      "Accuracy on batch: 1.000000\n",
      "I0627 22:31:32.673289 4595987904 feedforward_robust.py:740] Accuracy on batch: 1.000000\n",
      "Epoch: 0044    cost: 0.553214908 \n",
      "I0627 22:31:32.680401 4595987904 feedforward_robust.py:739] Epoch: 0044    cost: 0.553214908 \n",
      "Accuracy on batch: 1.000000\n",
      "I0627 22:31:32.682147 4595987904 feedforward_robust.py:740] Accuracy on batch: 1.000000\n",
      "Epoch: 0045    cost: 0.549603283 \n",
      "I0627 22:31:32.689106 4595987904 feedforward_robust.py:739] Epoch: 0045    cost: 0.549603283 \n",
      "Accuracy on batch: 1.000000\n",
      "I0627 22:31:32.690456 4595987904 feedforward_robust.py:740] Accuracy on batch: 1.000000\n",
      "Epoch: 0046    cost: 0.545947015 \n",
      "I0627 22:31:32.697012 4595987904 feedforward_robust.py:739] Epoch: 0046    cost: 0.545947015 \n",
      "Accuracy on batch: 1.000000\n",
      "I0627 22:31:32.698405 4595987904 feedforward_robust.py:740] Accuracy on batch: 1.000000\n",
      "Epoch: 0047    cost: 0.542235494 \n",
      "I0627 22:31:32.705100 4595987904 feedforward_robust.py:739] Epoch: 0047    cost: 0.542235494 \n",
      "Accuracy on batch: 1.000000\n",
      "I0627 22:31:32.706392 4595987904 feedforward_robust.py:740] Accuracy on batch: 1.000000\n",
      "Epoch: 0048    cost: 0.538473427 \n",
      "I0627 22:31:32.713491 4595987904 feedforward_robust.py:739] Epoch: 0048    cost: 0.538473427 \n",
      "Accuracy on batch: 1.000000\n",
      "I0627 22:31:32.714908 4595987904 feedforward_robust.py:740] Accuracy on batch: 1.000000\n",
      "Epoch: 0049    cost: 0.534678996 \n",
      "I0627 22:31:32.721598 4595987904 feedforward_robust.py:739] Epoch: 0049    cost: 0.534678996 \n",
      "Accuracy on batch: 1.000000\n",
      "I0627 22:31:32.722842 4595987904 feedforward_robust.py:740] Accuracy on batch: 1.000000\n",
      "Epoch: 0050    cost: 0.530884326 \n",
      "I0627 22:31:32.729549 4595987904 feedforward_robust.py:739] Epoch: 0050    cost: 0.530884326 \n",
      "Accuracy on batch: 1.000000\n",
      "I0627 22:31:32.730667 4595987904 feedforward_robust.py:740] Accuracy on batch: 1.000000\n",
      "Epoch: 0051    cost: 0.527091503 \n",
      "I0627 22:31:32.737679 4595987904 feedforward_robust.py:739] Epoch: 0051    cost: 0.527091503 \n",
      "Accuracy on batch: 1.000000\n",
      "I0627 22:31:32.739044 4595987904 feedforward_robust.py:740] Accuracy on batch: 1.000000\n",
      "Epoch: 0052    cost: 0.523257494 \n",
      "I0627 22:31:32.746057 4595987904 feedforward_robust.py:739] Epoch: 0052    cost: 0.523257494 \n",
      "Accuracy on batch: 1.000000\n",
      "I0627 22:31:32.747504 4595987904 feedforward_robust.py:740] Accuracy on batch: 1.000000\n",
      "Epoch: 0053    cost: 0.519386113 \n",
      "I0627 22:31:32.754380 4595987904 feedforward_robust.py:739] Epoch: 0053    cost: 0.519386113 \n",
      "Accuracy on batch: 1.000000\n",
      "I0627 22:31:32.755733 4595987904 feedforward_robust.py:740] Accuracy on batch: 1.000000\n",
      "Epoch: 0054    cost: 0.515475988 \n",
      "I0627 22:31:32.762415 4595987904 feedforward_robust.py:739] Epoch: 0054    cost: 0.515475988 \n",
      "Accuracy on batch: 1.000000\n",
      "I0627 22:31:32.764235 4595987904 feedforward_robust.py:740] Accuracy on batch: 1.000000\n",
      "Epoch: 0055    cost: 0.511534870 \n",
      "I0627 22:31:32.772400 4595987904 feedforward_robust.py:739] Epoch: 0055    cost: 0.511534870 \n",
      "Accuracy on batch: 1.000000\n",
      "I0627 22:31:32.773755 4595987904 feedforward_robust.py:740] Accuracy on batch: 1.000000\n",
      "Epoch: 0056    cost: 0.507581532 \n",
      "I0627 22:31:32.780318 4595987904 feedforward_robust.py:739] Epoch: 0056    cost: 0.507581532 \n",
      "Accuracy on batch: 1.000000\n",
      "I0627 22:31:32.781706 4595987904 feedforward_robust.py:740] Accuracy on batch: 1.000000\n",
      "Epoch: 0057    cost: 0.503598213 \n",
      "I0627 22:31:32.788084 4595987904 feedforward_robust.py:739] Epoch: 0057    cost: 0.503598213 \n",
      "Accuracy on batch: 1.000000\n",
      "I0627 22:31:32.789687 4595987904 feedforward_robust.py:740] Accuracy on batch: 1.000000\n",
      "Epoch: 0058    cost: 0.499577671 \n",
      "I0627 22:31:32.796982 4595987904 feedforward_robust.py:739] Epoch: 0058    cost: 0.499577671 \n",
      "Accuracy on batch: 1.000000\n",
      "I0627 22:31:32.798269 4595987904 feedforward_robust.py:740] Accuracy on batch: 1.000000\n",
      "Epoch: 0059    cost: 0.495515198 \n",
      "I0627 22:31:32.805255 4595987904 feedforward_robust.py:739] Epoch: 0059    cost: 0.495515198 \n",
      "Accuracy on batch: 1.000000\n",
      "I0627 22:31:32.806799 4595987904 feedforward_robust.py:740] Accuracy on batch: 1.000000\n",
      "Epoch: 0060    cost: 0.491417885 \n",
      "I0627 22:31:32.813742 4595987904 feedforward_robust.py:739] Epoch: 0060    cost: 0.491417885 \n",
      "Accuracy on batch: 1.000000\n",
      "I0627 22:31:32.815353 4595987904 feedforward_robust.py:740] Accuracy on batch: 1.000000\n",
      "Epoch: 0061    cost: 0.487271994 \n",
      "I0627 22:31:32.822585 4595987904 feedforward_robust.py:739] Epoch: 0061    cost: 0.487271994 \n",
      "Accuracy on batch: 1.000000\n",
      "I0627 22:31:32.824048 4595987904 feedforward_robust.py:740] Accuracy on batch: 1.000000\n",
      "Epoch: 0062    cost: 0.483063847 \n",
      "I0627 22:31:32.831290 4595987904 feedforward_robust.py:739] Epoch: 0062    cost: 0.483063847 \n",
      "Accuracy on batch: 1.000000\n",
      "I0627 22:31:32.832794 4595987904 feedforward_robust.py:740] Accuracy on batch: 1.000000\n",
      "Epoch: 0063    cost: 0.478819430 \n",
      "I0627 22:31:32.839995 4595987904 feedforward_robust.py:739] Epoch: 0063    cost: 0.478819430 \n",
      "Accuracy on batch: 1.000000\n",
      "I0627 22:31:32.841297 4595987904 feedforward_robust.py:740] Accuracy on batch: 1.000000\n",
      "Epoch: 0064    cost: 0.474552244 \n",
      "I0627 22:31:32.848508 4595987904 feedforward_robust.py:739] Epoch: 0064    cost: 0.474552244 \n",
      "Accuracy on batch: 1.000000\n",
      "I0627 22:31:32.849600 4595987904 feedforward_robust.py:740] Accuracy on batch: 1.000000\n",
      "Epoch: 0065    cost: 0.470233500 \n",
      "I0627 22:31:32.856928 4595987904 feedforward_robust.py:739] Epoch: 0065    cost: 0.470233500 \n",
      "Accuracy on batch: 1.000000\n",
      "I0627 22:31:32.858307 4595987904 feedforward_robust.py:740] Accuracy on batch: 1.000000\n",
      "Epoch: 0066    cost: 0.465875775 \n",
      "I0627 22:31:32.865435 4595987904 feedforward_robust.py:739] Epoch: 0066    cost: 0.465875775 \n",
      "Accuracy on batch: 1.000000\n",
      "I0627 22:31:32.866883 4595987904 feedforward_robust.py:740] Accuracy on batch: 1.000000\n",
      "Epoch: 0067    cost: 0.461477906 \n"
     ]
    },
    {
     "name": "stderr",
     "output_type": "stream",
     "text": [
      "I0627 22:31:32.874351 4595987904 feedforward_robust.py:739] Epoch: 0067    cost: 0.461477906 \n",
      "Accuracy on batch: 1.000000\n",
      "I0627 22:31:32.875717 4595987904 feedforward_robust.py:740] Accuracy on batch: 1.000000\n",
      "Epoch: 0068    cost: 0.457045227 \n",
      "I0627 22:31:32.883729 4595987904 feedforward_robust.py:739] Epoch: 0068    cost: 0.457045227 \n",
      "Accuracy on batch: 1.000000\n",
      "I0627 22:31:32.885126 4595987904 feedforward_robust.py:740] Accuracy on batch: 1.000000\n",
      "Epoch: 0069    cost: 0.452590883 \n",
      "I0627 22:31:32.891654 4595987904 feedforward_robust.py:739] Epoch: 0069    cost: 0.452590883 \n",
      "Accuracy on batch: 1.000000\n",
      "I0627 22:31:32.893051 4595987904 feedforward_robust.py:740] Accuracy on batch: 1.000000\n",
      "Epoch: 0070    cost: 0.448117435 \n",
      "I0627 22:31:32.900341 4595987904 feedforward_robust.py:739] Epoch: 0070    cost: 0.448117435 \n",
      "Accuracy on batch: 1.000000\n",
      "I0627 22:31:32.901715 4595987904 feedforward_robust.py:740] Accuracy on batch: 1.000000\n",
      "Epoch: 0071    cost: 0.443622977 \n",
      "I0627 22:31:32.908711 4595987904 feedforward_robust.py:739] Epoch: 0071    cost: 0.443622977 \n",
      "Accuracy on batch: 1.000000\n",
      "I0627 22:31:32.910100 4595987904 feedforward_robust.py:740] Accuracy on batch: 1.000000\n",
      "Epoch: 0072    cost: 0.439111054 \n",
      "I0627 22:31:32.916761 4595987904 feedforward_robust.py:739] Epoch: 0072    cost: 0.439111054 \n",
      "Accuracy on batch: 1.000000\n",
      "I0627 22:31:32.918217 4595987904 feedforward_robust.py:740] Accuracy on batch: 1.000000\n",
      "Epoch: 0073    cost: 0.434584051 \n",
      "I0627 22:31:32.925287 4595987904 feedforward_robust.py:739] Epoch: 0073    cost: 0.434584051 \n",
      "Accuracy on batch: 1.000000\n",
      "I0627 22:31:32.926585 4595987904 feedforward_robust.py:740] Accuracy on batch: 1.000000\n",
      "Epoch: 0074    cost: 0.430042922 \n",
      "I0627 22:31:32.933923 4595987904 feedforward_robust.py:739] Epoch: 0074    cost: 0.430042922 \n",
      "Accuracy on batch: 1.000000\n",
      "I0627 22:31:32.935405 4595987904 feedforward_robust.py:740] Accuracy on batch: 1.000000\n",
      "Epoch: 0075    cost: 0.425491154 \n",
      "I0627 22:31:32.942159 4595987904 feedforward_robust.py:739] Epoch: 0075    cost: 0.425491154 \n",
      "Accuracy on batch: 1.000000\n",
      "I0627 22:31:32.943577 4595987904 feedforward_robust.py:740] Accuracy on batch: 1.000000\n",
      "Epoch: 0076    cost: 0.420928210 \n",
      "I0627 22:31:32.951781 4595987904 feedforward_robust.py:739] Epoch: 0076    cost: 0.420928210 \n",
      "Accuracy on batch: 1.000000\n",
      "I0627 22:31:32.953398 4595987904 feedforward_robust.py:740] Accuracy on batch: 1.000000\n",
      "Epoch: 0077    cost: 0.416356802 \n",
      "I0627 22:31:32.961341 4595987904 feedforward_robust.py:739] Epoch: 0077    cost: 0.416356802 \n",
      "Accuracy on batch: 1.000000\n",
      "I0627 22:31:32.962773 4595987904 feedforward_robust.py:740] Accuracy on batch: 1.000000\n",
      "Epoch: 0078    cost: 0.411777228 \n",
      "I0627 22:31:32.969671 4595987904 feedforward_robust.py:739] Epoch: 0078    cost: 0.411777228 \n",
      "Accuracy on batch: 1.000000\n",
      "I0627 22:31:32.971098 4595987904 feedforward_robust.py:740] Accuracy on batch: 1.000000\n",
      "Epoch: 0079    cost: 0.407194138 \n",
      "I0627 22:31:32.977961 4595987904 feedforward_robust.py:739] Epoch: 0079    cost: 0.407194138 \n",
      "Accuracy on batch: 1.000000\n",
      "I0627 22:31:32.979038 4595987904 feedforward_robust.py:740] Accuracy on batch: 1.000000\n",
      "Epoch: 0080    cost: 0.402609736 \n",
      "I0627 22:31:32.986072 4595987904 feedforward_robust.py:739] Epoch: 0080    cost: 0.402609736 \n",
      "Accuracy on batch: 1.000000\n",
      "I0627 22:31:32.987471 4595987904 feedforward_robust.py:740] Accuracy on batch: 1.000000\n",
      "Epoch: 0081    cost: 0.398024499 \n",
      "I0627 22:31:32.994451 4595987904 feedforward_robust.py:739] Epoch: 0081    cost: 0.398024499 \n",
      "Accuracy on batch: 1.000000\n",
      "I0627 22:31:32.995823 4595987904 feedforward_robust.py:740] Accuracy on batch: 1.000000\n",
      "Epoch: 0082    cost: 0.393435448 \n",
      "I0627 22:31:33.002725 4595987904 feedforward_robust.py:739] Epoch: 0082    cost: 0.393435448 \n",
      "Accuracy on batch: 1.000000\n",
      "I0627 22:31:33.003873 4595987904 feedforward_robust.py:740] Accuracy on batch: 1.000000\n",
      "Epoch: 0083    cost: 0.388850033 \n",
      "I0627 22:31:33.010585 4595987904 feedforward_robust.py:739] Epoch: 0083    cost: 0.388850033 \n",
      "Accuracy on batch: 1.000000\n",
      "I0627 22:31:33.011934 4595987904 feedforward_robust.py:740] Accuracy on batch: 1.000000\n",
      "Epoch: 0084    cost: 0.384267867 \n",
      "I0627 22:31:33.018419 4595987904 feedforward_robust.py:739] Epoch: 0084    cost: 0.384267867 \n",
      "Accuracy on batch: 1.000000\n",
      "I0627 22:31:33.019924 4595987904 feedforward_robust.py:740] Accuracy on batch: 1.000000\n",
      "Epoch: 0085    cost: 0.379691780 \n",
      "I0627 22:31:33.027109 4595987904 feedforward_robust.py:739] Epoch: 0085    cost: 0.379691780 \n",
      "Accuracy on batch: 1.000000\n",
      "I0627 22:31:33.028548 4595987904 feedforward_robust.py:740] Accuracy on batch: 1.000000\n",
      "Epoch: 0086    cost: 0.375123322 \n",
      "I0627 22:31:33.035376 4595987904 feedforward_robust.py:739] Epoch: 0086    cost: 0.375123322 \n",
      "Accuracy on batch: 1.000000\n",
      "I0627 22:31:33.036964 4595987904 feedforward_robust.py:740] Accuracy on batch: 1.000000\n",
      "Epoch: 0087    cost: 0.370562524 \n",
      "I0627 22:31:33.044011 4595987904 feedforward_robust.py:739] Epoch: 0087    cost: 0.370562524 \n",
      "Accuracy on batch: 1.000000\n",
      "I0627 22:31:33.045360 4595987904 feedforward_robust.py:740] Accuracy on batch: 1.000000\n",
      "Epoch: 0088    cost: 0.366011143 \n",
      "I0627 22:31:33.051857 4595987904 feedforward_robust.py:739] Epoch: 0088    cost: 0.366011143 \n",
      "Accuracy on batch: 1.000000\n",
      "I0627 22:31:33.053419 4595987904 feedforward_robust.py:740] Accuracy on batch: 1.000000\n",
      "Epoch: 0089    cost: 0.361471742 \n",
      "I0627 22:31:33.060950 4595987904 feedforward_robust.py:739] Epoch: 0089    cost: 0.361471742 \n",
      "Accuracy on batch: 1.000000\n",
      "I0627 22:31:33.062309 4595987904 feedforward_robust.py:740] Accuracy on batch: 1.000000\n",
      "Epoch: 0090    cost: 0.356944203 \n",
      "I0627 22:31:33.069090 4595987904 feedforward_robust.py:739] Epoch: 0090    cost: 0.356944203 \n",
      "Accuracy on batch: 1.000000\n",
      "I0627 22:31:33.070199 4595987904 feedforward_robust.py:740] Accuracy on batch: 1.000000\n",
      "Epoch: 0091    cost: 0.352430463 \n",
      "I0627 22:31:33.076989 4595987904 feedforward_robust.py:739] Epoch: 0091    cost: 0.352430463 \n",
      "Accuracy on batch: 1.000000\n",
      "I0627 22:31:33.078426 4595987904 feedforward_robust.py:740] Accuracy on batch: 1.000000\n",
      "Epoch: 0092    cost: 0.347933501 \n",
      "I0627 22:31:33.085408 4595987904 feedforward_robust.py:739] Epoch: 0092    cost: 0.347933501 \n",
      "Accuracy on batch: 1.000000\n",
      "I0627 22:31:33.086776 4595987904 feedforward_robust.py:740] Accuracy on batch: 1.000000\n",
      "Epoch: 0093    cost: 0.343458593 \n",
      "I0627 22:31:33.095863 4595987904 feedforward_robust.py:739] Epoch: 0093    cost: 0.343458593 \n",
      "Accuracy on batch: 1.000000\n",
      "I0627 22:31:33.097435 4595987904 feedforward_robust.py:740] Accuracy on batch: 1.000000\n",
      "Epoch: 0094    cost: 0.339006901 \n",
      "I0627 22:31:33.104538 4595987904 feedforward_robust.py:739] Epoch: 0094    cost: 0.339006901 \n",
      "Accuracy on batch: 1.000000\n",
      "I0627 22:31:33.105972 4595987904 feedforward_robust.py:740] Accuracy on batch: 1.000000\n",
      "Epoch: 0095    cost: 0.334576160 \n",
      "I0627 22:31:33.112957 4595987904 feedforward_robust.py:739] Epoch: 0095    cost: 0.334576160 \n",
      "Accuracy on batch: 1.000000\n",
      "I0627 22:31:33.114339 4595987904 feedforward_robust.py:740] Accuracy on batch: 1.000000\n",
      "Epoch: 0096    cost: 0.330169678 \n",
      "I0627 22:31:33.121551 4595987904 feedforward_robust.py:739] Epoch: 0096    cost: 0.330169678 \n",
      "Accuracy on batch: 1.000000\n",
      "I0627 22:31:33.122959 4595987904 feedforward_robust.py:740] Accuracy on batch: 1.000000\n",
      "Epoch: 0097    cost: 0.325787961 \n",
      "I0627 22:31:33.133883 4595987904 feedforward_robust.py:739] Epoch: 0097    cost: 0.325787961 \n",
      "Accuracy on batch: 1.000000\n",
      "I0627 22:31:33.135478 4595987904 feedforward_robust.py:740] Accuracy on batch: 1.000000\n",
      "Epoch: 0098    cost: 0.321437836 \n",
      "I0627 22:31:33.142838 4595987904 feedforward_robust.py:739] Epoch: 0098    cost: 0.321437836 \n",
      "Accuracy on batch: 1.000000\n",
      "I0627 22:31:33.144142 4595987904 feedforward_robust.py:740] Accuracy on batch: 1.000000\n",
      "Epoch: 0099    cost: 0.317118227 \n",
      "I0627 22:31:33.151331 4595987904 feedforward_robust.py:739] Epoch: 0099    cost: 0.317118227 \n",
      "Accuracy on batch: 1.000000\n",
      "I0627 22:31:33.152624 4595987904 feedforward_robust.py:740] Accuracy on batch: 1.000000\n",
      "Epoch: 0100    cost: 0.312830567 \n",
      "I0627 22:31:33.160128 4595987904 feedforward_robust.py:739] Epoch: 0100    cost: 0.312830567 \n",
      "Accuracy on batch: 1.000000\n",
      "I0627 22:31:33.161541 4595987904 feedforward_robust.py:740] Accuracy on batch: 1.000000\n"
     ]
    },
    {
     "name": "stderr",
     "output_type": "stream",
     "text": [
      "Optimization Finished!\n",
      "I0627 22:31:33.162874 4595987904 feedforward_robust.py:741] Optimization Finished!\n",
      "Final Train Loss 0.308575\n",
      "I0627 22:31:33.186831 4595987904 feedforward_robust.py:749] Final Train Loss 0.308575\n",
      "Final Train Accuracy 1.000000:\n",
      "I0627 22:31:33.187991 4595987904 feedforward_robust.py:750] Final Train Accuracy 1.000000:\n",
      "Model was trained on benign data\n",
      "I0627 22:31:33.189461 4595987904 feedforward_robust.py:772] Model was trained on benign data\n",
      "Model was evaluated on benign data\n",
      "I0627 22:31:33.196357 4595987904 feedforward_robust.py:657] Model was evaluated on benign data\n"
     ]
    },
    {
     "name": "stdout",
     "output_type": "stream",
     "text": [
      "----Regular loss and accuracy ----\n",
      "(0.30924463, 0.9946)\n"
     ]
    }
   ],
   "source": [
    "#Setup - Dataset stuff\n",
    "tf.reset_default_graph()\n",
    "sess = tf.Session()\n",
    "hidden_sizes = [64, 64, 32]\n",
    "dataset = ((x_train, y_train), (x_test, y_test))\n",
    "\n",
    "scope_name = \"visualize_one_dim\"\n",
    "if not load_weights:\n",
    "    with tf.variable_scope(scope_name, reuse = False) as scope:\n",
    "\n",
    "        logdir = tensorboard_dir + str(counter)\n",
    "\n",
    "        #Create model\n",
    "        writer = tf.summary.FileWriter(logdir)\n",
    "        model = ffr.RobustMLP(input_shape, hidden_sizes, num_classes, writer = writer, scope = scope_name, logger = logger, sigma = sigma)\n",
    "        sess.run(tf.global_variables_initializer())\n",
    "        print(\"Created model successfully. Now going to train\")\n",
    "    \n",
    "        #Train model\n",
    "        preds_list = model.fit(sess, x_train, y_train, training_epochs = epochs, reg_op = reg , lr = lr, batch_size = batch_size, x_test = x_test)\n",
    "        \n",
    "        cross_loss, cross_acc = model.evaluate(sess, x_test, y_test)\n",
    "        print(\"----Regular loss and accuracy ----\")\n",
    "        print((cross_loss, cross_acc))\n",
    "        \n",
    "        \"\"\"\n",
    "        #cross_margins = model.get_pointwise_margin(sess, x_train, y_train)\n",
    "        cross_weight_norms = model.get_weight_norms(sess)\n",
    "        print(\"----- Weight norms ----\")\n",
    "        print(cross_weight_norms)\n",
    "        \n",
    "        #Test model - regular, fgsm adv, pgd adv\n",
    "\n",
    "        \n",
    "        cross_confidences = model.get_prediction(sess, x_test_flat)\n",
    "        \n",
    "        cross_spectral = model.get_spectral_norm(sess)\n",
    "        \"\"\""
   ]
  },
  {
   "cell_type": "code",
   "execution_count": 11,
   "metadata": {},
   "outputs": [],
   "source": [
    "preds_list = np.array(preds_list)"
   ]
  },
  {
   "cell_type": "code",
   "execution_count": 12,
   "metadata": {},
   "outputs": [
    {
     "data": {
      "text/plain": [
       "(100, 10000, 2)"
      ]
     },
     "execution_count": 12,
     "metadata": {},
     "output_type": "execute_result"
    }
   ],
   "source": [
    "preds_list.shape"
   ]
  },
  {
   "cell_type": "code",
   "execution_count": 13,
   "metadata": {},
   "outputs": [
    {
     "data": {
      "text/plain": [
       "array([[ 0.42786628, -1.643079  ],\n",
       "       [ 0.4277916 , -1.6428058 ],\n",
       "       [ 0.427717  , -1.6425327 ],\n",
       "       ...,\n",
       "       [-0.760796  ,  0.9040125 ],\n",
       "       [-0.7609063 ,  0.90414673],\n",
       "       [-0.76101667,  0.90428126]], dtype=float32)"
      ]
     },
     "execution_count": 13,
     "metadata": {},
     "output_type": "execute_result"
    }
   ],
   "source": [
    "preds_list[-1]"
   ]
  },
  {
   "cell_type": "markdown",
   "metadata": {},
   "source": [
    "# Processing learned func and plotting"
   ]
  },
  {
   "cell_type": "code",
   "execution_count": 16,
   "metadata": {},
   "outputs": [],
   "source": [
    "def flatten_single_pred(preds_single_epoch):\n",
    "    preds_new = [preds[1] - preds[0] for preds in preds_single_epoch]\n",
    "    return preds_new"
   ]
  },
  {
   "cell_type": "code",
   "execution_count": 17,
   "metadata": {},
   "outputs": [],
   "source": [
    "preds_list_flat = [flatten_single_pred(pse) for pse in preds_list]"
   ]
  },
  {
   "cell_type": "code",
   "execution_count": 18,
   "metadata": {},
   "outputs": [
    {
     "data": {
      "text/plain": [
       "(100, 10000)"
      ]
     },
     "execution_count": 18,
     "metadata": {},
     "output_type": "execute_result"
    }
   ],
   "source": [
    "preds_list_flat = np.array(preds_list_flat)\n",
    "preds_list_flat.shape"
   ]
  },
  {
   "cell_type": "code",
   "execution_count": 19,
   "metadata": {},
   "outputs": [
    {
     "data": {
      "text/plain": [
       "(100,)"
      ]
     },
     "execution_count": 19,
     "metadata": {},
     "output_type": "execute_result"
    }
   ],
   "source": [
    "preds_means = np.mean(np.abs(preds_list_flat), axis = 1)\n",
    "preds_means.shape"
   ]
  },
  {
   "cell_type": "code",
   "execution_count": 20,
   "metadata": {},
   "outputs": [
    {
     "data": {
      "text/plain": [
       "array([0.02124561, 0.01682008, 0.01600091, 0.01567589, 0.01676436,\n",
       "       0.02144144, 0.02953377, 0.03740969, 0.04489664, 0.05219446,\n",
       "       0.05924083, 0.06603829, 0.0727554 , 0.07946818, 0.0862001 ,\n",
       "       0.09299721, 0.09986671, 0.10687693, 0.11411085, 0.12146202,\n",
       "       0.12890697, 0.13643907, 0.14404975, 0.15173385, 0.15947643,\n",
       "       0.16721453, 0.17496178, 0.18270536, 0.19052991, 0.1984816 ,\n",
       "       0.20656137, 0.2147146 , 0.22286218, 0.23106907, 0.23932941,\n",
       "       0.24763782, 0.2559768 , 0.26438355, 0.27290073, 0.28151217,\n",
       "       0.29021624, 0.29900786, 0.30785334, 0.31672412, 0.3257597 ,\n",
       "       0.33498582, 0.3443969 , 0.3539539 , 0.36358288, 0.37326628,\n",
       "       0.38312888, 0.39316484, 0.4033709 , 0.4137347 , 0.424202  ,\n",
       "       0.43483174, 0.44563925, 0.4566336 , 0.46780458, 0.47919443,\n",
       "       0.49086744, 0.5027385 , 0.51478994, 0.5271092 , 0.5396606 ,\n",
       "       0.55243534, 0.565432  , 0.5786202 , 0.59199387, 0.60555744,\n",
       "       0.6193136 , 0.6332636 , 0.6474092 , 0.661745  , 0.6762796 ,\n",
       "       0.6910186 , 0.70595866, 0.72109526, 0.73642343, 0.7519435 ,\n",
       "       0.7676582 , 0.78356487, 0.7996597 , 0.8159417 , 0.8324094 ,\n",
       "       0.849064  , 0.8659045 , 0.88293076, 0.90014005, 0.9175285 ,\n",
       "       0.9350949 , 0.952825  , 0.9707037 , 0.98875076, 1.0069717 ,\n",
       "       1.0253648 , 1.0439061 , 1.0626029 , 1.081452  , 1.1004539 ],\n",
       "      dtype=float32)"
      ]
     },
     "execution_count": 20,
     "metadata": {},
     "output_type": "execute_result"
    }
   ],
   "source": [
    "preds_means"
   ]
  },
  {
   "cell_type": "code",
   "execution_count": 21,
   "metadata": {},
   "outputs": [
    {
     "data": {
      "text/plain": [
       "(10000,)"
      ]
     },
     "execution_count": 21,
     "metadata": {},
     "output_type": "execute_result"
    }
   ],
   "source": [
    "final_preds = preds_list_flat[-1]\n",
    "final_preds.shape"
   ]
  },
  {
   "cell_type": "code",
   "execution_count": 27,
   "metadata": {},
   "outputs": [
    {
     "data": {
      "text/plain": [
       "(5, 10000)"
      ]
     },
     "execution_count": 27,
     "metadata": {},
     "output_type": "execute_result"
    }
   ],
   "source": [
    "indices = np.arange(0, 100, 20)\n",
    "preds_list_smaller = preds_list_flat[indices]\n",
    "preds_list_smaller.shape"
   ]
  },
  {
   "cell_type": "code",
   "execution_count": 32,
   "metadata": {},
   "outputs": [
    {
     "data": {
      "text/plain": [
       "<matplotlib.legend.Legend at 0x13a3aeac8>"
      ]
     },
     "execution_count": 32,
     "metadata": {},
     "output_type": "execute_result"
    },
    {
     "data": {
      "image/png": "[encoded data removed]",
      "text/plain": [
       "<Figure size 432x288 with 1 Axes>"
      ]
     },
     "metadata": {
      "needs_background": "light"
     },
     "output_type": "display_data"
    }
   ],
   "source": [
    "plt.plot(x_train, y_train_ogi.flatten(),  color = \"blue\", linewidth=0, marker=\"D\", markersize=5, label = 'Train data', alpha = 0.75 )\n",
    "\n",
    "for (idx, preds) in enumerate(preds_list_smaller):\n",
    "    label = \"Iteration: \" + str(indices[idx])\n",
    "    plt.plot(x_test, preds,'-', marker = 'x', markersize = 0, linewidth = 1.5, label = label)\n",
    "\n",
    "plt.legend()"
   ]
  },
  {
   "cell_type": "code",
   "execution_count": null,
   "metadata": {},
   "outputs": [],
   "source": []
  }
 ],
 "metadata": {
  "kernelspec": {
   "display_name": "Python 3",
   "language": "python",
   "name": "python3"
  },
  "language_info": {
   "codemirror_mode": {
    "name": "ipython",
    "version": 3
   },
   "file_extension": ".py",
   "mimetype": "text/x-python",
   "name": "python",
   "nbconvert_exporter": "python",
   "pygments_lexer": "ipython3",
   "version": "3.7.3"
  }
 },
 "nbformat": 4,
 "nbformat_minor": 4
}

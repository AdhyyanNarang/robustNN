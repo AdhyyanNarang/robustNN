{
 "cells": [
  {
   "cell_type": "code",
   "execution_count": 1,
   "metadata": {},
   "outputs": [
    {
     "name": "stderr",
     "output_type": "stream",
     "text": [
      "Using TensorFlow backend.\n",
      "WARNING: Logging before flag parsing goes to stderr.\n",
      "W0627 16:15:53.317627 4560143808 deprecation_wrapper.py:119] From /usr/local/lib/python3.7/site-packages/cleverhans/utils_tf.py:341: The name tf.GraphKeys is deprecated. Please use tf.compat.v1.GraphKeys instead.\n",
      "\n"
     ]
    }
   ],
   "source": [
    "#Imports\n",
    "import logging\n",
    "import os, random, time, sys\n",
    "import numpy as np\n",
    "import tensorflow as tf\n",
    "import tensorflow.contrib.layers as layers\n",
    "import ipdb\n",
    "import keras\n",
    "import pandas as pd\n",
    "\n",
    "sys.path.append('../../../')\n",
    "import feedforward_robust as ffr\n",
    "\n",
    "sys.path.append('../../../utils/')\n",
    "from utils.mnist_corruption import *\n",
    "from utils.utils_models import *\n",
    "from utils.utils_analysis import *\n",
    "from utils.utils_feedforward import *\n",
    "\n",
    "%load_ext autoreload\n",
    "%autoreload 2\n",
    "\n",
    "#Read the counter\n",
    "ctr_file = \"../../counter.txt\"\n",
    "f = open(ctr_file, 'r')\n",
    "counter = f.readline()\n",
    "f.close()\n",
    "\n",
    "counter = 1 + int(counter)\n",
    "f = open(ctr_file,'w')\n",
    "f.write('{}'.format(counter))\n",
    "f.close()\n",
    "logfile = \"../../logs/results_\" + str(counter) + \".log\"\n",
    "\n",
    "logger = logging.getLogger(\"robustness\")\n",
    "logger.setLevel(logging.DEBUG)\n",
    "fh = logging.FileHandler(logfile)\n",
    "fh.setLevel(logging.INFO)\n",
    "formatter = logging.Formatter('%(asctime)s - %(name)s - %(levelname)s - %(message)s')\n",
    "fh.setFormatter(formatter)\n",
    "logger.addHandler(fh)\n",
    "logger.addHandler(logging.StreamHandler())"
   ]
  },
  {
   "cell_type": "markdown",
   "metadata": {},
   "source": [
    "# Get Fashion MNIST Data"
   ]
  },
  {
   "cell_type": "code",
   "execution_count": 2,
   "metadata": {},
   "outputs": [],
   "source": [
    "fashion_mnist = keras.datasets.fashion_mnist"
   ]
  },
  {
   "cell_type": "code",
   "execution_count": 3,
   "metadata": {},
   "outputs": [],
   "source": [
    "(x_train, y_train), (x_test, y_test) = fashion_mnist.load_data()\n",
    "x_train = x_train/255\n",
    "x_test = x_test/255"
   ]
  },
  {
   "cell_type": "code",
   "execution_count": 4,
   "metadata": {},
   "outputs": [
    {
     "data": {
      "text/plain": [
       "(60000,)"
      ]
     },
     "execution_count": 4,
     "metadata": {},
     "output_type": "execute_result"
    }
   ],
   "source": [
    "y_train.shape"
   ]
  },
  {
   "cell_type": "markdown",
   "metadata": {},
   "source": [
    "# Cross-Entropy"
   ]
  },
  {
   "cell_type": "code",
   "execution_count": 5,
   "metadata": {},
   "outputs": [],
   "source": [
    "#One hot the labels\n",
    "num_classes = 10\n",
    "y_train_oh = keras.utils.to_categorical(y_train, num_classes)                                                                                         \n",
    "y_test = keras.utils.to_categorical(y_test, num_classes)"
   ]
  },
  {
   "cell_type": "code",
   "execution_count": 6,
   "metadata": {},
   "outputs": [
    {
     "data": {
      "text/plain": [
       "(60000, 10)"
      ]
     },
     "execution_count": 6,
     "metadata": {},
     "output_type": "execute_result"
    }
   ],
   "source": [
    "y_train_oh.shape"
   ]
  },
  {
   "cell_type": "code",
   "execution_count": 7,
   "metadata": {},
   "outputs": [],
   "source": [
    "max_val = 1.0\n",
    "y_train_oh = y_train_oh * max_val\n",
    "remainder = (1 - max_val)/9.0"
   ]
  },
  {
   "cell_type": "code",
   "execution_count": 8,
   "metadata": {},
   "outputs": [
    {
     "data": {
      "text/plain": [
       "0.0"
      ]
     },
     "execution_count": 8,
     "metadata": {},
     "output_type": "execute_result"
    }
   ],
   "source": [
    "remainder"
   ]
  },
  {
   "cell_type": "code",
   "execution_count": 9,
   "metadata": {},
   "outputs": [],
   "source": [
    "to_add = np.ones(y_train_oh.shape)\n",
    "for i in range(len(y_train_oh)):\n",
    "    correct_index = y_train[i]\n",
    "    to_add[i, correct_index] = 0\n",
    "to_add = to_add * remainder\n",
    "y_train_oh = y_train_oh + to_add"
   ]
  },
  {
   "cell_type": "code",
   "execution_count": 10,
   "metadata": {},
   "outputs": [],
   "source": [
    "x_train_master, y_train_master = x_train[:30000], y_train_oh[:30000]\n",
    "x_train_slave, y_train_slave = x_train[30000:], y_train_oh[30000:]"
   ]
  },
  {
   "cell_type": "code",
   "execution_count": 11,
   "metadata": {},
   "outputs": [],
   "source": [
    "#Flatten everything\n",
    "x_train_master_flat, input_shape = flatten_mnist(x_train_master) \n",
    "x_train_slave_flat, _ = flatten_mnist(x_train_slave)\n",
    "x_test_flat, _  = flatten_mnist(x_test)"
   ]
  },
  {
   "cell_type": "code",
   "execution_count": 12,
   "metadata": {},
   "outputs": [],
   "source": [
    "#Configurations\n",
    "eps_train = 0.1                                                                                                                            \n",
    "eps_test = 0.1                                                                                                                             \n",
    "tensorboard_dir = \"../tb/\"                                                                                                                \n",
    "weights_dir = \"../weights/\"                                                                                                               \n",
    "load_weights = False                                                                                                              \n",
    "load_counter = 234                                                                                                            \n",
    "sigma = tf.nn.relu                                                                                                                         \n",
    "epochs, reg, lr = 10, 0.00, 1e-3    \n",
    "#epochs, reg, lr = 30, 0.00, 15e-4                                                                                                          \n",
    "pgd_eta, pgd_num_iter = 1e-2, 50"
   ]
  },
  {
   "cell_type": "code",
   "execution_count": 14,
   "metadata": {},
   "outputs": [
    {
     "data": {
      "text/plain": [
       "(784,)"
      ]
     },
     "execution_count": 14,
     "metadata": {},
     "output_type": "execute_result"
    }
   ],
   "source": [
    "input_shape"
   ]
  },
  {
   "cell_type": "code",
   "execution_count": 13,
   "metadata": {},
   "outputs": [
    {
     "name": "stderr",
     "output_type": "stream",
     "text": [
      "Initialized instance variables of the robust model class\n",
      "I0627 16:15:55.243912 4560143808 feedforward_robust.py:32] Initialized instance variables of the robust model class\n",
      "W0627 16:15:55.245617 4560143808 deprecation_wrapper.py:119] From ../../../feedforward_robust.py:36: The name tf.placeholder is deprecated. Please use tf.compat.v1.placeholder instead.\n",
      "\n",
      "Created placeholders for x and y\n",
      "I0627 16:15:55.269140 4560143808 feedforward_robust.py:40] Created placeholders for x and y\n",
      "W0627 16:15:55.271883 4560143808 deprecation_wrapper.py:119] From ../../../utils/utils_feedforward.py:34: The name tf.variable_scope is deprecated. Please use tf.compat.v1.variable_scope instead.\n",
      "\n",
      "W0627 16:15:55.272794 4560143808 deprecation_wrapper.py:119] From ../../../utils/utils_feedforward.py:34: The name tf.AUTO_REUSE is deprecated. Please use tf.compat.v1.AUTO_REUSE instead.\n",
      "\n",
      "W0627 16:15:55.274067 4560143808 deprecation_wrapper.py:119] From ../../../utils/utils_feedforward.py:36: The name tf.get_variable is deprecated. Please use tf.compat.v1.get_variable instead.\n",
      "\n",
      "W0627 16:15:55.317647 4560143808 deprecation_wrapper.py:119] From ../../../utils/utils_feedforward.py:40: The name tf.summary.histogram is deprecated. Please use tf.compat.v1.summary.histogram instead.\n",
      "\n",
      "Created layers and tensor for logits\n",
      "I0627 16:15:55.391247 4560143808 feedforward_robust.py:44] Created layers and tensor for logits\n",
      "Added accuracy computation to the graph\n",
      "I0627 16:15:55.406928 4560143808 feedforward_robust.py:48] Added accuracy computation to the graph\n",
      "W0627 16:15:55.419399 4560143808 deprecation_wrapper.py:119] From ../../../feedforward_robust.py:49: The name tf.summary.scalar is deprecated. Please use tf.compat.v1.summary.scalar instead.\n",
      "\n",
      "W0627 16:15:55.429628 4560143808 deprecation.py:323] From ../../../feedforward_robust.py:53: softmax_cross_entropy_with_logits (from tensorflow.python.ops.nn_ops) is deprecated and will be removed in a future version.\n",
      "Instructions for updating:\n",
      "\n",
      "Future major versions of TensorFlow will allow gradients to flow\n",
      "into the labels input on backprop by default.\n",
      "\n",
      "See `tf.nn.softmax_cross_entropy_with_logits_v2`.\n",
      "\n",
      "Added cross-entropy loss computation to the graph\n",
      "I0627 16:15:55.547719 4560143808 feedforward_robust.py:56] Added cross-entropy loss computation to the graph\n",
      "Model graph was created\n",
      "I0627 16:15:55.551810 4560143808 feedforward_robust.py:62] Model graph was created\n",
      "W0627 16:15:55.555013 4560143808 deprecation_wrapper.py:119] From ../../../feedforward_robust.py:63: The name tf.summary.merge_all is deprecated. Please use tf.compat.v1.summary.merge_all instead.\n",
      "\n",
      "W0627 16:15:55.924447 4560143808 deprecation_wrapper.py:119] From ../../../utils/utils_feedforward.py:78: The name tf.linalg.transpose is deprecated. Please use tf.linalg.matrix_transpose instead.\n",
      "\n",
      "W0627 16:15:55.970386 4560143808 deprecation.py:323] From ../../../feedforward_robust.py:755: all_variables (from tensorflow.python.ops.variables) is deprecated and will be removed after 2017-03-02.\n",
      "Instructions for updating:\n",
      "Please use tf.global_variables instead.\n",
      "W0627 16:15:55.971231 4560143808 deprecation_wrapper.py:119] From ../../../feedforward_robust.py:756: The name tf.train.AdamOptimizer is deprecated. Please use tf.compat.v1.train.AdamOptimizer instead.\n",
      "\n"
     ]
    },
    {
     "name": "stdout",
     "output_type": "stream",
     "text": [
      "Created model successfully. Now going to train\n"
     ]
    },
    {
     "name": "stderr",
     "output_type": "stream",
     "text": [
      "W0627 16:15:56.596240 4560143808 deprecation.py:323] From /usr/local/lib/python3.7/site-packages/tensorflow/python/util/tf_should_use.py:193: initialize_variables (from tensorflow.python.ops.variables) is deprecated and will be removed after 2017-03-02.\n",
      "Instructions for updating:\n",
      "Use `tf.variables_initializer` instead.\n",
      "Epoch: 0001    cost: 0.605939807 \n",
      "I0627 16:15:58.670604 4560143808 feedforward_robust.py:732] Epoch: 0001    cost: 0.605939807 \n",
      "Accuracy on batch: 0.781250\n",
      "I0627 16:15:58.674954 4560143808 feedforward_robust.py:733] Accuracy on batch: 0.781250\n",
      "Epoch: 0002    cost: 0.422434728 \n",
      "I0627 16:15:59.630665 4560143808 feedforward_robust.py:732] Epoch: 0002    cost: 0.422434728 \n",
      "Accuracy on batch: 0.812500\n",
      "I0627 16:15:59.632710 4560143808 feedforward_robust.py:733] Accuracy on batch: 0.812500\n",
      "Epoch: 0003    cost: 0.376853539 \n",
      "I0627 16:16:01.050021 4560143808 feedforward_robust.py:732] Epoch: 0003    cost: 0.376853539 \n",
      "Accuracy on batch: 0.812500\n",
      "I0627 16:16:01.051379 4560143808 feedforward_robust.py:733] Accuracy on batch: 0.812500\n",
      "Epoch: 0004    cost: 0.350522607 \n",
      "I0627 16:16:02.053323 4560143808 feedforward_robust.py:732] Epoch: 0004    cost: 0.350522607 \n",
      "Accuracy on batch: 0.812500\n",
      "I0627 16:16:02.054682 4560143808 feedforward_robust.py:733] Accuracy on batch: 0.812500\n",
      "Epoch: 0005    cost: 0.329128454 \n",
      "I0627 16:16:03.214818 4560143808 feedforward_robust.py:732] Epoch: 0005    cost: 0.329128454 \n",
      "Accuracy on batch: 0.812500\n",
      "I0627 16:16:03.216206 4560143808 feedforward_robust.py:733] Accuracy on batch: 0.812500\n",
      "Epoch: 0006    cost: 0.312554106 \n",
      "I0627 16:16:04.258325 4560143808 feedforward_robust.py:732] Epoch: 0006    cost: 0.312554106 \n",
      "Accuracy on batch: 0.812500\n",
      "I0627 16:16:04.261233 4560143808 feedforward_robust.py:733] Accuracy on batch: 0.812500\n",
      "Epoch: 0007    cost: 0.295833531 \n",
      "I0627 16:16:05.355836 4560143808 feedforward_robust.py:732] Epoch: 0007    cost: 0.295833531 \n",
      "Accuracy on batch: 0.875000\n",
      "I0627 16:16:05.357285 4560143808 feedforward_robust.py:733] Accuracy on batch: 0.875000\n",
      "Epoch: 0008    cost: 0.285440431 \n",
      "I0627 16:16:06.550170 4560143808 feedforward_robust.py:732] Epoch: 0008    cost: 0.285440431 \n",
      "Accuracy on batch: 0.875000\n",
      "I0627 16:16:06.551409 4560143808 feedforward_robust.py:733] Accuracy on batch: 0.875000\n",
      "Epoch: 0009    cost: 0.271313376 \n",
      "I0627 16:16:07.464926 4560143808 feedforward_robust.py:732] Epoch: 0009    cost: 0.271313376 \n",
      "Accuracy on batch: 0.843750\n",
      "I0627 16:16:07.466138 4560143808 feedforward_robust.py:733] Accuracy on batch: 0.843750\n",
      "Epoch: 0010    cost: 0.261281938 \n",
      "I0627 16:16:08.413463 4560143808 feedforward_robust.py:732] Epoch: 0010    cost: 0.261281938 \n",
      "Accuracy on batch: 0.906250\n",
      "I0627 16:16:08.415313 4560143808 feedforward_robust.py:733] Accuracy on batch: 0.906250\n",
      "Optimization Finished!\n",
      "I0627 16:16:08.417457 4560143808 feedforward_robust.py:734] Optimization Finished!\n",
      "Final Train Loss 0.262662\n",
      "I0627 16:16:08.565706 4560143808 feedforward_robust.py:742] Final Train Loss 0.262662\n",
      "Final Train Accuracy 0.900333:\n",
      "I0627 16:16:08.566976 4560143808 feedforward_robust.py:743] Final Train Accuracy 0.900333:\n",
      "Model was trained on benign data\n",
      "I0627 16:16:08.568571 4560143808 feedforward_robust.py:761] Model was trained on benign data\n",
      "Model was evaluated on benign data\n",
      "I0627 16:16:08.758865 4560143808 feedforward_robust.py:658] Model was evaluated on benign data\n"
     ]
    },
    {
     "name": "stdout",
     "output_type": "stream",
     "text": [
      "----- Weight norms ----\n",
      "[27.308752, 11.164049, 8.699152, 6.271835]\n",
      "----Regular test accuracy and loss ----\n",
      "(0.40496257, 0.8605)\n"
     ]
    }
   ],
   "source": [
    "#Setup - Dataset stuff\n",
    "tf.reset_default_graph()\n",
    "sess = tf.Session()\n",
    "hidden_sizes = [64, 64, 32]\n",
    "dataset = ((x_train_master_flat, y_train_master), (x_test_flat, y_test))\n",
    "\n",
    "scope_name = \"teacher_student_fashion\"\n",
    "if not load_weights:\n",
    "    with tf.variable_scope(scope_name, reuse = False) as scope:\n",
    "\n",
    "        logdir = tensorboard_dir + str(counter)\n",
    "\n",
    "        #Create model\n",
    "        writer = tf.summary.FileWriter(logdir)\n",
    "        model = ffr.RobustMLP(input_shape, hidden_sizes, num_classes, writer = writer, scope = scope_name, logger = logger, sigma = sigma)\n",
    "        sess.run(tf.global_variables_initializer())\n",
    "        print(\"Created model successfully. Now going to train\")\n",
    "    \n",
    "        #Train model\n",
    "        model.fit(sess, x_train_master_flat, y_train_master, training_epochs = epochs, reg_op = reg , lr = lr)\n",
    "        cross_margins = model.get_pointwise_margin(sess, x_train_master_flat, y_train)\n",
    "\n",
    "        \"\"\"\n",
    "        #Save weights\n",
    "        weights = tf.trainable_variables()\n",
    "        #weights = model.get_weights()[0] + model.get_weights()[1]\n",
    "        saver = tf.train.Saver(weights)\n",
    "        weights_path = saver.save(sess, weights_dir + \"model_\" + str(counter) + \".ckpt\")\n",
    "        print(\"Saved model at %s\"%weights_path)\n",
    "        \"\"\"\n",
    "        \n",
    "        cross_weight_norms = model.get_weight_norms(sess)\n",
    "        print(\"----- Weight norms ----\")\n",
    "        print(cross_weight_norms)\n",
    "        \n",
    "        #Test model - regular, fgsm adv, pgd adv\n",
    "        cross_loss, cross_acc = model.evaluate(sess, x_test_flat, y_test)\n",
    "        print(\"----Regular test accuracy and loss ----\")\n",
    "        print((cross_loss, cross_acc))\n",
    "        \n",
    "        cross_confidences = model.get_prediction(sess, x_test_flat)\n",
    "        \n",
    "        cross_spectral = model.get_spectral_norm(sess)"
   ]
  },
  {
   "cell_type": "code",
   "execution_count": 14,
   "metadata": {},
   "outputs": [
    {
     "data": {
      "text/plain": [
       "(array([ 1086.,  1036.,  1050.,   963.,  1096.,  1180.,  1319.,  1534.,\n",
       "         2138., 18598.]),\n",
       " array([1.4612079e-04, 1.0013151e-01, 2.0011690e-01, 3.0010229e-01,\n",
       "        4.0008768e-01, 5.0007308e-01, 6.0005844e-01, 7.0004386e-01,\n",
       "        8.0002922e-01, 9.0001464e-01, 1.0000000e+00], dtype=float32),\n",
       " <a list of 10 Patch objects>)"
      ]
     },
     "execution_count": 14,
     "metadata": {},
     "output_type": "execute_result"
    },
    {
     "data": {
      "image/png": "[encoded data removed]",
      "text/plain": [
       "<Figure size 432x288 with 1 Axes>"
      ]
     },
     "metadata": {
      "needs_background": "light"
     },
     "output_type": "display_data"
    }
   ],
   "source": [
    "plt.hist(cross_margins, 10)"
   ]
  },
  {
   "cell_type": "markdown",
   "metadata": {},
   "source": [
    "# MSE"
   ]
  },
  {
   "cell_type": "code",
   "execution_count": 15,
   "metadata": {},
   "outputs": [
    {
     "name": "stderr",
     "output_type": "stream",
     "text": [
      "Initialized instance variables of the robust model class\n",
      "I0615 22:46:20.050969 4532680128 feedforward_robust.py:32] Initialized instance variables of the robust model class\n",
      "Created placeholders for x and y\n",
      "I0615 22:46:20.058298 4532680128 feedforward_robust.py:40] Created placeholders for x and y\n",
      "Created layers and tensor for logits\n",
      "I0615 22:46:20.144038 4532680128 feedforward_robust.py:44] Created layers and tensor for logits\n",
      "Added accuracy computation to the graph\n",
      "I0615 22:46:20.151237 4532680128 feedforward_robust.py:48] Added accuracy computation to the graph\n",
      "Added MSE loss computation to the graph\n",
      "I0615 22:46:20.161925 4532680128 feedforward_robust.py:60] Added MSE loss computation to the graph\n",
      "Model graph was created\n",
      "I0615 22:46:20.163429 4532680128 feedforward_robust.py:62] Model graph was created\n"
     ]
    },
    {
     "name": "stdout",
     "output_type": "stream",
     "text": [
      "Created model successfully. Now going to train\n"
     ]
    },
    {
     "name": "stderr",
     "output_type": "stream",
     "text": [
      "Epoch: 0001    cost: 0.093834685 \n",
      "I0615 22:46:21.702965 4532680128 feedforward_robust.py:732] Epoch: 0001    cost: 0.093834685 \n",
      "Accuracy on batch: 0.843750\n",
      "I0615 22:46:21.705790 4532680128 feedforward_robust.py:733] Accuracy on batch: 0.843750\n",
      "Epoch: 0002    cost: 0.060781464 \n",
      "I0615 22:46:22.576101 4532680128 feedforward_robust.py:732] Epoch: 0002    cost: 0.060781464 \n",
      "Accuracy on batch: 0.843750\n",
      "I0615 22:46:22.577420 4532680128 feedforward_robust.py:733] Accuracy on batch: 0.843750\n",
      "Epoch: 0003    cost: 0.053727703 \n",
      "I0615 22:46:23.455960 4532680128 feedforward_robust.py:732] Epoch: 0003    cost: 0.053727703 \n",
      "Accuracy on batch: 0.843750\n",
      "I0615 22:46:23.457340 4532680128 feedforward_robust.py:733] Accuracy on batch: 0.843750\n",
      "Epoch: 0004    cost: 0.049619814 \n",
      "I0615 22:46:24.333343 4532680128 feedforward_robust.py:732] Epoch: 0004    cost: 0.049619814 \n",
      "Accuracy on batch: 0.843750\n",
      "I0615 22:46:24.334620 4532680128 feedforward_robust.py:733] Accuracy on batch: 0.843750\n",
      "Epoch: 0005    cost: 0.046788345 \n",
      "I0615 22:46:25.197762 4532680128 feedforward_robust.py:732] Epoch: 0005    cost: 0.046788345 \n",
      "Accuracy on batch: 0.843750\n",
      "I0615 22:46:25.199098 4532680128 feedforward_robust.py:733] Accuracy on batch: 0.843750\n",
      "Epoch: 0006    cost: 0.044577985 \n",
      "I0615 22:46:26.081175 4532680128 feedforward_robust.py:732] Epoch: 0006    cost: 0.044577985 \n",
      "Accuracy on batch: 0.843750\n",
      "I0615 22:46:26.082733 4532680128 feedforward_robust.py:733] Accuracy on batch: 0.843750\n",
      "Epoch: 0007    cost: 0.042923265 \n",
      "I0615 22:46:26.982510 4532680128 feedforward_robust.py:732] Epoch: 0007    cost: 0.042923265 \n",
      "Accuracy on batch: 0.843750\n",
      "I0615 22:46:26.983770 4532680128 feedforward_robust.py:733] Accuracy on batch: 0.843750\n",
      "Epoch: 0008    cost: 0.041416802 \n",
      "I0615 22:46:27.893023 4532680128 feedforward_robust.py:732] Epoch: 0008    cost: 0.041416802 \n",
      "Accuracy on batch: 0.875000\n",
      "I0615 22:46:27.894171 4532680128 feedforward_robust.py:733] Accuracy on batch: 0.875000\n",
      "Epoch: 0009    cost: 0.040106595 \n",
      "I0615 22:46:28.771862 4532680128 feedforward_robust.py:732] Epoch: 0009    cost: 0.040106595 \n",
      "Accuracy on batch: 0.812500\n",
      "I0615 22:46:28.773316 4532680128 feedforward_robust.py:733] Accuracy on batch: 0.812500\n",
      "Epoch: 0010    cost: 0.039088947 \n",
      "I0615 22:46:29.661615 4532680128 feedforward_robust.py:732] Epoch: 0010    cost: 0.039088947 \n",
      "Accuracy on batch: 0.875000\n",
      "I0615 22:46:29.663135 4532680128 feedforward_robust.py:733] Accuracy on batch: 0.875000\n",
      "Optimization Finished!\n",
      "I0615 22:46:29.667174 4532680128 feedforward_robust.py:734] Optimization Finished!\n",
      "Final Train Loss 0.040932\n",
      "I0615 22:46:29.803447 4532680128 feedforward_robust.py:742] Final Train Loss 0.040932\n",
      "Final Train Accuracy 0.890767:\n",
      "I0615 22:46:29.804720 4532680128 feedforward_robust.py:743] Final Train Accuracy 0.890767:\n",
      "Model was trained on benign data\n",
      "I0615 22:46:29.808671 4532680128 feedforward_robust.py:761] Model was trained on benign data\n",
      "Model was evaluated on benign data\n",
      "I0615 22:46:29.985120 4532680128 feedforward_robust.py:658] Model was evaluated on benign data\n"
     ]
    },
    {
     "name": "stdout",
     "output_type": "stream",
     "text": [
      "----- Weight norms ----\n",
      "[22.34508, 9.538677, 8.302387, 3.509004]\n",
      "----Regular test accuracy and loss ----\n",
      "(0.054219052, 0.8551)\n"
     ]
    }
   ],
   "source": [
    "# Cross-Entropy\n",
    "(x_train, y_train), (x_test, y_test) = fashion_mnist.load_data()\n",
    "x_train = x_train/255\n",
    "x_test = x_test/255\n",
    "\n",
    "#One hot the labels\n",
    "num_classes = 10\n",
    "y_train_oh = keras.utils.to_categorical(y_train, num_classes)                                                                                         \n",
    "y_test = keras.utils.to_categorical(y_test, num_classes)\n",
    "\n",
    "y_train_oh.shape\n",
    "\n",
    "max_val = 1.0\n",
    "y_train_oh = y_train_oh * max_val\n",
    "remainder = (1 - max_val)/9.0\n",
    "\n",
    "remainder\n",
    "\n",
    "to_add = np.ones(y_train_oh.shape)\n",
    "\n",
    "for i in range(len(y_train_oh)):\n",
    "    correct_index = y_train[i]\n",
    "    to_add[i, correct_index] = 0\n",
    "to_add = to_add * remainder\n",
    "y_train_oh = y_train_oh + to_add\n",
    "\n",
    "x_train_master, y_train_master = x_train[:30000], y_train_oh[:30000]\n",
    "x_train_slave, y_train_slave = x_train[30000:], y_train_oh[30000:]\n",
    "\n",
    "#Flatten everything\n",
    "x_train_master_flat, input_shape = flatten_mnist(x_train_master) \n",
    "x_train_slave_flat, _ = flatten_mnist(x_train_slave)\n",
    "x_test_flat, _  = flatten_mnist(x_test)\n",
    "\n",
    "\n",
    "#Setup - Dataset stuff\n",
    "tf.reset_default_graph()\n",
    "sess = tf.Session()\n",
    "hidden_sizes = [64, 64, 32]\n",
    "dataset = ((x_train_master_flat, y_train_master), (x_test_flat, y_test))\n",
    "\n",
    "scope_name = \"teacher_student_fashion\"\n",
    "if not load_weights:\n",
    "    with tf.variable_scope(scope_name, reuse = False) as scope:\n",
    "\n",
    "        logdir = tensorboard_dir + str(counter)\n",
    "\n",
    "        #Create model\n",
    "        writer = tf.summary.FileWriter(logdir)\n",
    "        model = ffr.RobustMLP(input_shape, hidden_sizes, num_classes, writer = writer, scope = scope_name, logger = logger, sigma = sigma, classification = False)\n",
    "        sess.run(tf.global_variables_initializer())\n",
    "        print(\"Created model successfully. Now going to train\")\n",
    "    \n",
    "        #Train model\n",
    "        model.fit(sess, x_train_master_flat, y_train_master, training_epochs = epochs, reg_op = reg , lr = lr)\n",
    "        mse_margins = model.get_pointwise_margin(sess, x_train_master_flat, y_train)\n",
    "\n",
    "        \"\"\"\n",
    "        #Save weights\n",
    "        weights = tf.trainable_variables()\n",
    "        #weights = model.get_weights()[0] + model.get_weights()[1]\n",
    "        saver = tf.train.Saver(weights)\n",
    "        weights_path = saver.save(sess, weights_dir + \"model_\" + str(counter) + \".ckpt\")\n",
    "        print(\"Saved model at %s\"%weights_path)\n",
    "        \"\"\"\n",
    "        \n",
    "        cross_weight_norms = model.get_weight_norms(sess)\n",
    "        print(\"----- Weight norms ----\")\n",
    "        print(cross_weight_norms)\n",
    "        \n",
    "        #Test model - regular, fgsm adv, pgd adv\n",
    "        cross_loss, cross_acc = model.evaluate(sess, x_test_flat, y_test)\n",
    "        print(\"----Regular test accuracy and loss ----\")\n",
    "        print((cross_loss, cross_acc))\n",
    "        \n",
    "        mse_confidences = model.get_prediction(sess, x_test_flat)\n",
    "\n"
   ]
  },
  {
   "cell_type": "code",
   "execution_count": 16,
   "metadata": {},
   "outputs": [
    {
     "data": {
      "text/plain": [
       "(array([2.0620e+03, 1.9430e+03, 2.0870e+03, 2.6270e+03, 5.2270e+03,\n",
       "        1.4083e+04, 1.8580e+03, 9.3000e+01, 1.7000e+01, 3.0000e+00]),\n",
       " array([4.2766333e-06, 2.6090767e-02, 5.2177258e-02, 7.8263745e-02,\n",
       "        1.0435024e-01, 1.3043672e-01, 1.5652321e-01, 1.8260971e-01,\n",
       "        2.0869620e-01, 2.3478268e-01, 2.6086918e-01], dtype=float32),\n",
       " <a list of 10 Patch objects>)"
      ]
     },
     "execution_count": 16,
     "metadata": {},
     "output_type": "execute_result"
    },
    {
     "data": {
      "image/png": "[encoded data removed]",
      "text/plain": [
       "<Figure size 432x288 with 1 Axes>"
      ]
     },
     "metadata": {
      "needs_background": "light"
     },
     "output_type": "display_data"
    }
   ],
   "source": [
    "plt.hist(mse_margins, 10)"
   ]
  },
  {
   "cell_type": "markdown",
   "metadata": {},
   "source": [
    "# Max val 0.8"
   ]
  },
  {
   "cell_type": "code",
   "execution_count": 17,
   "metadata": {},
   "outputs": [
    {
     "name": "stderr",
     "output_type": "stream",
     "text": [
      "Initialized instance variables of the robust model class\n",
      "I0615 22:46:31.064414 4532680128 feedforward_robust.py:32] Initialized instance variables of the robust model class\n",
      "Created placeholders for x and y\n",
      "I0615 22:46:31.071211 4532680128 feedforward_robust.py:40] Created placeholders for x and y\n",
      "Created layers and tensor for logits\n",
      "I0615 22:46:31.158025 4532680128 feedforward_robust.py:44] Created layers and tensor for logits\n",
      "Added accuracy computation to the graph\n",
      "I0615 22:46:31.166885 4532680128 feedforward_robust.py:48] Added accuracy computation to the graph\n",
      "Added cross-entropy loss computation to the graph\n",
      "I0615 22:46:31.207326 4532680128 feedforward_robust.py:56] Added cross-entropy loss computation to the graph\n",
      "Model graph was created\n",
      "I0615 22:46:31.212543 4532680128 feedforward_robust.py:62] Model graph was created\n"
     ]
    },
    {
     "name": "stdout",
     "output_type": "stream",
     "text": [
      "Created model successfully. Now going to train\n"
     ]
    },
    {
     "name": "stderr",
     "output_type": "stream",
     "text": [
      "Epoch: 0001    cost: 1.338952615 \n",
      "I0615 22:46:32.942646 4532680128 feedforward_robust.py:732] Epoch: 0001    cost: 1.338952615 \n",
      "Accuracy on batch: 0.812500\n",
      "I0615 22:46:32.943882 4532680128 feedforward_robust.py:733] Accuracy on batch: 0.812500\n",
      "Epoch: 0002    cost: 1.211620381 \n",
      "I0615 22:46:33.950860 4532680128 feedforward_robust.py:732] Epoch: 0002    cost: 1.211620381 \n",
      "Accuracy on batch: 0.843750\n",
      "I0615 22:46:33.952459 4532680128 feedforward_robust.py:733] Accuracy on batch: 0.843750\n",
      "Epoch: 0003    cost: 1.178260050 \n",
      "I0615 22:46:35.187599 4532680128 feedforward_robust.py:732] Epoch: 0003    cost: 1.178260050 \n",
      "Accuracy on batch: 0.843750\n",
      "I0615 22:46:35.189363 4532680128 feedforward_robust.py:733] Accuracy on batch: 0.843750\n",
      "Epoch: 0004    cost: 1.158024806 \n",
      "I0615 22:46:36.184636 4532680128 feedforward_robust.py:732] Epoch: 0004    cost: 1.158024806 \n",
      "Accuracy on batch: 0.875000\n",
      "I0615 22:46:36.186162 4532680128 feedforward_robust.py:733] Accuracy on batch: 0.875000\n",
      "Epoch: 0005    cost: 1.144157653 \n",
      "I0615 22:46:37.179577 4532680128 feedforward_robust.py:732] Epoch: 0005    cost: 1.144157653 \n",
      "Accuracy on batch: 0.875000\n",
      "I0615 22:46:37.180878 4532680128 feedforward_robust.py:733] Accuracy on batch: 0.875000\n",
      "Epoch: 0006    cost: 1.132659952 \n",
      "I0615 22:46:38.157321 4532680128 feedforward_robust.py:732] Epoch: 0006    cost: 1.132659952 \n",
      "Accuracy on batch: 0.875000\n",
      "I0615 22:46:38.158618 4532680128 feedforward_robust.py:733] Accuracy on batch: 0.875000\n",
      "Epoch: 0007    cost: 1.123729734 \n",
      "I0615 22:46:39.048842 4532680128 feedforward_robust.py:732] Epoch: 0007    cost: 1.123729734 \n",
      "Accuracy on batch: 0.843750\n",
      "I0615 22:46:39.050244 4532680128 feedforward_robust.py:733] Accuracy on batch: 0.843750\n",
      "Epoch: 0008    cost: 1.115973117 \n",
      "I0615 22:46:39.915845 4532680128 feedforward_robust.py:732] Epoch: 0008    cost: 1.115973117 \n",
      "Accuracy on batch: 0.906250\n",
      "I0615 22:46:39.917273 4532680128 feedforward_robust.py:733] Accuracy on batch: 0.906250\n",
      "Epoch: 0009    cost: 1.109714136 \n",
      "I0615 22:46:40.930853 4532680128 feedforward_robust.py:732] Epoch: 0009    cost: 1.109714136 \n",
      "Accuracy on batch: 0.906250\n",
      "I0615 22:46:40.932980 4532680128 feedforward_robust.py:733] Accuracy on batch: 0.906250\n",
      "Epoch: 0010    cost: 1.104340400 \n",
      "I0615 22:46:42.273123 4532680128 feedforward_robust.py:732] Epoch: 0010    cost: 1.104340400 \n",
      "Accuracy on batch: 0.875000\n",
      "I0615 22:46:42.274456 4532680128 feedforward_robust.py:733] Accuracy on batch: 0.875000\n",
      "Optimization Finished!\n",
      "I0615 22:46:42.277908 4532680128 feedforward_robust.py:734] Optimization Finished!\n",
      "Final Train Loss 1.102654\n",
      "I0615 22:46:42.437008 4532680128 feedforward_robust.py:742] Final Train Loss 1.102654\n",
      "Final Train Accuracy 0.907167:\n",
      "I0615 22:46:42.439956 4532680128 feedforward_robust.py:743] Final Train Accuracy 0.907167:\n",
      "Model was trained on benign data\n",
      "I0615 22:46:42.448922 4532680128 feedforward_robust.py:761] Model was trained on benign data\n",
      "Model was evaluated on benign data\n",
      "I0615 22:46:42.675112 4532680128 feedforward_robust.py:658] Model was evaluated on benign data\n"
     ]
    },
    {
     "name": "stdout",
     "output_type": "stream",
     "text": [
      "----- Weight norms ----\n",
      "[25.9286, 10.969687, 9.3189, 5.06056]\n",
      "----Regular test accuracy and loss ----\n",
      "(0.054219052, 0.8551)\n"
     ]
    },
    {
     "data": {
      "text/plain": [
       "(array([ 1242.,  1181.,  1176.,  1192.,  1230.,  1653.,  2640.,  8684.,\n",
       "        10668.,   334.]),\n",
       " array([1.3768673e-05, 9.5336691e-02, 1.9065961e-01, 2.8598252e-01,\n",
       "        3.8130546e-01, 4.7662836e-01, 5.7195127e-01, 6.6727418e-01,\n",
       "        7.6259714e-01, 8.5792005e-01, 9.5324296e-01], dtype=float32),\n",
       " <a list of 10 Patch objects>)"
      ]
     },
     "execution_count": 17,
     "metadata": {},
     "output_type": "execute_result"
    },
    {
     "data": {
      "image/png": "[encoded data removed]",
      "text/plain": [
       "<Figure size 432x288 with 1 Axes>"
      ]
     },
     "metadata": {
      "needs_background": "light"
     },
     "output_type": "display_data"
    }
   ],
   "source": [
    "# Cross-Entropy\n",
    "(x_train, y_train), (x_test, y_test) = fashion_mnist.load_data()\n",
    "x_train = x_train/255\n",
    "x_test = x_test/255\n",
    "\n",
    "#One hot the labels\n",
    "num_classes = 10\n",
    "y_train_oh = keras.utils.to_categorical(y_train, num_classes)                                                                                         \n",
    "y_test = keras.utils.to_categorical(y_test, num_classes)\n",
    "\n",
    "y_train_oh.shape\n",
    "\n",
    "max_val = 0.8\n",
    "y_train_oh = y_train_oh * max_val\n",
    "remainder = (1 - max_val)/9.0\n",
    "\n",
    "remainder\n",
    "\n",
    "to_add = np.ones(y_train_oh.shape)\n",
    "for i in range(len(y_train_oh)):\n",
    "    correct_index = y_train[i]\n",
    "    to_add[i, correct_index] = 0\n",
    "to_add = to_add * remainder\n",
    "y_train_oh = y_train_oh + to_add\n",
    "\n",
    "y_train = y_train_oh\n",
    "\n",
    "x_train_master, y_train_master = x_train[:30000], y_train_oh[:30000]\n",
    "x_train_slave, y_train_slave = x_train[30000:], y_train_oh[30000:]\n",
    "\n",
    "#Flatten everything\n",
    "x_train_master_flat, input_shape = flatten_mnist(x_train_master) \n",
    "x_train_slave_flat, _ = flatten_mnist(x_train_slave)\n",
    "x_test_flat, _  = flatten_mnist(x_test)\n",
    "\n",
    "#Setup - Dataset stuff\n",
    "tf.reset_default_graph()\n",
    "sess = tf.Session()\n",
    "hidden_sizes = [64, 64, 32]\n",
    "dataset = ((x_train_master_flat, y_train_master), (x_test_flat, y_test))\n",
    "\n",
    "scope_name = \"teacher_student_fashion\"\n",
    "if not load_weights:\n",
    "    with tf.variable_scope(scope_name, reuse = False) as scope:\n",
    "\n",
    "        logdir = tensorboard_dir + str(counter)\n",
    "\n",
    "        #Create model\n",
    "        writer = tf.summary.FileWriter(logdir)\n",
    "        model = ffr.RobustMLP(input_shape, hidden_sizes, num_classes, writer = writer, scope = scope_name, logger = logger, sigma = sigma)\n",
    "        sess.run(tf.global_variables_initializer())\n",
    "        print(\"Created model successfully. Now going to train\")\n",
    "    \n",
    "        #Train model\n",
    "        model.fit(sess, x_train_master_flat, y_train_master, training_epochs = epochs, reg_op = reg , lr = lr)\n",
    "        eight_margins = model.get_pointwise_margin(sess, x_train_master_flat, y_train)\n",
    "\n",
    "        \"\"\"\n",
    "        #Save weights\n",
    "        weights = tf.trainable_variables()\n",
    "        #weights = model.get_weights()[0] + model.get_weights()[1]\n",
    "        saver = tf.train.Saver(weights)\n",
    "        weights_path = saver.save(sess, weights_dir + \"model_\" + str(counter) + \".ckpt\")\n",
    "        print(\"Saved model at %s\"%weights_path)\n",
    "        \"\"\"\n",
    "        \n",
    "        cross_weight_norms = model.get_weight_norms(sess)\n",
    "        print(\"----- Weight norms ----\")\n",
    "        print(cross_weight_norms)\n",
    "        \n",
    "        #Test model - regular, fgsm adv, pgd adv\n",
    "        eight_loss, eight_acc = model.evaluate(sess, x_test_flat, y_test)\n",
    "        print(\"----Regular test accuracy and loss ----\")\n",
    "        print((cross_loss, cross_acc))\n",
    "        \n",
    "        eight_confidences = model.get_prediction(sess, x_test_flat)\n",
    "        eight_spectral = model.get_spectral_norm(sess)\n",
    "\n",
    "plt.hist(eight_margins, 10)"
   ]
  },
  {
   "cell_type": "markdown",
   "metadata": {},
   "source": [
    "# Max-val 0.5"
   ]
  },
  {
   "cell_type": "code",
   "execution_count": 24,
   "metadata": {},
   "outputs": [
    {
     "name": "stderr",
     "output_type": "stream",
     "text": [
      "Initialized instance variables of the robust model class\n",
      "I0615 22:49:27.017462 4532680128 feedforward_robust.py:32] Initialized instance variables of the robust model class\n",
      "Created placeholders for x and y\n",
      "I0615 22:49:27.028186 4532680128 feedforward_robust.py:40] Created placeholders for x and y\n",
      "Created layers and tensor for logits\n",
      "I0615 22:49:27.113569 4532680128 feedforward_robust.py:44] Created layers and tensor for logits\n",
      "Added accuracy computation to the graph\n",
      "I0615 22:49:27.120342 4532680128 feedforward_robust.py:48] Added accuracy computation to the graph\n",
      "Added cross-entropy loss computation to the graph\n",
      "I0615 22:49:27.271380 4532680128 feedforward_robust.py:56] Added cross-entropy loss computation to the graph\n",
      "Model graph was created\n",
      "I0615 22:49:27.272515 4532680128 feedforward_robust.py:62] Model graph was created\n"
     ]
    },
    {
     "name": "stdout",
     "output_type": "stream",
     "text": [
      "Created model successfully. Now going to train\n"
     ]
    },
    {
     "name": "stderr",
     "output_type": "stream",
     "text": [
      "Epoch: 0001    cost: 2.090274668 \n",
      "I0615 22:49:28.843487 4532680128 feedforward_robust.py:732] Epoch: 0001    cost: 2.090274668 \n",
      "Accuracy on batch: 0.843750\n",
      "I0615 22:49:28.844671 4532680128 feedforward_robust.py:733] Accuracy on batch: 0.843750\n",
      "Epoch: 0002    cost: 2.059898032 \n",
      "I0615 22:49:29.763029 4532680128 feedforward_robust.py:732] Epoch: 0002    cost: 2.059898032 \n",
      "Accuracy on batch: 0.843750\n",
      "I0615 22:49:29.764420 4532680128 feedforward_robust.py:733] Accuracy on batch: 0.843750\n",
      "Epoch: 0003    cost: 2.051608759 \n",
      "I0615 22:49:30.653061 4532680128 feedforward_robust.py:732] Epoch: 0003    cost: 2.051608759 \n",
      "Accuracy on batch: 0.843750\n",
      "I0615 22:49:30.654187 4532680128 feedforward_robust.py:733] Accuracy on batch: 0.843750\n",
      "Epoch: 0004    cost: 2.046706144 \n",
      "I0615 22:49:31.522540 4532680128 feedforward_robust.py:732] Epoch: 0004    cost: 2.046706144 \n",
      "Accuracy on batch: 0.812500\n",
      "I0615 22:49:31.523965 4532680128 feedforward_robust.py:733] Accuracy on batch: 0.812500\n",
      "Epoch: 0005    cost: 2.043066472 \n",
      "I0615 22:49:32.395324 4532680128 feedforward_robust.py:732] Epoch: 0005    cost: 2.043066472 \n",
      "Accuracy on batch: 0.812500\n",
      "I0615 22:49:32.396410 4532680128 feedforward_robust.py:733] Accuracy on batch: 0.812500\n",
      "Epoch: 0006    cost: 2.040263486 \n",
      "I0615 22:49:33.402489 4532680128 feedforward_robust.py:732] Epoch: 0006    cost: 2.040263486 \n",
      "Accuracy on batch: 0.843750\n",
      "I0615 22:49:33.403983 4532680128 feedforward_robust.py:733] Accuracy on batch: 0.843750\n",
      "Epoch: 0007    cost: 2.038227176 \n",
      "I0615 22:49:34.429554 4532680128 feedforward_robust.py:732] Epoch: 0007    cost: 2.038227176 \n",
      "Accuracy on batch: 0.812500\n",
      "I0615 22:49:34.430916 4532680128 feedforward_robust.py:733] Accuracy on batch: 0.812500\n",
      "Epoch: 0008    cost: 2.035989052 \n",
      "I0615 22:49:35.367400 4532680128 feedforward_robust.py:732] Epoch: 0008    cost: 2.035989052 \n",
      "Accuracy on batch: 0.843750\n",
      "I0615 22:49:35.368555 4532680128 feedforward_robust.py:733] Accuracy on batch: 0.843750\n",
      "Epoch: 0009    cost: 2.034083998 \n",
      "I0615 22:49:36.238875 4532680128 feedforward_robust.py:732] Epoch: 0009    cost: 2.034083998 \n",
      "Accuracy on batch: 0.843750\n",
      "I0615 22:49:36.240326 4532680128 feedforward_robust.py:733] Accuracy on batch: 0.843750\n",
      "Epoch: 0010    cost: 2.032760125 \n",
      "I0615 22:49:37.307322 4532680128 feedforward_robust.py:732] Epoch: 0010    cost: 2.032760125 \n",
      "Accuracy on batch: 0.843750\n",
      "I0615 22:49:37.308355 4532680128 feedforward_robust.py:733] Accuracy on batch: 0.843750\n",
      "Optimization Finished!\n",
      "I0615 22:49:37.310064 4532680128 feedforward_robust.py:734] Optimization Finished!\n",
      "Final Train Loss 2.032408\n",
      "I0615 22:49:37.444594 4532680128 feedforward_robust.py:742] Final Train Loss 2.032408\n",
      "Final Train Accuracy 0.907033:\n",
      "I0615 22:49:37.446065 4532680128 feedforward_robust.py:743] Final Train Accuracy 0.907033:\n",
      "Model was trained on benign data\n",
      "I0615 22:49:37.448693 4532680128 feedforward_robust.py:761] Model was trained on benign data\n",
      "Model was evaluated on benign data\n",
      "I0615 22:49:37.622088 4532680128 feedforward_robust.py:658] Model was evaluated on benign data\n"
     ]
    },
    {
     "name": "stdout",
     "output_type": "stream",
     "text": [
      "----- Weight norms ----\n",
      "[24.917799, 10.541225, 8.6786, 4.0297503]\n",
      "----Regular test accuracy and loss ----\n",
      "(1.1412097, 0.863)\n"
     ]
    },
    {
     "data": {
      "text/plain": [
       "(array([1.427e+03, 1.439e+03, 1.449e+03, 1.794e+03, 2.351e+03, 5.230e+03,\n",
       "        1.497e+04, 1.254e+03, 7.800e+01, 8.000e+00]),\n",
       " array([8.4042549e-06, 5.1910210e-02, 1.0381202e-01, 1.5571383e-01,\n",
       "        2.0761563e-01, 2.5951743e-01, 3.1141925e-01, 3.6332104e-01,\n",
       "        4.1522285e-01, 4.6712464e-01, 5.1902646e-01], dtype=float32),\n",
       " <a list of 10 Patch objects>)"
      ]
     },
     "execution_count": 24,
     "metadata": {},
     "output_type": "execute_result"
    },
    {
     "data": {
      "image/png": "[encoded data removed]",
      "text/plain": [
       "<Figure size 432x288 with 1 Axes>"
      ]
     },
     "metadata": {
      "needs_background": "light"
     },
     "output_type": "display_data"
    }
   ],
   "source": [
    "# Cross-Entropy\n",
    "(x_train, y_train), (x_test, y_test) = fashion_mnist.load_data()\n",
    "x_train = x_train/255\n",
    "x_test = x_test/255\n",
    "\n",
    "#One hot the labels\n",
    "num_classes = 10\n",
    "y_train_oh = keras.utils.to_categorical(y_train, num_classes)                                                                                         \n",
    "y_test = keras.utils.to_categorical(y_test, num_classes)\n",
    "\n",
    "y_train_oh.shape\n",
    "\n",
    "max_val = 0.4\n",
    "y_train_oh = y_train_oh * max_val\n",
    "remainder = (1 - max_val)/9.0\n",
    "\n",
    "remainder\n",
    "\n",
    "to_add = np.ones(y_train_oh.shape)\n",
    "for i in range(len(y_train_oh)):\n",
    "    correct_index = y_train[i]\n",
    "    to_add[i, correct_index] = 0\n",
    "to_add = to_add * remainder\n",
    "y_train_oh = y_train_oh + to_add\n",
    "\n",
    "y_train = y_train_oh\n",
    "\n",
    "x_train_master, y_train_master = x_train[:30000], y_train_oh[:30000]\n",
    "x_train_slave, y_train_slave = x_train[30000:], y_train_oh[30000:]\n",
    "\n",
    "#Flatten everything\n",
    "x_train_master_flat, input_shape = flatten_mnist(x_train_master) \n",
    "x_train_slave_flat, _ = flatten_mnist(x_train_slave)\n",
    "x_test_flat, _  = flatten_mnist(x_test)\n",
    "\n",
    "#Setup - Dataset stuff\n",
    "tf.reset_default_graph()\n",
    "sess = tf.Session()\n",
    "hidden_sizes = [64, 64, 32]\n",
    "dataset = ((x_train_master_flat, y_train_master), (x_test_flat, y_test))\n",
    "\n",
    "scope_name = \"teacher_student_fashion\"\n",
    "if not load_weights:\n",
    "    with tf.variable_scope(scope_name, reuse = False) as scope:\n",
    "\n",
    "        logdir = tensorboard_dir + str(counter)\n",
    "\n",
    "        #Create model\n",
    "        writer = tf.summary.FileWriter(logdir)\n",
    "        model = ffr.RobustMLP(input_shape, hidden_sizes, num_classes, writer = writer, scope = scope_name, logger = logger, sigma = sigma)\n",
    "        sess.run(tf.global_variables_initializer())\n",
    "        print(\"Created model successfully. Now going to train\")\n",
    "    \n",
    "        #Train model\n",
    "        model.fit(sess, x_train_master_flat, y_train_master, training_epochs = epochs, reg_op = reg , lr = lr)\n",
    "        five_margins = model.get_pointwise_margin(sess, x_train_master_flat, y_train)\n",
    "\n",
    "        \"\"\"\n",
    "        #Save weights\n",
    "        weights = tf.trainable_variables()\n",
    "        #weights = model.get_weights()[0] + model.get_weights()[1]\n",
    "        saver = tf.train.Saver(weights)\n",
    "        weights_path = saver.save(sess, weights_dir + \"model_\" + str(counter) + \".ckpt\")\n",
    "        print(\"Saved model at %s\"%weights_path)\n",
    "        \"\"\"\n",
    "        \n",
    "        cross_weight_norms = model.get_weight_norms(sess)\n",
    "        print(\"----- Weight norms ----\")\n",
    "        print(cross_weight_norms)\n",
    "        \n",
    "        #Test model - regular, fgsm adv, pgd adv\n",
    "        five_loss, five_acc = model.evaluate(sess, x_test_flat, y_test)\n",
    "        print(\"----Regular test accuracy and loss ----\")\n",
    "        print((five_loss, five_acc))\n",
    "        \n",
    "        five_confidences = model.get_prediction(sess, x_test_flat)\n",
    "        five_spectral = model.get_spectral_norm(sess)\n",
    "\n",
    "plt.hist(five_margins, 10)"
   ]
  },
  {
   "cell_type": "code",
   "execution_count": null,
   "metadata": {},
   "outputs": [],
   "source": []
  },
  {
   "cell_type": "code",
   "execution_count": 25,
   "metadata": {},
   "outputs": [],
   "source": [
    "import scipy"
   ]
  },
  {
   "cell_type": "code",
   "execution_count": 63,
   "metadata": {},
   "outputs": [
    {
     "data": {
      "image/png": "[encoded data removed]",
      "text/plain": [
       "<Figure size 432x288 with 1 Axes>"
      ]
     },
     "metadata": {
      "needs_background": "light"
     },
     "output_type": "display_data"
    },
    {
     "data": {
      "image/png": "[encoded data removed]",
      "text/plain": [
       "<Figure size 432x288 with 1 Axes>"
      ]
     },
     "metadata": {
      "needs_background": "light"
     },
     "output_type": "display_data"
    },
    {
     "data": {
      "image/png": "[encoded data removed]",
      "text/plain": [
       "<Figure size 432x288 with 1 Axes>"
      ]
     },
     "metadata": {
      "needs_background": "light"
     },
     "output_type": "display_data"
    }
   ],
   "source": [
    "num_test = len(x_test)\n",
    "idx_random = np.random.choice(num_test, 3)\n",
    "for idx in idx_random:\n",
    "    x = np.arange(10)\n",
    "    width = 0.2  # the width of the bars\n",
    "\n",
    "    fig, ax = plt.subplots()\n",
    "    ax.bar(x - width/2, scipy.special.softmax(cross_confidences[idx]), width, label = 'max-val = 1.0')\n",
    "    #ax.bar(x - 3*width/2, scipy.special.softmax(mse_confidences[idx]), width, label = 'mse')\n",
    "    ax.bar(x + width/2, scipy.special.softmax(eight_confidences[idx]), width, label = 'max-val = 0.8')\n",
    "    ax.bar(x + 3*width/2, scipy.special.softmax(five_confidences[idx]), width, label = 'max-val = 0.4')\n",
    "    ax.set_ylabel('Confidences')\n",
    "    ax.legend()\n",
    "    plt.savefig(\"/Users/adhyyan/Desktop/confidence_\" + str(idx), format = 'pdf')"
   ]
  },
  {
   "cell_type": "code",
   "execution_count": 31,
   "metadata": {},
   "outputs": [
    {
     "data": {
      "text/plain": [
       "41428.88029991887"
      ]
     },
     "execution_count": 31,
     "metadata": {},
     "output_type": "execute_result"
    }
   ],
   "source": [
    "cross_spectral"
   ]
  },
  {
   "cell_type": "code",
   "execution_count": 32,
   "metadata": {},
   "outputs": [
    {
     "data": {
      "text/plain": [
       "23761.932942290325"
      ]
     },
     "execution_count": 32,
     "metadata": {},
     "output_type": "execute_result"
    }
   ],
   "source": [
    "five_spectral"
   ]
  },
  {
   "cell_type": "code",
   "execution_count": 33,
   "metadata": {},
   "outputs": [
    {
     "data": {
      "text/plain": [
       "33654.403441717965"
      ]
     },
     "execution_count": 33,
     "metadata": {},
     "output_type": "execute_result"
    }
   ],
   "source": [
    "eight_spectral"
   ]
  },
  {
   "cell_type": "code",
   "execution_count": 37,
   "metadata": {},
   "outputs": [],
   "source": [
    "df = pd.DataFrame()"
   ]
  },
  {
   "cell_type": "code",
   "execution_count": 38,
   "metadata": {},
   "outputs": [
    {
     "data": {
      "text/plain": [
       "0.8551"
      ]
     },
     "execution_count": 38,
     "metadata": {},
     "output_type": "execute_result"
    }
   ],
   "source": [
    "cross_acc"
   ]
  },
  {
   "cell_type": "code",
   "execution_count": 51,
   "metadata": {},
   "outputs": [],
   "source": [
    "df['max val'] = [1.0, 0.8, 0.4]\n",
    "df['test accuracy'] = [cross_acc, eight_acc, five_acc]\n",
    "df['R_A'] = [cross_spectral, eight_spectral, five_spectral]"
   ]
  },
  {
   "cell_type": "code",
   "execution_count": 52,
   "metadata": {},
   "outputs": [],
   "source": [
    "df = df.round(3)"
   ]
  },
  {
   "cell_type": "code",
   "execution_count": 53,
   "metadata": {},
   "outputs": [
    {
     "data": {
      "text/html": [
       "<div>\n",
       "<style scoped>\n",
       "    .dataframe tbody tr th:only-of-type {\n",
       "        vertical-align: middle;\n",
       "    }\n",
       "\n",
       "    .dataframe tbody tr th {\n",
       "        vertical-align: top;\n",
       "    }\n",
       "\n",
       "    .dataframe thead th {\n",
       "        text-align: right;\n",
       "    }\n",
       "</style>\n",
       "<table border=\"1\" class=\"dataframe\">\n",
       "  <thead>\n",
       "    <tr style=\"text-align: right;\">\n",
       "      <th></th>\n",
       "      <th>max val</th>\n",
       "      <th>test accuracy</th>\n",
       "      <th>R_A</th>\n",
       "    </tr>\n",
       "  </thead>\n",
       "  <tbody>\n",
       "    <tr>\n",
       "      <th>0</th>\n",
       "      <td>1.0</td>\n",
       "      <td>0.855</td>\n",
       "      <td>41428.880</td>\n",
       "    </tr>\n",
       "    <tr>\n",
       "      <th>1</th>\n",
       "      <td>0.8</td>\n",
       "      <td>0.866</td>\n",
       "      <td>33654.403</td>\n",
       "    </tr>\n",
       "    <tr>\n",
       "      <th>2</th>\n",
       "      <td>0.4</td>\n",
       "      <td>0.863</td>\n",
       "      <td>23761.933</td>\n",
       "    </tr>\n",
       "  </tbody>\n",
       "</table>\n",
       "</div>"
      ],
      "text/plain": [
       "   max val  test accuracy        R_A\n",
       "0      1.0          0.855  41428.880\n",
       "1      0.8          0.866  33654.403\n",
       "2      0.4          0.863  23761.933"
      ]
     },
     "execution_count": 53,
     "metadata": {},
     "output_type": "execute_result"
    }
   ],
   "source": [
    "df"
   ]
  },
  {
   "cell_type": "code",
   "execution_count": 54,
   "metadata": {},
   "outputs": [
    {
     "name": "stdout",
     "output_type": "stream",
     "text": [
      "\\begin{tabular}{lrrr}\n",
      "\\toprule\n",
      "{} &  max val &  test accuracy &        R\\_A \\\\\n",
      "\\midrule\n",
      "0 &      1.0 &          0.855 &  41428.880 \\\\\n",
      "1 &      0.8 &          0.866 &  33654.403 \\\\\n",
      "2 &      0.4 &          0.863 &  23761.933 \\\\\n",
      "\\bottomrule\n",
      "\\end{tabular}\n",
      "\n"
     ]
    }
   ],
   "source": [
    "print(df.to_latex())"
   ]
  },
  {
   "cell_type": "code",
   "execution_count": 62,
   "metadata": {},
   "outputs": [
    {
     "data": {
      "image/png": "[encoded data removed]",
      "text/plain": [
       "<Figure size 432x288 with 1 Axes>"
      ]
     },
     "metadata": {
      "needs_background": "light"
     },
     "output_type": "display_data"
    }
   ],
   "source": [
    "plt.hist(cross_margins)\n",
    "plt.xlabel(\"Class number\")\n",
    "plt.ylabel(\"Number of training points\")\n",
    "plt.savefig(\"/Users/adhyyan/Desktop/pw_margin_cross\", format = 'pdf')"
   ]
  },
  {
   "cell_type": "code",
   "execution_count": null,
   "metadata": {},
   "outputs": [],
   "source": []
  }
 ],
 "metadata": {
  "kernelspec": {
   "display_name": "Python 3",
   "language": "python",
   "name": "python3"
  },
  "language_info": {
   "codemirror_mode": {
    "name": "ipython",
    "version": 3
   },
   "file_extension": ".py",
   "mimetype": "text/x-python",
   "name": "python",
   "nbconvert_exporter": "python",
   "pygments_lexer": "ipython3",
   "version": "3.7.3"
  }
 },
 "nbformat": 4,
 "nbformat_minor": 2
}

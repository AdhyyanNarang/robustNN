{
 "cells": [
  {
   "cell_type": "code",
   "execution_count": 1,
   "metadata": {},
   "outputs": [
    {
     "name": "stderr",
     "output_type": "stream",
     "text": [
      "Using TensorFlow backend.\n",
      "WARNING: Logging before flag parsing goes to stderr.\n",
      "W0716 17:03:48.101356 4573928896 deprecation_wrapper.py:119] From /usr/local/lib/python3.7/site-packages/cleverhans/utils_tf.py:341: The name tf.GraphKeys is deprecated. Please use tf.compat.v1.GraphKeys instead.\n",
      "\n"
     ]
    }
   ],
   "source": [
    "#Imports\n",
    "import logging\n",
    "import os, random, time, sys\n",
    "import numpy as np\n",
    "import tensorflow as tf\n",
    "import tensorflow.contrib.layers as layers\n",
    "import ipdb\n",
    "import keras\n",
    "import pandas as pd\n",
    "\n",
    "sys.path.append('../../../')\n",
    "import feedforward_robust as ffr\n",
    "\n",
    "sys.path.append('../../../utils/')\n",
    "from utils.mnist_corruption import *\n",
    "from utils.utils_models import *\n",
    "from utils.utils_analysis import *\n",
    "from utils.utils_feedforward import *\n",
    "\n",
    "%load_ext autoreload\n",
    "%autoreload 2\n",
    "\n",
    "#Read the counter\n",
    "ctr_file = \"../../counter.txt\"\n",
    "f = open(ctr_file, 'r')\n",
    "counter = f.readline()\n",
    "f.close()\n",
    "\n",
    "counter = 1 + int(counter)\n",
    "f = open(ctr_file,'w')\n",
    "f.write('{}'.format(counter))\n",
    "f.close()\n",
    "logfile = \"../../logs/results_\" + str(counter) + \".log\"\n",
    "\n",
    "logger = logging.getLogger(\"robustness\")\n",
    "logger.setLevel(logging.DEBUG)\n",
    "fh = logging.FileHandler(logfile)\n",
    "fh.setLevel(logging.INFO)\n",
    "formatter = logging.Formatter('%(asctime)s - %(name)s - %(levelname)s - %(message)s')\n",
    "fh.setFormatter(formatter)\n",
    "logger.addHandler(fh)\n",
    "logger.addHandler(logging.StreamHandler())"
   ]
  },
  {
   "cell_type": "markdown",
   "metadata": {},
   "source": [
    "# Get Fashion MNIST Data"
   ]
  },
  {
   "cell_type": "code",
   "execution_count": 2,
   "metadata": {},
   "outputs": [],
   "source": [
    "fashion_mnist = keras.datasets.fashion_mnist"
   ]
  },
  {
   "cell_type": "code",
   "execution_count": 3,
   "metadata": {},
   "outputs": [],
   "source": [
    "(x_train, y_train), (x_test, y_test) = fashion_mnist.load_data()\n",
    "x_train = x_train/255\n",
    "x_test_ogi = x_test/255"
   ]
  },
  {
   "cell_type": "code",
   "execution_count": 4,
   "metadata": {},
   "outputs": [],
   "source": [
    "#One hot the labels\n",
    "num_classes = 10\n",
    "y_train = keras.utils.to_categorical(y_train, num_classes)                                                                                         \n",
    "y_test = keras.utils.to_categorical(y_test, num_classes)"
   ]
  },
  {
   "cell_type": "code",
   "execution_count": 5,
   "metadata": {},
   "outputs": [],
   "source": [
    "x_train_master_ogi, y_train_master = x_train[:30000], y_train[:30000]\n",
    "x_train_slave, y_train_slave = x_train[30000:], y_train[30000:]"
   ]
  },
  {
   "cell_type": "markdown",
   "metadata": {},
   "source": [
    "# Train Master"
   ]
  },
  {
   "cell_type": "code",
   "execution_count": 21,
   "metadata": {},
   "outputs": [],
   "source": [
    "def train_nn_with_margins(margin):\n",
    "    rem = 28 - margin\n",
    "    x_train_master = x_train_master_ogi[:, :rem, :rem]\n",
    "    x_test = x_test_ogi[:, :rem, :rem]\n",
    "    #Flatten everything\n",
    "    x_train_master_flat, input_shape = flatten_mnist(x_train_master) \n",
    "    x_train_slave_flat, _ = flatten_mnist(x_train_slave)\n",
    "    x_test_flat, _  = flatten_mnist(x_test)\n",
    "    \n",
    "    #Configurations\n",
    "    eps_train = 0.1                                                                                                                            \n",
    "    eps_test = 0.07                                                                                                                            \n",
    "    tensorboard_dir = \"../tb/\"                                                                                                                \n",
    "    weights_dir = \"../weights/\"                                                                                                               \n",
    "    load_weights = False                                                                                                              \n",
    "    load_counter = 234                                                                                                            \n",
    "    sigma = tf.nn.relu                                                                                                                         \n",
    "    epochs, reg, lr = 3, 0.00, 1e-3    \n",
    "    #epochs, reg, lr = 30, 0.00, 15e-4                                                                                                          \n",
    "    pgd_eta, pgd_num_iter = 5000, 200\n",
    "\n",
    "    tf.reset_default_graph()\n",
    "    sess = tf.Session()\n",
    "    hidden_sizes = [64, 64, 32]\n",
    "    dataset = ((x_train_master_flat, y_train_master), (x_test_flat, y_test))\n",
    "\n",
    "    scope_name = \"teacher_student_fashion\"\n",
    "    if not load_weights:\n",
    "        with tf.variable_scope(scope_name, reuse = False) as scope:\n",
    "\n",
    "            logdir = tensorboard_dir + str(counter)\n",
    "\n",
    "            #Create model\n",
    "            writer = tf.summary.FileWriter(logdir)\n",
    "            model = ffr.RobustMLP(input_shape, hidden_sizes, num_classes, writer = writer, scope = scope_name, logger = logger, sigma = sigma)\n",
    "            sess.run(tf.global_variables_initializer())\n",
    "            print(\"Created model successfully. Now going to train\")\n",
    "\n",
    "            #Train model\n",
    "            model.fit(sess, x_train_master_flat, y_train_master, training_epochs = epochs, reg_op = reg , lr = lr)\n",
    "\n",
    "            #Test model - regular, fgsm adv, pgd adv\n",
    "            loss_reg, acc_reg = model.evaluate(sess, x_test_flat, y_test)\n",
    "            print(\"----Regular test accuracy and loss ----\")\n",
    "            print((loss_reg, acc_reg))\n",
    "\n",
    "            loss_fgsm, acc_fgsm, _ = model.adv_evaluate(sess, x_test_flat, y_test, eps_test, pgd = False)\n",
    "            print(\"----FGSM test accuracy and loss ----\")\n",
    "            print((loss_fgsm, acc_fgsm))\n",
    "\n",
    "            loss_pgd, acc_pgd, deltas = model.adv_evaluate(sess, x_test_flat, y_test, eps_test, pgd = True, eta=pgd_eta, num_iter = pgd_num_iter)\n",
    "            print(\"----PGD test accuracy and loss ----\")\n",
    "            print((loss_pgd , acc_pgd))\n",
    "        \n",
    "        #Visualize original and perturbed images\n",
    "        x_pgd = x_test_flat + deltas\n",
    "        x_pgd_2d = x_pgd.reshape((10000, rem, rem))\n",
    "        np.max(x_pgd_2d)\n",
    "        \n",
    "        plt.imshow(x_test[9], cmap = 'Greys')\n",
    "        plt.savefig(\"/Users/adhyyan/Desktop/show_original_\"+str(margin)+\".pdf\")\n",
    "        plt.show()\n",
    "        \n",
    "        plt.imshow(x_pgd_2d[9], cmap = 'Greys')\n",
    "        plt.savefig(\"/Users/adhyyan/Desktop/show_perturbed_\"+str(margin)+\".pdf\")\n",
    "        plt.show()\n",
    "\n",
    "\n",
    "        \n",
    "        return acc_reg, acc_fgsm, acc_pgd"
   ]
  },
  {
   "cell_type": "code",
   "execution_count": 22,
   "metadata": {},
   "outputs": [
    {
     "name": "stderr",
     "output_type": "stream",
     "text": [
      "Initialized instance variables of the robust model class\n",
      "I0716 17:51:27.418515 4573928896 feedforward_robust.py:32] Initialized instance variables of the robust model class\n",
      "Created placeholders for x and y\n",
      "I0716 17:51:27.425514 4573928896 feedforward_robust.py:40] Created placeholders for x and y\n",
      "Created layers and tensor for logits\n",
      "I0716 17:51:27.506672 4573928896 feedforward_robust.py:44] Created layers and tensor for logits\n",
      "Added accuracy computation to the graph\n",
      "I0716 17:51:27.520753 4573928896 feedforward_robust.py:48] Added accuracy computation to the graph\n",
      "Added cross-entropy loss computation to the graph\n",
      "I0716 17:51:27.560069 4573928896 feedforward_robust.py:56] Added cross-entropy loss computation to the graph\n",
      "Model graph was created\n",
      "I0716 17:51:27.561989 4573928896 feedforward_robust.py:62] Model graph was created\n"
     ]
    },
    {
     "name": "stdout",
     "output_type": "stream",
     "text": [
      "Created model successfully. Now going to train\n"
     ]
    },
    {
     "name": "stderr",
     "output_type": "stream",
     "text": [
      "Epoch: 0001    cost: 0.635257396 \n",
      "I0716 17:51:29.390347 4573928896 feedforward_robust.py:763] Epoch: 0001    cost: 0.635257396 \n",
      "Accuracy on batch: 0.750000\n",
      "I0716 17:51:29.391387 4573928896 feedforward_robust.py:764] Accuracy on batch: 0.750000\n",
      "Epoch: 0002    cost: 0.445736641 \n",
      "I0716 17:51:30.564867 4573928896 feedforward_robust.py:763] Epoch: 0002    cost: 0.445736641 \n",
      "Accuracy on batch: 0.750000\n",
      "I0716 17:51:30.565960 4573928896 feedforward_robust.py:764] Accuracy on batch: 0.750000\n",
      "Epoch: 0003    cost: 0.403584572 \n",
      "I0716 17:51:31.645310 4573928896 feedforward_robust.py:763] Epoch: 0003    cost: 0.403584572 \n",
      "Accuracy on batch: 0.781250\n",
      "I0716 17:51:31.646351 4573928896 feedforward_robust.py:764] Accuracy on batch: 0.781250\n",
      "Optimization Finished!\n",
      "I0716 17:51:31.647418 4573928896 feedforward_robust.py:765] Optimization Finished!\n",
      "Final Train Loss 0.368981\n",
      "I0716 17:51:31.827237 4573928896 feedforward_robust.py:773] Final Train Loss 0.368981\n",
      "Final Train Accuracy 0.862900:\n",
      "I0716 17:51:31.828459 4573928896 feedforward_robust.py:774] Final Train Accuracy 0.862900:\n",
      "Model was trained on benign data\n",
      "I0716 17:51:31.830343 4573928896 feedforward_robust.py:796] Model was trained on benign data\n",
      "Model was evaluated on benign data\n",
      "I0716 17:51:31.905368 4573928896 feedforward_robust.py:675] Model was evaluated on benign data\n"
     ]
    },
    {
     "name": "stdout",
     "output_type": "stream",
     "text": [
      "----Regular test accuracy and loss ----\n",
      "(0.44212544, 0.8403)\n"
     ]
    },
    {
     "name": "stderr",
     "output_type": "stream",
     "text": [
      "Model is being evaluated on FGSM data\n",
      "I0716 17:51:32.137370 4573928896 feedforward_robust.py:682] Model is being evaluated on FGSM data\n",
      "Model is being evaluated on PGD points generated using 5000.000000 learning rate and 200 iterations\n",
      "I0716 17:51:32.225626 4573928896 feedforward_robust.py:684] Model is being evaluated on PGD points generated using 5000.000000 learning rate and 200 iterations\n"
     ]
    },
    {
     "name": "stdout",
     "output_type": "stream",
     "text": [
      "----FGSM test accuracy and loss ----\n",
      "(2.514189, 0.2941)\n",
      "iteration: 0\n",
      "loss 1.153288\n",
      "iteration: 20\n",
      "loss 3.116591\n",
      "iteration: 40\n",
      "loss 3.216624\n",
      "iteration: 60\n",
      "loss 3.255602\n",
      "iteration: 80\n",
      "loss 3.275464\n",
      "iteration: 100\n",
      "loss 3.288668\n",
      "iteration: 120\n",
      "loss 3.297385\n",
      "iteration: 140\n",
      "loss 3.303655\n",
      "iteration: 160\n",
      "loss 3.307421\n",
      "iteration: 180\n",
      "loss 3.310277\n"
     ]
    },
    {
     "name": "stderr",
     "output_type": "stream",
     "text": [
      "This is to confirm that attack does not violate constraints\n",
      "I0716 17:51:53.770544 4573928896 feedforward_robust.py:529] This is to confirm that attack does not violate constraints\n",
      "Should be no more than eps\n",
      "I0716 17:51:53.771749 4573928896 feedforward_robust.py:530] Should be no more than eps\n",
      "0.07000002674027983\n",
      "I0716 17:51:53.835427 4573928896 feedforward_robust.py:531] 0.07000002674027983\n"
     ]
    },
    {
     "name": "stdout",
     "output_type": "stream",
     "text": [
      "----PGD test accuracy and loss ----\n",
      "(3.3131156, 0.2072)\n"
     ]
    },
    {
     "data": {
      "image/png": "[encoded data removed]",
      "text/plain": [
       "<Figure size 432x288 with 1 Axes>"
      ]
     },
     "metadata": {
      "needs_background": "light"
     },
     "output_type": "display_data"
    },
    {
     "data": {
      "image/png": "[encoded data removed]",
      "text/plain": [
       "<Figure size 432x288 with 1 Axes>"
      ]
     },
     "metadata": {
      "needs_background": "light"
     },
     "output_type": "display_data"
    },
    {
     "name": "stderr",
     "output_type": "stream",
     "text": [
      "Initialized instance variables of the robust model class\n",
      "I0716 17:51:54.640824 4573928896 feedforward_robust.py:32] Initialized instance variables of the robust model class\n",
      "Created placeholders for x and y\n",
      "I0716 17:51:54.688997 4573928896 feedforward_robust.py:40] Created placeholders for x and y\n",
      "Created layers and tensor for logits\n",
      "I0716 17:51:54.874300 4573928896 feedforward_robust.py:44] Created layers and tensor for logits\n",
      "Added accuracy computation to the graph\n",
      "I0716 17:51:54.887048 4573928896 feedforward_robust.py:48] Added accuracy computation to the graph\n",
      "Added cross-entropy loss computation to the graph\n",
      "I0716 17:51:54.932985 4573928896 feedforward_robust.py:56] Added cross-entropy loss computation to the graph\n",
      "Model graph was created\n",
      "I0716 17:51:54.934787 4573928896 feedforward_robust.py:62] Model graph was created\n"
     ]
    },
    {
     "name": "stdout",
     "output_type": "stream",
     "text": [
      "Created model successfully. Now going to train\n"
     ]
    },
    {
     "name": "stderr",
     "output_type": "stream",
     "text": [
      "Epoch: 0001    cost: 0.643111391 \n",
      "I0716 17:51:57.649403 4573928896 feedforward_robust.py:763] Epoch: 0001    cost: 0.643111391 \n",
      "Accuracy on batch: 0.781250\n",
      "I0716 17:51:57.650693 4573928896 feedforward_robust.py:764] Accuracy on batch: 0.781250\n",
      "Epoch: 0002    cost: 0.462811851 \n",
      "I0716 17:51:59.024939 4573928896 feedforward_robust.py:763] Epoch: 0002    cost: 0.462811851 \n",
      "Accuracy on batch: 0.781250\n",
      "I0716 17:51:59.038703 4573928896 feedforward_robust.py:764] Accuracy on batch: 0.781250\n",
      "Epoch: 0003    cost: 0.419056204 \n",
      "I0716 17:52:00.309797 4573928896 feedforward_robust.py:763] Epoch: 0003    cost: 0.419056204 \n",
      "Accuracy on batch: 0.750000\n",
      "I0716 17:52:00.310863 4573928896 feedforward_robust.py:764] Accuracy on batch: 0.750000\n",
      "Optimization Finished!\n",
      "I0716 17:52:00.313524 4573928896 feedforward_robust.py:765] Optimization Finished!\n",
      "Final Train Loss 0.377208\n",
      "I0716 17:52:00.496952 4573928896 feedforward_robust.py:773] Final Train Loss 0.377208\n",
      "Final Train Accuracy 0.862533:\n",
      "I0716 17:52:00.499101 4573928896 feedforward_robust.py:774] Final Train Accuracy 0.862533:\n",
      "Model was trained on benign data\n",
      "I0716 17:52:00.516273 4573928896 feedforward_robust.py:796] Model was trained on benign data\n",
      "Model was evaluated on benign data\n",
      "I0716 17:52:00.615909 4573928896 feedforward_robust.py:675] Model was evaluated on benign data\n",
      "Model is being evaluated on FGSM data\n",
      "I0716 17:52:00.804836 4573928896 feedforward_robust.py:682] Model is being evaluated on FGSM data\n"
     ]
    },
    {
     "name": "stdout",
     "output_type": "stream",
     "text": [
      "----Regular test accuracy and loss ----\n",
      "(0.44274077, 0.8392)\n"
     ]
    },
    {
     "name": "stderr",
     "output_type": "stream",
     "text": [
      "Model is being evaluated on PGD points generated using 5000.000000 learning rate and 200 iterations\n",
      "I0716 17:52:00.854336 4573928896 feedforward_robust.py:684] Model is being evaluated on PGD points generated using 5000.000000 learning rate and 200 iterations\n"
     ]
    },
    {
     "name": "stdout",
     "output_type": "stream",
     "text": [
      "----FGSM test accuracy and loss ----\n",
      "(2.3030047, 0.2963)\n",
      "iteration: 0\n",
      "loss 1.124504\n",
      "iteration: 20\n",
      "loss 2.885541\n",
      "iteration: 40\n",
      "loss 2.957563\n",
      "iteration: 60\n",
      "loss 2.980816\n",
      "iteration: 80\n",
      "loss 2.993775\n",
      "iteration: 100\n",
      "loss 3.003947\n",
      "iteration: 120\n",
      "loss 3.008642\n",
      "iteration: 140\n",
      "loss 3.013168\n",
      "iteration: 160\n",
      "loss 3.015602\n",
      "iteration: 180\n",
      "loss 3.018285\n"
     ]
    },
    {
     "name": "stderr",
     "output_type": "stream",
     "text": [
      "This is to confirm that attack does not violate constraints\n",
      "I0716 17:52:19.622778 4573928896 feedforward_robust.py:529] This is to confirm that attack does not violate constraints\n",
      "Should be no more than eps\n",
      "I0716 17:52:19.623928 4573928896 feedforward_robust.py:530] Should be no more than eps\n",
      "0.07000002674027983\n",
      "I0716 17:52:19.666176 4573928896 feedforward_robust.py:531] 0.07000002674027983\n"
     ]
    },
    {
     "name": "stdout",
     "output_type": "stream",
     "text": [
      "----PGD test accuracy and loss ----\n",
      "(3.0187886, 0.215)\n"
     ]
    },
    {
     "data": {
      "image/png": "[encoded data removed]",
      "text/plain": [
       "<Figure size 432x288 with 1 Axes>"
      ]
     },
     "metadata": {
      "needs_background": "light"
     },
     "output_type": "display_data"
    },
    {
     "data": {
      "image/png": "[encoded data removed]",
      "text/plain": [
       "<Figure size 432x288 with 1 Axes>"
      ]
     },
     "metadata": {
      "needs_background": "light"
     },
     "output_type": "display_data"
    },
    {
     "name": "stderr",
     "output_type": "stream",
     "text": [
      "Initialized instance variables of the robust model class\n",
      "I0716 17:52:20.289209 4573928896 feedforward_robust.py:32] Initialized instance variables of the robust model class\n",
      "Created placeholders for x and y\n",
      "I0716 17:52:20.297950 4573928896 feedforward_robust.py:40] Created placeholders for x and y\n",
      "Created layers and tensor for logits\n",
      "I0716 17:52:20.379981 4573928896 feedforward_robust.py:44] Created layers and tensor for logits\n",
      "Added accuracy computation to the graph\n",
      "I0716 17:52:20.398700 4573928896 feedforward_robust.py:48] Added accuracy computation to the graph\n",
      "Added cross-entropy loss computation to the graph\n",
      "I0716 17:52:20.426555 4573928896 feedforward_robust.py:56] Added cross-entropy loss computation to the graph\n",
      "Model graph was created\n",
      "I0716 17:52:20.427489 4573928896 feedforward_robust.py:62] Model graph was created\n"
     ]
    },
    {
     "name": "stdout",
     "output_type": "stream",
     "text": [
      "Created model successfully. Now going to train\n"
     ]
    },
    {
     "name": "stderr",
     "output_type": "stream",
     "text": [
      "Epoch: 0001    cost: 0.673562759 \n",
      "I0716 17:52:22.010487 4573928896 feedforward_robust.py:763] Epoch: 0001    cost: 0.673562759 \n",
      "Accuracy on batch: 0.750000\n",
      "I0716 17:52:22.011623 4573928896 feedforward_robust.py:764] Accuracy on batch: 0.750000\n",
      "Epoch: 0002    cost: 0.492051994 \n",
      "I0716 17:52:22.970330 4573928896 feedforward_robust.py:763] Epoch: 0002    cost: 0.492051994 \n",
      "Accuracy on batch: 0.781250\n",
      "I0716 17:52:22.971735 4573928896 feedforward_robust.py:764] Accuracy on batch: 0.781250\n",
      "Epoch: 0003    cost: 0.448711166 \n",
      "I0716 17:52:23.862957 4573928896 feedforward_robust.py:763] Epoch: 0003    cost: 0.448711166 \n",
      "Accuracy on batch: 0.781250\n",
      "I0716 17:52:23.864012 4573928896 feedforward_robust.py:764] Accuracy on batch: 0.781250\n",
      "Optimization Finished!\n",
      "I0716 17:52:23.865484 4573928896 feedforward_robust.py:765] Optimization Finished!\n",
      "Final Train Loss 0.442366\n",
      "I0716 17:52:23.968703 4573928896 feedforward_robust.py:773] Final Train Loss 0.442366\n",
      "Final Train Accuracy 0.834533:\n",
      "I0716 17:52:23.970052 4573928896 feedforward_robust.py:774] Final Train Accuracy 0.834533:\n",
      "Model was trained on benign data\n",
      "I0716 17:52:23.971581 4573928896 feedforward_robust.py:796] Model was trained on benign data\n",
      "Model was evaluated on benign data\n",
      "I0716 17:52:24.000287 4573928896 feedforward_robust.py:675] Model was evaluated on benign data\n",
      "Model is being evaluated on FGSM data\n",
      "I0716 17:52:24.126029 4573928896 feedforward_robust.py:682] Model is being evaluated on FGSM data\n",
      "Model is being evaluated on PGD points generated using 5000.000000 learning rate and 200 iterations\n",
      "I0716 17:52:24.160498 4573928896 feedforward_robust.py:684] Model is being evaluated on PGD points generated using 5000.000000 learning rate and 200 iterations\n"
     ]
    },
    {
     "name": "stdout",
     "output_type": "stream",
     "text": [
      "----Regular test accuracy and loss ----\n",
      "(0.50877035, 0.8107)\n",
      "----FGSM test accuracy and loss ----\n",
      "(2.6131835, 0.2423)\n",
      "iteration: 0\n",
      "loss 1.374822\n",
      "iteration: 20\n",
      "loss 3.168836\n",
      "iteration: 40\n",
      "loss 3.227573\n",
      "iteration: 60\n",
      "loss 3.248439\n",
      "iteration: 80\n",
      "loss 3.258250\n",
      "iteration: 100\n",
      "loss 3.264579\n",
      "iteration: 120\n",
      "loss 3.269150\n",
      "iteration: 140\n",
      "loss 3.270713\n",
      "iteration: 160\n",
      "loss 3.273046\n",
      "iteration: 180\n",
      "loss 3.275783\n"
     ]
    },
    {
     "name": "stderr",
     "output_type": "stream",
     "text": [
      "This is to confirm that attack does not violate constraints\n",
      "I0716 17:52:38.830538 4573928896 feedforward_robust.py:529] This is to confirm that attack does not violate constraints\n",
      "Should be no more than eps\n",
      "I0716 17:52:38.831610 4573928896 feedforward_robust.py:530] Should be no more than eps\n",
      "0.07000002674027983\n",
      "I0716 17:52:38.857082 4573928896 feedforward_robust.py:531] 0.07000002674027983\n"
     ]
    },
    {
     "name": "stdout",
     "output_type": "stream",
     "text": [
      "----PGD test accuracy and loss ----\n",
      "(3.2763565, 0.1776)\n"
     ]
    },
    {
     "data": {
      "image/png": "[encoded data removed]",
      "text/plain": [
       "<Figure size 432x288 with 1 Axes>"
      ]
     },
     "metadata": {
      "needs_background": "light"
     },
     "output_type": "display_data"
    },
    {
     "data": {
      "image/png": "[encoded data removed]",
      "text/plain": [
       "<Figure size 432x288 with 1 Axes>"
      ]
     },
     "metadata": {
      "needs_background": "light"
     },
     "output_type": "display_data"
    },
    {
     "name": "stderr",
     "output_type": "stream",
     "text": [
      "Initialized instance variables of the robust model class\n",
      "I0716 17:52:39.381771 4573928896 feedforward_robust.py:32] Initialized instance variables of the robust model class\n",
      "Created placeholders for x and y\n",
      "I0716 17:52:39.389264 4573928896 feedforward_robust.py:40] Created placeholders for x and y\n",
      "Created layers and tensor for logits\n",
      "I0716 17:52:39.455663 4573928896 feedforward_robust.py:44] Created layers and tensor for logits\n",
      "Added accuracy computation to the graph\n",
      "I0716 17:52:39.467797 4573928896 feedforward_robust.py:48] Added accuracy computation to the graph\n",
      "Added cross-entropy loss computation to the graph\n",
      "I0716 17:52:39.498805 4573928896 feedforward_robust.py:56] Added cross-entropy loss computation to the graph\n",
      "Model graph was created\n",
      "I0716 17:52:39.500592 4573928896 feedforward_robust.py:62] Model graph was created\n"
     ]
    },
    {
     "name": "stdout",
     "output_type": "stream",
     "text": [
      "Created model successfully. Now going to train\n"
     ]
    },
    {
     "name": "stderr",
     "output_type": "stream",
     "text": [
      "Epoch: 0001    cost: 0.703124161 \n",
      "I0716 17:52:41.021856 4573928896 feedforward_robust.py:763] Epoch: 0001    cost: 0.703124161 \n",
      "Accuracy on batch: 0.718750\n",
      "I0716 17:52:41.026310 4573928896 feedforward_robust.py:764] Accuracy on batch: 0.718750\n",
      "Epoch: 0002    cost: 0.523086125 \n",
      "I0716 17:52:41.900990 4573928896 feedforward_robust.py:763] Epoch: 0002    cost: 0.523086125 \n",
      "Accuracy on batch: 0.718750\n",
      "I0716 17:52:41.902235 4573928896 feedforward_robust.py:764] Accuracy on batch: 0.718750\n",
      "Epoch: 0003    cost: 0.477229881 \n",
      "I0716 17:52:42.722572 4573928896 feedforward_robust.py:763] Epoch: 0003    cost: 0.477229881 \n",
      "Accuracy on batch: 0.781250\n",
      "I0716 17:52:42.724272 4573928896 feedforward_robust.py:764] Accuracy on batch: 0.781250\n",
      "Optimization Finished!\n",
      "I0716 17:52:42.726746 4573928896 feedforward_robust.py:765] Optimization Finished!\n",
      "Final Train Loss 0.447784\n",
      "I0716 17:52:42.814170 4573928896 feedforward_robust.py:773] Final Train Loss 0.447784\n",
      "Final Train Accuracy 0.832300:\n",
      "I0716 17:52:42.815344 4573928896 feedforward_robust.py:774] Final Train Accuracy 0.832300:\n",
      "Model was trained on benign data\n",
      "I0716 17:52:42.817708 4573928896 feedforward_robust.py:796] Model was trained on benign data\n",
      "Model was evaluated on benign data\n",
      "I0716 17:52:42.840857 4573928896 feedforward_robust.py:675] Model was evaluated on benign data\n",
      "Model is being evaluated on FGSM data\n",
      "I0716 17:52:42.967005 4573928896 feedforward_robust.py:682] Model is being evaluated on FGSM data\n",
      "Model is being evaluated on PGD points generated using 5000.000000 learning rate and 200 iterations\n",
      "I0716 17:52:42.997810 4573928896 feedforward_robust.py:684] Model is being evaluated on PGD points generated using 5000.000000 learning rate and 200 iterations\n"
     ]
    },
    {
     "name": "stdout",
     "output_type": "stream",
     "text": [
      "----Regular test accuracy and loss ----\n",
      "(0.5113392, 0.8083)\n",
      "----FGSM test accuracy and loss ----\n",
      "(2.4633136, 0.2523)\n",
      "iteration: 0\n",
      "loss 1.409471\n",
      "iteration: 20\n",
      "loss 3.228952\n",
      "iteration: 40\n",
      "loss 3.283567\n",
      "iteration: 60\n",
      "loss 3.300682\n",
      "iteration: 80\n",
      "loss 3.312086\n",
      "iteration: 100\n",
      "loss 3.317996\n",
      "iteration: 120\n",
      "loss 3.322118\n",
      "iteration: 140\n",
      "loss 3.325328\n",
      "iteration: 160\n",
      "loss 3.329195\n",
      "iteration: 180\n",
      "loss 3.330654\n"
     ]
    },
    {
     "name": "stderr",
     "output_type": "stream",
     "text": [
      "This is to confirm that attack does not violate constraints\n",
      "I0716 17:52:54.661578 4573928896 feedforward_robust.py:529] This is to confirm that attack does not violate constraints\n",
      "Should be no more than eps\n",
      "I0716 17:52:54.662683 4573928896 feedforward_robust.py:530] Should be no more than eps\n",
      "0.07000002674027983\n",
      "I0716 17:52:54.685777 4573928896 feedforward_robust.py:531] 0.07000002674027983\n"
     ]
    },
    {
     "name": "stdout",
     "output_type": "stream",
     "text": [
      "----PGD test accuracy and loss ----\n",
      "(3.3316336, 0.1818)\n"
     ]
    },
    {
     "data": {
      "image/png": "[encoded data removed]",
      "text/plain": [
       "<Figure size 432x288 with 1 Axes>"
      ]
     },
     "metadata": {
      "needs_background": "light"
     },
     "output_type": "display_data"
    },
    {
     "data": {
      "image/png": "[encoded data removed]",
      "text/plain": [
       "<Figure size 432x288 with 1 Axes>"
      ]
     },
     "metadata": {
      "needs_background": "light"
     },
     "output_type": "display_data"
    },
    {
     "name": "stderr",
     "output_type": "stream",
     "text": [
      "Initialized instance variables of the robust model class\n",
      "I0716 17:52:55.180966 4573928896 feedforward_robust.py:32] Initialized instance variables of the robust model class\n",
      "Created placeholders for x and y\n",
      "I0716 17:52:55.188014 4573928896 feedforward_robust.py:40] Created placeholders for x and y\n",
      "Created layers and tensor for logits\n",
      "I0716 17:52:55.238512 4573928896 feedforward_robust.py:44] Created layers and tensor for logits\n",
      "Added accuracy computation to the graph\n",
      "I0716 17:52:55.246103 4573928896 feedforward_robust.py:48] Added accuracy computation to the graph\n",
      "Added cross-entropy loss computation to the graph\n",
      "I0716 17:52:55.279975 4573928896 feedforward_robust.py:56] Added cross-entropy loss computation to the graph\n",
      "Model graph was created\n",
      "I0716 17:52:55.281328 4573928896 feedforward_robust.py:62] Model graph was created\n"
     ]
    },
    {
     "name": "stdout",
     "output_type": "stream",
     "text": [
      "Created model successfully. Now going to train\n"
     ]
    },
    {
     "name": "stderr",
     "output_type": "stream",
     "text": [
      "Epoch: 0001    cost: 0.743678607 \n",
      "I0716 17:52:56.784860 4573928896 feedforward_robust.py:763] Epoch: 0001    cost: 0.743678607 \n",
      "Accuracy on batch: 0.687500\n",
      "I0716 17:52:56.786118 4573928896 feedforward_robust.py:764] Accuracy on batch: 0.687500\n",
      "Epoch: 0002    cost: 0.541772621 \n",
      "I0716 17:52:57.649027 4573928896 feedforward_robust.py:763] Epoch: 0002    cost: 0.541772621 \n",
      "Accuracy on batch: 0.750000\n",
      "I0716 17:52:57.650094 4573928896 feedforward_robust.py:764] Accuracy on batch: 0.750000\n",
      "Epoch: 0003    cost: 0.497605404 \n",
      "I0716 17:52:58.516080 4573928896 feedforward_robust.py:763] Epoch: 0003    cost: 0.497605404 \n",
      "Accuracy on batch: 0.750000\n",
      "I0716 17:52:58.517077 4573928896 feedforward_robust.py:764] Accuracy on batch: 0.750000\n",
      "Optimization Finished!\n",
      "I0716 17:52:58.518101 4573928896 feedforward_robust.py:765] Optimization Finished!\n",
      "Final Train Loss 0.469943\n",
      "I0716 17:52:58.599409 4573928896 feedforward_robust.py:773] Final Train Loss 0.469943\n",
      "Final Train Accuracy 0.825067:\n",
      "I0716 17:52:58.600504 4573928896 feedforward_robust.py:774] Final Train Accuracy 0.825067:\n",
      "Model was trained on benign data\n",
      "I0716 17:52:58.602029 4573928896 feedforward_robust.py:796] Model was trained on benign data\n",
      "Model was evaluated on benign data\n",
      "I0716 17:52:58.627326 4573928896 feedforward_robust.py:675] Model was evaluated on benign data\n",
      "Model is being evaluated on FGSM data\n",
      "I0716 17:52:58.748657 4573928896 feedforward_robust.py:682] Model is being evaluated on FGSM data\n",
      "Model is being evaluated on PGD points generated using 5000.000000 learning rate and 200 iterations\n",
      "I0716 17:52:58.778330 4573928896 feedforward_robust.py:684] Model is being evaluated on PGD points generated using 5000.000000 learning rate and 200 iterations\n"
     ]
    },
    {
     "name": "stdout",
     "output_type": "stream",
     "text": [
      "----Regular test accuracy and loss ----\n",
      "(0.53020924, 0.8034)\n",
      "----FGSM test accuracy and loss ----\n",
      "(2.6031706, 0.2305)\n",
      "iteration: 0\n",
      "loss 1.522440\n",
      "iteration: 20\n",
      "loss 3.217798\n",
      "iteration: 40\n",
      "loss 3.258112\n",
      "iteration: 60\n",
      "loss 3.276235\n",
      "iteration: 80\n",
      "loss 3.284868\n",
      "iteration: 100\n",
      "loss 3.290010\n",
      "iteration: 120\n",
      "loss 3.293893\n",
      "iteration: 140\n",
      "loss 3.296404\n",
      "iteration: 160\n",
      "loss 3.298653\n",
      "iteration: 180\n",
      "loss 3.299528\n"
     ]
    },
    {
     "name": "stderr",
     "output_type": "stream",
     "text": [
      "This is to confirm that attack does not violate constraints\n",
      "I0716 17:53:10.030194 4573928896 feedforward_robust.py:529] This is to confirm that attack does not violate constraints\n",
      "Should be no more than eps\n",
      "I0716 17:53:10.031286 4573928896 feedforward_robust.py:530] Should be no more than eps\n",
      "0.07000002674027983\n",
      "I0716 17:53:10.050383 4573928896 feedforward_robust.py:531] 0.07000002674027983\n"
     ]
    },
    {
     "name": "stdout",
     "output_type": "stream",
     "text": [
      "----PGD test accuracy and loss ----\n",
      "(3.2992523, 0.1628)\n"
     ]
    },
    {
     "data": {
      "image/png": "[encoded data removed]",
      "text/plain": [
       "<Figure size 432x288 with 1 Axes>"
      ]
     },
     "metadata": {
      "needs_background": "light"
     },
     "output_type": "display_data"
    },
    {
     "data": {
      "image/png": "[encoded data removed]",
      "text/plain": [
       "<Figure size 432x288 with 1 Axes>"
      ]
     },
     "metadata": {
      "needs_background": "light"
     },
     "output_type": "display_data"
    },
    {
     "name": "stderr",
     "output_type": "stream",
     "text": [
      "Initialized instance variables of the robust model class\n",
      "I0716 17:53:10.577927 4573928896 feedforward_robust.py:32] Initialized instance variables of the robust model class\n",
      "Created placeholders for x and y\n",
      "I0716 17:53:10.587034 4573928896 feedforward_robust.py:40] Created placeholders for x and y\n",
      "Created layers and tensor for logits\n",
      "I0716 17:53:10.654020 4573928896 feedforward_robust.py:44] Created layers and tensor for logits\n",
      "Added accuracy computation to the graph\n",
      "I0716 17:53:10.661657 4573928896 feedforward_robust.py:48] Added accuracy computation to the graph\n",
      "Added cross-entropy loss computation to the graph\n",
      "I0716 17:53:10.686381 4573928896 feedforward_robust.py:56] Added cross-entropy loss computation to the graph\n",
      "Model graph was created\n",
      "I0716 17:53:10.687418 4573928896 feedforward_robust.py:62] Model graph was created\n"
     ]
    },
    {
     "name": "stdout",
     "output_type": "stream",
     "text": [
      "Created model successfully. Now going to train\n"
     ]
    },
    {
     "name": "stderr",
     "output_type": "stream",
     "text": [
      "Epoch: 0001    cost: 0.748920385 \n",
      "I0716 17:53:12.323825 4573928896 feedforward_robust.py:763] Epoch: 0001    cost: 0.748920385 \n",
      "Accuracy on batch: 0.687500\n",
      "I0716 17:53:12.325417 4573928896 feedforward_robust.py:764] Accuracy on batch: 0.687500\n",
      "Epoch: 0002    cost: 0.565422998 \n",
      "I0716 17:53:13.388355 4573928896 feedforward_robust.py:763] Epoch: 0002    cost: 0.565422998 \n",
      "Accuracy on batch: 0.718750\n",
      "I0716 17:53:13.389412 4573928896 feedforward_robust.py:764] Accuracy on batch: 0.718750\n",
      "Epoch: 0003    cost: 0.519247254 \n",
      "I0716 17:53:14.174628 4573928896 feedforward_robust.py:763] Epoch: 0003    cost: 0.519247254 \n",
      "Accuracy on batch: 0.718750\n",
      "I0716 17:53:14.175639 4573928896 feedforward_robust.py:764] Accuracy on batch: 0.718750\n",
      "Optimization Finished!\n",
      "I0716 17:53:14.176684 4573928896 feedforward_robust.py:765] Optimization Finished!\n",
      "Final Train Loss 0.481191\n",
      "I0716 17:53:14.258095 4573928896 feedforward_robust.py:773] Final Train Loss 0.481191\n",
      "Final Train Accuracy 0.821167:\n",
      "I0716 17:53:14.259445 4573928896 feedforward_robust.py:774] Final Train Accuracy 0.821167:\n",
      "Model was trained on benign data\n",
      "I0716 17:53:14.265127 4573928896 feedforward_robust.py:796] Model was trained on benign data\n",
      "Model was evaluated on benign data\n",
      "I0716 17:53:14.353506 4573928896 feedforward_robust.py:675] Model was evaluated on benign data\n",
      "Model is being evaluated on FGSM data\n",
      "I0716 17:53:14.505489 4573928896 feedforward_robust.py:682] Model is being evaluated on FGSM data\n",
      "Model is being evaluated on PGD points generated using 5000.000000 learning rate and 200 iterations\n",
      "I0716 17:53:14.530472 4573928896 feedforward_robust.py:684] Model is being evaluated on PGD points generated using 5000.000000 learning rate and 200 iterations\n"
     ]
    },
    {
     "name": "stdout",
     "output_type": "stream",
     "text": [
      "----Regular test accuracy and loss ----\n",
      "(0.542425, 0.7981)\n",
      "----FGSM test accuracy and loss ----\n",
      "(2.4768727, 0.24)\n",
      "iteration: 0\n",
      "loss 1.490918\n",
      "iteration: 20\n",
      "loss 3.139304\n",
      "iteration: 40\n",
      "loss 3.158266\n",
      "iteration: 60\n",
      "loss 3.163408\n",
      "iteration: 80\n",
      "loss 3.165201\n",
      "iteration: 100\n",
      "loss 3.167782\n",
      "iteration: 120\n",
      "loss 3.168814\n",
      "iteration: 140\n",
      "loss 3.169233\n",
      "iteration: 160\n",
      "loss 3.171172\n",
      "iteration: 180\n",
      "loss 3.171388\n"
     ]
    },
    {
     "name": "stderr",
     "output_type": "stream",
     "text": [
      "This is to confirm that attack does not violate constraints\n",
      "I0716 17:53:24.793892 4573928896 feedforward_robust.py:529] This is to confirm that attack does not violate constraints\n",
      "Should be no more than eps\n",
      "I0716 17:53:24.795514 4573928896 feedforward_robust.py:530] Should be no more than eps\n",
      "0.07000002674027983\n",
      "I0716 17:53:24.816115 4573928896 feedforward_robust.py:531] 0.07000002674027983\n"
     ]
    },
    {
     "name": "stdout",
     "output_type": "stream",
     "text": [
      "----PGD test accuracy and loss ----\n",
      "(3.1713023, 0.174)\n"
     ]
    },
    {
     "data": {
      "image/png": "[encoded data removed]",
      "text/plain": [
       "<Figure size 432x288 with 1 Axes>"
      ]
     },
     "metadata": {
      "needs_background": "light"
     },
     "output_type": "display_data"
    },
    {
     "data": {
      "image/png": "[encoded data removed]",
      "text/plain": [
       "<Figure size 432x288 with 1 Axes>"
      ]
     },
     "metadata": {
      "needs_background": "light"
     },
     "output_type": "display_data"
    }
   ],
   "source": [
    "acc_reg_list = []\n",
    "acc_fgsm_list = []\n",
    "acc_pgd_list = []\n",
    "\n",
    "for a in [2,4, 6, 8, 9, 10]:\n",
    "    ar, af, ap = train_nn_with_margins(a)\n",
    "    acc_reg_list.append(ar)\n",
    "    acc_fgsm_list.append(af)\n",
    "    acc_pgd_list.append(ap)"
   ]
  },
  {
   "cell_type": "code",
   "execution_count": 23,
   "metadata": {},
   "outputs": [
    {
     "data": {
      "image/png": "[encoded data removed]",
      "text/plain": [
       "<Figure size 432x288 with 1 Axes>"
      ]
     },
     "metadata": {
      "needs_background": "light"
     },
     "output_type": "display_data"
    }
   ],
   "source": [
    "hor = np.array([2,4, 6, 8, 9, 10])\n",
    "plt.plot(hor, acc_reg_list, label = 'reg')\n",
    "plt.plot(hor, acc_fgsm_list, label = 'fgsm')\n",
    "plt.plot(hor, acc_pgd_list, label = 'pgd')\n",
    "plt.legend()\n",
    "plt.ylabel(\"Accuracy\")\n",
    "plt.xlabel(\"Number of rows/cols removed from the bottom and right\")\n",
    "plt.savefig(\"/Users/Adhyyan/Desktop/remove_margins_summary.pdf\")"
   ]
  },
  {
   "cell_type": "markdown",
   "metadata": {},
   "source": [
    "## Generate data for slave"
   ]
  },
  {
   "cell_type": "code",
   "execution_count": null,
   "metadata": {},
   "outputs": [],
   "source": [
    "with tf.variable_scope(scope_name, reuse = False) as scope:\n",
    "        loss_reg, acc_reg = model.evaluate(sess, x_test_flat, y_test)\n",
    "        print(\"----Regular test accuracy and loss ----\")\n",
    "        print((loss_reg, acc_reg))\n",
    "        \n",
    "        z_train_slave = model.get_prediction(sess, x_train_slave_flat)\n",
    "        z_test_slave = model.get_prediction(sess, x_test_flat)"
   ]
  },
  {
   "cell_type": "code",
   "execution_count": null,
   "metadata": {},
   "outputs": [],
   "source": [
    "z_train_slave[0]"
   ]
  },
  {
   "cell_type": "markdown",
   "metadata": {},
   "source": [
    "# Train slave"
   ]
  },
  {
   "cell_type": "code",
   "execution_count": null,
   "metadata": {},
   "outputs": [],
   "source": [
    "#Setup - Dataset stuff\n",
    "def slave_training():\n",
    "    epochs = 20\n",
    "    lr = 15e-4\n",
    "    tf.reset_default_graph()\n",
    "    sess = tf.Session()\n",
    "    hidden_sizes = [64, 64, 32]\n",
    "    dataset = ((x_train_slave_flat, z_train_slave), (x_test_flat, y_test))\n",
    "\n",
    "    scope_name = \"teacher_student_fashion\"\n",
    "    if not load_weights:\n",
    "        with tf.variable_scope(scope_name, reuse = tf.AUTO_REUSE) as scope:\n",
    "\n",
    "            logdir = tensorboard_dir + str(counter)\n",
    "\n",
    "            #Create model\n",
    "            writer = tf.summary.FileWriter(logdir)\n",
    "            model = ffr.RobustMLP(input_shape, hidden_sizes, num_classes, writer = writer, scope = scope_name, logger = logger, sigma = sigma, classification = False)\n",
    "            sess.run(tf.global_variables_initializer())\n",
    "            print(\"Created model successfully. Now going to train\")\n",
    "\n",
    "            #Train model\n",
    "            model.fit(sess, x_train_slave_flat, z_train_slave, training_epochs = epochs, reg_op = reg , lr = lr)\n",
    "\n",
    "            \"\"\"\n",
    "            #Save weights\n",
    "            weights = tf.trainable_variables()\n",
    "            #weights = model.get_weights()[0] + model.get_weights()[1]\n",
    "            saver = tf.train.Saver(weights)\n",
    "            weights_path = saver.save(sess, weights_dir + \"model_\" + str(counter) + \".ckpt\")\n",
    "            print(\"Saved model at %s\"%weights_path)\n",
    "            \"\"\"\n",
    "            loss_real_train, acc_train = model.evaluate(sess, x_train_slave_flat, z_train_slave)\n",
    "\n",
    "            #Test model - regular, fgsm adv, pgd adv\n",
    "                        \n",
    "            loss_class_reg, acc_reg = model.evaluate(sess, x_test_flat, y_test)\n",
    "            print(\"----Regular test loss and accuracy ----\")\n",
    "            print((loss_class_reg, acc_reg))\n",
    "            \n",
    "            loss_real_reg, acc_real_reg = model.evaluate(sess, x_test_flat, z_test_slave)\n",
    "            print(\"----Real test loss and accuracy comparing to teacher ----\")\n",
    "            print((loss_real_reg, acc_real_reg))\n",
    "\n",
    "            loss_fgsm, acc_fgsm = model.adv_evaluate(sess, x_test_flat, y_test, eps_test, pgd = False)\n",
    "            print(\"----FGSM test loss and accuracy ----\")\n",
    "            print((loss_fgsm, acc_fgsm))\n",
    "\n",
    "            loss_pgd, acc_pgd = model.adv_evaluate(sess, x_test_flat, y_test, eps_test, pgd = True, eta=pgd_eta, num_iter = pgd_num_iter)\n",
    "            print(\"----PGD test loss and accuracy ----\")\n",
    "            print((loss_pgd , acc_pgd))\n",
    "            \n",
    "            slave_train_confidences = model.get_prediction(sess, x_train_slave_flat)\n",
    "            slave_test_confidences = model.get_prediction(sess, x_test_flat)\n",
    "            \n",
    "            return loss_real_train, acc_train, loss_real_reg, acc_real_reg, acc_reg, slave_train_confidences, slave_test_confidences\n",
    "        \n",
    "        "
   ]
  },
  {
   "cell_type": "code",
   "execution_count": null,
   "metadata": {},
   "outputs": [],
   "source": [
    "tup = slave_training()"
   ]
  },
  {
   "cell_type": "code",
   "execution_count": null,
   "metadata": {},
   "outputs": [],
   "source": [
    "a"
   ]
  },
  {
   "cell_type": "code",
   "execution_count": null,
   "metadata": {},
   "outputs": [],
   "source": [
    "list(tup)"
   ]
  },
  {
   "cell_type": "code",
   "execution_count": null,
   "metadata": {},
   "outputs": [],
   "source": [
    "df = pd.DataFrame()\n",
    "df['mse on z_train'] = []\n",
    "df['acc on z_train'] = []\n",
    "df['mse on z_test'] = []\n",
    "df['acc on z_test'] = []\n",
    "df['acc on y_test'] = []"
   ]
  },
  {
   "cell_type": "code",
   "execution_count": null,
   "metadata": {},
   "outputs": [],
   "source": [
    "train_confidences = []\n",
    "test_confidences = []\n",
    "for i in range(3):\n",
    "    loss_real_train, acc_train, loss_real_reg, acc_real_reg, acc_reg, slave_train_confidences, slave_test_confidences = slave_training()\n",
    "    df.loc[i] = [loss_real_train, acc_train, loss_real_reg, acc_real_reg, acc_reg]\n",
    "    train_confidences.append(slave_train_confidences)\n",
    "    test_confidences.append(slave_test_confidences)"
   ]
  },
  {
   "cell_type": "code",
   "execution_count": null,
   "metadata": {},
   "outputs": [],
   "source": [
    "df"
   ]
  },
  {
   "cell_type": "code",
   "execution_count": null,
   "metadata": {},
   "outputs": [],
   "source": [
    "#df.to_excel(\"ts_fashion_results.xlsx\")  "
   ]
  }
 ],
 "metadata": {
  "kernelspec": {
   "display_name": "Python 3",
   "language": "python",
   "name": "python3"
  },
  "language_info": {
   "codemirror_mode": {
    "name": "ipython",
    "version": 3
   },
   "file_extension": ".py",
   "mimetype": "text/x-python",
   "name": "python",
   "nbconvert_exporter": "python",
   "pygments_lexer": "ipython3",
   "version": "3.7.3"
  }
 },
 "nbformat": 4,
 "nbformat_minor": 2
}

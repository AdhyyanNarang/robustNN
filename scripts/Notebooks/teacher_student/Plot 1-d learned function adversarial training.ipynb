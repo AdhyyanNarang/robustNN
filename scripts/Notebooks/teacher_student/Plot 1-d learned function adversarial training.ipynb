{
 "cells": [
  {
   "cell_type": "code",
   "execution_count": 1,
   "metadata": {},
   "outputs": [
    {
     "name": "stderr",
     "output_type": "stream",
     "text": [
      "Using TensorFlow backend.\n",
      "WARNING: Logging before flag parsing goes to stderr.\n",
      "W0627 23:19:40.877109 4544058816 deprecation_wrapper.py:119] From /usr/local/lib/python3.7/site-packages/cleverhans/utils_tf.py:341: The name tf.GraphKeys is deprecated. Please use tf.compat.v1.GraphKeys instead.\n",
      "\n"
     ]
    }
   ],
   "source": [
    "#Imports\n",
    "import logging\n",
    "import os, random, time, sys\n",
    "import numpy as np\n",
    "import tensorflow as tf\n",
    "import tensorflow.contrib.layers as layers\n",
    "import ipdb\n",
    "import keras\n",
    "import pandas as pd\n",
    "\n",
    "sys.path.append('../../../')\n",
    "import feedforward_robust as ffr\n",
    "\n",
    "sys.path.append('../../../utils/')\n",
    "from utils.mnist_corruption import *\n",
    "from utils.utils_models import *\n",
    "from utils.utils_analysis import *\n",
    "from utils.utils_feedforward import *\n",
    "\n",
    "%load_ext autoreload\n",
    "%autoreload 2\n",
    "\n",
    "#Read the counter\n",
    "ctr_file = \"../../counter.txt\"\n",
    "f = open(ctr_file, 'r')\n",
    "counter = f.readline()\n",
    "f.close()\n",
    "\n",
    "counter = 1 + int(counter)\n",
    "f = open(ctr_file,'w')\n",
    "f.write('{}'.format(counter))\n",
    "f.close()\n",
    "logfile = \"../../logs/results_\" + str(counter) + \".log\"\n",
    "\n",
    "logger = logging.getLogger(\"robustness\")\n",
    "logger.setLevel(logging.DEBUG)\n",
    "fh = logging.FileHandler(logfile)\n",
    "fh.setLevel(logging.INFO)\n",
    "formatter = logging.Formatter('%(asctime)s - %(name)s - %(levelname)s - %(message)s')\n",
    "fh.setFormatter(formatter)\n",
    "logger.addHandler(fh)\n",
    "logger.addHandler(logging.StreamHandler())"
   ]
  },
  {
   "cell_type": "markdown",
   "metadata": {},
   "source": [
    "# Get Raw Training Data"
   ]
  },
  {
   "cell_type": "code",
   "execution_count": 2,
   "metadata": {},
   "outputs": [],
   "source": [
    "n = 8\n",
    "n_test = 10000\n",
    "\n",
    "x_train = np.linspace(-1, 1-2/n, n).astype(np.float64)\n",
    "x_test = np.linspace(-1, 1-2/n_test, n_test).astype(np.float64)\n",
    "\n",
    "x_train = x_train.reshape((n, 1))\n",
    "x_test = x_test.reshape((n_test, 1))"
   ]
  },
  {
   "cell_type": "code",
   "execution_count": 3,
   "metadata": {},
   "outputs": [],
   "source": [
    "y_train = np.sign(x_train).astype(np.int)\n",
    "y_train[y_train==0] = 1\n",
    "y_train_ogi = y_train.copy()\n",
    "y_train[y_train==-1] = 0\n",
    "\n",
    "y_test = np.sign(x_test).astype(np.int)\n",
    "y_test[y_test==0] = 1\n",
    "y_test[y_test==-1] = 0"
   ]
  },
  {
   "cell_type": "code",
   "execution_count": 4,
   "metadata": {},
   "outputs": [],
   "source": [
    "y_train = y_train.flatten()\n",
    "y_test = y_test.flatten()"
   ]
  },
  {
   "cell_type": "code",
   "execution_count": 5,
   "metadata": {},
   "outputs": [],
   "source": [
    "num_classes = 2\n",
    "y_train = keras.utils.to_categorical(y_train, num_classes)                                                                                         \n",
    "y_test = keras.utils.to_categorical(y_test, num_classes)"
   ]
  },
  {
   "cell_type": "code",
   "execution_count": 6,
   "metadata": {},
   "outputs": [
    {
     "data": {
      "text/plain": [
       "array([[1., 0.],\n",
       "       [1., 0.],\n",
       "       [1., 0.],\n",
       "       [1., 0.],\n",
       "       [0., 1.],\n",
       "       [0., 1.],\n",
       "       [0., 1.],\n",
       "       [0., 1.]], dtype=float32)"
      ]
     },
     "execution_count": 6,
     "metadata": {},
     "output_type": "execute_result"
    }
   ],
   "source": [
    "y_train"
   ]
  },
  {
   "cell_type": "code",
   "execution_count": 7,
   "metadata": {},
   "outputs": [
    {
     "data": {
      "text/plain": [
       "array([[1., 0.],\n",
       "       [1., 0.],\n",
       "       [1., 0.],\n",
       "       [1., 0.],\n",
       "       [1., 0.],\n",
       "       [1., 0.],\n",
       "       [1., 0.],\n",
       "       [1., 0.],\n",
       "       [1., 0.],\n",
       "       [1., 0.]], dtype=float32)"
      ]
     },
     "execution_count": 7,
     "metadata": {},
     "output_type": "execute_result"
    }
   ],
   "source": [
    "y_test[:10]"
   ]
  },
  {
   "cell_type": "code",
   "execution_count": 8,
   "metadata": {},
   "outputs": [
    {
     "data": {
      "text/plain": [
       "array([[0., 1.],\n",
       "       [0., 1.],\n",
       "       [0., 1.],\n",
       "       [0., 1.],\n",
       "       [0., 1.],\n",
       "       [0., 1.],\n",
       "       [0., 1.],\n",
       "       [0., 1.],\n",
       "       [0., 1.],\n",
       "       [0., 1.]], dtype=float32)"
      ]
     },
     "execution_count": 8,
     "metadata": {},
     "output_type": "execute_result"
    }
   ],
   "source": [
    "y_test[-10:]"
   ]
  },
  {
   "cell_type": "markdown",
   "metadata": {},
   "source": [
    "# Train neural network"
   ]
  },
  {
   "cell_type": "code",
   "execution_count": 9,
   "metadata": {},
   "outputs": [],
   "source": [
    "#Configurations\n",
    "eps_train = 0.05                                                                                                                            \n",
    "eps_test = 0.05\n",
    "pgd_eta, pgd_num_iter = 1e-3, 50\n",
    "tensorboard_dir = \"../tb/\"                                                                                                                \n",
    "weights_dir = \"../weights/\"\n",
    "load_weights = False                                                                                                              \n",
    "load_counter = None                                                                                                            \n",
    "input_shape = (1,)\n",
    "\n",
    "\n",
    "sigma = tf.nn.relu \n",
    "epochs, reg, lr, batch_size = 100, 0.00, 3e-4, 8 # Will have to experiment with learning rate a bit.                                                                                              \n"
   ]
  },
  {
   "cell_type": "code",
   "execution_count": 10,
   "metadata": {},
   "outputs": [
    {
     "name": "stderr",
     "output_type": "stream",
     "text": [
      "Initialized instance variables of the robust model class\n",
      "I0627 23:19:41.392331 4544058816 feedforward_robust.py:32] Initialized instance variables of the robust model class\n",
      "W0627 23:19:41.393739 4544058816 deprecation_wrapper.py:119] From ../../../feedforward_robust.py:36: The name tf.placeholder is deprecated. Please use tf.compat.v1.placeholder instead.\n",
      "\n",
      "Created placeholders for x and y\n",
      "I0627 23:19:41.400143 4544058816 feedforward_robust.py:40] Created placeholders for x and y\n",
      "W0627 23:19:41.401928 4544058816 deprecation_wrapper.py:119] From ../../../utils/utils_feedforward.py:34: The name tf.variable_scope is deprecated. Please use tf.compat.v1.variable_scope instead.\n",
      "\n",
      "W0627 23:19:41.402838 4544058816 deprecation_wrapper.py:119] From ../../../utils/utils_feedforward.py:34: The name tf.AUTO_REUSE is deprecated. Please use tf.compat.v1.AUTO_REUSE instead.\n",
      "\n",
      "W0627 23:19:41.403945 4544058816 deprecation_wrapper.py:119] From ../../../utils/utils_feedforward.py:36: The name tf.get_variable is deprecated. Please use tf.compat.v1.get_variable instead.\n",
      "\n",
      "W0627 23:19:41.424757 4544058816 deprecation_wrapper.py:119] From ../../../utils/utils_feedforward.py:40: The name tf.summary.histogram is deprecated. Please use tf.compat.v1.summary.histogram instead.\n",
      "\n",
      "Created layers and tensor for logits\n",
      "I0627 23:19:41.482844 4544058816 feedforward_robust.py:44] Created layers and tensor for logits\n",
      "Added accuracy computation to the graph\n",
      "I0627 23:19:41.490751 4544058816 feedforward_robust.py:48] Added accuracy computation to the graph\n",
      "W0627 23:19:41.493320 4544058816 deprecation_wrapper.py:119] From ../../../feedforward_robust.py:49: The name tf.summary.scalar is deprecated. Please use tf.compat.v1.summary.scalar instead.\n",
      "\n",
      "W0627 23:19:41.495709 4544058816 deprecation.py:323] From ../../../feedforward_robust.py:53: softmax_cross_entropy_with_logits (from tensorflow.python.ops.nn_ops) is deprecated and will be removed in a future version.\n",
      "Instructions for updating:\n",
      "\n",
      "Future major versions of TensorFlow will allow gradients to flow\n",
      "into the labels input on backprop by default.\n",
      "\n",
      "See `tf.nn.softmax_cross_entropy_with_logits_v2`.\n",
      "\n",
      "Added cross-entropy loss computation to the graph\n",
      "I0627 23:19:41.532864 4544058816 feedforward_robust.py:56] Added cross-entropy loss computation to the graph\n",
      "Model graph was created\n",
      "I0627 23:19:41.534704 4544058816 feedforward_robust.py:62] Model graph was created\n",
      "W0627 23:19:41.539041 4544058816 deprecation_wrapper.py:119] From ../../../feedforward_robust.py:63: The name tf.summary.merge_all is deprecated. Please use tf.compat.v1.summary.merge_all instead.\n",
      "\n",
      "W0627 23:19:41.603460 4544058816 deprecation.py:323] From ../../../feedforward_robust.py:832: all_variables (from tensorflow.python.ops.variables) is deprecated and will be removed after 2017-03-02.\n",
      "Instructions for updating:\n",
      "Please use tf.global_variables instead.\n",
      "W0627 23:19:41.604223 4544058816 deprecation_wrapper.py:119] From ../../../feedforward_robust.py:833: The name tf.train.AdamOptimizer is deprecated. Please use tf.compat.v1.train.AdamOptimizer instead.\n",
      "\n"
     ]
    },
    {
     "name": "stdout",
     "output_type": "stream",
     "text": [
      "Created model successfully. Now going to train\n"
     ]
    },
    {
     "name": "stderr",
     "output_type": "stream",
     "text": [
      "W0627 23:19:41.853273 4544058816 deprecation.py:323] From /usr/local/lib/python3.7/site-packages/tensorflow/python/util/tf_should_use.py:193: initialize_variables (from tensorflow.python.ops.variables) is deprecated and will be removed after 2017-03-02.\n",
      "Instructions for updating:\n",
      "Use `tf.variables_initializer` instead.\n",
      "Epoch: 0001    cost: 0.806995630 \n",
      "I0627 23:19:42.397699 4544058816 feedforward_robust.py:884] Epoch: 0001    cost: 0.806995630 \n",
      "Accuracy on batch: 0.875000\n",
      "I0627 23:19:42.399362 4544058816 feedforward_robust.py:885] Accuracy on batch: 0.875000\n",
      "Epoch: 0002    cost: 0.803573608 \n",
      "I0627 23:19:42.505391 4544058816 feedforward_robust.py:884] Epoch: 0002    cost: 0.803573608 \n",
      "Accuracy on batch: 0.875000\n",
      "I0627 23:19:42.506725 4544058816 feedforward_robust.py:885] Accuracy on batch: 0.875000\n",
      "Epoch: 0003    cost: 0.800086141 \n",
      "I0627 23:19:42.607347 4544058816 feedforward_robust.py:884] Epoch: 0003    cost: 0.800086141 \n",
      "Accuracy on batch: 0.875000\n",
      "I0627 23:19:42.608521 4544058816 feedforward_robust.py:885] Accuracy on batch: 0.875000\n",
      "Epoch: 0004    cost: 0.795843124 \n",
      "I0627 23:19:42.696679 4544058816 feedforward_robust.py:884] Epoch: 0004    cost: 0.795843124 \n",
      "Accuracy on batch: 0.875000\n",
      "I0627 23:19:42.697979 4544058816 feedforward_robust.py:885] Accuracy on batch: 0.875000\n",
      "Epoch: 0005    cost: 0.792333245 \n",
      "I0627 23:19:42.796322 4544058816 feedforward_robust.py:884] Epoch: 0005    cost: 0.792333245 \n",
      "Accuracy on batch: 0.875000\n",
      "I0627 23:19:42.798264 4544058816 feedforward_robust.py:885] Accuracy on batch: 0.875000\n",
      "Epoch: 0006    cost: 0.789830565 \n",
      "I0627 23:19:42.897287 4544058816 feedforward_robust.py:884] Epoch: 0006    cost: 0.789830565 \n",
      "Accuracy on batch: 0.875000\n",
      "I0627 23:19:42.898658 4544058816 feedforward_robust.py:885] Accuracy on batch: 0.875000\n",
      "Epoch: 0007    cost: 0.785630405 \n",
      "I0627 23:19:42.999871 4544058816 feedforward_robust.py:884] Epoch: 0007    cost: 0.785630405 \n",
      "Accuracy on batch: 0.875000\n",
      "I0627 23:19:43.001235 4544058816 feedforward_robust.py:885] Accuracy on batch: 0.875000\n",
      "Epoch: 0008    cost: 0.781384051 \n",
      "I0627 23:19:43.099827 4544058816 feedforward_robust.py:884] Epoch: 0008    cost: 0.781384051 \n",
      "Accuracy on batch: 0.875000\n",
      "I0627 23:19:43.101377 4544058816 feedforward_robust.py:885] Accuracy on batch: 0.875000\n",
      "Epoch: 0009    cost: 0.779436707 \n",
      "I0627 23:19:43.203121 4544058816 feedforward_robust.py:884] Epoch: 0009    cost: 0.779436707 \n",
      "Accuracy on batch: 0.875000\n",
      "I0627 23:19:43.204804 4544058816 feedforward_robust.py:885] Accuracy on batch: 0.875000\n",
      "Epoch: 0010    cost: 0.776155055 \n",
      "I0627 23:19:43.295279 4544058816 feedforward_robust.py:884] Epoch: 0010    cost: 0.776155055 \n",
      "Accuracy on batch: 0.875000\n",
      "I0627 23:19:43.296864 4544058816 feedforward_robust.py:885] Accuracy on batch: 0.875000\n",
      "Epoch: 0011    cost: 0.772885919 \n",
      "I0627 23:19:43.395499 4544058816 feedforward_robust.py:884] Epoch: 0011    cost: 0.772885919 \n",
      "Accuracy on batch: 0.875000\n",
      "I0627 23:19:43.396751 4544058816 feedforward_robust.py:885] Accuracy on batch: 0.875000\n",
      "Epoch: 0012    cost: 0.768915832 \n",
      "I0627 23:19:43.497490 4544058816 feedforward_robust.py:884] Epoch: 0012    cost: 0.768915832 \n",
      "Accuracy on batch: 0.875000\n",
      "I0627 23:19:43.498791 4544058816 feedforward_robust.py:885] Accuracy on batch: 0.875000\n",
      "Epoch: 0013    cost: 0.766530693 \n",
      "I0627 23:19:43.598262 4544058816 feedforward_robust.py:884] Epoch: 0013    cost: 0.766530693 \n",
      "Accuracy on batch: 0.875000\n",
      "I0627 23:19:43.599405 4544058816 feedforward_robust.py:885] Accuracy on batch: 0.875000\n",
      "Epoch: 0014    cost: 0.761918783 \n",
      "I0627 23:19:43.713093 4544058816 feedforward_robust.py:884] Epoch: 0014    cost: 0.761918783 \n",
      "Accuracy on batch: 0.875000\n",
      "I0627 23:19:43.714278 4544058816 feedforward_robust.py:885] Accuracy on batch: 0.875000\n",
      "Epoch: 0015    cost: 0.757040322 \n",
      "I0627 23:19:43.832733 4544058816 feedforward_robust.py:884] Epoch: 0015    cost: 0.757040322 \n",
      "Accuracy on batch: 0.875000\n",
      "I0627 23:19:43.835315 4544058816 feedforward_robust.py:885] Accuracy on batch: 0.875000\n",
      "Epoch: 0016    cost: 0.753662288 \n",
      "I0627 23:19:43.964236 4544058816 feedforward_robust.py:884] Epoch: 0016    cost: 0.753662288 \n",
      "Accuracy on batch: 0.875000\n",
      "I0627 23:19:43.970057 4544058816 feedforward_robust.py:885] Accuracy on batch: 0.875000\n",
      "Epoch: 0017    cost: 0.748927295 \n",
      "I0627 23:19:44.095050 4544058816 feedforward_robust.py:884] Epoch: 0017    cost: 0.748927295 \n",
      "Accuracy on batch: 0.875000\n",
      "I0627 23:19:44.096565 4544058816 feedforward_robust.py:885] Accuracy on batch: 0.875000\n",
      "Epoch: 0018    cost: 0.748212159 \n",
      "I0627 23:19:44.178874 4544058816 feedforward_robust.py:884] Epoch: 0018    cost: 0.748212159 \n",
      "Accuracy on batch: 0.875000\n",
      "I0627 23:19:44.180541 4544058816 feedforward_robust.py:885] Accuracy on batch: 0.875000\n",
      "Epoch: 0019    cost: 0.744411349 \n",
      "I0627 23:19:44.279423 4544058816 feedforward_robust.py:884] Epoch: 0019    cost: 0.744411349 \n",
      "Accuracy on batch: 0.875000\n",
      "I0627 23:19:44.280794 4544058816 feedforward_robust.py:885] Accuracy on batch: 0.875000\n",
      "Epoch: 0020    cost: 0.739268839 \n",
      "I0627 23:19:44.370531 4544058816 feedforward_robust.py:884] Epoch: 0020    cost: 0.739268839 \n",
      "Accuracy on batch: 0.875000\n",
      "I0627 23:19:44.372197 4544058816 feedforward_robust.py:885] Accuracy on batch: 0.875000\n",
      "Epoch: 0021    cost: 0.738295913 \n",
      "I0627 23:19:44.454960 4544058816 feedforward_robust.py:884] Epoch: 0021    cost: 0.738295913 \n",
      "Accuracy on batch: 0.875000\n",
      "I0627 23:19:44.456194 4544058816 feedforward_robust.py:885] Accuracy on batch: 0.875000\n",
      "Epoch: 0022    cost: 0.734978497 \n",
      "I0627 23:19:44.542971 4544058816 feedforward_robust.py:884] Epoch: 0022    cost: 0.734978497 \n",
      "Accuracy on batch: 0.875000\n",
      "I0627 23:19:44.544505 4544058816 feedforward_robust.py:885] Accuracy on batch: 0.875000\n",
      "Epoch: 0023    cost: 0.728704512 \n",
      "I0627 23:19:44.628777 4544058816 feedforward_robust.py:884] Epoch: 0023    cost: 0.728704512 \n",
      "Accuracy on batch: 1.000000\n",
      "I0627 23:19:44.630150 4544058816 feedforward_robust.py:885] Accuracy on batch: 1.000000\n",
      "Epoch: 0024    cost: 0.728586197 \n",
      "I0627 23:19:44.724367 4544058816 feedforward_robust.py:884] Epoch: 0024    cost: 0.728586197 \n",
      "Accuracy on batch: 0.875000\n",
      "I0627 23:19:44.726652 4544058816 feedforward_robust.py:885] Accuracy on batch: 0.875000\n",
      "Epoch: 0025    cost: 0.723758638 \n",
      "I0627 23:19:44.815214 4544058816 feedforward_robust.py:884] Epoch: 0025    cost: 0.723758638 \n",
      "Accuracy on batch: 0.875000\n",
      "I0627 23:19:44.816513 4544058816 feedforward_robust.py:885] Accuracy on batch: 0.875000\n",
      "Epoch: 0026    cost: 0.719191849 \n",
      "I0627 23:19:44.902390 4544058816 feedforward_robust.py:884] Epoch: 0026    cost: 0.719191849 \n",
      "Accuracy on batch: 0.875000\n",
      "I0627 23:19:44.903871 4544058816 feedforward_robust.py:885] Accuracy on batch: 0.875000\n",
      "Epoch: 0027    cost: 0.714967430 \n",
      "I0627 23:19:44.987977 4544058816 feedforward_robust.py:884] Epoch: 0027    cost: 0.714967430 \n",
      "Accuracy on batch: 1.000000\n",
      "I0627 23:19:44.989136 4544058816 feedforward_robust.py:885] Accuracy on batch: 1.000000\n",
      "Epoch: 0028    cost: 0.713474572 \n",
      "I0627 23:19:45.081582 4544058816 feedforward_robust.py:884] Epoch: 0028    cost: 0.713474572 \n",
      "Accuracy on batch: 0.875000\n",
      "I0627 23:19:45.083000 4544058816 feedforward_robust.py:885] Accuracy on batch: 0.875000\n",
      "Epoch: 0029    cost: 0.709650278 \n",
      "I0627 23:19:45.166085 4544058816 feedforward_robust.py:884] Epoch: 0029    cost: 0.709650278 \n",
      "Accuracy on batch: 1.000000\n",
      "I0627 23:19:45.167646 4544058816 feedforward_robust.py:885] Accuracy on batch: 1.000000\n",
      "Epoch: 0030    cost: 0.709363878 \n",
      "I0627 23:19:45.251552 4544058816 feedforward_robust.py:884] Epoch: 0030    cost: 0.709363878 \n",
      "Accuracy on batch: 0.875000\n",
      "I0627 23:19:45.252512 4544058816 feedforward_robust.py:885] Accuracy on batch: 0.875000\n",
      "Epoch: 0031    cost: 0.701935351 \n",
      "I0627 23:19:45.346692 4544058816 feedforward_robust.py:884] Epoch: 0031    cost: 0.701935351 \n",
      "Accuracy on batch: 0.875000\n",
      "I0627 23:19:45.347829 4544058816 feedforward_robust.py:885] Accuracy on batch: 0.875000\n",
      "Epoch: 0032    cost: 0.699423134 \n",
      "I0627 23:19:45.431141 4544058816 feedforward_robust.py:884] Epoch: 0032    cost: 0.699423134 \n",
      "Accuracy on batch: 1.000000\n",
      "I0627 23:19:45.433030 4544058816 feedforward_robust.py:885] Accuracy on batch: 1.000000\n",
      "Epoch: 0033    cost: 0.692785263 \n",
      "I0627 23:19:45.519304 4544058816 feedforward_robust.py:884] Epoch: 0033    cost: 0.692785263 \n"
     ]
    },
    {
     "name": "stderr",
     "output_type": "stream",
     "text": [
      "Accuracy on batch: 1.000000\n",
      "I0627 23:19:45.520719 4544058816 feedforward_robust.py:885] Accuracy on batch: 1.000000\n",
      "Epoch: 0034    cost: 0.694262862 \n",
      "I0627 23:19:45.607887 4544058816 feedforward_robust.py:884] Epoch: 0034    cost: 0.694262862 \n",
      "Accuracy on batch: 0.875000\n",
      "I0627 23:19:45.609498 4544058816 feedforward_robust.py:885] Accuracy on batch: 0.875000\n",
      "Epoch: 0035    cost: 0.691190481 \n",
      "I0627 23:19:45.692533 4544058816 feedforward_robust.py:884] Epoch: 0035    cost: 0.691190481 \n",
      "Accuracy on batch: 0.875000\n",
      "I0627 23:19:45.694067 4544058816 feedforward_robust.py:885] Accuracy on batch: 0.875000\n",
      "Epoch: 0036    cost: 0.682929218 \n",
      "I0627 23:19:45.771545 4544058816 feedforward_robust.py:884] Epoch: 0036    cost: 0.682929218 \n",
      "Accuracy on batch: 1.000000\n",
      "I0627 23:19:45.773046 4544058816 feedforward_robust.py:885] Accuracy on batch: 1.000000\n",
      "Epoch: 0037    cost: 0.681659937 \n",
      "I0627 23:19:45.856097 4544058816 feedforward_robust.py:884] Epoch: 0037    cost: 0.681659937 \n",
      "Accuracy on batch: 1.000000\n",
      "I0627 23:19:45.857347 4544058816 feedforward_robust.py:885] Accuracy on batch: 1.000000\n",
      "Epoch: 0038    cost: 0.673639596 \n",
      "I0627 23:19:45.943346 4544058816 feedforward_robust.py:884] Epoch: 0038    cost: 0.673639596 \n",
      "Accuracy on batch: 1.000000\n",
      "I0627 23:19:45.945062 4544058816 feedforward_robust.py:885] Accuracy on batch: 1.000000\n",
      "Epoch: 0039    cost: 0.674002349 \n",
      "I0627 23:19:46.032904 4544058816 feedforward_robust.py:884] Epoch: 0039    cost: 0.674002349 \n",
      "Accuracy on batch: 1.000000\n",
      "I0627 23:19:46.034626 4544058816 feedforward_robust.py:885] Accuracy on batch: 1.000000\n",
      "Epoch: 0040    cost: 0.673914194 \n",
      "I0627 23:19:46.120530 4544058816 feedforward_robust.py:884] Epoch: 0040    cost: 0.673914194 \n",
      "Accuracy on batch: 0.875000\n",
      "I0627 23:19:46.122123 4544058816 feedforward_robust.py:885] Accuracy on batch: 0.875000\n",
      "Epoch: 0041    cost: 0.669887066 \n",
      "I0627 23:19:46.206748 4544058816 feedforward_robust.py:884] Epoch: 0041    cost: 0.669887066 \n",
      "Accuracy on batch: 1.000000\n",
      "I0627 23:19:46.208065 4544058816 feedforward_robust.py:885] Accuracy on batch: 1.000000\n",
      "Epoch: 0042    cost: 0.665991068 \n",
      "I0627 23:19:46.289247 4544058816 feedforward_robust.py:884] Epoch: 0042    cost: 0.665991068 \n",
      "Accuracy on batch: 1.000000\n",
      "I0627 23:19:46.291341 4544058816 feedforward_robust.py:885] Accuracy on batch: 1.000000\n",
      "Epoch: 0043    cost: 0.661191523 \n",
      "I0627 23:19:46.372586 4544058816 feedforward_robust.py:884] Epoch: 0043    cost: 0.661191523 \n",
      "Accuracy on batch: 1.000000\n",
      "I0627 23:19:46.374308 4544058816 feedforward_robust.py:885] Accuracy on batch: 1.000000\n",
      "Epoch: 0044    cost: 0.657784283 \n",
      "I0627 23:19:46.457358 4544058816 feedforward_robust.py:884] Epoch: 0044    cost: 0.657784283 \n",
      "Accuracy on batch: 1.000000\n",
      "I0627 23:19:46.458786 4544058816 feedforward_robust.py:885] Accuracy on batch: 1.000000\n",
      "Epoch: 0045    cost: 0.655675411 \n",
      "I0627 23:19:46.542283 4544058816 feedforward_robust.py:884] Epoch: 0045    cost: 0.655675411 \n",
      "Accuracy on batch: 1.000000\n",
      "I0627 23:19:46.543930 4544058816 feedforward_robust.py:885] Accuracy on batch: 1.000000\n",
      "Epoch: 0046    cost: 0.647284389 \n",
      "I0627 23:19:46.629106 4544058816 feedforward_robust.py:884] Epoch: 0046    cost: 0.647284389 \n",
      "Accuracy on batch: 1.000000\n",
      "I0627 23:19:46.630924 4544058816 feedforward_robust.py:885] Accuracy on batch: 1.000000\n",
      "Epoch: 0047    cost: 0.647597909 \n",
      "I0627 23:19:46.714370 4544058816 feedforward_robust.py:884] Epoch: 0047    cost: 0.647597909 \n",
      "Accuracy on batch: 1.000000\n",
      "I0627 23:19:46.715708 4544058816 feedforward_robust.py:885] Accuracy on batch: 1.000000\n",
      "Epoch: 0048    cost: 0.644742131 \n",
      "I0627 23:19:46.800075 4544058816 feedforward_robust.py:884] Epoch: 0048    cost: 0.644742131 \n",
      "Accuracy on batch: 1.000000\n",
      "I0627 23:19:46.801626 4544058816 feedforward_robust.py:885] Accuracy on batch: 1.000000\n",
      "Epoch: 0049    cost: 0.640115499 \n",
      "I0627 23:19:46.885199 4544058816 feedforward_robust.py:884] Epoch: 0049    cost: 0.640115499 \n",
      "Accuracy on batch: 1.000000\n",
      "I0627 23:19:46.886457 4544058816 feedforward_robust.py:885] Accuracy on batch: 1.000000\n",
      "Epoch: 0050    cost: 0.633107662 \n",
      "I0627 23:19:46.967988 4544058816 feedforward_robust.py:884] Epoch: 0050    cost: 0.633107662 \n",
      "Accuracy on batch: 1.000000\n",
      "I0627 23:19:46.969242 4544058816 feedforward_robust.py:885] Accuracy on batch: 1.000000\n",
      "Epoch: 0051    cost: 0.631524086 \n",
      "I0627 23:19:47.051954 4544058816 feedforward_robust.py:884] Epoch: 0051    cost: 0.631524086 \n",
      "Accuracy on batch: 1.000000\n",
      "I0627 23:19:47.053128 4544058816 feedforward_robust.py:885] Accuracy on batch: 1.000000\n",
      "Epoch: 0052    cost: 0.623194695 \n",
      "I0627 23:19:47.139859 4544058816 feedforward_robust.py:884] Epoch: 0052    cost: 0.623194695 \n",
      "Accuracy on batch: 1.000000\n",
      "I0627 23:19:47.141021 4544058816 feedforward_robust.py:885] Accuracy on batch: 1.000000\n",
      "Epoch: 0053    cost: 0.626481473 \n",
      "I0627 23:19:47.222573 4544058816 feedforward_robust.py:884] Epoch: 0053    cost: 0.626481473 \n",
      "Accuracy on batch: 1.000000\n",
      "I0627 23:19:47.223690 4544058816 feedforward_robust.py:885] Accuracy on batch: 1.000000\n",
      "Epoch: 0054    cost: 0.622586608 \n",
      "I0627 23:19:47.304907 4544058816 feedforward_robust.py:884] Epoch: 0054    cost: 0.622586608 \n",
      "Accuracy on batch: 1.000000\n",
      "I0627 23:19:47.306214 4544058816 feedforward_robust.py:885] Accuracy on batch: 1.000000\n",
      "Epoch: 0055    cost: 0.617375493 \n",
      "I0627 23:19:47.387820 4544058816 feedforward_robust.py:884] Epoch: 0055    cost: 0.617375493 \n",
      "Accuracy on batch: 1.000000\n",
      "I0627 23:19:47.389183 4544058816 feedforward_robust.py:885] Accuracy on batch: 1.000000\n",
      "Epoch: 0056    cost: 0.616038442 \n",
      "I0627 23:19:47.471263 4544058816 feedforward_robust.py:884] Epoch: 0056    cost: 0.616038442 \n",
      "Accuracy on batch: 1.000000\n",
      "I0627 23:19:47.472738 4544058816 feedforward_robust.py:885] Accuracy on batch: 1.000000\n",
      "Epoch: 0057    cost: 0.609935880 \n",
      "I0627 23:19:47.566164 4544058816 feedforward_robust.py:884] Epoch: 0057    cost: 0.609935880 \n",
      "Accuracy on batch: 1.000000\n",
      "I0627 23:19:47.568071 4544058816 feedforward_robust.py:885] Accuracy on batch: 1.000000\n",
      "Epoch: 0058    cost: 0.604474425 \n",
      "I0627 23:19:47.650673 4544058816 feedforward_robust.py:884] Epoch: 0058    cost: 0.604474425 \n",
      "Accuracy on batch: 1.000000\n",
      "I0627 23:19:47.652124 4544058816 feedforward_robust.py:885] Accuracy on batch: 1.000000\n",
      "Epoch: 0059    cost: 0.602527499 \n",
      "I0627 23:19:47.736268 4544058816 feedforward_robust.py:884] Epoch: 0059    cost: 0.602527499 \n",
      "Accuracy on batch: 1.000000\n",
      "I0627 23:19:47.737869 4544058816 feedforward_robust.py:885] Accuracy on batch: 1.000000\n",
      "Epoch: 0060    cost: 0.590457857 \n",
      "I0627 23:19:47.820092 4544058816 feedforward_robust.py:884] Epoch: 0060    cost: 0.590457857 \n",
      "Accuracy on batch: 1.000000\n",
      "I0627 23:19:47.821596 4544058816 feedforward_robust.py:885] Accuracy on batch: 1.000000\n",
      "Epoch: 0061    cost: 0.590414405 \n",
      "I0627 23:19:47.903429 4544058816 feedforward_robust.py:884] Epoch: 0061    cost: 0.590414405 \n",
      "Accuracy on batch: 1.000000\n",
      "I0627 23:19:47.904572 4544058816 feedforward_robust.py:885] Accuracy on batch: 1.000000\n",
      "Epoch: 0062    cost: 0.585026085 \n",
      "I0627 23:19:47.984441 4544058816 feedforward_robust.py:884] Epoch: 0062    cost: 0.585026085 \n",
      "Accuracy on batch: 1.000000\n",
      "I0627 23:19:47.985568 4544058816 feedforward_robust.py:885] Accuracy on batch: 1.000000\n",
      "Epoch: 0063    cost: 0.579723716 \n",
      "I0627 23:19:48.067594 4544058816 feedforward_robust.py:884] Epoch: 0063    cost: 0.579723716 \n",
      "Accuracy on batch: 1.000000\n",
      "I0627 23:19:48.069114 4544058816 feedforward_robust.py:885] Accuracy on batch: 1.000000\n",
      "Epoch: 0064    cost: 0.576193511 \n",
      "I0627 23:19:48.150868 4544058816 feedforward_robust.py:884] Epoch: 0064    cost: 0.576193511 \n",
      "Accuracy on batch: 1.000000\n",
      "I0627 23:19:48.152148 4544058816 feedforward_robust.py:885] Accuracy on batch: 1.000000\n",
      "Epoch: 0065    cost: 0.570691645 \n",
      "I0627 23:19:48.237632 4544058816 feedforward_robust.py:884] Epoch: 0065    cost: 0.570691645 \n",
      "Accuracy on batch: 1.000000\n",
      "I0627 23:19:48.238767 4544058816 feedforward_robust.py:885] Accuracy on batch: 1.000000\n",
      "Epoch: 0066    cost: 0.570008814 \n",
      "I0627 23:19:48.328445 4544058816 feedforward_robust.py:884] Epoch: 0066    cost: 0.570008814 \n",
      "Accuracy on batch: 1.000000\n",
      "I0627 23:19:48.330077 4544058816 feedforward_robust.py:885] Accuracy on batch: 1.000000\n",
      "Epoch: 0067    cost: 0.556558490 \n"
     ]
    },
    {
     "name": "stderr",
     "output_type": "stream",
     "text": [
      "I0627 23:19:48.413947 4544058816 feedforward_robust.py:884] Epoch: 0067    cost: 0.556558490 \n",
      "Accuracy on batch: 1.000000\n",
      "I0627 23:19:48.415395 4544058816 feedforward_robust.py:885] Accuracy on batch: 1.000000\n",
      "Epoch: 0068    cost: 0.563459635 \n",
      "I0627 23:19:48.498666 4544058816 feedforward_robust.py:884] Epoch: 0068    cost: 0.563459635 \n",
      "Accuracy on batch: 1.000000\n",
      "I0627 23:19:48.499919 4544058816 feedforward_robust.py:885] Accuracy on batch: 1.000000\n",
      "Epoch: 0069    cost: 0.558043540 \n",
      "I0627 23:19:48.583183 4544058816 feedforward_robust.py:884] Epoch: 0069    cost: 0.558043540 \n",
      "Accuracy on batch: 1.000000\n",
      "I0627 23:19:48.584679 4544058816 feedforward_robust.py:885] Accuracy on batch: 1.000000\n",
      "Epoch: 0070    cost: 0.549205363 \n",
      "I0627 23:19:48.665212 4544058816 feedforward_robust.py:884] Epoch: 0070    cost: 0.549205363 \n",
      "Accuracy on batch: 1.000000\n",
      "I0627 23:19:48.666482 4544058816 feedforward_robust.py:885] Accuracy on batch: 1.000000\n",
      "Epoch: 0071    cost: 0.554876626 \n",
      "I0627 23:19:48.749148 4544058816 feedforward_robust.py:884] Epoch: 0071    cost: 0.554876626 \n",
      "Accuracy on batch: 1.000000\n",
      "I0627 23:19:48.750518 4544058816 feedforward_robust.py:885] Accuracy on batch: 1.000000\n",
      "Epoch: 0072    cost: 0.546300054 \n",
      "I0627 23:19:48.833806 4544058816 feedforward_robust.py:884] Epoch: 0072    cost: 0.546300054 \n",
      "Accuracy on batch: 1.000000\n",
      "I0627 23:19:48.835386 4544058816 feedforward_robust.py:885] Accuracy on batch: 1.000000\n",
      "Epoch: 0073    cost: 0.535304129 \n",
      "I0627 23:19:48.917824 4544058816 feedforward_robust.py:884] Epoch: 0073    cost: 0.535304129 \n",
      "Accuracy on batch: 1.000000\n",
      "I0627 23:19:48.919205 4544058816 feedforward_robust.py:885] Accuracy on batch: 1.000000\n",
      "Epoch: 0074    cost: 0.536515236 \n",
      "I0627 23:19:49.004578 4544058816 feedforward_robust.py:884] Epoch: 0074    cost: 0.536515236 \n",
      "Accuracy on batch: 1.000000\n",
      "I0627 23:19:49.005862 4544058816 feedforward_robust.py:885] Accuracy on batch: 1.000000\n",
      "Epoch: 0075    cost: 0.526411057 \n",
      "I0627 23:19:49.093573 4544058816 feedforward_robust.py:884] Epoch: 0075    cost: 0.526411057 \n",
      "Accuracy on batch: 1.000000\n",
      "I0627 23:19:49.095165 4544058816 feedforward_robust.py:885] Accuracy on batch: 1.000000\n",
      "Epoch: 0076    cost: 0.519024134 \n",
      "I0627 23:19:49.178469 4544058816 feedforward_robust.py:884] Epoch: 0076    cost: 0.519024134 \n",
      "Accuracy on batch: 1.000000\n",
      "I0627 23:19:49.180026 4544058816 feedforward_robust.py:885] Accuracy on batch: 1.000000\n",
      "Epoch: 0077    cost: 0.515734971 \n",
      "I0627 23:19:49.263685 4544058816 feedforward_robust.py:884] Epoch: 0077    cost: 0.515734971 \n",
      "Accuracy on batch: 1.000000\n",
      "I0627 23:19:49.265072 4544058816 feedforward_robust.py:885] Accuracy on batch: 1.000000\n",
      "Epoch: 0078    cost: 0.521393061 \n",
      "I0627 23:19:49.349192 4544058816 feedforward_robust.py:884] Epoch: 0078    cost: 0.521393061 \n",
      "Accuracy on batch: 1.000000\n",
      "I0627 23:19:49.351139 4544058816 feedforward_robust.py:885] Accuracy on batch: 1.000000\n",
      "Epoch: 0079    cost: 0.514626622 \n",
      "I0627 23:19:49.437927 4544058816 feedforward_robust.py:884] Epoch: 0079    cost: 0.514626622 \n",
      "Accuracy on batch: 1.000000\n",
      "I0627 23:19:49.439425 4544058816 feedforward_robust.py:885] Accuracy on batch: 1.000000\n",
      "Epoch: 0080    cost: 0.514508724 \n",
      "I0627 23:19:49.524751 4544058816 feedforward_robust.py:884] Epoch: 0080    cost: 0.514508724 \n",
      "Accuracy on batch: 1.000000\n",
      "I0627 23:19:49.526155 4544058816 feedforward_robust.py:885] Accuracy on batch: 1.000000\n",
      "Epoch: 0081    cost: 0.508146346 \n",
      "I0627 23:19:49.608659 4544058816 feedforward_robust.py:884] Epoch: 0081    cost: 0.508146346 \n",
      "Accuracy on batch: 1.000000\n",
      "I0627 23:19:49.610073 4544058816 feedforward_robust.py:885] Accuracy on batch: 1.000000\n",
      "Epoch: 0082    cost: 0.506888866 \n",
      "I0627 23:19:49.693016 4544058816 feedforward_robust.py:884] Epoch: 0082    cost: 0.506888866 \n",
      "Accuracy on batch: 1.000000\n",
      "I0627 23:19:49.694728 4544058816 feedforward_robust.py:885] Accuracy on batch: 1.000000\n",
      "Epoch: 0083    cost: 0.497489005 \n",
      "I0627 23:19:49.777791 4544058816 feedforward_robust.py:884] Epoch: 0083    cost: 0.497489005 \n",
      "Accuracy on batch: 1.000000\n",
      "I0627 23:19:49.779299 4544058816 feedforward_robust.py:885] Accuracy on batch: 1.000000\n",
      "Epoch: 0084    cost: 0.495742142 \n",
      "I0627 23:19:49.857149 4544058816 feedforward_robust.py:884] Epoch: 0084    cost: 0.495742142 \n",
      "Accuracy on batch: 1.000000\n",
      "I0627 23:19:49.858666 4544058816 feedforward_robust.py:885] Accuracy on batch: 1.000000\n",
      "Epoch: 0085    cost: 0.490950823 \n",
      "I0627 23:19:49.939226 4544058816 feedforward_robust.py:884] Epoch: 0085    cost: 0.490950823 \n",
      "Accuracy on batch: 1.000000\n",
      "I0627 23:19:49.940729 4544058816 feedforward_robust.py:885] Accuracy on batch: 1.000000\n",
      "Epoch: 0086    cost: 0.477130294 \n",
      "I0627 23:19:50.021498 4544058816 feedforward_robust.py:884] Epoch: 0086    cost: 0.477130294 \n",
      "Accuracy on batch: 1.000000\n",
      "I0627 23:19:50.022778 4544058816 feedforward_robust.py:885] Accuracy on batch: 1.000000\n",
      "Epoch: 0087    cost: 0.483395308 \n",
      "I0627 23:19:50.119876 4544058816 feedforward_robust.py:884] Epoch: 0087    cost: 0.483395308 \n",
      "Accuracy on batch: 1.000000\n",
      "I0627 23:19:50.121349 4544058816 feedforward_robust.py:885] Accuracy on batch: 1.000000\n",
      "Epoch: 0088    cost: 0.471980631 \n",
      "I0627 23:19:50.199587 4544058816 feedforward_robust.py:884] Epoch: 0088    cost: 0.471980631 \n",
      "Accuracy on batch: 1.000000\n",
      "I0627 23:19:50.200716 4544058816 feedforward_robust.py:885] Accuracy on batch: 1.000000\n",
      "Epoch: 0089    cost: 0.472205043 \n",
      "I0627 23:19:50.278468 4544058816 feedforward_robust.py:884] Epoch: 0089    cost: 0.472205043 \n",
      "Accuracy on batch: 1.000000\n",
      "I0627 23:19:50.279611 4544058816 feedforward_robust.py:885] Accuracy on batch: 1.000000\n",
      "Epoch: 0090    cost: 0.466470778 \n",
      "I0627 23:19:50.358758 4544058816 feedforward_robust.py:884] Epoch: 0090    cost: 0.466470778 \n",
      "Accuracy on batch: 1.000000\n",
      "I0627 23:19:50.359870 4544058816 feedforward_robust.py:885] Accuracy on batch: 1.000000\n",
      "Epoch: 0091    cost: 0.467784047 \n",
      "I0627 23:19:50.450609 4544058816 feedforward_robust.py:884] Epoch: 0091    cost: 0.467784047 \n",
      "Accuracy on batch: 1.000000\n",
      "I0627 23:19:50.452095 4544058816 feedforward_robust.py:885] Accuracy on batch: 1.000000\n",
      "Epoch: 0092    cost: 0.463219672 \n",
      "I0627 23:19:50.529892 4544058816 feedforward_robust.py:884] Epoch: 0092    cost: 0.463219672 \n",
      "Accuracy on batch: 1.000000\n",
      "I0627 23:19:50.531111 4544058816 feedforward_robust.py:885] Accuracy on batch: 1.000000\n",
      "Epoch: 0093    cost: 0.447092414 \n",
      "I0627 23:19:50.611173 4544058816 feedforward_robust.py:884] Epoch: 0093    cost: 0.447092414 \n",
      "Accuracy on batch: 1.000000\n",
      "I0627 23:19:50.612323 4544058816 feedforward_robust.py:885] Accuracy on batch: 1.000000\n",
      "Epoch: 0094    cost: 0.449459195 \n",
      "I0627 23:19:50.689416 4544058816 feedforward_robust.py:884] Epoch: 0094    cost: 0.449459195 \n",
      "Accuracy on batch: 1.000000\n",
      "I0627 23:19:50.690672 4544058816 feedforward_robust.py:885] Accuracy on batch: 1.000000\n",
      "Epoch: 0095    cost: 0.447042018 \n",
      "I0627 23:19:50.767233 4544058816 feedforward_robust.py:884] Epoch: 0095    cost: 0.447042018 \n",
      "Accuracy on batch: 1.000000\n",
      "I0627 23:19:50.768294 4544058816 feedforward_robust.py:885] Accuracy on batch: 1.000000\n",
      "Epoch: 0096    cost: 0.433832347 \n",
      "I0627 23:19:50.844452 4544058816 feedforward_robust.py:884] Epoch: 0096    cost: 0.433832347 \n",
      "Accuracy on batch: 1.000000\n",
      "I0627 23:19:50.845642 4544058816 feedforward_robust.py:885] Accuracy on batch: 1.000000\n",
      "Epoch: 0097    cost: 0.438407362 \n",
      "I0627 23:19:50.929887 4544058816 feedforward_robust.py:884] Epoch: 0097    cost: 0.438407362 \n",
      "Accuracy on batch: 1.000000\n",
      "I0627 23:19:50.931225 4544058816 feedforward_robust.py:885] Accuracy on batch: 1.000000\n",
      "Epoch: 0098    cost: 0.417677701 \n",
      "I0627 23:19:51.021189 4544058816 feedforward_robust.py:884] Epoch: 0098    cost: 0.417677701 \n",
      "Accuracy on batch: 1.000000\n",
      "I0627 23:19:51.022940 4544058816 feedforward_robust.py:885] Accuracy on batch: 1.000000\n",
      "Epoch: 0099    cost: 0.432245702 \n",
      "I0627 23:19:51.105118 4544058816 feedforward_robust.py:884] Epoch: 0099    cost: 0.432245702 \n",
      "Accuracy on batch: 1.000000\n",
      "I0627 23:19:51.107309 4544058816 feedforward_robust.py:885] Accuracy on batch: 1.000000\n",
      "Epoch: 0100    cost: 0.418264896 \n",
      "I0627 23:19:51.189516 4544058816 feedforward_robust.py:884] Epoch: 0100    cost: 0.418264896 \n",
      "Accuracy on batch: 1.000000\n",
      "I0627 23:19:51.190742 4544058816 feedforward_robust.py:885] Accuracy on batch: 1.000000\n"
     ]
    },
    {
     "name": "stderr",
     "output_type": "stream",
     "text": [
      "Optimization Finished!\n",
      "I0627 23:19:51.191627 4544058816 feedforward_robust.py:886] Optimization Finished!\n",
      "Final Train Loss 0.273602\n",
      "I0627 23:19:51.225061 4544058816 feedforward_robust.py:894] Final Train Loss 0.273602\n",
      "Final Train Accuracy 1.000000:\n",
      "I0627 23:19:51.226515 4544058816 feedforward_robust.py:895] Final Train Accuracy 1.000000:\n",
      "Model was evaluated on benign data\n",
      "I0627 23:19:51.233026 4544058816 feedforward_robust.py:662] Model was evaluated on benign data\n"
     ]
    },
    {
     "name": "stdout",
     "output_type": "stream",
     "text": [
      "----Regular loss and accuracy ----\n",
      "(0.2862184, 0.9592)\n"
     ]
    }
   ],
   "source": [
    "#Setup - Dataset stuff\n",
    "tf.reset_default_graph()\n",
    "sess = tf.Session()\n",
    "hidden_sizes = [64, 64, 32]\n",
    "dataset = ((x_train, y_train), (x_test, y_test))\n",
    "\n",
    "scope_name = \"visualize_one_dim\"\n",
    "if not load_weights:\n",
    "    with tf.variable_scope(scope_name, reuse = False) as scope:\n",
    "\n",
    "        logdir = tensorboard_dir + str(counter)\n",
    "\n",
    "        #Create model\n",
    "        writer = tf.summary.FileWriter(logdir)\n",
    "        model = ffr.RobustMLP(input_shape, hidden_sizes, num_classes, writer = writer, scope = scope_name, logger = logger, sigma = sigma)\n",
    "        sess.run(tf.global_variables_initializer())\n",
    "        print(\"Created model successfully. Now going to train\")\n",
    "    \n",
    "        #Train model\n",
    "        preds_list = model.pgd_fit(sess, x_train, y_train, eps_train, pgd_eta, pgd_num_iter, training_epochs = epochs, lr = lr, batch_size = batch_size, x_test = x_test)\n",
    "        \n",
    "        cross_loss, cross_acc = model.evaluate(sess, x_test, y_test)\n",
    "        print(\"----Regular loss and accuracy ----\")\n",
    "        print((cross_loss, cross_acc))\n",
    "        \n",
    "        \"\"\"\n",
    "        #cross_margins = model.get_pointwise_margin(sess, x_train, y_train)\n",
    "        cross_weight_norms = model.get_weight_norms(sess)\n",
    "        print(\"----- Weight norms ----\")\n",
    "        print(cross_weight_norms)\n",
    "        \n",
    "        #Test model - regular, fgsm adv, pgd adv\n",
    "\n",
    "        \n",
    "        cross_confidences = model.get_prediction(sess, x_test_flat)\n",
    "        \n",
    "        cross_spectral = model.get_spectral_norm(sess)\n",
    "        \"\"\""
   ]
  },
  {
   "cell_type": "code",
   "execution_count": 11,
   "metadata": {},
   "outputs": [],
   "source": [
    "preds_list = np.array(preds_list)"
   ]
  },
  {
   "cell_type": "code",
   "execution_count": 12,
   "metadata": {},
   "outputs": [
    {
     "data": {
      "text/plain": [
       "(100, 10000, 2)"
      ]
     },
     "execution_count": 12,
     "metadata": {},
     "output_type": "execute_result"
    }
   ],
   "source": [
    "preds_list.shape"
   ]
  },
  {
   "cell_type": "code",
   "execution_count": 13,
   "metadata": {},
   "outputs": [
    {
     "data": {
      "text/plain": [
       "array([[ 0.7640499 , -1.0708977 ],\n",
       "       [ 0.7639263 , -1.0707206 ],\n",
       "       [ 0.76380277, -1.0705433 ],\n",
       "       ...,\n",
       "       [-1.5219764 ,  0.803022  ],\n",
       "       [-1.5221951 ,  0.80313253],\n",
       "       [-1.5224136 ,  0.80324304]], dtype=float32)"
      ]
     },
     "execution_count": 13,
     "metadata": {},
     "output_type": "execute_result"
    }
   ],
   "source": [
    "preds_list[-1]"
   ]
  },
  {
   "cell_type": "markdown",
   "metadata": {},
   "source": [
    "# Processing learned func and plotting"
   ]
  },
  {
   "cell_type": "code",
   "execution_count": 14,
   "metadata": {},
   "outputs": [],
   "source": [
    "def flatten_single_pred(preds_single_epoch):\n",
    "    preds_new = [preds[1] - preds[0] for preds in preds_single_epoch]\n",
    "    return preds_new"
   ]
  },
  {
   "cell_type": "code",
   "execution_count": 15,
   "metadata": {},
   "outputs": [],
   "source": [
    "preds_list_flat = [flatten_single_pred(pse) for pse in preds_list]"
   ]
  },
  {
   "cell_type": "code",
   "execution_count": 16,
   "metadata": {},
   "outputs": [
    {
     "data": {
      "text/plain": [
       "(100, 10000)"
      ]
     },
     "execution_count": 16,
     "metadata": {},
     "output_type": "execute_result"
    }
   ],
   "source": [
    "preds_list_flat = np.array(preds_list_flat)\n",
    "preds_list_flat.shape"
   ]
  },
  {
   "cell_type": "code",
   "execution_count": 17,
   "metadata": {},
   "outputs": [
    {
     "data": {
      "text/plain": [
       "(100,)"
      ]
     },
     "execution_count": 17,
     "metadata": {},
     "output_type": "execute_result"
    }
   ],
   "source": [
    "preds_means = np.mean(np.abs(preds_list_flat), axis = 1)\n",
    "preds_means.shape"
   ]
  },
  {
   "cell_type": "code",
   "execution_count": 18,
   "metadata": {},
   "outputs": [
    {
     "data": {
      "text/plain": [
       "array([0.04292129, 0.05089511, 0.05871561, 0.06643735, 0.07406236,\n",
       "       0.08164798, 0.08914753, 0.09664769, 0.10433348, 0.11219879,\n",
       "       0.1201096 , 0.12807259, 0.13603623, 0.14404115, 0.15205447,\n",
       "       0.16011983, 0.16828234, 0.17639501, 0.18445505, 0.19245765,\n",
       "       0.20041467, 0.20837109, 0.21639599, 0.22449476, 0.2327218 ,\n",
       "       0.2411423 , 0.24972813, 0.2583993 , 0.2671798 , 0.2760212 ,\n",
       "       0.2849485 , 0.29396492, 0.3030814 , 0.31225723, 0.321427  ,\n",
       "       0.33052194, 0.33969513, 0.3490252 , 0.35847762, 0.36803344,\n",
       "       0.37770817, 0.38749692, 0.39739472, 0.40741023, 0.4175338 ,\n",
       "       0.42782813, 0.43825057, 0.4487909 , 0.4594624 , 0.47027862,\n",
       "       0.48122948, 0.49235135, 0.50362456, 0.51510173, 0.5267689 ,\n",
       "       0.5385845 , 0.5505818 , 0.56275743, 0.5751042 , 0.5876717 ,\n",
       "       0.60041064, 0.61333275, 0.62647706, 0.63980633, 0.6533737 ,\n",
       "       0.66712123, 0.68107706, 0.695163  , 0.70939094, 0.7238015 ,\n",
       "       0.73835135, 0.7530839 , 0.76804924, 0.78324497, 0.79872143,\n",
       "       0.81447655, 0.8305055 , 0.8467678 , 0.8632852 , 0.8800555 ,\n",
       "       0.8970249 , 0.91417015, 0.93153477, 0.94911087, 0.9669137 ,\n",
       "       0.98495   , 1.0031906 , 1.0216721 , 1.0403975 , 1.0593344 ,\n",
       "       1.0784596 , 1.0977576 , 1.1173037 , 1.137035  , 1.1569498 ,\n",
       "       1.177087  , 1.1973728 , 1.2178915 , 1.2384748 , 1.2592224 ],\n",
       "      dtype=float32)"
      ]
     },
     "execution_count": 18,
     "metadata": {},
     "output_type": "execute_result"
    }
   ],
   "source": [
    "preds_means"
   ]
  },
  {
   "cell_type": "code",
   "execution_count": 19,
   "metadata": {},
   "outputs": [
    {
     "data": {
      "text/plain": [
       "(10000,)"
      ]
     },
     "execution_count": 19,
     "metadata": {},
     "output_type": "execute_result"
    }
   ],
   "source": [
    "final_preds = preds_list_flat[-1]\n",
    "final_preds.shape"
   ]
  },
  {
   "cell_type": "code",
   "execution_count": 20,
   "metadata": {},
   "outputs": [
    {
     "data": {
      "text/plain": [
       "(5, 10000)"
      ]
     },
     "execution_count": 20,
     "metadata": {},
     "output_type": "execute_result"
    }
   ],
   "source": [
    "indices = np.arange(0, 100, 20)\n",
    "preds_list_smaller = preds_list_flat[indices]\n",
    "preds_list_smaller.shape"
   ]
  },
  {
   "cell_type": "code",
   "execution_count": 21,
   "metadata": {},
   "outputs": [
    {
     "data": {
      "text/plain": [
       "<matplotlib.legend.Legend at 0x13facdda0>"
      ]
     },
     "execution_count": 21,
     "metadata": {},
     "output_type": "execute_result"
    },
    {
     "data": {
      "image/png": "[encoded data removed]",
      "text/plain": [
       "<Figure size 432x288 with 1 Axes>"
      ]
     },
     "metadata": {
      "needs_background": "light"
     },
     "output_type": "display_data"
    }
   ],
   "source": [
    "plt.plot(x_train, y_train_ogi.flatten(),  color = \"blue\", linewidth=0, marker=\"D\", markersize=5, label = 'Train data', alpha = 0.75 )\n",
    "\n",
    "for (idx, preds) in enumerate(preds_list_smaller):\n",
    "    label = \"Iteration: \" + str(indices[idx])\n",
    "    plt.plot(x_test, preds,'-', marker = 'x', markersize = 0, linewidth = 1.5, label = label)\n",
    "\n",
    "plt.legend()"
   ]
  },
  {
   "cell_type": "code",
   "execution_count": null,
   "metadata": {},
   "outputs": [],
   "source": []
  }
 ],
 "metadata": {
  "kernelspec": {
   "display_name": "Python 3",
   "language": "python",
   "name": "python3"
  },
  "language_info": {
   "codemirror_mode": {
    "name": "ipython",
    "version": 3
   },
   "file_extension": ".py",
   "mimetype": "text/x-python",
   "name": "python",
   "nbconvert_exporter": "python",
   "pygments_lexer": "ipython3",
   "version": "3.7.7"
  }
 },
 "nbformat": 4,
 "nbformat_minor": 4
}

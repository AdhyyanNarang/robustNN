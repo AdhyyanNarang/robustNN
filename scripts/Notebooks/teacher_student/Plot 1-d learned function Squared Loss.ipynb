{
 "cells": [
  {
   "cell_type": "code",
   "execution_count": 1,
   "metadata": {},
   "outputs": [
    {
     "name": "stderr",
     "output_type": "stream",
     "text": [
      "Using TensorFlow backend.\n",
      "WARNING: Logging before flag parsing goes to stderr.\n",
      "W0719 18:52:49.100851 4407242176 deprecation_wrapper.py:119] From /usr/local/lib/python3.7/site-packages/cleverhans/utils_tf.py:341: The name tf.GraphKeys is deprecated. Please use tf.compat.v1.GraphKeys instead.\n",
      "\n"
     ]
    }
   ],
   "source": [
    "#Imports\n",
    "import logging\n",
    "import os, random, time, sys\n",
    "import numpy as np\n",
    "import tensorflow as tf\n",
    "import tensorflow.contrib.layers as layers\n",
    "import ipdb\n",
    "import keras\n",
    "import pandas as pd\n",
    "\n",
    "sys.path.append('../../../')\n",
    "import feedforward_robust as ffr\n",
    "\n",
    "sys.path.append('../../../utils/')\n",
    "from utils.mnist_corruption import *\n",
    "from utils.utils_models import *\n",
    "from utils.utils_analysis import *\n",
    "from utils.utils_feedforward import *\n",
    "\n",
    "%load_ext autoreload\n",
    "%autoreload 2\n",
    "\n",
    "#Read the counter\n",
    "ctr_file = \"../../counter.txt\"\n",
    "f = open(ctr_file, 'r')\n",
    "counter = f.readline()\n",
    "f.close()\n",
    "\n",
    "counter = 1 + int(counter)\n",
    "f = open(ctr_file,'w')\n",
    "f.write('{}'.format(counter))\n",
    "f.close()\n",
    "logfile = \"../../logs/results_\" + str(counter) + \".log\"\n",
    "\n",
    "logger = logging.getLogger(\"robustness\")\n",
    "logger.setLevel(logging.DEBUG)\n",
    "fh = logging.FileHandler(logfile)\n",
    "fh.setLevel(logging.INFO)\n",
    "formatter = logging.Formatter('%(asctime)s - %(name)s - %(levelname)s - %(message)s')\n",
    "fh.setFormatter(formatter)\n",
    "logger.addHandler(fh)\n",
    "logger.addHandler(logging.StreamHandler())"
   ]
  },
  {
   "cell_type": "markdown",
   "metadata": {},
   "source": [
    "# Get Raw Training Data"
   ]
  },
  {
   "cell_type": "code",
   "execution_count": 2,
   "metadata": {},
   "outputs": [],
   "source": [
    "n = 8\n",
    "n_test = 10000\n",
    "x_train = np.linspace(-1, 1-(2)/n, n).astype(np.float64)\n",
    "x_test = np.linspace(-1, 1-(2)/n_test, n_test).astype(np.float64)\n",
    "x_train = x_train.reshape((n, 1))\n",
    "x_test = x_test.reshape((n_test, 1))"
   ]
  },
  {
   "cell_type": "code",
   "execution_count": 3,
   "metadata": {},
   "outputs": [],
   "source": [
    "y_train = np.sign(x_train).astype(np.int)\n",
    "y_train[y_train==0] = 1\n",
    "y_train_ogi = y_train.copy()\n",
    "y_train[y_train==-1] = 0\n",
    "\n",
    "y_test = np.sign(x_test).astype(np.int)\n",
    "y_test[y_test==0] = 1\n",
    "y_test[y_test==-1] = 0"
   ]
  },
  {
   "cell_type": "code",
   "execution_count": 4,
   "metadata": {},
   "outputs": [],
   "source": [
    "y_train = y_train.flatten()\n",
    "y_test = y_test.flatten()"
   ]
  },
  {
   "cell_type": "code",
   "execution_count": 5,
   "metadata": {},
   "outputs": [],
   "source": [
    "num_classes = 2\n",
    "y_train = keras.utils.to_categorical(y_train, num_classes)                                                                                         \n",
    "y_test = keras.utils.to_categorical(y_test, num_classes)"
   ]
  },
  {
   "cell_type": "code",
   "execution_count": 6,
   "metadata": {},
   "outputs": [
    {
     "data": {
      "text/plain": [
       "array([[1., 0.],\n",
       "       [1., 0.],\n",
       "       [1., 0.],\n",
       "       [1., 0.],\n",
       "       [0., 1.],\n",
       "       [0., 1.],\n",
       "       [0., 1.],\n",
       "       [0., 1.]], dtype=float32)"
      ]
     },
     "execution_count": 6,
     "metadata": {},
     "output_type": "execute_result"
    }
   ],
   "source": [
    "y_train"
   ]
  },
  {
   "cell_type": "code",
   "execution_count": 7,
   "metadata": {},
   "outputs": [
    {
     "data": {
      "text/plain": [
       "array([[1., 0.],\n",
       "       [1., 0.],\n",
       "       [1., 0.],\n",
       "       [1., 0.],\n",
       "       [1., 0.],\n",
       "       [1., 0.],\n",
       "       [1., 0.],\n",
       "       [1., 0.],\n",
       "       [1., 0.],\n",
       "       [1., 0.]], dtype=float32)"
      ]
     },
     "execution_count": 7,
     "metadata": {},
     "output_type": "execute_result"
    }
   ],
   "source": [
    "y_test[:10]"
   ]
  },
  {
   "cell_type": "code",
   "execution_count": 8,
   "metadata": {},
   "outputs": [
    {
     "data": {
      "text/plain": [
       "array([[0., 1.],\n",
       "       [0., 1.],\n",
       "       [0., 1.],\n",
       "       [0., 1.],\n",
       "       [0., 1.],\n",
       "       [0., 1.],\n",
       "       [0., 1.],\n",
       "       [0., 1.],\n",
       "       [0., 1.],\n",
       "       [0., 1.]], dtype=float32)"
      ]
     },
     "execution_count": 8,
     "metadata": {},
     "output_type": "execute_result"
    }
   ],
   "source": [
    "y_test[-10:]"
   ]
  },
  {
   "cell_type": "markdown",
   "metadata": {},
   "source": [
    "# Train neural network"
   ]
  },
  {
   "cell_type": "code",
   "execution_count": 9,
   "metadata": {},
   "outputs": [],
   "source": [
    "#Configurations\n",
    "eps_train = None                                                                                                                            \n",
    "eps_test = None \n",
    "pgd_eta, pgd_num_iter = 1e-2, 50\n",
    "tensorboard_dir = \"../tb/\"                                                                                                                \n",
    "weights_dir = \"../weights/\"\n",
    "load_weights = False                                                                                                              \n",
    "load_counter = None                                                                                                            \n",
    "input_shape = (1,)\n",
    "\n",
    "\n",
    "sigma = tf.nn.relu \n",
    "epochs, reg, lr, batch_size = 100, 0.00, 3e-2, 8 # Will have to experiment with learning rate a bit.                                                                                              "
   ]
  },
  {
   "cell_type": "code",
   "execution_count": 10,
   "metadata": {},
   "outputs": [
    {
     "name": "stderr",
     "output_type": "stream",
     "text": [
      "Initialized instance variables of the robust model class\n",
      "I0719 18:52:50.258299 4407242176 feedforward_robust.py:32] Initialized instance variables of the robust model class\n",
      "W0719 18:52:50.259621 4407242176 deprecation_wrapper.py:119] From ../../../feedforward_robust.py:36: The name tf.placeholder is deprecated. Please use tf.compat.v1.placeholder instead.\n",
      "\n",
      "Created placeholders for x and y\n",
      "I0719 18:52:50.269532 4407242176 feedforward_robust.py:40] Created placeholders for x and y\n",
      "W0719 18:52:50.272250 4407242176 deprecation_wrapper.py:119] From ../../../utils/utils_feedforward.py:34: The name tf.variable_scope is deprecated. Please use tf.compat.v1.variable_scope instead.\n",
      "\n",
      "W0719 18:52:50.272954 4407242176 deprecation_wrapper.py:119] From ../../../utils/utils_feedforward.py:34: The name tf.AUTO_REUSE is deprecated. Please use tf.compat.v1.AUTO_REUSE instead.\n",
      "\n",
      "W0719 18:52:50.273982 4407242176 deprecation_wrapper.py:119] From ../../../utils/utils_feedforward.py:36: The name tf.get_variable is deprecated. Please use tf.compat.v1.get_variable instead.\n",
      "\n",
      "W0719 18:52:50.298951 4407242176 deprecation_wrapper.py:119] From ../../../utils/utils_feedforward.py:40: The name tf.summary.histogram is deprecated. Please use tf.compat.v1.summary.histogram instead.\n",
      "\n",
      "Created layers and tensor for logits\n",
      "I0719 18:52:50.374620 4407242176 feedforward_robust.py:44] Created layers and tensor for logits\n",
      "Added accuracy computation to the graph\n",
      "I0719 18:52:50.382133 4407242176 feedforward_robust.py:48] Added accuracy computation to the graph\n",
      "W0719 18:52:50.383108 4407242176 deprecation_wrapper.py:119] From ../../../feedforward_robust.py:49: The name tf.summary.scalar is deprecated. Please use tf.compat.v1.summary.scalar instead.\n",
      "\n",
      "Added MSE loss computation to the graph\n",
      "I0719 18:52:50.391259 4407242176 feedforward_robust.py:60] Added MSE loss computation to the graph\n",
      "Model graph was created\n",
      "I0719 18:52:50.393038 4407242176 feedforward_robust.py:62] Model graph was created\n",
      "W0719 18:52:50.394762 4407242176 deprecation_wrapper.py:119] From ../../../feedforward_robust.py:63: The name tf.summary.merge_all is deprecated. Please use tf.compat.v1.summary.merge_all instead.\n",
      "\n",
      "W0719 18:52:50.458255 4407242176 deprecation_wrapper.py:119] From ../../../utils/utils_feedforward.py:78: The name tf.linalg.transpose is deprecated. Please use tf.linalg.matrix_transpose instead.\n",
      "\n",
      "W0719 18:52:50.514500 4407242176 deprecation.py:323] From ../../../feedforward_robust.py:790: all_variables (from tensorflow.python.ops.variables) is deprecated and will be removed after 2017-03-02.\n",
      "Instructions for updating:\n",
      "Please use tf.global_variables instead.\n",
      "W0719 18:52:50.515369 4407242176 deprecation_wrapper.py:119] From ../../../feedforward_robust.py:791: The name tf.train.AdamOptimizer is deprecated. Please use tf.compat.v1.train.AdamOptimizer instead.\n",
      "\n"
     ]
    },
    {
     "name": "stdout",
     "output_type": "stream",
     "text": [
      "Created model successfully. Now going to train\n"
     ]
    },
    {
     "name": "stderr",
     "output_type": "stream",
     "text": [
      "W0719 18:52:50.948482 4407242176 deprecation.py:323] From /usr/local/lib/python3.7/site-packages/tensorflow/python/util/tf_should_use.py:193: initialize_variables (from tensorflow.python.ops.variables) is deprecated and will be removed after 2017-03-02.\n",
      "Instructions for updating:\n",
      "Use `tf.variables_initializer` instead.\n",
      "Epoch: 0001    cost: 0.440991700 \n",
      "I0719 18:52:51.201318 4407242176 feedforward_robust.py:763] Epoch: 0001    cost: 0.440991700 \n",
      "Accuracy on batch: 0.375000\n",
      "I0719 18:52:51.204998 4407242176 feedforward_robust.py:764] Accuracy on batch: 0.375000\n",
      "Epoch: 0002    cost: 0.265166789 \n",
      "I0719 18:52:51.218847 4407242176 feedforward_robust.py:763] Epoch: 0002    cost: 0.265166789 \n",
      "Accuracy on batch: 0.500000\n",
      "I0719 18:52:51.222187 4407242176 feedforward_robust.py:764] Accuracy on batch: 0.500000\n",
      "Epoch: 0003    cost: 0.239867151 \n",
      "I0719 18:52:51.239125 4407242176 feedforward_robust.py:763] Epoch: 0003    cost: 0.239867151 \n",
      "Accuracy on batch: 0.500000\n",
      "I0719 18:52:51.241392 4407242176 feedforward_robust.py:764] Accuracy on batch: 0.500000\n",
      "Epoch: 0004    cost: 0.163479522 \n",
      "I0719 18:52:51.265735 4407242176 feedforward_robust.py:763] Epoch: 0004    cost: 0.163479522 \n",
      "Accuracy on batch: 1.000000\n",
      "I0719 18:52:51.268039 4407242176 feedforward_robust.py:764] Accuracy on batch: 1.000000\n",
      "Epoch: 0005    cost: 0.151150942 \n",
      "I0719 18:52:51.301053 4407242176 feedforward_robust.py:763] Epoch: 0005    cost: 0.151150942 \n",
      "Accuracy on batch: 1.000000\n",
      "I0719 18:52:51.305995 4407242176 feedforward_robust.py:764] Accuracy on batch: 1.000000\n",
      "Epoch: 0006    cost: 0.128933221 \n",
      "I0719 18:52:51.342065 4407242176 feedforward_robust.py:763] Epoch: 0006    cost: 0.128933221 \n",
      "Accuracy on batch: 1.000000\n",
      "I0719 18:52:51.343439 4407242176 feedforward_robust.py:764] Accuracy on batch: 1.000000\n",
      "Epoch: 0007    cost: 0.121743731 \n",
      "I0719 18:52:51.353573 4407242176 feedforward_robust.py:763] Epoch: 0007    cost: 0.121743731 \n",
      "Accuracy on batch: 0.875000\n",
      "I0719 18:52:51.355354 4407242176 feedforward_robust.py:764] Accuracy on batch: 0.875000\n",
      "Epoch: 0008    cost: 0.091142856 \n",
      "I0719 18:52:51.366286 4407242176 feedforward_robust.py:763] Epoch: 0008    cost: 0.091142856 \n",
      "Accuracy on batch: 1.000000\n",
      "I0719 18:52:51.367610 4407242176 feedforward_robust.py:764] Accuracy on batch: 1.000000\n",
      "Epoch: 0009    cost: 0.079822570 \n",
      "I0719 18:52:51.381129 4407242176 feedforward_robust.py:763] Epoch: 0009    cost: 0.079822570 \n",
      "Accuracy on batch: 1.000000\n",
      "I0719 18:52:51.382663 4407242176 feedforward_robust.py:764] Accuracy on batch: 1.000000\n",
      "Epoch: 0010    cost: 0.081447966 \n",
      "I0719 18:52:51.394185 4407242176 feedforward_robust.py:763] Epoch: 0010    cost: 0.081447966 \n",
      "Accuracy on batch: 1.000000\n",
      "I0719 18:52:51.395483 4407242176 feedforward_robust.py:764] Accuracy on batch: 1.000000\n",
      "Epoch: 0011    cost: 0.063780822 \n",
      "I0719 18:52:51.406743 4407242176 feedforward_robust.py:763] Epoch: 0011    cost: 0.063780822 \n",
      "Accuracy on batch: 1.000000\n",
      "I0719 18:52:51.408444 4407242176 feedforward_robust.py:764] Accuracy on batch: 1.000000\n",
      "Epoch: 0012    cost: 0.050799049 \n",
      "I0719 18:52:51.421962 4407242176 feedforward_robust.py:763] Epoch: 0012    cost: 0.050799049 \n",
      "Accuracy on batch: 1.000000\n",
      "I0719 18:52:51.424591 4407242176 feedforward_robust.py:764] Accuracy on batch: 1.000000\n",
      "Epoch: 0013    cost: 0.047615919 \n",
      "I0719 18:52:51.438132 4407242176 feedforward_robust.py:763] Epoch: 0013    cost: 0.047615919 \n",
      "Accuracy on batch: 1.000000\n",
      "I0719 18:52:51.441583 4407242176 feedforward_robust.py:764] Accuracy on batch: 1.000000\n",
      "Epoch: 0014    cost: 0.038815334 \n",
      "I0719 18:52:51.452953 4407242176 feedforward_robust.py:763] Epoch: 0014    cost: 0.038815334 \n",
      "Accuracy on batch: 1.000000\n",
      "I0719 18:52:51.456654 4407242176 feedforward_robust.py:764] Accuracy on batch: 1.000000\n",
      "Epoch: 0015    cost: 0.029553667 \n",
      "I0719 18:52:51.467694 4407242176 feedforward_robust.py:763] Epoch: 0015    cost: 0.029553667 \n",
      "Accuracy on batch: 1.000000\n",
      "I0719 18:52:51.471436 4407242176 feedforward_robust.py:764] Accuracy on batch: 1.000000\n",
      "Epoch: 0016    cost: 0.028370757 \n",
      "I0719 18:52:51.485616 4407242176 feedforward_robust.py:763] Epoch: 0016    cost: 0.028370757 \n",
      "Accuracy on batch: 1.000000\n",
      "I0719 18:52:51.493136 4407242176 feedforward_robust.py:764] Accuracy on batch: 1.000000\n",
      "Epoch: 0017    cost: 0.022536570 \n",
      "I0719 18:52:51.508603 4407242176 feedforward_robust.py:763] Epoch: 0017    cost: 0.022536570 \n",
      "Accuracy on batch: 1.000000\n",
      "I0719 18:52:51.511718 4407242176 feedforward_robust.py:764] Accuracy on batch: 1.000000\n",
      "Epoch: 0018    cost: 0.015231904 \n",
      "I0719 18:52:51.522148 4407242176 feedforward_robust.py:763] Epoch: 0018    cost: 0.015231904 \n",
      "Accuracy on batch: 1.000000\n",
      "I0719 18:52:51.527101 4407242176 feedforward_robust.py:764] Accuracy on batch: 1.000000\n",
      "Epoch: 0019    cost: 0.014707142 \n",
      "I0719 18:52:51.539878 4407242176 feedforward_robust.py:763] Epoch: 0019    cost: 0.014707142 \n",
      "Accuracy on batch: 1.000000\n",
      "I0719 18:52:51.542735 4407242176 feedforward_robust.py:764] Accuracy on batch: 1.000000\n",
      "Epoch: 0020    cost: 0.009995269 \n",
      "I0719 18:52:51.553242 4407242176 feedforward_robust.py:763] Epoch: 0020    cost: 0.009995269 \n",
      "Accuracy on batch: 1.000000\n",
      "I0719 18:52:51.559418 4407242176 feedforward_robust.py:764] Accuracy on batch: 1.000000\n",
      "Epoch: 0021    cost: 0.009537274 \n",
      "I0719 18:52:51.572986 4407242176 feedforward_robust.py:763] Epoch: 0021    cost: 0.009537274 \n",
      "Accuracy on batch: 1.000000\n",
      "I0719 18:52:51.577064 4407242176 feedforward_robust.py:764] Accuracy on batch: 1.000000\n",
      "Epoch: 0022    cost: 0.009866271 \n",
      "I0719 18:52:51.589442 4407242176 feedforward_robust.py:763] Epoch: 0022    cost: 0.009866271 \n",
      "Accuracy on batch: 1.000000\n",
      "I0719 18:52:51.593701 4407242176 feedforward_robust.py:764] Accuracy on batch: 1.000000\n",
      "Epoch: 0023    cost: 0.005001696 \n",
      "I0719 18:52:51.605278 4407242176 feedforward_robust.py:763] Epoch: 0023    cost: 0.005001696 \n",
      "Accuracy on batch: 1.000000\n",
      "I0719 18:52:51.608803 4407242176 feedforward_robust.py:764] Accuracy on batch: 1.000000\n",
      "Epoch: 0024    cost: 0.005733475 \n",
      "I0719 18:52:51.624807 4407242176 feedforward_robust.py:763] Epoch: 0024    cost: 0.005733475 \n",
      "Accuracy on batch: 1.000000\n",
      "I0719 18:52:51.628581 4407242176 feedforward_robust.py:764] Accuracy on batch: 1.000000\n",
      "Epoch: 0025    cost: 0.005981879 \n",
      "I0719 18:52:51.640518 4407242176 feedforward_robust.py:763] Epoch: 0025    cost: 0.005981879 \n",
      "Accuracy on batch: 1.000000\n",
      "I0719 18:52:51.643677 4407242176 feedforward_robust.py:764] Accuracy on batch: 1.000000\n",
      "Epoch: 0026    cost: 0.004549173 \n",
      "I0719 18:52:51.656476 4407242176 feedforward_robust.py:763] Epoch: 0026    cost: 0.004549173 \n",
      "Accuracy on batch: 1.000000\n",
      "I0719 18:52:51.661242 4407242176 feedforward_robust.py:764] Accuracy on batch: 1.000000\n",
      "Epoch: 0027    cost: 0.006831577 \n",
      "I0719 18:52:51.677236 4407242176 feedforward_robust.py:763] Epoch: 0027    cost: 0.006831577 \n",
      "Accuracy on batch: 1.000000\n",
      "I0719 18:52:51.682507 4407242176 feedforward_robust.py:764] Accuracy on batch: 1.000000\n",
      "Epoch: 0028    cost: 0.005321436 \n",
      "I0719 18:52:51.696404 4407242176 feedforward_robust.py:763] Epoch: 0028    cost: 0.005321436 \n",
      "Accuracy on batch: 1.000000\n",
      "I0719 18:52:51.699496 4407242176 feedforward_robust.py:764] Accuracy on batch: 1.000000\n",
      "Epoch: 0029    cost: 0.004818238 \n",
      "I0719 18:52:51.716251 4407242176 feedforward_robust.py:763] Epoch: 0029    cost: 0.004818238 \n",
      "Accuracy on batch: 1.000000\n",
      "I0719 18:52:51.719959 4407242176 feedforward_robust.py:764] Accuracy on batch: 1.000000\n",
      "Epoch: 0030    cost: 0.005999146 \n",
      "I0719 18:52:51.734658 4407242176 feedforward_robust.py:763] Epoch: 0030    cost: 0.005999146 \n",
      "Accuracy on batch: 1.000000\n",
      "I0719 18:52:51.738672 4407242176 feedforward_robust.py:764] Accuracy on batch: 1.000000\n",
      "Epoch: 0031    cost: 0.004451875 \n",
      "I0719 18:52:51.749130 4407242176 feedforward_robust.py:763] Epoch: 0031    cost: 0.004451875 \n",
      "Accuracy on batch: 1.000000\n",
      "I0719 18:52:51.752025 4407242176 feedforward_robust.py:764] Accuracy on batch: 1.000000\n",
      "Epoch: 0032    cost: 0.005092426 \n",
      "I0719 18:52:51.762041 4407242176 feedforward_robust.py:763] Epoch: 0032    cost: 0.005092426 \n",
      "Accuracy on batch: 1.000000\n",
      "I0719 18:52:51.763849 4407242176 feedforward_robust.py:764] Accuracy on batch: 1.000000\n",
      "Epoch: 0033    cost: 0.004475058 \n",
      "I0719 18:52:51.773050 4407242176 feedforward_robust.py:763] Epoch: 0033    cost: 0.004475058 \n"
     ]
    },
    {
     "name": "stderr",
     "output_type": "stream",
     "text": [
      "Accuracy on batch: 1.000000\n",
      "I0719 18:52:51.775537 4407242176 feedforward_robust.py:764] Accuracy on batch: 1.000000\n",
      "Epoch: 0034    cost: 0.004261260 \n",
      "I0719 18:52:51.789011 4407242176 feedforward_robust.py:763] Epoch: 0034    cost: 0.004261260 \n",
      "Accuracy on batch: 1.000000\n",
      "I0719 18:52:51.793339 4407242176 feedforward_robust.py:764] Accuracy on batch: 1.000000\n",
      "Epoch: 0035    cost: 0.003912436 \n",
      "I0719 18:52:51.805674 4407242176 feedforward_robust.py:763] Epoch: 0035    cost: 0.003912436 \n",
      "Accuracy on batch: 1.000000\n",
      "I0719 18:52:51.809637 4407242176 feedforward_robust.py:764] Accuracy on batch: 1.000000\n",
      "Epoch: 0036    cost: 0.002894450 \n",
      "I0719 18:52:51.823801 4407242176 feedforward_robust.py:763] Epoch: 0036    cost: 0.002894450 \n",
      "Accuracy on batch: 1.000000\n",
      "I0719 18:52:51.827279 4407242176 feedforward_robust.py:764] Accuracy on batch: 1.000000\n",
      "Epoch: 0037    cost: 0.003283289 \n",
      "I0719 18:52:51.840390 4407242176 feedforward_robust.py:763] Epoch: 0037    cost: 0.003283289 \n",
      "Accuracy on batch: 1.000000\n",
      "I0719 18:52:51.844275 4407242176 feedforward_robust.py:764] Accuracy on batch: 1.000000\n",
      "Epoch: 0038    cost: 0.002558909 \n",
      "I0719 18:52:51.855321 4407242176 feedforward_robust.py:763] Epoch: 0038    cost: 0.002558909 \n",
      "Accuracy on batch: 1.000000\n",
      "I0719 18:52:51.861485 4407242176 feedforward_robust.py:764] Accuracy on batch: 1.000000\n",
      "Epoch: 0039    cost: 0.002594233 \n",
      "I0719 18:52:51.874411 4407242176 feedforward_robust.py:763] Epoch: 0039    cost: 0.002594233 \n",
      "Accuracy on batch: 1.000000\n",
      "I0719 18:52:51.878149 4407242176 feedforward_robust.py:764] Accuracy on batch: 1.000000\n",
      "Epoch: 0040    cost: 0.001789918 \n",
      "I0719 18:52:51.889189 4407242176 feedforward_robust.py:763] Epoch: 0040    cost: 0.001789918 \n",
      "Accuracy on batch: 1.000000\n",
      "I0719 18:52:51.893996 4407242176 feedforward_robust.py:764] Accuracy on batch: 1.000000\n",
      "Epoch: 0041    cost: 0.001663262 \n",
      "I0719 18:52:51.904093 4407242176 feedforward_robust.py:763] Epoch: 0041    cost: 0.001663262 \n",
      "Accuracy on batch: 1.000000\n",
      "I0719 18:52:51.907778 4407242176 feedforward_robust.py:764] Accuracy on batch: 1.000000\n",
      "Epoch: 0042    cost: 0.001436780 \n",
      "I0719 18:52:51.920737 4407242176 feedforward_robust.py:763] Epoch: 0042    cost: 0.001436780 \n",
      "Accuracy on batch: 1.000000\n",
      "I0719 18:52:51.922989 4407242176 feedforward_robust.py:764] Accuracy on batch: 1.000000\n",
      "Epoch: 0043    cost: 0.001033881 \n",
      "I0719 18:52:51.933754 4407242176 feedforward_robust.py:763] Epoch: 0043    cost: 0.001033881 \n",
      "Accuracy on batch: 1.000000\n",
      "I0719 18:52:51.937762 4407242176 feedforward_robust.py:764] Accuracy on batch: 1.000000\n",
      "Epoch: 0044    cost: 0.000926696 \n",
      "I0719 18:52:51.949019 4407242176 feedforward_robust.py:763] Epoch: 0044    cost: 0.000926696 \n",
      "Accuracy on batch: 1.000000\n",
      "I0719 18:52:51.950623 4407242176 feedforward_robust.py:764] Accuracy on batch: 1.000000\n",
      "Epoch: 0045    cost: 0.000436863 \n",
      "I0719 18:52:51.963737 4407242176 feedforward_robust.py:763] Epoch: 0045    cost: 0.000436863 \n",
      "Accuracy on batch: 1.000000\n",
      "I0719 18:52:51.967405 4407242176 feedforward_robust.py:764] Accuracy on batch: 1.000000\n",
      "Epoch: 0046    cost: 0.000641003 \n",
      "I0719 18:52:51.982264 4407242176 feedforward_robust.py:763] Epoch: 0046    cost: 0.000641003 \n",
      "Accuracy on batch: 1.000000\n",
      "I0719 18:52:51.983653 4407242176 feedforward_robust.py:764] Accuracy on batch: 1.000000\n",
      "Epoch: 0047    cost: 0.000348674 \n",
      "I0719 18:52:51.993879 4407242176 feedforward_robust.py:763] Epoch: 0047    cost: 0.000348674 \n",
      "Accuracy on batch: 1.000000\n",
      "I0719 18:52:51.995749 4407242176 feedforward_robust.py:764] Accuracy on batch: 1.000000\n",
      "Epoch: 0048    cost: 0.000326050 \n",
      "I0719 18:52:52.007725 4407242176 feedforward_robust.py:763] Epoch: 0048    cost: 0.000326050 \n",
      "Accuracy on batch: 1.000000\n",
      "I0719 18:52:52.010918 4407242176 feedforward_robust.py:764] Accuracy on batch: 1.000000\n",
      "Epoch: 0049    cost: 0.000202590 \n",
      "I0719 18:52:52.023135 4407242176 feedforward_robust.py:763] Epoch: 0049    cost: 0.000202590 \n",
      "Accuracy on batch: 1.000000\n",
      "I0719 18:52:52.026412 4407242176 feedforward_robust.py:764] Accuracy on batch: 1.000000\n",
      "Epoch: 0050    cost: 0.000169544 \n",
      "I0719 18:52:52.038024 4407242176 feedforward_robust.py:763] Epoch: 0050    cost: 0.000169544 \n",
      "Accuracy on batch: 1.000000\n",
      "I0719 18:52:52.039932 4407242176 feedforward_robust.py:764] Accuracy on batch: 1.000000\n",
      "Epoch: 0051    cost: 0.000153976 \n",
      "I0719 18:52:52.052310 4407242176 feedforward_robust.py:763] Epoch: 0051    cost: 0.000153976 \n",
      "Accuracy on batch: 1.000000\n",
      "I0719 18:52:52.057189 4407242176 feedforward_robust.py:764] Accuracy on batch: 1.000000\n",
      "Epoch: 0052    cost: 0.000109060 \n",
      "I0719 18:52:52.067813 4407242176 feedforward_robust.py:763] Epoch: 0052    cost: 0.000109060 \n",
      "Accuracy on batch: 1.000000\n",
      "I0719 18:52:52.070354 4407242176 feedforward_robust.py:764] Accuracy on batch: 1.000000\n",
      "Epoch: 0053    cost: 0.000149513 \n",
      "I0719 18:52:52.081626 4407242176 feedforward_robust.py:763] Epoch: 0053    cost: 0.000149513 \n",
      "Accuracy on batch: 1.000000\n",
      "I0719 18:52:52.082993 4407242176 feedforward_robust.py:764] Accuracy on batch: 1.000000\n",
      "Epoch: 0054    cost: 0.000134055 \n",
      "I0719 18:52:52.093242 4407242176 feedforward_robust.py:763] Epoch: 0054    cost: 0.000134055 \n",
      "Accuracy on batch: 1.000000\n",
      "I0719 18:52:52.095871 4407242176 feedforward_robust.py:764] Accuracy on batch: 1.000000\n",
      "Epoch: 0055    cost: 0.000153463 \n",
      "I0719 18:52:52.107499 4407242176 feedforward_robust.py:763] Epoch: 0055    cost: 0.000153463 \n",
      "Accuracy on batch: 1.000000\n",
      "I0719 18:52:52.110194 4407242176 feedforward_robust.py:764] Accuracy on batch: 1.000000\n",
      "Epoch: 0056    cost: 0.000185374 \n",
      "I0719 18:52:52.121689 4407242176 feedforward_robust.py:763] Epoch: 0056    cost: 0.000185374 \n",
      "Accuracy on batch: 1.000000\n",
      "I0719 18:52:52.128507 4407242176 feedforward_robust.py:764] Accuracy on batch: 1.000000\n",
      "Epoch: 0057    cost: 0.000173062 \n",
      "I0719 18:52:52.143452 4407242176 feedforward_robust.py:763] Epoch: 0057    cost: 0.000173062 \n",
      "Accuracy on batch: 1.000000\n",
      "I0719 18:52:52.146584 4407242176 feedforward_robust.py:764] Accuracy on batch: 1.000000\n",
      "Epoch: 0058    cost: 0.000224512 \n",
      "I0719 18:52:52.158501 4407242176 feedforward_robust.py:763] Epoch: 0058    cost: 0.000224512 \n",
      "Accuracy on batch: 1.000000\n",
      "I0719 18:52:52.160342 4407242176 feedforward_robust.py:764] Accuracy on batch: 1.000000\n",
      "Epoch: 0059    cost: 0.000185061 \n",
      "I0719 18:52:52.174207 4407242176 feedforward_robust.py:763] Epoch: 0059    cost: 0.000185061 \n",
      "Accuracy on batch: 1.000000\n",
      "I0719 18:52:52.176548 4407242176 feedforward_robust.py:764] Accuracy on batch: 1.000000\n",
      "Epoch: 0060    cost: 0.000245766 \n",
      "I0719 18:52:52.188641 4407242176 feedforward_robust.py:763] Epoch: 0060    cost: 0.000245766 \n",
      "Accuracy on batch: 1.000000\n",
      "I0719 18:52:52.190896 4407242176 feedforward_robust.py:764] Accuracy on batch: 1.000000\n",
      "Epoch: 0061    cost: 0.000191539 \n",
      "I0719 18:52:52.202759 4407242176 feedforward_robust.py:763] Epoch: 0061    cost: 0.000191539 \n",
      "Accuracy on batch: 1.000000\n",
      "I0719 18:52:52.206012 4407242176 feedforward_robust.py:764] Accuracy on batch: 1.000000\n",
      "Epoch: 0062    cost: 0.000229322 \n",
      "I0719 18:52:52.218182 4407242176 feedforward_robust.py:763] Epoch: 0062    cost: 0.000229322 \n",
      "Accuracy on batch: 1.000000\n",
      "I0719 18:52:52.221626 4407242176 feedforward_robust.py:764] Accuracy on batch: 1.000000\n",
      "Epoch: 0063    cost: 0.000179662 \n",
      "I0719 18:52:52.232290 4407242176 feedforward_robust.py:763] Epoch: 0063    cost: 0.000179662 \n",
      "Accuracy on batch: 1.000000\n",
      "I0719 18:52:52.233894 4407242176 feedforward_robust.py:764] Accuracy on batch: 1.000000\n",
      "Epoch: 0064    cost: 0.000193935 \n",
      "I0719 18:52:52.247672 4407242176 feedforward_robust.py:763] Epoch: 0064    cost: 0.000193935 \n",
      "Accuracy on batch: 1.000000\n",
      "I0719 18:52:52.250864 4407242176 feedforward_robust.py:764] Accuracy on batch: 1.000000\n",
      "Epoch: 0065    cost: 0.000148205 \n",
      "I0719 18:52:52.260451 4407242176 feedforward_robust.py:763] Epoch: 0065    cost: 0.000148205 \n",
      "Accuracy on batch: 1.000000\n",
      "I0719 18:52:52.262923 4407242176 feedforward_robust.py:764] Accuracy on batch: 1.000000\n",
      "Epoch: 0066    cost: 0.000142932 \n",
      "I0719 18:52:52.276184 4407242176 feedforward_robust.py:763] Epoch: 0066    cost: 0.000142932 \n",
      "Accuracy on batch: 1.000000\n",
      "I0719 18:52:52.278474 4407242176 feedforward_robust.py:764] Accuracy on batch: 1.000000\n",
      "Epoch: 0067    cost: 0.000112152 \n"
     ]
    },
    {
     "name": "stderr",
     "output_type": "stream",
     "text": [
      "I0719 18:52:52.289057 4407242176 feedforward_robust.py:763] Epoch: 0067    cost: 0.000112152 \n",
      "Accuracy on batch: 1.000000\n",
      "I0719 18:52:52.293492 4407242176 feedforward_robust.py:764] Accuracy on batch: 1.000000\n",
      "Epoch: 0068    cost: 0.000093133 \n",
      "I0719 18:52:52.305401 4407242176 feedforward_robust.py:763] Epoch: 0068    cost: 0.000093133 \n",
      "Accuracy on batch: 1.000000\n",
      "I0719 18:52:52.308115 4407242176 feedforward_robust.py:764] Accuracy on batch: 1.000000\n",
      "Epoch: 0069    cost: 0.000074631 \n",
      "I0719 18:52:52.320200 4407242176 feedforward_robust.py:763] Epoch: 0069    cost: 0.000074631 \n",
      "Accuracy on batch: 1.000000\n",
      "I0719 18:52:52.322849 4407242176 feedforward_robust.py:764] Accuracy on batch: 1.000000\n",
      "Epoch: 0070    cost: 0.000054991 \n",
      "I0719 18:52:52.334064 4407242176 feedforward_robust.py:763] Epoch: 0070    cost: 0.000054991 \n",
      "Accuracy on batch: 1.000000\n",
      "I0719 18:52:52.338918 4407242176 feedforward_robust.py:764] Accuracy on batch: 1.000000\n",
      "Epoch: 0071    cost: 0.000046710 \n",
      "I0719 18:52:52.350153 4407242176 feedforward_robust.py:763] Epoch: 0071    cost: 0.000046710 \n",
      "Accuracy on batch: 1.000000\n",
      "I0719 18:52:52.351510 4407242176 feedforward_robust.py:764] Accuracy on batch: 1.000000\n",
      "Epoch: 0072    cost: 0.000026682 \n",
      "I0719 18:52:52.362113 4407242176 feedforward_robust.py:763] Epoch: 0072    cost: 0.000026682 \n",
      "Accuracy on batch: 1.000000\n",
      "I0719 18:52:52.364398 4407242176 feedforward_robust.py:764] Accuracy on batch: 1.000000\n",
      "Epoch: 0073    cost: 0.000028982 \n",
      "I0719 18:52:52.372493 4407242176 feedforward_robust.py:763] Epoch: 0073    cost: 0.000028982 \n",
      "Accuracy on batch: 1.000000\n",
      "I0719 18:52:52.376261 4407242176 feedforward_robust.py:764] Accuracy on batch: 1.000000\n",
      "Epoch: 0074    cost: 0.000013096 \n",
      "I0719 18:52:52.386626 4407242176 feedforward_robust.py:763] Epoch: 0074    cost: 0.000013096 \n",
      "Accuracy on batch: 1.000000\n",
      "I0719 18:52:52.389863 4407242176 feedforward_robust.py:764] Accuracy on batch: 1.000000\n",
      "Epoch: 0075    cost: 0.000019617 \n",
      "I0719 18:52:52.400476 4407242176 feedforward_robust.py:763] Epoch: 0075    cost: 0.000019617 \n",
      "Accuracy on batch: 1.000000\n",
      "I0719 18:52:52.402563 4407242176 feedforward_robust.py:764] Accuracy on batch: 1.000000\n",
      "Epoch: 0076    cost: 0.000009940 \n",
      "I0719 18:52:52.414202 4407242176 feedforward_robust.py:763] Epoch: 0076    cost: 0.000009940 \n",
      "Accuracy on batch: 1.000000\n",
      "I0719 18:52:52.415717 4407242176 feedforward_robust.py:764] Accuracy on batch: 1.000000\n",
      "Epoch: 0077    cost: 0.000019776 \n",
      "I0719 18:52:52.424551 4407242176 feedforward_robust.py:763] Epoch: 0077    cost: 0.000019776 \n",
      "Accuracy on batch: 1.000000\n",
      "I0719 18:52:52.428740 4407242176 feedforward_robust.py:764] Accuracy on batch: 1.000000\n",
      "Epoch: 0078    cost: 0.000012395 \n",
      "I0719 18:52:52.437443 4407242176 feedforward_robust.py:763] Epoch: 0078    cost: 0.000012395 \n",
      "Accuracy on batch: 1.000000\n",
      "I0719 18:52:52.441468 4407242176 feedforward_robust.py:764] Accuracy on batch: 1.000000\n",
      "Epoch: 0079    cost: 0.000023120 \n",
      "I0719 18:52:52.450887 4407242176 feedforward_robust.py:763] Epoch: 0079    cost: 0.000023120 \n",
      "Accuracy on batch: 1.000000\n",
      "I0719 18:52:52.453209 4407242176 feedforward_robust.py:764] Accuracy on batch: 1.000000\n",
      "Epoch: 0080    cost: 0.000018221 \n",
      "I0719 18:52:52.467001 4407242176 feedforward_robust.py:763] Epoch: 0080    cost: 0.000018221 \n",
      "Accuracy on batch: 1.000000\n",
      "I0719 18:52:52.469130 4407242176 feedforward_robust.py:764] Accuracy on batch: 1.000000\n",
      "Epoch: 0081    cost: 0.000026074 \n",
      "I0719 18:52:52.480346 4407242176 feedforward_robust.py:763] Epoch: 0081    cost: 0.000026074 \n",
      "Accuracy on batch: 1.000000\n",
      "I0719 18:52:52.483266 4407242176 feedforward_robust.py:764] Accuracy on batch: 1.000000\n",
      "Epoch: 0082    cost: 0.000021895 \n",
      "I0719 18:52:52.495517 4407242176 feedforward_robust.py:763] Epoch: 0082    cost: 0.000021895 \n",
      "Accuracy on batch: 1.000000\n",
      "I0719 18:52:52.499371 4407242176 feedforward_robust.py:764] Accuracy on batch: 1.000000\n",
      "Epoch: 0083    cost: 0.000027707 \n",
      "I0719 18:52:52.510994 4407242176 feedforward_robust.py:763] Epoch: 0083    cost: 0.000027707 \n",
      "Accuracy on batch: 1.000000\n",
      "I0719 18:52:52.513556 4407242176 feedforward_robust.py:764] Accuracy on batch: 1.000000\n",
      "Epoch: 0084    cost: 0.000022686 \n",
      "I0719 18:52:52.523755 4407242176 feedforward_robust.py:763] Epoch: 0084    cost: 0.000022686 \n",
      "Accuracy on batch: 1.000000\n",
      "I0719 18:52:52.527393 4407242176 feedforward_robust.py:764] Accuracy on batch: 1.000000\n",
      "Epoch: 0085    cost: 0.000025877 \n",
      "I0719 18:52:52.538722 4407242176 feedforward_robust.py:763] Epoch: 0085    cost: 0.000025877 \n",
      "Accuracy on batch: 1.000000\n",
      "I0719 18:52:52.543260 4407242176 feedforward_robust.py:764] Accuracy on batch: 1.000000\n",
      "Epoch: 0086    cost: 0.000021258 \n",
      "I0719 18:52:52.555184 4407242176 feedforward_robust.py:763] Epoch: 0086    cost: 0.000021258 \n",
      "Accuracy on batch: 1.000000\n",
      "I0719 18:52:52.558902 4407242176 feedforward_robust.py:764] Accuracy on batch: 1.000000\n",
      "Epoch: 0087    cost: 0.000021846 \n",
      "I0719 18:52:52.571091 4407242176 feedforward_robust.py:763] Epoch: 0087    cost: 0.000021846 \n",
      "Accuracy on batch: 1.000000\n",
      "I0719 18:52:52.574722 4407242176 feedforward_robust.py:764] Accuracy on batch: 1.000000\n",
      "Epoch: 0088    cost: 0.000017393 \n",
      "I0719 18:52:52.587482 4407242176 feedforward_robust.py:763] Epoch: 0088    cost: 0.000017393 \n",
      "Accuracy on batch: 1.000000\n",
      "I0719 18:52:52.593328 4407242176 feedforward_robust.py:764] Accuracy on batch: 1.000000\n",
      "Epoch: 0089    cost: 0.000016956 \n",
      "I0719 18:52:52.604952 4407242176 feedforward_robust.py:763] Epoch: 0089    cost: 0.000016956 \n",
      "Accuracy on batch: 1.000000\n",
      "I0719 18:52:52.606556 4407242176 feedforward_robust.py:764] Accuracy on batch: 1.000000\n",
      "Epoch: 0090    cost: 0.000012789 \n",
      "I0719 18:52:52.617630 4407242176 feedforward_robust.py:763] Epoch: 0090    cost: 0.000012789 \n",
      "Accuracy on batch: 1.000000\n",
      "I0719 18:52:52.620486 4407242176 feedforward_robust.py:764] Accuracy on batch: 1.000000\n",
      "Epoch: 0091    cost: 0.000011757 \n",
      "I0719 18:52:52.632661 4407242176 feedforward_robust.py:763] Epoch: 0091    cost: 0.000011757 \n",
      "Accuracy on batch: 1.000000\n",
      "I0719 18:52:52.634081 4407242176 feedforward_robust.py:764] Accuracy on batch: 1.000000\n",
      "Epoch: 0092    cost: 0.000008888 \n",
      "I0719 18:52:52.646461 4407242176 feedforward_robust.py:763] Epoch: 0092    cost: 0.000008888 \n",
      "Accuracy on batch: 1.000000\n",
      "I0719 18:52:52.647754 4407242176 feedforward_robust.py:764] Accuracy on batch: 1.000000\n",
      "Epoch: 0093    cost: 0.000007679 \n",
      "I0719 18:52:52.657998 4407242176 feedforward_robust.py:763] Epoch: 0093    cost: 0.000007679 \n",
      "Accuracy on batch: 1.000000\n",
      "I0719 18:52:52.660984 4407242176 feedforward_robust.py:764] Accuracy on batch: 1.000000\n",
      "Epoch: 0094    cost: 0.000005947 \n",
      "I0719 18:52:52.673017 4407242176 feedforward_robust.py:763] Epoch: 0094    cost: 0.000005947 \n",
      "Accuracy on batch: 1.000000\n",
      "I0719 18:52:52.675785 4407242176 feedforward_robust.py:764] Accuracy on batch: 1.000000\n",
      "Epoch: 0095    cost: 0.000005371 \n",
      "I0719 18:52:52.685559 4407242176 feedforward_robust.py:763] Epoch: 0095    cost: 0.000005371 \n",
      "Accuracy on batch: 1.000000\n",
      "I0719 18:52:52.688190 4407242176 feedforward_robust.py:764] Accuracy on batch: 1.000000\n",
      "Epoch: 0096    cost: 0.000004407 \n",
      "I0719 18:52:52.698840 4407242176 feedforward_robust.py:763] Epoch: 0096    cost: 0.000004407 \n",
      "Accuracy on batch: 1.000000\n",
      "I0719 18:52:52.700440 4407242176 feedforward_robust.py:764] Accuracy on batch: 1.000000\n",
      "Epoch: 0097    cost: 0.000004258 \n",
      "I0719 18:52:52.715831 4407242176 feedforward_robust.py:763] Epoch: 0097    cost: 0.000004258 \n",
      "Accuracy on batch: 1.000000\n",
      "I0719 18:52:52.720674 4407242176 feedforward_robust.py:764] Accuracy on batch: 1.000000\n",
      "Epoch: 0098    cost: 0.000004050 \n",
      "I0719 18:52:52.732081 4407242176 feedforward_robust.py:763] Epoch: 0098    cost: 0.000004050 \n",
      "Accuracy on batch: 1.000000\n",
      "I0719 18:52:52.733637 4407242176 feedforward_robust.py:764] Accuracy on batch: 1.000000\n",
      "Epoch: 0099    cost: 0.000004032 \n",
      "I0719 18:52:52.745754 4407242176 feedforward_robust.py:763] Epoch: 0099    cost: 0.000004032 \n",
      "Accuracy on batch: 1.000000\n",
      "I0719 18:52:52.747303 4407242176 feedforward_robust.py:764] Accuracy on batch: 1.000000\n",
      "Epoch: 0100    cost: 0.000004144 \n",
      "I0719 18:52:52.757855 4407242176 feedforward_robust.py:763] Epoch: 0100    cost: 0.000004144 \n",
      "Accuracy on batch: 1.000000\n",
      "I0719 18:52:52.760344 4407242176 feedforward_robust.py:764] Accuracy on batch: 1.000000\n"
     ]
    },
    {
     "name": "stderr",
     "output_type": "stream",
     "text": [
      "Optimization Finished!\n",
      "I0719 18:52:52.762069 4407242176 feedforward_robust.py:765] Optimization Finished!\n",
      "Final Train Loss 0.000004\n",
      "I0719 18:52:52.792249 4407242176 feedforward_robust.py:773] Final Train Loss 0.000004\n",
      "Final Train Accuracy 1.000000:\n",
      "I0719 18:52:52.793959 4407242176 feedforward_robust.py:774] Final Train Accuracy 1.000000:\n",
      "Model was trained on benign data\n",
      "I0719 18:52:52.795573 4407242176 feedforward_robust.py:796] Model was trained on benign data\n",
      "Model was evaluated on benign data\n",
      "I0719 18:52:52.800552 4407242176 feedforward_robust.py:675] Model was evaluated on benign data\n"
     ]
    },
    {
     "name": "stdout",
     "output_type": "stream",
     "text": [
      "----Regular loss and accuracy ----\n",
      "(0.054166496, 0.9295)\n"
     ]
    }
   ],
   "source": [
    "#Setup - Dataset stuff\n",
    "tf.reset_default_graph()\n",
    "sess = tf.Session()\n",
    "hidden_sizes = [64, 64, 5]\n",
    "dataset = ((x_train, y_train), (x_test, y_test))\n",
    "\n",
    "scope_name = \"visualize_one_dim\"\n",
    "if not load_weights:\n",
    "    with tf.variable_scope(scope_name, reuse = False) as scope:\n",
    "\n",
    "        logdir = tensorboard_dir + str(counter)\n",
    "\n",
    "        #Create model\n",
    "        writer = tf.summary.FileWriter(logdir)\n",
    "        model = ffr.RobustMLP(input_shape, hidden_sizes, num_classes, writer = writer, scope = scope_name, logger = logger, sigma = sigma,  classification = False)\n",
    "        sess.run(tf.global_variables_initializer())\n",
    "        print(\"Created model successfully. Now going to train\")\n",
    "    \n",
    "        #Train model\n",
    "        returned = model.fit(sess, x_train, y_train, training_epochs = epochs, reg_op = reg , lr = lr, batch_size = batch_size, x_test = x_test)\n",
    "        \n",
    "        preds_list, feat_list = returned[0], returned[1]\n",
    "        \n",
    "        cross_loss, cross_acc = model.evaluate(sess, x_test, y_test)\n",
    "        print(\"----Regular loss and accuracy ----\")\n",
    "        print((cross_loss, cross_acc))\n",
    "        \n",
    "        \n",
    "        #featurization = model.get_featurizations(sess, x_test)\n",
    "        \"\"\"\n",
    "        #cross_margins = model.get_pointwise_margin(sess, x_train, y_train)\n",
    "        cross_weight_norms = model.get_weight_norms(sess)\n",
    "        print(\"----- Weight norms ----\")\n",
    "        print(cross_weight_norms)\n",
    "        \n",
    "        #Test model - regular, fgsm adv, pgd adv\n",
    "\n",
    "        \n",
    "        cross_confidences = model.get_prediction(sess, x_test_flat)\n",
    "        \n",
    "        cross_spectral = model.get_spectral_norm(sess)\n",
    "        \"\"\""
   ]
  },
  {
   "cell_type": "code",
   "execution_count": 11,
   "metadata": {},
   "outputs": [],
   "source": [
    "feat_list = np.array(feat_list)\n",
    "preds_list = np.array(preds_list)"
   ]
  },
  {
   "cell_type": "code",
   "execution_count": 12,
   "metadata": {},
   "outputs": [
    {
     "data": {
      "text/plain": [
       "(100, 10000, 5)"
      ]
     },
     "execution_count": 12,
     "metadata": {},
     "output_type": "execute_result"
    }
   ],
   "source": [
    "feat_list.shape"
   ]
  },
  {
   "cell_type": "code",
   "execution_count": 13,
   "metadata": {},
   "outputs": [
    {
     "data": {
      "text/plain": [
       "(100, 10000, 2)"
      ]
     },
     "execution_count": 13,
     "metadata": {},
     "output_type": "execute_result"
    }
   ],
   "source": [
    "preds_list.shape"
   ]
  },
  {
   "cell_type": "code",
   "execution_count": 14,
   "metadata": {},
   "outputs": [
    {
     "data": {
      "text/plain": [
       "array([0.712157  , 0.97062624], dtype=float32)"
      ]
     },
     "execution_count": 14,
     "metadata": {},
     "output_type": "execute_result"
    }
   ],
   "source": [
    "preds_list[0, 0]"
   ]
  },
  {
   "cell_type": "markdown",
   "metadata": {},
   "source": [
    "# Processing preds and plotting"
   ]
  },
  {
   "cell_type": "code",
   "execution_count": 15,
   "metadata": {},
   "outputs": [],
   "source": [
    "def flatten_single_pred(preds_single_epoch):\n",
    "    preds_new = [preds[1] - preds[0] for preds in preds_single_epoch]\n",
    "    return preds_new"
   ]
  },
  {
   "cell_type": "code",
   "execution_count": 16,
   "metadata": {},
   "outputs": [],
   "source": [
    "preds_list_flat = [flatten_single_pred(pse) for pse in preds_list]"
   ]
  },
  {
   "cell_type": "code",
   "execution_count": 17,
   "metadata": {},
   "outputs": [
    {
     "data": {
      "text/plain": [
       "(100, 10000)"
      ]
     },
     "execution_count": 17,
     "metadata": {},
     "output_type": "execute_result"
    }
   ],
   "source": [
    "preds_list_flat = np.array(preds_list_flat)\n",
    "preds_list_flat.shape"
   ]
  },
  {
   "cell_type": "code",
   "execution_count": 18,
   "metadata": {},
   "outputs": [
    {
     "data": {
      "text/plain": [
       "(100,)"
      ]
     },
     "execution_count": 18,
     "metadata": {},
     "output_type": "execute_result"
    }
   ],
   "source": [
    "preds_means = np.mean(np.abs(preds_list_flat), axis = 1)\n",
    "preds_means.shape"
   ]
  },
  {
   "cell_type": "code",
   "execution_count": 19,
   "metadata": {},
   "outputs": [
    {
     "data": {
      "text/plain": [
       "array([0.38429996, 0.58111775, 0.38041493, 0.44503075, 0.6237522 ,\n",
       "       0.7934522 , 0.72800004, 0.60550916, 0.56820476, 0.6139293 ,\n",
       "       0.7140621 , 0.7997465 , 0.82006526, 0.7971589 , 0.79702395,\n",
       "       0.8540656 , 0.941324  , 0.9853506 , 0.9361811 , 0.8551302 ,\n",
       "       0.8451743 , 0.92521966, 1.0281842 , 1.0470647 , 0.9843557 ,\n",
       "       0.93435323, 0.96011233, 1.0340843 , 1.0638751 , 1.0135516 ,\n",
       "       0.9563166 , 0.96633905, 1.0178436 , 1.0278887 , 0.9868109 ,\n",
       "       0.96667725, 0.9978293 , 1.0294877 , 1.0074358 , 0.96305263,\n",
       "       0.9537719 , 0.9819977 , 0.9912802 , 0.971628  , 0.95408875,\n",
       "       0.9576676 , 0.97367716, 0.9718446 , 0.9502794 , 0.9379366 ,\n",
       "       0.94930106, 0.96117586, 0.95083946, 0.9324529 , 0.93323964,\n",
       "       0.9482934 , 0.9509413 , 0.9362746 , 0.9288991 , 0.93984413,\n",
       "       0.9499183 , 0.9428876 , 0.93316054, 0.93856484, 0.9502025 ,\n",
       "       0.9492258 , 0.9403939 , 0.94193923, 0.95249736, 0.9549094 ,\n",
       "       0.94767743, 0.94668937, 0.9551679 , 0.95879084, 0.95313907,\n",
       "       0.9512687 , 0.9577989 , 0.96095634, 0.956111  , 0.954257  ,\n",
       "       0.9594676 , 0.9616293 , 0.95722336, 0.9557021 , 0.95970124,\n",
       "       0.96057874, 0.95663846, 0.955842  , 0.9588221 , 0.95842737,\n",
       "       0.95503986, 0.9550523 , 0.95719004, 0.9560181 , 0.953574  ,\n",
       "       0.95426863, 0.9555158 , 0.9540514 , 0.9528207 , 0.953942  ],\n",
       "      dtype=float32)"
      ]
     },
     "execution_count": 19,
     "metadata": {},
     "output_type": "execute_result"
    }
   ],
   "source": [
    "preds_means"
   ]
  },
  {
   "cell_type": "code",
   "execution_count": 20,
   "metadata": {},
   "outputs": [
    {
     "data": {
      "text/plain": [
       "(10000,)"
      ]
     },
     "execution_count": 20,
     "metadata": {},
     "output_type": "execute_result"
    }
   ],
   "source": [
    "final_preds = preds_list_flat[-1]\n",
    "final_preds.shape"
   ]
  },
  {
   "cell_type": "code",
   "execution_count": 21,
   "metadata": {},
   "outputs": [
    {
     "data": {
      "text/plain": [
       "(5, 10000)"
      ]
     },
     "execution_count": 21,
     "metadata": {},
     "output_type": "execute_result"
    }
   ],
   "source": [
    "indices = np.arange(0, 100, 20)\n",
    "preds_list_smaller = preds_list_flat[indices]\n",
    "preds_list_smaller.shape"
   ]
  },
  {
   "cell_type": "code",
   "execution_count": 22,
   "metadata": {},
   "outputs": [
    {
     "data": {
      "text/plain": [
       "<matplotlib.legend.Legend at 0x134c087b8>"
      ]
     },
     "execution_count": 22,
     "metadata": {},
     "output_type": "execute_result"
    },
    {
     "data": {
      "image/png": "[encoded data removed]",
      "text/plain": [
       "<Figure size 432x288 with 1 Axes>"
      ]
     },
     "metadata": {
      "needs_background": "light"
     },
     "output_type": "display_data"
    }
   ],
   "source": [
    "plt.plot(x_train, y_train_ogi.flatten(),  color = \"blue\", linewidth=0, marker=\"D\", markersize=5, label = 'Train data', alpha = 0.75 )\n",
    "\n",
    "for (idx, preds) in enumerate(preds_list_smaller):\n",
    "    label = \"Iteration: \" + str(indices[idx])\n",
    "    plt.plot(x_test, preds,'-', marker = 'x', markersize = 0, linewidth = 1.5, label = label)\n",
    "\n",
    "plt.legend()"
   ]
  },
  {
   "cell_type": "code",
   "execution_count": null,
   "metadata": {},
   "outputs": [],
   "source": []
  },
  {
   "cell_type": "markdown",
   "metadata": {},
   "source": [
    "# Processing feats and plotting"
   ]
  },
  {
   "cell_type": "code",
   "execution_count": 23,
   "metadata": {},
   "outputs": [],
   "source": [
    "feats_select = feat_list[-1]"
   ]
  },
  {
   "cell_type": "code",
   "execution_count": 25,
   "metadata": {},
   "outputs": [
    {
     "data": {
      "text/plain": [
       "<matplotlib.legend.Legend at 0x136d25a58>"
      ]
     },
     "execution_count": 25,
     "metadata": {},
     "output_type": "execute_result"
    },
    {
     "data": {
      "image/png": "[encoded data removed]",
      "text/plain": [
       "<Figure size 432x288 with 1 Axes>"
      ]
     },
     "metadata": {
      "needs_background": "light"
     },
     "output_type": "display_data"
    }
   ],
   "source": [
    "for i in range(5):\n",
    "    feat_i = feats_select[:, i]\n",
    "    label = \"feature no: \" + str(i)\n",
    "    plt.plot(x_test, feat_i, label = label)\n",
    "plt.legend(loc = (1, 0))"
   ]
  },
  {
   "cell_type": "code",
   "execution_count": null,
   "metadata": {},
   "outputs": [],
   "source": []
  }
 ],
 "metadata": {
  "kernelspec": {
   "display_name": "Python 3",
   "language": "python",
   "name": "python3"
  },
  "language_info": {
   "codemirror_mode": {
    "name": "ipython",
    "version": 3
   },
   "file_extension": ".py",
   "mimetype": "text/x-python",
   "name": "python",
   "nbconvert_exporter": "python",
   "pygments_lexer": "ipython3",
   "version": "3.7.3"
  }
 },
 "nbformat": 4,
 "nbformat_minor": 4
}

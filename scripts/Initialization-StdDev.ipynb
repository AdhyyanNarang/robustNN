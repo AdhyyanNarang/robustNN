{
 "cells": [
  {
   "cell_type": "code",
   "execution_count": 1,
   "metadata": {},
   "outputs": [],
   "source": [
    "#Imports\n",
    "import logging\n",
    "import os, random, time, sys\n",
    "import numpy as np\n",
    "import tensorflow as tf\n",
    "import tensorflow.contrib.layers as layers\n",
    "sys.path.append('../')\n",
    "sys.path.append('../util/')\n",
    "import feedforward_robust as ffr\n",
    "import ipdb\n",
    "from util import *\n",
    "\n",
    "#Read the counter\n",
    "ctr_file = \"counter.txt\"\n",
    "f = open(ctr_file, 'r')\n",
    "counter = f.readline()\n",
    "f.close()\n",
    "\n",
    "counter = 1 + int(counter)\n",
    "f = open(ctr_file,'w')\n",
    "f.write('{}'.format(counter))\n",
    "f.close()\n",
    "logfile = \"logs/results_\" + str(counter) + \".log\"\n",
    "\n",
    "logger = logging.getLogger(\"robustness\")\n",
    "logger.setLevel(logging.DEBUG)\n",
    "fh = logging.FileHandler(logfile)\n",
    "fh.setLevel(logging.INFO)\n",
    "formatter = logging.Formatter('%(asctime)s - %(name)s - %(levelname)s - %(message)s')\n",
    "fh.setFormatter(formatter)\n",
    "logger.addHandler(fh)\n",
    "logger.addHandler(logging.StreamHandler())"
   ]
  },
  {
   "cell_type": "code",
   "execution_count": 2,
   "metadata": {},
   "outputs": [],
   "source": [
    "#Setup - Dataset stuff\n",
    "dataset, input_shape, num_classes = get_dataset()\n",
    "x_train_flat, y_train = dataset[0] \n",
    "x_test_flat, y_test = dataset[1] \n",
    "hidden_sizes = [32,32,32,32,32,32,32]"
   ]
  },
  {
   "cell_type": "code",
   "execution_count": 3,
   "metadata": {},
   "outputs": [
    {
     "data": {
      "text/plain": [
       "(60000, 784)"
      ]
     },
     "execution_count": 3,
     "metadata": {},
     "output_type": "execute_result"
    }
   ],
   "source": [
    "x_train_flat.shape"
   ]
  },
  {
   "cell_type": "code",
   "execution_count": 4,
   "metadata": {},
   "outputs": [],
   "source": [
    "def plot_singular_values(matrix, idx):\n",
    "    _, sig, V = np.linalg.svd(matrix)\n",
    "    plt.plot(range(len(sig)), sig, label = \"Layer number %d\" %idx)\n",
    "    plt.legend(loc = 'upper right')\n",
    "    return sig"
   ]
  },
  {
   "cell_type": "markdown",
   "metadata": {},
   "source": [
    "## Regular Training"
   ]
  },
  {
   "cell_type": "code",
   "execution_count": 5,
   "metadata": {},
   "outputs": [],
   "source": [
    "#Config\n",
    "eps_train = 0.1\n",
    "eps_test = 0.1\n",
    "tensorboard_dir = \"tb/\"\n",
    "weights_dir = \"weights/\"\n",
    "\n",
    "load_counter = 58\n",
    "sigma = tf.nn.relu\n",
    "\n",
    "scope_name = \"model_non_robust\""
   ]
  },
  {
   "cell_type": "code",
   "execution_count": 6,
   "metadata": {},
   "outputs": [
    {
     "name": "stderr",
     "output_type": "stream",
     "text": [
      "Initialized instance variables of the robust model class\n",
      "WARNING: Logging before flag parsing goes to stderr.\n",
      "I0813 11:35:42.248381 4588717504 feedforward_robust.py:30] Initialized instance variables of the robust model class\n",
      "W0813 11:35:42.251872 4588717504 deprecation_wrapper.py:119] From ../feedforward_robust.py:34: The name tf.placeholder is deprecated. Please use tf.compat.v1.placeholder instead.\n",
      "\n",
      "Created placeholders for x and y\n",
      "I0813 11:35:42.256817 4588717504 feedforward_robust.py:36] Created placeholders for x and y\n",
      "W0813 11:35:42.259236 4588717504 deprecation_wrapper.py:119] From ../util/util.py:32: The name tf.variable_scope is deprecated. Please use tf.compat.v1.variable_scope instead.\n",
      "\n",
      "W0813 11:35:42.260097 4588717504 deprecation_wrapper.py:119] From ../util/util.py:32: The name tf.AUTO_REUSE is deprecated. Please use tf.compat.v1.AUTO_REUSE instead.\n",
      "\n",
      "W0813 11:35:42.263728 4588717504 deprecation_wrapper.py:119] From ../util/util.py:34: The name tf.get_variable is deprecated. Please use tf.compat.v1.get_variable instead.\n",
      "\n",
      "W0813 11:35:42.280443 4588717504 deprecation_wrapper.py:119] From ../util/util.py:38: The name tf.summary.histogram is deprecated. Please use tf.compat.v1.summary.histogram instead.\n",
      "\n",
      "Created layers and tensor for logits\n",
      "I0813 11:35:42.391305 4588717504 feedforward_robust.py:40] Created layers and tensor for logits\n",
      "W0813 11:35:42.392858 4588717504 deprecation.py:323] From ../feedforward_robust.py:42: softmax_cross_entropy_with_logits (from tensorflow.python.ops.nn_ops) is deprecated and will be removed in a future version.\n",
      "Instructions for updating:\n",
      "\n",
      "Future major versions of TensorFlow will allow gradients to flow\n",
      "into the labels input on backprop by default.\n",
      "\n",
      "See `tf.nn.softmax_cross_entropy_with_logits_v2`.\n",
      "\n",
      "W0813 11:35:42.486376 4588717504 deprecation_wrapper.py:119] From ../feedforward_robust.py:44: The name tf.summary.scalar is deprecated. Please use tf.compat.v1.summary.scalar instead.\n",
      "\n",
      "Added loss computation to the graph\n",
      "I0813 11:35:42.488626 4588717504 feedforward_robust.py:45] Added loss computation to the graph\n",
      "Added accuracy computation to the graph\n",
      "I0813 11:35:42.496170 4588717504 feedforward_robust.py:49] Added accuracy computation to the graph\n",
      "Model graph was created\n",
      "I0813 11:35:42.499690 4588717504 feedforward_robust.py:52] Model graph was created\n",
      "W0813 11:35:42.501652 4588717504 deprecation_wrapper.py:119] From ../feedforward_robust.py:53: The name tf.summary.merge_all is deprecated. Please use tf.compat.v1.summary.merge_all instead.\n",
      "\n",
      "Created model successfully. Now going to load weights\n",
      "I0813 11:35:42.507440 4588717504 <ipython-input-6-1ec8f194c535>:8] Created model successfully. Now going to load weights\n",
      "W0813 11:35:42.537765 4588717504 deprecation.py:323] From /usr/local/lib/python3.7/site-packages/tensorflow/python/training/saver.py:1276: checkpoint_exists (from tensorflow.python.training.checkpoint_management) is deprecated and will be removed in a future version.\n",
      "Instructions for updating:\n",
      "Use standard file APIs to check for files with this prefix.\n",
      "Model was evaluated on benign data\n",
      "I0813 11:35:42.677626 4588717504 feedforward_robust.py:265] Model was evaluated on benign data\n",
      "----Regular test accuracy and loss ----\n",
      "I0813 11:35:42.678927 4588717504 <ipython-input-6-1ec8f194c535>:18] ----Regular test accuracy and loss ----\n",
      "(0.17103767, 0.9531)\n",
      "I0813 11:35:42.680118 4588717504 <ipython-input-6-1ec8f194c535>:19] (0.17103767, 0.9531)\n",
      "Model was evaluated on benign data\n",
      "I0813 11:35:42.714702 4588717504 feedforward_robust.py:265] Model was evaluated on benign data\n",
      "----Regular test accuracy and loss ----\n",
      "I0813 11:35:42.721743 4588717504 <ipython-input-6-1ec8f194c535>:24] ----Regular test accuracy and loss ----\n",
      "(0.17103767, 0.9531)\n",
      "I0813 11:35:42.729449 4588717504 <ipython-input-6-1ec8f194c535>:25] (0.17103767, 0.9531)\n",
      "Model is being evaluated on FGSM data\n",
      "I0813 11:35:42.986394 4588717504 feedforward_robust.py:271] Model is being evaluated on FGSM data\n",
      "----FGSM test accuracy and loss ----\n",
      "I0813 11:35:43.008345 4588717504 <ipython-input-6-1ec8f194c535>:30] ----FGSM test accuracy and loss ----\n",
      "(6.3987045, 0.0485)\n",
      "I0813 11:35:43.009994 4588717504 <ipython-input-6-1ec8f194c535>:31] (6.3987045, 0.0485)\n"
     ]
    }
   ],
   "source": [
    "with tf.variable_scope(scope_name) as scope:\n",
    "    sess = tf.Session()\n",
    "    logdir = tensorboard_dir + str(counter) + \"/non_robust\"\n",
    "\n",
    "    #Create, train and test model\n",
    "    writer = tf.summary.FileWriter(logdir)\n",
    "    model = ffr.RobustMLP(input_shape, hidden_sizes, num_classes, writer = writer, scope = scope_name, logger = logger, sigma =sigma)\n",
    "    logger.info(\"Created model successfully. Now going to load weights\")\n",
    "\n",
    "    #Restore weights\n",
    "    weights = tf.trainable_variables()\n",
    "    saver = tf.train.Saver(weights)\n",
    "    weights_path = saver.restore(sess, weights_dir + \"model_\" + str(load_counter) + \".ckpt\")\n",
    "\n",
    "    writer.add_graph(sess.graph)\n",
    "\n",
    "    loss_reg, acc_reg = model.evaluate(sess, x_test_flat, y_test)\n",
    "    logger.info(\"----Regular test accuracy and loss ----\")\n",
    "    logger.info((loss_reg, acc_reg))\n",
    "\n",
    "    \n",
    "    with tf.variable_scope(\"testing_benign\") as scope:\n",
    "        loss_reg, acc_reg = model.evaluate(sess, x_test_flat, y_test)\n",
    "        logger.info(\"----Regular test accuracy and loss ----\")\n",
    "        logger.info((loss_reg, acc_reg))\n",
    "\n",
    "\n",
    "    with tf.variable_scope(\"testing_adversarial\") as scope:\n",
    "        loss_fgsm, acc_fgsm = model.adv_evaluate(sess, x_test_flat, y_test, eps_test, pgd = False)\n",
    "        logger.info(\"----FGSM test accuracy and loss ----\")\n",
    "        logger.info((loss_fgsm, acc_fgsm))\n",
    "        x_test_flat_adv = model.fgsm_np(sess, x_test_flat, y_test, eps_test)\n",
    "\n",
    "\n",
    "    #Distances and norms\n",
    "\n",
    "    if False:\n",
    "        norms = get_norms(model.get_weights()[0])\n",
    "        norms_np = sess.run(norms)\n",
    "        logger.info(norms_np)\n",
    "        overall, overall_std, correct, _, incorrect, _ = model.get_distance(sess, eps_test, x_test_flat, y_test)\n",
    "        logger.info(\"---Distances----\")\n",
    "        logger.info(overall)\n",
    "        logger.info(\"------Std devs on Distances----\")\n",
    "        logger.info(overall_std)\n",
    "\n",
    "\n",
    "    if False:\n",
    "        #TSNE visualization of final layer.\n",
    "        x_test_flat_adv = model.fgsm_np(sess, x_test_flat, y_test, eps_test)\n",
    "        metadata_path = os.path.join(logdir, 'metadata.tsv')\n",
    "        write_metadata(metadata_path, y_test_ogi[0:1000])\n",
    "        sprite_path = os.path.join(logdir, 'sprite_images.png')\n",
    "        write_sprite_image(sprite_path, x_test_ogi[0:1000])\n",
    "        model.visualize_activation_tsne(sess, x_test_flat_adv[0:1000], 'metadata.tsv', 'sprite_images.png', logdir)\n"
   ]
  },
  {
   "cell_type": "code",
   "execution_count": null,
   "metadata": {},
   "outputs": [],
   "source": [
    "    "
   ]
  },
  {
   "cell_type": "code",
   "execution_count": 7,
   "metadata": {},
   "outputs": [],
   "source": [
    "with tf.variable_scope(scope_name) as scope:\n",
    "    weights = model.get_weights_np(sess)"
   ]
  },
  {
   "cell_type": "code",
   "execution_count": 8,
   "metadata": {},
   "outputs": [
    {
     "data": {
      "image/png": "[encoded data removed]",
      "text/plain": [
       "<Figure size 432x288 with 1 Axes>"
      ]
     },
     "metadata": {
      "needs_background": "light"
     },
     "output_type": "display_data"
    }
   ],
   "source": [
    "sing_vals = []\n",
    "for (idx, weight_matrix) in enumerate(weights):\n",
    "        sig = plot_singular_values(weight_matrix, idx)\n",
    "        sing_vals.append(sig)"
   ]
  },
  {
   "cell_type": "code",
   "execution_count": 9,
   "metadata": {},
   "outputs": [
    {
     "data": {
      "text/plain": [
       "[array([11.219591 ,  9.356054 ,  8.853931 ,  8.339419 ,  7.9637704,\n",
       "         7.8134637,  7.3564215,  7.058405 ,  6.66576  ,  6.3353806,\n",
       "         5.959866 ,  5.688879 ,  5.37518  ,  5.0967546,  4.916018 ,\n",
       "         4.587053 ,  4.5058117,  4.1946373,  3.826147 ,  3.7809627,\n",
       "         3.6920755,  3.5512054,  3.4865568,  3.3326955,  3.158114 ,\n",
       "         2.8874547,  2.7380967,  2.6529348,  1.9937172,  1.4182587,\n",
       "         1.3975704,  1.3518547], dtype=float32),\n",
       " array([3.3555133 , 3.0770993 , 2.8867211 , 2.7135534 , 2.546874  ,\n",
       "        2.3628848 , 2.154325  , 2.0367765 , 1.7889944 , 1.7673813 ,\n",
       "        1.5701079 , 1.4319557 , 1.3497653 , 1.2428688 , 1.1750933 ,\n",
       "        1.0686702 , 0.9814576 , 0.8870417 , 0.8434903 , 0.7797669 ,\n",
       "        0.7305877 , 0.6794515 , 0.58738804, 0.4739951 , 0.4635789 ,\n",
       "        0.3811394 , 0.31063223, 0.3000163 , 0.18293275, 0.12966576,\n",
       "        0.1047547 , 0.02554336], dtype=float32),\n",
       " array([3.190353  , 2.9698312 , 2.5693169 , 2.4689467 , 2.2635596 ,\n",
       "        2.1147387 , 1.9464352 , 1.807925  , 1.7158626 , 1.6282052 ,\n",
       "        1.4895344 , 1.4230894 , 1.3509948 , 1.2100762 , 1.1883975 ,\n",
       "        1.1575755 , 1.0261064 , 0.9290708 , 0.86253023, 0.76148295,\n",
       "        0.72430235, 0.61824846, 0.55077726, 0.5103169 , 0.43055552,\n",
       "        0.38944536, 0.3188387 , 0.23886074, 0.20708954, 0.12144791,\n",
       "        0.08276477, 0.04309303], dtype=float32),\n",
       " array([2.8452258e+00, 2.6188340e+00, 2.5286345e+00, 2.3387492e+00,\n",
       "        2.1579468e+00, 2.0072129e+00, 1.8655638e+00, 1.7826869e+00,\n",
       "        1.7490358e+00, 1.5725136e+00, 1.3966112e+00, 1.3102072e+00,\n",
       "        1.2826613e+00, 1.2192627e+00, 1.0728359e+00, 1.0300537e+00,\n",
       "        1.0080957e+00, 9.2746454e-01, 8.2734507e-01, 7.0508933e-01,\n",
       "        6.6827941e-01, 6.3690925e-01, 5.9442103e-01, 5.4857349e-01,\n",
       "        4.4191688e-01, 4.2180634e-01, 3.1918415e-01, 3.0032116e-01,\n",
       "        2.4198188e-01, 1.9278662e-01, 6.9754243e-02, 1.1718363e-03],\n",
       "       dtype=float32),\n",
       " array([2.901472  , 2.6032808 , 2.4015148 , 2.2186232 , 2.1847334 ,\n",
       "        2.0373197 , 1.8906741 , 1.7487321 , 1.5532565 , 1.5091616 ,\n",
       "        1.3837597 , 1.2700645 , 1.2122113 , 1.1988032 , 1.0193223 ,\n",
       "        0.984506  , 0.9304359 , 0.8913198 , 0.77399176, 0.71206063,\n",
       "        0.69692767, 0.58563584, 0.5508147 , 0.5348823 , 0.38649347,\n",
       "        0.373703  , 0.2468968 , 0.23851275, 0.19493984, 0.1737749 ,\n",
       "        0.15706344, 0.01739872], dtype=float32),\n",
       " array([2.9760718 , 2.333512  , 2.0725555 , 2.0187197 , 1.9795659 ,\n",
       "        1.8615584 , 1.7509702 , 1.6380112 , 1.4694991 , 1.4352221 ,\n",
       "        1.3414254 , 1.2615607 , 1.1767647 , 1.0986328 , 1.0747318 ,\n",
       "        1.0236136 , 0.89616644, 0.8689524 , 0.809904  , 0.75235856,\n",
       "        0.5959633 , 0.57490224, 0.52746135, 0.4695078 , 0.455508  ,\n",
       "        0.38014618, 0.2945307 , 0.25441262, 0.16488862, 0.12210075,\n",
       "        0.11063597, 0.01939967], dtype=float32),\n",
       " array([2.5741491e+00, 2.3739696e+00, 2.3302736e+00, 2.1738555e+00,\n",
       "        2.0246203e+00, 1.9149199e+00, 1.8571788e+00, 1.7183040e+00,\n",
       "        1.6449645e+00, 1.5860279e+00, 1.4970441e+00, 1.2855495e+00,\n",
       "        1.1553078e+00, 1.0768473e+00, 1.0188533e+00, 9.7159731e-01,\n",
       "        9.3599600e-01, 8.5609484e-01, 8.0536884e-01, 7.6114839e-01,\n",
       "        7.1294886e-01, 6.2960088e-01, 5.2698934e-01, 4.9925396e-01,\n",
       "        4.3090627e-01, 3.9069718e-01, 3.3584318e-01, 2.7394122e-01,\n",
       "        1.7103258e-01, 1.5236886e-01, 1.0089135e-01, 1.3923920e-03],\n",
       "       dtype=float32),\n",
       " array([3.005259 , 2.409253 , 2.191596 , 1.9573574, 1.6897454, 1.2956517,\n",
       "        1.1981667, 1.1196339, 1.0656364, 0.8578519], dtype=float32)]"
      ]
     },
     "execution_count": 9,
     "metadata": {},
     "output_type": "execute_result"
    }
   ],
   "source": [
    "sing_vals"
   ]
  },
  {
   "cell_type": "markdown",
   "metadata": {},
   "source": [
    "# Adversarial Training"
   ]
  },
  {
   "cell_type": "code",
   "execution_count": 10,
   "metadata": {},
   "outputs": [],
   "source": [
    "#Config\n",
    "eps_train = 0.1\n",
    "eps_test = 0.1\n",
    "tensorboard_dir = \"tb/\"\n",
    "weights_dir = \"weights/\"\n",
    "\n",
    "load_counter = 75\n",
    "sigma = tf.nn.relu\n",
    "\n",
    "scope_name_rob = \"model_robust\""
   ]
  },
  {
   "cell_type": "code",
   "execution_count": 11,
   "metadata": {},
   "outputs": [
    {
     "name": "stderr",
     "output_type": "stream",
     "text": [
      "Adversarial Training\n",
      "I0813 11:35:43.545417 4588717504 <ipython-input-11-88acce1c6774>:8] Adversarial Training\n",
      "Initialized instance variables of the robust model class\n",
      "I0813 11:35:43.547413 4588717504 feedforward_robust.py:30] Initialized instance variables of the robust model class\n",
      "Created placeholders for x and y\n",
      "I0813 11:35:43.552323 4588717504 feedforward_robust.py:36] Created placeholders for x and y\n",
      "Created layers and tensor for logits\n",
      "I0813 11:35:43.676810 4588717504 feedforward_robust.py:40] Created layers and tensor for logits\n",
      "Added loss computation to the graph\n",
      "I0813 11:35:43.700098 4588717504 feedforward_robust.py:45] Added loss computation to the graph\n",
      "Added accuracy computation to the graph\n",
      "I0813 11:35:43.708029 4588717504 feedforward_robust.py:49] Added accuracy computation to the graph\n",
      "Model graph was created\n",
      "I0813 11:35:43.710850 4588717504 feedforward_robust.py:52] Model graph was created\n",
      "W0813 11:35:43.908967 4588717504 deprecation.py:323] From ../feedforward_robust.py:344: all_variables (from tensorflow.python.ops.variables) is deprecated and will be removed after 2017-03-02.\n",
      "Instructions for updating:\n",
      "Please use tf.global_variables instead.\n",
      "W0813 11:35:43.909627 4588717504 deprecation_wrapper.py:119] From ../feedforward_robust.py:345: The name tf.train.AdamOptimizer is deprecated. Please use tf.compat.v1.train.AdamOptimizer instead.\n",
      "\n",
      "W0813 11:35:44.693880 4588717504 deprecation.py:323] From /usr/local/lib/python3.7/site-packages/tensorflow/python/util/tf_should_use.py:193: initialize_variables (from tensorflow.python.ops.variables) is deprecated and will be removed after 2017-03-02.\n",
      "Instructions for updating:\n",
      "Use `tf.variables_initializer` instead.\n",
      "Epoch: 0001    cost: 1.785040568 \n",
      "I0813 11:35:48.444230 4588717504 feedforward_robust.py:307] Epoch: 0001    cost: 1.785040568 \n",
      "Accuracy on batch: 0.437500\n",
      "I0813 11:35:48.445548 4588717504 feedforward_robust.py:308] Accuracy on batch: 0.437500\n",
      "Epoch: 0002    cost: 1.288032522 \n",
      "I0813 11:35:51.755696 4588717504 feedforward_robust.py:307] Epoch: 0002    cost: 1.288032522 \n",
      "Accuracy on batch: 0.437500\n",
      "I0813 11:35:51.756868 4588717504 feedforward_robust.py:308] Accuracy on batch: 0.437500\n",
      "Epoch: 0003    cost: 1.101505802 \n",
      "I0813 11:35:55.070109 4588717504 feedforward_robust.py:307] Epoch: 0003    cost: 1.101505802 \n",
      "Accuracy on batch: 0.687500\n",
      "I0813 11:35:55.071490 4588717504 feedforward_robust.py:308] Accuracy on batch: 0.687500\n",
      "Epoch: 0004    cost: 0.996078815 \n",
      "I0813 11:35:58.408957 4588717504 feedforward_robust.py:307] Epoch: 0004    cost: 0.996078815 \n",
      "Accuracy on batch: 0.718750\n",
      "I0813 11:35:58.410074 4588717504 feedforward_robust.py:308] Accuracy on batch: 0.718750\n",
      "Epoch: 0005    cost: 0.911505219 \n",
      "I0813 11:36:01.718394 4588717504 feedforward_robust.py:307] Epoch: 0005    cost: 0.911505219 \n",
      "Accuracy on batch: 0.781250\n",
      "I0813 11:36:01.719698 4588717504 feedforward_robust.py:308] Accuracy on batch: 0.781250\n",
      "Epoch: 0006    cost: 0.841014483 \n",
      "I0813 11:36:05.194992 4588717504 feedforward_robust.py:307] Epoch: 0006    cost: 0.841014483 \n",
      "Accuracy on batch: 0.750000\n",
      "I0813 11:36:05.196280 4588717504 feedforward_robust.py:308] Accuracy on batch: 0.750000\n",
      "Epoch: 0007    cost: 0.790034424 \n",
      "I0813 11:36:08.703644 4588717504 feedforward_robust.py:307] Epoch: 0007    cost: 0.790034424 \n",
      "Accuracy on batch: 0.750000\n",
      "I0813 11:36:08.704857 4588717504 feedforward_robust.py:308] Accuracy on batch: 0.750000\n",
      "Epoch: 0008    cost: 0.747985006 \n",
      "I0813 11:36:12.361174 4588717504 feedforward_robust.py:307] Epoch: 0008    cost: 0.747985006 \n",
      "Accuracy on batch: 0.656250\n",
      "I0813 11:36:12.362560 4588717504 feedforward_robust.py:308] Accuracy on batch: 0.656250\n",
      "Epoch: 0009    cost: 0.713117324 \n",
      "I0813 11:36:15.832475 4588717504 feedforward_robust.py:307] Epoch: 0009    cost: 0.713117324 \n",
      "Accuracy on batch: 0.781250\n",
      "I0813 11:36:15.833836 4588717504 feedforward_robust.py:308] Accuracy on batch: 0.781250\n",
      "Epoch: 0010    cost: 0.680820944 \n",
      "I0813 11:36:19.212561 4588717504 feedforward_robust.py:307] Epoch: 0010    cost: 0.680820944 \n",
      "Accuracy on batch: 0.656250\n",
      "I0813 11:36:19.213903 4588717504 feedforward_robust.py:308] Accuracy on batch: 0.656250\n",
      "Epoch: 0011    cost: 0.655766582 \n",
      "I0813 11:36:22.578979 4588717504 feedforward_robust.py:307] Epoch: 0011    cost: 0.655766582 \n",
      "Accuracy on batch: 0.750000\n",
      "I0813 11:36:22.580199 4588717504 feedforward_robust.py:308] Accuracy on batch: 0.750000\n",
      "Epoch: 0012    cost: 0.631246204 \n",
      "I0813 11:36:25.994096 4588717504 feedforward_robust.py:307] Epoch: 0012    cost: 0.631246204 \n",
      "Accuracy on batch: 0.750000\n",
      "I0813 11:36:25.995327 4588717504 feedforward_robust.py:308] Accuracy on batch: 0.750000\n",
      "Epoch: 0013    cost: 0.610489984 \n",
      "I0813 11:36:29.387760 4588717504 feedforward_robust.py:307] Epoch: 0013    cost: 0.610489984 \n",
      "Accuracy on batch: 0.843750\n",
      "I0813 11:36:29.389270 4588717504 feedforward_robust.py:308] Accuracy on batch: 0.843750\n",
      "Epoch: 0014    cost: 0.591976987 \n",
      "I0813 11:36:32.776705 4588717504 feedforward_robust.py:307] Epoch: 0014    cost: 0.591976987 \n",
      "Accuracy on batch: 0.781250\n",
      "I0813 11:36:32.777875 4588717504 feedforward_robust.py:308] Accuracy on batch: 0.781250\n",
      "Epoch: 0015    cost: 0.578293814 \n",
      "I0813 11:36:36.192883 4588717504 feedforward_robust.py:307] Epoch: 0015    cost: 0.578293814 \n",
      "Accuracy on batch: 0.875000\n",
      "I0813 11:36:36.194446 4588717504 feedforward_robust.py:308] Accuracy on batch: 0.875000\n",
      "Epoch: 0016    cost: 0.562904773 \n",
      "I0813 11:36:39.592922 4588717504 feedforward_robust.py:307] Epoch: 0016    cost: 0.562904773 \n",
      "Accuracy on batch: 0.937500\n",
      "I0813 11:36:39.594424 4588717504 feedforward_robust.py:308] Accuracy on batch: 0.937500\n",
      "Epoch: 0017    cost: 0.549633799 \n",
      "I0813 11:36:43.036612 4588717504 feedforward_robust.py:307] Epoch: 0017    cost: 0.549633799 \n",
      "Accuracy on batch: 0.906250\n",
      "I0813 11:36:43.038490 4588717504 feedforward_robust.py:308] Accuracy on batch: 0.906250\n",
      "Epoch: 0018    cost: 0.536466458 \n",
      "I0813 11:36:46.434794 4588717504 feedforward_robust.py:307] Epoch: 0018    cost: 0.536466458 \n",
      "Accuracy on batch: 0.875000\n",
      "I0813 11:36:46.436307 4588717504 feedforward_robust.py:308] Accuracy on batch: 0.875000\n",
      "Epoch: 0019    cost: 0.528563393 \n",
      "I0813 11:36:49.905479 4588717504 feedforward_robust.py:307] Epoch: 0019    cost: 0.528563393 \n",
      "Accuracy on batch: 0.937500\n",
      "I0813 11:36:49.906621 4588717504 feedforward_robust.py:308] Accuracy on batch: 0.937500\n",
      "Epoch: 0020    cost: 0.513726976 \n",
      "I0813 11:36:53.267476 4588717504 feedforward_robust.py:307] Epoch: 0020    cost: 0.513726976 \n",
      "Accuracy on batch: 0.875000\n",
      "I0813 11:36:53.268687 4588717504 feedforward_robust.py:308] Accuracy on batch: 0.875000\n",
      "Optimization Finished!\n",
      "I0813 11:36:53.270420 4588717504 feedforward_robust.py:309] Optimization Finished!\n",
      "Final Train Loss 0.277343\n",
      "I0813 11:36:53.502074 4588717504 feedforward_robust.py:317] Final Train Loss 0.277343\n",
      "Final Train Accuracy 0.923333:\n",
      "I0813 11:36:53.503221 4588717504 feedforward_robust.py:318] Final Train Accuracy 0.923333:\n",
      "Final Train Loss on Adv points 0.517810\n",
      "I0813 11:36:54.186599 4588717504 feedforward_robust.py:358] Final Train Loss on Adv points 0.517810\n",
      "Final Train Accuracy on Adv points 0.834083\n",
      "I0813 11:36:54.187716 4588717504 feedforward_robust.py:359] Final Train Accuracy on Adv points 0.834083\n",
      "Model was trained on adversarial data\n",
      "I0813 11:36:54.189155 4588717504 feedforward_robust.py:360] Model was trained on adversarial data\n",
      "Model was evaluated on benign data\n",
      "I0813 11:36:54.238860 4588717504 feedforward_robust.py:265] Model was evaluated on benign data\n",
      "Model is being evaluated on FGSM data\n",
      "I0813 11:36:54.440529 4588717504 feedforward_robust.py:271] Model is being evaluated on FGSM data\n"
     ]
    }
   ],
   "source": [
    "sess = tf.Session()\n",
    "hidden_sizes = [32,32,32,32,32,32,32]\n",
    "dataset = ((x_train_flat, y_train), (x_test_flat, y_test))\n",
    "\n",
    "with tf.variable_scope(scope_name_rob) as scope:\n",
    "    logdir = tensorboard_dir + str(counter) + \"/robust\"\n",
    "    writer_robust = tf.summary.FileWriter(logdir)\n",
    "    logger.info(\"Adversarial Training\")\n",
    "    robust_model = ffr.RobustMLP(input_shape, hidden_sizes, num_classes, writer = writer_robust, scope = scope_name_rob, logger = logger, sigma = sigma)\n",
    "    sess.run(tf.global_variables_initializer())\n",
    "    robust_model.adv_fit(sess, x_train_flat, y_train, eps_train, lr = 3e-4, training_epochs = 20)\n",
    "\n",
    "\n",
    "    loss_reg, acc_reg = robust_model.evaluate(sess, x_test_flat, y_test)\n",
    "    loss_adv, acc_adv = robust_model.adv_evaluate(sess, x_test_flat, y_test, eps_test)"
   ]
  },
  {
   "cell_type": "code",
   "execution_count": 12,
   "metadata": {},
   "outputs": [
    {
     "data": {
      "text/plain": [
       "(0.25647563, 0.9283)"
      ]
     },
     "execution_count": 12,
     "metadata": {},
     "output_type": "execute_result"
    }
   ],
   "source": [
    "loss_reg, acc_reg"
   ]
  },
  {
   "cell_type": "code",
   "execution_count": 13,
   "metadata": {},
   "outputs": [
    {
     "data": {
      "text/plain": [
       "(0.53582734, 0.8272)"
      ]
     },
     "execution_count": 13,
     "metadata": {},
     "output_type": "execute_result"
    }
   ],
   "source": [
    "loss_adv, acc_adv"
   ]
  },
  {
   "cell_type": "code",
   "execution_count": 14,
   "metadata": {},
   "outputs": [],
   "source": [
    "with tf.variable_scope(scope_name) as scope:\n",
    "    weights_robust = robust_model.get_weights_np(sess)"
   ]
  },
  {
   "cell_type": "code",
   "execution_count": 15,
   "metadata": {},
   "outputs": [
    {
     "data": {
      "image/png": "[encoded data removed]",
      "text/plain": [
       "<Figure size 432x288 with 1 Axes>"
      ]
     },
     "metadata": {
      "needs_background": "light"
     },
     "output_type": "display_data"
    }
   ],
   "source": [
    "sing_vals_robust = []\n",
    "for (idx, weight_matrix) in enumerate(weights_robust):\n",
    "    sig = plot_singular_values(weight_matrix, idx)\n",
    "    sing_vals_robust.append(sig)"
   ]
  },
  {
   "cell_type": "code",
   "execution_count": 16,
   "metadata": {},
   "outputs": [
    {
     "data": {
      "text/plain": [
       "array([11.219591 ,  9.356054 ,  8.853931 ,  8.339419 ,  7.9637704,\n",
       "        7.8134637,  7.3564215,  7.058405 ,  6.66576  ,  6.3353806,\n",
       "        5.959866 ,  5.688879 ,  5.37518  ,  5.0967546,  4.916018 ,\n",
       "        4.587053 ,  4.5058117,  4.1946373,  3.826147 ,  3.7809627,\n",
       "        3.6920755,  3.5512054,  3.4865568,  3.3326955,  3.158114 ,\n",
       "        2.8874547,  2.7380967,  2.6529348,  1.9937172,  1.4182587,\n",
       "        1.3975704,  1.3518547], dtype=float32)"
      ]
     },
     "execution_count": 16,
     "metadata": {},
     "output_type": "execute_result"
    }
   ],
   "source": [
    "sing_vals[0]"
   ]
  },
  {
   "cell_type": "code",
   "execution_count": 17,
   "metadata": {},
   "outputs": [
    {
     "data": {
      "text/plain": [
       "array([1.6677608, 1.626581 , 1.6134169, 1.5850725, 1.5359833, 1.52294  ,\n",
       "       1.5027137, 1.491237 , 1.4716235, 1.462723 , 1.4329294, 1.426279 ,\n",
       "       1.4231696, 1.4060042, 1.390371 , 1.3793149, 1.3681217, 1.3454535,\n",
       "       1.3225484, 1.316983 , 1.3159894, 1.3092301, 1.2912441, 1.2824394,\n",
       "       1.2758757, 1.2579869, 1.2159212, 1.2065603, 1.198459 , 1.1821938,\n",
       "       1.1394651, 1.1249021], dtype=float32)"
      ]
     },
     "execution_count": 17,
     "metadata": {},
     "output_type": "execute_result"
    }
   ],
   "source": [
    "sing_vals_robust[0]"
   ]
  },
  {
   "cell_type": "code",
   "execution_count": 18,
   "metadata": {},
   "outputs": [
    {
     "data": {
      "text/plain": [
       "array([3.3555133 , 3.0770993 , 2.8867211 , 2.7135534 , 2.546874  ,\n",
       "       2.3628848 , 2.154325  , 2.0367765 , 1.7889944 , 1.7673813 ,\n",
       "       1.5701079 , 1.4319557 , 1.3497653 , 1.2428688 , 1.1750933 ,\n",
       "       1.0686702 , 0.9814576 , 0.8870417 , 0.8434903 , 0.7797669 ,\n",
       "       0.7305877 , 0.6794515 , 0.58738804, 0.4739951 , 0.4635789 ,\n",
       "       0.3811394 , 0.31063223, 0.3000163 , 0.18293275, 0.12966576,\n",
       "       0.1047547 , 0.02554336], dtype=float32)"
      ]
     },
     "execution_count": 18,
     "metadata": {},
     "output_type": "execute_result"
    }
   ],
   "source": [
    "sing_vals[1]"
   ]
  },
  {
   "cell_type": "code",
   "execution_count": 19,
   "metadata": {},
   "outputs": [
    {
     "data": {
      "text/plain": [
       "array([1.887668  , 1.6942089 , 1.6449747 , 1.499068  , 1.4538122 ,\n",
       "       1.4178838 , 1.3789313 , 1.3248868 , 1.2434738 , 1.223006  ,\n",
       "       1.1563638 , 1.1074302 , 1.0692275 , 0.99580574, 0.896246  ,\n",
       "       0.8298066 , 0.76028234, 0.6924086 , 0.6641896 , 0.593825  ,\n",
       "       0.5642524 , 0.5320855 , 0.5032892 , 0.42221197, 0.36385456,\n",
       "       0.3311913 , 0.27531707, 0.19318244, 0.11271328, 0.07225836,\n",
       "       0.04739637, 0.01530137], dtype=float32)"
      ]
     },
     "execution_count": 19,
     "metadata": {},
     "output_type": "execute_result"
    }
   ],
   "source": [
    "sing_vals_robust[1]"
   ]
  },
  {
   "cell_type": "code",
   "execution_count": 20,
   "metadata": {},
   "outputs": [
    {
     "data": {
      "text/plain": [
       "array([3.190353  , 2.9698312 , 2.5693169 , 2.4689467 , 2.2635596 ,\n",
       "       2.1147387 , 1.9464352 , 1.807925  , 1.7158626 , 1.6282052 ,\n",
       "       1.4895344 , 1.4230894 , 1.3509948 , 1.2100762 , 1.1883975 ,\n",
       "       1.1575755 , 1.0261064 , 0.9290708 , 0.86253023, 0.76148295,\n",
       "       0.72430235, 0.61824846, 0.55077726, 0.5103169 , 0.43055552,\n",
       "       0.38944536, 0.3188387 , 0.23886074, 0.20708954, 0.12144791,\n",
       "       0.08276477, 0.04309303], dtype=float32)"
      ]
     },
     "execution_count": 20,
     "metadata": {},
     "output_type": "execute_result"
    }
   ],
   "source": [
    "sing_vals[2]"
   ]
  },
  {
   "cell_type": "code",
   "execution_count": 21,
   "metadata": {},
   "outputs": [
    {
     "data": {
      "text/plain": [
       "array([1.9001371e+00, 1.8189362e+00, 1.7378025e+00, 1.6721936e+00,\n",
       "       1.5821770e+00, 1.4467629e+00, 1.4266459e+00, 1.3954374e+00,\n",
       "       1.3020606e+00, 1.2151195e+00, 1.1128029e+00, 1.0583509e+00,\n",
       "       1.0264461e+00, 9.9107736e-01, 8.7979048e-01, 8.2068938e-01,\n",
       "       7.4639565e-01, 7.1775836e-01, 7.0205998e-01, 6.4946991e-01,\n",
       "       6.0596347e-01, 5.5866909e-01, 5.1745045e-01, 4.7880158e-01,\n",
       "       3.9480546e-01, 3.0306813e-01, 2.6341805e-01, 2.1788399e-01,\n",
       "       1.6934510e-01, 1.5416868e-01, 3.6822736e-02, 8.2874682e-04],\n",
       "      dtype=float32)"
      ]
     },
     "execution_count": 21,
     "metadata": {},
     "output_type": "execute_result"
    }
   ],
   "source": [
    "sing_vals_robust[2]"
   ]
  },
  {
   "cell_type": "code",
   "execution_count": 22,
   "metadata": {},
   "outputs": [
    {
     "data": {
      "text/plain": [
       "array([3.005259 , 2.409253 , 2.191596 , 1.9573574, 1.6897454, 1.2956517,\n",
       "       1.1981667, 1.1196339, 1.0656364, 0.8578519], dtype=float32)"
      ]
     },
     "execution_count": 22,
     "metadata": {},
     "output_type": "execute_result"
    }
   ],
   "source": [
    "sing_vals[-1]"
   ]
  },
  {
   "cell_type": "code",
   "execution_count": 23,
   "metadata": {},
   "outputs": [
    {
     "data": {
      "text/plain": [
       "array([1.7867657 , 1.6395731 , 1.5704894 , 1.3672873 , 1.2130424 ,\n",
       "       1.1392665 , 1.0446727 , 0.92542356, 0.84131914, 0.7295372 ],\n",
       "      dtype=float32)"
      ]
     },
     "execution_count": 23,
     "metadata": {},
     "output_type": "execute_result"
    }
   ],
   "source": [
    "sing_vals_robust[-1]"
   ]
  },
  {
   "cell_type": "code",
   "execution_count": null,
   "metadata": {},
   "outputs": [],
   "source": []
  }
 ],
 "metadata": {
  "kernelspec": {
   "display_name": "Python 3",
   "language": "python",
   "name": "python3"
  },
  "language_info": {
   "codemirror_mode": {
    "name": "ipython",
    "version": 3
   },
   "file_extension": ".py",
   "mimetype": "text/x-python",
   "name": "python",
   "nbconvert_exporter": "python",
   "pygments_lexer": "ipython3",
   "version": "3.7.3"
  }
 },
 "nbformat": 4,
 "nbformat_minor": 2
}

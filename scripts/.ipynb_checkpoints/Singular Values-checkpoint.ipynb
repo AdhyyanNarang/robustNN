{
 "cells": [
  {
   "cell_type": "code",
   "execution_count": 1,
   "metadata": {},
   "outputs": [],
   "source": [
    "#Imports\n",
    "\n",
    "import logging\n",
    "import os, random, time, sys\n",
    "import numpy as np\n",
    "import tensorflow as tf\n",
    "import tensorflow.contrib.layers as layers\n",
    "sys.path.append('../')\n",
    "sys.path.append('../util/')\n",
    "import feedforward_robust as ffr\n",
    "import ipdb\n",
    "from util import *\n",
    "\n",
    "#Read the counter\n",
    "ctr_file = \"counter.txt\"\n",
    "f = open(ctr_file, 'r')\n",
    "counter = f.readline()\n",
    "f.close()\n",
    "\n",
    "counter = 1 + int(counter)\n",
    "f = open(ctr_file,'w')\n",
    "f.write('{}'.format(counter))\n",
    "f.close()\n",
    "logfile = \"logs/results_\" + str(counter) + \".log\"\n",
    "\n",
    "logger = logging.getLogger(\"robustness\")\n",
    "logger.setLevel(logging.DEBUG)\n",
    "fh = logging.FileHandler(logfile)\n",
    "fh.setLevel(logging.INFO)\n",
    "formatter = logging.Formatter('%(asctime)s - %(name)s - %(levelname)s - %(message)s')\n",
    "fh.setFormatter(formatter)\n",
    "logger.addHandler(fh)\n",
    "logger.addHandler(logging.StreamHandler())"
   ]
  },
  {
   "cell_type": "code",
   "execution_count": 2,
   "metadata": {},
   "outputs": [],
   "source": [
    "#Setup - Dataset stuff\n",
    "dataset, input_shape, num_classes = get_dataset()\n",
    "x_train_flat, y_train = dataset[0] \n",
    "x_test_flat, y_test = dataset[1] \n",
    "hidden_sizes = [32,32,32,32,32,32,32]"
   ]
  },
  {
   "cell_type": "code",
   "execution_count": 3,
   "metadata": {},
   "outputs": [
    {
     "data": {
      "text/plain": [
       "(60000, 784)"
      ]
     },
     "execution_count": 3,
     "metadata": {},
     "output_type": "execute_result"
    }
   ],
   "source": [
    "x_train_flat.shape"
   ]
  },
  {
   "cell_type": "code",
   "execution_count": 4,
   "metadata": {},
   "outputs": [],
   "source": [
    "def plot_singular_values(matrix, idx):\n",
    "    _, sig, V = np.linalg.svd(matrix)\n",
    "    plt.plot(range(len(sig)), sig, label = \"Layer number %d\" %idx)\n",
    "    plt.legend(loc = 'upper right')\n",
    "    return sig"
   ]
  },
  {
   "cell_type": "markdown",
   "metadata": {},
   "source": [
    "## Regular Training"
   ]
  },
  {
   "cell_type": "code",
   "execution_count": null,
   "metadata": {},
   "outputs": [],
   "source": [
    "#Config\n",
    "eps_train = 0.1\n",
    "eps_test = 0.1\n",
    "tensorboard_dir = \"tb/\"\n",
    "weights_dir = \"weights/\"\n",
    "\n",
    "load_counter = 58\n",
    "sigma = tf.nn.relu\n",
    "\n",
    "scope_name = \"model_non_robust\""
   ]
  },
  {
   "cell_type": "code",
   "execution_count": null,
   "metadata": {},
   "outputs": [
    {
     "name": "stderr",
     "output_type": "stream",
     "text": [
      "Initialized instance variables of the robust model class\n",
      "Created placeholders for x and y\n"
     ]
    },
    {
     "name": "stdout",
     "output_type": "stream",
     "text": [
      "WARNING:tensorflow:From /Users/adhyyan/anaconda3/lib/python3.7/site-packages/tensorflow/python/framework/op_def_library.py:263: colocate_with (from tensorflow.python.framework.ops) is deprecated and will be removed in a future version.\n",
      "Instructions for updating:\n",
      "Colocations handled automatically by placer.\n"
     ]
    },
    {
     "name": "stderr",
     "output_type": "stream",
     "text": [
      "Created layers and tensor for logits\n"
     ]
    },
    {
     "name": "stdout",
     "output_type": "stream",
     "text": [
      "WARNING:tensorflow:From ../feedforward_robust.py:42: softmax_cross_entropy_with_logits (from tensorflow.python.ops.nn_ops) is deprecated and will be removed in a future version.\n",
      "Instructions for updating:\n",
      "\n",
      "Future major versions of TensorFlow will allow gradients to flow\n",
      "into the labels input on backprop by default.\n",
      "\n",
      "See `tf.nn.softmax_cross_entropy_with_logits_v2`.\n",
      "\n"
     ]
    },
    {
     "name": "stderr",
     "output_type": "stream",
     "text": [
      "Added loss computation to the graph\n",
      "Added accuracy computation to the graph\n",
      "Model graph was created\n",
      "Created model successfully. Now going to load weights\n"
     ]
    },
    {
     "name": "stdout",
     "output_type": "stream",
     "text": [
      "WARNING:tensorflow:From /Users/adhyyan/anaconda3/lib/python3.7/site-packages/tensorflow/python/training/saver.py:1266: checkpoint_exists (from tensorflow.python.training.checkpoint_management) is deprecated and will be removed in a future version.\n",
      "Instructions for updating:\n",
      "Use standard file APIs to check for files with this prefix.\n",
      "INFO:tensorflow:Restoring parameters from weights/model_58.ckpt\n"
     ]
    },
    {
     "name": "stderr",
     "output_type": "stream",
     "text": [
      "Model was evaluated on benign data\n",
      "----Regular test accuracy and loss ----\n",
      "(0.17103767, 0.9531)\n",
      "Model was evaluated on benign data\n",
      "----Regular test accuracy and loss ----\n",
      "(0.17103767, 0.9531)\n",
      "Model is being evaluated on FGSM data\n",
      "----FGSM test accuracy and loss ----\n",
      "(6.3987045, 0.0485)\n"
     ]
    }
   ],
   "source": [
    "with tf.variable_scope(scope_name) as scope:\n",
    "    sess = tf.Session()\n",
    "    logdir = tensorboard_dir + str(counter) + \"/non_robust\"\n",
    "\n",
    "    #Create, train and test model\n",
    "    writer = tf.summary.FileWriter(logdir)\n",
    "    model = ffr.RobustMLP(input_shape, hidden_sizes, num_classes, writer = writer, scope = scope_name, logger = logger, sigma =sigma)\n",
    "    logger.info(\"Created model successfully. Now going to load weights\")\n",
    "\n",
    "    #Restore weights\n",
    "    weights = tf.trainable_variables()\n",
    "    saver = tf.train.Saver(weights)\n",
    "    weights_path = saver.restore(sess, weights_dir + \"model_\" + str(load_counter) + \".ckpt\")\n",
    "\n",
    "    writer.add_graph(sess.graph)\n",
    "\n",
    "    loss_reg, acc_reg = model.evaluate(sess, x_test_flat, y_test)\n",
    "    logger.info(\"----Regular test accuracy and loss ----\")\n",
    "    logger.info((loss_reg, acc_reg))\n",
    "\n",
    "    \n",
    "    with tf.variable_scope(\"testing_benign\") as scope:\n",
    "        loss_reg, acc_reg = model.evaluate(sess, x_test_flat, y_test)\n",
    "        logger.info(\"----Regular test accuracy and loss ----\")\n",
    "        logger.info((loss_reg, acc_reg))\n",
    "\n",
    "\n",
    "    with tf.variable_scope(\"testing_adversarial\") as scope:\n",
    "        loss_fgsm, acc_fgsm = model.adv_evaluate(sess, x_test_flat, y_test, eps_test, pgd = False)\n",
    "        logger.info(\"----FGSM test accuracy and loss ----\")\n",
    "        logger.info((loss_fgsm, acc_fgsm))\n",
    "        x_test_flat_adv = model.fgsm_np(sess, x_test_flat, y_test, eps_test)\n",
    "\n",
    "\n",
    "    #Distances and norms\n",
    "\n",
    "    if False:\n",
    "        norms = get_norms(model.get_weights()[0])\n",
    "        norms_np = sess.run(norms)\n",
    "        logger.info(norms_np)\n",
    "        overall, overall_std, correct, _, incorrect, _ = model.get_distance(sess, eps_test, x_test_flat, y_test)\n",
    "        logger.info(\"---Distances----\")\n",
    "        logger.info(overall)\n",
    "        logger.info(\"------Std devs on Distances----\")\n",
    "        logger.info(overall_std)\n",
    "\n",
    "\n",
    "    if False:\n",
    "        #TSNE visualization of final layer.\n",
    "        x_test_flat_adv = model.fgsm_np(sess, x_test_flat, y_test, eps_test)\n",
    "        metadata_path = os.path.join(logdir, 'metadata.tsv')\n",
    "        write_metadata(metadata_path, y_test_ogi[0:1000])\n",
    "        sprite_path = os.path.join(logdir, 'sprite_images.png')\n",
    "        write_sprite_image(sprite_path, x_test_ogi[0:1000])\n",
    "        model.visualize_activation_tsne(sess, x_test_flat_adv[0:1000], 'metadata.tsv', 'sprite_images.png', logdir)\n"
   ]
  },
  {
   "cell_type": "code",
   "execution_count": null,
   "metadata": {},
   "outputs": [],
   "source": [
    "    "
   ]
  },
  {
   "cell_type": "code",
   "execution_count": null,
   "metadata": {},
   "outputs": [],
   "source": [
    "with tf.variable_scope(scope_name) as scope:\n",
    "    weights = model.get_weights_np(sess)"
   ]
  },
  {
   "cell_type": "code",
   "execution_count": null,
   "metadata": {},
   "outputs": [
    {
     "data": {
      "image/png": "[encoded data removed]",
      "text/plain": [
       "<Figure size 432x288 with 1 Axes>"
      ]
     },
     "metadata": {
      "needs_background": "light"
     },
     "output_type": "display_data"
    }
   ],
   "source": [
    "sing_vals = []\n",
    "for (idx, weight_matrix) in enumerate(weights):\n",
    "        sig = plot_singular_values(weight_matrix, idx)\n",
    "        sing_vals.append(sig)"
   ]
  },
  {
   "cell_type": "code",
   "execution_count": null,
   "metadata": {},
   "outputs": [
    {
     "data": {
      "text/plain": [
       "[array([11.219591 ,  9.356054 ,  8.853931 ,  8.339419 ,  7.9637704,\n",
       "         7.8134637,  7.3564215,  7.058405 ,  6.66576  ,  6.3353806,\n",
       "         5.959866 ,  5.688879 ,  5.37518  ,  5.0967546,  4.916018 ,\n",
       "         4.587053 ,  4.5058117,  4.1946373,  3.826147 ,  3.7809627,\n",
       "         3.6920755,  3.5512054,  3.4865568,  3.3326955,  3.158114 ,\n",
       "         2.8874547,  2.7380967,  2.6529348,  1.9937172,  1.4182587,\n",
       "         1.3975704,  1.3518547], dtype=float32),\n",
       " array([3.3555133 , 3.0770993 , 2.8867211 , 2.7135534 , 2.546874  ,\n",
       "        2.3628848 , 2.154325  , 2.0367765 , 1.7889944 , 1.7673813 ,\n",
       "        1.5701079 , 1.4319557 , 1.3497653 , 1.2428688 , 1.1750933 ,\n",
       "        1.0686702 , 0.9814576 , 0.8870417 , 0.8434903 , 0.7797669 ,\n",
       "        0.7305877 , 0.6794515 , 0.58738804, 0.4739951 , 0.4635789 ,\n",
       "        0.3811394 , 0.31063223, 0.3000163 , 0.18293275, 0.12966576,\n",
       "        0.1047547 , 0.02554336], dtype=float32),\n",
       " array([3.190353  , 2.9698312 , 2.5693169 , 2.4689467 , 2.2635596 ,\n",
       "        2.1147387 , 1.9464352 , 1.807925  , 1.7158626 , 1.6282052 ,\n",
       "        1.4895344 , 1.4230894 , 1.3509948 , 1.2100762 , 1.1883975 ,\n",
       "        1.1575755 , 1.0261064 , 0.9290708 , 0.86253023, 0.76148295,\n",
       "        0.72430235, 0.61824846, 0.55077726, 0.5103169 , 0.43055552,\n",
       "        0.38944536, 0.3188387 , 0.23886074, 0.20708954, 0.12144791,\n",
       "        0.08276477, 0.04309303], dtype=float32),\n",
       " array([2.8452258e+00, 2.6188340e+00, 2.5286345e+00, 2.3387492e+00,\n",
       "        2.1579468e+00, 2.0072129e+00, 1.8655638e+00, 1.7826869e+00,\n",
       "        1.7490358e+00, 1.5725136e+00, 1.3966112e+00, 1.3102072e+00,\n",
       "        1.2826613e+00, 1.2192627e+00, 1.0728359e+00, 1.0300537e+00,\n",
       "        1.0080957e+00, 9.2746454e-01, 8.2734507e-01, 7.0508933e-01,\n",
       "        6.6827941e-01, 6.3690925e-01, 5.9442103e-01, 5.4857349e-01,\n",
       "        4.4191688e-01, 4.2180634e-01, 3.1918415e-01, 3.0032116e-01,\n",
       "        2.4198188e-01, 1.9278662e-01, 6.9754243e-02, 1.1718363e-03],\n",
       "       dtype=float32),\n",
       " array([2.901472  , 2.6032808 , 2.4015148 , 2.2186232 , 2.1847334 ,\n",
       "        2.0373197 , 1.8906741 , 1.7487321 , 1.5532565 , 1.5091616 ,\n",
       "        1.3837597 , 1.2700645 , 1.2122113 , 1.1988032 , 1.0193223 ,\n",
       "        0.984506  , 0.9304359 , 0.8913198 , 0.77399176, 0.71206063,\n",
       "        0.69692767, 0.58563584, 0.5508147 , 0.5348823 , 0.38649347,\n",
       "        0.373703  , 0.2468968 , 0.23851275, 0.19493984, 0.1737749 ,\n",
       "        0.15706344, 0.01739872], dtype=float32),\n",
       " array([2.9760718 , 2.333512  , 2.0725555 , 2.0187197 , 1.9795659 ,\n",
       "        1.8615584 , 1.7509702 , 1.6380112 , 1.4694991 , 1.4352221 ,\n",
       "        1.3414254 , 1.2615607 , 1.1767647 , 1.0986328 , 1.0747318 ,\n",
       "        1.0236136 , 0.89616644, 0.8689524 , 0.809904  , 0.75235856,\n",
       "        0.5959633 , 0.57490224, 0.52746135, 0.4695078 , 0.455508  ,\n",
       "        0.38014618, 0.2945307 , 0.25441262, 0.16488862, 0.12210075,\n",
       "        0.11063597, 0.01939967], dtype=float32),\n",
       " array([2.5741491e+00, 2.3739696e+00, 2.3302736e+00, 2.1738555e+00,\n",
       "        2.0246203e+00, 1.9149199e+00, 1.8571788e+00, 1.7183040e+00,\n",
       "        1.6449645e+00, 1.5860279e+00, 1.4970441e+00, 1.2855495e+00,\n",
       "        1.1553078e+00, 1.0768473e+00, 1.0188533e+00, 9.7159731e-01,\n",
       "        9.3599600e-01, 8.5609484e-01, 8.0536884e-01, 7.6114839e-01,\n",
       "        7.1294886e-01, 6.2960088e-01, 5.2698934e-01, 4.9925396e-01,\n",
       "        4.3090627e-01, 3.9069718e-01, 3.3584318e-01, 2.7394122e-01,\n",
       "        1.7103258e-01, 1.5236886e-01, 1.0089135e-01, 1.3923920e-03],\n",
       "       dtype=float32),\n",
       " array([3.005259 , 2.409253 , 2.191596 , 1.9573574, 1.6897454, 1.2956517,\n",
       "        1.1981667, 1.1196339, 1.0656364, 0.8578519], dtype=float32)]"
      ]
     },
     "execution_count": 9,
     "metadata": {},
     "output_type": "execute_result"
    }
   ],
   "source": [
    "sing_vals"
   ]
  },
  {
   "cell_type": "markdown",
   "metadata": {},
   "source": [
    "# Adversarial Training"
   ]
  },
  {
   "cell_type": "code",
   "execution_count": null,
   "metadata": {},
   "outputs": [],
   "source": [
    "#Config\n",
    "eps_train = 0.1\n",
    "eps_test = 0.1\n",
    "tensorboard_dir = \"tb/\"\n",
    "weights_dir = \"weights/\"\n",
    "\n",
    "load_counter = 75\n",
    "sigma = tf.nn.relu\n",
    "\n",
    "scope_name_rob = \"model_robust\""
   ]
  },
  {
   "cell_type": "code",
   "execution_count": null,
   "metadata": {},
   "outputs": [
    {
     "name": "stderr",
     "output_type": "stream",
     "text": [
      "Adversarial Training\n",
      "Initialized instance variables of the robust model class\n",
      "Created placeholders for x and y\n",
      "Created layers and tensor for logits\n",
      "Added loss computation to the graph\n",
      "Added accuracy computation to the graph\n",
      "Model graph was created\n"
     ]
    },
    {
     "name": "stdout",
     "output_type": "stream",
     "text": [
      "WARNING:tensorflow:From ../feedforward_robust.py:344: all_variables (from tensorflow.python.ops.variables) is deprecated and will be removed after 2017-03-02.\n",
      "Instructions for updating:\n",
      "Please use tf.global_variables instead.\n",
      "WARNING:tensorflow:From /Users/adhyyan/anaconda3/lib/python3.7/site-packages/tensorflow/python/ops/math_ops.py:3066: to_int32 (from tensorflow.python.ops.math_ops) is deprecated and will be removed in a future version.\n",
      "Instructions for updating:\n",
      "Use tf.cast instead.\n",
      "WARNING:tensorflow:From /Users/adhyyan/anaconda3/lib/python3.7/site-packages/tensorflow/python/util/tf_should_use.py:193: initialize_variables (from tensorflow.python.ops.variables) is deprecated and will be removed after 2017-03-02.\n",
      "Instructions for updating:\n",
      "Use `tf.variables_initializer` instead.\n"
     ]
    },
    {
     "name": "stderr",
     "output_type": "stream",
     "text": [
      "Epoch: 0001    cost: 1.747022671 \n",
      "Accuracy on batch: 0.500000\n",
      "Epoch: 0002    cost: 1.251095908 \n",
      "Accuracy on batch: 0.625000\n",
      "Epoch: 0003    cost: 1.091098627 \n",
      "Accuracy on batch: 0.625000\n",
      "Epoch: 0004    cost: 0.990394628 \n",
      "Accuracy on batch: 0.625000\n",
      "Epoch: 0005    cost: 0.919445833 \n",
      "Accuracy on batch: 0.687500\n",
      "Epoch: 0006    cost: 0.861593112 \n",
      "Accuracy on batch: 0.750000\n"
     ]
    }
   ],
   "source": [
    "sess = tf.Session()\n",
    "hidden_sizes = [32,32,32,32,32,32,32]\n",
    "dataset = ((x_train_flat, y_train), (x_test_flat, y_test))\n",
    "\n",
    "with tf.variable_scope(scope_name_rob) as scope:\n",
    "    logdir = tensorboard_dir + str(counter) + \"/robust\"\n",
    "    writer_robust = tf.summary.FileWriter(logdir)\n",
    "    logger.info(\"Adversarial Training\")\n",
    "    robust_model = ffr.RobustMLP(input_shape, hidden_sizes, num_classes, writer = writer_robust, scope = scope_name_rob, logger = logger, sigma = sigma)\n",
    "    sess.run(tf.global_variables_initializer())\n",
    "    robust_model.adv_fit(sess, x_train_flat, y_train, eps_train, lr = 3e-4, training_epochs = 20)\n",
    "\n",
    "    loss_reg, acc_reg = robust_model.evaluate(sess, x_test_flat, y_test)\n",
    "    loss_adv, acc_adv = robust_model.adv_evaluate(sess, x_test_flat, y_test, eps_test)"
   ]
  },
  {
   "cell_type": "code",
   "execution_count": null,
   "metadata": {},
   "outputs": [],
   "source": [
    "loss_reg, acc_reg"
   ]
  },
  {
   "cell_type": "code",
   "execution_count": null,
   "metadata": {},
   "outputs": [],
   "source": [
    "loss_adv, acc_adv"
   ]
  },
  {
   "cell_type": "code",
   "execution_count": null,
   "metadata": {},
   "outputs": [],
   "source": [
    "with tf.variable_scope(scope_name) as scope:\n",
    "    weights_robust = robust_model.get_weights_np(sess)"
   ]
  },
  {
   "cell_type": "code",
   "execution_count": null,
   "metadata": {},
   "outputs": [],
   "source": [
    "sing_vals_robust = []\n",
    "for (idx, weight_matrix) in enumerate(weights_robust):\n",
    "    sig = plot_singular_values(weight_matrix, idx)\n",
    "    sing_vals_robust.append(sig)"
   ]
  },
  {
   "cell_type": "code",
   "execution_count": null,
   "metadata": {},
   "outputs": [],
   "source": [
    "sing_vals[0]"
   ]
  },
  {
   "cell_type": "code",
   "execution_count": null,
   "metadata": {},
   "outputs": [],
   "source": [
    "sing_vals_robust[0]"
   ]
  },
  {
   "cell_type": "code",
   "execution_count": null,
   "metadata": {},
   "outputs": [],
   "source": [
    "sing_vals[1]"
   ]
  },
  {
   "cell_type": "code",
   "execution_count": null,
   "metadata": {},
   "outputs": [],
   "source": [
    "sing_vals_robust[1]"
   ]
  },
  {
   "cell_type": "code",
   "execution_count": null,
   "metadata": {},
   "outputs": [],
   "source": [
    "sing_vals[2]"
   ]
  },
  {
   "cell_type": "code",
   "execution_count": null,
   "metadata": {},
   "outputs": [],
   "source": [
    "sing_vals_robust[2]"
   ]
  },
  {
   "cell_type": "code",
   "execution_count": null,
   "metadata": {},
   "outputs": [],
   "source": [
    "sing_vals[-1]"
   ]
  },
  {
   "cell_type": "code",
   "execution_count": null,
   "metadata": {},
   "outputs": [],
   "source": [
    "sing_vals_robust[-1]"
   ]
  },
  {
   "cell_type": "code",
   "execution_count": null,
   "metadata": {},
   "outputs": [],
   "source": [
    "plt.plot(range(len(sing_vals[0])), sing_vals[0], label = \"non robust\")\n",
    "plt.plot(range(len(sing_vals_robust[0])), sing_vals_robust[0], label = \"robust\")\n",
    "plt.legend(loc = \"upper right\")"
   ]
  },
  {
   "cell_type": "code",
   "execution_count": null,
   "metadata": {},
   "outputs": [],
   "source": []
  }
 ],
 "metadata": {
  "kernelspec": {
   "display_name": "Python 3",
   "language": "python",
   "name": "python3"
  },
  "language_info": {
   "codemirror_mode": {
    "name": "ipython",
    "version": 3
   },
   "file_extension": ".py",
   "mimetype": "text/x-python",
   "name": "python",
   "nbconvert_exporter": "python",
   "pygments_lexer": "ipython3",
   "version": "3.7.1"
  }
 },
 "nbformat": 4,
 "nbformat_minor": 2
}

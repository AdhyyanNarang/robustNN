{
 "cells": [
  {
   "cell_type": "code",
   "execution_count": 1,
   "metadata": {},
   "outputs": [],
   "source": [
    "#Imports\n",
    "\n",
    "import logging\n",
    "import os, random, time, sys\n",
    "import numpy as np\n",
    "import tensorflow as tf\n",
    "import tensorflow.contrib.layers as layers\n",
    "sys.path.append('../')\n",
    "sys.path.append('../util/')\n",
    "import feedforward_robust as ffr\n",
    "import ipdb\n",
    "from util import *\n",
    "\n",
    "#Read the counter\n",
    "ctr_file = \"counter.txt\"\n",
    "f = open(ctr_file, 'r')\n",
    "counter = f.readline()\n",
    "f.close()\n",
    "\n",
    "counter = 1 + int(counter)\n",
    "f = open(ctr_file,'w')\n",
    "f.write('{}'.format(counter))\n",
    "f.close()\n",
    "logfile = \"logs/results_\" + str(counter) + \".log\"\n",
    "\n",
    "logger = logging.getLogger(\"robustness\")\n",
    "logger.setLevel(logging.DEBUG)\n",
    "fh = logging.FileHandler(logfile)\n",
    "fh.setLevel(logging.INFO)\n",
    "formatter = logging.Formatter('%(asctime)s - %(name)s - %(levelname)s - %(message)s')\n",
    "fh.setFormatter(formatter)\n",
    "logger.addHandler(fh)\n",
    "logger.addHandler(logging.StreamHandler())"
   ]
  },
  {
   "cell_type": "code",
   "execution_count": 2,
   "metadata": {},
   "outputs": [],
   "source": [
    "#Setup - Dataset stuff\n",
    "dataset, input_shape, num_classes = get_dataset()\n",
    "x_train_flat, y_train = dataset[0] \n",
    "x_test_flat, y_test = dataset[1] \n",
    "hidden_sizes = [32,32,32,32,32,32,32]"
   ]
  },
  {
   "cell_type": "code",
   "execution_count": 3,
   "metadata": {},
   "outputs": [
    {
     "data": {
      "text/plain": [
       "(60000, 784)"
      ]
     },
     "execution_count": 3,
     "metadata": {},
     "output_type": "execute_result"
    }
   ],
   "source": [
    "x_train_flat.shape"
   ]
  },
  {
   "cell_type": "code",
   "execution_count": 4,
   "metadata": {},
   "outputs": [],
   "source": [
    "def plot_singular_values(matrix, idx):\n",
    "    _, sig, V = np.linalg.svd(matrix)\n",
    "    plt.plot(range(len(sig)), sig, label = \"Layer number %d\" %idx)\n",
    "    plt.legend(loc = 'upper right')\n",
    "    return sig"
   ]
  },
  {
   "cell_type": "code",
   "execution_count": 5,
   "metadata": {},
   "outputs": [],
   "source": [
    "def regular_training(config_inp):\n",
    "    eps_train = config_inp['eps_train'] \n",
    "    eps_test = config_inp['eps_test'] \n",
    "    tensorboard_dir = config_inp['tensorboard_dir'] \n",
    "    weights_dir = config_inp['weights_dir']\n",
    "    load_counter = config_inp['load_counter'] \n",
    "    sigma = config_inp['sigma']\n",
    "    scope_name = config_inp['scope_name']\n",
    "    \n",
    "    with tf.variable_scope(scope_name) as scope:\n",
    "        sess = tf.Session()\n",
    "        logdir = tensorboard_dir + str(counter) + \"/non_robust\"\n",
    "\n",
    "        #Create, train and test model\n",
    "        writer = tf.summary.FileWriter(logdir)\n",
    "        model = ffr.RobustMLP(input_shape, hidden_sizes, num_classes, writer = writer, scope = scope_name, logger = logger, sigma =sigma)\n",
    "        logger.info(\"Created model successfully. Now going to load weights\")\n",
    "\n",
    "        #Restore weights\n",
    "        weights = tf.trainable_variables()\n",
    "        saver = tf.train.Saver(weights)\n",
    "        weights_path = saver.restore(sess, weights_dir + \"model_\" + str(load_counter) + \".ckpt\")\n",
    "\n",
    "        writer.add_graph(sess.graph)\n",
    "\n",
    "        loss_reg, acc_reg = model.evaluate(sess, x_test_flat, y_test)\n",
    "        logger.info(\"----Regular test accuracy and loss ----\")\n",
    "        logger.info((loss_reg, acc_reg))\n",
    "\n",
    "\n",
    "        with tf.variable_scope(\"testing_benign\") as scope:\n",
    "            loss_reg, acc_reg = model.evaluate(sess, x_test_flat, y_test)\n",
    "            logger.info(\"----Regular test accuracy and loss ----\")\n",
    "            logger.info((loss_reg, acc_reg))\n",
    "\n",
    "\n",
    "        with tf.variable_scope(\"testing_adversarial\") as scope:\n",
    "            loss_fgsm, acc_fgsm = model.adv_evaluate(sess, x_test_flat, y_test, eps_test, pgd = False)\n",
    "            logger.info(\"----FGSM test accuracy and loss ----\")\n",
    "            logger.info((loss_fgsm, acc_fgsm))\n",
    "            x_test_flat_adv = model.fgsm_np(sess, x_test_flat, y_test, eps_test)\n",
    "    return model, sess"
   ]
  },
  {
   "cell_type": "code",
   "execution_count": 6,
   "metadata": {},
   "outputs": [],
   "source": [
    "def adversarial_training(config):\n",
    "    eps_train = config['eps_train'] \n",
    "    eps_test = config['eps_test'] \n",
    "    tensorboard_dir = config['tensorboard_dir'] \n",
    "    weights_dir = config['weights_dir']\n",
    "    load_counter = config['load_counter'] \n",
    "    sigma = config['sigma']\n",
    "    scope_name_rob = config['scope_name']\n",
    "    sess = tf.Session()\n",
    "    hidden_sizes = [32,32,32,32,32,32,32]\n",
    "    \n",
    "    dataset = ((x_train_flat, y_train), (x_test_flat, y_test))\n",
    "\n",
    "    with tf.variable_scope(scope_name_rob, reuse = False) as scope:\n",
    "        logdir = tensorboard_dir + str(counter) + \"/robust\"\n",
    "        writer_robust = tf.summary.FileWriter(logdir)\n",
    "        logger.info(\"Adversarial Training\")\n",
    "        robust_model = ffr.RobustMLP(input_shape, hidden_sizes, num_classes, writer = writer_robust, scope = scope_name_rob, logger = logger, sigma = sigma)\n",
    "        sess.run(tf.global_variables_initializer())\n",
    "        robust_model.adv_fit(sess, x_train_flat, y_train, eps_train, lr = 3e-4, training_epochs = 20)\n",
    "\n",
    "        print(robust_model.evaluate(sess, x_test_flat, y_test))\n",
    "        print(robust_model.adv_evaluate(sess, x_test_flat, y_test, eps_test))\n",
    "    return robust_model, sess"
   ]
  },
  {
   "cell_type": "markdown",
   "metadata": {},
   "source": [
    "## Regular Training"
   ]
  },
  {
   "cell_type": "code",
   "execution_count": 7,
   "metadata": {},
   "outputs": [],
   "source": [
    "config = {}\n",
    "config['eps_train'] = 0.1\n",
    "config['eps_test'] = 0.1\n",
    "config['tensorboard_dir'] = \"tb/\"\n",
    "config['weights_dir'] = \"weights/\"\n",
    "\n",
    "config['load_counter'] = 58\n",
    "config['sigma'] = tf.nn.relu\n",
    "\n",
    "config['scope_name'] = \"model_non_robust\""
   ]
  },
  {
   "cell_type": "code",
   "execution_count": 8,
   "metadata": {},
   "outputs": [
    {
     "data": {
      "text/plain": [
       "'model_non_robust'"
      ]
     },
     "execution_count": 8,
     "metadata": {},
     "output_type": "execute_result"
    }
   ],
   "source": [
    "config['scope_name']"
   ]
  },
  {
   "cell_type": "code",
   "execution_count": 9,
   "metadata": {},
   "outputs": [
    {
     "name": "stderr",
     "output_type": "stream",
     "text": [
      "Initialized instance variables of the robust model class\n",
      "WARNING: Logging before flag parsing goes to stderr.\n",
      "I0820 14:57:40.817308 4609570240 feedforward_robust.py:30] Initialized instance variables of the robust model class\n",
      "W0820 14:57:40.819888 4609570240 deprecation_wrapper.py:119] From ../feedforward_robust.py:34: The name tf.placeholder is deprecated. Please use tf.compat.v1.placeholder instead.\n",
      "\n",
      "Created placeholders for x and y\n",
      "I0820 14:57:40.824368 4609570240 feedforward_robust.py:36] Created placeholders for x and y\n",
      "W0820 14:57:40.826184 4609570240 deprecation_wrapper.py:119] From ../util/util.py:31: The name tf.variable_scope is deprecated. Please use tf.compat.v1.variable_scope instead.\n",
      "\n",
      "W0820 14:57:40.827696 4609570240 deprecation_wrapper.py:119] From ../util/util.py:31: The name tf.AUTO_REUSE is deprecated. Please use tf.compat.v1.AUTO_REUSE instead.\n",
      "\n",
      "W0820 14:57:40.829206 4609570240 deprecation_wrapper.py:119] From ../util/util.py:33: The name tf.get_variable is deprecated. Please use tf.compat.v1.get_variable instead.\n",
      "\n",
      "W0820 14:57:40.850481 4609570240 deprecation_wrapper.py:119] From ../util/util.py:37: The name tf.summary.histogram is deprecated. Please use tf.compat.v1.summary.histogram instead.\n",
      "\n",
      "Created layers and tensor for logits\n",
      "I0820 14:57:40.965487 4609570240 feedforward_robust.py:40] Created layers and tensor for logits\n",
      "W0820 14:57:40.966681 4609570240 deprecation.py:323] From ../feedforward_robust.py:42: softmax_cross_entropy_with_logits (from tensorflow.python.ops.nn_ops) is deprecated and will be removed in a future version.\n",
      "Instructions for updating:\n",
      "\n",
      "Future major versions of TensorFlow will allow gradients to flow\n",
      "into the labels input on backprop by default.\n",
      "\n",
      "See `tf.nn.softmax_cross_entropy_with_logits_v2`.\n",
      "\n",
      "W0820 14:57:40.994416 4609570240 deprecation_wrapper.py:119] From ../feedforward_robust.py:44: The name tf.summary.scalar is deprecated. Please use tf.compat.v1.summary.scalar instead.\n",
      "\n",
      "Added loss computation to the graph\n",
      "I0820 14:57:40.997393 4609570240 feedforward_robust.py:45] Added loss computation to the graph\n",
      "Added accuracy computation to the graph\n",
      "I0820 14:57:41.006807 4609570240 feedforward_robust.py:49] Added accuracy computation to the graph\n",
      "Model graph was created\n",
      "I0820 14:57:41.009741 4609570240 feedforward_robust.py:52] Model graph was created\n",
      "W0820 14:57:41.010962 4609570240 deprecation_wrapper.py:119] From ../feedforward_robust.py:53: The name tf.summary.merge_all is deprecated. Please use tf.compat.v1.summary.merge_all instead.\n",
      "\n",
      "Created model successfully. Now going to load weights\n",
      "I0820 14:57:41.014149 4609570240 <ipython-input-5-9a6c637c42f4>:17] Created model successfully. Now going to load weights\n",
      "W0820 14:57:41.115674 4609570240 deprecation.py:323] From /usr/local/lib/python3.7/site-packages/tensorflow/python/training/saver.py:1276: checkpoint_exists (from tensorflow.python.training.checkpoint_management) is deprecated and will be removed in a future version.\n",
      "Instructions for updating:\n",
      "Use standard file APIs to check for files with this prefix.\n",
      "Model was evaluated on benign data\n",
      "I0820 14:57:41.217792 4609570240 feedforward_robust.py:265] Model was evaluated on benign data\n",
      "----Regular test accuracy and loss ----\n",
      "I0820 14:57:41.219084 4609570240 <ipython-input-5-9a6c637c42f4>:27] ----Regular test accuracy and loss ----\n",
      "(0.17103767, 0.9531)\n",
      "I0820 14:57:41.220221 4609570240 <ipython-input-5-9a6c637c42f4>:28] (0.17103767, 0.9531)\n",
      "Model was evaluated on benign data\n",
      "I0820 14:57:41.243219 4609570240 feedforward_robust.py:265] Model was evaluated on benign data\n",
      "----Regular test accuracy and loss ----\n",
      "I0820 14:57:41.245194 4609570240 <ipython-input-5-9a6c637c42f4>:33] ----Regular test accuracy and loss ----\n",
      "(0.17103767, 0.9531)\n",
      "I0820 14:57:41.248486 4609570240 <ipython-input-5-9a6c637c42f4>:34] (0.17103767, 0.9531)\n",
      "Model is being evaluated on FGSM data\n",
      "I0820 14:57:41.428703 4609570240 feedforward_robust.py:271] Model is being evaluated on FGSM data\n",
      "----FGSM test accuracy and loss ----\n",
      "I0820 14:57:41.443163 4609570240 <ipython-input-5-9a6c637c42f4>:39] ----FGSM test accuracy and loss ----\n",
      "(6.3987045, 0.0485)\n",
      "I0820 14:57:41.444667 4609570240 <ipython-input-5-9a6c637c42f4>:40] (6.3987045, 0.0485)\n"
     ]
    }
   ],
   "source": [
    "model_non_robust, sess_non_robust = regular_training(config)"
   ]
  },
  {
   "cell_type": "code",
   "execution_count": 10,
   "metadata": {},
   "outputs": [],
   "source": [
    "with tf.variable_scope(config['scope_name']) as scope:\n",
    "    weights_non_robust = model_non_robust.get_weights_np(sess_non_robust)"
   ]
  },
  {
   "cell_type": "code",
   "execution_count": 11,
   "metadata": {},
   "outputs": [
    {
     "data": {
      "image/png": "[encoded data removed]",
      "text/plain": [
       "<Figure size 432x288 with 1 Axes>"
      ]
     },
     "metadata": {
      "needs_background": "light"
     },
     "output_type": "display_data"
    }
   ],
   "source": [
    "#Original without regularization\n",
    "sing_vals = []\n",
    "for (idx, weight_matrix) in enumerate(weights_non_robust):\n",
    "        sig = plot_singular_values(weight_matrix, idx)\n",
    "        sing_vals.append(sig)"
   ]
  },
  {
   "cell_type": "code",
   "execution_count": 12,
   "metadata": {},
   "outputs": [
    {
     "data": {
      "text/plain": [
       "[array([11.219591 ,  9.356054 ,  8.853931 ,  8.339419 ,  7.9637704,\n",
       "         7.8134637,  7.3564215,  7.058405 ,  6.66576  ,  6.3353806,\n",
       "         5.959866 ,  5.688879 ,  5.37518  ,  5.0967546,  4.916018 ,\n",
       "         4.587053 ,  4.5058117,  4.1946373,  3.826147 ,  3.7809627,\n",
       "         3.6920755,  3.5512054,  3.4865568,  3.3326955,  3.158114 ,\n",
       "         2.8874547,  2.7380967,  2.6529348,  1.9937172,  1.4182587,\n",
       "         1.3975704,  1.3518547], dtype=float32),\n",
       " array([3.3555133 , 3.0770993 , 2.8867211 , 2.7135534 , 2.546874  ,\n",
       "        2.3628848 , 2.154325  , 2.0367765 , 1.7889944 , 1.7673813 ,\n",
       "        1.5701079 , 1.4319557 , 1.3497653 , 1.2428688 , 1.1750933 ,\n",
       "        1.0686702 , 0.9814576 , 0.8870417 , 0.8434903 , 0.7797669 ,\n",
       "        0.7305877 , 0.6794515 , 0.58738804, 0.4739951 , 0.4635789 ,\n",
       "        0.3811394 , 0.31063223, 0.3000163 , 0.18293275, 0.12966576,\n",
       "        0.1047547 , 0.02554336], dtype=float32),\n",
       " array([3.190353  , 2.9698312 , 2.5693169 , 2.4689467 , 2.2635596 ,\n",
       "        2.1147387 , 1.9464352 , 1.807925  , 1.7158626 , 1.6282052 ,\n",
       "        1.4895344 , 1.4230894 , 1.3509948 , 1.2100762 , 1.1883975 ,\n",
       "        1.1575755 , 1.0261064 , 0.9290708 , 0.86253023, 0.76148295,\n",
       "        0.72430235, 0.61824846, 0.55077726, 0.5103169 , 0.43055552,\n",
       "        0.38944536, 0.3188387 , 0.23886074, 0.20708954, 0.12144791,\n",
       "        0.08276477, 0.04309303], dtype=float32),\n",
       " array([2.8452258e+00, 2.6188340e+00, 2.5286345e+00, 2.3387492e+00,\n",
       "        2.1579468e+00, 2.0072129e+00, 1.8655638e+00, 1.7826869e+00,\n",
       "        1.7490358e+00, 1.5725136e+00, 1.3966112e+00, 1.3102072e+00,\n",
       "        1.2826613e+00, 1.2192627e+00, 1.0728359e+00, 1.0300537e+00,\n",
       "        1.0080957e+00, 9.2746454e-01, 8.2734507e-01, 7.0508933e-01,\n",
       "        6.6827941e-01, 6.3690925e-01, 5.9442103e-01, 5.4857349e-01,\n",
       "        4.4191688e-01, 4.2180634e-01, 3.1918415e-01, 3.0032116e-01,\n",
       "        2.4198188e-01, 1.9278662e-01, 6.9754243e-02, 1.1718363e-03],\n",
       "       dtype=float32),\n",
       " array([2.901472  , 2.6032808 , 2.4015148 , 2.2186232 , 2.1847334 ,\n",
       "        2.0373197 , 1.8906741 , 1.7487321 , 1.5532565 , 1.5091616 ,\n",
       "        1.3837597 , 1.2700645 , 1.2122113 , 1.1988032 , 1.0193223 ,\n",
       "        0.984506  , 0.9304359 , 0.8913198 , 0.77399176, 0.71206063,\n",
       "        0.69692767, 0.58563584, 0.5508147 , 0.5348823 , 0.38649347,\n",
       "        0.373703  , 0.2468968 , 0.23851275, 0.19493984, 0.1737749 ,\n",
       "        0.15706344, 0.01739872], dtype=float32),\n",
       " array([2.9760718 , 2.333512  , 2.0725555 , 2.0187197 , 1.9795659 ,\n",
       "        1.8615584 , 1.7509702 , 1.6380112 , 1.4694991 , 1.4352221 ,\n",
       "        1.3414254 , 1.2615607 , 1.1767647 , 1.0986328 , 1.0747318 ,\n",
       "        1.0236136 , 0.89616644, 0.8689524 , 0.809904  , 0.75235856,\n",
       "        0.5959633 , 0.57490224, 0.52746135, 0.4695078 , 0.455508  ,\n",
       "        0.38014618, 0.2945307 , 0.25441262, 0.16488862, 0.12210075,\n",
       "        0.11063597, 0.01939967], dtype=float32),\n",
       " array([2.5741491e+00, 2.3739696e+00, 2.3302736e+00, 2.1738555e+00,\n",
       "        2.0246203e+00, 1.9149199e+00, 1.8571788e+00, 1.7183040e+00,\n",
       "        1.6449645e+00, 1.5860279e+00, 1.4970441e+00, 1.2855495e+00,\n",
       "        1.1553078e+00, 1.0768473e+00, 1.0188533e+00, 9.7159731e-01,\n",
       "        9.3599600e-01, 8.5609484e-01, 8.0536884e-01, 7.6114839e-01,\n",
       "        7.1294886e-01, 6.2960088e-01, 5.2698934e-01, 4.9925396e-01,\n",
       "        4.3090627e-01, 3.9069718e-01, 3.3584318e-01, 2.7394122e-01,\n",
       "        1.7103258e-01, 1.5236886e-01, 1.0089135e-01, 1.3923920e-03],\n",
       "       dtype=float32),\n",
       " array([3.005259 , 2.409253 , 2.191596 , 1.9573574, 1.6897454, 1.2956517,\n",
       "        1.1981667, 1.1196339, 1.0656364, 0.8578519], dtype=float32)]"
      ]
     },
     "execution_count": 12,
     "metadata": {},
     "output_type": "execute_result"
    }
   ],
   "source": [
    "sing_vals"
   ]
  },
  {
   "cell_type": "markdown",
   "metadata": {},
   "source": [
    "## Trace regularization for first layer"
   ]
  },
  {
   "cell_type": "code",
   "execution_count": 13,
   "metadata": {},
   "outputs": [],
   "source": [
    "#Config\n",
    "config = {}\n",
    "config['eps_train'] = 0.1\n",
    "config['eps_test'] = 0.1\n",
    "config['tensorboard_dir'] = \"tb/\"\n",
    "config['weights_dir'] = \"weights/\"\n",
    "\n",
    "config['load_counter'] = 121\n",
    "config['sigma'] = tf.nn.relu\n",
    "\n",
    "config['scope_name'] = \"model_non_robust\""
   ]
  },
  {
   "cell_type": "code",
   "execution_count": 14,
   "metadata": {},
   "outputs": [
    {
     "data": {
      "text/plain": [
       "'model_non_robust'"
      ]
     },
     "execution_count": 14,
     "metadata": {},
     "output_type": "execute_result"
    }
   ],
   "source": [
    "config['scope_name']"
   ]
  },
  {
   "cell_type": "code",
   "execution_count": 15,
   "metadata": {},
   "outputs": [
    {
     "name": "stderr",
     "output_type": "stream",
     "text": [
      "Initialized instance variables of the robust model class\n",
      "I0820 14:57:53.962507 4609570240 feedforward_robust.py:30] Initialized instance variables of the robust model class\n",
      "Created placeholders for x and y\n",
      "I0820 14:57:53.966318 4609570240 feedforward_robust.py:36] Created placeholders for x and y\n",
      "Created layers and tensor for logits\n",
      "I0820 14:57:54.013931 4609570240 feedforward_robust.py:40] Created layers and tensor for logits\n",
      "Added loss computation to the graph\n",
      "I0820 14:57:54.044806 4609570240 feedforward_robust.py:45] Added loss computation to the graph\n",
      "Added accuracy computation to the graph\n",
      "I0820 14:57:54.051476 4609570240 feedforward_robust.py:49] Added accuracy computation to the graph\n",
      "Model graph was created\n",
      "I0820 14:57:54.058357 4609570240 feedforward_robust.py:52] Model graph was created\n",
      "Created model successfully. Now going to load weights\n",
      "I0820 14:57:54.069392 4609570240 <ipython-input-5-9a6c637c42f4>:17] Created model successfully. Now going to load weights\n",
      "Model was evaluated on benign data\n",
      "I0820 14:57:54.211999 4609570240 feedforward_robust.py:265] Model was evaluated on benign data\n",
      "----Regular test accuracy and loss ----\n",
      "I0820 14:57:54.213255 4609570240 <ipython-input-5-9a6c637c42f4>:27] ----Regular test accuracy and loss ----\n",
      "(0.3424165, 0.8982)\n",
      "I0820 14:57:54.214512 4609570240 <ipython-input-5-9a6c637c42f4>:28] (0.3424165, 0.8982)\n",
      "Model was evaluated on benign data\n",
      "I0820 14:57:54.236323 4609570240 feedforward_robust.py:265] Model was evaluated on benign data\n",
      "----Regular test accuracy and loss ----\n",
      "I0820 14:57:54.238559 4609570240 <ipython-input-5-9a6c637c42f4>:33] ----Regular test accuracy and loss ----\n",
      "(0.3424165, 0.8982)\n",
      "I0820 14:57:54.241899 4609570240 <ipython-input-5-9a6c637c42f4>:34] (0.3424165, 0.8982)\n",
      "Model is being evaluated on FGSM data\n",
      "I0820 14:57:54.418112 4609570240 feedforward_robust.py:271] Model is being evaluated on FGSM data\n",
      "----FGSM test accuracy and loss ----\n",
      "I0820 14:57:54.433829 4609570240 <ipython-input-5-9a6c637c42f4>:39] ----FGSM test accuracy and loss ----\n",
      "(3.3301492, 0.3424)\n",
      "I0820 14:57:54.435387 4609570240 <ipython-input-5-9a6c637c42f4>:40] (3.3301492, 0.3424)\n"
     ]
    }
   ],
   "source": [
    "reg_model, sess_reg = regular_training(config)"
   ]
  },
  {
   "cell_type": "code",
   "execution_count": 16,
   "metadata": {},
   "outputs": [],
   "source": [
    "with tf.variable_scope(config['scope_name']) as scope:\n",
    "    weights = reg_model.get_weights_np(sess_reg)"
   ]
  },
  {
   "cell_type": "code",
   "execution_count": 18,
   "metadata": {},
   "outputs": [
    {
     "data": {
      "image/png": "[encoded data removed]",
      "text/plain": [
       "<Figure size 432x288 with 1 Axes>"
      ]
     },
     "metadata": {
      "needs_background": "light"
     },
     "output_type": "display_data"
    }
   ],
   "source": [
    "#With regularization\n",
    "sing_vals_reg = []\n",
    "for (idx, weight_matrix) in enumerate(weights):\n",
    "        sig = plot_singular_values(weight_matrix, idx)\n",
    "        sing_vals_reg.append(sig)"
   ]
  },
  {
   "cell_type": "markdown",
   "metadata": {},
   "source": [
    "**Interpretation** This is pretty interesting. When you penalize the singular values of the first layer, all the other layers start increasing to compensate - I'm guessing to keep the expressiveness high. Probably, if we penalize all the singular values, it may not learn anything?\n",
    "\n",
    "So we still have not suceeded at replicating the singular value spectrum of the robust model - so it is difficult to conclude whether the singular value spectrum is a determinant of adversarial robustness or not"
   ]
  },
  {
   "cell_type": "code",
   "execution_count": 19,
   "metadata": {},
   "outputs": [
    {
     "data": {
      "text/plain": [
       "[array([1.5870155e+00, 1.5522803e+00, 1.3584403e+00, 1.3370733e+00,\n",
       "        1.3070780e+00, 1.2188531e+00, 1.1234620e+00, 1.0728732e+00,\n",
       "        1.0041257e+00, 8.7067133e-01, 7.6290888e-01, 6.6413921e-01,\n",
       "        6.1234343e-01, 3.5728675e-01, 6.2625506e-04, 4.9098406e-04,\n",
       "        4.8556362e-04, 4.5167084e-04, 3.1356234e-04, 3.0216103e-04,\n",
       "        2.7841594e-04, 2.0602574e-04, 1.9646439e-04, 1.8619838e-04,\n",
       "        1.4287693e-04, 1.3560396e-04, 1.2213681e-04, 3.9542541e-05,\n",
       "        3.5572761e-05, 1.7289583e-05, 8.5304418e-06, 5.9684144e-06],\n",
       "       dtype=float32),\n",
       " array([6.035554  , 5.8620715 , 5.20899   , 4.6957164 , 4.3550816 ,\n",
       "        4.287016  , 4.125534  , 4.0239434 , 3.7177262 , 3.1656983 ,\n",
       "        2.7954736 , 2.499863  , 2.23836   , 2.055546  , 1.7796141 ,\n",
       "        1.2052387 , 1.1660684 , 1.1480169 , 1.0525272 , 1.0315014 ,\n",
       "        0.90306103, 0.74932116, 0.6895752 , 0.6741662 , 0.5238548 ,\n",
       "        0.469349  , 0.34676093, 0.27730793, 0.22861174, 0.21915486,\n",
       "        0.12821923, 0.04902895], dtype=float32),\n",
       " array([8.313168  , 7.097558  , 6.474968  , 6.0774064 , 5.9532666 ,\n",
       "        5.0635104 , 4.915927  , 4.690167  , 4.3526545 , 3.7610216 ,\n",
       "        3.2347915 , 3.0240717 , 2.7837446 , 2.6843023 , 2.4640486 ,\n",
       "        2.300695  , 2.2124615 , 1.9676274 , 1.8212018 , 1.6916738 ,\n",
       "        1.5309254 , 1.3916907 , 1.3467339 , 1.0976187 , 1.0488392 ,\n",
       "        0.83745235, 0.7388067 , 0.50121474, 0.40624616, 0.34694144,\n",
       "        0.24340174, 0.01908168], dtype=float32),\n",
       " array([7.1776958 , 5.898219  , 5.498995  , 5.257844  , 4.7287526 ,\n",
       "        4.6113462 , 4.0654154 , 3.6983082 , 3.4004881 , 3.1373265 ,\n",
       "        2.8817825 , 2.74308   , 2.4891434 , 2.3049731 , 2.2443368 ,\n",
       "        2.0627778 , 1.7933652 , 1.6956596 , 1.6027057 , 1.4698237 ,\n",
       "        1.3835281 , 1.1667676 , 1.1242539 , 1.0788759 , 0.8064557 ,\n",
       "        0.7641716 , 0.6675601 , 0.30973965, 0.27230588, 0.22321582,\n",
       "        0.12589666, 0.02296172], dtype=float32),\n",
       " array([6.5854554 , 4.5837817 , 4.286893  , 3.769714  , 3.4780478 ,\n",
       "        3.341227  , 3.0782726 , 2.9168046 , 2.873075  , 2.4816515 ,\n",
       "        2.3047612 , 2.1478589 , 2.0287678 , 1.872536  , 1.7858498 ,\n",
       "        1.5822568 , 1.5515069 , 1.4771366 , 1.3061955 , 1.2171642 ,\n",
       "        1.0994817 , 1.0202268 , 0.7808631 , 0.7147383 , 0.6232897 ,\n",
       "        0.55694413, 0.4260238 , 0.37106112, 0.28626335, 0.16256648,\n",
       "        0.07809619, 0.0314378 ], dtype=float32),\n",
       " array([7.3493032 , 4.533474  , 4.4129305 , 3.8866436 , 3.6549172 ,\n",
       "        3.0814738 , 3.0432532 , 2.8495224 , 2.4163284 , 2.3834083 ,\n",
       "        2.0320892 , 1.816741  , 1.7238573 , 1.7074434 , 1.5123483 ,\n",
       "        1.4070817 , 1.3224729 , 1.2898788 , 1.1957868 , 1.0527304 ,\n",
       "        0.9680283 , 0.844301  , 0.7647332 , 0.68414754, 0.6275915 ,\n",
       "        0.5754952 , 0.47121438, 0.40531746, 0.26284814, 0.19970706,\n",
       "        0.11621714, 0.02375523], dtype=float32),\n",
       " array([4.8360868 , 4.163418  , 3.348712  , 3.1064954 , 2.962943  ,\n",
       "        2.6637676 , 2.4356823 , 2.351447  , 2.0972435 , 2.0749035 ,\n",
       "        1.84771   , 1.6885501 , 1.6007267 , 1.5346999 , 1.3498926 ,\n",
       "        1.2554356 , 1.1496577 , 1.0995618 , 0.9808809 , 0.85412896,\n",
       "        0.76770544, 0.7078538 , 0.6657098 , 0.63290054, 0.53630775,\n",
       "        0.51135075, 0.4337423 , 0.25121927, 0.24018425, 0.1927696 ,\n",
       "        0.10533228, 0.06847405], dtype=float32),\n",
       " array([11.546055 ,  5.348885 ,  3.7945395,  2.9946737,  2.530549 ,\n",
       "         1.941301 ,  1.8666426,  1.4938574,  1.1567605,  1.0363789],\n",
       "       dtype=float32)]"
      ]
     },
     "execution_count": 19,
     "metadata": {},
     "output_type": "execute_result"
    }
   ],
   "source": [
    "#With regularization - first layer\n",
    "sing_vals_reg"
   ]
  },
  {
   "cell_type": "markdown",
   "metadata": {},
   "source": [
    "# Trace regularization for all layers"
   ]
  },
  {
   "cell_type": "code",
   "execution_count": 20,
   "metadata": {},
   "outputs": [],
   "source": [
    "#Config\n",
    "config['eps_train'] = 0.1\n",
    "config['eps_test'] = 0.1\n",
    "config['tensorboard_dir'] = \"tb/\"\n",
    "config['weights_dir'] = \"weights/\"\n",
    "config['load_counter'] = 126\n",
    "config['sigma'] = tf.nn.relu\n",
    "config['scope_name'] = \"model_non_robust\""
   ]
  },
  {
   "cell_type": "code",
   "execution_count": 21,
   "metadata": {},
   "outputs": [
    {
     "name": "stderr",
     "output_type": "stream",
     "text": [
      "Initialized instance variables of the robust model class\n",
      "I0820 14:58:34.152326 4609570240 feedforward_robust.py:30] Initialized instance variables of the robust model class\n",
      "Created placeholders for x and y\n",
      "I0820 14:58:34.156690 4609570240 feedforward_robust.py:36] Created placeholders for x and y\n",
      "Created layers and tensor for logits\n",
      "I0820 14:58:34.214926 4609570240 feedforward_robust.py:40] Created layers and tensor for logits\n",
      "Added loss computation to the graph\n",
      "I0820 14:58:34.252052 4609570240 feedforward_robust.py:45] Added loss computation to the graph\n",
      "Added accuracy computation to the graph\n",
      "I0820 14:58:34.259159 4609570240 feedforward_robust.py:49] Added accuracy computation to the graph\n",
      "Model graph was created\n",
      "I0820 14:58:34.262151 4609570240 feedforward_robust.py:52] Model graph was created\n",
      "Created model successfully. Now going to load weights\n",
      "I0820 14:58:34.273640 4609570240 <ipython-input-5-9a6c637c42f4>:17] Created model successfully. Now going to load weights\n",
      "Model was evaluated on benign data\n",
      "I0820 14:58:34.451277 4609570240 feedforward_robust.py:265] Model was evaluated on benign data\n",
      "----Regular test accuracy and loss ----\n",
      "I0820 14:58:34.452931 4609570240 <ipython-input-5-9a6c637c42f4>:27] ----Regular test accuracy and loss ----\n",
      "(0.4752624, 0.8653)\n",
      "I0820 14:58:34.454868 4609570240 <ipython-input-5-9a6c637c42f4>:28] (0.4752624, 0.8653)\n",
      "Model was evaluated on benign data\n",
      "I0820 14:58:34.478135 4609570240 feedforward_robust.py:265] Model was evaluated on benign data\n",
      "----Regular test accuracy and loss ----\n",
      "I0820 14:58:34.479389 4609570240 <ipython-input-5-9a6c637c42f4>:33] ----Regular test accuracy and loss ----\n",
      "(0.4752624, 0.8653)\n",
      "I0820 14:58:34.481072 4609570240 <ipython-input-5-9a6c637c42f4>:34] (0.4752624, 0.8653)\n",
      "Model is being evaluated on FGSM data\n",
      "I0820 14:58:34.747112 4609570240 feedforward_robust.py:271] Model is being evaluated on FGSM data\n",
      "----FGSM test accuracy and loss ----\n",
      "I0820 14:58:34.762743 4609570240 <ipython-input-5-9a6c637c42f4>:39] ----FGSM test accuracy and loss ----\n",
      "(3.4028633, 0.1185)\n",
      "I0820 14:58:34.764245 4609570240 <ipython-input-5-9a6c637c42f4>:40] (3.4028633, 0.1185)\n"
     ]
    }
   ],
   "source": [
    "model_all_reg, sess_all_reg = regular_training(config)"
   ]
  },
  {
   "cell_type": "code",
   "execution_count": 24,
   "metadata": {},
   "outputs": [],
   "source": [
    "with tf.variable_scope(config['scope_name']) as scope:\n",
    "    weights = model_all_reg.get_weights_np(sess_all_reg)"
   ]
  },
  {
   "cell_type": "code",
   "execution_count": 25,
   "metadata": {},
   "outputs": [
    {
     "data": {
      "image/png": "[encoded data removed]",
      "text/plain": [
       "<Figure size 432x288 with 1 Axes>"
      ]
     },
     "metadata": {
      "needs_background": "light"
     },
     "output_type": "display_data"
    }
   ],
   "source": [
    "#With regularization\n",
    "sing_vals_all = []\n",
    "for (idx, weight_matrix) in enumerate(weights):\n",
    "        sig = plot_singular_values(weight_matrix, idx)\n",
    "        sing_vals_all.append(sig)"
   ]
  },
  {
   "cell_type": "markdown",
   "metadata": {},
   "source": [
    "# FGSM Adversarial Training"
   ]
  },
  {
   "cell_type": "code",
   "execution_count": 26,
   "metadata": {},
   "outputs": [],
   "source": [
    "#Config\n",
    "config['eps_train'] = 0.1\n",
    "config['eps_test'] = 0.1\n",
    "config['tensorboard_dir'] = \"tb/\"\n",
    "config['weights_dir'] = \"weights/\"\n",
    "config['load_counter'] = 75\n",
    "config['sigma'] = tf.nn.relu\n",
    "config['scope_name'] = \"model_robust\""
   ]
  },
  {
   "cell_type": "code",
   "execution_count": 27,
   "metadata": {},
   "outputs": [
    {
     "name": "stderr",
     "output_type": "stream",
     "text": [
      "Adversarial Training\n",
      "I0820 14:59:46.043996 4609570240 <ipython-input-6-8fee2187f6d8>:17] Adversarial Training\n",
      "Initialized instance variables of the robust model class\n",
      "I0820 14:59:46.048014 4609570240 feedforward_robust.py:30] Initialized instance variables of the robust model class\n",
      "Created placeholders for x and y\n",
      "I0820 14:59:46.051692 4609570240 feedforward_robust.py:36] Created placeholders for x and y\n",
      "Created layers and tensor for logits\n",
      "I0820 14:59:46.182872 4609570240 feedforward_robust.py:40] Created layers and tensor for logits\n",
      "Added loss computation to the graph\n",
      "I0820 14:59:46.206788 4609570240 feedforward_robust.py:45] Added loss computation to the graph\n",
      "Added accuracy computation to the graph\n",
      "I0820 14:59:46.218428 4609570240 feedforward_robust.py:49] Added accuracy computation to the graph\n",
      "Model graph was created\n",
      "I0820 14:59:46.221050 4609570240 feedforward_robust.py:52] Model graph was created\n",
      "W0820 14:59:46.447520 4609570240 deprecation.py:323] From ../feedforward_robust.py:345: all_variables (from tensorflow.python.ops.variables) is deprecated and will be removed after 2017-03-02.\n",
      "Instructions for updating:\n",
      "Please use tf.global_variables instead.\n",
      "W0820 14:59:46.448249 4609570240 deprecation_wrapper.py:119] From ../feedforward_robust.py:346: The name tf.train.AdamOptimizer is deprecated. Please use tf.compat.v1.train.AdamOptimizer instead.\n",
      "\n",
      "W0820 14:59:47.093645 4609570240 deprecation.py:323] From /usr/local/lib/python3.7/site-packages/tensorflow/python/util/tf_should_use.py:193: initialize_variables (from tensorflow.python.ops.variables) is deprecated and will be removed after 2017-03-02.\n",
      "Instructions for updating:\n",
      "Use `tf.variables_initializer` instead.\n",
      "Epoch: 0001    cost: 1.604445752 \n",
      "I0820 14:59:51.124736 4609570240 feedforward_robust.py:307] Epoch: 0001    cost: 1.604445752 \n",
      "Accuracy on batch: 0.593750\n",
      "I0820 14:59:51.125945 4609570240 feedforward_robust.py:308] Accuracy on batch: 0.593750\n",
      "Epoch: 0002    cost: 1.127412178 \n",
      "I0820 14:59:54.632999 4609570240 feedforward_robust.py:307] Epoch: 0002    cost: 1.127412178 \n",
      "Accuracy on batch: 0.656250\n",
      "I0820 14:59:54.634154 4609570240 feedforward_robust.py:308] Accuracy on batch: 0.656250\n",
      "Epoch: 0003    cost: 1.042684023 \n",
      "I0820 14:59:58.124871 4609570240 feedforward_robust.py:307] Epoch: 0003    cost: 1.042684023 \n",
      "Accuracy on batch: 0.625000\n",
      "I0820 14:59:58.126233 4609570240 feedforward_robust.py:308] Accuracy on batch: 0.625000\n",
      "Epoch: 0004    cost: 0.996483843 \n",
      "I0820 15:00:01.513622 4609570240 feedforward_robust.py:307] Epoch: 0004    cost: 0.996483843 \n",
      "Accuracy on batch: 0.687500\n",
      "I0820 15:00:01.515208 4609570240 feedforward_robust.py:308] Accuracy on batch: 0.687500\n",
      "Epoch: 0005    cost: 0.927516287 \n",
      "I0820 15:00:04.913759 4609570240 feedforward_robust.py:307] Epoch: 0005    cost: 0.927516287 \n",
      "Accuracy on batch: 0.656250\n",
      "I0820 15:00:04.914874 4609570240 feedforward_robust.py:308] Accuracy on batch: 0.656250\n",
      "Epoch: 0006    cost: 0.860492217 \n",
      "I0820 15:00:08.465368 4609570240 feedforward_robust.py:307] Epoch: 0006    cost: 0.860492217 \n",
      "Accuracy on batch: 0.750000\n",
      "I0820 15:00:08.466468 4609570240 feedforward_robust.py:308] Accuracy on batch: 0.750000\n",
      "Epoch: 0007    cost: 0.808312625 \n",
      "I0820 15:00:12.026210 4609570240 feedforward_robust.py:307] Epoch: 0007    cost: 0.808312625 \n",
      "Accuracy on batch: 0.781250\n",
      "I0820 15:00:12.027760 4609570240 feedforward_robust.py:308] Accuracy on batch: 0.781250\n",
      "Epoch: 0008    cost: 0.768744765 \n",
      "I0820 15:00:15.745486 4609570240 feedforward_robust.py:307] Epoch: 0008    cost: 0.768744765 \n",
      "Accuracy on batch: 0.781250\n",
      "I0820 15:00:15.746661 4609570240 feedforward_robust.py:308] Accuracy on batch: 0.781250\n",
      "Epoch: 0009    cost: 0.732544971 \n",
      "I0820 15:00:19.559297 4609570240 feedforward_robust.py:307] Epoch: 0009    cost: 0.732544971 \n",
      "Accuracy on batch: 0.781250\n",
      "I0820 15:00:19.560398 4609570240 feedforward_robust.py:308] Accuracy on batch: 0.781250\n",
      "Epoch: 0010    cost: 0.699215853 \n",
      "I0820 15:00:23.132781 4609570240 feedforward_robust.py:307] Epoch: 0010    cost: 0.699215853 \n",
      "Accuracy on batch: 0.843750\n",
      "I0820 15:00:23.134418 4609570240 feedforward_robust.py:308] Accuracy on batch: 0.843750\n",
      "Epoch: 0011    cost: 0.662646054 \n",
      "I0820 15:00:26.770244 4609570240 feedforward_robust.py:307] Epoch: 0011    cost: 0.662646054 \n",
      "Accuracy on batch: 0.843750\n",
      "I0820 15:00:26.771706 4609570240 feedforward_robust.py:308] Accuracy on batch: 0.843750\n",
      "Epoch: 0012    cost: 0.630678530 \n",
      "I0820 15:00:30.567747 4609570240 feedforward_robust.py:307] Epoch: 0012    cost: 0.630678530 \n",
      "Accuracy on batch: 0.843750\n",
      "I0820 15:00:30.569240 4609570240 feedforward_robust.py:308] Accuracy on batch: 0.843750\n",
      "Epoch: 0013    cost: 0.602685201 \n",
      "I0820 15:00:33.940090 4609570240 feedforward_robust.py:307] Epoch: 0013    cost: 0.602685201 \n",
      "Accuracy on batch: 0.875000\n",
      "I0820 15:00:33.941263 4609570240 feedforward_robust.py:308] Accuracy on batch: 0.875000\n",
      "Epoch: 0014    cost: 0.582284346 \n",
      "I0820 15:00:37.554926 4609570240 feedforward_robust.py:307] Epoch: 0014    cost: 0.582284346 \n",
      "Accuracy on batch: 0.906250\n",
      "I0820 15:00:37.556537 4609570240 feedforward_robust.py:308] Accuracy on batch: 0.906250\n",
      "Epoch: 0015    cost: 0.561912627 \n",
      "I0820 15:00:40.924848 4609570240 feedforward_robust.py:307] Epoch: 0015    cost: 0.561912627 \n",
      "Accuracy on batch: 0.937500\n",
      "I0820 15:00:40.926287 4609570240 feedforward_robust.py:308] Accuracy on batch: 0.937500\n",
      "Epoch: 0016    cost: 0.544662530 \n",
      "I0820 15:00:44.310959 4609570240 feedforward_robust.py:307] Epoch: 0016    cost: 0.544662530 \n",
      "Accuracy on batch: 0.843750\n",
      "I0820 15:00:44.313455 4609570240 feedforward_robust.py:308] Accuracy on batch: 0.843750\n",
      "Epoch: 0017    cost: 0.529696450 \n",
      "I0820 15:00:47.957806 4609570240 feedforward_robust.py:307] Epoch: 0017    cost: 0.529696450 \n",
      "Accuracy on batch: 0.937500\n",
      "I0820 15:00:47.959125 4609570240 feedforward_robust.py:308] Accuracy on batch: 0.937500\n",
      "Epoch: 0018    cost: 0.510068963 \n",
      "I0820 15:00:51.343137 4609570240 feedforward_robust.py:307] Epoch: 0018    cost: 0.510068963 \n",
      "Accuracy on batch: 0.937500\n",
      "I0820 15:00:51.344456 4609570240 feedforward_robust.py:308] Accuracy on batch: 0.937500\n",
      "Epoch: 0019    cost: 0.503238282 \n",
      "I0820 15:00:54.700907 4609570240 feedforward_robust.py:307] Epoch: 0019    cost: 0.503238282 \n",
      "Accuracy on batch: 0.875000\n",
      "I0820 15:00:54.702309 4609570240 feedforward_robust.py:308] Accuracy on batch: 0.875000\n",
      "Epoch: 0020    cost: 0.489245981 \n",
      "I0820 15:00:58.060345 4609570240 feedforward_robust.py:307] Epoch: 0020    cost: 0.489245981 \n",
      "Accuracy on batch: 0.906250\n",
      "I0820 15:00:58.062179 4609570240 feedforward_robust.py:308] Accuracy on batch: 0.906250\n",
      "Optimization Finished!\n",
      "I0820 15:00:58.063217 4609570240 feedforward_robust.py:309] Optimization Finished!\n",
      "Final Train Loss 0.397630\n",
      "I0820 15:00:58.383074 4609570240 feedforward_robust.py:317] Final Train Loss 0.397630\n",
      "Final Train Accuracy 0.868883:\n",
      "I0820 15:00:58.384227 4609570240 feedforward_robust.py:318] Final Train Accuracy 0.868883:\n",
      "Final Train Loss on Adv points 0.475715\n",
      "I0820 15:00:59.049941 4609570240 feedforward_robust.py:359] Final Train Loss on Adv points 0.475715\n",
      "Final Train Accuracy on Adv points 0.850250\n",
      "I0820 15:00:59.051202 4609570240 feedforward_robust.py:360] Final Train Accuracy on Adv points 0.850250\n",
      "Model was trained on adversarial data\n",
      "I0820 15:00:59.052343 4609570240 feedforward_robust.py:361] Model was trained on adversarial data\n",
      "Model was evaluated on benign data\n",
      "I0820 15:00:59.106366 4609570240 feedforward_robust.py:265] Model was evaluated on benign data\n"
     ]
    },
    {
     "name": "stdout",
     "output_type": "stream",
     "text": [
      "(0.3870393, 0.8783)\n"
     ]
    },
    {
     "name": "stderr",
     "output_type": "stream",
     "text": [
      "Model is being evaluated on FGSM data\n",
      "I0820 15:00:59.401038 4609570240 feedforward_robust.py:271] Model is being evaluated on FGSM data\n"
     ]
    },
    {
     "name": "stdout",
     "output_type": "stream",
     "text": [
      "(0.50027305, 0.8418)\n"
     ]
    }
   ],
   "source": [
    "model_rob, sess_rob = adversarial_training(config)"
   ]
  },
  {
   "cell_type": "code",
   "execution_count": 28,
   "metadata": {},
   "outputs": [],
   "source": [
    "with tf.variable_scope(config['scope_name']) as scope:\n",
    "    weights_robust = model_rob.get_weights_np(sess_rob)"
   ]
  },
  {
   "cell_type": "code",
   "execution_count": 29,
   "metadata": {},
   "outputs": [
    {
     "data": {
      "image/png": "[encoded data removed]",
      "text/plain": [
       "<Figure size 432x288 with 1 Axes>"
      ]
     },
     "metadata": {
      "needs_background": "light"
     },
     "output_type": "display_data"
    }
   ],
   "source": [
    "sing_vals_robust = []\n",
    "for (idx, weight_matrix) in enumerate(weights_robust):\n",
    "    sig = plot_singular_values(weight_matrix, idx)\n",
    "    sing_vals_robust.append(sig)"
   ]
  },
  {
   "cell_type": "code",
   "execution_count": null,
   "metadata": {},
   "outputs": [],
   "source": [
    "sing_vals[0]"
   ]
  },
  {
   "cell_type": "code",
   "execution_count": null,
   "metadata": {},
   "outputs": [],
   "source": [
    "sing_vals_robust[0]"
   ]
  },
  {
   "cell_type": "code",
   "execution_count": null,
   "metadata": {},
   "outputs": [],
   "source": [
    "sing_vals[1]"
   ]
  },
  {
   "cell_type": "code",
   "execution_count": null,
   "metadata": {},
   "outputs": [],
   "source": [
    "sing_vals_robust[1]"
   ]
  },
  {
   "cell_type": "code",
   "execution_count": null,
   "metadata": {},
   "outputs": [],
   "source": [
    "sing_vals[2]"
   ]
  },
  {
   "cell_type": "code",
   "execution_count": null,
   "metadata": {},
   "outputs": [],
   "source": [
    "sing_vals_robust[2]"
   ]
  },
  {
   "cell_type": "code",
   "execution_count": null,
   "metadata": {},
   "outputs": [],
   "source": [
    "sing_vals[-1]"
   ]
  },
  {
   "cell_type": "code",
   "execution_count": null,
   "metadata": {},
   "outputs": [],
   "source": [
    "sing_vals_robust[-1]"
   ]
  },
  {
   "cell_type": "markdown",
   "metadata": {},
   "source": [
    "# Comparison plots"
   ]
  },
  {
   "cell_type": "code",
   "execution_count": null,
   "metadata": {},
   "outputs": [],
   "source": [
    "norm_factor_non = sing_vals[0][0]\n",
    "sing_non = sing_vals[0]/norm_factor_non\n",
    "norm_factor_rob = sing_vals_robust[0][0]\n",
    "sing_rob = sing_vals_robust[0]/norm_factor_rob\n",
    "\n",
    "plt.loglog(range(len(sing_vals[0])), sing_non , label = \"non robust\")\n",
    "plt.loglog(range(len(sing_vals_robust[0])), sing_rob , label = \"robust\")\n",
    "plt.legend(loc = \"upper right\")"
   ]
  },
  {
   "cell_type": "code",
   "execution_count": null,
   "metadata": {},
   "outputs": [],
   "source": [
    "plt.semilogy(range(len(sing_vals[0])), sing_non , label = \"non robust\")\n",
    "plt.semilogy(range(len(sing_vals_robust[0])), sing_rob , label = \"robust\")\n",
    "plt.legend(loc = \"upper right\")"
   ]
  },
  {
   "cell_type": "code",
   "execution_count": null,
   "metadata": {},
   "outputs": [],
   "source": [
    "plt.plot(range(len(sing_vals[0])), sing_non , label = \"non robust\")\n",
    "plt.plot(range(len(sing_vals_robust[0])), sing_rob , label = \"robust\")\n",
    "plt.legend(loc = \"upper right\")"
   ]
  },
  {
   "cell_type": "code",
   "execution_count": null,
   "metadata": {},
   "outputs": [],
   "source": []
  },
  {
   "cell_type": "code",
   "execution_count": null,
   "metadata": {},
   "outputs": [],
   "source": [
    "def all_plots_layer_k(k):\n",
    "    norm_factor_non = sing_vals[k][0]\n",
    "    print(\"-----NORM FACTOR NON---\")\n",
    "    print(norm_factor_non)\n",
    "    sing_non = sing_vals[k]/norm_factor_non\n",
    "    norm_factor_rob = sing_vals_robust[k][0]\n",
    "    print(\"-----NORM FACTOR ROB---\")\n",
    "    print(norm_factor_rob)\n",
    "    sing_rob = sing_vals_robust[k]/norm_factor_rob\n",
    "    plt.loglog(range(len(sing_vals[k])), sing_non , label = \"non robust\")\n",
    "    plt.loglog(range(len(sing_vals_robust[k])), sing_rob , label = \"robust\")\n",
    "    plt.legend(loc = \"upper right\")\n",
    "    plt.show()\n",
    "    plt.semilogy(range(len(sing_vals[k])), sing_non , label = \"non robust\")\n",
    "    plt.semilogy(range(len(sing_vals_robust[k])), sing_rob , label = \"robust\")\n",
    "    plt.legend(loc = \"upper right\")\n",
    "    plt.show()\n",
    "    plt.plot(range(len(sing_vals[k])), sing_non , label = \"non robust\")\n",
    "    plt.plot(range(len(sing_vals_robust[k])), sing_rob , label = \"robust\")\n",
    "    plt.legend(loc = \"upper right\")\n",
    "    plt.show()"
   ]
  },
  {
   "cell_type": "code",
   "execution_count": null,
   "metadata": {},
   "outputs": [],
   "source": [
    "num_layers = len(sing_vals)"
   ]
  },
  {
   "cell_type": "code",
   "execution_count": null,
   "metadata": {},
   "outputs": [],
   "source": [
    "num_layers"
   ]
  },
  {
   "cell_type": "code",
   "execution_count": null,
   "metadata": {},
   "outputs": [],
   "source": [
    "for k in range(8):\n",
    "    print(k)\n",
    "    print(\"-----------\")\n",
    "    all_plots_layer_k(k)\n",
    "    print(\"-----------\")"
   ]
  },
  {
   "cell_type": "code",
   "execution_count": null,
   "metadata": {},
   "outputs": [],
   "source": [
    "for k in range(8):\n",
    "    print(k)\n",
    "    print(\"-----------\")\n",
    "    all_plots_layer_k(k)\n",
    "    print(\"-----------\")"
   ]
  }
 ],
 "metadata": {
  "kernelspec": {
   "display_name": "Python 3",
   "language": "python",
   "name": "python3"
  },
  "language_info": {
   "codemirror_mode": {
    "name": "ipython",
    "version": 3
   },
   "file_extension": ".py",
   "mimetype": "text/x-python",
   "name": "python",
   "nbconvert_exporter": "python",
   "pygments_lexer": "ipython3",
   "version": "3.7.3"
  }
 },
 "nbformat": 4,
 "nbformat_minor": 2
}

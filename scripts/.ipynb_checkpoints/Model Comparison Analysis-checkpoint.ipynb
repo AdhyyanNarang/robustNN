{
 "cells": [
  {
   "cell_type": "code",
   "execution_count": 16,
   "metadata": {},
   "outputs": [
    {
     "name": "stderr",
     "output_type": "stream",
     "text": [
      "WARNING: Logging before flag parsing goes to stderr.\n",
      "W0918 22:14:50.831624 4568716736 deprecation_wrapper.py:119] From /usr/local/lib/python3.7/site-packages/cleverhans/utils_tf.py:341: The name tf.GraphKeys is deprecated. Please use tf.compat.v1.GraphKeys instead.\n",
      "\n"
     ]
    }
   ],
   "source": [
    "#Imports\n",
    "import logging\n",
    "import os, random, time, sys\n",
    "import numpy as np\n",
    "import tensorflow as tf\n",
    "import tensorflow.contrib.layers as layers\n",
    "sys.path.append('../')\n",
    "sys.path.append('../util/')\n",
    "import feedforward_robust as ffr\n",
    "import ipdb\n",
    "from mnist_corruption import *\n",
    "from util import *\n",
    "\n",
    "#Read the counter\n",
    "ctr_file = \"counter.txt\"\n",
    "f = open(ctr_file, 'r')\n",
    "counter = f.readline()\n",
    "f.close()\n",
    "\n",
    "counter = 1 + int(counter)\n",
    "f = open(ctr_file,'w')\n",
    "f.write('{}'.format(counter))\n",
    "f.close()\n",
    "logfile = \"logs/results_\" + str(counter) + \".log\"\n",
    "\n",
    "logger = logging.getLogger(\"robustness\")\n",
    "logger.setLevel(logging.DEBUG)\n",
    "fh = logging.FileHandler(logfile)\n",
    "fh.setLevel(logging.INFO)\n",
    "formatter = logging.Formatter('%(asctime)s - %(name)s - %(levelname)s - %(message)s')\n",
    "fh.setFormatter(formatter)\n",
    "logger.addHandler(fh)\n",
    "logger.addHandler(logging.StreamHandler())"
   ]
  },
  {
   "cell_type": "code",
   "execution_count": 2,
   "metadata": {},
   "outputs": [],
   "source": [
    "%load_ext autoreload\n",
    "%autoreload 2"
   ]
  },
  {
   "cell_type": "code",
   "execution_count": 3,
   "metadata": {},
   "outputs": [],
   "source": [
    "#Setup - Dataset stuff\n",
    "dataset, input_shape, num_classes = get_dataset()\n",
    "x_train_flat, y_train = dataset[0] \n",
    "x_test_flat, y_test = dataset[1] \n",
    "hidden_sizes = [32,32,32,32,32,32,32]"
   ]
  },
  {
   "cell_type": "code",
   "execution_count": 4,
   "metadata": {},
   "outputs": [
    {
     "data": {
      "text/plain": [
       "(60000, 784)"
      ]
     },
     "execution_count": 4,
     "metadata": {},
     "output_type": "execute_result"
    }
   ],
   "source": [
    "x_train_flat.shape"
   ]
  },
  {
   "cell_type": "code",
   "execution_count": 5,
   "metadata": {},
   "outputs": [],
   "source": [
    "def plot_singular_values(matrix, idx, title):\n",
    "    _, sig, V = np.linalg.svd(matrix)\n",
    "    plt.plot(range(len(sig)), sig, label = \"Layer number %d\" %idx)\n",
    "    plt.legend(loc = 'upper right')\n",
    "    plt.title(title)\n",
    "    return sig"
   ]
  },
  {
   "cell_type": "code",
   "execution_count": 6,
   "metadata": {},
   "outputs": [],
   "source": [
    "def regular_training(config_inp):\n",
    "    eps_train = config_inp['eps_train'] \n",
    "    eps_test = config_inp['eps_test'] \n",
    "    tensorboard_dir = config_inp['tensorboard_dir'] \n",
    "    weights_dir = config_inp['weights_dir']\n",
    "    load_counter = config_inp['load_counter'] \n",
    "    sigma = config_inp['sigma']\n",
    "    scope_name = config_inp['scope_name']\n",
    "    \n",
    "    with tf.variable_scope(scope_name, reuse = tf.AUTO_REUSE) as scope:\n",
    "        sess = tf.Session()\n",
    "        logdir = tensorboard_dir + str(counter) + \"/non_robust\"\n",
    "\n",
    "        #Create, train and test model\n",
    "        writer = tf.summary.FileWriter(logdir)\n",
    "        model = ffr.RobustMLP(input_shape, hidden_sizes, num_classes, writer = writer, scope = scope_name, logger = logger, sigma =sigma)\n",
    "        logger.info(\"Created model successfully. Now going to load weights\")\n",
    "        \n",
    "        #Restore weights\n",
    "        weights, biases = model.get_weights()\n",
    "        weights_exp = weights + biases\n",
    "        saver = tf.train.Saver(weights_exp)\n",
    "        weights_path = saver.restore(sess, weights_dir + \"model_\" + str(load_counter) + \".ckpt\")\n",
    "\n",
    "        writer.add_graph(sess.graph)\n",
    "\n",
    "        loss_reg, acc_reg = model.evaluate(sess, x_test_flat, y_test)\n",
    "        logger.info(\"----Regular test accuracy and loss ----\")\n",
    "        logger.info((loss_reg, acc_reg))\n",
    "\n",
    "        \n",
    "        with tf.variable_scope(\"testing_benign\") as scope:\n",
    "            loss_reg, acc_reg = model.evaluate(sess, x_test_flat, y_test)\n",
    "            logger.info(\"----Regular test accuracy and loss ----\")\n",
    "            logger.info((loss_reg, acc_reg))\n",
    "\n",
    "\n",
    "        with tf.variable_scope(\"testing_adversarial\") as scope:\n",
    "            loss_fgsm, acc_fgsm = model.adv_evaluate(sess, x_test_flat, y_test, eps_test, pgd = False)\n",
    "            logger.info(\"----FGSM test accuracy and loss ----\")\n",
    "            logger.info((loss_fgsm, acc_fgsm))\n",
    "            x_test_flat_adv = model.fgsm_np(sess, x_test_flat, y_test, eps_test)\n",
    "    return model, sess"
   ]
  },
  {
   "cell_type": "code",
   "execution_count": 7,
   "metadata": {},
   "outputs": [],
   "source": [
    "def hybrid_training(config_inp):\n",
    "    eps_train = config_inp['eps_train'] \n",
    "    eps_test = config_inp['eps_test'] \n",
    "    tensorboard_dir = config_inp['tensorboard_dir'] \n",
    "    weights_dir = config_inp['weights_dir']\n",
    "    load_counter_non_robust = config_inp['load_counter_non_robust'] \n",
    "    load_counter_robust = config_inp['load_counter_robust']\n",
    "    sigma = config_inp['sigma']\n",
    "    scope_name = config_inp['scope_name']\n",
    "    should_slash = config_inp['should_slash']\n",
    "    slash_factor = config_inp['slash_factor']\n",
    "    \n",
    "    with tf.variable_scope(scope_name, reuse = tf.AUTO_REUSE) as scope:\n",
    "        sess = tf.Session()\n",
    "        logdir = tensorboard_dir + str(counter)\n",
    "\n",
    "        #Create, train and test model\n",
    "        writer = tf.summary.FileWriter(logdir)\n",
    "        model = ffr.RobustMLP(input_shape, hidden_sizes, num_classes, writer = writer, scope = scope_name, logger = logger, sigma =sigma)\n",
    "        feed_dict = {model.x: x_train_flat, model.y: y_train}\n",
    "        sess.run(tf.global_variables_initializer(), feed_dict = feed_dict)\n",
    "        logger.info(\"Created model successfully. Now going to load weights\")\n",
    "        \n",
    "        #Restore all weights from non-robust\n",
    "        weights, biases = model.get_weights()\n",
    "        weights_exp = weights + biases\n",
    "        saver = tf.train.Saver(weights_exp)\n",
    "        weights_path = saver.restore(sess, weights_dir + \"model_\" + str(load_counter_non_robust) + \".ckpt\")\n",
    "        \n",
    "        #Optionally slash weights\n",
    "        if should_slash:\n",
    "            model.slash_weights(sess, slash_factor)\n",
    "            logger.info(\"Successfully slashed weights\")\n",
    "        \n",
    "        logger.info(\"Successfully restored weights from non rob model.\")\n",
    "\n",
    "        #Restore the first and last layer from the robust model\n",
    "        weights, biases = model.get_weights()\n",
    "        selected_vars = [weights[0]] + [weights[-1]] + [biases[0]] + [biases[-1]]\n",
    "        saver = tf.train.Saver(selected_vars)\n",
    "        weights_path_rob = saver.restore(sess, weights_dir + \"model_\" + str(load_counter_robust) + \".ckpt\")\n",
    "        \n",
    "        logger.info(\"Successfully restored weights from rob model.\")\n",
    "        \n",
    "        #Run one epoch to try to make the weights more compatible with each other\n",
    "        \n",
    "        model.fit(sess, x_train_flat[0:10000], y_train[0:10000], training_epochs = 1, reg = 0, lr =3e-3)\n",
    "        logger.info(\"Trained one epoch to attempt to make weights from different models compatible\")\n",
    "        \n",
    "        #writer.add_graph(sess.graph)\n",
    "        loss_reg, acc_reg = model.evaluate(sess, x_test_flat, y_test)\n",
    "        logger.info(\"----Regular test accuracy and loss ----\")\n",
    "        logger.info((loss_reg, acc_reg))\n",
    "\n",
    "        logger.info(\"Evaluating on FGSM points now.\")\n",
    "        loss_fgsm, acc_fgsm = model.adv_evaluate(sess, x_test_flat, y_test, eps_test, pgd = False)\n",
    "        logger.info(\"----FGSM test accuracy and loss ----\")\n",
    "        logger.info((loss_fgsm, acc_fgsm))\n",
    "        x_test_flat_adv = model.fgsm_np(sess, x_test_flat, y_test, eps_test)\n",
    "    \n",
    "        logger.info(\"Evaluating on PGD points now.\")\n",
    "        loss_pgd, acc_pgd = model.adv_evaluate(sess, x_test_flat, y_test, eps_test, pgd = True, eta=1e-2, num_iter = 40)\n",
    "        logger.info(\"----PGD test accuracy and loss ----\")\n",
    "        logger.info((loss_pgd , acc_pgd))\n",
    "        \n",
    "    return model, sess"
   ]
  },
  {
   "cell_type": "code",
   "execution_count": 8,
   "metadata": {},
   "outputs": [],
   "source": [
    "def adversarial_training(config):\n",
    "    eps_train = config['eps_train'] \n",
    "    eps_test = config['eps_test'] \n",
    "    tensorboard_dir = config['tensorboard_dir'] \n",
    "    weights_dir = config['weights_dir']\n",
    "    load_counter = config['load_counter'] \n",
    "    sigma = config['sigma']\n",
    "    scope_name_rob = config['scope_name']\n",
    "    sess = tf.Session()\n",
    "    hidden_sizes = [32,32,32,32,32,32,32]\n",
    "    \n",
    "    dataset = ((x_train_flat, y_train), (x_test_flat, y_test))\n",
    "\n",
    "    with tf.variable_scope(scope_name_rob, reuse = tf.AUTO_REUSE) as scope:\n",
    "        tmp = set(tf.all_variables())\n",
    "        logdir = tensorboard_dir + str(counter) + \"/robust\"\n",
    "        writer_robust = tf.summary.FileWriter(logdir)\n",
    "        logger.info(\"Adversarial Training\")\n",
    "        robust_model = ffr.RobustMLP(input_shape, hidden_sizes, num_classes, writer = writer_robust, scope = scope_name_rob, logger = logger, sigma = sigma)\n",
    "        \n",
    "        sess.run(tf.initialize_variables(set(tf.all_variables()) - tmp))\n",
    "        robust_model.adv_fit(sess, x_train_flat, y_train, eps_train, lr = 3e-4, training_epochs = 20)\n",
    "\n",
    "        print(robust_model.evaluate(sess, x_test_flat, y_test))\n",
    "        print(robust_model.adv_evaluate(sess, x_test_flat, y_test, eps_test))\n",
    "    return robust_model, sess"
   ]
  },
  {
   "cell_type": "code",
   "execution_count": 9,
   "metadata": {},
   "outputs": [],
   "source": [
    "def activation_distance(activation_list):\n",
    "    diff = []\n",
    "    diff_norms = []\n",
    "    for i in range(len(activation_list) - 1):\n",
    "        difference = activation_list[i+1] - activation_list[i]\n",
    "        diff.append(difference)\n",
    "        diff_norms.append(np.linalg.norm(difference)/np.linalg.norm(activation_list[i]))\n",
    "    return diff, diff_norms"
   ]
  },
  {
   "cell_type": "code",
   "execution_count": 38,
   "metadata": {},
   "outputs": [],
   "source": [
    "def make_plot_acc_vs_eps_black_box(model_list, sess_list, eps_list, angle_list, legend_list, scope_list):\n",
    "    x_test_2d = [vec.reshape((28,28)) for vec in x_test_flat]\n",
    "    fig = plt.figure()\n",
    "    ax_gb = fig.add_subplot(2, 2, 1)\n",
    "    ax_rp = fig.add_subplot(2, 2, 2)\n",
    "    ax_bw = fig.add_subplot(2, 2, 3)\n",
    "    ax_rot = fig.add_subplot(2, 2, 4)\n",
    "    \n",
    "    for idx, model in enumerate(model_list):\n",
    "        sess = sess_list[idx]\n",
    "        legend = legend_list[idx]\n",
    "        gb_acc = []\n",
    "        rp_acc = []\n",
    "        bw_acc = []\n",
    "        rot_acc = []\n",
    "        \n",
    "        scope_name = scope_list[idx]\n",
    "        \n",
    "        for (idx, eps_test) in enumerate(eps_list):\n",
    "            x_test_gaussian_blurred = flatten_mnist(gaussian_blurring(x_test_2d, eps_test))[1]\n",
    "            x_test_random_pert = flatten_mnist(random_perturbation(x_test_2d, eps_test))[1]\n",
    "            x_test_black_white = flatten_mnist(random_blackout_whiteout(x_test_2d, eps_test))[1]\n",
    "            angle = angle_list[idx]\n",
    "            x_test_rot = flatten_mnist(rotate(x_test_2d, angle))[1]\n",
    "            \n",
    "            gb_acc.append(model.evaluate(x_test_gaussian_blurred)[1])\n",
    "            rp_acc.append(model.evaluate(x_test_random_pert)[1])\n",
    "            bw_acc.append(model.evaluate(x_test_black_white)[1])\n",
    "            rot_acc.append(model.evaluate(x_test_rot)[1])\n",
    "\n",
    "        ax_gb.plot(eps_list, gb_acc, label = legend)\n",
    "        ax_rp.plot(eps_list, rp_acc, label = legend)\n",
    "        ax_bw.plot(eps_list, bw_acc, label = legend)\n",
    "        ax_rot.plot(eps_list, rot_acc, label = legend)\n",
    " \n",
    "    ax_gb.set_title(\"Gaussian blurring\")\n",
    "    ax_rp.set_title(\"Random perturbation\")\n",
    "    ax_bw.set_title(\"Blackwhite\")\n",
    "    ax_rot.set_title(\"Rotation\")\n",
    "    \n",
    "    plt.legend(loc = 1)\n",
    "    plt.show()\n",
    "    return True"
   ]
  },
  {
   "cell_type": "code",
   "execution_count": 10,
   "metadata": {},
   "outputs": [],
   "source": [
    "def make_plot_acc_vs_eps(model_list, sess_list, eps_list, legend_list, scope_list, pgd = False):\n",
    "    fig = plt.figure()\n",
    "    x_test_2d = [vec.reshape((28,28)) for vec in x_test_flat]\n",
    "    \n",
    "    for idx, model in enumerate(model_list):\n",
    "        sess = sess_list[idx]\n",
    "        legend = legend_list[idx]\n",
    "        y_array = []\n",
    "        scope_name = scope_list[idx]\n",
    "        \n",
    "        for eps_test in eps_list:\n",
    "            if not pgd:\n",
    "                _, acc_fgsm = model.adv_evaluate(sess, x_test_flat, y_test, eps_test, pgd = False)\n",
    "                y_array.append(acc_fgsm)\n",
    "            else:\n",
    "                with tf.variable_scope(scope_name, reuse = tf.AUTO_REUSE) as scope:\n",
    "                    _, acc_pgd = model.adv_evaluate(sess, x_test_flat, y_test, eps_test, pgd = True, eta=1e-2, num_iter = 50)\n",
    "                    y_array.append(acc_pgd)\n",
    "                    \n",
    "        plt.plot(eps_list, y_array, label = legend)\n",
    "    \n",
    "    plt.legend(loc = 1)\n",
    "    plt.show()\n",
    "    return True"
   ]
  },
  {
   "cell_type": "code",
   "execution_count": 11,
   "metadata": {},
   "outputs": [],
   "source": [
    "def get_stats_all_models(model_list, sess_list, scope_list):\n",
    "    \n",
    "    eps_test = 0.1\n",
    "    reg_evals = []\n",
    "    adv_evals = []\n",
    "    margins = []\n",
    "    dphi_dxs = []\n",
    "        \n",
    "    for idx, model in enumerate(model_list):\n",
    "        sess = sess_list[idx]\n",
    "        y_array = []\n",
    "        scope_name = scope_list[idx]\n",
    "\n",
    "        with tf.variable_scope(scope_name, reuse = tf.AUTO_REUSE) as scope:\n",
    "            #Get dphi_dx\n",
    "            dphi_dx_test = model.get_dphi_dx(sess, x_test_flat)[0]\n",
    "            dphi_dxs.append(np.mean(np.abs(dphi_dx_test)))\n",
    "            \n",
    "            #Get reg_evals\n",
    "            reg_evals.append(model.evaluate(sess, x_test_flat, y_test))\n",
    "            \n",
    "            #Get adv_evals\n",
    "            adv_evals.append(model.adv_evaluate(sess, x_test_flat, y_test, eps_test, pgd = False))\n",
    "            \n",
    "            #Get margins\n",
    "            x_test_feat_pert = model.attack_featurization_space(sess, x_test_flat, y_test, 1.0, 0.1, 200)\n",
    "            loss_feat_adv, acc_feat_adv = model.evaluate_from_featurizations(sess, x_test_feat_pert, y_test)\n",
    "            margins.append(acc_feat_adv)\n",
    "            \n",
    "    return reg_evals, adv_evals, margins, dphi_dxs"
   ]
  },
  {
   "cell_type": "code",
   "execution_count": 12,
   "metadata": {},
   "outputs": [],
   "source": [
    "def make_dist_plot_all_models(model_list, sess_list, scope_list, legend_list, order):\n",
    "    plt.figure()\n",
    "    \n",
    "    for idx, model in enumerate(model_list):\n",
    "        sess = sess_list[idx]\n",
    "        scope_name = scope_list[idx]\n",
    "        legend = legend_list[idx]\n",
    "\n",
    "        with tf.variable_scope(scope_name, reuse = tf.AUTO_REUSE) as scope:\n",
    "            y_array = model.get_distance(sess, 0.10, x_test_flat, y_test, order = order)[0]\n",
    "            plt.plot(range(len(y_array)), y_array, label = legend)\n",
    "    \n",
    "    plt.legend()\n",
    "    plt.show()\n",
    "    return True"
   ]
  },
  {
   "cell_type": "code",
   "execution_count": 13,
   "metadata": {},
   "outputs": [],
   "source": [
    "scope_list = [\"hybrid\", \"model_non_robust\", ]"
   ]
  },
  {
   "cell_type": "code",
   "execution_count": 19,
   "metadata": {},
   "outputs": [],
   "source": [
    "x_test_2d = [vec.reshape((28,28)) for vec in x_test_flat]"
   ]
  },
  {
   "cell_type": "code",
   "execution_count": 36,
   "metadata": {},
   "outputs": [
    {
     "name": "stderr",
     "output_type": "stream",
     "text": [
      "/usr/local/lib/python3.7/site-packages/matplotlib/figure.py:445: UserWarning: Matplotlib is currently using module://ipykernel.pylab.backend_inline, which is a non-GUI backend, so cannot show the figure.\n",
      "  % get_backend())\n"
     ]
    },
    {
     "data": {
      "image/png": "[encoded data removed]",
      "text/plain": [
       "<Figure size 432x288 with 2 Axes>"
      ]
     },
     "metadata": {
      "needs_background": "light"
     },
     "output_type": "display_data"
    }
   ],
   "source": [
    "fig = plt.figure()\n",
    "ax1 = fig.add_subplot(2, 1, 1)\n",
    "ax2 = fig.add_subplot(2, 1, 2)\n",
    "\n",
    "\n",
    "ax1.plot(range(10), range(10))\n",
    "ax2.plot(range(10), range(10))\n",
    "\n",
    "fig.show()"
   ]
  },
  {
   "cell_type": "markdown",
   "metadata": {},
   "source": [
    "### Trying out different corruptions "
   ]
  },
  {
   "cell_type": "code",
   "execution_count": 20,
   "metadata": {},
   "outputs": [],
   "source": [
    "#Random trying out stuff\n",
    "x_test_gaussian_blurred = gaussian_blurring(x_test_2d, std)"
   ]
  },
  {
   "cell_type": "code",
   "execution_count": 31,
   "metadata": {},
   "outputs": [],
   "source": [
    "x_test_rotated = rotate(x_test_2d, angle = 45)"
   ]
  },
  {
   "cell_type": "code",
   "execution_count": 32,
   "metadata": {},
   "outputs": [
    {
     "data": {
      "text/plain": [
       "<matplotlib.image.AxesImage at 0x14d2eec50>"
      ]
     },
     "execution_count": 32,
     "metadata": {},
     "output_type": "execute_result"
    },
    {
     "data": {
      "image/png": "[encoded data removed]",
      "text/plain": [
       "<Figure size 432x288 with 1 Axes>"
      ]
     },
     "metadata": {
      "needs_background": "light"
     },
     "output_type": "display_data"
    }
   ],
   "source": [
    "plt.imshow(x_test_rotated[0], cmap = plt.cm.binary)"
   ]
  },
  {
   "cell_type": "markdown",
   "metadata": {},
   "source": [
    "# Hybrid Training"
   ]
  },
  {
   "cell_type": "code",
   "execution_count": null,
   "metadata": {},
   "outputs": [],
   "source": [
    "config = {}\n",
    "config['eps_train'] = 0.1\n",
    "config['eps_test'] = 0.1\n",
    "config['tensorboard_dir'] = \"tb/\"\n",
    "config['weights_dir'] = \"weights/\"\n",
    "\n",
    "config['load_counter_robust'] = 280\n",
    "config['load_counter_non_robust'] = 282\n",
    "config['should_slash'] = False\n",
    "config['slash_factor'] = 0.70\n",
    "\n",
    "config['sigma'] = tf.nn.relu\n",
    "\n",
    "config['scope_name'] = \"hybrid\""
   ]
  },
  {
   "cell_type": "code",
   "execution_count": null,
   "metadata": {},
   "outputs": [],
   "source": [
    "model_hybrid, sess_hybrid = hybrid_training(config)"
   ]
  },
  {
   "cell_type": "code",
   "execution_count": null,
   "metadata": {},
   "outputs": [],
   "source": [
    "dphi_dx_test_hybrid = model_hybrid.get_dphi_dx(sess_hybrid, x_test_flat)[0]"
   ]
  },
  {
   "cell_type": "code",
   "execution_count": null,
   "metadata": {},
   "outputs": [],
   "source": [
    "np.mean(np.abs(dphi_dx_test_hybrid))"
   ]
  },
  {
   "cell_type": "code",
   "execution_count": null,
   "metadata": {},
   "outputs": [],
   "source": [
    "dpred_dx_test_hybrid = model_hybrid.get_pred_dx(sess_hybrid, x_test_flat)[0]\n",
    "np.mean(np.abs(dpred_dx_test_hybrid))"
   ]
  },
  {
   "cell_type": "markdown",
   "metadata": {},
   "source": [
    "## Regular Training"
   ]
  },
  {
   "cell_type": "code",
   "execution_count": null,
   "metadata": {},
   "outputs": [],
   "source": [
    "#tf.reset_default_graph()"
   ]
  },
  {
   "cell_type": "code",
   "execution_count": null,
   "metadata": {},
   "outputs": [],
   "source": [
    "config = {}\n",
    "config['eps_train'] = 0.1\n",
    "config['eps_test'] = 0.1\n",
    "config['tensorboard_dir'] = \"tb/\"\n",
    "config['weights_dir'] = \"weights/\"\n",
    "\n",
    "config['load_counter'] = 222\n",
    "config['sigma'] = tf.nn.relu\n",
    "\n",
    "config['scope_name'] = \"model_non_robust\""
   ]
  },
  {
   "cell_type": "code",
   "execution_count": null,
   "metadata": {},
   "outputs": [],
   "source": [
    "config['scope_name']"
   ]
  },
  {
   "cell_type": "code",
   "execution_count": null,
   "metadata": {},
   "outputs": [],
   "source": [
    "model_non_robust, sess_non_robust = regular_training(config)"
   ]
  },
  {
   "cell_type": "code",
   "execution_count": null,
   "metadata": {},
   "outputs": [],
   "source": [
    "with tf.variable_scope(config['scope_name']) as scope:\n",
    "    weights_non_robust = model_non_robust.get_weights_np(sess_non_robust)"
   ]
  },
  {
   "cell_type": "code",
   "execution_count": null,
   "metadata": {},
   "outputs": [],
   "source": [
    "#Original without regularization\n",
    "sing_vals = []\n",
    "for (idx, weight_matrix) in enumerate(weights_non_robust):\n",
    "        sig = plot_singular_values(weight_matrix, idx, \"Non robust model\")\n",
    "        sing_vals.append(sig)"
   ]
  },
  {
   "cell_type": "code",
   "execution_count": null,
   "metadata": {},
   "outputs": [],
   "source": [
    "#Regular points\n",
    "acts = model_non_robust.get_activation(sess_non_robust, x_test_flat)\n",
    "diff, diff_norm = activation_distance(acts)\n",
    "\n",
    "#Adversarial points\n",
    "x_test_flat_adv = model_non_robust.fgsm_np(sess_non_robust, x_test_flat, y_test, config['eps_test'])\n",
    "acts_adv = model_non_robust.get_activation(sess_non_robust, x_test_flat_adv)\n",
    "diff_adv, diff_norm_adv = activation_distance(acts_adv)"
   ]
  },
  {
   "cell_type": "code",
   "execution_count": null,
   "metadata": {},
   "outputs": [],
   "source": [
    "diff_norm"
   ]
  },
  {
   "cell_type": "code",
   "execution_count": null,
   "metadata": {},
   "outputs": [],
   "source": [
    "diff_norm_adv"
   ]
  },
  {
   "cell_type": "code",
   "execution_count": null,
   "metadata": {},
   "outputs": [],
   "source": [
    "dphi_dx_test = model_non_robust.get_dphi_dx(sess_non_robust, x_test_flat)[0]"
   ]
  },
  {
   "cell_type": "code",
   "execution_count": null,
   "metadata": {},
   "outputs": [],
   "source": [
    "dphi_dx_test[0]"
   ]
  },
  {
   "cell_type": "code",
   "execution_count": null,
   "metadata": {},
   "outputs": [],
   "source": [
    "dphi_dx_test_non_robust = dphi_dx_test\n",
    "np.mean(np.abs(dphi_dx_test_non_robust))"
   ]
  },
  {
   "cell_type": "code",
   "execution_count": null,
   "metadata": {},
   "outputs": [],
   "source": [
    "dpred_dx_test_non_robust = model_non_robust.get_pred_dx(sess_non_robust, x_test_flat)[0]\n",
    "np.mean(np.abs(dpred_dx_test_non_robust))"
   ]
  },
  {
   "cell_type": "code",
   "execution_count": null,
   "metadata": {},
   "outputs": [],
   "source": [
    "with tf.variable_scope(config['scope_name'], reuse = tf.AUTO_REUSE) as scope:\n",
    "    x_test_feat_pert = model_non_robust.attack_featurization_space(sess_non_robust, x_test_flat, y_test, 1.0, 0.1, 200)\n",
    "    loss_feat_adv, acc_feat_adv = model_non_robust.evaluate_from_featurizations(sess_non_robust, x_test_feat_pert, y_test)\n",
    "    print(loss_feat_adv, acc_feat_adv)"
   ]
  },
  {
   "cell_type": "code",
   "execution_count": null,
   "metadata": {},
   "outputs": [],
   "source": [
    "adv_images_fgsm = model_non_robust.fgsm_np(sess_non_robust, x_test_flat, y_test, 0.10)"
   ]
  },
  {
   "cell_type": "code",
   "execution_count": null,
   "metadata": {},
   "outputs": [],
   "source": [
    "test_image = adv_images_fgsm[0]\n",
    "two_d = test_image.reshape((28,28))\n",
    "plt.imshow(two_d, cmap = plt.cm.binary)"
   ]
  },
  {
   "cell_type": "code",
   "execution_count": null,
   "metadata": {},
   "outputs": [],
   "source": [
    "\"\"\"\n",
    "test_image = adv_images_pgd[0]\n",
    "two_d = test_image.reshape((28,28))\n",
    "plt.imshow(two_d, cmap = plt.cm.binary)\n",
    "\"\"\""
   ]
  },
  {
   "cell_type": "markdown",
   "metadata": {},
   "source": [
    "## Trace regularization for first layer"
   ]
  },
  {
   "cell_type": "code",
   "execution_count": null,
   "metadata": {},
   "outputs": [],
   "source": [
    "#Config\n",
    "config = {}\n",
    "config['eps_train'] = 0.1\n",
    "config['eps_test'] = 0.1\n",
    "config['tensorboard_dir'] = \"tb/\"\n",
    "config['weights_dir'] = \"weights/\"\n",
    "\n",
    "config['load_counter'] = 121\n",
    "config['sigma'] = tf.nn.relu\n",
    "\n",
    "config['scope_name'] = \"model_non_robust\""
   ]
  },
  {
   "cell_type": "code",
   "execution_count": null,
   "metadata": {},
   "outputs": [],
   "source": [
    "config['scope_name']"
   ]
  },
  {
   "cell_type": "code",
   "execution_count": null,
   "metadata": {},
   "outputs": [],
   "source": [
    "reg_model, sess_reg = regular_training(config)"
   ]
  },
  {
   "cell_type": "code",
   "execution_count": null,
   "metadata": {},
   "outputs": [],
   "source": [
    "with tf.variable_scope(config['scope_name']) as scope:\n",
    "    weights = reg_model.get_weights_np(sess_reg)"
   ]
  },
  {
   "cell_type": "code",
   "execution_count": null,
   "metadata": {},
   "outputs": [],
   "source": [
    "#With regularization\n",
    "sing_vals_reg = []\n",
    "for (idx, weight_matrix) in enumerate(weights):\n",
    "        sig = plot_singular_values(weight_matrix, idx, \"First layer penalized\")\n",
    "        sing_vals_reg.append(sig)"
   ]
  },
  {
   "cell_type": "markdown",
   "metadata": {},
   "source": [
    "**Interpretation** This is pretty interesting. When you penalize the singular values of the first layer, all the other layers start increasing to compensate - I'm guessing to keep the expressiveness high. Probably, if we penalize all the singular values, it may not learn anything?\n",
    "\n",
    "So we still have not suceeded at replicating the singular value spectrum of the robust model - so it is difficult to conclude whether the singular value spectrum is a determinant of adversarial robustness or not"
   ]
  },
  {
   "cell_type": "code",
   "execution_count": null,
   "metadata": {},
   "outputs": [],
   "source": [
    "#With regularization - first layer\n",
    "sing_vals_reg"
   ]
  },
  {
   "cell_type": "code",
   "execution_count": null,
   "metadata": {},
   "outputs": [],
   "source": [
    "#Regular points\n",
    "acts = reg_model.get_activation(sess_reg, x_test_flat)\n",
    "diff, diff_norm = activation_distance(acts)\n",
    "\n",
    "#Adversarial points\n",
    "x_test_flat_adv = reg_model.fgsm_np(sess_reg, x_test_flat, y_test, config['eps_test'])\n",
    "acts_adv = reg_model.get_activation(sess_reg, x_test_flat_adv)\n",
    "diff_adv, diff_norm_adv = activation_distance(acts_adv)"
   ]
  },
  {
   "cell_type": "code",
   "execution_count": null,
   "metadata": {},
   "outputs": [],
   "source": [
    "diff_norm"
   ]
  },
  {
   "cell_type": "code",
   "execution_count": null,
   "metadata": {},
   "outputs": [],
   "source": [
    "diff_norm_adv"
   ]
  },
  {
   "cell_type": "code",
   "execution_count": null,
   "metadata": {},
   "outputs": [],
   "source": [
    "dphi_dx_robust_first_reg = reg_model.get_dphi_dx(sess_reg, x_test_flat)\n",
    "np.mean(np.abs(dphi_dx_robust_first_reg))"
   ]
  },
  {
   "cell_type": "code",
   "execution_count": null,
   "metadata": {},
   "outputs": [],
   "source": [
    "dpred_dx_robust_first_reg = reg_model.get_pred_dx(sess_reg, x_test_flat)\n",
    "np.mean(np.abs(dpred_dx_robust_first_reg))"
   ]
  },
  {
   "cell_type": "markdown",
   "metadata": {},
   "source": [
    "# Trace regularization for all layers"
   ]
  },
  {
   "cell_type": "code",
   "execution_count": null,
   "metadata": {},
   "outputs": [],
   "source": [
    "#Config\n",
    "config['eps_train'] = 0.1\n",
    "config['eps_test'] = 0.1\n",
    "config['tensorboard_dir'] = \"tb/\"\n",
    "config['weights_dir'] = \"weights/\"\n",
    "config['load_counter'] = 126\n",
    "config['sigma'] = tf.nn.relu\n",
    "config['scope_name'] = \"model_non_robust\""
   ]
  },
  {
   "cell_type": "code",
   "execution_count": null,
   "metadata": {},
   "outputs": [],
   "source": [
    "model_all_reg, sess_all_reg = regular_training(config)"
   ]
  },
  {
   "cell_type": "code",
   "execution_count": null,
   "metadata": {},
   "outputs": [],
   "source": [
    "with tf.variable_scope(config['scope_name']) as scope:\n",
    "    weights = model_all_reg.get_weights_np(sess_all_reg)"
   ]
  },
  {
   "cell_type": "code",
   "execution_count": null,
   "metadata": {},
   "outputs": [],
   "source": [
    "#With regularization\n",
    "sing_vals_all = []\n",
    "for (idx, weight_matrix) in enumerate(weights):\n",
    "        sig = plot_singular_values(weight_matrix, idx, \"all layers penalized\")\n",
    "        sing_vals_all.append(sig)"
   ]
  },
  {
   "cell_type": "code",
   "execution_count": null,
   "metadata": {},
   "outputs": [],
   "source": [
    "#Regular points\n",
    "acts = model_all_reg.get_activation(sess_all_reg, x_test_flat)\n",
    "diff, diff_norm = activation_distance(acts)\n",
    "\n",
    "#Adversarial points\n",
    "x_test_flat_adv = model_all_reg.fgsm_np(sess_all_reg, x_test_flat, y_test, config['eps_test'])\n",
    "acts_adv = model_all_reg.get_activation(sess_all_reg, x_test_flat_adv)\n",
    "diff_adv, diff_norm_adv = activation_distance(acts_adv)"
   ]
  },
  {
   "cell_type": "code",
   "execution_count": null,
   "metadata": {},
   "outputs": [],
   "source": [
    "diff_norm"
   ]
  },
  {
   "cell_type": "code",
   "execution_count": null,
   "metadata": {},
   "outputs": [],
   "source": [
    "diff_norm_adv"
   ]
  },
  {
   "cell_type": "code",
   "execution_count": null,
   "metadata": {},
   "outputs": [],
   "source": [
    "dphi_dx_robust_all_reg = reg_model.get_dphi_dx(sess_all_reg, x_test_flat)\n",
    "np.mean(np.abs(dphi_dx_robust_all_reg))"
   ]
  },
  {
   "cell_type": "code",
   "execution_count": null,
   "metadata": {},
   "outputs": [],
   "source": [
    "dpred_dx_robust_all_reg = reg_model.get_pred_dx(sess_all_reg, x_test_flat)\n",
    "np.mean(np.abs(dpred_dx_robust_all_reg))"
   ]
  },
  {
   "cell_type": "markdown",
   "metadata": {},
   "source": [
    "# FGSM Adversarial Training"
   ]
  },
  {
   "cell_type": "code",
   "execution_count": null,
   "metadata": {},
   "outputs": [],
   "source": [
    "#Config\n",
    "config['eps_train'] = 0.1\n",
    "config['eps_test'] = 0.1\n",
    "config['tensorboard_dir'] = \"tb/\"\n",
    "config['weights_dir'] = \"weights/\"\n",
    "config['load_counter'] = 280\n",
    "config['sigma'] = tf.nn.relu\n",
    "config['scope_name'] = \"model_robust\""
   ]
  },
  {
   "cell_type": "code",
   "execution_count": null,
   "metadata": {},
   "outputs": [],
   "source": [
    "model_rob, sess_rob = adversarial_training(config)"
   ]
  },
  {
   "cell_type": "code",
   "execution_count": null,
   "metadata": {},
   "outputs": [],
   "source": [
    "with tf.variable_scope(config['scope_name']) as scope:\n",
    "    weights_robust = model_rob.get_weights_np(sess_rob)"
   ]
  },
  {
   "cell_type": "code",
   "execution_count": null,
   "metadata": {},
   "outputs": [],
   "source": [
    "sing_vals_robust = []\n",
    "for (idx, weight_matrix) in enumerate(weights_robust):\n",
    "    sig = plot_singular_values(weight_matrix, idx, \"FGSM adversarially trained model\")\n",
    "    sing_vals_robust.append(sig)"
   ]
  },
  {
   "cell_type": "code",
   "execution_count": null,
   "metadata": {},
   "outputs": [],
   "source": [
    "dphi_dx_robust = model_rob.get_dphi_dx(sess_rob, x_test_flat)\n",
    "np.mean(np.abs(dphi_dx_robust))"
   ]
  },
  {
   "cell_type": "code",
   "execution_count": null,
   "metadata": {},
   "outputs": [],
   "source": [
    "dpred_dx_robust = model_rob.get_pred_dx(sess_rob, x_test_flat)\n",
    "np.mean(np.abs(dpred_dx_robust))"
   ]
  },
  {
   "cell_type": "code",
   "execution_count": null,
   "metadata": {},
   "outputs": [],
   "source": [
    "sing_vals[0]"
   ]
  },
  {
   "cell_type": "code",
   "execution_count": null,
   "metadata": {},
   "outputs": [],
   "source": [
    "sing_vals_robust[0]"
   ]
  },
  {
   "cell_type": "code",
   "execution_count": null,
   "metadata": {},
   "outputs": [],
   "source": [
    "sing_vals[1]"
   ]
  },
  {
   "cell_type": "code",
   "execution_count": null,
   "metadata": {},
   "outputs": [],
   "source": [
    "sing_vals_robust[1]"
   ]
  },
  {
   "cell_type": "code",
   "execution_count": null,
   "metadata": {},
   "outputs": [],
   "source": [
    "sing_vals[2]"
   ]
  },
  {
   "cell_type": "code",
   "execution_count": null,
   "metadata": {},
   "outputs": [],
   "source": [
    "sing_vals_robust[2]"
   ]
  },
  {
   "cell_type": "code",
   "execution_count": null,
   "metadata": {},
   "outputs": [],
   "source": [
    "sing_vals[-1]"
   ]
  },
  {
   "cell_type": "code",
   "execution_count": null,
   "metadata": {},
   "outputs": [],
   "source": [
    "sing_vals_robust[-1]"
   ]
  },
  {
   "cell_type": "code",
   "execution_count": null,
   "metadata": {},
   "outputs": [],
   "source": [
    "#Regular points\n",
    "acts = model_rob.get_activation(sess_rob, x_test_flat)\n",
    "diff, diff_norm = activation_distance(acts)\n",
    "\n",
    "#Adversarial points\n",
    "x_test_flat_adv = model_rob.fgsm_np(sess_rob, x_test_flat, y_test, config['eps_test'])\n",
    "acts_adv = model_rob.get_activation(sess_rob, x_test_flat_adv)\n",
    "diff_adv, diff_norm_adv = activation_distance(acts_adv)"
   ]
  },
  {
   "cell_type": "code",
   "execution_count": null,
   "metadata": {},
   "outputs": [],
   "source": [
    "diff_norm"
   ]
  },
  {
   "cell_type": "code",
   "execution_count": null,
   "metadata": {},
   "outputs": [],
   "source": [
    "diff_norm_adv"
   ]
  },
  {
   "cell_type": "markdown",
   "metadata": {},
   "source": [
    "# Comparison plots"
   ]
  },
  {
   "cell_type": "markdown",
   "metadata": {},
   "source": [
    "## Distances"
   ]
  },
  {
   "cell_type": "code",
   "execution_count": null,
   "metadata": {},
   "outputs": [],
   "source": [
    "model_list = [model_non_robust, model_all_reg, model_rob, model_hybrid, reg_model]\n",
    "sess_list = [sess_non_robust, sess_all_reg, sess_rob, sess_hybrid, sess_reg]\n",
    "scope_list = [\"model_non_robust\", \"model_non_robust\", \"model_robust\", \"hybrid\", \"model_non_robust\"]\n",
    "legend_list = ['non robust', 'all layers trace reg', 'robust', 'hybrid', 'first layer trace reg']"
   ]
  },
  {
   "cell_type": "code",
   "execution_count": null,
   "metadata": {},
   "outputs": [],
   "source": [
    "make_dist_plot_all_models(model_list, sess_list, scope_list, legend_list, order = 2)"
   ]
  },
  {
   "cell_type": "code",
   "execution_count": null,
   "metadata": {},
   "outputs": [],
   "source": [
    "make_dist_plot_all_models(model_list, sess_list, scope_list, legend_list, order = float(\"inf\"))"
   ]
  },
  {
   "cell_type": "markdown",
   "metadata": {},
   "source": [
    "## Stats"
   ]
  },
  {
   "cell_type": "code",
   "execution_count": null,
   "metadata": {},
   "outputs": [],
   "source": [
    "model_list = [model_non_robust, model_all_reg, model_rob, model_hybrid, reg_model]\n",
    "sess_list = [sess_non_robust, sess_all_reg, sess_rob, sess_hybrid, sess_reg]\n",
    "scope_list = [\"model_non_robust\", \"model_non_robust\", \"model_robust\", \"hybrid\", \"model_non_robust\"]"
   ]
  },
  {
   "cell_type": "code",
   "execution_count": null,
   "metadata": {},
   "outputs": [],
   "source": [
    "reg_evals, adv_evals, margins, dphi_dxs = get_stats_all_models(model_list, sess_list, scope_list)"
   ]
  },
  {
   "cell_type": "code",
   "execution_count": null,
   "metadata": {},
   "outputs": [],
   "source": [
    "#model_non_robust, model_all_reg, model_rob, model_hybrid, reg_model"
   ]
  },
  {
   "cell_type": "code",
   "execution_count": null,
   "metadata": {},
   "outputs": [],
   "source": [
    "reg_evals"
   ]
  },
  {
   "cell_type": "code",
   "execution_count": null,
   "metadata": {},
   "outputs": [],
   "source": [
    "adv_evals"
   ]
  },
  {
   "cell_type": "code",
   "execution_count": null,
   "metadata": {},
   "outputs": [],
   "source": [
    "dphi_dxs"
   ]
  },
  {
   "cell_type": "code",
   "execution_count": null,
   "metadata": {},
   "outputs": [],
   "source": [
    "margins"
   ]
  },
  {
   "cell_type": "code",
   "execution_count": null,
   "metadata": {},
   "outputs": [],
   "source": [
    "labels = ['non robust', 'Sing val all', 'fgsm train', 'hybrid', 'sing val first']"
   ]
  },
  {
   "cell_type": "code",
   "execution_count": null,
   "metadata": {},
   "outputs": [],
   "source": [
    "adv_evals_np = np.array(adv_evals)\n",
    "acc_adv = adv_evals_np[:, 1]"
   ]
  },
  {
   "cell_type": "code",
   "execution_count": null,
   "metadata": {},
   "outputs": [],
   "source": [
    "x = 2*np.arange(len(labels))  # the label locations\n",
    "width = 0.60  # the width of the bars\n",
    "\n",
    "fig, ax = plt.subplots()\n",
    "rects1 = ax.bar(x - width/2, dphi_dxs, width, label='dphi_dx')\n",
    "rects2 = ax.bar(x + width/2, margins, width, label='margin')\n",
    "\n",
    "# Add some text for labels, title and custom x-axis tick labels, etc.\n",
    "ax.set_ylabel('Margins/ Gradient means')\n",
    "ax.set_title('Margins and gradient for diferent models')\n",
    "ax.set_xticks(x)\n",
    "ax.set_xticklabels(labels)\n",
    "ax.legend()\n",
    "\n",
    "plt.show()\n",
    "print(adv_evals_np[:, 1])"
   ]
  },
  {
   "cell_type": "code",
   "execution_count": null,
   "metadata": {},
   "outputs": [],
   "source": [
    "x = 2*np.arange(len(labels))  # the label locations\n",
    "width = 0.60  # the width of the bars\n",
    "\n",
    "fig, ax = plt.subplots()\n",
    "rects1 = ax.bar(x - width/2, dphi_dxs, width, label='dphi_dx')\n",
    "# Add some text for labels, title and custom x-axis tick labels, etc.\n",
    "ax.set_ylabel('Gradient means')\n",
    "ax.set_ylim((0, 1.1))\n",
    "ax.set_title('Margins and gradient for diferent models')\n",
    "ax.set_xticks(x)\n",
    "ax.set_xticklabels(labels)\n",
    "ax.legend()\n",
    "\n",
    "\n",
    "color = 'tab:orange'\n",
    "ax2 = ax.twinx()\n",
    "rects2 = ax2.bar(x + width/2, margins, width, label='margin', color = color)\n",
    "ax2.set_ylabel('Margins')\n",
    "ax2.set_ylim((0, 0.40))\n",
    "#ax.set_xticks(x)\n",
    "#ax.set_xticklabels(labels)\n",
    "#ax2.legend(legend_loc = (1.0, 0.8))\n",
    "\n",
    "\n",
    "def autolabel(rects):\n",
    "    \"\"\"Attach a text label above each bar in *rects*, displaying its height.\"\"\"\n",
    "    for (idx, rect) in enumerate(rects1):\n",
    "        height = rect.get_height()\n",
    "        height_2 = rects2[idx].get_height() * (1.0/0.37)\n",
    "        height = max(height, height_2)\n",
    "        ax.annotate('{:0.3f}'.format(acc_adv[idx]),\n",
    "                    xy=(rect.get_x() + rect.get_width() / 2, height),\n",
    "                    xytext=(0, 3),  # 3 points vertical offset\n",
    "                    textcoords=\"offset points\",\n",
    "                    ha='center', va='bottom')\n",
    "\n",
    "\n",
    "autolabel(rects1)\n",
    "autolabel(rects2)\n",
    "\n",
    "plt.show()\n",
    "print(adv_evals_np[:, 1])"
   ]
  },
  {
   "cell_type": "code",
   "execution_count": null,
   "metadata": {},
   "outputs": [],
   "source": [
    "fig, ax1 = plt.subplots()\n",
    "\n",
    "color = 'tab:red'\n",
    "ax1.set_xlabel('time (s)')\n",
    "ax1.set_ylabel('exp', color=color)\n",
    "ax1.plot(t, data1, color=color)\n",
    "ax1.tick_params(axis='y', labelcolor=color)\n",
    "\n",
    "ax2 = ax1.twinx()  # instantiate a second axes that shares the same x-axis\n",
    "\n",
    "color = 'tab:blue'\n",
    "ax2.set_ylabel('sin', color=color)  # we already handled the x-label with ax1\n",
    "ax2.plot(t, data2, color=color)\n",
    "ax2.tick_params(axis='y', labelcolor=color)\n",
    "\n",
    "fig.tight_layout()  # otherwise the right y-label is slightly clipped\n",
    "plt.show()"
   ]
  },
  {
   "cell_type": "markdown",
   "metadata": {},
   "source": [
    "## Accuracies "
   ]
  },
  {
   "cell_type": "code",
   "execution_count": null,
   "metadata": {},
   "outputs": [],
   "source": [
    "model_list = [model_non_robust, model_all_reg, model_rob, model_hybrid, reg_model]\n",
    "sess_list = [sess_non_robust, sess_all_reg, sess_rob, sess_hybrid, sess_reg]\n",
    "eps_list = [0, 0.02, 0.05, 0.1, 0.2, 0.3]\n",
    "scope_list = [\"model_non_robust\", \"model_non_robust\", \"model_robust\", \"hybrid\", \"model_non_robust\"]\n",
    "legend_list = ['non_robust', 'all layers trace reg', 'robust', 'hybrid', 'first layer trace reg']"
   ]
  },
  {
   "cell_type": "code",
   "execution_count": null,
   "metadata": {},
   "outputs": [],
   "source": [
    "make_plot_acc_vs_eps(model_list, sess_list, eps_list, legend_list, scope_list, pgd = False)"
   ]
  },
  {
   "cell_type": "code",
   "execution_count": null,
   "metadata": {},
   "outputs": [],
   "source": [
    "model_list = [model_non_robust, model_all_reg, model_rob, model_hybrid, reg_model]\n",
    "sess_list = [sess_non_robust, sess_all_reg, sess_rob, sess_hybrid, sess_reg]\n",
    "eps_list = [0, 0.02, 0.05, 0.1, 0.2, 0.3]\n",
    "scope_list = [\"model_non_robust\", \"model_non_robust\", \"model_robust\", \"hybrid\", \"model_non_robust\"]\n",
    "legend_list = ['non_robust', 'all layers trace reg', 'robust', 'hybrid', 'first layer trace reg']"
   ]
  },
  {
   "cell_type": "code",
   "execution_count": null,
   "metadata": {},
   "outputs": [],
   "source": [
    "make_plot_acc_vs_eps(model_list, sess_list, eps_list, legend_list, scope_list, pgd = True)"
   ]
  },
  {
   "cell_type": "markdown",
   "metadata": {},
   "source": [
    "## Black box accuracies"
   ]
  },
  {
   "cell_type": "code",
   "execution_count": null,
   "metadata": {},
   "outputs": [],
   "source": [
    "model_list = [model_non_robust, model_all_reg, model_rob, model_hybrid, reg_model]\n",
    "sess_list = [sess_non_robust, sess_all_reg, sess_rob, sess_hybrid, sess_reg]\n",
    "eps_list = [0, 0.02, 0.05, 0.1, 0.2, 0.3]\n",
    "angle_list = [10, 30, 40, 50, 60, 70]\n",
    "scope_list = [\"model_non_robust\", \"model_non_robust\", \"model_robust\", \"hybrid\", \"model_non_robust\"]\n",
    "legend_list = ['non_robust', 'all layers trace reg', 'robust', 'hybrid', 'first layer trace reg']"
   ]
  },
  {
   "cell_type": "code",
   "execution_count": null,
   "metadata": {},
   "outputs": [],
   "source": [
    "make_plot_acc_vs_eps_black_box(model_list, sess_list, eps_list, angle_list, legend_list, scope_list)"
   ]
  },
  {
   "cell_type": "markdown",
   "metadata": {},
   "source": [
    "## Singular Values "
   ]
  },
  {
   "cell_type": "code",
   "execution_count": null,
   "metadata": {},
   "outputs": [],
   "source": [
    "norm_factor_non = sing_vals[0][0]\n",
    "sing_non = sing_vals[0]/norm_factor_non\n",
    "norm_factor_rob = sing_vals_robust[0][0]\n",
    "sing_rob = sing_vals_robust[0]/norm_factor_rob\n",
    "\n",
    "plt.loglog(range(len(sing_vals[0])), sing_non , label = \"non robust\")\n",
    "plt.loglog(range(len(sing_vals_robust[0])), sing_rob , label = \"robust\")\n",
    "plt.legend(loc = \"upper right\")"
   ]
  },
  {
   "cell_type": "code",
   "execution_count": null,
   "metadata": {},
   "outputs": [],
   "source": [
    "plt.semilogy(range(len(sing_vals[0])), sing_non , label = \"non robust\")\n",
    "plt.semilogy(range(len(sing_vals_robust[0])), sing_rob , label = \"robust\")\n",
    "plt.legend(loc = \"upper right\")"
   ]
  },
  {
   "cell_type": "code",
   "execution_count": null,
   "metadata": {},
   "outputs": [],
   "source": [
    "plt.plot(range(len(sing_vals[0])), sing_non , label = \"non robust\")\n",
    "plt.plot(range(len(sing_vals_robust[0])), sing_rob , label = \"robust\")\n",
    "plt.legend(loc = \"upper right\")"
   ]
  },
  {
   "cell_type": "code",
   "execution_count": null,
   "metadata": {},
   "outputs": [],
   "source": []
  },
  {
   "cell_type": "code",
   "execution_count": null,
   "metadata": {},
   "outputs": [],
   "source": [
    "def all_plots_layer_k(k):\n",
    "    norm_factor_non = sing_vals[k][0]\n",
    "    print(\"-----NORM FACTOR NON---\")\n",
    "    print(norm_factor_non)\n",
    "    sing_non = sing_vals[k]/norm_factor_non\n",
    "    norm_factor_rob = sing_vals_robust[k][0]\n",
    "    print(\"-----NORM FACTOR ROB---\")\n",
    "    print(norm_factor_rob)\n",
    "    sing_rob = sing_vals_robust[k]/norm_factor_rob\n",
    "    plt.loglog(range(len(sing_vals[k])), sing_non , label = \"non robust\")\n",
    "    plt.loglog(range(len(sing_vals_robust[k])), sing_rob , label = \"robust\")\n",
    "    plt.legend(loc = \"upper right\")\n",
    "    plt.show()\n",
    "    plt.semilogy(range(len(sing_vals[k])), sing_non , label = \"non robust\")\n",
    "    plt.semilogy(range(len(sing_vals_robust[k])), sing_rob , label = \"robust\")\n",
    "    plt.legend(loc = \"upper right\")\n",
    "    plt.show()\n",
    "    plt.plot(range(len(sing_vals[k])), sing_non , label = \"non robust\")\n",
    "    plt.plot(range(len(sing_vals_robust[k])), sing_rob , label = \"robust\")\n",
    "    plt.legend(loc = \"upper right\")\n",
    "    plt.show()"
   ]
  },
  {
   "cell_type": "code",
   "execution_count": null,
   "metadata": {},
   "outputs": [],
   "source": [
    "num_layers = len(sing_vals)"
   ]
  },
  {
   "cell_type": "code",
   "execution_count": null,
   "metadata": {},
   "outputs": [],
   "source": [
    "num_layers"
   ]
  },
  {
   "cell_type": "code",
   "execution_count": null,
   "metadata": {},
   "outputs": [],
   "source": [
    "for k in range(8):\n",
    "    print(k)\n",
    "    print(\"-----------\")\n",
    "    all_plots_layer_k(k)\n",
    "    print(\"-----------\")"
   ]
  },
  {
   "cell_type": "code",
   "execution_count": null,
   "metadata": {},
   "outputs": [],
   "source": [
    "for k in range(8):\n",
    "    print(k)\n",
    "    print(\"-----------\")\n",
    "    all_plots_layer_k(k)\n",
    "    print(\"-----------\")"
   ]
  }
 ],
 "metadata": {
  "kernelspec": {
   "display_name": "Python 3",
   "language": "python",
   "name": "python3"
  },
  "language_info": {
   "codemirror_mode": {
    "name": "ipython",
    "version": 3
   },
   "file_extension": ".py",
   "mimetype": "text/x-python",
   "name": "python",
   "nbconvert_exporter": "python",
   "pygments_lexer": "ipython3",
   "version": "3.7.3"
  }
 },
 "nbformat": 4,
 "nbformat_minor": 2
}

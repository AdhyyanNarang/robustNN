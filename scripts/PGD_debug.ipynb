{
 "cells": [
  {
   "cell_type": "code",
   "execution_count": 1,
   "metadata": {},
   "outputs": [],
   "source": [
    "#Imports\n",
    "import logging\n",
    "import os, random, time, sys\n",
    "import numpy as np\n",
    "import tensorflow as tf\n",
    "import tensorflow.contrib.layers as layers\n",
    "sys.path.append('../')\n",
    "sys.path.append('../util/')\n",
    "import feedforward_robust as ffr\n",
    "import ipdb\n",
    "from util import *\n",
    "\n",
    "#Read the counter\n",
    "ctr_file = \"counter.txt\"\n",
    "f = open(ctr_file, 'r')\n",
    "counter = f.readline()\n",
    "f.close()\n",
    "\n",
    "counter = 1 + int(counter)\n",
    "f = open(ctr_file,'w')\n",
    "f.write('{}'.format(counter))\n",
    "f.close()\n",
    "logfile = \"logs/results_\" + str(counter) + \".log\"\n",
    "\n",
    "logger = logging.getLogger(\"robustness\")\n",
    "logger.setLevel(logging.DEBUG)\n",
    "fh = logging.FileHandler(logfile)\n",
    "fh.setLevel(logging.INFO)\n",
    "formatter = logging.Formatter('%(asctime)s - %(name)s - %(levelname)s - %(message)s')\n",
    "fh.setFormatter(formatter)\n",
    "logger.addHandler(fh)\n",
    "logger.addHandler(logging.StreamHandler())"
   ]
  },
  {
   "cell_type": "code",
   "execution_count": 2,
   "metadata": {},
   "outputs": [],
   "source": [
    "%load_ext autoreload\n",
    "%autoreload 2"
   ]
  },
  {
   "cell_type": "code",
   "execution_count": 3,
   "metadata": {},
   "outputs": [],
   "source": [
    "#Setup - Dataset stuff\n",
    "dataset, input_shape, num_classes = get_dataset()\n",
    "x_train_flat, y_train = dataset[0] \n",
    "x_test_flat, y_test = dataset[1] \n",
    "hidden_sizes = [32,32,32,32,32,32,32]"
   ]
  },
  {
   "cell_type": "code",
   "execution_count": 4,
   "metadata": {},
   "outputs": [
    {
     "data": {
      "text/plain": [
       "(60000, 784)"
      ]
     },
     "execution_count": 4,
     "metadata": {},
     "output_type": "execute_result"
    }
   ],
   "source": [
    "x_train_flat.shape"
   ]
  },
  {
   "cell_type": "code",
   "execution_count": 5,
   "metadata": {},
   "outputs": [],
   "source": [
    "def plot_singular_values(matrix, idx):\n",
    "    _, sig, V = np.linalg.svd(matrix)\n",
    "    plt.plot(range(len(sig)), sig, label = \"Layer number %d\" %idx)\n",
    "    plt.legend(loc = 'upper right')\n",
    "    return sig"
   ]
  },
  {
   "cell_type": "code",
   "execution_count": 6,
   "metadata": {},
   "outputs": [],
   "source": [
    "def regular_training(config_inp):\n",
    "    print(\"Yes using the correct one.\")\n",
    "    eps_train = config_inp['eps_train'] \n",
    "    eps_test = config_inp['eps_test'] \n",
    "    tensorboard_dir = config_inp['tensorboard_dir'] \n",
    "    weights_dir = config_inp['weights_dir']\n",
    "    load_counter = config_inp['load_counter'] \n",
    "    sigma = config_inp['sigma']\n",
    "    scope_name = config_inp['scope_name']\n",
    "    \n",
    "    with tf.variable_scope(scope_name, reuse = tf.AUTO_REUSE) as scope:\n",
    "        sess = tf.Session()\n",
    "        logdir = tensorboard_dir + str(counter) + \"/non_robust\"\n",
    "\n",
    "        #Create, train and test model\n",
    "        writer = tf.summary.FileWriter(logdir)\n",
    "        model = ffr.RobustMLP(input_shape, hidden_sizes, num_classes, writer = writer, scope = scope_name, logger = logger, sigma =sigma)\n",
    "        logger.info(\"Created model successfully. Now going to load weights\")\n",
    "\n",
    "        #Restore weights\n",
    "        weights = tf.trainable_variables()\n",
    "        saver = tf.train.Saver(weights)\n",
    "        weights_path = saver.restore(sess, weights_dir + \"model_\" + str(load_counter) + \".ckpt\")\n",
    "\n",
    "        writer.add_graph(sess.graph)\n",
    "\n",
    "        loss_reg, acc_reg = model.evaluate(sess, x_test_flat, y_test)\n",
    "        logger.info(\"----Regular test accuracy and loss ----\")\n",
    "        logger.info((loss_reg, acc_reg))\n",
    "\n",
    "\n",
    "        with tf.variable_scope(\"testing_benign\") as scope:\n",
    "            loss_reg, acc_reg = model.evaluate(sess, x_test_flat, y_test)\n",
    "            logger.info(\"----Regular test accuracy and loss ----\")\n",
    "            logger.info((loss_reg, acc_reg))\n",
    "\n",
    "\n",
    "        with tf.variable_scope(\"testing_adversarial\") as scope:\n",
    "            loss_fgsm, acc_fgsm = model.adv_evaluate(sess, x_test_flat, y_test, eps_test, pgd = False)\n",
    "            logger.info(\"----FGSM test accuracy and loss ----\")\n",
    "            logger.info((loss_fgsm, acc_fgsm))\n",
    "            x_test_flat_adv = model.fgsm_np(sess, x_test_flat, y_test, eps_test)\n",
    "    return model, sess"
   ]
  },
  {
   "cell_type": "code",
   "execution_count": 7,
   "metadata": {},
   "outputs": [],
   "source": [
    "def adversarial_training(config):\n",
    "    eps_train = config['eps_train'] \n",
    "    eps_test = config['eps_test'] \n",
    "    tensorboard_dir = config['tensorboard_dir'] \n",
    "    weights_dir = config['weights_dir']\n",
    "    load_counter = config['load_counter'] \n",
    "    sigma = config['sigma']\n",
    "    scope_name_rob = config['scope_name']\n",
    "    sess = tf.Session()\n",
    "    hidden_sizes = [32,32,32,32,32,32,32]\n",
    "    \n",
    "    dataset = ((x_train_flat, y_train), (x_test_flat, y_test))\n",
    "\n",
    "    with tf.variable_scope(scope_name_rob, reuse = False) as scope:\n",
    "        logdir = tensorboard_dir + str(counter) + \"/robust\"\n",
    "        writer_robust = tf.summary.FileWriter(logdir)\n",
    "        logger.info(\"Adversarial Training\")\n",
    "        robust_model = ffr.RobustMLP(input_shape, hidden_sizes, num_classes, writer = writer_robust, scope = scope_name_rob, logger = logger, sigma = sigma)\n",
    "        sess.run(tf.global_variables_initializer())\n",
    "        robust_model.adv_fit(sess, x_train_flat, y_train, eps_train, lr = 3e-4, training_epochs = 20)\n",
    "\n",
    "        print(robust_model.evaluate(sess, x_test_flat, y_test))\n",
    "        print(robust_model.adv_evaluate(sess, x_test_flat, y_test, eps_test))\n",
    "    return robust_model, sess"
   ]
  },
  {
   "cell_type": "code",
   "execution_count": 8,
   "metadata": {},
   "outputs": [],
   "source": [
    "def activation_distance(activation_list):\n",
    "    diff = []\n",
    "    diff_norms = []\n",
    "    for i in range(len(activation_list) - 1):\n",
    "        difference = activation_list[i+1] - activation_list[i]\n",
    "        diff.append(difference)\n",
    "        diff_norms.append(np.linalg.norm(difference)/np.linalg.norm(activation_list[i]))\n",
    "    return diff, diff_norms"
   ]
  },
  {
   "cell_type": "markdown",
   "metadata": {},
   "source": [
    "## Regular Training"
   ]
  },
  {
   "cell_type": "code",
   "execution_count": 9,
   "metadata": {},
   "outputs": [],
   "source": [
    "config = {}\n",
    "config['eps_train'] = 0.1\n",
    "config['eps_test'] = 0.1\n",
    "config['tensorboard_dir'] = \"tb/\"\n",
    "config['weights_dir'] = \"weights/\"\n",
    "\n",
    "config['load_counter'] = 234\n",
    "config['sigma'] = tf.nn.relu\n",
    "\n",
    "config['scope_name'] = \"model_non_robust\""
   ]
  },
  {
   "cell_type": "code",
   "execution_count": 10,
   "metadata": {},
   "outputs": [
    {
     "data": {
      "text/plain": [
       "'model_non_robust'"
      ]
     },
     "execution_count": 10,
     "metadata": {},
     "output_type": "execute_result"
    }
   ],
   "source": [
    "config['scope_name']"
   ]
  },
  {
   "cell_type": "code",
   "execution_count": 11,
   "metadata": {},
   "outputs": [
    {
     "name": "stderr",
     "output_type": "stream",
     "text": [
      "Initialized instance variables of the robust model class\n",
      "WARNING: Logging before flag parsing goes to stderr.\n",
      "I0829 16:30:29.019833 4529395136 feedforward_robust.py:30] Initialized instance variables of the robust model class\n",
      "W0829 16:30:29.021157 4529395136 deprecation_wrapper.py:119] From ../feedforward_robust.py:34: The name tf.placeholder is deprecated. Please use tf.compat.v1.placeholder instead.\n",
      "\n",
      "Created placeholders for x and y\n",
      "I0829 16:30:29.024662 4529395136 feedforward_robust.py:36] Created placeholders for x and y\n",
      "W0829 16:30:29.027037 4529395136 deprecation_wrapper.py:119] From ../util.py:34: The name tf.variable_scope is deprecated. Please use tf.compat.v1.variable_scope instead.\n",
      "\n",
      "W0829 16:30:29.028053 4529395136 deprecation_wrapper.py:119] From ../util.py:34: The name tf.AUTO_REUSE is deprecated. Please use tf.compat.v1.AUTO_REUSE instead.\n",
      "\n",
      "W0829 16:30:29.029495 4529395136 deprecation_wrapper.py:119] From ../util.py:36: The name tf.get_variable is deprecated. Please use tf.compat.v1.get_variable instead.\n",
      "\n",
      "W0829 16:30:29.048188 4529395136 deprecation_wrapper.py:119] From ../util.py:40: The name tf.summary.histogram is deprecated. Please use tf.compat.v1.summary.histogram instead.\n",
      "\n",
      "Created layers and tensor for logits\n",
      "I0829 16:30:29.143243 4529395136 feedforward_robust.py:40] Created layers and tensor for logits\n",
      "W0829 16:30:29.144330 4529395136 deprecation.py:323] From ../feedforward_robust.py:42: softmax_cross_entropy_with_logits (from tensorflow.python.ops.nn_ops) is deprecated and will be removed in a future version.\n",
      "Instructions for updating:\n",
      "\n",
      "Future major versions of TensorFlow will allow gradients to flow\n",
      "into the labels input on backprop by default.\n",
      "\n",
      "See `tf.nn.softmax_cross_entropy_with_logits_v2`.\n",
      "\n",
      "W0829 16:30:29.164407 4529395136 deprecation_wrapper.py:119] From ../feedforward_robust.py:44: The name tf.summary.scalar is deprecated. Please use tf.compat.v1.summary.scalar instead.\n",
      "\n"
     ]
    },
    {
     "name": "stdout",
     "output_type": "stream",
     "text": [
      "Yes using the correct one.\n"
     ]
    },
    {
     "name": "stderr",
     "output_type": "stream",
     "text": [
      "Added loss computation to the graph\n",
      "I0829 16:30:29.224940 4529395136 feedforward_robust.py:45] Added loss computation to the graph\n",
      "Added accuracy computation to the graph\n",
      "I0829 16:30:29.232789 4529395136 feedforward_robust.py:49] Added accuracy computation to the graph\n",
      "Model graph was created\n",
      "I0829 16:30:29.235784 4529395136 feedforward_robust.py:52] Model graph was created\n",
      "W0829 16:30:29.237574 4529395136 deprecation_wrapper.py:119] From ../feedforward_robust.py:53: The name tf.summary.merge_all is deprecated. Please use tf.compat.v1.summary.merge_all instead.\n",
      "\n",
      "Created model successfully. Now going to load weights\n",
      "I0829 16:30:29.240903 4529395136 <ipython-input-6-e26862baedb0>:18] Created model successfully. Now going to load weights\n",
      "W0829 16:30:29.261045 4529395136 deprecation.py:323] From /usr/local/lib/python3.7/site-packages/tensorflow/python/training/saver.py:1276: checkpoint_exists (from tensorflow.python.training.checkpoint_management) is deprecated and will be removed in a future version.\n",
      "Instructions for updating:\n",
      "Use standard file APIs to check for files with this prefix.\n",
      "Model was evaluated on benign data\n",
      "I0829 16:30:29.373991 4529395136 feedforward_robust.py:304] Model was evaluated on benign data\n",
      "----Regular test accuracy and loss ----\n",
      "I0829 16:30:29.375126 4529395136 <ipython-input-6-e26862baedb0>:28] ----Regular test accuracy and loss ----\n",
      "(0.24392319, 0.9313)\n",
      "I0829 16:30:29.377530 4529395136 <ipython-input-6-e26862baedb0>:29] (0.24392319, 0.9313)\n",
      "Model was evaluated on benign data\n",
      "I0829 16:30:29.400854 4529395136 feedforward_robust.py:304] Model was evaluated on benign data\n",
      "----Regular test accuracy and loss ----\n",
      "I0829 16:30:29.402069 4529395136 <ipython-input-6-e26862baedb0>:34] ----Regular test accuracy and loss ----\n",
      "(0.24392319, 0.9313)\n",
      "I0829 16:30:29.403841 4529395136 <ipython-input-6-e26862baedb0>:35] (0.24392319, 0.9313)\n",
      "Model is being evaluated on FGSM data\n",
      "I0829 16:30:29.570968 4529395136 feedforward_robust.py:311] Model is being evaluated on FGSM data\n",
      "----FGSM test accuracy and loss ----\n",
      "I0829 16:30:29.588101 4529395136 <ipython-input-6-e26862baedb0>:40] ----FGSM test accuracy and loss ----\n",
      "(7.2898045, 0.0383)\n",
      "I0829 16:30:29.590211 4529395136 <ipython-input-6-e26862baedb0>:41] (7.2898045, 0.0383)\n"
     ]
    }
   ],
   "source": [
    "model_non_robust, sess_non_robust = regular_training(config)"
   ]
  },
  {
   "cell_type": "code",
   "execution_count": 12,
   "metadata": {},
   "outputs": [],
   "source": [
    "with tf.variable_scope(config['scope_name']) as scope:\n",
    "    weights_non_robust = model_non_robust.get_weights_np(sess_non_robust)"
   ]
  },
  {
   "cell_type": "code",
   "execution_count": 13,
   "metadata": {},
   "outputs": [
    {
     "data": {
      "image/png": "[encoded data removed]",
      "text/plain": [
       "<Figure size 432x288 with 1 Axes>"
      ]
     },
     "metadata": {
      "needs_background": "light"
     },
     "output_type": "display_data"
    }
   ],
   "source": [
    "#Original without regularization\n",
    "sing_vals = []\n",
    "for (idx, weight_matrix) in enumerate(weights_non_robust):\n",
    "        sig = plot_singular_values(weight_matrix, idx)\n",
    "        sing_vals.append(sig)"
   ]
  },
  {
   "cell_type": "code",
   "execution_count": 14,
   "metadata": {},
   "outputs": [
    {
     "data": {
      "text/plain": [
       "[array([10.98934  ,  9.849143 ,  8.9571495,  8.589343 ,  8.424989 ,\n",
       "         7.442756 ,  7.2798185,  6.879962 ,  6.616007 ,  6.1205773,\n",
       "         6.0696473,  5.6559844,  5.6149917,  5.2019434,  4.8868704,\n",
       "         4.8151917,  4.571614 ,  4.4537935,  4.1841106,  4.1064925,\n",
       "         3.8774009,  3.7417672,  3.605185 ,  3.5330877,  3.1569746,\n",
       "         3.139727 ,  3.0948906,  2.988961 ,  2.8200884,  2.7364967,\n",
       "         2.3776686,  1.43886  ], dtype=float32),\n",
       " array([3.5399613 , 3.3393252 , 3.1339645 , 2.7066133 , 2.6268587 ,\n",
       "        2.3468897 , 2.2352798 , 2.101153  , 2.025469  , 1.832221  ,\n",
       "        1.7765919 , 1.6091101 , 1.4537913 , 1.385822  , 1.329209  ,\n",
       "        1.1839622 , 1.0472189 , 1.0019002 , 0.9513587 , 0.893556  ,\n",
       "        0.81628394, 0.71710473, 0.6187097 , 0.5800394 , 0.55525225,\n",
       "        0.4472064 , 0.3030115 , 0.25293425, 0.17364141, 0.11431789,\n",
       "        0.08316629, 0.04528319], dtype=float32),\n",
       " array([3.0823748 , 2.9809802 , 2.8074439 , 2.6283894 , 2.5642107 ,\n",
       "        2.1463795 , 2.0792513 , 1.973464  , 1.8922756 , 1.7322272 ,\n",
       "        1.5111728 , 1.34769   , 1.2826786 , 1.1842365 , 1.1335614 ,\n",
       "        1.0673999 , 0.9575118 , 0.90089136, 0.838118  , 0.7954405 ,\n",
       "        0.68551457, 0.6433057 , 0.62686765, 0.51150924, 0.45846036,\n",
       "        0.39115897, 0.31762442, 0.26879323, 0.1666811 , 0.12596859,\n",
       "        0.08327233, 0.0274864 ], dtype=float32),\n",
       " array([3.173515  , 2.7307992 , 2.4166539 , 2.334673  , 2.16124   ,\n",
       "        2.12048   , 1.9340855 , 1.7260054 , 1.6623714 , 1.6479589 ,\n",
       "        1.5097072 , 1.3973714 , 1.3356923 , 1.2719604 , 1.1363064 ,\n",
       "        1.0749067 , 0.979221  , 0.90074813, 0.85528606, 0.7877282 ,\n",
       "        0.7018433 , 0.63416463, 0.5601015 , 0.46476114, 0.4005101 ,\n",
       "        0.37966675, 0.33395755, 0.22191846, 0.21276335, 0.10170868,\n",
       "        0.05198871, 0.00599638], dtype=float32),\n",
       " array([2.591655  , 2.544361  , 2.4410474 , 2.1580179 , 2.045271  ,\n",
       "        1.9518288 , 1.839366  , 1.6736553 , 1.5920379 , 1.5374047 ,\n",
       "        1.4925712 , 1.3722063 , 1.2167698 , 1.1580865 , 1.0898424 ,\n",
       "        0.98336834, 0.93448055, 0.87904996, 0.7792181 , 0.72384447,\n",
       "        0.6906511 , 0.56891054, 0.5395364 , 0.5031995 , 0.42110536,\n",
       "        0.3937989 , 0.36074984, 0.325832  , 0.25854018, 0.17754747,\n",
       "        0.10118598, 0.0144797 ], dtype=float32),\n",
       " array([2.6516562 , 2.5013747 , 2.349543  , 2.149822  , 2.0403886 ,\n",
       "        1.8693476 , 1.8465725 , 1.6858076 , 1.5236632 , 1.4755278 ,\n",
       "        1.4245596 , 1.2673228 , 1.1728883 , 1.1492217 , 1.0542349 ,\n",
       "        1.033274  , 0.9395896 , 0.890837  , 0.7716561 , 0.75182134,\n",
       "        0.70741624, 0.6238152 , 0.55119133, 0.46143636, 0.4376856 ,\n",
       "        0.36623764, 0.280709  , 0.25899184, 0.17116393, 0.10711424,\n",
       "        0.06244302, 0.01256684], dtype=float32),\n",
       " array([2.6584864 , 2.3443036 , 2.2456412 , 2.0742323 , 1.9742814 ,\n",
       "        1.8756535 , 1.7893016 , 1.6781766 , 1.5933406 , 1.5197991 ,\n",
       "        1.4038085 , 1.2170419 , 1.1714826 , 1.1138667 , 1.050259  ,\n",
       "        0.98026145, 0.8753039 , 0.8594717 , 0.8062544 , 0.7623178 ,\n",
       "        0.6934145 , 0.6093825 , 0.5909493 , 0.47503757, 0.3307719 ,\n",
       "        0.2488211 , 0.23284884, 0.2098929 , 0.17688516, 0.1047878 ,\n",
       "        0.05118118, 0.03697029], dtype=float32),\n",
       " array([2.7370505, 2.260478 , 2.1680896, 1.9627637, 1.693858 , 1.4795618,\n",
       "        1.2968408, 1.0966128, 0.924284 , 0.8056218], dtype=float32)]"
      ]
     },
     "execution_count": 14,
     "metadata": {},
     "output_type": "execute_result"
    }
   ],
   "source": [
    "sing_vals"
   ]
  },
  {
   "cell_type": "code",
   "execution_count": 15,
   "metadata": {},
   "outputs": [],
   "source": [
    "#Regular points\n",
    "acts = model_non_robust.get_activation(sess_non_robust, x_test_flat)\n",
    "diff, diff_norm = activation_distance(acts)\n",
    "\n",
    "#Adversarial points\n",
    "x_test_flat_adv = model_non_robust.fgsm_np(sess_non_robust, x_test_flat, y_test, config['eps_test'])\n",
    "acts_adv = model_non_robust.get_activation(sess_non_robust, x_test_flat_adv)\n",
    "diff_adv, diff_norm_adv = activation_distance(acts_adv)"
   ]
  },
  {
   "cell_type": "code",
   "execution_count": 16,
   "metadata": {},
   "outputs": [
    {
     "data": {
      "text/plain": [
       "[1.180735, 1.3017206, 1.2705342, 1.3235074, 1.2170277, 1.2869717]"
      ]
     },
     "execution_count": 16,
     "metadata": {},
     "output_type": "execute_result"
    }
   ],
   "source": [
    "diff_norm"
   ]
  },
  {
   "cell_type": "code",
   "execution_count": 17,
   "metadata": {},
   "outputs": [
    {
     "data": {
      "text/plain": [
       "[1.151944, 1.2491419, 1.2110084, 1.2899554, 1.1872396, 1.3583589]"
      ]
     },
     "execution_count": 17,
     "metadata": {},
     "output_type": "execute_result"
    }
   ],
   "source": [
    "diff_norm_adv"
   ]
  },
  {
   "cell_type": "code",
   "execution_count": 18,
   "metadata": {},
   "outputs": [],
   "source": [
    "dphi_dx_test = model_non_robust.get_dphi_dx(sess_non_robust, x_test_flat)[0]"
   ]
  },
  {
   "cell_type": "code",
   "execution_count": 19,
   "metadata": {},
   "outputs": [
    {
     "data": {
      "text/plain": [
       "array([-1.70424387e-01, -2.28483647e-01,  2.46494144e-01,  2.72350013e-01,\n",
       "        4.93438542e-02, -4.51346964e-01, -3.80778432e-01, -1.82161629e-01,\n",
       "        1.31927043e-01, -1.15903616e-02,  1.28423020e-01, -2.23013625e-01,\n",
       "       -3.47879678e-01, -4.70310040e-02, -1.87043220e-01, -1.29934892e-01,\n",
       "        4.66792919e-02, -1.83506712e-01, -3.01369399e-01, -2.52531528e-01,\n",
       "       -1.75994694e-01, -2.61307538e-01, -1.17210887e-01, -1.61502436e-02,\n",
       "        2.26399422e-01,  4.14602786e-01,  1.45522626e-02, -2.70412952e-01,\n",
       "        9.56932902e-02, -2.59628966e-02,  1.48275137e-01,  2.65621506e-02,\n",
       "       -2.58640409e-01,  4.96143922e-02, -5.84253930e-02, -3.04628044e-01,\n",
       "       -3.84318054e-01, -7.56812990e-01, -6.46627128e-01,  5.38178027e-01,\n",
       "        5.89975953e-01,  5.50226092e-01, -5.23123920e-01, -1.36050761e-01,\n",
       "       -5.23589551e-01, -2.02670023e-01,  2.43016127e-02, -3.74661200e-02,\n",
       "        4.98666674e-01,  4.94081557e-01, -1.03673317e-01,  4.26361471e-01,\n",
       "        7.45374709e-02,  2.68071383e-01, -5.19211143e-02,  2.11708724e-01,\n",
       "       -6.90559298e-02,  1.62090600e-01, -6.86255619e-02, -5.08548552e-03,\n",
       "        6.55520797e-01, -8.47160995e-01, -5.82486331e-01, -1.04898572e+00,\n",
       "       -1.27234566e+00, -1.86135721e+00, -1.13679540e+00, -6.11946769e-02,\n",
       "       -1.61249280e-01, -4.33809668e-01, -1.49695218e+00, -1.12581658e+00,\n",
       "       -8.31359744e-01, -8.76638368e-02, -3.95405054e-01, -5.25727034e-01,\n",
       "       -1.10453814e-01, -1.01316683e-01,  5.47798574e-01,  2.82889485e-01,\n",
       "       -1.87966391e-01,  2.12147817e-01, -1.66030198e-01, -2.27977917e-01,\n",
       "       -3.80877316e-01,  1.46420911e-01,  7.46785283e-01, -2.77725667e-01,\n",
       "        3.41531157e-01,  1.50406122e+00,  6.08830392e-01, -6.66676402e-01,\n",
       "       -3.76506746e-01, -1.12631619e+00, -1.83760786e+00, -9.62909579e-01,\n",
       "       -1.08150852e+00, -8.48985076e-01, -7.46596217e-01, -1.42360449e+00,\n",
       "       -1.45946527e+00, -1.30536199e+00, -1.14132488e+00, -1.26104021e+00,\n",
       "       -1.70204699e+00, -8.68478835e-01, -2.63100654e-01, -2.30213523e-01,\n",
       "       -9.85644579e-01, -3.11510175e-01,  1.94483474e-01,  2.72016346e-01,\n",
       "       -1.12290680e-01,  1.05621003e-01, -4.30216461e-01, -1.97499339e-02,\n",
       "       -2.09086046e-01, -3.45063210e-01,  7.73565233e-01,  7.22314179e-01,\n",
       "        1.86293349e-01, -8.12926173e-01, -1.68067133e+00, -1.58363008e+00,\n",
       "       -9.02738690e-01, -3.13017696e-01, -1.02032638e+00, -1.32138503e+00,\n",
       "       -1.50357163e+00, -1.50557077e+00, -7.50510931e-01,  1.58612147e-01,\n",
       "       -5.39211370e-02, -5.04998863e-01,  4.17243570e-01,  1.19678140e-01,\n",
       "       -1.10796058e+00, -6.83474898e-01, -5.04582763e-01, -2.16728061e-01,\n",
       "       -3.88692170e-01, -3.52464676e-01, -4.95010167e-01,  4.39933628e-01,\n",
       "        3.48751634e-01,  8.11749637e-01,  1.26007223e+00,  6.44627869e-01,\n",
       "        1.27235425e+00,  1.89464033e-01, -8.09219599e-01, -1.35407484e+00,\n",
       "       -1.07328105e+00, -1.29897988e+00, -1.00582075e+00, -1.51958096e+00,\n",
       "       -1.57054532e+00, -1.62573981e+00, -1.90319657e+00, -1.54609430e+00,\n",
       "       -1.07572651e+00, -1.06432223e+00, -9.54395473e-01, -8.07539880e-01,\n",
       "       -8.34985316e-01, -3.00989270e+00, -2.12993789e+00,  1.49672464e-01,\n",
       "       -1.65974244e-01, -3.39944780e-01,  1.19851589e+00,  2.05715466e+00,\n",
       "        1.93782008e+00,  2.52725697e+00,  1.66540706e+00,  6.46161795e-01,\n",
       "        7.98961759e-01,  2.41475865e-01, -4.92256701e-01, -1.65175289e-01,\n",
       "       -3.77504289e-01, -3.72407287e-01, -9.22095358e-01, -8.32151949e-01,\n",
       "       -6.58454657e-01, -4.68341947e-01, -1.04925048e+00, -1.35430551e+00,\n",
       "       -8.81149113e-01, -4.04123664e-01, -6.84547246e-01, -4.17331547e-01,\n",
       "       -6.37236953e-01, -2.62383747e+00, -2.75016332e+00, -1.00641763e+00,\n",
       "        4.89554480e-02,  1.25888121e+00,  1.69822216e+00,  3.06755924e+00,\n",
       "        2.20046425e+00,  1.00977731e+00,  1.40524065e+00,  1.34049559e+00,\n",
       "        4.41022038e-01,  1.43453807e-01,  4.67850834e-01,  5.92768967e-01,\n",
       "        4.94499803e-01,  5.39292693e-02, -3.17906171e-01, -9.35622036e-01,\n",
       "        1.28408641e-01,  5.00042178e-02, -1.48185208e-01,  2.33779639e-01,\n",
       "       -9.84839275e-02, -1.36334881e-01, -6.80559516e-01, -5.06767809e-01,\n",
       "       -7.56712914e-01, -2.12403536e+00, -8.09934616e-01,  3.76649737e-01,\n",
       "        4.02270526e-01,  7.43098915e-01,  6.24096274e-01,  7.37337232e-01,\n",
       "        8.63368571e-01,  1.33404672e+00,  8.81618500e-01,  9.49152589e-01,\n",
       "        7.41054535e-01,  6.63122416e-01,  7.78130054e-01,  1.12198472e+00,\n",
       "        3.96910638e-01,  5.02340496e-01,  8.37946177e-01,  5.78120172e-01,\n",
       "        6.14430487e-01,  1.26111436e+00,  9.76559281e-01,  4.86663640e-01,\n",
       "        5.18983483e-01, -1.46774158e-01, -6.11619771e-01, -3.10012907e-01,\n",
       "       -1.59285820e+00, -2.84261465e+00, -1.74265718e+00, -4.73005235e-01,\n",
       "        1.45738983e+00,  1.79530215e+00, -2.08573014e-01, -2.10204333e-01,\n",
       "        1.03034341e+00,  4.57708299e-01,  2.73272306e-01,  8.03909123e-01,\n",
       "       -7.31266811e-02,  7.09789336e-01,  6.77478969e-01,  1.00833631e+00,\n",
       "        1.28577673e+00,  1.44487965e+00,  1.67721605e+00,  7.01137841e-01,\n",
       "        9.23924327e-01,  1.08052194e+00,  1.23673403e+00,  7.12412179e-01,\n",
       "        4.59472477e-01, -4.23243284e-01,  8.10866728e-02, -1.51522171e+00,\n",
       "       -2.18849945e+00, -2.16777229e+00, -2.10193372e+00,  5.91593266e-01,\n",
       "        1.34362125e+00,  2.25022721e+00,  5.71758866e-01, -5.69189131e-01,\n",
       "        1.77271143e-01,  7.58269906e-01,  2.07286656e-01, -3.77909303e-01,\n",
       "       -2.67775863e-01,  1.91912115e-01,  7.93420851e-01,  7.73747921e-01,\n",
       "        3.27747166e-01,  7.74100542e-01,  3.40899050e-01,  7.24934399e-01,\n",
       "        1.05791199e+00,  1.59191430e+00,  7.09950507e-01,  4.53248054e-01,\n",
       "        8.51721764e-01,  5.61258316e-01,  3.48383486e-02, -1.89541566e+00,\n",
       "       -1.18286514e+00, -8.08634281e-01, -1.40747499e+00, -1.28270328e-01,\n",
       "        1.20551503e+00,  2.31436825e+00,  1.27079940e+00,  1.32544148e+00,\n",
       "       -5.97743597e-03,  5.47099471e-01,  2.50189416e-02, -5.94827533e-01,\n",
       "       -8.04865897e-01,  4.40253049e-01,  2.23722115e-01,  6.99288905e-01,\n",
       "       -5.55541158e-01, -1.75099111e+00, -2.54593396e+00, -9.45835829e-01,\n",
       "        2.44228557e-01,  1.12688398e+00,  1.78197771e-01,  7.09171176e-01,\n",
       "        7.36840546e-01,  7.33476460e-01, -2.31927007e-01, -9.98760700e-01,\n",
       "       -1.37144044e-01, -3.05313170e-01, -9.14699305e-03, -2.70207644e-01,\n",
       "        1.74340641e+00,  2.24338031e+00,  1.92355323e+00,  9.57004368e-01,\n",
       "       -3.31817210e-01,  8.02136481e-01, -3.08166176e-01,  5.50608873e-01,\n",
       "        3.80945176e-01,  1.62597880e-01,  4.70158488e-01, -7.72819877e-01,\n",
       "       -2.09036088e+00, -3.59562922e+00, -2.95429683e+00, -9.03609335e-01,\n",
       "       -1.16319321e-01,  7.13291824e-01,  3.09679091e-01, -1.20806754e+00,\n",
       "       -4.19741720e-01, -7.57435501e-01, -7.00844646e-01, -4.08714086e-01,\n",
       "        8.16377532e-03, -2.78067321e-01,  3.44267875e-01, -5.32241285e-01,\n",
       "       -2.20526382e-01,  1.27868664e+00,  1.39466012e+00,  8.01704049e-01,\n",
       "       -1.40794694e+00,  4.39492732e-01,  5.94618857e-01,  1.71156675e-01,\n",
       "        6.42395437e-01,  1.14469633e-01,  1.90217495e-01, -1.50436118e-01,\n",
       "       -1.99034023e+00, -2.84876823e+00, -2.43791819e+00, -9.87144709e-01,\n",
       "        3.64313275e-01,  6.75887525e-01,  4.67060208e-01, -1.10931742e+00,\n",
       "       -1.45319664e+00, -1.10735238e+00, -5.13273120e-01, -6.76077008e-02,\n",
       "        1.13658226e+00,  9.50717032e-02, -3.63501638e-01, -2.37021208e-01,\n",
       "        2.18683988e-01,  8.53979826e-01,  2.93494558e+00,  5.75013995e-01,\n",
       "       -1.67445195e+00,  4.18508559e-01, -2.55410373e-01,  4.42073882e-01,\n",
       "        1.76153988e-01,  6.39039397e-01,  3.39273453e-01, -1.25447893e+00,\n",
       "       -2.25561213e+00, -3.01849294e+00, -2.43060994e+00, -7.52386928e-01,\n",
       "        8.99236426e-02,  9.18736339e-01,  1.00818515e+00,  7.62814462e-01,\n",
       "       -3.16503555e-01, -7.95089304e-02,  4.36607867e-01,  5.66276729e-01,\n",
       "        1.17244339e+00,  6.90100253e-01, -6.95553482e-01, -3.62310916e-01,\n",
       "        5.82342327e-01, -1.38297960e-01,  1.42923069e+00,  1.31658590e+00,\n",
       "        6.75412863e-02,  3.38916898e-01, -1.93268806e-02,  9.06772614e-02,\n",
       "       -2.43986379e-02, -2.38859907e-01, -6.05589449e-01, -2.18687463e+00,\n",
       "       -2.58656573e+00, -2.75696850e+00, -1.20191431e+00,  4.45868850e-01,\n",
       "        5.35400450e-01,  1.32263732e+00,  1.15047014e+00,  7.82016695e-01,\n",
       "        6.93160534e-01,  1.60271490e+00,  1.27476299e+00,  1.35031775e-01,\n",
       "        2.13444874e-01,  7.13108897e-01,  4.16742504e-01, -2.96532422e-01,\n",
       "        1.19714701e+00, -2.45029435e-01,  2.70674944e-01, -1.75830889e-02,\n",
       "        5.23876905e-01,  3.60955536e-01, -1.89940929e-01,  1.21869773e-01,\n",
       "       -1.41321756e-02, -1.79603145e-01, -6.61639929e-01, -1.55220842e+00,\n",
       "       -2.02246428e+00, -1.76677883e+00, -5.49919963e-01,  5.17874300e-01,\n",
       "        7.99609840e-01,  1.18244743e+00,  1.27559566e+00,  9.17164683e-01,\n",
       "        1.03981245e+00,  1.81155062e+00,  1.65151215e+00,  1.13859892e+00,\n",
       "        2.92863965e-01, -4.75651950e-01, -5.55125296e-01, -6.23600662e-01,\n",
       "       -1.80751383e-01,  1.16413987e+00, -3.84530634e-01,  1.72685146e-01,\n",
       "       -1.05133116e+00, -7.92790353e-01, -9.29132223e-01, -1.39319479e+00,\n",
       "       -1.75748539e+00, -1.40568101e+00, -3.56670886e-01, -5.92042983e-01,\n",
       "       -1.56885052e+00, -4.69959557e-01,  4.23218280e-01,  3.71356875e-01,\n",
       "        1.28162308e-02,  8.73533607e-01,  1.02190912e+00,  1.73319459e-01,\n",
       "        6.61068112e-02, -4.63270545e-01,  2.25834236e-01,  5.42018592e-01,\n",
       "        3.91966254e-01, -1.21795468e-01, -1.26889348e+00, -9.27273989e-01,\n",
       "        4.46952403e-01,  1.47115290e+00,  1.83457509e-01,  3.20047438e-01,\n",
       "       -1.96710920e+00, -3.18701476e-01, -9.08000112e-01, -9.97772872e-01,\n",
       "       -2.25795388e+00, -2.01102161e+00, -1.52856636e+00, -9.93837774e-01,\n",
       "       -4.27393615e-01, -5.17740607e-01,  1.78690508e-01,  3.85356069e-01,\n",
       "       -4.25796174e-02,  3.96942735e-01,  4.28746462e-01, -5.09779811e-01,\n",
       "       -1.05037451e+00, -3.66338372e-01, -5.54238617e-01, -6.51110828e-01,\n",
       "       -1.04876554e+00,  6.37167811e-01, -3.57574940e-01,  3.15431580e-02,\n",
       "        2.07899541e-01,  1.73029613e+00,  7.57860661e-01,  8.14906716e-01,\n",
       "       -7.26465166e-01, -7.02771306e-01, -1.29670620e+00, -1.19723642e+00,\n",
       "       -1.28025877e+00, -1.54649603e+00, -1.51082289e+00, -4.92654741e-01,\n",
       "        6.25148714e-02,  2.22026765e-01,  7.32595682e-01, -1.15901493e-01,\n",
       "       -2.45007977e-01, -7.64701605e-01, -6.96023762e-01, -9.38901782e-01,\n",
       "       -5.62240422e-01, -1.40906096e+00, -1.82860947e+00, -1.50718200e+00,\n",
       "        7.02960640e-02,  1.02334058e+00,  2.78971404e-01,  3.09667021e-01,\n",
       "       -3.04335356e-02,  1.02373374e+00,  1.11104921e-01,  2.88749449e-02,\n",
       "       -6.38397217e-01, -1.58887887e+00, -1.14918423e+00, -1.46183121e+00,\n",
       "       -1.22537076e+00, -1.46623540e+00, -1.01229775e+00,  2.64251709e-01,\n",
       "        2.97085822e-01,  2.95300424e-01,  7.56109118e-01, -2.42796302e-01,\n",
       "       -9.81486261e-01, -1.39720821e+00, -2.12416053e+00, -8.15850079e-01,\n",
       "       -1.32277155e+00, -1.90971851e+00, -2.64573073e+00, -1.18869865e+00,\n",
       "       -2.86142319e-01,  8.11944425e-01,  7.56089985e-01,  2.80368030e-01,\n",
       "        4.64546472e-01, -1.12174600e-01,  1.88956007e-01,  1.64460897e-01,\n",
       "       -5.35684168e-01, -8.72984827e-01, -1.43576038e+00, -1.30050719e+00,\n",
       "       -1.34556067e+00, -1.71731615e+00, -4.34106052e-01,  5.24385720e-02,\n",
       "        2.29383558e-01,  1.14129201e-01,  4.40092921e-01, -5.24083138e-01,\n",
       "       -1.51971012e-01, -4.08641428e-01, -1.08508992e+00, -5.92237115e-01,\n",
       "       -1.55527341e+00, -2.58426762e+00, -2.33428860e+00, -1.12210417e+00,\n",
       "        1.98651433e-01,  7.16154516e-01,  5.60328923e-02, -1.76037401e-01,\n",
       "        6.12083375e-01, -5.28247990e-02, -6.08186245e-01, -1.45082371e-02,\n",
       "       -7.78732419e-01, -2.37084390e-03, -1.20693415e-01, -2.66529173e-01,\n",
       "       -5.44809103e-01, -2.24426597e-01, -1.58673823e-01, -2.41934732e-01,\n",
       "       -1.19905733e-01, -5.60094476e-01,  3.54790837e-02, -1.84441924e-01,\n",
       "       -4.87005681e-01, -4.55347478e-01, -7.95493543e-01, -3.23645711e-01,\n",
       "       -1.31466520e+00, -1.46786773e+00, -9.04048324e-01, -5.39248765e-01,\n",
       "       -1.63471341e-01,  3.90073329e-01,  3.50590758e-02,  3.66311014e-01,\n",
       "        2.28108004e-01,  1.00854598e-01, -1.31143129e+00, -1.95881593e+00,\n",
       "       -7.61542559e-01,  1.15216672e+00,  8.34239960e-01,  8.53607416e-01,\n",
       "       -3.53115499e-01, -6.10441983e-01, -2.01634541e-01, -4.46882665e-01,\n",
       "       -5.67380846e-01, -1.05970037e+00, -3.02094251e-01, -9.45639491e-01,\n",
       "       -1.24032533e+00, -1.16880274e+00, -1.18705690e+00, -3.16587657e-01,\n",
       "       -1.11493623e+00, -1.28240573e+00, -1.24580908e+00, -2.32220197e+00,\n",
       "       -1.17510688e+00, -2.58331239e-01,  1.96253523e-01, -1.31461352e-01,\n",
       "        3.38181555e-01, -2.09048748e-01, -5.02190530e-01, -1.05281663e+00,\n",
       "        1.39269114e+00,  1.93410850e+00,  7.66432285e-01,  3.19107383e-01,\n",
       "       -5.21167703e-02, -3.43603015e-01, -8.14329386e-01, -9.00136948e-01,\n",
       "       -9.71024513e-01, -1.26766860e+00, -1.01502943e+00, -1.33367336e+00,\n",
       "       -1.20303464e+00, -6.07934952e-01, -8.34176600e-01,  8.08013827e-02,\n",
       "       -9.95262623e-01, -9.04273927e-01, -1.79494727e+00, -1.28245115e+00,\n",
       "       -1.36050808e+00, -5.40583849e-01,  1.03101648e-01, -4.47289534e-02,\n",
       "       -6.35921806e-02,  5.94577305e-02, -1.38230467e+00,  7.42377877e-01,\n",
       "        8.24324906e-01,  1.94840223e-01, -5.95038831e-01,  1.69527486e-01,\n",
       "        1.18139172e+00,  1.09085262e+00, -1.04901326e+00,  1.00754544e-01,\n",
       "        6.65385664e-01, -5.48242591e-02, -6.58898056e-01, -2.99254358e-01,\n",
       "        6.62053600e-02, -2.62699604e-01,  8.26766610e-01, -8.18456590e-01,\n",
       "       -1.15502381e+00, -1.69458878e+00, -5.22188962e-01, -3.35424870e-01,\n",
       "        4.66545701e-01,  5.69353342e-01, -9.87664983e-02, -2.55802907e-02,\n",
       "       -4.54757325e-02, -2.44263411e-02, -1.56132683e-01,  5.43536425e-01,\n",
       "        8.02798122e-02, -5.31224191e-01,  4.83111292e-01,  1.30039775e+00,\n",
       "        1.49905539e+00,  2.00754434e-01, -4.00182635e-01, -5.73345602e-01,\n",
       "        3.14777613e-01,  7.32787609e-01,  1.00134408e+00,  1.00499690e+00,\n",
       "        1.58676779e+00,  2.00134397e+00,  1.73523629e+00,  2.42092466e+00,\n",
       "        3.08030218e-01, -1.11280477e+00, -5.70353389e-01, -5.91705859e-01,\n",
       "       -8.32669735e-01,  1.51527488e+00, -2.84178466e-01,  2.60848165e-01,\n",
       "       -1.52930198e-03, -7.73106515e-02, -2.89548844e-01,  5.84479198e-02,\n",
       "        1.05049109e+00,  3.62715065e-01,  1.00556266e+00,  8.57196331e-01,\n",
       "        1.17996454e+00,  3.19082141e+00,  1.82919300e+00,  3.48475397e-01,\n",
       "        7.33701289e-01,  2.13025880e+00,  1.29928422e+00, -2.73285154e-02,\n",
       "        4.70258713e-01,  1.87350070e+00,  2.73861003e+00,  6.92549825e-01,\n",
       "        4.73520279e-01,  6.80291951e-02, -2.81552136e-01,  7.32565448e-02,\n",
       "        1.51142303e-03,  1.37439772e-01,  3.27188373e-01, -1.19356364e-01],\n",
       "      dtype=float32)"
      ]
     },
     "execution_count": 19,
     "metadata": {},
     "output_type": "execute_result"
    }
   ],
   "source": [
    "dphi_dx_test[0]"
   ]
  },
  {
   "cell_type": "code",
   "execution_count": 20,
   "metadata": {},
   "outputs": [],
   "source": [
    "dphi_dx_test_non_robust = dphi_dx_test"
   ]
  },
  {
   "cell_type": "code",
   "execution_count": 21,
   "metadata": {},
   "outputs": [
    {
     "data": {
      "text/plain": [
       "0.7541164"
      ]
     },
     "execution_count": 21,
     "metadata": {},
     "output_type": "execute_result"
    }
   ],
   "source": [
    "np.mean(np.abs(dphi_dx_test_non_robust))"
   ]
  },
  {
   "cell_type": "code",
   "execution_count": 22,
   "metadata": {},
   "outputs": [],
   "source": [
    "adv_images_fgsm = model_non_robust.fgsm_np(sess_non_robust, x_test_flat, y_test, 0.10)"
   ]
  },
  {
   "cell_type": "code",
   "execution_count": 23,
   "metadata": {},
   "outputs": [
    {
     "name": "stderr",
     "output_type": "stream",
     "text": [
      "Model was evaluated on benign data\n",
      "I0829 16:30:31.175179 4529395136 feedforward_robust.py:304] Model was evaluated on benign data\n"
     ]
    },
    {
     "data": {
      "text/plain": [
       "(7.2898045, 0.0383)"
      ]
     },
     "execution_count": 23,
     "metadata": {},
     "output_type": "execute_result"
    }
   ],
   "source": [
    "model_non_robust.evaluate(sess_non_robust, adv_images_fgsm, y_test)"
   ]
  },
  {
   "cell_type": "code",
   "execution_count": 24,
   "metadata": {},
   "outputs": [
    {
     "data": {
      "text/plain": [
       "<matplotlib.image.AxesImage at 0x151e55860>"
      ]
     },
     "execution_count": 24,
     "metadata": {},
     "output_type": "execute_result"
    },
    {
     "data": {
      "image/png": "[encoded data removed]",
      "text/plain": [
       "<Figure size 432x288 with 1 Axes>"
      ]
     },
     "metadata": {
      "needs_background": "light"
     },
     "output_type": "display_data"
    }
   ],
   "source": [
    "test_image = adv_images_fgsm[0]\n",
    "two_d = test_image.reshape((28,28))\n",
    "plt.imshow(two_d, cmap = plt.cm.binary)"
   ]
  },
  {
   "cell_type": "code",
   "execution_count": 25,
   "metadata": {},
   "outputs": [],
   "source": [
    "diff_fgsm = x_test_flat[0] - adv_images_fgsm[0]"
   ]
  },
  {
   "cell_type": "code",
   "execution_count": 26,
   "metadata": {},
   "outputs": [
    {
     "data": {
      "text/plain": [
       "array([-0.1       , -0.1       ,  0.1       ,  0.1       ,  0.1       ,\n",
       "       -0.1       , -0.1       , -0.1       ,  0.1       , -0.1       ,\n",
       "        0.1       , -0.1       , -0.1       , -0.1       , -0.1       ,\n",
       "       -0.1       ,  0.1       , -0.1       , -0.1       , -0.1       ,\n",
       "       -0.1       , -0.1       , -0.1       , -0.1       ,  0.1       ,\n",
       "        0.1       ,  0.1       , -0.1       ,  0.1       , -0.1       ,\n",
       "        0.1       ,  0.1       , -0.1       ,  0.1       , -0.1       ,\n",
       "       -0.1       , -0.1       , -0.1       , -0.1       ,  0.1       ,\n",
       "        0.1       ,  0.1       , -0.1       , -0.1       , -0.1       ,\n",
       "       -0.1       ,  0.1       , -0.1       ,  0.1       ,  0.1       ,\n",
       "       -0.1       ,  0.1       ,  0.1       ,  0.1       , -0.1       ,\n",
       "        0.1       , -0.1       ,  0.1       , -0.1       , -0.1       ,\n",
       "        0.1       , -0.1       , -0.1       , -0.1       , -0.1       ,\n",
       "       -0.1       , -0.1       , -0.1       , -0.1       , -0.1       ,\n",
       "       -0.1       , -0.1       , -0.1       , -0.1       , -0.1       ,\n",
       "       -0.1       , -0.1       , -0.1       ,  0.1       ,  0.1       ,\n",
       "       -0.1       ,  0.1       , -0.1       , -0.1       , -0.1       ,\n",
       "        0.1       ,  0.1       , -0.1       ,  0.1       ,  0.1       ,\n",
       "        0.1       , -0.1       , -0.1       , -0.1       , -0.1       ,\n",
       "       -0.1       , -0.1       , -0.1       , -0.1       , -0.1       ,\n",
       "       -0.1       , -0.1       , -0.1       , -0.1       , -0.1       ,\n",
       "       -0.1       , -0.1       , -0.1       , -0.1       , -0.1       ,\n",
       "        0.1       ,  0.1       , -0.1       ,  0.1       , -0.1       ,\n",
       "       -0.1       , -0.1       , -0.1       ,  0.1       ,  0.1       ,\n",
       "        0.1       , -0.1       , -0.1       , -0.1       , -0.1       ,\n",
       "       -0.1       , -0.1       , -0.1       , -0.1       , -0.1       ,\n",
       "       -0.1       ,  0.1       , -0.1       , -0.1       ,  0.1       ,\n",
       "        0.1       , -0.1       , -0.1       , -0.1       , -0.1       ,\n",
       "       -0.1       , -0.1       , -0.1       ,  0.1       ,  0.1       ,\n",
       "        0.1       ,  0.1       ,  0.1       ,  0.1       ,  0.1       ,\n",
       "       -0.1       , -0.1       , -0.1       , -0.1       , -0.1       ,\n",
       "       -0.1       , -0.1       , -0.1       , -0.1       , -0.1       ,\n",
       "       -0.1       , -0.1       , -0.1       , -0.1       , -0.1       ,\n",
       "       -0.1       , -0.1       ,  0.1       , -0.1       , -0.1       ,\n",
       "        0.1       ,  0.1       ,  0.1       ,  0.1       ,  0.1       ,\n",
       "        0.1       ,  0.1       ,  0.1       , -0.1       , -0.1       ,\n",
       "       -0.1       , -0.1       , -0.1       , -0.1       , -0.1       ,\n",
       "       -0.1       , -0.1       , -0.1       , -0.1       , -0.1       ,\n",
       "       -0.1       , -0.1       , -0.1       , -0.1       , -0.1       ,\n",
       "       -0.1       ,  0.1       ,  0.1       ,  0.1       ,  0.1       ,\n",
       "        0.1       ,  0.1       ,  0.09999998,  0.10000001,  0.1       ,\n",
       "        0.09999997,  0.10000001,  0.1       ,  0.1       ,  0.1       ,\n",
       "       -0.1       , -0.1       ,  0.1       ,  0.1       , -0.1       ,\n",
       "        0.1       , -0.1       , -0.1       , -0.1       , -0.1       ,\n",
       "       -0.1       , -0.1       , -0.1       ,  0.1       ,  0.1       ,\n",
       "        0.1       ,  0.1       ,  0.1       ,  0.1       ,  0.1       ,\n",
       "        0.10000002,  0.10000002,  0.10000002,  0.10000002,  0.10000002,\n",
       "        0.10000002,  0.10000001,  0.10000001,  0.10000001,  0.10000001,\n",
       "        0.10000001,  0.10000001,  0.10000001,  0.10000001,  0.1       ,\n",
       "       -0.10000001, -0.1       , -0.1       , -0.1       , -0.1       ,\n",
       "       -0.1       , -0.1       ,  0.1       ,  0.1       , -0.1       ,\n",
       "       -0.1       ,  0.1       ,  0.1       ,  0.09999998,  0.09999999,\n",
       "       -0.10000001,  0.09999999,  0.1       ,  0.10000002,  0.10000002,\n",
       "        0.10000002,  0.10000002,  0.10000002,  0.10000002,  0.10000002,\n",
       "        0.10000002,  0.10000002,  0.10000002, -0.10000005,  0.1       ,\n",
       "       -0.1       , -0.1       , -0.1       , -0.1       ,  0.1       ,\n",
       "        0.1       ,  0.1       ,  0.1       , -0.1       ,  0.1       ,\n",
       "        0.1       ,  0.1       , -0.1       , -0.1       ,  0.1       ,\n",
       "        0.1       ,  0.1       ,  0.09999998,  0.1       ,  0.09999998,\n",
       "        0.09999998,  0.09999998,  0.10000001,  0.1       ,  0.10000002,\n",
       "        0.10000002,  0.09999999,  0.1       , -0.1       , -0.1       ,\n",
       "       -0.1       , -0.1       , -0.1       ,  0.1       ,  0.1       ,\n",
       "        0.1       ,  0.1       ,  0.1       ,  0.1       ,  0.1       ,\n",
       "       -0.1       , -0.1       ,  0.1       ,  0.1       ,  0.1       ,\n",
       "       -0.1       , -0.1       , -0.1       , -0.1       ,  0.1       ,\n",
       "        0.1       ,  0.09999998,  0.10000002,  0.10000001,  0.1       ,\n",
       "       -0.1       , -0.1       , -0.1       , -0.1       , -0.1       ,\n",
       "       -0.1       ,  0.1       ,  0.1       ,  0.1       ,  0.1       ,\n",
       "       -0.1       ,  0.1       , -0.1       ,  0.1       ,  0.1       ,\n",
       "        0.1       ,  0.1       , -0.1       , -0.1       , -0.1       ,\n",
       "       -0.1       , -0.1       , -0.1       ,  0.1       ,  0.10000002,\n",
       "       -0.10000002, -0.1       , -0.1       , -0.1       , -0.1       ,\n",
       "       -0.1       , -0.1       ,  0.1       , -0.1       , -0.1       ,\n",
       "        0.1       ,  0.1       ,  0.1       , -0.1       ,  0.1       ,\n",
       "        0.1       ,  0.1       ,  0.1       ,  0.1       ,  0.1       ,\n",
       "       -0.1       , -0.1       , -0.1       , -0.1       , -0.1       ,\n",
       "        0.1       ,  0.09999996,  0.10000002, -0.09999997, -0.10000001,\n",
       "       -0.1       , -0.1       , -0.1       ,  0.1       ,  0.1       ,\n",
       "       -0.1       , -0.1       ,  0.1       ,  0.1       ,  0.1       ,\n",
       "        0.1       , -0.1       ,  0.1       , -0.1       ,  0.1       ,\n",
       "        0.1       ,  0.1       ,  0.1       , -0.1       , -0.1       ,\n",
       "       -0.1       , -0.1       , -0.1       ,  0.10000001,  0.10000002,\n",
       "        0.10000002,  0.10000001, -0.1       , -0.1       ,  0.1       ,\n",
       "        0.1       ,  0.1       ,  0.1       , -0.1       , -0.1       ,\n",
       "        0.1       , -0.1       ,  0.1       ,  0.1       ,  0.1       ,\n",
       "        0.1       ,  0.1       ,  0.1       ,  0.1       , -0.1       ,\n",
       "       -0.1       , -0.1       , -0.1       , -0.1       , -0.1       ,\n",
       "        0.1       ,  0.09999997,  0.10000002,  0.10000001,  0.1       ,\n",
       "        0.1       ,  0.1       ,  0.1       ,  0.1       ,  0.1       ,\n",
       "        0.1       ,  0.1       , -0.1       ,  0.1       , -0.1       ,\n",
       "        0.1       ,  0.1       ,  0.1       ,  0.1       , -0.1       ,\n",
       "        0.1       , -0.1       , -0.1       , -0.1       , -0.1       ,\n",
       "       -0.1       , -0.1       , -0.1       ,  0.1       ,  0.10000001,\n",
       "        0.10000002,  0.10000001,  0.1       ,  0.1       ,  0.1       ,\n",
       "        0.1       ,  0.1       ,  0.1       , -0.1       , -0.1       ,\n",
       "       -0.1       , -0.1       ,  0.1       , -0.1       ,  0.1       ,\n",
       "       -0.1       , -0.1       , -0.1       , -0.1       , -0.1       ,\n",
       "       -0.1       , -0.1       , -0.1       , -0.1       , -0.1       ,\n",
       "        0.1       ,  0.09999999,  0.10000002,  0.10000001,  0.1       ,\n",
       "        0.1       ,  0.1       , -0.1       ,  0.1       ,  0.1       ,\n",
       "        0.1       , -0.1       , -0.1       , -0.1       ,  0.1       ,\n",
       "        0.1       ,  0.1       ,  0.1       , -0.1       , -0.1       ,\n",
       "       -0.1       , -0.1       , -0.1       , -0.1       , -0.1       ,\n",
       "       -0.1       , -0.1       , -0.1       ,  0.09999998,  0.10000002,\n",
       "       -0.09999997,  0.1       ,  0.1       , -0.1       , -0.1       ,\n",
       "       -0.1       , -0.1       , -0.1       , -0.1       ,  0.1       ,\n",
       "       -0.1       ,  0.1       ,  0.1       ,  0.1       ,  0.1       ,\n",
       "        0.1       , -0.1       , -0.1       , -0.1       , -0.1       ,\n",
       "       -0.1       , -0.1       , -0.1       , -0.1       ,  0.1       ,\n",
       "        0.1       ,  0.10000002, -0.09999996, -0.10000004, -0.1       ,\n",
       "       -0.1       , -0.1       , -0.1       , -0.1       , -0.1       ,\n",
       "       -0.1       ,  0.1       ,  0.1       ,  0.1       ,  0.1       ,\n",
       "       -0.1       ,  0.1       ,  0.1       ,  0.1       , -0.1       ,\n",
       "       -0.1       , -0.1       , -0.1       , -0.1       , -0.1       ,\n",
       "       -0.1       ,  0.1       ,  0.1       ,  0.10000001,  0.10000002,\n",
       "       -0.10000003, -0.10000002, -0.1       , -0.1       , -0.1       ,\n",
       "       -0.1       , -0.1       , -0.1       , -0.1       , -0.1       ,\n",
       "        0.1       ,  0.1       ,  0.1       ,  0.1       , -0.1       ,\n",
       "        0.1       ,  0.1       , -0.1       , -0.1       , -0.1       ,\n",
       "       -0.1       , -0.1       , -0.1       , -0.1       ,  0.1       ,\n",
       "        0.1       ,  0.10000002,  0.10000002, -0.10000001, -0.1       ,\n",
       "       -0.1       , -0.1       , -0.1       , -0.1       , -0.1       ,\n",
       "       -0.1       , -0.1       ,  0.1       ,  0.1       , -0.1       ,\n",
       "       -0.1       ,  0.1       , -0.1       , -0.1       , -0.1       ,\n",
       "       -0.1       , -0.1       , -0.1       , -0.1       , -0.1       ,\n",
       "       -0.1       , -0.1       , -0.1       , -0.10000003, -0.09999996,\n",
       "        0.09999999, -0.1       , -0.1       , -0.1       , -0.1       ,\n",
       "       -0.1       , -0.1       , -0.1       , -0.1       , -0.1       ,\n",
       "       -0.1       ,  0.1       ,  0.1       ,  0.1       ,  0.1       ,\n",
       "        0.1       , -0.1       , -0.1       , -0.1       ,  0.1       ,\n",
       "        0.1       ,  0.1       , -0.1       , -0.1       , -0.1       ,\n",
       "       -0.10000005, -0.09999996, -0.09999996, -0.10000001, -0.1       ,\n",
       "       -0.1       , -0.1       , -0.1       , -0.1       , -0.1       ,\n",
       "       -0.1       , -0.1       , -0.1       , -0.1       , -0.1       ,\n",
       "        0.1       , -0.1       ,  0.1       , -0.1       , -0.1       ,\n",
       "       -0.1       ,  0.1       ,  0.1       ,  0.1       ,  0.1       ,\n",
       "       -0.1       , -0.1       , -0.10000001, -0.09999997, -0.09999996,\n",
       "       -0.09999996, -0.10000001, -0.1       , -0.1       , -0.1       ,\n",
       "       -0.1       ,  0.1       , -0.1       , -0.1       , -0.1       ,\n",
       "       -0.1       , -0.1       , -0.1       ,  0.1       , -0.1       ,\n",
       "       -0.1       ,  0.1       , -0.1       ,  0.1       ,  0.1       ,\n",
       "        0.1       , -0.1       ,  0.1       ,  0.1       ,  0.1       ,\n",
       "       -0.1       ,  0.10000002,  0.10000002, -0.10000003, -0.10000001,\n",
       "       -0.1       ,  0.1       , -0.1       ,  0.1       , -0.1       ,\n",
       "       -0.1       , -0.1       , -0.1       , -0.1       ,  0.1       ,\n",
       "        0.1       , -0.1       , -0.1       , -0.1       , -0.1       ,\n",
       "       -0.1       ,  0.1       ,  0.1       , -0.1       ,  0.1       ,\n",
       "        0.1       ,  0.1       ,  0.1       , -0.1       , -0.09999996,\n",
       "        0.10000001,  0.1       ,  0.1       ,  0.1       ,  0.1       ,\n",
       "        0.1       ,  0.1       ,  0.1       ,  0.1       , -0.1       ,\n",
       "       -0.1       , -0.1       , -0.1       ,  0.1       , -0.1       ,\n",
       "        0.1       , -0.1       , -0.1       , -0.1       ,  0.1       ,\n",
       "        0.1       ,  0.1       ,  0.1       ,  0.1       ,  0.1       ,\n",
       "        0.1       ,  0.1       ,  0.1       ,  0.1       ,  0.1       ,\n",
       "        0.1       , -0.1       ,  0.1       ,  0.1       ,  0.1       ,\n",
       "        0.1       ,  0.1       ,  0.1       , -0.1       ,  0.1       ,\n",
       "       -0.1       ,  0.1       ,  0.1       , -0.1       ])"
      ]
     },
     "execution_count": 26,
     "metadata": {},
     "output_type": "execute_result"
    }
   ],
   "source": [
    "diff_fgsm"
   ]
  },
  {
   "cell_type": "code",
   "execution_count": 34,
   "metadata": {},
   "outputs": [
    {
     "name": "stderr",
     "output_type": "stream",
     "text": [
      "Max difference before projecting\n",
      "I0829 16:35:07.087713 4529395136 feedforward_robust.py:172] Max difference before projecting\n",
      "1.0650902\n",
      "I0829 16:35:07.144890 4529395136 feedforward_robust.py:174] 1.0650902\n"
     ]
    },
    {
     "name": "stdout",
     "output_type": "stream",
     "text": [
      "iteration: 0\n"
     ]
    },
    {
     "name": "stderr",
     "output_type": "stream",
     "text": [
      "Max difference after projecting\n",
      "I0829 16:35:07.243772 4529395136 feedforward_robust.py:180] Max difference after projecting\n",
      "0.1\n",
      "I0829 16:35:07.259273 4529395136 feedforward_robust.py:181] 0.1\n"
     ]
    },
    {
     "name": "stdout",
     "output_type": "stream",
     "text": [
      "loss 17.695671\n",
      "iteration: 1\n",
      "loss 17.802794\n",
      "iteration: 2\n",
      "loss 17.845243\n",
      "iteration: 3\n",
      "loss 17.877304\n",
      "iteration: 4\n",
      "loss 17.900145\n",
      "iteration: 5\n",
      "loss 17.920713\n",
      "iteration: 6\n",
      "loss 17.935984\n",
      "iteration: 7\n",
      "loss 17.948181\n",
      "iteration: 8\n",
      "loss 17.961987\n",
      "iteration: 9\n",
      "loss 17.970802\n",
      "iteration: 10\n",
      "loss 17.980690\n",
      "iteration: 11\n",
      "loss 17.988468\n",
      "iteration: 12\n",
      "loss 17.996168\n",
      "iteration: 13\n",
      "loss 18.005625\n",
      "iteration: 14\n",
      "loss 18.012705\n",
      "iteration: 15\n",
      "loss 18.017000\n",
      "iteration: 16\n",
      "loss 18.023447\n",
      "iteration: 17\n",
      "loss 18.026829\n",
      "iteration: 18\n"
     ]
    },
    {
     "name": "stderr",
     "output_type": "stream",
     "text": [
      "This is to confirm that attack does not violate constraints\n",
      "I0829 16:35:09.356144 4529395136 feedforward_robust.py:197] This is to confirm that attack does not violate constraints\n",
      "Should be no more than eps\n",
      "I0829 16:35:09.357871 4529395136 feedforward_robust.py:198] Should be no more than eps\n"
     ]
    },
    {
     "name": "stdout",
     "output_type": "stream",
     "text": [
      "loss 18.031189\n",
      "iteration: 19\n",
      "loss 18.036741\n"
     ]
    },
    {
     "name": "stderr",
     "output_type": "stream",
     "text": [
      "0.10000005352730845\n",
      "I0829 16:35:09.442008 4529395136 feedforward_robust.py:199] 0.10000005352730845\n"
     ]
    }
   ],
   "source": [
    "with tf.variable_scope(config['scope_name'], reuse = tf.AUTO_REUSE) as scope:\n",
    "    #loss_pgd, acc_pgd = model_non_robust.adv_evaluate(sess_non_robust, x_test_flat, y_test, 0.10, pgd = True, eta=5, num_iter = 20)\n",
    "    adv_images_pgd = model_non_robust.pgd_adam_np(sess_non_robust, x_test_flat, y_test, eps = 0.1, eta = 0.5, num_iter = 20)"
   ]
  },
  {
   "cell_type": "code",
   "execution_count": 29,
   "metadata": {},
   "outputs": [
    {
     "data": {
      "text/plain": [
       "0.9299"
      ]
     },
     "execution_count": 29,
     "metadata": {},
     "output_type": "execute_result"
    }
   ],
   "source": [
    "acc_pgd"
   ]
  },
  {
   "cell_type": "code",
   "execution_count": 35,
   "metadata": {},
   "outputs": [
    {
     "data": {
      "text/plain": [
       "<matplotlib.image.AxesImage at 0x15089b470>"
      ]
     },
     "execution_count": 35,
     "metadata": {},
     "output_type": "execute_result"
    },
    {
     "data": {
      "image/png": "[encoded data removed]",
      "text/plain": [
       "<Figure size 432x288 with 1 Axes>"
      ]
     },
     "metadata": {
      "needs_background": "light"
     },
     "output_type": "display_data"
    }
   ],
   "source": [
    "test_image = adv_images_pgd[0]\n",
    "two_d = test_image.reshape((28,28))\n",
    "plt.imshow(two_d, cmap = plt.cm.binary)"
   ]
  },
  {
   "cell_type": "code",
   "execution_count": null,
   "metadata": {},
   "outputs": [],
   "source": [
    "difference = test_image - x_test_flat[0]"
   ]
  },
  {
   "cell_type": "code",
   "execution_count": null,
   "metadata": {},
   "outputs": [],
   "source": [
    "max(np.abs(difference))"
   ]
  }
 ],
 "metadata": {
  "kernelspec": {
   "display_name": "Python 3",
   "language": "python",
   "name": "python3"
  },
  "language_info": {
   "codemirror_mode": {
    "name": "ipython",
    "version": 3
   },
   "file_extension": ".py",
   "mimetype": "text/x-python",
   "name": "python",
   "nbconvert_exporter": "python",
   "pygments_lexer": "ipython3",
   "version": "3.7.3"
  }
 },
 "nbformat": 4,
 "nbformat_minor": 2
}

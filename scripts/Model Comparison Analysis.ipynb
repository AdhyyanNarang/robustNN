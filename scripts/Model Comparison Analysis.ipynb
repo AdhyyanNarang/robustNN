{
 "cells": [
  {
   "cell_type": "code",
   "execution_count": 1,
   "metadata": {},
   "outputs": [
    {
     "name": "stderr",
     "output_type": "stream",
     "text": [
      "WARNING: Logging before flag parsing goes to stderr.\n",
      "W0926 22:33:07.157025 4406191552 deprecation_wrapper.py:119] From /usr/local/lib/python3.7/site-packages/cleverhans/utils_tf.py:341: The name tf.GraphKeys is deprecated. Please use tf.compat.v1.GraphKeys instead.\n",
      "\n"
     ]
    }
   ],
   "source": [
    "#Imports\n",
    "import logging\n",
    "import os, random, time, sys\n",
    "import numpy as np\n",
    "import tensorflow as tf\n",
    "import tensorflow.contrib.layers as layers\n",
    "sys.path.append('../')\n",
    "sys.path.append('../utils/')\n",
    "import feedforward_robust as ffr\n",
    "import ipdb\n",
    "from utils.mnist_corruption import *\n",
    "from utils.utils_models import *\n",
    "from utils.utils_analysis import *\n",
    "from utils.utils_feedforward import *\n",
    "\n",
    "#Read the counter\n",
    "ctr_file = \"counter.txt\"\n",
    "f = open(ctr_file, 'r')\n",
    "counter = f.readline()\n",
    "f.close()\n",
    "\n",
    "counter = 1 + int(counter)\n",
    "f = open(ctr_file,'w')\n",
    "f.write('{}'.format(counter))\n",
    "f.close()\n",
    "logfile = \"logs/results_\" + str(counter) + \".log\"\n",
    "\n",
    "logger = logging.getLogger(\"robustness\")\n",
    "logger.setLevel(logging.DEBUG)\n",
    "fh = logging.FileHandler(logfile)\n",
    "fh.setLevel(logging.INFO)\n",
    "formatter = logging.Formatter('%(asctime)s - %(name)s - %(levelname)s - %(message)s')\n",
    "fh.setFormatter(formatter)\n",
    "logger.addHandler(fh)\n",
    "logger.addHandler(logging.StreamHandler())"
   ]
  },
  {
   "cell_type": "code",
   "execution_count": 2,
   "metadata": {},
   "outputs": [],
   "source": [
    "%load_ext autoreload\n",
    "%autoreload 2"
   ]
  },
  {
   "cell_type": "code",
   "execution_count": 3,
   "metadata": {},
   "outputs": [],
   "source": [
    "#Setup - Dataset stuff\n",
    "dataset, input_shape, num_classes = get_dataset()\n",
    "x_train_flat, y_train = dataset[0] \n",
    "x_test_flat, y_test = dataset[1] \n",
    "hidden_sizes = [32,32,32,32,32,32,32]"
   ]
  },
  {
   "cell_type": "code",
   "execution_count": 4,
   "metadata": {},
   "outputs": [
    {
     "data": {
      "text/plain": [
       "(60000, 784)"
      ]
     },
     "execution_count": 4,
     "metadata": {},
     "output_type": "execute_result"
    }
   ],
   "source": [
    "x_train_flat.shape"
   ]
  },
  {
   "cell_type": "code",
   "execution_count": 5,
   "metadata": {},
   "outputs": [],
   "source": [
    "scope_list = [\"hybrid\", \"model_non_robust\", ]"
   ]
  },
  {
   "cell_type": "code",
   "execution_count": 6,
   "metadata": {},
   "outputs": [],
   "source": [
    "x_test_2d = [vec.reshape((28,28)) for vec in x_test_flat]"
   ]
  },
  {
   "cell_type": "code",
   "execution_count": 7,
   "metadata": {},
   "outputs": [
    {
     "name": "stderr",
     "output_type": "stream",
     "text": [
      "/usr/local/lib/python3.7/site-packages/matplotlib/figure.py:445: UserWarning: Matplotlib is currently using module://ipykernel.pylab.backend_inline, which is a non-GUI backend, so cannot show the figure.\n",
      "  % get_backend())\n"
     ]
    },
    {
     "data": {
      "image/png": "[encoded data removed]",
      "text/plain": [
       "<Figure size 432x288 with 2 Axes>"
      ]
     },
     "metadata": {
      "needs_background": "light"
     },
     "output_type": "display_data"
    }
   ],
   "source": [
    "fig = plt.figure()\n",
    "ax1 = fig.add_subplot(2, 1, 1)\n",
    "ax2 = fig.add_subplot(2, 1, 2)\n",
    "\n",
    "\n",
    "ax1.plot(range(10), range(10))\n",
    "ax2.plot(range(10), range(10))\n",
    "\n",
    "fig.show()"
   ]
  },
  {
   "cell_type": "markdown",
   "metadata": {},
   "source": [
    "### Trying out different corruptions "
   ]
  },
  {
   "cell_type": "code",
   "execution_count": 8,
   "metadata": {},
   "outputs": [],
   "source": [
    "#Random trying out stuff\n",
    "x_test_gaussian_blurred = gaussian_blurring(x_test_2d, 0.5)"
   ]
  },
  {
   "cell_type": "code",
   "execution_count": 9,
   "metadata": {},
   "outputs": [],
   "source": [
    "x_test_rotated = rotate(x_test_2d, angle = 45)"
   ]
  },
  {
   "cell_type": "code",
   "execution_count": 10,
   "metadata": {},
   "outputs": [
    {
     "data": {
      "text/plain": [
       "<matplotlib.image.AxesImage at 0x15659a278>"
      ]
     },
     "execution_count": 10,
     "metadata": {},
     "output_type": "execute_result"
    },
    {
     "data": {
      "image/png": "[encoded data removed]",
      "text/plain": [
       "<Figure size 432x288 with 1 Axes>"
      ]
     },
     "metadata": {
      "needs_background": "light"
     },
     "output_type": "display_data"
    }
   ],
   "source": [
    "plt.imshow(x_test_gaussian_blurred[0], cmap = plt.cm.binary)"
   ]
  },
  {
   "cell_type": "markdown",
   "metadata": {},
   "source": [
    "## Regular Training Run Test"
   ]
  },
  {
   "cell_type": "code",
   "execution_count": 11,
   "metadata": {},
   "outputs": [],
   "source": [
    "config = {}\n",
    "config['eps_train'] = 0.1\n",
    "config['eps_test'] = 0.1\n",
    "config['tensorboard_dir'] = \"tb/\"\n",
    "config['weights_dir'] = \"weights/\"\n",
    "\n",
    "config['load_counter'] = 222\n",
    "config['write_counter'] = counter\n",
    "config['sigma'] = tf.nn.relu\n",
    "config['epochs'] = 10\n",
    "config['reg'] = 0.0\n",
    "config['lr'] = 3e-4\n",
    "\n",
    "config['scope_name'] = \"model_non_robust\"\n",
    "config['should_load'] = False\n",
    "config['logger'] = logger"
   ]
  },
  {
   "cell_type": "code",
   "execution_count": 68,
   "metadata": {},
   "outputs": [],
   "source": [
    "tf.reset_default_graph()"
   ]
  },
  {
   "cell_type": "code",
   "execution_count": 69,
   "metadata": {},
   "outputs": [
    {
     "name": "stderr",
     "output_type": "stream",
     "text": [
      "Initialized instance variables of the robust model class\n",
      "I0927 00:37:10.213084 4406191552 feedforward_robust.py:32] Initialized instance variables of the robust model class\n",
      "Created placeholders for x and y\n",
      "I0927 00:37:10.221186 4406191552 feedforward_robust.py:38] Created placeholders for x and y\n",
      "Created layers and tensor for logits\n",
      "I0927 00:37:10.397358 4406191552 feedforward_robust.py:42] Created layers and tensor for logits\n",
      "Added loss computation to the graph\n",
      "I0927 00:37:10.425125 4406191552 feedforward_robust.py:47] Added loss computation to the graph\n",
      "Added accuracy computation to the graph\n",
      "I0927 00:37:10.432898 4406191552 feedforward_robust.py:51] Added accuracy computation to the graph\n",
      "Model graph was created\n",
      "I0927 00:37:10.436273 4406191552 feedforward_robust.py:54] Model graph was created\n",
      "Created model successfully. Now going to load weights\n",
      "I0927 00:37:10.443347 4406191552 utils_models.py:48] Created model successfully. Now going to load weights\n",
      "Epoch: 0001    cost: 1.157836200 \n",
      "I0927 00:37:15.388103 4406191552 feedforward_robust.py:417] Epoch: 0001    cost: 1.157836200 \n",
      "Accuracy on batch: 1.000000\n",
      "I0927 00:37:15.391294 4406191552 feedforward_robust.py:418] Accuracy on batch: 1.000000\n",
      "Epoch: 0002    cost: 0.856963629 \n",
      "I0927 00:37:18.266909 4406191552 feedforward_robust.py:417] Epoch: 0002    cost: 0.856963629 \n",
      "Accuracy on batch: 0.968750\n",
      "I0927 00:37:18.269743 4406191552 feedforward_robust.py:418] Accuracy on batch: 0.968750\n",
      "Epoch: 0003    cost: 0.780252184 \n",
      "I0927 00:37:20.675577 4406191552 feedforward_robust.py:417] Epoch: 0003    cost: 0.780252184 \n",
      "Accuracy on batch: 0.968750\n",
      "I0927 00:37:20.676762 4406191552 feedforward_robust.py:418] Accuracy on batch: 0.968750\n",
      "Epoch: 0004    cost: 0.731408141 \n",
      "I0927 00:37:23.020517 4406191552 feedforward_robust.py:417] Epoch: 0004    cost: 0.731408141 \n",
      "Accuracy on batch: 0.968750\n",
      "I0927 00:37:23.021573 4406191552 feedforward_robust.py:418] Accuracy on batch: 0.968750\n",
      "Epoch: 0005    cost: 0.700448618 \n",
      "I0927 00:37:25.147207 4406191552 feedforward_robust.py:417] Epoch: 0005    cost: 0.700448618 \n",
      "Accuracy on batch: 1.000000\n",
      "I0927 00:37:25.148342 4406191552 feedforward_robust.py:418] Accuracy on batch: 1.000000\n",
      "Epoch: 0006    cost: 0.680248830 \n",
      "I0927 00:37:27.232132 4406191552 feedforward_robust.py:417] Epoch: 0006    cost: 0.680248830 \n",
      "Accuracy on batch: 0.937500\n",
      "I0927 00:37:27.233347 4406191552 feedforward_robust.py:418] Accuracy on batch: 0.937500\n",
      "Epoch: 0007    cost: 0.666170643 \n",
      "I0927 00:37:29.280189 4406191552 feedforward_robust.py:417] Epoch: 0007    cost: 0.666170643 \n",
      "Accuracy on batch: 0.968750\n",
      "I0927 00:37:29.281755 4406191552 feedforward_robust.py:418] Accuracy on batch: 0.968750\n",
      "Epoch: 0008    cost: 0.646288216 \n",
      "I0927 00:37:31.376060 4406191552 feedforward_robust.py:417] Epoch: 0008    cost: 0.646288216 \n",
      "Accuracy on batch: 0.968750\n",
      "I0927 00:37:31.377253 4406191552 feedforward_robust.py:418] Accuracy on batch: 0.968750\n",
      "Epoch: 0009    cost: 0.637174134 \n",
      "I0927 00:37:33.591212 4406191552 feedforward_robust.py:417] Epoch: 0009    cost: 0.637174134 \n",
      "Accuracy on batch: 0.968750\n",
      "I0927 00:37:33.592857 4406191552 feedforward_robust.py:418] Accuracy on batch: 0.968750\n",
      "Epoch: 0010    cost: 0.635151651 \n",
      "I0927 00:37:35.668138 4406191552 feedforward_robust.py:417] Epoch: 0010    cost: 0.635151651 \n",
      "Accuracy on batch: 0.937500\n",
      "I0927 00:37:35.669552 4406191552 feedforward_robust.py:418] Accuracy on batch: 0.937500\n",
      "Epoch: 0011    cost: 0.626834969 \n",
      "I0927 00:37:38.063985 4406191552 feedforward_robust.py:417] Epoch: 0011    cost: 0.626834969 \n",
      "Accuracy on batch: 0.968750\n",
      "I0927 00:37:38.065403 4406191552 feedforward_robust.py:418] Accuracy on batch: 0.968750\n",
      "Epoch: 0012    cost: 0.626554361 \n",
      "I0927 00:37:41.200069 4406191552 feedforward_robust.py:417] Epoch: 0012    cost: 0.626554361 \n",
      "Accuracy on batch: 0.968750\n",
      "I0927 00:37:41.201632 4406191552 feedforward_robust.py:418] Accuracy on batch: 0.968750\n",
      "Epoch: 0013    cost: 0.619516964 \n",
      "I0927 00:37:43.651256 4406191552 feedforward_robust.py:417] Epoch: 0013    cost: 0.619516964 \n",
      "Accuracy on batch: 1.000000\n",
      "I0927 00:37:43.652670 4406191552 feedforward_robust.py:418] Accuracy on batch: 1.000000\n",
      "Epoch: 0014    cost: 0.615480410 \n",
      "I0927 00:37:45.954502 4406191552 feedforward_robust.py:417] Epoch: 0014    cost: 0.615480410 \n",
      "Accuracy on batch: 0.968750\n",
      "I0927 00:37:45.956320 4406191552 feedforward_robust.py:418] Accuracy on batch: 0.968750\n",
      "Epoch: 0015    cost: 0.614889591 \n",
      "I0927 00:37:48.265658 4406191552 feedforward_robust.py:417] Epoch: 0015    cost: 0.614889591 \n",
      "Accuracy on batch: 0.968750\n",
      "I0927 00:37:48.266909 4406191552 feedforward_robust.py:418] Accuracy on batch: 0.968750\n",
      "Epoch: 0016    cost: 0.611852853 \n",
      "I0927 00:37:50.395066 4406191552 feedforward_robust.py:417] Epoch: 0016    cost: 0.611852853 \n",
      "Accuracy on batch: 1.000000\n",
      "I0927 00:37:50.396804 4406191552 feedforward_robust.py:418] Accuracy on batch: 1.000000\n",
      "Epoch: 0017    cost: 0.610766900 \n",
      "I0927 00:37:52.680524 4406191552 feedforward_robust.py:417] Epoch: 0017    cost: 0.610766900 \n",
      "Accuracy on batch: 0.968750\n",
      "I0927 00:37:52.681935 4406191552 feedforward_robust.py:418] Accuracy on batch: 0.968750\n",
      "Epoch: 0018    cost: 0.609415423 \n",
      "I0927 00:37:54.904914 4406191552 feedforward_robust.py:417] Epoch: 0018    cost: 0.609415423 \n",
      "Accuracy on batch: 1.000000\n",
      "I0927 00:37:54.906245 4406191552 feedforward_robust.py:418] Accuracy on batch: 1.000000\n",
      "Epoch: 0019    cost: 0.607187479 \n",
      "I0927 00:37:57.092416 4406191552 feedforward_robust.py:417] Epoch: 0019    cost: 0.607187479 \n",
      "Accuracy on batch: 0.968750\n",
      "I0927 00:37:57.093703 4406191552 feedforward_robust.py:418] Accuracy on batch: 0.968750\n",
      "Epoch: 0020    cost: 0.601883771 \n",
      "I0927 00:37:59.283622 4406191552 feedforward_robust.py:417] Epoch: 0020    cost: 0.601883771 \n",
      "Accuracy on batch: 0.968750\n",
      "I0927 00:37:59.284909 4406191552 feedforward_robust.py:418] Accuracy on batch: 0.968750\n",
      "Epoch: 0021    cost: 0.598662039 \n",
      "I0927 00:38:01.492444 4406191552 feedforward_robust.py:417] Epoch: 0021    cost: 0.598662039 \n",
      "Accuracy on batch: 1.000000\n",
      "I0927 00:38:01.493914 4406191552 feedforward_robust.py:418] Accuracy on batch: 1.000000\n",
      "Epoch: 0022    cost: 0.595640933 \n",
      "I0927 00:38:03.798958 4406191552 feedforward_robust.py:417] Epoch: 0022    cost: 0.595640933 \n",
      "Accuracy on batch: 1.000000\n",
      "I0927 00:38:03.800848 4406191552 feedforward_robust.py:418] Accuracy on batch: 1.000000\n",
      "Epoch: 0023    cost: 0.597138942 \n",
      "I0927 00:38:06.110725 4406191552 feedforward_robust.py:417] Epoch: 0023    cost: 0.597138942 \n",
      "Accuracy on batch: 0.937500\n",
      "I0927 00:38:06.111961 4406191552 feedforward_robust.py:418] Accuracy on batch: 0.937500\n",
      "Epoch: 0024    cost: 0.590210507 \n",
      "I0927 00:38:08.454672 4406191552 feedforward_robust.py:417] Epoch: 0024    cost: 0.590210507 \n",
      "Accuracy on batch: 1.000000\n",
      "I0927 00:38:08.456057 4406191552 feedforward_robust.py:418] Accuracy on batch: 1.000000\n",
      "Epoch: 0025    cost: 0.590300665 \n",
      "I0927 00:38:10.566325 4406191552 feedforward_robust.py:417] Epoch: 0025    cost: 0.590300665 \n",
      "Accuracy on batch: 1.000000\n",
      "I0927 00:38:10.567989 4406191552 feedforward_robust.py:418] Accuracy on batch: 1.000000\n",
      "Epoch: 0026    cost: 0.589231377 \n",
      "I0927 00:38:12.713948 4406191552 feedforward_robust.py:417] Epoch: 0026    cost: 0.589231377 \n",
      "Accuracy on batch: 0.937500\n",
      "I0927 00:38:12.715265 4406191552 feedforward_robust.py:418] Accuracy on batch: 0.937500\n",
      "Epoch: 0027    cost: 0.589664057 \n",
      "I0927 00:38:14.867174 4406191552 feedforward_robust.py:417] Epoch: 0027    cost: 0.589664057 \n",
      "Accuracy on batch: 1.000000\n",
      "I0927 00:38:14.868458 4406191552 feedforward_robust.py:418] Accuracy on batch: 1.000000\n",
      "Epoch: 0028    cost: 0.586756384 \n",
      "I0927 00:38:17.025616 4406191552 feedforward_robust.py:417] Epoch: 0028    cost: 0.586756384 \n",
      "Accuracy on batch: 0.968750\n",
      "I0927 00:38:17.026746 4406191552 feedforward_robust.py:418] Accuracy on batch: 0.968750\n",
      "Epoch: 0029    cost: 0.583052609 \n",
      "I0927 00:38:19.220080 4406191552 feedforward_robust.py:417] Epoch: 0029    cost: 0.583052609 \n",
      "Accuracy on batch: 0.968750\n",
      "I0927 00:38:19.221306 4406191552 feedforward_robust.py:418] Accuracy on batch: 0.968750\n",
      "Epoch: 0030    cost: 0.587939417 \n",
      "I0927 00:38:21.450984 4406191552 feedforward_robust.py:417] Epoch: 0030    cost: 0.587939417 \n",
      "Accuracy on batch: 1.000000\n"
     ]
    },
    {
     "name": "stderr",
     "output_type": "stream",
     "text": [
      "I0927 00:38:21.452136 4406191552 feedforward_robust.py:418] Accuracy on batch: 1.000000\n",
      "Epoch: 0031    cost: 0.581145068 \n",
      "I0927 00:38:23.725812 4406191552 feedforward_robust.py:417] Epoch: 0031    cost: 0.581145068 \n",
      "Accuracy on batch: 0.937500\n",
      "I0927 00:38:23.727741 4406191552 feedforward_robust.py:418] Accuracy on batch: 0.937500\n",
      "Epoch: 0032    cost: 0.577700119 \n",
      "I0927 00:38:26.315976 4406191552 feedforward_robust.py:417] Epoch: 0032    cost: 0.577700119 \n",
      "Accuracy on batch: 1.000000\n",
      "I0927 00:38:26.317246 4406191552 feedforward_robust.py:418] Accuracy on batch: 1.000000\n",
      "Epoch: 0033    cost: 0.574506921 \n",
      "I0927 00:38:28.854799 4406191552 feedforward_robust.py:417] Epoch: 0033    cost: 0.574506921 \n",
      "Accuracy on batch: 1.000000\n",
      "I0927 00:38:28.856104 4406191552 feedforward_robust.py:418] Accuracy on batch: 1.000000\n",
      "Epoch: 0034    cost: 0.577398122 \n",
      "I0927 00:38:31.059686 4406191552 feedforward_robust.py:417] Epoch: 0034    cost: 0.577398122 \n",
      "Accuracy on batch: 0.968750\n",
      "I0927 00:38:31.060926 4406191552 feedforward_robust.py:418] Accuracy on batch: 0.968750\n",
      "Epoch: 0035    cost: 0.571710415 \n",
      "I0927 00:38:33.137794 4406191552 feedforward_robust.py:417] Epoch: 0035    cost: 0.571710415 \n",
      "Accuracy on batch: 1.000000\n",
      "I0927 00:38:33.139670 4406191552 feedforward_robust.py:418] Accuracy on batch: 1.000000\n",
      "Epoch: 0036    cost: 0.574912621 \n",
      "I0927 00:38:35.236824 4406191552 feedforward_robust.py:417] Epoch: 0036    cost: 0.574912621 \n",
      "Accuracy on batch: 0.968750\n",
      "I0927 00:38:35.238029 4406191552 feedforward_robust.py:418] Accuracy on batch: 0.968750\n",
      "Epoch: 0037    cost: 0.573574282 \n",
      "I0927 00:38:37.451983 4406191552 feedforward_robust.py:417] Epoch: 0037    cost: 0.573574282 \n",
      "Accuracy on batch: 0.906250\n",
      "I0927 00:38:37.453509 4406191552 feedforward_robust.py:418] Accuracy on batch: 0.906250\n",
      "Epoch: 0038    cost: 0.571847345 \n",
      "I0927 00:38:39.845222 4406191552 feedforward_robust.py:417] Epoch: 0038    cost: 0.571847345 \n",
      "Accuracy on batch: 0.968750\n",
      "I0927 00:38:39.846969 4406191552 feedforward_robust.py:418] Accuracy on batch: 0.968750\n",
      "Epoch: 0039    cost: 0.572558906 \n",
      "I0927 00:38:42.129433 4406191552 feedforward_robust.py:417] Epoch: 0039    cost: 0.572558906 \n",
      "Accuracy on batch: 0.968750\n",
      "I0927 00:38:42.130917 4406191552 feedforward_robust.py:418] Accuracy on batch: 0.968750\n",
      "Epoch: 0040    cost: 0.573817437 \n",
      "I0927 00:38:44.307470 4406191552 feedforward_robust.py:417] Epoch: 0040    cost: 0.573817437 \n",
      "Accuracy on batch: 0.937500\n",
      "I0927 00:38:44.308869 4406191552 feedforward_robust.py:418] Accuracy on batch: 0.937500\n",
      "Epoch: 0041    cost: 0.571568262 \n",
      "I0927 00:38:46.465594 4406191552 feedforward_robust.py:417] Epoch: 0041    cost: 0.571568262 \n",
      "Accuracy on batch: 0.937500\n",
      "I0927 00:38:46.466943 4406191552 feedforward_robust.py:418] Accuracy on batch: 0.937500\n",
      "Epoch: 0042    cost: 0.566448591 \n",
      "I0927 00:38:48.612061 4406191552 feedforward_robust.py:417] Epoch: 0042    cost: 0.566448591 \n",
      "Accuracy on batch: 1.000000\n",
      "I0927 00:38:48.613478 4406191552 feedforward_robust.py:418] Accuracy on batch: 1.000000\n",
      "Epoch: 0043    cost: 0.568484534 \n",
      "I0927 00:38:50.808962 4406191552 feedforward_robust.py:417] Epoch: 0043    cost: 0.568484534 \n",
      "Accuracy on batch: 0.937500\n",
      "I0927 00:38:50.810795 4406191552 feedforward_robust.py:418] Accuracy on batch: 0.937500\n",
      "Epoch: 0044    cost: 0.568525366 \n",
      "I0927 00:38:52.937160 4406191552 feedforward_robust.py:417] Epoch: 0044    cost: 0.568525366 \n",
      "Accuracy on batch: 1.000000\n",
      "I0927 00:38:52.938767 4406191552 feedforward_robust.py:418] Accuracy on batch: 1.000000\n",
      "Epoch: 0045    cost: 0.563991537 \n",
      "I0927 00:38:54.981981 4406191552 feedforward_robust.py:417] Epoch: 0045    cost: 0.563991537 \n",
      "Accuracy on batch: 1.000000\n",
      "I0927 00:38:54.983571 4406191552 feedforward_robust.py:418] Accuracy on batch: 1.000000\n",
      "Epoch: 0046    cost: 0.566957776 \n",
      "I0927 00:38:57.267695 4406191552 feedforward_robust.py:417] Epoch: 0046    cost: 0.566957776 \n",
      "Accuracy on batch: 0.968750\n",
      "I0927 00:38:57.268933 4406191552 feedforward_robust.py:418] Accuracy on batch: 0.968750\n",
      "Epoch: 0047    cost: 0.566224579 \n",
      "I0927 00:38:59.420407 4406191552 feedforward_robust.py:417] Epoch: 0047    cost: 0.566224579 \n",
      "Accuracy on batch: 0.968750\n",
      "I0927 00:38:59.421587 4406191552 feedforward_robust.py:418] Accuracy on batch: 0.968750\n",
      "Epoch: 0048    cost: 0.567747226 \n",
      "I0927 00:39:02.330036 4406191552 feedforward_robust.py:417] Epoch: 0048    cost: 0.567747226 \n",
      "Accuracy on batch: 0.937500\n",
      "I0927 00:39:02.339110 4406191552 feedforward_robust.py:418] Accuracy on batch: 0.937500\n",
      "Epoch: 0049    cost: 0.566111893 \n",
      "I0927 00:39:04.994369 4406191552 feedforward_robust.py:417] Epoch: 0049    cost: 0.566111893 \n",
      "Accuracy on batch: 1.000000\n",
      "I0927 00:39:04.996195 4406191552 feedforward_robust.py:418] Accuracy on batch: 1.000000\n",
      "Epoch: 0050    cost: 0.566698418 \n",
      "I0927 00:39:07.260385 4406191552 feedforward_robust.py:417] Epoch: 0050    cost: 0.566698418 \n",
      "Accuracy on batch: 0.968750\n",
      "I0927 00:39:07.262137 4406191552 feedforward_robust.py:418] Accuracy on batch: 0.968750\n",
      "Optimization Finished!\n",
      "I0927 00:39:07.264340 4406191552 feedforward_robust.py:419] Optimization Finished!\n",
      "Final Train Loss 0.316529\n",
      "I0927 00:39:07.570199 4406191552 feedforward_robust.py:427] Final Train Loss 0.316529\n",
      "Final Train Accuracy 0.907650:\n",
      "I0927 00:39:07.571358 4406191552 feedforward_robust.py:428] Final Train Accuracy 0.907650:\n",
      "Model was trained on benign data\n",
      "I0927 00:39:07.574316 4406191552 feedforward_robust.py:446] Model was trained on benign data\n",
      "Saved model at weights/model_367.ckpt\n",
      "I0927 00:39:07.807751 4406191552 utils_models.py:65] Saved model at weights/model_367.ckpt\n",
      "Model was evaluated on benign data\n",
      "I0927 00:39:07.867119 4406191552 feedforward_robust.py:359] Model was evaluated on benign data\n",
      "----Regular test accuracy and loss ----\n",
      "I0927 00:39:07.928981 4406191552 utils_models.py:70] ----Regular test accuracy and loss ----\n",
      "(0.31516236, 0.9102)\n",
      "I0927 00:39:07.932032 4406191552 utils_models.py:71] (0.31516236, 0.9102)\n",
      "Model was evaluated on benign data\n",
      "I0927 00:39:07.957489 4406191552 feedforward_robust.py:359] Model was evaluated on benign data\n",
      "----Regular test accuracy and loss ----\n",
      "I0927 00:39:07.960065 4406191552 utils_models.py:74] ----Regular test accuracy and loss ----\n",
      "(0.31516236, 0.9102)\n",
      "I0927 00:39:07.963913 4406191552 utils_models.py:75] (0.31516236, 0.9102)\n",
      "Model is being evaluated on FGSM data\n",
      "I0927 00:39:08.199053 4406191552 feedforward_robust.py:366] Model is being evaluated on FGSM data\n",
      "----FGSM test accuracy and loss ----\n",
      "I0927 00:39:08.214723 4406191552 utils_models.py:78] ----FGSM test accuracy and loss ----\n",
      "(3.228799, 0.3262)\n",
      "I0927 00:39:08.216186 4406191552 utils_models.py:79] (3.228799, 0.3262)\n"
     ]
    }
   ],
   "source": [
    "#model_hybrid, sess_hybrid, = regular_training(config)\n",
    "model, sess, path = l1_reg_model_train(counter, logger, 0.0009)"
   ]
  },
  {
   "cell_type": "code",
   "execution_count": 13,
   "metadata": {},
   "outputs": [
    {
     "ename": "NameError",
     "evalue": "name 'aa' is not defined",
     "output_type": "error",
     "traceback": [
      "\u001b[0;31m---------------------------------------------------------------------------\u001b[0m",
      "\u001b[0;31mNameError\u001b[0m                                 Traceback (most recent call last)",
      "\u001b[0;32m<ipython-input-13-312382290f4f>\u001b[0m in \u001b[0;36m<module>\u001b[0;34m\u001b[0m\n\u001b[0;32m----> 1\u001b[0;31m \u001b[0maa\u001b[0m\u001b[0;34m\u001b[0m\u001b[0;34m\u001b[0m\u001b[0m\n\u001b[0m",
      "\u001b[0;31mNameError\u001b[0m: name 'aa' is not defined"
     ]
    }
   ],
   "source": [
    "aa"
   ]
  },
  {
   "cell_type": "markdown",
   "metadata": {},
   "source": [
    "# Hybrid Training"
   ]
  },
  {
   "cell_type": "code",
   "execution_count": null,
   "metadata": {},
   "outputs": [],
   "source": [
    "config = {}\n",
    "config['eps_train'] = 0.1\n",
    "config['eps_test'] = 0.1\n",
    "config['tensorboard_dir'] = \"tb/\"\n",
    "config['weights_dir'] = \"weights/\"\n",
    "\n",
    "config['load_counter_robust'] = 280\n",
    "config['load_counter_non_robust'] = 282\n",
    "config['should_slash'] = False\n",
    "config['slash_factor'] = 0.70\n",
    "\n",
    "config['sigma'] = tf.nn.relu\n",
    "\n",
    "config['scope_name'] = \"hybrid\""
   ]
  },
  {
   "cell_type": "code",
   "execution_count": null,
   "metadata": {},
   "outputs": [],
   "source": [
    "model_hybrid, sess_hybrid = hybrid_training(config)"
   ]
  },
  {
   "cell_type": "code",
   "execution_count": null,
   "metadata": {},
   "outputs": [],
   "source": [
    "dphi_dx_test_hybrid = model_hybrid.get_dphi_dx(sess_hybrid, x_test_flat)[0]"
   ]
  },
  {
   "cell_type": "code",
   "execution_count": null,
   "metadata": {},
   "outputs": [],
   "source": [
    "np.mean(np.abs(dphi_dx_test_hybrid))"
   ]
  },
  {
   "cell_type": "code",
   "execution_count": null,
   "metadata": {},
   "outputs": [],
   "source": [
    "dpred_dx_test_hybrid = model_hybrid.get_pred_dx(sess_hybrid, x_test_flat)[0]\n",
    "np.mean(np.abs(dpred_dx_test_hybrid))"
   ]
  },
  {
   "cell_type": "markdown",
   "metadata": {},
   "source": [
    "## Regular Training"
   ]
  },
  {
   "cell_type": "code",
   "execution_count": null,
   "metadata": {},
   "outputs": [],
   "source": [
    "#tf.reset_default_graph()"
   ]
  },
  {
   "cell_type": "code",
   "execution_count": null,
   "metadata": {},
   "outputs": [],
   "source": [
    "config = {}\n",
    "config['eps_train'] = 0.1\n",
    "config['eps_test'] = 0.1\n",
    "config['tensorboard_dir'] = \"tb/\"\n",
    "config['weights_dir'] = \"weights/\"\n",
    "\n",
    "config['load_counter'] = 222\n",
    "config['sigma'] = tf.nn.relu\n",
    "\n",
    "config['scope_name'] = \"model_non_robust\""
   ]
  },
  {
   "cell_type": "code",
   "execution_count": null,
   "metadata": {},
   "outputs": [],
   "source": [
    "config['scope_name']"
   ]
  },
  {
   "cell_type": "code",
   "execution_count": null,
   "metadata": {},
   "outputs": [],
   "source": [
    "model_non_robust, sess_non_robust = regular_training(config)"
   ]
  },
  {
   "cell_type": "code",
   "execution_count": null,
   "metadata": {},
   "outputs": [],
   "source": [
    "with tf.variable_scope(config['scope_name']) as scope:\n",
    "    weights_non_robust = model_non_robust.get_weights_np(sess_non_robust)"
   ]
  },
  {
   "cell_type": "code",
   "execution_count": null,
   "metadata": {},
   "outputs": [],
   "source": [
    "#Original without regularization\n",
    "sing_vals = []\n",
    "for (idx, weight_matrix) in enumerate(weights_non_robust):\n",
    "        sig = plot_singular_values(weight_matrix, idx, \"Non robust model\")\n",
    "        sing_vals.append(sig)"
   ]
  },
  {
   "cell_type": "code",
   "execution_count": null,
   "metadata": {},
   "outputs": [],
   "source": [
    "#Regular points\n",
    "acts = model_non_robust.get_activation(sess_non_robust, x_test_flat)\n",
    "diff, diff_norm = activation_distance(acts)\n",
    "\n",
    "#Adversarial points\n",
    "x_test_flat_adv = model_non_robust.fgsm_np(sess_non_robust, x_test_flat, y_test, config['eps_test'])\n",
    "acts_adv = model_non_robust.get_activation(sess_non_robust, x_test_flat_adv)\n",
    "diff_adv, diff_norm_adv = activation_distance(acts_adv)"
   ]
  },
  {
   "cell_type": "code",
   "execution_count": null,
   "metadata": {},
   "outputs": [],
   "source": [
    "diff_norm"
   ]
  },
  {
   "cell_type": "code",
   "execution_count": null,
   "metadata": {},
   "outputs": [],
   "source": [
    "diff_norm_adv"
   ]
  },
  {
   "cell_type": "code",
   "execution_count": null,
   "metadata": {},
   "outputs": [],
   "source": [
    "dphi_dx_test = model_non_robust.get_dphi_dx(sess_non_robust, x_test_flat)[0]"
   ]
  },
  {
   "cell_type": "code",
   "execution_count": null,
   "metadata": {},
   "outputs": [],
   "source": [
    "dphi_dx_test[0]"
   ]
  },
  {
   "cell_type": "code",
   "execution_count": null,
   "metadata": {},
   "outputs": [],
   "source": [
    "dphi_dx_test_non_robust = dphi_dx_test\n",
    "np.mean(np.abs(dphi_dx_test_non_robust))"
   ]
  },
  {
   "cell_type": "code",
   "execution_count": null,
   "metadata": {},
   "outputs": [],
   "source": [
    "dpred_dx_test_non_robust = model_non_robust.get_pred_dx(sess_non_robust, x_test_flat)[0]\n",
    "np.mean(np.abs(dpred_dx_test_non_robust))"
   ]
  },
  {
   "cell_type": "code",
   "execution_count": null,
   "metadata": {},
   "outputs": [],
   "source": [
    "with tf.variable_scope(config['scope_name'], reuse = tf.AUTO_REUSE) as scope:\n",
    "    x_test_feat_pert = model_non_robust.attack_featurization_space(sess_non_robust, x_test_flat, y_test, 1.0, 0.1, 200)\n",
    "    loss_feat_adv, acc_feat_adv = model_non_robust.evaluate_from_featurizations(sess_non_robust, x_test_feat_pert, y_test)\n",
    "    print(loss_feat_adv, acc_feat_adv)"
   ]
  },
  {
   "cell_type": "code",
   "execution_count": null,
   "metadata": {},
   "outputs": [],
   "source": [
    "adv_images_fgsm = model_non_robust.fgsm_np(sess_non_robust, x_test_flat, y_test, 0.10)"
   ]
  },
  {
   "cell_type": "code",
   "execution_count": null,
   "metadata": {},
   "outputs": [],
   "source": [
    "test_image = adv_images_fgsm[0]\n",
    "two_d = test_image.reshape((28,28))\n",
    "plt.imshow(two_d, cmap = plt.cm.binary)"
   ]
  },
  {
   "cell_type": "code",
   "execution_count": null,
   "metadata": {},
   "outputs": [],
   "source": [
    "\"\"\"\n",
    "test_image = adv_images_pgd[0]\n",
    "two_d = test_image.reshape((28,28))\n",
    "plt.imshow(two_d, cmap = plt.cm.binary)\n",
    "\"\"\""
   ]
  },
  {
   "cell_type": "markdown",
   "metadata": {},
   "source": [
    "## Trace regularization for first layer"
   ]
  },
  {
   "cell_type": "code",
   "execution_count": null,
   "metadata": {},
   "outputs": [],
   "source": [
    "#Config\n",
    "config = {}\n",
    "config['eps_train'] = 0.1\n",
    "config['eps_test'] = 0.1\n",
    "config['tensorboard_dir'] = \"tb/\"\n",
    "config['weights_dir'] = \"weights/\"\n",
    "\n",
    "config['load_counter'] = 121\n",
    "config['sigma'] = tf.nn.relu\n",
    "\n",
    "config['scope_name'] = \"model_non_robust\""
   ]
  },
  {
   "cell_type": "code",
   "execution_count": null,
   "metadata": {},
   "outputs": [],
   "source": [
    "config['scope_name']"
   ]
  },
  {
   "cell_type": "code",
   "execution_count": null,
   "metadata": {},
   "outputs": [],
   "source": [
    "reg_model, sess_reg = regular_training(config)"
   ]
  },
  {
   "cell_type": "code",
   "execution_count": null,
   "metadata": {},
   "outputs": [],
   "source": [
    "with tf.variable_scope(config['scope_name']) as scope:\n",
    "    weights = reg_model.get_weights_np(sess_reg)"
   ]
  },
  {
   "cell_type": "code",
   "execution_count": null,
   "metadata": {},
   "outputs": [],
   "source": [
    "#With regularization\n",
    "sing_vals_reg = []\n",
    "for (idx, weight_matrix) in enumerate(weights):\n",
    "        sig = plot_singular_values(weight_matrix, idx, \"First layer penalized\")\n",
    "        sing_vals_reg.append(sig)"
   ]
  },
  {
   "cell_type": "markdown",
   "metadata": {},
   "source": [
    "**Interpretation** This is pretty interesting. When you penalize the singular values of the first layer, all the other layers start increasing to compensate - I'm guessing to keep the expressiveness high. Probably, if we penalize all the singular values, it may not learn anything?\n",
    "\n",
    "So we still have not suceeded at replicating the singular value spectrum of the robust model - so it is difficult to conclude whether the singular value spectrum is a determinant of adversarial robustness or not"
   ]
  },
  {
   "cell_type": "code",
   "execution_count": null,
   "metadata": {},
   "outputs": [],
   "source": [
    "#With regularization - first layer\n",
    "sing_vals_reg"
   ]
  },
  {
   "cell_type": "code",
   "execution_count": null,
   "metadata": {},
   "outputs": [],
   "source": [
    "#Regular points\n",
    "acts = reg_model.get_activation(sess_reg, x_test_flat)\n",
    "diff, diff_norm = activation_distance(acts)\n",
    "\n",
    "#Adversarial points\n",
    "x_test_flat_adv = reg_model.fgsm_np(sess_reg, x_test_flat, y_test, config['eps_test'])\n",
    "acts_adv = reg_model.get_activation(sess_reg, x_test_flat_adv)\n",
    "diff_adv, diff_norm_adv = activation_distance(acts_adv)"
   ]
  },
  {
   "cell_type": "code",
   "execution_count": null,
   "metadata": {},
   "outputs": [],
   "source": [
    "diff_norm"
   ]
  },
  {
   "cell_type": "code",
   "execution_count": null,
   "metadata": {},
   "outputs": [],
   "source": [
    "diff_norm_adv"
   ]
  },
  {
   "cell_type": "code",
   "execution_count": null,
   "metadata": {},
   "outputs": [],
   "source": [
    "dphi_dx_robust_first_reg = reg_model.get_dphi_dx(sess_reg, x_test_flat)\n",
    "np.mean(np.abs(dphi_dx_robust_first_reg))"
   ]
  },
  {
   "cell_type": "code",
   "execution_count": null,
   "metadata": {},
   "outputs": [],
   "source": [
    "dpred_dx_robust_first_reg = reg_model.get_pred_dx(sess_reg, x_test_flat)\n",
    "np.mean(np.abs(dpred_dx_robust_first_reg))"
   ]
  },
  {
   "cell_type": "markdown",
   "metadata": {},
   "source": [
    "# Trace regularization for all layers"
   ]
  },
  {
   "cell_type": "code",
   "execution_count": null,
   "metadata": {},
   "outputs": [],
   "source": [
    "#Config\n",
    "config['eps_train'] = 0.1\n",
    "config['eps_test'] = 0.1\n",
    "config['tensorboard_dir'] = \"tb/\"\n",
    "config['weights_dir'] = \"weights/\"\n",
    "config['load_counter'] = 126\n",
    "config['sigma'] = tf.nn.relu\n",
    "config['scope_name'] = \"model_non_robust\""
   ]
  },
  {
   "cell_type": "code",
   "execution_count": null,
   "metadata": {},
   "outputs": [],
   "source": [
    "model_all_reg, sess_all_reg = regular_training(config)"
   ]
  },
  {
   "cell_type": "code",
   "execution_count": null,
   "metadata": {},
   "outputs": [],
   "source": [
    "with tf.variable_scope(config['scope_name']) as scope:\n",
    "    weights = model_all_reg.get_weights_np(sess_all_reg)"
   ]
  },
  {
   "cell_type": "code",
   "execution_count": null,
   "metadata": {},
   "outputs": [],
   "source": [
    "#With regularization\n",
    "sing_vals_all = []\n",
    "for (idx, weight_matrix) in enumerate(weights):\n",
    "        sig = plot_singular_values(weight_matrix, idx, \"all layers penalized\")\n",
    "        sing_vals_all.append(sig)"
   ]
  },
  {
   "cell_type": "code",
   "execution_count": null,
   "metadata": {},
   "outputs": [],
   "source": [
    "#Regular points\n",
    "acts = model_all_reg.get_activation(sess_all_reg, x_test_flat)\n",
    "diff, diff_norm = activation_distance(acts)\n",
    "\n",
    "#Adversarial points\n",
    "x_test_flat_adv = model_all_reg.fgsm_np(sess_all_reg, x_test_flat, y_test, config['eps_test'])\n",
    "acts_adv = model_all_reg.get_activation(sess_all_reg, x_test_flat_adv)\n",
    "diff_adv, diff_norm_adv = activation_distance(acts_adv)"
   ]
  },
  {
   "cell_type": "code",
   "execution_count": null,
   "metadata": {},
   "outputs": [],
   "source": [
    "diff_norm"
   ]
  },
  {
   "cell_type": "code",
   "execution_count": null,
   "metadata": {},
   "outputs": [],
   "source": [
    "diff_norm_adv"
   ]
  },
  {
   "cell_type": "code",
   "execution_count": null,
   "metadata": {},
   "outputs": [],
   "source": [
    "dphi_dx_robust_all_reg = reg_model.get_dphi_dx(sess_all_reg, x_test_flat)\n",
    "np.mean(np.abs(dphi_dx_robust_all_reg))"
   ]
  },
  {
   "cell_type": "code",
   "execution_count": null,
   "metadata": {},
   "outputs": [],
   "source": [
    "dpred_dx_robust_all_reg = reg_model.get_pred_dx(sess_all_reg, x_test_flat)\n",
    "np.mean(np.abs(dpred_dx_robust_all_reg))"
   ]
  },
  {
   "cell_type": "markdown",
   "metadata": {},
   "source": [
    "# FGSM Adversarial Training"
   ]
  },
  {
   "cell_type": "code",
   "execution_count": null,
   "metadata": {},
   "outputs": [],
   "source": [
    "#Config\n",
    "config['eps_train'] = 0.1\n",
    "config['eps_test'] = 0.1\n",
    "config['tensorboard_dir'] = \"tb/\"\n",
    "config['weights_dir'] = \"weights/\"\n",
    "config['load_counter'] = 280\n",
    "config['sigma'] = tf.nn.relu\n",
    "config['scope_name'] = \"model_robust\""
   ]
  },
  {
   "cell_type": "code",
   "execution_count": null,
   "metadata": {},
   "outputs": [],
   "source": [
    "model_rob, sess_rob = adversarial_training(config)"
   ]
  },
  {
   "cell_type": "code",
   "execution_count": null,
   "metadata": {},
   "outputs": [],
   "source": [
    "with tf.variable_scope(config['scope_name']) as scope:\n",
    "    weights_robust = model_rob.get_weights_np(sess_rob)"
   ]
  },
  {
   "cell_type": "code",
   "execution_count": null,
   "metadata": {},
   "outputs": [],
   "source": [
    "sing_vals_robust = []\n",
    "for (idx, weight_matrix) in enumerate(weights_robust):\n",
    "    sig = plot_singular_values(weight_matrix, idx, \"FGSM adversarially trained model\")\n",
    "    sing_vals_robust.append(sig)"
   ]
  },
  {
   "cell_type": "code",
   "execution_count": null,
   "metadata": {},
   "outputs": [],
   "source": [
    "dphi_dx_robust = model_rob.get_dphi_dx(sess_rob, x_test_flat)\n",
    "np.mean(np.abs(dphi_dx_robust))"
   ]
  },
  {
   "cell_type": "code",
   "execution_count": null,
   "metadata": {},
   "outputs": [],
   "source": [
    "dpred_dx_robust = model_rob.get_pred_dx(sess_rob, x_test_flat)\n",
    "np.mean(np.abs(dpred_dx_robust))"
   ]
  },
  {
   "cell_type": "code",
   "execution_count": null,
   "metadata": {},
   "outputs": [],
   "source": [
    "sing_vals[0]"
   ]
  },
  {
   "cell_type": "code",
   "execution_count": null,
   "metadata": {},
   "outputs": [],
   "source": [
    "sing_vals_robust[0]"
   ]
  },
  {
   "cell_type": "code",
   "execution_count": null,
   "metadata": {},
   "outputs": [],
   "source": [
    "sing_vals[1]"
   ]
  },
  {
   "cell_type": "code",
   "execution_count": null,
   "metadata": {},
   "outputs": [],
   "source": [
    "sing_vals_robust[1]"
   ]
  },
  {
   "cell_type": "code",
   "execution_count": null,
   "metadata": {},
   "outputs": [],
   "source": [
    "sing_vals[2]"
   ]
  },
  {
   "cell_type": "code",
   "execution_count": null,
   "metadata": {},
   "outputs": [],
   "source": [
    "sing_vals_robust[2]"
   ]
  },
  {
   "cell_type": "code",
   "execution_count": null,
   "metadata": {},
   "outputs": [],
   "source": [
    "sing_vals[-1]"
   ]
  },
  {
   "cell_type": "code",
   "execution_count": null,
   "metadata": {},
   "outputs": [],
   "source": [
    "sing_vals_robust[-1]"
   ]
  },
  {
   "cell_type": "code",
   "execution_count": null,
   "metadata": {},
   "outputs": [],
   "source": [
    "#Regular points\n",
    "acts = model_rob.get_activation(sess_rob, x_test_flat)\n",
    "diff, diff_norm = activation_distance(acts)\n",
    "\n",
    "#Adversarial points\n",
    "x_test_flat_adv = model_rob.fgsm_np(sess_rob, x_test_flat, y_test, config['eps_test'])\n",
    "acts_adv = model_rob.get_activation(sess_rob, x_test_flat_adv)\n",
    "diff_adv, diff_norm_adv = activation_distance(acts_adv)"
   ]
  },
  {
   "cell_type": "code",
   "execution_count": null,
   "metadata": {},
   "outputs": [],
   "source": [
    "diff_norm"
   ]
  },
  {
   "cell_type": "code",
   "execution_count": null,
   "metadata": {},
   "outputs": [],
   "source": [
    "diff_norm_adv"
   ]
  },
  {
   "cell_type": "markdown",
   "metadata": {},
   "source": [
    "# Comparison plots"
   ]
  },
  {
   "cell_type": "markdown",
   "metadata": {},
   "source": [
    "## Distances"
   ]
  },
  {
   "cell_type": "code",
   "execution_count": null,
   "metadata": {},
   "outputs": [],
   "source": [
    "model_list = [model_non_robust, model_all_reg, model_rob, model_hybrid, reg_model]\n",
    "sess_list = [sess_non_robust, sess_all_reg, sess_rob, sess_hybrid, sess_reg]\n",
    "scope_list = [\"model_non_robust\", \"model_non_robust\", \"model_robust\", \"hybrid\", \"model_non_robust\"]\n",
    "legend_list = ['non robust', 'all layers trace reg', 'robust', 'hybrid', 'first layer trace reg']"
   ]
  },
  {
   "cell_type": "code",
   "execution_count": null,
   "metadata": {},
   "outputs": [],
   "source": [
    "#make_dist_plot_all_models(model_list, sess_list, scope_list, legend_list, order = 2)"
   ]
  },
  {
   "cell_type": "code",
   "execution_count": null,
   "metadata": {},
   "outputs": [],
   "source": [
    "#make_dist_plot_all_models(model_list, sess_list, scope_list, legend_list, order = float(\"inf\"))"
   ]
  },
  {
   "cell_type": "markdown",
   "metadata": {},
   "source": [
    "## Stats"
   ]
  },
  {
   "cell_type": "code",
   "execution_count": null,
   "metadata": {},
   "outputs": [],
   "source": [
    "model_list = [model_non_robust, model_all_reg, model_rob, model_hybrid, reg_model]\n",
    "sess_list = [sess_non_robust, sess_all_reg, sess_rob, sess_hybrid, sess_reg]\n",
    "scope_list = [\"model_non_robust\", \"model_non_robust\", \"model_robust\", \"hybrid\", \"model_non_robust\"]"
   ]
  },
  {
   "cell_type": "code",
   "execution_count": null,
   "metadata": {},
   "outputs": [],
   "source": [
    "reg_evals, adv_evals, margins, dphi_dxs = get_stats_all_models(model_list, sess_list, scope_list)"
   ]
  },
  {
   "cell_type": "code",
   "execution_count": null,
   "metadata": {},
   "outputs": [],
   "source": [
    "#model_non_robust, model_all_reg, model_rob, model_hybrid, reg_model"
   ]
  },
  {
   "cell_type": "code",
   "execution_count": null,
   "metadata": {},
   "outputs": [],
   "source": [
    "reg_evals"
   ]
  },
  {
   "cell_type": "code",
   "execution_count": null,
   "metadata": {},
   "outputs": [],
   "source": [
    "adv_evals"
   ]
  },
  {
   "cell_type": "code",
   "execution_count": null,
   "metadata": {},
   "outputs": [],
   "source": [
    "dphi_dxs"
   ]
  },
  {
   "cell_type": "code",
   "execution_count": null,
   "metadata": {},
   "outputs": [],
   "source": [
    "margins"
   ]
  },
  {
   "cell_type": "code",
   "execution_count": null,
   "metadata": {},
   "outputs": [],
   "source": [
    "labels = ['non robust', 'Sing val all', 'fgsm train', 'hybrid', 'sing val first']"
   ]
  },
  {
   "cell_type": "code",
   "execution_count": null,
   "metadata": {},
   "outputs": [],
   "source": [
    "adv_evals_np = np.array(adv_evals)\n",
    "acc_adv = adv_evals_np[:, 1]"
   ]
  },
  {
   "cell_type": "code",
   "execution_count": null,
   "metadata": {},
   "outputs": [],
   "source": [
    "x = 2*np.arange(len(labels))  # the label locations\n",
    "width = 0.60  # the width of the bars\n",
    "\n",
    "fig, ax = plt.subplots()\n",
    "rects1 = ax.bar(x - width/2, dphi_dxs, width, label='dphi_dx')\n",
    "rects2 = ax.bar(x + width/2, margins, width, label='margin')\n",
    "\n",
    "# Add some text for labels, title and custom x-axis tick labels, etc.\n",
    "ax.set_ylabel('Margins/ Gradient means')\n",
    "ax.set_title('Margins and gradient for diferent models')\n",
    "ax.set_xticks(x)\n",
    "ax.set_xticklabels(labels)\n",
    "ax.legend()\n",
    "\n",
    "plt.show()\n",
    "print(adv_evals_np[:, 1])"
   ]
  },
  {
   "cell_type": "code",
   "execution_count": null,
   "metadata": {},
   "outputs": [],
   "source": [
    "x = 2*np.arange(len(labels))  # the label locations\n",
    "width = 0.60  # the width of the bars\n",
    "\n",
    "fig, ax = plt.subplots()\n",
    "rects1 = ax.bar(x - width/2, dphi_dxs, width, label='dphi_dx')\n",
    "# Add some text for labels, title and custom x-axis tick labels, etc.\n",
    "ax.set_ylabel('Gradient means')\n",
    "ax.set_ylim((0, 1.1))\n",
    "ax.set_title('Margins and gradient for diferent models')\n",
    "ax.set_xticks(x)\n",
    "ax.set_xticklabels(labels)\n",
    "ax.legend()\n",
    "\n",
    "\n",
    "color = 'tab:orange'\n",
    "ax2 = ax.twinx()\n",
    "rects2 = ax2.bar(x + width/2, margins, width, label='margin', color = color)\n",
    "ax2.set_ylabel('Margins')\n",
    "ax2.set_ylim((0, 0.40))\n",
    "#ax.set_xticks(x)\n",
    "#ax.set_xticklabels(labels)\n",
    "#ax2.legend(legend_loc = (1.0, 0.8))\n",
    "\n",
    "\n",
    "def autolabel(rects):\n",
    "    \"\"\"Attach a text label above each bar in *rects*, displaying its height.\"\"\"\n",
    "    for (idx, rect) in enumerate(rects1):\n",
    "        height = rect.get_height()\n",
    "        height_2 = rects2[idx].get_height() * (1.0/0.37)\n",
    "        height = max(height, height_2)\n",
    "        ax.annotate('{:0.3f}'.format(acc_adv[idx]),\n",
    "                    xy=(rect.get_x() + rect.get_width() / 2, height),\n",
    "                    xytext=(0, 3),  # 3 points vertical offset\n",
    "                    textcoords=\"offset points\",\n",
    "                    ha='center', va='bottom')\n",
    "\n",
    "\n",
    "autolabel(rects1)\n",
    "autolabel(rects2)\n",
    "\n",
    "plt.show()\n",
    "print(adv_evals_np[:, 1])"
   ]
  },
  {
   "cell_type": "markdown",
   "metadata": {},
   "source": [
    "## Accuracies "
   ]
  },
  {
   "cell_type": "code",
   "execution_count": null,
   "metadata": {},
   "outputs": [],
   "source": [
    "model_list = [model_non_robust, model_all_reg, model_rob, model_hybrid, reg_model]\n",
    "sess_list = [sess_non_robust, sess_all_reg, sess_rob, sess_hybrid, sess_reg]\n",
    "eps_list = [0, 0.02, 0.05, 0.1, 0.2, 0.3]\n",
    "scope_list = [\"model_non_robust\", \"model_non_robust\", \"model_robust\", \"hybrid\", \"model_non_robust\"]\n",
    "legend_list = ['non_robust', 'all layers trace reg', 'robust', 'hybrid', 'first layer trace reg']"
   ]
  },
  {
   "cell_type": "code",
   "execution_count": null,
   "metadata": {},
   "outputs": [],
   "source": [
    "#make_plot_acc_vs_eps(model_list, sess_list, eps_list, legend_list, scope_list, pgd = False)"
   ]
  },
  {
   "cell_type": "code",
   "execution_count": null,
   "metadata": {},
   "outputs": [],
   "source": [
    "model_list = [model_non_robust, model_all_reg, model_rob, model_hybrid, reg_model]\n",
    "sess_list = [sess_non_robust, sess_all_reg, sess_rob, sess_hybrid, sess_reg]\n",
    "eps_list = [0, 0.02, 0.05, 0.1, 0.2, 0.3]\n",
    "scope_list = [\"model_non_robust\", \"model_non_robust\", \"model_robust\", \"hybrid\", \"model_non_robust\"]\n",
    "legend_list = ['non_robust', 'all layers trace reg', 'robust', 'hybrid', 'first layer trace reg']"
   ]
  },
  {
   "cell_type": "code",
   "execution_count": null,
   "metadata": {},
   "outputs": [],
   "source": [
    "make_plot_acc_vs_eps(model_list, sess_list, eps_list, legend_list, scope_list, pgd = True)"
   ]
  },
  {
   "cell_type": "markdown",
   "metadata": {},
   "source": [
    "## Black box accuracies"
   ]
  },
  {
   "cell_type": "code",
   "execution_count": null,
   "metadata": {},
   "outputs": [],
   "source": [
    "model_list = [model_non_robust, model_all_reg, model_rob, model_hybrid, reg_model]\n",
    "sess_list = [sess_non_robust, sess_all_reg, sess_rob, sess_hybrid, sess_reg]\n",
    "eps_list = [0, 0.1, 0.2, 0.3, 0.4, 0.5, 0.6]\n",
    "angle_list = [10, 15, 20, 25, 30, 35, 40]\n",
    "scope_list = [\"model_non_robust\", \"model_non_robust\", \"model_robust\", \"hybrid\", \"model_non_robust\"]\n",
    "legend_list = ['non_robust', 'all layers trace reg', 'robust', 'hybrid', 'first layer trace reg']"
   ]
  },
  {
   "cell_type": "code",
   "execution_count": null,
   "metadata": {},
   "outputs": [],
   "source": [
    "make_plot_acc_vs_eps_black_box(model_list, sess_list, eps_list, angle_list, legend_list, scope_list)"
   ]
  },
  {
   "cell_type": "markdown",
   "metadata": {},
   "source": [
    "## Singular Values "
   ]
  },
  {
   "cell_type": "code",
   "execution_count": null,
   "metadata": {},
   "outputs": [],
   "source": [
    "norm_factor_non = sing_vals[0][0]\n",
    "sing_non = sing_vals[0]/norm_factor_non\n",
    "norm_factor_rob = sing_vals_robust[0][0]\n",
    "sing_rob = sing_vals_robust[0]/norm_factor_rob\n",
    "\n",
    "plt.loglog(range(len(sing_vals[0])), sing_non , label = \"non robust\")\n",
    "plt.loglog(range(len(sing_vals_robust[0])), sing_rob , label = \"robust\")\n",
    "plt.legend(loc = \"upper right\")"
   ]
  },
  {
   "cell_type": "code",
   "execution_count": null,
   "metadata": {},
   "outputs": [],
   "source": [
    "plt.semilogy(range(len(sing_vals[0])), sing_non , label = \"non robust\")\n",
    "plt.semilogy(range(len(sing_vals_robust[0])), sing_rob , label = \"robust\")\n",
    "plt.legend(loc = \"upper right\")"
   ]
  },
  {
   "cell_type": "code",
   "execution_count": null,
   "metadata": {},
   "outputs": [],
   "source": [
    "plt.plot(range(len(sing_vals[0])), sing_non , label = \"non robust\")\n",
    "plt.plot(range(len(sing_vals_robust[0])), sing_rob , label = \"robust\")\n",
    "plt.legend(loc = \"upper right\")"
   ]
  },
  {
   "cell_type": "code",
   "execution_count": null,
   "metadata": {},
   "outputs": [],
   "source": []
  },
  {
   "cell_type": "code",
   "execution_count": null,
   "metadata": {},
   "outputs": [],
   "source": [
    "def all_plots_layer_k(k):\n",
    "    norm_factor_non = sing_vals[k][0]\n",
    "    print(\"-----NORM FACTOR NON---\")\n",
    "    print(norm_factor_non)\n",
    "    sing_non = sing_vals[k]/norm_factor_non\n",
    "    norm_factor_rob = sing_vals_robust[k][0]\n",
    "    print(\"-----NORM FACTOR ROB---\")\n",
    "    print(norm_factor_rob)\n",
    "    sing_rob = sing_vals_robust[k]/norm_factor_rob\n",
    "    plt.loglog(range(len(sing_vals[k])), sing_non , label = \"non robust\")\n",
    "    plt.loglog(range(len(sing_vals_robust[k])), sing_rob , label = \"robust\")\n",
    "    plt.legend(loc = \"upper right\")\n",
    "    plt.show()\n",
    "    plt.semilogy(range(len(sing_vals[k])), sing_non , label = \"non robust\")\n",
    "    plt.semilogy(range(len(sing_vals_robust[k])), sing_rob , label = \"robust\")\n",
    "    plt.legend(loc = \"upper right\")\n",
    "    plt.show()\n",
    "    plt.plot(range(len(sing_vals[k])), sing_non , label = \"non robust\")\n",
    "    plt.plot(range(len(sing_vals_robust[k])), sing_rob , label = \"robust\")\n",
    "    plt.legend(loc = \"upper right\")\n",
    "    plt.show()"
   ]
  },
  {
   "cell_type": "code",
   "execution_count": null,
   "metadata": {},
   "outputs": [],
   "source": [
    "num_layers = len(sing_vals)"
   ]
  },
  {
   "cell_type": "code",
   "execution_count": null,
   "metadata": {},
   "outputs": [],
   "source": [
    "num_layers"
   ]
  },
  {
   "cell_type": "code",
   "execution_count": null,
   "metadata": {},
   "outputs": [],
   "source": [
    "for k in range(8):\n",
    "    print(k)\n",
    "    print(\"-----------\")\n",
    "    all_plots_layer_k(k)\n",
    "    print(\"-----------\")"
   ]
  },
  {
   "cell_type": "code",
   "execution_count": null,
   "metadata": {},
   "outputs": [],
   "source": [
    "for k in range(8):\n",
    "    print(k)\n",
    "    print(\"-----------\")\n",
    "    all_plots_layer_k(k)\n",
    "    print(\"-----------\")"
   ]
  }
 ],
 "metadata": {
  "kernelspec": {
   "display_name": "Python 3",
   "language": "python",
   "name": "python3"
  },
  "language_info": {
   "codemirror_mode": {
    "name": "ipython",
    "version": 3
   },
   "file_extension": ".py",
   "mimetype": "text/x-python",
   "name": "python",
   "nbconvert_exporter": "python",
   "pygments_lexer": "ipython3",
   "version": "3.7.3"
  }
 },
 "nbformat": 4,
 "nbformat_minor": 2
}

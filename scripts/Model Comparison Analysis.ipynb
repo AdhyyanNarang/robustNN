{
 "cells": [
  {
   "cell_type": "code",
   "execution_count": 1,
   "metadata": {},
   "outputs": [],
   "source": [
    "#Imports\n",
    "import logging\n",
    "import os, random, time, sys\n",
    "import numpy as np\n",
    "import tensorflow as tf\n",
    "import tensorflow.contrib.layers as layers\n",
    "sys.path.append('../')\n",
    "sys.path.append('../util/')\n",
    "import feedforward_robust as ffr\n",
    "import ipdb\n",
    "from util import *\n",
    "\n",
    "#Read the counter\n",
    "ctr_file = \"counter.txt\"\n",
    "f = open(ctr_file, 'r')\n",
    "counter = f.readline()\n",
    "f.close()\n",
    "\n",
    "counter = 1 + int(counter)\n",
    "f = open(ctr_file,'w')\n",
    "f.write('{}'.format(counter))\n",
    "f.close()\n",
    "logfile = \"logs/results_\" + str(counter) + \".log\"\n",
    "\n",
    "logger = logging.getLogger(\"robustness\")\n",
    "logger.setLevel(logging.DEBUG)\n",
    "fh = logging.FileHandler(logfile)\n",
    "fh.setLevel(logging.INFO)\n",
    "formatter = logging.Formatter('%(asctime)s - %(name)s - %(levelname)s - %(message)s')\n",
    "fh.setFormatter(formatter)\n",
    "logger.addHandler(fh)\n",
    "logger.addHandler(logging.StreamHandler())"
   ]
  },
  {
   "cell_type": "code",
   "execution_count": 2,
   "metadata": {},
   "outputs": [],
   "source": [
    "%load_ext autoreload\n",
    "%autoreload 2"
   ]
  },
  {
   "cell_type": "code",
   "execution_count": 3,
   "metadata": {},
   "outputs": [],
   "source": [
    "#Setup - Dataset stuff\n",
    "dataset, input_shape, num_classes = get_dataset()\n",
    "x_train_flat, y_train = dataset[0] \n",
    "x_test_flat, y_test = dataset[1] \n",
    "hidden_sizes = [32,32,32,32,32,32,32]"
   ]
  },
  {
   "cell_type": "code",
   "execution_count": 4,
   "metadata": {},
   "outputs": [
    {
     "data": {
      "text/plain": [
       "(60000, 784)"
      ]
     },
     "execution_count": 4,
     "metadata": {},
     "output_type": "execute_result"
    }
   ],
   "source": [
    "x_train_flat.shape"
   ]
  },
  {
   "cell_type": "code",
   "execution_count": 5,
   "metadata": {},
   "outputs": [],
   "source": [
    "def plot_singular_values(matrix, idx):\n",
    "    _, sig, V = np.linalg.svd(matrix)\n",
    "    plt.plot(range(len(sig)), sig, label = \"Layer number %d\" %idx)\n",
    "    plt.legend(loc = 'upper right')\n",
    "    return sig"
   ]
  },
  {
   "cell_type": "code",
   "execution_count": 6,
   "metadata": {},
   "outputs": [],
   "source": [
    "def regular_training(config_inp):\n",
    "    eps_train = config_inp['eps_train'] \n",
    "    eps_test = config_inp['eps_test'] \n",
    "    tensorboard_dir = config_inp['tensorboard_dir'] \n",
    "    weights_dir = config_inp['weights_dir']\n",
    "    load_counter = config_inp['load_counter'] \n",
    "    sigma = config_inp['sigma']\n",
    "    scope_name = config_inp['scope_name']\n",
    "    \n",
    "    with tf.variable_scope(scope_name, reuse = tf.AUTO_REUSE) as scope:\n",
    "        sess = tf.Session()\n",
    "        logdir = tensorboard_dir + str(counter) + \"/non_robust\"\n",
    "\n",
    "        #Create, train and test model\n",
    "        writer = tf.summary.FileWriter(logdir)\n",
    "        model = ffr.RobustMLP(input_shape, hidden_sizes, num_classes, writer = writer, scope = scope_name, logger = logger, sigma =sigma)\n",
    "        logger.info(\"Created model successfully. Now going to load weights\")\n",
    "\n",
    "        #Restore weights\n",
    "        weights = tf.trainable_variables()\n",
    "        saver = tf.train.Saver(weights)\n",
    "        weights_path = saver.restore(sess, weights_dir + \"model_\" + str(load_counter) + \".ckpt\")\n",
    "\n",
    "        writer.add_graph(sess.graph)\n",
    "\n",
    "        loss_reg, acc_reg = model.evaluate(sess, x_test_flat, y_test)\n",
    "        logger.info(\"----Regular test accuracy and loss ----\")\n",
    "        logger.info((loss_reg, acc_reg))\n",
    "\n",
    "\n",
    "        with tf.variable_scope(\"testing_benign\") as scope:\n",
    "            loss_reg, acc_reg = model.evaluate(sess, x_test_flat, y_test)\n",
    "            logger.info(\"----Regular test accuracy and loss ----\")\n",
    "            logger.info((loss_reg, acc_reg))\n",
    "\n",
    "\n",
    "        with tf.variable_scope(\"testing_adversarial\") as scope:\n",
    "            loss_fgsm, acc_fgsm = model.adv_evaluate(sess, x_test_flat, y_test, eps_test, pgd = False)\n",
    "            logger.info(\"----FGSM test accuracy and loss ----\")\n",
    "            logger.info((loss_fgsm, acc_fgsm))\n",
    "            x_test_flat_adv = model.fgsm_np(sess, x_test_flat, y_test, eps_test)\n",
    "    return model, sess"
   ]
  },
  {
   "cell_type": "code",
   "execution_count": 7,
   "metadata": {},
   "outputs": [],
   "source": [
    "def adversarial_training(config):\n",
    "    eps_train = config['eps_train'] \n",
    "    eps_test = config['eps_test'] \n",
    "    tensorboard_dir = config['tensorboard_dir'] \n",
    "    weights_dir = config['weights_dir']\n",
    "    load_counter = config['load_counter'] \n",
    "    sigma = config['sigma']\n",
    "    scope_name_rob = config['scope_name']\n",
    "    sess = tf.Session()\n",
    "    hidden_sizes = [32,32,32,32,32,32,32]\n",
    "    \n",
    "    dataset = ((x_train_flat, y_train), (x_test_flat, y_test))\n",
    "\n",
    "    with tf.variable_scope(scope_name_rob, reuse = False) as scope:\n",
    "        logdir = tensorboard_dir + str(counter) + \"/robust\"\n",
    "        writer_robust = tf.summary.FileWriter(logdir)\n",
    "        logger.info(\"Adversarial Training\")\n",
    "        robust_model = ffr.RobustMLP(input_shape, hidden_sizes, num_classes, writer = writer_robust, scope = scope_name_rob, logger = logger, sigma = sigma)\n",
    "        sess.run(tf.global_variables_initializer())\n",
    "        robust_model.adv_fit(sess, x_train_flat, y_train, eps_train, lr = 3e-4, training_epochs = 20)\n",
    "\n",
    "        print(robust_model.evaluate(sess, x_test_flat, y_test))\n",
    "        print(robust_model.adv_evaluate(sess, x_test_flat, y_test, eps_test))\n",
    "    return robust_model, sess"
   ]
  },
  {
   "cell_type": "code",
   "execution_count": 8,
   "metadata": {},
   "outputs": [],
   "source": [
    "def activation_distance(activation_list):\n",
    "    diff = []\n",
    "    diff_norms = []\n",
    "    for i in range(len(activation_list) - 1):\n",
    "        difference = activation_list[i+1] - activation_list[i]\n",
    "        diff.append(difference)\n",
    "        diff_norms.append(np.linalg.norm(difference)/np.linalg.norm(activation_list[i]))\n",
    "    return diff, diff_norms"
   ]
  },
  {
   "cell_type": "markdown",
   "metadata": {},
   "source": [
    "## Regular Training"
   ]
  },
  {
   "cell_type": "code",
   "execution_count": 9,
   "metadata": {},
   "outputs": [],
   "source": [
    "config = {}\n",
    "config['eps_train'] = 0.1\n",
    "config['eps_test'] = 0.1\n",
    "config['tensorboard_dir'] = \"tb/\"\n",
    "config['weights_dir'] = \"weights/\"\n",
    "\n",
    "config['load_counter'] = 222\n",
    "config['sigma'] = tf.nn.relu\n",
    "\n",
    "config['scope_name'] = \"model_non_robust\""
   ]
  },
  {
   "cell_type": "code",
   "execution_count": 10,
   "metadata": {},
   "outputs": [
    {
     "data": {
      "text/plain": [
       "'model_non_robust'"
      ]
     },
     "execution_count": 10,
     "metadata": {},
     "output_type": "execute_result"
    }
   ],
   "source": [
    "config['scope_name']"
   ]
  },
  {
   "cell_type": "code",
   "execution_count": 11,
   "metadata": {},
   "outputs": [
    {
     "name": "stderr",
     "output_type": "stream",
     "text": [
      "Initialized instance variables of the robust model class\n",
      "WARNING: Logging before flag parsing goes to stderr.\n",
      "I0828 23:47:02.570277 4608517568 feedforward_robust.py:30] Initialized instance variables of the robust model class\n",
      "W0828 23:47:02.574556 4608517568 deprecation_wrapper.py:119] From ../feedforward_robust.py:34: The name tf.placeholder is deprecated. Please use tf.compat.v1.placeholder instead.\n",
      "\n",
      "Created placeholders for x and y\n",
      "I0828 23:47:02.578690 4608517568 feedforward_robust.py:36] Created placeholders for x and y\n",
      "W0828 23:47:02.581123 4608517568 deprecation_wrapper.py:119] From ../util.py:31: The name tf.variable_scope is deprecated. Please use tf.compat.v1.variable_scope instead.\n",
      "\n",
      "W0828 23:47:02.583893 4608517568 deprecation_wrapper.py:119] From ../util.py:31: The name tf.AUTO_REUSE is deprecated. Please use tf.compat.v1.AUTO_REUSE instead.\n",
      "\n",
      "W0828 23:47:02.585281 4608517568 deprecation_wrapper.py:119] From ../util.py:33: The name tf.get_variable is deprecated. Please use tf.compat.v1.get_variable instead.\n",
      "\n",
      "W0828 23:47:02.604897 4608517568 deprecation_wrapper.py:119] From ../util.py:37: The name tf.summary.histogram is deprecated. Please use tf.compat.v1.summary.histogram instead.\n",
      "\n",
      "Created layers and tensor for logits\n",
      "I0828 23:47:02.740038 4608517568 feedforward_robust.py:40] Created layers and tensor for logits\n",
      "W0828 23:47:02.741391 4608517568 deprecation.py:323] From ../feedforward_robust.py:42: softmax_cross_entropy_with_logits (from tensorflow.python.ops.nn_ops) is deprecated and will be removed in a future version.\n",
      "Instructions for updating:\n",
      "\n",
      "Future major versions of TensorFlow will allow gradients to flow\n",
      "into the labels input on backprop by default.\n",
      "\n",
      "See `tf.nn.softmax_cross_entropy_with_logits_v2`.\n",
      "\n",
      "W0828 23:47:02.768723 4608517568 deprecation_wrapper.py:119] From ../feedforward_robust.py:44: The name tf.summary.scalar is deprecated. Please use tf.compat.v1.summary.scalar instead.\n",
      "\n",
      "Added loss computation to the graph\n",
      "I0828 23:47:02.851280 4608517568 feedforward_robust.py:45] Added loss computation to the graph\n",
      "Added accuracy computation to the graph\n",
      "I0828 23:47:02.859822 4608517568 feedforward_robust.py:49] Added accuracy computation to the graph\n",
      "Model graph was created\n",
      "I0828 23:47:02.863046 4608517568 feedforward_robust.py:52] Model graph was created\n",
      "W0828 23:47:02.864740 4608517568 deprecation_wrapper.py:119] From ../feedforward_robust.py:53: The name tf.summary.merge_all is deprecated. Please use tf.compat.v1.summary.merge_all instead.\n",
      "\n",
      "Created model successfully. Now going to load weights\n",
      "I0828 23:47:02.867949 4608517568 <ipython-input-6-f4d9faea5387>:17] Created model successfully. Now going to load weights\n",
      "W0828 23:47:02.895342 4608517568 deprecation.py:323] From /usr/local/lib/python3.7/site-packages/tensorflow/python/training/saver.py:1276: checkpoint_exists (from tensorflow.python.training.checkpoint_management) is deprecated and will be removed in a future version.\n",
      "Instructions for updating:\n",
      "Use standard file APIs to check for files with this prefix.\n",
      "Model was evaluated on benign data\n",
      "I0828 23:47:03.031671 4608517568 feedforward_robust.py:292] Model was evaluated on benign data\n",
      "----Regular test accuracy and loss ----\n",
      "I0828 23:47:03.034396 4608517568 <ipython-input-6-f4d9faea5387>:27] ----Regular test accuracy and loss ----\n",
      "(0.17380294, 0.9559)\n",
      "I0828 23:47:03.036811 4608517568 <ipython-input-6-f4d9faea5387>:28] (0.17380294, 0.9559)\n",
      "Model was evaluated on benign data\n",
      "I0828 23:47:03.058496 4608517568 feedforward_robust.py:292] Model was evaluated on benign data\n",
      "----Regular test accuracy and loss ----\n",
      "I0828 23:47:03.060290 4608517568 <ipython-input-6-f4d9faea5387>:33] ----Regular test accuracy and loss ----\n",
      "(0.17380294, 0.9559)\n",
      "I0828 23:47:03.061936 4608517568 <ipython-input-6-f4d9faea5387>:34] (0.17380294, 0.9559)\n",
      "Model is being evaluated on FGSM data\n",
      "I0828 23:47:03.269061 4608517568 feedforward_robust.py:299] Model is being evaluated on FGSM data\n",
      "----FGSM test accuracy and loss ----\n",
      "I0828 23:47:03.282589 4608517568 <ipython-input-6-f4d9faea5387>:39] ----FGSM test accuracy and loss ----\n",
      "(6.6653485, 0.0579)\n",
      "I0828 23:47:03.284165 4608517568 <ipython-input-6-f4d9faea5387>:40] (6.6653485, 0.0579)\n"
     ]
    }
   ],
   "source": [
    "model_non_robust, sess_non_robust = regular_training(config)"
   ]
  },
  {
   "cell_type": "code",
   "execution_count": 12,
   "metadata": {},
   "outputs": [],
   "source": [
    "with tf.variable_scope(config['scope_name']) as scope:\n",
    "    weights_non_robust = model_non_robust.get_weights_np(sess_non_robust)"
   ]
  },
  {
   "cell_type": "code",
   "execution_count": 13,
   "metadata": {},
   "outputs": [
    {
     "data": {
      "image/png": "[encoded data removed]",
      "text/plain": [
       "<Figure size 432x288 with 1 Axes>"
      ]
     },
     "metadata": {
      "needs_background": "light"
     },
     "output_type": "display_data"
    }
   ],
   "source": [
    "#Original without regularization\n",
    "sing_vals = []\n",
    "for (idx, weight_matrix) in enumerate(weights_non_robust):\n",
    "        sig = plot_singular_values(weight_matrix, idx)\n",
    "        sing_vals.append(sig)"
   ]
  },
  {
   "cell_type": "code",
   "execution_count": 14,
   "metadata": {},
   "outputs": [
    {
     "data": {
      "text/plain": [
       "[array([11.189289 , 10.133197 ,  9.383851 ,  8.92445  ,  8.247922 ,\n",
       "         7.969636 ,  7.4290295,  7.0685034,  6.6811824,  6.1500745,\n",
       "         5.970582 ,  5.6832013,  5.439685 ,  5.1961956,  5.0047846,\n",
       "         4.7424994,  4.5128593,  4.3439555,  4.1835628,  3.9895031,\n",
       "         3.7153032,  3.6492496,  3.417802 ,  3.3370526,  3.3204548,\n",
       "         3.294197 ,  3.0694237,  2.9688969,  2.8788092,  2.7434793,\n",
       "         2.6681807,  1.4231784], dtype=float32),\n",
       " array([3.674316  , 3.3551764 , 3.224709  , 2.9054708 , 2.6243584 ,\n",
       "        2.4510684 , 2.1869967 , 2.1103704 , 1.7720344 , 1.5988731 ,\n",
       "        1.4801615 , 1.421275  , 1.3496728 , 1.2716495 , 1.1624023 ,\n",
       "        1.0521415 , 1.0061094 , 0.94067425, 0.904368  , 0.82833225,\n",
       "        0.75014293, 0.6533072 , 0.61833286, 0.5395455 , 0.42479357,\n",
       "        0.39901435, 0.33884445, 0.26813343, 0.20976494, 0.18486662,\n",
       "        0.15978248, 0.03111679], dtype=float32),\n",
       " array([3.3668115 , 2.842233  , 2.7448304 , 2.5716846 , 2.5023568 ,\n",
       "        2.3724024 , 2.2186227 , 2.019235  , 1.795118  , 1.5796243 ,\n",
       "        1.4817913 , 1.4066254 , 1.3463677 , 1.25288   , 1.2033571 ,\n",
       "        1.0469009 , 1.0039477 , 0.91686976, 0.8075825 , 0.76937425,\n",
       "        0.758841  , 0.63528323, 0.55939764, 0.49177903, 0.47970247,\n",
       "        0.3502487 , 0.29832286, 0.24977762, 0.20475344, 0.14861573,\n",
       "        0.07453168, 0.01873747], dtype=float32),\n",
       " array([3.0319548 , 2.5357394 , 2.3684635 , 2.3241673 , 2.222864  ,\n",
       "        2.1402726 , 2.020975  , 1.8810265 , 1.7351847 , 1.5885165 ,\n",
       "        1.5379084 , 1.4306782 , 1.3499842 , 1.296648  , 1.2354732 ,\n",
       "        1.1318053 , 0.9877816 , 0.91800725, 0.89176404, 0.7771447 ,\n",
       "        0.75715953, 0.6393558 , 0.5684904 , 0.5124758 , 0.49410957,\n",
       "        0.4057974 , 0.2774219 , 0.25189465, 0.23287566, 0.1732131 ,\n",
       "        0.04762661, 0.00417654], dtype=float32),\n",
       " array([2.6741993 , 2.5664835 , 2.3845644 , 2.3093162 , 2.1397903 ,\n",
       "        1.8808751 , 1.7694864 , 1.6457716 , 1.5148963 , 1.4212531 ,\n",
       "        1.3256346 , 1.2891835 , 1.2409761 , 1.2138537 , 1.1676433 ,\n",
       "        1.0735645 , 0.97035766, 0.8802443 , 0.8045465 , 0.78486365,\n",
       "        0.655793  , 0.59387034, 0.54065657, 0.51433325, 0.44825253,\n",
       "        0.42440408, 0.37985983, 0.3217362 , 0.18421905, 0.13745749,\n",
       "        0.1065566 , 0.08310547], dtype=float32),\n",
       " array([2.7142305 , 2.3271694 , 2.1863024 , 2.1238053 , 1.9696211 ,\n",
       "        1.8597273 , 1.7898958 , 1.5951124 , 1.4762641 , 1.4035256 ,\n",
       "        1.3728482 , 1.2826996 , 1.1763572 , 1.1627566 , 1.0745361 ,\n",
       "        0.9501514 , 0.87880087, 0.8166699 , 0.7542869 , 0.70372295,\n",
       "        0.66675144, 0.6058375 , 0.54146427, 0.45004484, 0.38911435,\n",
       "        0.3616004 , 0.26120022, 0.18799238, 0.11924391, 0.06948607,\n",
       "        0.03507818, 0.01831501], dtype=float32),\n",
       " array([2.356495  , 2.173504  , 2.0178282 , 1.9453079 , 1.850985  ,\n",
       "        1.7751095 , 1.7369173 , 1.6268305 , 1.5793937 , 1.4842376 ,\n",
       "        1.232296  , 1.1886643 , 1.1372942 , 1.0120566 , 0.96904993,\n",
       "        0.9372906 , 0.9000035 , 0.85543317, 0.7873437 , 0.6603531 ,\n",
       "        0.6369627 , 0.57286435, 0.520642  , 0.42687896, 0.41191274,\n",
       "        0.34182903, 0.27529848, 0.23650028, 0.17302121, 0.10638499,\n",
       "        0.02226053, 0.00697766], dtype=float32),\n",
       " array([2.3056653 , 2.0326595 , 1.8763782 , 1.7655128 , 1.5709738 ,\n",
       "        1.3455315 , 1.2124654 , 0.9837641 , 0.81992024, 0.6042539 ],\n",
       "       dtype=float32)]"
      ]
     },
     "execution_count": 14,
     "metadata": {},
     "output_type": "execute_result"
    }
   ],
   "source": [
    "sing_vals"
   ]
  },
  {
   "cell_type": "code",
   "execution_count": 15,
   "metadata": {},
   "outputs": [],
   "source": [
    "#Regular points\n",
    "acts = model_non_robust.get_activation(sess_non_robust, x_test_flat)\n",
    "diff, diff_norm = activation_distance(acts)\n",
    "\n",
    "#Adversarial points\n",
    "x_test_flat_adv = model_non_robust.fgsm_np(sess_non_robust, x_test_flat, y_test, config['eps_test'])\n",
    "acts_adv = model_non_robust.get_activation(sess_non_robust, x_test_flat_adv)\n",
    "diff_adv, diff_norm_adv = activation_distance(acts_adv)"
   ]
  },
  {
   "cell_type": "code",
   "execution_count": 16,
   "metadata": {},
   "outputs": [
    {
     "data": {
      "text/plain": [
       "[1.2221951, 1.2958775, 1.2866542, 1.2522035, 1.2535323, 1.1977569]"
      ]
     },
     "execution_count": 16,
     "metadata": {},
     "output_type": "execute_result"
    }
   ],
   "source": [
    "diff_norm"
   ]
  },
  {
   "cell_type": "code",
   "execution_count": 17,
   "metadata": {},
   "outputs": [
    {
     "data": {
      "text/plain": [
       "[1.1699435, 1.2277226, 1.1832038, 1.2514116, 1.2267895, 1.1607223]"
      ]
     },
     "execution_count": 17,
     "metadata": {},
     "output_type": "execute_result"
    }
   ],
   "source": [
    "diff_norm_adv"
   ]
  },
  {
   "cell_type": "code",
   "execution_count": 18,
   "metadata": {},
   "outputs": [],
   "source": [
    "dphi_dx_test = model_non_robust.get_dphi_dx(sess_non_robust, x_test_flat)[0]"
   ]
  },
  {
   "cell_type": "code",
   "execution_count": 19,
   "metadata": {},
   "outputs": [
    {
     "data": {
      "text/plain": [
       "array([ 2.57825583e-01,  8.78084004e-02, -7.54263550e-02,  1.16312869e-01,\n",
       "       -1.05404118e-02,  5.11546850e-01,  1.08980112e-01,  3.60112667e-01,\n",
       "       -1.30970672e-01,  2.86065906e-01, -2.51386076e-01, -5.32598734e-01,\n",
       "       -9.00848925e-01, -8.47756684e-01, -4.31117505e-01, -1.08172905e+00,\n",
       "        3.92692178e-01, -1.76614270e-01, -1.28510660e-02, -8.11763108e-02,\n",
       "       -3.29416454e-01, -9.48862731e-02, -1.95206463e-01, -9.28842127e-02,\n",
       "       -5.44355273e-01,  2.50157624e-01,  1.45502254e-01, -1.56610504e-01,\n",
       "       -2.50830531e-01, -2.74944484e-01, -3.48501772e-01, -3.18996042e-01,\n",
       "        2.88076341e-01, -3.94406408e-01, -1.00904870e+00, -9.62924361e-01,\n",
       "       -3.92116129e-01, -6.67419016e-01, -1.37607694e+00, -5.23529112e-01,\n",
       "       -1.57230663e+00, -1.94908154e+00, -4.86297607e-01, -5.91748834e-01,\n",
       "       -5.78102291e-01, -1.01870322e+00, -1.40130401e+00, -1.06577003e+00,\n",
       "       -1.01430583e+00, -1.43360734e+00, -1.34260607e+00, -1.00455070e+00,\n",
       "        4.18147981e-01, -1.51088610e-01,  1.60588637e-01, -3.08880899e-02,\n",
       "       -2.06899047e-01,  2.48346359e-01, -5.81988581e-02,  6.05629206e-01,\n",
       "        2.92459458e-01,  7.68906251e-02, -1.15243125e+00, -4.14849788e-01,\n",
       "       -9.41953421e-01, -3.61071289e-01, -1.59674418e+00, -1.16308749e+00,\n",
       "       -1.69599617e+00, -1.62750494e+00, -2.58493018e+00, -1.96054745e+00,\n",
       "       -1.03200209e+00, -1.97953689e+00, -2.72780800e+00, -1.52179766e+00,\n",
       "       -1.45028698e+00, -1.07738042e+00, -1.33983004e+00, -2.03696680e+00,\n",
       "       -9.26924109e-01,  2.12415487e-01, -1.21574417e-01, -3.03238392e-01,\n",
       "        8.08277875e-02, -5.10270894e-02,  6.96121633e-01,  4.09294993e-01,\n",
       "       -2.93577433e-01,  4.67113376e-01, -2.24312872e-01, -1.74040043e+00,\n",
       "        1.59157872e-01, -4.23727870e-01, -5.05594313e-02,  7.13238358e-01,\n",
       "        4.94620353e-02, -7.35677242e-01, -9.03752089e-01, -1.10176980e+00,\n",
       "       -8.84878039e-01, -1.73308587e+00, -1.11390448e+00, -1.45115292e+00,\n",
       "       -2.59844255e+00, -2.01360273e+00, -2.28880197e-01, -1.97394979e+00,\n",
       "       -1.04945683e+00, -6.36933923e-01, -5.84710121e-01, -2.06169948e-01,\n",
       "       -1.74204290e-01, -3.23566675e-01,  1.51259983e+00,  1.43675160e+00,\n",
       "        1.16204512e+00,  1.00580382e+00, -7.75375545e-01, -8.79429281e-01,\n",
       "       -7.62920827e-02, -1.52895534e+00, -2.18509030e+00, -1.20221317e+00,\n",
       "       -1.14406717e+00, -1.19708502e+00, -2.46827221e+00, -1.14429653e+00,\n",
       "       -1.07688999e+00, -1.84219456e+00, -1.60066402e+00, -1.15249979e+00,\n",
       "       -1.05662382e+00,  5.02251744e-01,  2.01528907e+00,  6.74034595e-01,\n",
       "       -7.28980720e-01, -1.87954807e+00, -2.14468002e+00, -2.05446792e+00,\n",
       "        1.94258451e-01,  6.72411695e-02, -1.00647891e+00, -1.93619287e+00,\n",
       "       -1.11128712e+00,  2.94740647e-01,  2.77518809e-01,  2.72632957e-01,\n",
       "       -9.21184957e-01, -1.16164768e+00, -1.86504316e+00, -1.88746929e+00,\n",
       "       -1.76136303e+00, -1.79547894e+00, -1.83373511e+00, -1.40017223e+00,\n",
       "       -2.45937037e+00, -3.52026057e+00, -3.86099815e+00, -3.09507012e+00,\n",
       "       -2.61983395e+00, -1.13871181e+00, -5.06989896e-01, -4.28891838e-01,\n",
       "       -9.29392993e-01, -1.38015902e+00, -2.49970222e+00, -3.94973345e-03,\n",
       "       -2.31080353e-01, -9.85105038e-02,  2.04822302e+00,  2.18919826e+00,\n",
       "        1.92812705e+00,  2.48715949e+00,  1.62103820e+00,  1.46867037e+00,\n",
       "        1.04708052e+00,  5.15182316e-01, -3.66046637e-01, -9.24691260e-01,\n",
       "       -8.19138050e-01, -2.35847756e-01, -5.92116594e-01, -7.80232131e-01,\n",
       "       -1.01021349e+00, -4.17624325e-01, -1.16483510e+00, -2.24673724e+00,\n",
       "       -3.03463435e+00, -6.13763034e-01, -1.56675506e+00, -1.21457946e+00,\n",
       "       -2.18986940e+00, -3.74868584e+00, -1.80176783e+00,  2.15930983e-01,\n",
       "        5.29300928e-01,  2.10354519e+00,  3.13864374e+00,  5.11771822e+00,\n",
       "        2.56259251e+00,  1.30409729e+00,  2.07511973e+00,  1.82905781e+00,\n",
       "        4.99993771e-01,  6.77130222e-01,  3.44522148e-01,  2.02218816e-01,\n",
       "        2.33479328e-02, -6.89833939e-01, -4.69654053e-01, -1.71542048e+00,\n",
       "       -4.65792546e-04,  1.45969892e+00,  1.80595979e-01,  8.92777801e-01,\n",
       "       -4.55204338e-01, -1.46713388e+00, -1.85368800e+00, -1.26937127e+00,\n",
       "       -1.31487846e+00, -8.28588545e-01, -1.10610485e+00, -3.88816118e-01,\n",
       "        4.33413923e-01,  3.88666224e+00,  3.05211282e+00,  1.25781965e+00,\n",
       "        2.40647793e+00,  1.87638879e+00,  1.26175177e+00,  1.78358853e+00,\n",
       "        2.18094873e+00,  7.03923583e-01,  7.14814246e-01,  5.66423893e-01,\n",
       "       -1.63061693e-01, -2.80463308e-01,  6.57398999e-01,  7.35875219e-02,\n",
       "        3.24671417e-01,  1.25616610e+00,  1.67859113e+00,  8.75479639e-01,\n",
       "        9.74691987e-01, -1.64226204e-01, -4.67629790e-01, -4.52029184e-02,\n",
       "       -1.20295191e+00, -1.88867950e+00, -2.86826658e+00, -2.36055040e+00,\n",
       "        3.26488352e+00,  4.02585459e+00,  2.30574071e-01,  2.89069593e-01,\n",
       "        1.78511310e+00,  1.67083788e+00,  1.27277422e+00,  1.13090169e+00,\n",
       "        2.37141952e-01, -3.22400540e-01,  7.76577771e-01,  4.91555482e-01,\n",
       "        9.87102211e-01,  1.49985719e+00,  1.63093519e+00,  1.24719989e+00,\n",
       "        1.83077836e+00,  1.67501724e+00,  2.12705326e+00,  1.81547737e+00,\n",
       "        1.07812679e+00,  3.51769030e-01,  3.82519752e-01, -1.97709453e+00,\n",
       "       -1.85034311e+00, -2.05039167e+00, -2.45502114e+00,  1.01616286e-01,\n",
       "        3.19415283e+00,  4.06316900e+00,  4.36139464e-01,  9.53569114e-01,\n",
       "        1.42201856e-01,  1.01596363e-01, -1.06818601e-02,  1.96058378e-01,\n",
       "        2.84647346e-01,  9.39423800e-01,  1.19563770e+00,  1.67122340e+00,\n",
       "        1.35116506e+00,  1.32998645e+00,  9.53049138e-02,  2.11883092e+00,\n",
       "        2.88603258e+00,  2.44386888e+00,  1.76933825e+00,  8.60212386e-01,\n",
       "        1.76716805e+00,  5.97705603e-01, -1.91598192e-01, -2.96560979e+00,\n",
       "       -1.64985824e+00, -4.34026688e-01, -4.45367187e-01, -1.58662677e-01,\n",
       "        4.65854931e+00,  5.04194927e+00,  4.19500542e+00,  2.53615117e+00,\n",
       "        5.24212241e-01, -1.90948412e-01,  2.33805239e-01,  7.94450343e-01,\n",
       "       -1.73936248e-01,  8.67196977e-01,  3.31376672e-01,  9.42746997e-01,\n",
       "       -7.19003141e-01, -2.53717828e+00, -2.71043587e+00,  1.12431729e+00,\n",
       "        1.92275965e+00,  2.42449951e+00,  1.53860533e+00,  1.71136171e-01,\n",
       "        9.84990180e-01,  1.08846605e+00, -3.94274592e-01, -3.43949199e+00,\n",
       "       -3.32326818e+00, -2.07277632e+00, -4.49569374e-01, -9.22394872e-01,\n",
       "        3.47398043e+00,  5.42657757e+00,  4.15271425e+00,  1.16262233e+00,\n",
       "        1.10250033e-01,  1.77070856e-01, -6.56296253e-01,  3.87249410e-01,\n",
       "        2.30259206e-02, -2.46954411e-01, -4.13711458e-01, -1.15794063e+00,\n",
       "       -2.31165767e+00, -5.12585449e+00, -3.74366999e+00,  1.62201121e-01,\n",
       "        1.74036157e+00,  1.33840704e+00,  1.03870857e+00, -4.62638140e-01,\n",
       "       -1.15760231e+00, -4.75241184e-01,  7.36176252e-01, -1.70640206e+00,\n",
       "       -3.82823324e+00, -5.48015274e-02, -4.15432513e-01, -2.72447616e-01,\n",
       "       -3.24804848e-03,  3.34598327e+00,  4.19529104e+00,  4.01550442e-01,\n",
       "       -5.48259258e-01, -8.28522205e-01, -4.20776069e-01, -1.07938662e-01,\n",
       "       -5.97558022e-01, -3.75051379e-01, -2.96844661e-01, -1.76194203e+00,\n",
       "       -3.57403994e+00, -4.74032307e+00, -2.21291733e+00, -1.09288311e+00,\n",
       "        9.18512225e-01,  7.18276143e-01, -2.02656407e-02, -1.13013244e+00,\n",
       "       -6.97614968e-01,  8.19254637e-01,  8.17568660e-01, -2.60036498e-01,\n",
       "        7.64912963e-01,  1.39438069e+00, -2.92469442e-01,  1.00608540e+00,\n",
       "       -1.09623230e+00,  2.78003740e+00,  4.77434731e+00, -6.27219498e-01,\n",
       "       -5.41231811e-01, -8.19221437e-01, -1.42218876e+00, -7.86169887e-01,\n",
       "        6.41426980e-01, -2.97067374e-01, -4.22697961e-01, -1.97006619e+00,\n",
       "       -2.54388809e+00, -3.19084454e+00, -2.08007717e+00, -8.54785860e-01,\n",
       "        2.35493690e-01,  5.11760175e-01,  6.81266129e-01,  1.04439223e+00,\n",
       "        1.08384895e+00,  1.37687206e+00,  2.15255427e+00,  2.14990449e+00,\n",
       "        2.39606881e+00,  1.29940903e+00,  5.87922215e-01,  8.16844627e-02,\n",
       "       -3.17251772e-01,  9.93688822e-01,  1.24661219e+00, -3.65483724e-02,\n",
       "       -7.60858715e-01, -5.74745476e-01,  1.70391053e-02, -1.10386121e+00,\n",
       "       -8.21860194e-01, -8.14615428e-01, -8.38473201e-01, -1.87297308e+00,\n",
       "       -3.86005187e+00, -3.91070747e+00, -1.55783498e+00,  6.78782463e-01,\n",
       "        4.57394779e-01,  1.90720391e+00,  1.06799996e+00,  1.26425302e+00,\n",
       "        1.39462149e+00,  1.25982845e+00,  6.49602413e-01,  9.29065347e-01,\n",
       "        1.99473962e-01,  1.86103776e-01,  8.51230741e-01, -1.32013345e+00,\n",
       "        9.51192319e-01,  2.45064795e-01, -6.01945758e-01, -1.91825914e+00,\n",
       "       -5.38851798e-01, -5.27824461e-01,  7.29838610e-01,  3.23320419e-01,\n",
       "       -1.73016250e-01, -2.35176063e+00, -2.22573233e+00, -2.23661566e+00,\n",
       "       -2.97060299e+00, -3.72013545e+00, -7.35677063e-01,  5.66753924e-01,\n",
       "        1.13258302e+00,  1.94023812e+00,  1.84335744e+00,  1.39925325e+00,\n",
       "        1.09677589e+00,  1.15735745e+00,  7.73807466e-01, -7.33384967e-01,\n",
       "       -1.70766175e+00, -2.13784933e+00, -1.76650012e+00, -8.95091057e-01,\n",
       "       -6.10709302e-02,  1.50791657e+00,  3.80989224e-01, -7.88131595e-01,\n",
       "        1.05684809e-01, -4.65024896e-02,  2.69761264e-01,  5.67756891e-01,\n",
       "       -7.97394514e-01, -1.25238419e+00, -1.04441714e+00, -1.62243998e+00,\n",
       "       -2.36316800e+00, -7.24693418e-01,  6.28445864e-01,  1.53601086e+00,\n",
       "        1.09463370e+00,  1.40802431e+00,  1.37173700e+00,  7.12004006e-01,\n",
       "       -4.95268762e-01, -1.27943158e+00, -5.03028572e-01, -1.53012860e+00,\n",
       "       -6.69696093e-01,  1.04928958e+00, -7.99209654e-01, -8.52461100e-01,\n",
       "        1.45218074e+00,  2.34086084e+00,  1.73564804e+00, -1.00434852e+00,\n",
       "       -4.82817411e-01, -7.31637537e-01, -5.64958394e-01,  5.60022891e-01,\n",
       "       -1.59796581e-01, -6.05642438e-01, -5.63811064e-01, -1.07224989e+00,\n",
       "       -1.14505267e+00,  2.26759285e-01,  1.54424441e+00,  1.27647698e+00,\n",
       "        7.72954345e-01,  8.23930919e-01,  5.56075394e-01, -1.42060888e+00,\n",
       "       -1.62081110e+00, -1.25982523e+00, -2.06164956e+00, -2.19787192e+00,\n",
       "       -3.15314794e+00,  6.43130392e-02,  6.95170641e-01, -6.37049079e-01,\n",
       "        7.59387612e-01,  2.40815401e+00,  1.54626667e+00, -1.38167679e+00,\n",
       "        3.07246625e-01, -8.88799906e-01, -2.33711672e+00, -7.63390183e-01,\n",
       "        4.18121576e-01, -8.30075085e-01, -1.71706724e+00, -9.54315364e-01,\n",
       "        5.69954813e-02,  1.18813634e-01,  2.05517197e+00,  1.07354093e+00,\n",
       "       -6.06351435e-01, -4.77594703e-01, -2.64403749e+00, -2.49791169e+00,\n",
       "       -2.62857461e+00, -3.09823799e+00, -4.05045462e+00, -2.76662683e+00,\n",
       "       -7.33012259e-01,  1.43314734e-01,  5.73163509e-01, -1.83115453e-01,\n",
       "        1.89122707e-01,  1.42379487e+00, -9.54387069e-01, -2.95255280e+00,\n",
       "       -1.10244358e+00, -2.60892677e+00, -3.61131120e+00, -2.39513755e+00,\n",
       "       -1.69298601e+00, -1.78181577e+00, -1.72604883e+00, -1.94640383e-01,\n",
       "        6.26671910e-01,  2.91123301e-01,  8.67819786e-01, -7.09250927e-01,\n",
       "       -6.76721215e-01, -2.08468795e+00, -3.19857240e+00, -3.32351947e+00,\n",
       "       -4.17357779e+00, -3.52186847e+00, -3.75937939e+00, -2.46380210e+00,\n",
       "        1.12501252e+00,  2.13555738e-01,  5.68125188e-01,  1.59251720e-01,\n",
       "        5.13933539e-01, -5.85065126e-01, -2.05808234e+00, -2.88601255e+00,\n",
       "       -2.95516992e+00, -2.33748293e+00, -3.61517286e+00, -4.26741457e+00,\n",
       "       -3.00207329e+00, -2.71472836e+00, -1.57472289e+00, -5.05571425e-01,\n",
       "       -3.67241874e-02, -7.32164443e-01, -1.42646253e+00, -2.01456761e+00,\n",
       "       -1.79560435e+00, -1.33034146e+00, -2.07703733e+00, -2.30064106e+00,\n",
       "       -3.83300424e+00, -2.05023265e+00, -1.99850726e+00, -1.84859586e+00,\n",
       "        1.18471384e+00, -1.92524359e-01,  4.26217109e-01,  2.21731246e-01,\n",
       "        3.19886804e-01, -8.88319552e-01, -5.09001970e-01, -3.29282331e+00,\n",
       "       -3.94548941e+00, -1.78714395e+00, -2.02546430e+00, -1.76102793e+00,\n",
       "       -1.28414214e+00, -4.98394459e-01,  2.40876362e-01, -1.25271571e+00,\n",
       "       -1.35531998e+00, -1.76674068e+00, -1.17093265e+00, -1.16455293e+00,\n",
       "       -1.56000161e+00, -4.66212690e-01, -1.96025622e+00, -1.41312349e+00,\n",
       "       -2.72673345e+00, -1.95512295e+00, -9.55627441e-01, -8.76631677e-01,\n",
       "        5.47499120e-01,  4.63373989e-01,  1.61545038e+00, -1.66660428e-01,\n",
       "        5.54356098e-01,  7.30065107e-02, -2.24873590e+00, -5.30178928e+00,\n",
       "       -7.13162243e-01,  3.00657362e-01,  8.04036736e-01,  8.59516740e-01,\n",
       "       -1.01399279e+00, -7.40795732e-01,  2.43264794e-01, -2.82615781e-01,\n",
       "       -1.36364734e+00, -1.59622717e+00, -8.68598700e-01, -8.76267612e-01,\n",
       "       -1.53979802e+00, -1.32236369e-02, -1.95941699e+00, -7.69543707e-01,\n",
       "       -1.03945792e+00, -2.33465934e+00, -1.61995590e+00, -1.50444031e+00,\n",
       "        2.40595317e+00,  1.38085854e+00,  8.57262671e-01,  3.02536130e-01,\n",
       "       -9.41758975e-02,  2.56799996e-01, -4.00475174e-01, -3.21911842e-01,\n",
       "        2.69714427e+00,  2.46832943e+00,  1.73915517e+00,  1.03364956e+00,\n",
       "       -3.79369378e-01, -1.43550694e+00, -9.11598742e-01, -1.24359787e+00,\n",
       "       -2.35485721e+00, -1.24773479e+00, -1.11235774e+00, -7.65727937e-01,\n",
       "       -5.64132452e-01,  3.15567702e-01, -1.52568185e+00,  2.51434326e-01,\n",
       "        2.68458277e-01,  9.10334522e-04, -8.37899864e-01, -1.06448746e+00,\n",
       "       -9.62962747e-01,  1.10598552e+00, -2.11884454e-01,  4.63275522e-01,\n",
       "       -2.33694509e-01,  3.11663263e-02, -1.60413253e+00,  3.16961432e+00,\n",
       "        4.13716650e+00,  2.17769861e+00,  8.31795216e-01,  2.62204337e+00,\n",
       "        1.98921776e+00, -9.85916436e-01, -1.54116631e+00,  5.21427998e-03,\n",
       "        1.20301533e+00,  9.38203514e-01,  1.03548956e+00,  3.28119516e-01,\n",
       "        4.65636402e-01, -5.69879055e-01, -1.20925140e+00, -1.53226495e+00,\n",
       "       -2.26409698e+00, -4.70060050e-01, -4.30382609e-01, -2.44482756e-01,\n",
       "       -6.23499870e-01,  3.74720991e-01, -6.04810417e-01, -3.52365911e-01,\n",
       "        1.41841620e-01, -1.70459464e-01, -2.66246915e-01, -1.89365953e-01,\n",
       "       -1.10225391e+00, -1.84237742e+00, -4.19678271e-01,  2.25492644e+00,\n",
       "        3.43214130e+00,  3.00772071e+00,  1.29697061e+00,  2.15943289e+00,\n",
       "        1.59717345e+00,  1.09013319e+00,  3.00925803e+00,  2.75167346e+00,\n",
       "        4.06935871e-01, -1.06019545e+00,  1.07495420e-01,  1.82868946e+00,\n",
       "        1.32400706e-01, -1.49801984e-01,  9.07749593e-01, -1.23275153e-01,\n",
       "       -4.99724835e-01,  2.31092620e+00,  1.58353329e-01, -3.76541823e-01,\n",
       "       -3.06747437e-01,  3.39852214e-01,  1.30050197e-01, -2.13305950e-01,\n",
       "        2.21341372e+00,  3.49542260e+00,  2.75314426e+00,  1.19597888e+00,\n",
       "        2.06528854e+00,  5.13729858e+00,  5.38020945e+00,  3.03855729e+00,\n",
       "        3.64858699e+00,  5.85819340e+00,  3.54237127e+00,  3.81304526e+00,\n",
       "        4.05813122e+00,  6.13955069e+00,  5.73213434e+00,  2.76121998e+00,\n",
       "        5.74016035e-01,  2.03859234e+00,  1.42924631e+00,  2.66918254e+00,\n",
       "       -1.89523891e-01,  2.97066364e-02,  1.77119136e-01,  3.10248345e-01],\n",
       "      dtype=float32)"
      ]
     },
     "execution_count": 19,
     "metadata": {},
     "output_type": "execute_result"
    }
   ],
   "source": [
    "dphi_dx_test[0]"
   ]
  },
  {
   "cell_type": "code",
   "execution_count": 20,
   "metadata": {},
   "outputs": [],
   "source": [
    "dphi_dx_test_non_robust = dphi_dx_test"
   ]
  },
  {
   "cell_type": "code",
   "execution_count": 21,
   "metadata": {},
   "outputs": [
    {
     "data": {
      "text/plain": [
       "0.8664375"
      ]
     },
     "execution_count": 21,
     "metadata": {},
     "output_type": "execute_result"
    }
   ],
   "source": [
    "np.mean(np.abs(dphi_dx_test_non_robust))"
   ]
  },
  {
   "cell_type": "code",
   "execution_count": 22,
   "metadata": {},
   "outputs": [],
   "source": [
    "adv_images_fgsm = model_non_robust.fgsm_np(sess_non_robust, x_test_flat, y_test, 0.10)"
   ]
  },
  {
   "cell_type": "code",
   "execution_count": 23,
   "metadata": {},
   "outputs": [
    {
     "data": {
      "text/plain": [
       "<matplotlib.image.AxesImage at 0x15925c710>"
      ]
     },
     "execution_count": 23,
     "metadata": {},
     "output_type": "execute_result"
    },
    {
     "data": {
      "image/png": "[encoded data removed]",
      "text/plain": [
       "<Figure size 432x288 with 1 Axes>"
      ]
     },
     "metadata": {
      "needs_background": "light"
     },
     "output_type": "display_data"
    }
   ],
   "source": [
    "test_image = adv_images_fgsm[0]\n",
    "two_d = test_image.reshape((28,28))\n",
    "plt.imshow(two_d, cmap = plt.cm.binary)"
   ]
  },
  {
   "cell_type": "code",
   "execution_count": 24,
   "metadata": {},
   "outputs": [],
   "source": [
    "diff_fgsm = x_test_flat[0] - adv_images_fgsm[0]"
   ]
  },
  {
   "cell_type": "code",
   "execution_count": 25,
   "metadata": {},
   "outputs": [
    {
     "data": {
      "text/plain": [
       "array([ 0.1       ,  0.1       , -0.1       ,  0.1       ,  0.1       ,\n",
       "        0.1       ,  0.1       ,  0.1       , -0.1       ,  0.1       ,\n",
       "       -0.1       , -0.1       , -0.1       , -0.1       , -0.1       ,\n",
       "       -0.1       ,  0.1       , -0.1       , -0.1       , -0.1       ,\n",
       "       -0.1       , -0.1       , -0.1       ,  0.1       , -0.1       ,\n",
       "        0.1       ,  0.1       , -0.1       , -0.1       , -0.1       ,\n",
       "       -0.1       , -0.1       ,  0.1       , -0.1       , -0.1       ,\n",
       "       -0.1       , -0.1       , -0.1       , -0.1       , -0.1       ,\n",
       "       -0.1       , -0.1       , -0.1       , -0.1       , -0.1       ,\n",
       "       -0.1       , -0.1       , -0.1       , -0.1       , -0.1       ,\n",
       "       -0.1       , -0.1       ,  0.1       , -0.1       ,  0.1       ,\n",
       "       -0.1       , -0.1       ,  0.1       , -0.1       ,  0.1       ,\n",
       "        0.1       ,  0.1       , -0.1       , -0.1       , -0.1       ,\n",
       "       -0.1       , -0.1       , -0.1       , -0.1       , -0.1       ,\n",
       "       -0.1       , -0.1       , -0.1       , -0.1       , -0.1       ,\n",
       "       -0.1       , -0.1       , -0.1       , -0.1       , -0.1       ,\n",
       "       -0.1       ,  0.1       , -0.1       , -0.1       ,  0.1       ,\n",
       "       -0.1       ,  0.1       ,  0.1       , -0.1       ,  0.1       ,\n",
       "       -0.1       , -0.1       , -0.1       , -0.1       ,  0.1       ,\n",
       "        0.1       , -0.1       , -0.1       , -0.1       , -0.1       ,\n",
       "       -0.1       , -0.1       , -0.1       , -0.1       , -0.1       ,\n",
       "       -0.1       , -0.1       , -0.1       , -0.1       , -0.1       ,\n",
       "       -0.1       , -0.1       , -0.1       , -0.1       ,  0.1       ,\n",
       "        0.1       ,  0.1       ,  0.1       , -0.1       , -0.1       ,\n",
       "        0.1       , -0.1       , -0.1       , -0.1       , -0.1       ,\n",
       "       -0.1       , -0.1       , -0.1       , -0.1       , -0.1       ,\n",
       "       -0.1       , -0.1       , -0.1       ,  0.1       ,  0.1       ,\n",
       "        0.1       , -0.1       , -0.1       , -0.1       , -0.1       ,\n",
       "        0.1       ,  0.1       , -0.1       , -0.1       , -0.1       ,\n",
       "        0.1       ,  0.1       ,  0.1       , -0.1       , -0.1       ,\n",
       "       -0.1       , -0.1       , -0.1       , -0.1       , -0.1       ,\n",
       "       -0.1       , -0.1       , -0.1       , -0.1       , -0.1       ,\n",
       "       -0.1       , -0.1       , -0.1       , -0.1       , -0.1       ,\n",
       "       -0.1       , -0.1       , -0.1       , -0.1       ,  0.1       ,\n",
       "        0.1       ,  0.1       ,  0.1       ,  0.1       ,  0.1       ,\n",
       "        0.1       ,  0.1       ,  0.1       , -0.1       , -0.1       ,\n",
       "       -0.1       , -0.1       , -0.1       , -0.1       , -0.1       ,\n",
       "       -0.1       , -0.1       , -0.1       , -0.1       , -0.1       ,\n",
       "       -0.1       , -0.1       , -0.1       , -0.1       , -0.1       ,\n",
       "        0.1       ,  0.1       ,  0.1       ,  0.1       ,  0.1       ,\n",
       "        0.1       ,  0.1       ,  0.09999998,  0.10000001,  0.1       ,\n",
       "        0.09999997,  0.10000001,  0.1       ,  0.1       , -0.1       ,\n",
       "       -0.1       , -0.1       ,  0.1       ,  0.1       ,  0.1       ,\n",
       "        0.1       , -0.1       , -0.1       , -0.1       , -0.1       ,\n",
       "       -0.1       , -0.1       , -0.1       , -0.1       ,  0.1       ,\n",
       "        0.1       ,  0.1       ,  0.1       ,  0.1       ,  0.1       ,\n",
       "        0.10000002,  0.10000002,  0.10000002,  0.10000002,  0.10000002,\n",
       "        0.10000002, -0.10000004, -0.10000004,  0.10000001, -0.10000004,\n",
       "        0.10000001,  0.10000001,  0.10000001,  0.10000001,  0.1       ,\n",
       "       -0.10000001, -0.1       , -0.1       , -0.1       , -0.1       ,\n",
       "       -0.1       , -0.1       ,  0.1       ,  0.1       , -0.1       ,\n",
       "        0.1       ,  0.1       ,  0.1       ,  0.09999998,  0.09999999,\n",
       "       -0.10000001, -0.1       ,  0.1       ,  0.10000002,  0.10000002,\n",
       "        0.10000002,  0.10000002,  0.10000002,  0.10000002,  0.10000002,\n",
       "        0.10000002,  0.10000002,  0.10000002,  0.09999997,  0.1       ,\n",
       "       -0.1       , -0.1       , -0.1       , -0.1       ,  0.1       ,\n",
       "        0.1       ,  0.1       ,  0.1       ,  0.1       , -0.1       ,\n",
       "       -0.1       , -0.1       , -0.1       , -0.1       ,  0.1       ,\n",
       "        0.1       ,  0.1       ,  0.09999998,  0.1       , -0.10000001,\n",
       "        0.09999998,  0.09999998,  0.10000001,  0.1       ,  0.10000002,\n",
       "        0.10000002,  0.09999999, -0.1       , -0.1       , -0.1       ,\n",
       "       -0.1       , -0.1       , -0.1       ,  0.1       ,  0.1       ,\n",
       "        0.1       ,  0.1       ,  0.1       , -0.1       ,  0.1       ,\n",
       "        0.1       ,  0.1       ,  0.1       ,  0.1       ,  0.1       ,\n",
       "       -0.1       , -0.1       , -0.1       ,  0.1       ,  0.1       ,\n",
       "        0.1       ,  0.09999998,  0.10000002,  0.10000001,  0.1       ,\n",
       "       -0.1       , -0.1       , -0.1       , -0.1       , -0.1       ,\n",
       "       -0.1       ,  0.1       ,  0.1       ,  0.1       ,  0.1       ,\n",
       "        0.1       ,  0.1       , -0.1       ,  0.1       ,  0.1       ,\n",
       "        0.1       , -0.1       , -0.1       , -0.1       , -0.1       ,\n",
       "       -0.1       ,  0.1       ,  0.1       ,  0.1       ,  0.10000002,\n",
       "        0.10000002, -0.1       ,  0.1       ,  0.1       , -0.1       ,\n",
       "       -0.1       , -0.1       , -0.1       , -0.1       , -0.1       ,\n",
       "        0.1       ,  0.1       ,  0.1       ,  0.1       , -0.1       ,\n",
       "       -0.1       ,  0.1       , -0.1       , -0.1       ,  0.1       ,\n",
       "       -0.1       , -0.1       , -0.1       , -0.1       , -0.1       ,\n",
       "        0.1       ,  0.09999996,  0.10000002, -0.09999997, -0.10000001,\n",
       "        0.1       ,  0.1       , -0.1       ,  0.1       ,  0.1       ,\n",
       "       -0.1       ,  0.1       , -0.1       ,  0.1       ,  0.1       ,\n",
       "       -0.1       ,  0.1       , -0.1       , -0.1       , -0.1       ,\n",
       "        0.1       ,  0.1       , -0.1       , -0.1       , -0.1       ,\n",
       "       -0.1       , -0.1       , -0.1       ,  0.10000001,  0.10000002,\n",
       "        0.10000002,  0.10000001,  0.1       ,  0.1       ,  0.1       ,\n",
       "        0.1       ,  0.1       ,  0.1       ,  0.1       , -0.1       ,\n",
       "       -0.1       ,  0.1       ,  0.1       ,  0.1       ,  0.1       ,\n",
       "        0.1       ,  0.1       , -0.1       , -0.1       , -0.1       ,\n",
       "       -0.1       , -0.1       , -0.1       , -0.1       , -0.1       ,\n",
       "        0.1       ,  0.09999997,  0.10000002,  0.10000001,  0.1       ,\n",
       "        0.1       ,  0.1       ,  0.1       ,  0.1       , -0.1       ,\n",
       "        0.1       ,  0.1       , -0.1       ,  0.1       ,  0.1       ,\n",
       "       -0.1       , -0.1       ,  0.1       ,  0.1       ,  0.1       ,\n",
       "        0.1       ,  0.1       , -0.1       , -0.1       , -0.1       ,\n",
       "       -0.1       , -0.1       , -0.1       ,  0.1       ,  0.10000001,\n",
       "        0.10000002,  0.10000001,  0.1       ,  0.1       ,  0.1       ,\n",
       "        0.1       , -0.1       , -0.1       , -0.1       , -0.1       ,\n",
       "       -0.1       , -0.1       ,  0.1       ,  0.1       , -0.1       ,\n",
       "        0.1       ,  0.1       ,  0.1       ,  0.1       , -0.1       ,\n",
       "       -0.1       , -0.1       , -0.1       , -0.1       , -0.1       ,\n",
       "        0.1       ,  0.09999999,  0.10000002,  0.10000001,  0.1       ,\n",
       "        0.1       , -0.1       , -0.1       , -0.1       , -0.1       ,\n",
       "       -0.1       ,  0.1       , -0.1       , -0.1       ,  0.1       ,\n",
       "        0.1       ,  0.1       , -0.1       , -0.1       , -0.1       ,\n",
       "       -0.1       ,  0.1       , -0.1       , -0.1       , -0.1       ,\n",
       "       -0.1       , -0.1       ,  0.1       ,  0.09999998,  0.10000002,\n",
       "        0.10000002,  0.1       ,  0.1       , -0.1       , -0.1       ,\n",
       "       -0.1       , -0.1       , -0.1       , -0.1       ,  0.1       ,\n",
       "        0.1       , -0.1       ,  0.1       ,  0.1       ,  0.1       ,\n",
       "       -0.1       ,  0.1       , -0.1       , -0.1       , -0.1       ,\n",
       "        0.1       , -0.1       , -0.1       , -0.1       , -0.1       ,\n",
       "       -0.1       ,  0.10000002,  0.10000002, -0.10000004, -0.1       ,\n",
       "       -0.1       , -0.1       , -0.1       , -0.1       , -0.1       ,\n",
       "       -0.1       , -0.1       , -0.1       ,  0.1       , -0.1       ,\n",
       "        0.1       ,  0.1       , -0.1       , -0.1       , -0.1       ,\n",
       "       -0.1       , -0.1       , -0.1       , -0.1       , -0.1       ,\n",
       "       -0.1       , -0.1       ,  0.1       ,  0.10000001,  0.10000002,\n",
       "       -0.10000003, -0.10000002, -0.1       , -0.1       , -0.1       ,\n",
       "       -0.1       , -0.1       , -0.1       , -0.1       ,  0.1       ,\n",
       "        0.1       ,  0.1       ,  0.1       ,  0.1       , -0.1       ,\n",
       "       -0.1       , -0.1       , -0.1       , -0.1       , -0.1       ,\n",
       "       -0.1       , -0.1       , -0.1       , -0.1       , -0.1       ,\n",
       "       -0.10000001, -0.09999996, -0.09999996, -0.10000001, -0.1       ,\n",
       "       -0.1       , -0.1       , -0.1       , -0.1       , -0.1       ,\n",
       "       -0.1       , -0.1       ,  0.1       , -0.1       ,  0.1       ,\n",
       "        0.1       ,  0.1       , -0.1       , -0.1       , -0.1       ,\n",
       "       -0.1       , -0.1       , -0.1       , -0.1       , -0.1       ,\n",
       "       -0.1       ,  0.1       , -0.1       , -0.10000003, -0.09999996,\n",
       "       -0.1       , -0.1       , -0.1       , -0.1       , -0.1       ,\n",
       "       -0.1       , -0.1       , -0.1       , -0.1       , -0.1       ,\n",
       "        0.1       ,  0.1       ,  0.1       , -0.1       ,  0.1       ,\n",
       "       -0.1       , -0.1       , -0.1       , -0.1       ,  0.1       ,\n",
       "        0.1       ,  0.1       , -0.1       , -0.1       ,  0.1       ,\n",
       "       -0.10000005, -0.09999996, -0.09999996, -0.10000001, -0.1       ,\n",
       "       -0.1       , -0.1       , -0.1       , -0.1       , -0.1       ,\n",
       "       -0.1       , -0.1       , -0.1       ,  0.1       ,  0.1       ,\n",
       "        0.1       ,  0.1       , -0.1       ,  0.1       , -0.1       ,\n",
       "        0.1       ,  0.1       ,  0.1       ,  0.1       ,  0.1       ,\n",
       "       -0.1       , -0.1       , -0.10000001, -0.09999997, -0.09999996,\n",
       "       -0.09999996, -0.10000001, -0.1       , -0.1       , -0.1       ,\n",
       "       -0.1       , -0.1       ,  0.1       ,  0.1       , -0.1       ,\n",
       "       -0.1       , -0.1       ,  0.1       , -0.1       ,  0.1       ,\n",
       "       -0.1       , -0.1       , -0.1       ,  0.1       ,  0.1       ,\n",
       "        0.1       ,  0.1       ,  0.1       ,  0.1       , -0.1       ,\n",
       "       -0.1       , -0.09999996,  0.10000002,  0.10000002,  0.1       ,\n",
       "       -0.1       ,  0.1       , -0.1       , -0.1       , -0.1       ,\n",
       "       -0.1       , -0.1       , -0.1       , -0.1       , -0.1       ,\n",
       "        0.1       , -0.1       , -0.1       ,  0.1       , -0.1       ,\n",
       "       -0.1       , -0.1       , -0.1       , -0.1       ,  0.1       ,\n",
       "        0.1       ,  0.1       ,  0.1       ,  0.09999999,  0.10000002,\n",
       "        0.10000001,  0.1       ,  0.1       ,  0.1       ,  0.1       ,\n",
       "       -0.1       ,  0.1       ,  0.1       ,  0.1       ,  0.1       ,\n",
       "        0.1       ,  0.1       , -0.1       ,  0.1       ,  0.1       ,\n",
       "       -0.1       , -0.1       ,  0.1       ,  0.1       , -0.1       ,\n",
       "        0.1       ,  0.1       ,  0.1       ,  0.1       ,  0.1       ,\n",
       "        0.1       ,  0.1       ,  0.1       ,  0.1       ,  0.1       ,\n",
       "        0.1       ,  0.1       ,  0.1       ,  0.1       ,  0.1       ,\n",
       "        0.1       ,  0.1       ,  0.1       ,  0.1       ,  0.1       ,\n",
       "       -0.1       ,  0.1       ,  0.1       ,  0.1       ])"
      ]
     },
     "execution_count": 25,
     "metadata": {},
     "output_type": "execute_result"
    }
   ],
   "source": [
    "diff_fgsm"
   ]
  },
  {
   "cell_type": "code",
   "execution_count": 26,
   "metadata": {},
   "outputs": [],
   "source": [
    "#adv_images_pgd = model_non_robust.pgd_adam_np(sess_non_robust, x_test_flat, y_test, eps = 0.1, eta = 0.5, num_iter = 20)"
   ]
  },
  {
   "cell_type": "code",
   "execution_count": 27,
   "metadata": {},
   "outputs": [
    {
     "name": "stderr",
     "output_type": "stream",
     "text": [
      "Model is being evaluated on PGD points generated using 0.010000 learning rate and 40 iterations\n",
      "I0828 23:47:05.689013 4608517568 feedforward_robust.py:301] Model is being evaluated on PGD points generated using 0.010000 learning rate and 40 iterations\n",
      "W0828 23:47:05.691380 4608517568 deprecation.py:323] From ../feedforward_robust.py:142: all_variables (from tensorflow.python.ops.variables) is deprecated and will be removed after 2017-03-02.\n",
      "Instructions for updating:\n",
      "Please use tf.global_variables instead.\n",
      "W0828 23:47:05.695013 4608517568 deprecation.py:506] From ../feedforward_robust.py:146: calling Zeros.__init__ (from tensorflow.python.ops.init_ops) with dtype is deprecated and will be removed in a future version.\n",
      "Instructions for updating:\n",
      "Call initializer instance with the dtype argument instead of passing it to the constructor\n",
      "W0828 23:47:05.861209 4608517568 deprecation_wrapper.py:119] From ../feedforward_robust.py:157: The name tf.assign is deprecated. Please use tf.compat.v1.assign instead.\n",
      "\n",
      "W0828 23:47:05.862776 4608517568 deprecation_wrapper.py:119] From ../feedforward_robust.py:158: The name tf.train.AdamOptimizer is deprecated. Please use tf.compat.v1.train.AdamOptimizer instead.\n",
      "\n",
      "W0828 23:47:05.987267 4608517568 deprecation.py:323] From /usr/local/lib/python3.7/site-packages/tensorflow/python/util/tf_should_use.py:193: initialize_variables (from tensorflow.python.ops.variables) is deprecated and will be removed after 2017-03-02.\n",
      "Instructions for updating:\n",
      "Use `tf.variables_initializer` instead.\n"
     ]
    },
    {
     "name": "stdout",
     "output_type": "stream",
     "text": [
      "iteration: 0\n",
      "loss 2.308903\n",
      "iteration: 1\n",
      "loss 2.313663\n",
      "iteration: 2\n",
      "loss 2.317685\n",
      "iteration: 3\n",
      "loss 2.321348\n",
      "iteration: 4\n",
      "loss 2.324813\n",
      "iteration: 5\n",
      "loss 2.328184\n",
      "iteration: 6\n",
      "loss 2.331520\n",
      "iteration: 7\n",
      "loss 2.334872\n",
      "iteration: 8\n",
      "loss 2.338239\n",
      "iteration: 9\n",
      "loss 2.341620\n",
      "iteration: 10\n",
      "loss 2.345039\n",
      "iteration: 11\n",
      "loss 2.348501\n",
      "iteration: 12\n",
      "loss 2.352011\n",
      "iteration: 13\n",
      "loss 2.355582\n",
      "iteration: 14\n",
      "loss 2.359222\n",
      "iteration: 15\n",
      "loss 2.362918\n",
      "iteration: 16\n",
      "loss 2.366683\n",
      "iteration: 17\n",
      "loss 2.370516\n",
      "iteration: 18\n",
      "loss 2.374421\n",
      "iteration: 19\n",
      "loss 2.378398\n",
      "iteration: 20\n",
      "loss 2.382452\n",
      "iteration: 21\n",
      "loss 2.386583\n",
      "iteration: 22\n",
      "loss 2.390781\n",
      "iteration: 23\n",
      "loss 2.395047\n",
      "iteration: 24\n",
      "loss 2.399391\n",
      "iteration: 25\n",
      "loss 2.403810\n",
      "iteration: 26\n",
      "loss 2.408301\n",
      "iteration: 27\n",
      "loss 2.412858\n",
      "iteration: 28\n",
      "loss 2.417493\n",
      "iteration: 29\n",
      "loss 2.422202\n",
      "iteration: 30\n",
      "loss 2.426977\n",
      "iteration: 31\n",
      "loss 2.431816\n",
      "iteration: 32\n",
      "loss 2.436721\n",
      "iteration: 33\n",
      "loss 2.441699\n",
      "iteration: 34\n",
      "loss 2.446739\n",
      "iteration: 35\n",
      "loss 2.451855\n",
      "iteration: 36\n",
      "loss 2.457036\n",
      "iteration: 37\n",
      "loss 2.462286\n",
      "iteration: 38\n",
      "loss 2.467609\n",
      "iteration: 39\n",
      "loss 2.473002\n"
     ]
    }
   ],
   "source": [
    "loss_pgd, acc_pgd = model_non_robust.adv_evaluate(sess_non_robust, x_test_flat, y_test, 0.40, pgd = True, eta=1e-2, num_iter = 40)"
   ]
  },
  {
   "cell_type": "code",
   "execution_count": 28,
   "metadata": {},
   "outputs": [
    {
     "data": {
      "text/plain": [
       "0.9528"
      ]
     },
     "execution_count": 28,
     "metadata": {},
     "output_type": "execute_result"
    }
   ],
   "source": [
    "acc_pgd"
   ]
  },
  {
   "cell_type": "code",
   "execution_count": 29,
   "metadata": {},
   "outputs": [
    {
     "ename": "NameError",
     "evalue": "name 'adv_images_pgd' is not defined",
     "output_type": "error",
     "traceback": [
      "\u001b[0;31m---------------------------------------------------------------------------\u001b[0m",
      "\u001b[0;31mNameError\u001b[0m                                 Traceback (most recent call last)",
      "\u001b[0;32m<ipython-input-29-4f3f4cac15de>\u001b[0m in \u001b[0;36m<module>\u001b[0;34m\u001b[0m\n\u001b[0;32m----> 1\u001b[0;31m \u001b[0mtest_image\u001b[0m \u001b[0;34m=\u001b[0m \u001b[0madv_images_pgd\u001b[0m\u001b[0;34m[\u001b[0m\u001b[0;36m0\u001b[0m\u001b[0;34m]\u001b[0m\u001b[0;34m\u001b[0m\u001b[0;34m\u001b[0m\u001b[0m\n\u001b[0m\u001b[1;32m      2\u001b[0m \u001b[0mtwo_d\u001b[0m \u001b[0;34m=\u001b[0m \u001b[0mtest_image\u001b[0m\u001b[0;34m.\u001b[0m\u001b[0mreshape\u001b[0m\u001b[0;34m(\u001b[0m\u001b[0;34m(\u001b[0m\u001b[0;36m28\u001b[0m\u001b[0;34m,\u001b[0m\u001b[0;36m28\u001b[0m\u001b[0;34m)\u001b[0m\u001b[0;34m)\u001b[0m\u001b[0;34m\u001b[0m\u001b[0;34m\u001b[0m\u001b[0m\n\u001b[1;32m      3\u001b[0m \u001b[0mplt\u001b[0m\u001b[0;34m.\u001b[0m\u001b[0mimshow\u001b[0m\u001b[0;34m(\u001b[0m\u001b[0mtwo_d\u001b[0m\u001b[0;34m,\u001b[0m \u001b[0mcmap\u001b[0m \u001b[0;34m=\u001b[0m \u001b[0mplt\u001b[0m\u001b[0;34m.\u001b[0m\u001b[0mcm\u001b[0m\u001b[0;34m.\u001b[0m\u001b[0mbinary\u001b[0m\u001b[0;34m)\u001b[0m\u001b[0;34m\u001b[0m\u001b[0;34m\u001b[0m\u001b[0m\n",
      "\u001b[0;31mNameError\u001b[0m: name 'adv_images_pgd' is not defined"
     ]
    }
   ],
   "source": [
    "test_image = adv_images_pgd[0]\n",
    "two_d = test_image.reshape((28,28))\n",
    "plt.imshow(two_d, cmap = plt.cm.binary)"
   ]
  },
  {
   "cell_type": "code",
   "execution_count": null,
   "metadata": {},
   "outputs": [],
   "source": [
    "difference = test_image - x_test_flat[0]"
   ]
  },
  {
   "cell_type": "code",
   "execution_count": null,
   "metadata": {},
   "outputs": [],
   "source": [
    "max(np.abs(difference))"
   ]
  },
  {
   "cell_type": "markdown",
   "metadata": {},
   "source": [
    "## Trace regularization for first layer"
   ]
  },
  {
   "cell_type": "code",
   "execution_count": null,
   "metadata": {},
   "outputs": [],
   "source": [
    "#Config\n",
    "config = {}\n",
    "config['eps_train'] = 0.1\n",
    "config['eps_test'] = 0.1\n",
    "config['tensorboard_dir'] = \"tb/\"\n",
    "config['weights_dir'] = \"weights/\"\n",
    "\n",
    "config['load_counter'] = 121\n",
    "config['sigma'] = tf.nn.relu\n",
    "\n",
    "config['scope_name'] = \"model_non_robust\""
   ]
  },
  {
   "cell_type": "code",
   "execution_count": null,
   "metadata": {},
   "outputs": [],
   "source": [
    "config['scope_name']"
   ]
  },
  {
   "cell_type": "code",
   "execution_count": null,
   "metadata": {},
   "outputs": [],
   "source": [
    "reg_model, sess_reg = regular_training(config)"
   ]
  },
  {
   "cell_type": "code",
   "execution_count": null,
   "metadata": {},
   "outputs": [],
   "source": [
    "with tf.variable_scope(config['scope_name']) as scope:\n",
    "    weights = reg_model.get_weights_np(sess_reg)"
   ]
  },
  {
   "cell_type": "code",
   "execution_count": null,
   "metadata": {},
   "outputs": [],
   "source": [
    "#With regularization\n",
    "sing_vals_reg = []\n",
    "for (idx, weight_matrix) in enumerate(weights):\n",
    "        sig = plot_singular_values(weight_matrix, idx)\n",
    "        sing_vals_reg.append(sig)"
   ]
  },
  {
   "cell_type": "markdown",
   "metadata": {},
   "source": [
    "**Interpretation** This is pretty interesting. When you penalize the singular values of the first layer, all the other layers start increasing to compensate - I'm guessing to keep the expressiveness high. Probably, if we penalize all the singular values, it may not learn anything?\n",
    "\n",
    "So we still have not suceeded at replicating the singular value spectrum of the robust model - so it is difficult to conclude whether the singular value spectrum is a determinant of adversarial robustness or not"
   ]
  },
  {
   "cell_type": "code",
   "execution_count": null,
   "metadata": {},
   "outputs": [],
   "source": [
    "#With regularization - first layer\n",
    "sing_vals_reg"
   ]
  },
  {
   "cell_type": "code",
   "execution_count": null,
   "metadata": {},
   "outputs": [],
   "source": [
    "#Regular points\n",
    "acts = reg_model.get_activation(sess_reg, x_test_flat)\n",
    "diff, diff_norm = activation_distance(acts)\n",
    "\n",
    "#Adversarial points\n",
    "x_test_flat_adv = reg_model.fgsm_np(sess_reg, x_test_flat, y_test, config['eps_test'])\n",
    "acts_adv = reg_model.get_activation(sess_reg, x_test_flat_adv)\n",
    "diff_adv, diff_norm_adv = activation_distance(acts_adv)"
   ]
  },
  {
   "cell_type": "code",
   "execution_count": null,
   "metadata": {},
   "outputs": [],
   "source": [
    "diff_norm"
   ]
  },
  {
   "cell_type": "code",
   "execution_count": null,
   "metadata": {},
   "outputs": [],
   "source": [
    "diff_norm_adv"
   ]
  },
  {
   "cell_type": "code",
   "execution_count": null,
   "metadata": {},
   "outputs": [],
   "source": [
    "dphi_dx_robust_first_reg = reg_model.get_dphi_dx(sess_reg, x_test_flat)\n",
    "np.mean(np.abs(dphi_dx_robust_first_reg))"
   ]
  },
  {
   "cell_type": "markdown",
   "metadata": {},
   "source": [
    "# Trace regularization for all layers"
   ]
  },
  {
   "cell_type": "code",
   "execution_count": null,
   "metadata": {},
   "outputs": [],
   "source": [
    "#Config\n",
    "config['eps_train'] = 0.1\n",
    "config['eps_test'] = 0.1\n",
    "config['tensorboard_dir'] = \"tb/\"\n",
    "config['weights_dir'] = \"weights/\"\n",
    "config['load_counter'] = 126\n",
    "config['sigma'] = tf.nn.relu\n",
    "config['scope_name'] = \"model_non_robust\""
   ]
  },
  {
   "cell_type": "code",
   "execution_count": null,
   "metadata": {},
   "outputs": [],
   "source": [
    "model_all_reg, sess_all_reg = regular_training(config)"
   ]
  },
  {
   "cell_type": "code",
   "execution_count": null,
   "metadata": {},
   "outputs": [],
   "source": [
    "with tf.variable_scope(config['scope_name']) as scope:\n",
    "    weights = model_all_reg.get_weights_np(sess_all_reg)"
   ]
  },
  {
   "cell_type": "code",
   "execution_count": null,
   "metadata": {},
   "outputs": [],
   "source": [
    "#With regularization\n",
    "sing_vals_all = []\n",
    "for (idx, weight_matrix) in enumerate(weights):\n",
    "        sig = plot_singular_values(weight_matrix, idx)\n",
    "        sing_vals_all.append(sig)"
   ]
  },
  {
   "cell_type": "code",
   "execution_count": null,
   "metadata": {},
   "outputs": [],
   "source": [
    "#Regular points\n",
    "acts = model_all_reg.get_activation(sess_all_reg, x_test_flat)\n",
    "diff, diff_norm = activation_distance(acts)\n",
    "\n",
    "#Adversarial points\n",
    "x_test_flat_adv = model_all_reg.fgsm_np(sess_all_reg, x_test_flat, y_test, config['eps_test'])\n",
    "acts_adv = model_all_reg.get_activation(sess_all_reg, x_test_flat_adv)\n",
    "diff_adv, diff_norm_adv = activation_distance(acts_adv)"
   ]
  },
  {
   "cell_type": "code",
   "execution_count": null,
   "metadata": {},
   "outputs": [],
   "source": [
    "diff_norm"
   ]
  },
  {
   "cell_type": "code",
   "execution_count": null,
   "metadata": {},
   "outputs": [],
   "source": [
    "diff_norm_adv"
   ]
  },
  {
   "cell_type": "code",
   "execution_count": null,
   "metadata": {},
   "outputs": [],
   "source": [
    "dphi_dx_robust_all_reg = reg_model.get_dphi_dx(sess_all_reg, x_test_flat)\n",
    "np.mean(np.abs(dphi_dx_robust_all_reg))"
   ]
  },
  {
   "cell_type": "markdown",
   "metadata": {},
   "source": [
    "# FGSM Adversarial Training"
   ]
  },
  {
   "cell_type": "code",
   "execution_count": null,
   "metadata": {},
   "outputs": [],
   "source": [
    "#Config\n",
    "config['eps_train'] = 0.1\n",
    "config['eps_test'] = 0.1\n",
    "config['tensorboard_dir'] = \"tb/\"\n",
    "config['weights_dir'] = \"weights/\"\n",
    "config['load_counter'] = 75\n",
    "config['sigma'] = tf.nn.relu\n",
    "config['scope_name'] = \"model_robust\""
   ]
  },
  {
   "cell_type": "code",
   "execution_count": null,
   "metadata": {},
   "outputs": [],
   "source": [
    "model_rob, sess_rob = adversarial_training(config)"
   ]
  },
  {
   "cell_type": "code",
   "execution_count": null,
   "metadata": {},
   "outputs": [],
   "source": [
    "with tf.variable_scope(config['scope_name']) as scope:\n",
    "    weights_robust = model_rob.get_weights_np(sess_rob)"
   ]
  },
  {
   "cell_type": "code",
   "execution_count": null,
   "metadata": {},
   "outputs": [],
   "source": [
    "sing_vals_robust = []\n",
    "for (idx, weight_matrix) in enumerate(weights_robust):\n",
    "    sig = plot_singular_values(weight_matrix, idx)\n",
    "    sing_vals_robust.append(sig)"
   ]
  },
  {
   "cell_type": "code",
   "execution_count": null,
   "metadata": {},
   "outputs": [],
   "source": [
    "dphi_dx_robust = model_rob.get_dphi_dx(sess_rob, x_test_flat)\n",
    "np.mean(np.abs(dphi_dx_robust))"
   ]
  },
  {
   "cell_type": "code",
   "execution_count": null,
   "metadata": {},
   "outputs": [],
   "source": [
    "np.mean(np.abs(dphi_dx_robust))"
   ]
  },
  {
   "cell_type": "code",
   "execution_count": null,
   "metadata": {},
   "outputs": [],
   "source": [
    "sing_vals[0]"
   ]
  },
  {
   "cell_type": "code",
   "execution_count": null,
   "metadata": {},
   "outputs": [],
   "source": [
    "sing_vals_robust[0]"
   ]
  },
  {
   "cell_type": "code",
   "execution_count": null,
   "metadata": {},
   "outputs": [],
   "source": [
    "sing_vals[1]"
   ]
  },
  {
   "cell_type": "code",
   "execution_count": null,
   "metadata": {},
   "outputs": [],
   "source": [
    "sing_vals_robust[1]"
   ]
  },
  {
   "cell_type": "code",
   "execution_count": null,
   "metadata": {},
   "outputs": [],
   "source": [
    "sing_vals[2]"
   ]
  },
  {
   "cell_type": "code",
   "execution_count": null,
   "metadata": {},
   "outputs": [],
   "source": [
    "sing_vals_robust[2]"
   ]
  },
  {
   "cell_type": "code",
   "execution_count": null,
   "metadata": {},
   "outputs": [],
   "source": [
    "sing_vals[-1]"
   ]
  },
  {
   "cell_type": "code",
   "execution_count": null,
   "metadata": {},
   "outputs": [],
   "source": [
    "sing_vals_robust[-1]"
   ]
  },
  {
   "cell_type": "code",
   "execution_count": null,
   "metadata": {},
   "outputs": [],
   "source": [
    "#Regular points\n",
    "acts = model_rob.get_activation(sess_rob, x_test_flat)\n",
    "diff, diff_norm = activation_distance(acts)\n",
    "\n",
    "#Adversarial points\n",
    "x_test_flat_adv = model_rob.fgsm_np(sess_rob, x_test_flat, y_test, config['eps_test'])\n",
    "acts_adv = model_rob.get_activation(sess_rob, x_test_flat_adv)\n",
    "diff_adv, diff_norm_adv = activation_distance(acts_adv)"
   ]
  },
  {
   "cell_type": "code",
   "execution_count": null,
   "metadata": {},
   "outputs": [],
   "source": [
    "diff_norm"
   ]
  },
  {
   "cell_type": "code",
   "execution_count": null,
   "metadata": {},
   "outputs": [],
   "source": [
    "diff_norm_adv"
   ]
  },
  {
   "cell_type": "markdown",
   "metadata": {},
   "source": [
    "# Comparison plots"
   ]
  },
  {
   "cell_type": "code",
   "execution_count": null,
   "metadata": {},
   "outputs": [],
   "source": [
    "norm_factor_non = sing_vals[0][0]\n",
    "sing_non = sing_vals[0]/norm_factor_non\n",
    "norm_factor_rob = sing_vals_robust[0][0]\n",
    "sing_rob = sing_vals_robust[0]/norm_factor_rob\n",
    "\n",
    "plt.loglog(range(len(sing_vals[0])), sing_non , label = \"non robust\")\n",
    "plt.loglog(range(len(sing_vals_robust[0])), sing_rob , label = \"robust\")\n",
    "plt.legend(loc = \"upper right\")"
   ]
  },
  {
   "cell_type": "code",
   "execution_count": null,
   "metadata": {},
   "outputs": [],
   "source": [
    "plt.semilogy(range(len(sing_vals[0])), sing_non , label = \"non robust\")\n",
    "plt.semilogy(range(len(sing_vals_robust[0])), sing_rob , label = \"robust\")\n",
    "plt.legend(loc = \"upper right\")"
   ]
  },
  {
   "cell_type": "code",
   "execution_count": null,
   "metadata": {},
   "outputs": [],
   "source": [
    "plt.plot(range(len(sing_vals[0])), sing_non , label = \"non robust\")\n",
    "plt.plot(range(len(sing_vals_robust[0])), sing_rob , label = \"robust\")\n",
    "plt.legend(loc = \"upper right\")"
   ]
  },
  {
   "cell_type": "code",
   "execution_count": null,
   "metadata": {},
   "outputs": [],
   "source": []
  },
  {
   "cell_type": "code",
   "execution_count": null,
   "metadata": {},
   "outputs": [],
   "source": [
    "def all_plots_layer_k(k):\n",
    "    norm_factor_non = sing_vals[k][0]\n",
    "    print(\"-----NORM FACTOR NON---\")\n",
    "    print(norm_factor_non)\n",
    "    sing_non = sing_vals[k]/norm_factor_non\n",
    "    norm_factor_rob = sing_vals_robust[k][0]\n",
    "    print(\"-----NORM FACTOR ROB---\")\n",
    "    print(norm_factor_rob)\n",
    "    sing_rob = sing_vals_robust[k]/norm_factor_rob\n",
    "    plt.loglog(range(len(sing_vals[k])), sing_non , label = \"non robust\")\n",
    "    plt.loglog(range(len(sing_vals_robust[k])), sing_rob , label = \"robust\")\n",
    "    plt.legend(loc = \"upper right\")\n",
    "    plt.show()\n",
    "    plt.semilogy(range(len(sing_vals[k])), sing_non , label = \"non robust\")\n",
    "    plt.semilogy(range(len(sing_vals_robust[k])), sing_rob , label = \"robust\")\n",
    "    plt.legend(loc = \"upper right\")\n",
    "    plt.show()\n",
    "    plt.plot(range(len(sing_vals[k])), sing_non , label = \"non robust\")\n",
    "    plt.plot(range(len(sing_vals_robust[k])), sing_rob , label = \"robust\")\n",
    "    plt.legend(loc = \"upper right\")\n",
    "    plt.show()"
   ]
  },
  {
   "cell_type": "code",
   "execution_count": null,
   "metadata": {},
   "outputs": [],
   "source": [
    "num_layers = len(sing_vals)"
   ]
  },
  {
   "cell_type": "code",
   "execution_count": null,
   "metadata": {},
   "outputs": [],
   "source": [
    "num_layers"
   ]
  },
  {
   "cell_type": "code",
   "execution_count": null,
   "metadata": {},
   "outputs": [],
   "source": [
    "for k in range(8):\n",
    "    print(k)\n",
    "    print(\"-----------\")\n",
    "    all_plots_layer_k(k)\n",
    "    print(\"-----------\")"
   ]
  },
  {
   "cell_type": "code",
   "execution_count": null,
   "metadata": {},
   "outputs": [],
   "source": [
    "for k in range(8):\n",
    "    print(k)\n",
    "    print(\"-----------\")\n",
    "    all_plots_layer_k(k)\n",
    "    print(\"-----------\")"
   ]
  }
 ],
 "metadata": {
  "kernelspec": {
   "display_name": "Python 3",
   "language": "python",
   "name": "python3"
  },
  "language_info": {
   "codemirror_mode": {
    "name": "ipython",
    "version": 3
   },
   "file_extension": ".py",
   "mimetype": "text/x-python",
   "name": "python",
   "nbconvert_exporter": "python",
   "pygments_lexer": "ipython3",
   "version": "3.7.3"
  }
 },
 "nbformat": 4,
 "nbformat_minor": 2
}

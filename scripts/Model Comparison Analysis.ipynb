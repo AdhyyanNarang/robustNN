{
 "cells": [
  {
   "cell_type": "code",
   "execution_count": 1,
   "metadata": {},
   "outputs": [
    {
     "name": "stderr",
     "output_type": "stream",
     "text": [
      "WARNING: Logging before flag parsing goes to stderr.\n",
      "W0927 08:51:50.727205 4424283584 deprecation_wrapper.py:119] From /usr/local/lib/python3.7/site-packages/cleverhans/utils_tf.py:341: The name tf.GraphKeys is deprecated. Please use tf.compat.v1.GraphKeys instead.\n",
      "\n"
     ]
    }
   ],
   "source": [
    "#Imports\n",
    "import logging\n",
    "import os, random, time, sys\n",
    "import numpy as np\n",
    "import tensorflow as tf\n",
    "import tensorflow.contrib.layers as layers\n",
    "sys.path.append('../')\n",
    "sys.path.append('../utils/')\n",
    "import feedforward_robust as ffr\n",
    "import ipdb\n",
    "from utils.mnist_corruption import *\n",
    "from utils.utils_models import *\n",
    "from utils.utils_analysis import *\n",
    "from utils.utils_feedforward import *\n",
    "\n",
    "#Read the counter\n",
    "ctr_file = \"counter.txt\"\n",
    "f = open(ctr_file, 'r')\n",
    "counter = f.readline()\n",
    "f.close()\n",
    "\n",
    "counter = 1 + int(counter)\n",
    "f = open(ctr_file,'w')\n",
    "f.write('{}'.format(counter))\n",
    "f.close()\n",
    "logfile = \"logs/results_\" + str(counter) + \".log\"\n",
    "\n",
    "logger = logging.getLogger(\"robustness\")\n",
    "logger.setLevel(logging.DEBUG)\n",
    "fh = logging.FileHandler(logfile)\n",
    "fh.setLevel(logging.INFO)\n",
    "formatter = logging.Formatter('%(asctime)s - %(name)s - %(levelname)s - %(message)s')\n",
    "fh.setFormatter(formatter)\n",
    "logger.addHandler(fh)\n",
    "logger.addHandler(logging.StreamHandler())"
   ]
  },
  {
   "cell_type": "code",
   "execution_count": 2,
   "metadata": {},
   "outputs": [],
   "source": [
    "%load_ext autoreload\n",
    "%autoreload 2"
   ]
  },
  {
   "cell_type": "code",
   "execution_count": 3,
   "metadata": {},
   "outputs": [],
   "source": [
    "#Setup - Dataset stuff\n",
    "dataset, input_shape, num_classes = get_dataset()\n",
    "x_train_flat, y_train = dataset[0] \n",
    "x_test_flat, y_test = dataset[1] \n",
    "hidden_sizes = [32,32,32,32,32,32,32]"
   ]
  },
  {
   "cell_type": "code",
   "execution_count": 4,
   "metadata": {},
   "outputs": [
    {
     "data": {
      "text/plain": [
       "(60000, 784)"
      ]
     },
     "execution_count": 4,
     "metadata": {},
     "output_type": "execute_result"
    }
   ],
   "source": [
    "x_train_flat.shape"
   ]
  },
  {
   "cell_type": "markdown",
   "metadata": {},
   "source": [
    "### Trying out different corruptions "
   ]
  },
  {
   "cell_type": "code",
   "execution_count": 5,
   "metadata": {},
   "outputs": [],
   "source": [
    "paths = np.load(\"paths_regularized.npy\", allow_pickle = True)"
   ]
  },
  {
   "cell_type": "code",
   "execution_count": 6,
   "metadata": {},
   "outputs": [
    {
     "data": {
      "text/plain": [
       "array(defaultdict(<class 'list'>, {'non_robust': ['weights/model_375.ckpt', 'weights/model_381.ckpt', 'weights/model_387.ckpt', 'weights/model_393.ckpt', 'weights/model_399.ckpt', 'weights/model_405.ckpt', 'weights/model_411.ckpt', 'weights/model_417.ckpt'], 'l1': ['weights/model_376.ckpt', 'weights/model_382.ckpt', 'weights/model_388.ckpt', 'weights/model_394.ckpt', 'weights/model_400.ckpt', 'weights/model_406.ckpt', 'weights/model_412.ckpt', 'weights/model_418.ckpt'], 'op': ['weights/model_377.ckpt', 'weights/model_383.ckpt', 'weights/model_389.ckpt', 'weights/model_395.ckpt', 'weights/model_401.ckpt', 'weights/model_407.ckpt', 'weights/model_413.ckpt', 'weights/model_419.ckpt'], 'trace_first': ['weights/model_378.ckpt', 'weights/model_384.ckpt', 'weights/model_390.ckpt', 'weights/model_396.ckpt', 'weights/model_402.ckpt', 'weights/model_408.ckpt', 'weights/model_414.ckpt', 'weights/model_420.ckpt'], 'trace_all': ['weights/model_379.ckpt', 'weights/model_385.ckpt', 'weights/model_391.ckpt', 'weights/model_397.ckpt', 'weights/model_403.ckpt', 'weights/model_409.ckpt', 'weights/model_415.ckpt', 'weights/model_421.ckpt'], 'fgsm': ['weights/model_380.ckpt', 'weights/model_386.ckpt', 'weights/model_392.ckpt', 'weights/model_398.ckpt', 'weights/model_404.ckpt', 'weights/model_410.ckpt', 'weights/model_416.ckpt', 'weights/model_422.ckpt']}),\n",
       "      dtype=object)"
      ]
     },
     "execution_count": 6,
     "metadata": {},
     "output_type": "execute_result"
    }
   ],
   "source": [
    "paths"
   ]
  },
  {
   "cell_type": "code",
   "execution_count": 7,
   "metadata": {},
   "outputs": [
    {
     "data": {
      "text/plain": [
       "defaultdict(list,\n",
       "            {'non_robust': ['weights/model_375.ckpt',\n",
       "              'weights/model_381.ckpt',\n",
       "              'weights/model_387.ckpt',\n",
       "              'weights/model_393.ckpt',\n",
       "              'weights/model_399.ckpt',\n",
       "              'weights/model_405.ckpt',\n",
       "              'weights/model_411.ckpt',\n",
       "              'weights/model_417.ckpt'],\n",
       "             'l1': ['weights/model_376.ckpt',\n",
       "              'weights/model_382.ckpt',\n",
       "              'weights/model_388.ckpt',\n",
       "              'weights/model_394.ckpt',\n",
       "              'weights/model_400.ckpt',\n",
       "              'weights/model_406.ckpt',\n",
       "              'weights/model_412.ckpt',\n",
       "              'weights/model_418.ckpt'],\n",
       "             'op': ['weights/model_377.ckpt',\n",
       "              'weights/model_383.ckpt',\n",
       "              'weights/model_389.ckpt',\n",
       "              'weights/model_395.ckpt',\n",
       "              'weights/model_401.ckpt',\n",
       "              'weights/model_407.ckpt',\n",
       "              'weights/model_413.ckpt',\n",
       "              'weights/model_419.ckpt'],\n",
       "             'trace_first': ['weights/model_378.ckpt',\n",
       "              'weights/model_384.ckpt',\n",
       "              'weights/model_390.ckpt',\n",
       "              'weights/model_396.ckpt',\n",
       "              'weights/model_402.ckpt',\n",
       "              'weights/model_408.ckpt',\n",
       "              'weights/model_414.ckpt',\n",
       "              'weights/model_420.ckpt'],\n",
       "             'trace_all': ['weights/model_379.ckpt',\n",
       "              'weights/model_385.ckpt',\n",
       "              'weights/model_391.ckpt',\n",
       "              'weights/model_397.ckpt',\n",
       "              'weights/model_403.ckpt',\n",
       "              'weights/model_409.ckpt',\n",
       "              'weights/model_415.ckpt',\n",
       "              'weights/model_421.ckpt'],\n",
       "             'fgsm': ['weights/model_380.ckpt',\n",
       "              'weights/model_386.ckpt',\n",
       "              'weights/model_392.ckpt',\n",
       "              'weights/model_398.ckpt',\n",
       "              'weights/model_404.ckpt',\n",
       "              'weights/model_410.ckpt',\n",
       "              'weights/model_416.ckpt',\n",
       "              'weights/model_422.ckpt']})"
      ]
     },
     "execution_count": 7,
     "metadata": {},
     "output_type": "execute_result"
    }
   ],
   "source": [
    "paths.item()"
   ]
  },
  {
   "cell_type": "code",
   "execution_count": 8,
   "metadata": {},
   "outputs": [],
   "source": [
    "non_rob_list = paths.item()['non_robust']"
   ]
  },
  {
   "cell_type": "code",
   "execution_count": 31,
   "metadata": {},
   "outputs": [],
   "source": [
    "def load_many_models_regular(weights_path):\n",
    "    \n",
    "    model_list = []\n",
    "    sess_list = []\n",
    "    for path in weights_path:\n",
    "        config = {}\n",
    "        config['eps_train'] = 0.1\n",
    "        config['eps_test'] = 0.1\n",
    "        config['tensorboard_dir'] = \"tb/\"\n",
    "        config['weights_dir'] = \"weights_new/\"\n",
    "\n",
    "        config['load_counter'] = path\n",
    "        config['write_counter'] = counter\n",
    "        config['sigma'] = tf.nn.relu\n",
    "        config['epochs'] = 10\n",
    "        config['reg_op'] = 0.0\n",
    "        config['reg_l1'] = 0.0\n",
    "        config['reg_trace_first'] = 0.0\n",
    "        config['reg_trace_all'] = 0.0\n",
    "\n",
    "        config['lr'] = 3e-4\n",
    "\n",
    "        config['scope_name'] = \"model_non_robust\"\n",
    "        config['should_load'] = True\n",
    "        config['logger'] = logger\n",
    "        model, sess, path = regular_training(config)\n",
    "        model_list.append(model)\n",
    "        sess_list.append(sess)\n",
    "    return model_list, sess_list"
   ]
  },
  {
   "cell_type": "code",
   "execution_count": 56,
   "metadata": {},
   "outputs": [],
   "source": [
    "def load_many_models_adv(weights_path):\n",
    "    \n",
    "    model_list = []\n",
    "    sess_list = []\n",
    "    for path in weights_path:\n",
    "        config = {}\n",
    "        config['eps_train'] = 0.1\n",
    "        config['eps_test'] = 0.1\n",
    "        config['tensorboard_dir'] = \"tb/\"\n",
    "        config['weights_dir'] = \"weights_new/\"\n",
    "\n",
    "        config['load_counter'] = path\n",
    "        config['write_counter'] = counter\n",
    "        config['sigma'] = tf.nn.relu\n",
    "        config['epochs'] = 10\n",
    "        config['reg_op'] = 0.0\n",
    "        config['reg_l1'] = 0.0\n",
    "        config['reg_trace_first'] = 0.0\n",
    "        config['reg_trace_all'] = 0.0\n",
    "\n",
    "        config['lr'] = 3e-4\n",
    "\n",
    "        config['scope_name'] = \"model_robust\"\n",
    "        config['should_load'] = True\n",
    "        config['logger'] = logger\n",
    "        model, sess, path = regular_training(config)\n",
    "        model_list.append(model)\n",
    "        sess_list.append(sess)\n",
    "    return model_list, sess_list"
   ]
  },
  {
   "cell_type": "code",
   "execution_count": 51,
   "metadata": {},
   "outputs": [],
   "source": [
    "def get_complexitites_many_models_reg(model_list, sess_list, x_test, y_test):\n",
    "    spectral_list = []\n",
    "    fr_list = []\n",
    "    for idx, model in enumerate(model_list):\n",
    "        with tf.variable_scope(\"model_non_robust\", reuse = tf.AUTO_REUSE) as scope:\n",
    "            sess = sess_list[idx]\n",
    "            spectral_norm = model.get_spectral_norm(sess)\n",
    "            spectral_list.append(spectral_norm)\n",
    "            fr_norm = model.get_fisher_rao_norm_squared(sess, x_test, y_test)\n",
    "            fr_list.append(fr_norm)\n",
    "            #model.evaluate(sess, x_test, y_test)\n",
    "    return spectral_list, fr_list"
   ]
  },
  {
   "cell_type": "code",
   "execution_count": 52,
   "metadata": {},
   "outputs": [],
   "source": [
    "def get_complexitites_many_models_adv(model_list, sess_list, x_test, y_test):\n",
    "    spectral_list = []\n",
    "    fr_list = []\n",
    "    for idx, model in enumerate(model_list):\n",
    "        with tf.variable_scope(\"model_robust\", reuse = tf.AUTO_REUSE) as scope:\n",
    "            sess = sess_list[idx]\n",
    "            spectral_norm = model.get_spectral_norm(sess)\n",
    "            spectral_list.append(spectral_norm)\n",
    "            fr_norm = model.get_fisher_rao_norm_squared(sess, x_test, y_test)\n",
    "            fr_list.append(fr_norm)\n",
    "            #model.evaluate(sess, x_test, y_test)\n",
    "    return spectral_list, fr_list"
   ]
  },
  {
   "cell_type": "code",
   "execution_count": 93,
   "metadata": {},
   "outputs": [],
   "source": [
    "def acc_versus_eps_single_objective(model_list, sess_list, eps_list, scope_name = \"model_non_robust\", pgd = False):\n",
    "    \"\"\"\n",
    "    Populates the matrix of acc versus eps models for all models of a given kind.\n",
    "    And then returns the required order statistics for the plot.\n",
    "    \"\"\"\n",
    "    \n",
    "    accs_all_models = np.zeros((len(model_list), len(eps_list)))\n",
    "    \n",
    "    for model_idx, model in enumerate(model_list):\n",
    "        sess = sess_list[model_idx]\n",
    "        for (eps_idx, eps_test) in enumerate(eps_list):\n",
    "            \n",
    "            if not pgd:\n",
    "                with tf.variable_scope(scope_name) as scope:\n",
    "                    _, acc_fgsm = model.adv_evaluate(sess, x_test_flat, y_test, eps_test, pgd = False)\n",
    "                    accs_all_models[model_idx][eps_idx] = acc_fgsm\n",
    "    \n",
    "    acc_med = np.median(accs_all_models, axis = 0)\n",
    "    error_top = np.percentile(accs_all_models, 90, axis = 0) - acc_med\n",
    "    error_bottom = np.percentile(accs_all_models, 10, axis = 0) - acc_med\n",
    "    return acc_med, error_top, error_bottom\n",
    "\n",
    "\n",
    "def make_acc_vs_eps_plot_error_bars(model_list_big, sess_list_big, eps_list, legend_list, scope_list, pgd = False):\n",
    "    fig = plt.figure()\n",
    "    \n",
    "    for idx, model_list in enumerate(model_list_big):\n",
    "        sess_list = sess_list_big[idx]\n",
    "        accs, error_top, error_bottom = acc_versus_eps_single_objective(model_list, sess_list, eps_list, scope_name = scope_list[idx])\n",
    "        label = legend_list[idx]\n",
    "        plt.errorbar(eps_list, error_top, error_bottom, label = legend)\n",
    "        \n",
    "    plt.show()\n",
    "    return True"
   ]
  },
  {
   "cell_type": "markdown",
   "metadata": {},
   "source": [
    "## Regular Training Run Test"
   ]
  },
  {
   "cell_type": "code",
   "execution_count": 12,
   "metadata": {},
   "outputs": [],
   "source": [
    "config = {}\n",
    "config['eps_train'] = 0.1\n",
    "config['eps_test'] = 0.1\n",
    "config['tensorboard_dir'] = \"tb/\"\n",
    "config['weights_dir'] = \"weights_new/\"\n",
    "\n",
    "config['load_counter'] = non_rob_list[0]\n",
    "config['write_counter'] = counter\n",
    "config['sigma'] = tf.nn.relu\n",
    "config['epochs'] = 10\n",
    "config['reg_op'] = 0.0\n",
    "config['reg_l1'] = 0.0\n",
    "config['reg_trace_first'] = 0.0\n",
    "config['reg_trace_all'] = 0.0\n",
    "\n",
    "config['lr'] = 3e-4\n",
    "\n",
    "config['scope_name'] = \"model_non_robust\"\n",
    "config['should_load'] = True\n",
    "config['logger'] = logger"
   ]
  },
  {
   "cell_type": "code",
   "execution_count": 13,
   "metadata": {},
   "outputs": [],
   "source": [
    "tf.reset_default_graph()"
   ]
  },
  {
   "cell_type": "code",
   "execution_count": 14,
   "metadata": {},
   "outputs": [
    {
     "name": "stderr",
     "output_type": "stream",
     "text": [
      "W0927 08:51:52.465500 4424283584 deprecation_wrapper.py:119] From ../utils/utils_models.py:36: The name tf.Session is deprecated. Please use tf.compat.v1.Session instead.\n",
      "\n",
      "W0927 08:51:52.467347 4424283584 deprecation_wrapper.py:119] From ../utils/utils_models.py:41: The name tf.variable_scope is deprecated. Please use tf.compat.v1.variable_scope instead.\n",
      "\n",
      "W0927 08:51:52.468576 4424283584 deprecation_wrapper.py:119] From ../utils/utils_models.py:41: The name tf.AUTO_REUSE is deprecated. Please use tf.compat.v1.AUTO_REUSE instead.\n",
      "\n",
      "W0927 08:51:52.470145 4424283584 deprecation_wrapper.py:119] From ../utils/utils_models.py:46: The name tf.summary.FileWriter is deprecated. Please use tf.compat.v1.summary.FileWriter instead.\n",
      "\n",
      "Initialized instance variables of the robust model class\n",
      "I0927 08:51:52.478673 4424283584 feedforward_robust.py:32] Initialized instance variables of the robust model class\n",
      "W0927 08:51:52.479743 4424283584 deprecation_wrapper.py:119] From ../feedforward_robust.py:36: The name tf.placeholder is deprecated. Please use tf.compat.v1.placeholder instead.\n",
      "\n",
      "Created placeholders for x and y\n",
      "I0927 08:51:52.483243 4424283584 feedforward_robust.py:38] Created placeholders for x and y\n",
      "W0927 08:51:52.507630 4424283584 deprecation_wrapper.py:119] From ../utils/utils_feedforward.py:40: The name tf.summary.histogram is deprecated. Please use tf.compat.v1.summary.histogram instead.\n",
      "\n",
      "Created layers and tensor for logits\n",
      "I0927 08:51:52.721572 4424283584 feedforward_robust.py:42] Created layers and tensor for logits\n",
      "W0927 08:51:52.722682 4424283584 deprecation.py:323] From ../feedforward_robust.py:44: softmax_cross_entropy_with_logits (from tensorflow.python.ops.nn_ops) is deprecated and will be removed in a future version.\n",
      "Instructions for updating:\n",
      "\n",
      "Future major versions of TensorFlow will allow gradients to flow\n",
      "into the labels input on backprop by default.\n",
      "\n",
      "See `tf.nn.softmax_cross_entropy_with_logits_v2`.\n",
      "\n",
      "W0927 08:51:52.743474 4424283584 deprecation_wrapper.py:119] From ../feedforward_robust.py:46: The name tf.summary.scalar is deprecated. Please use tf.compat.v1.summary.scalar instead.\n",
      "\n",
      "Added loss computation to the graph\n",
      "I0927 08:51:52.748698 4424283584 feedforward_robust.py:47] Added loss computation to the graph\n",
      "Added accuracy computation to the graph\n",
      "I0927 08:51:52.756697 4424283584 feedforward_robust.py:51] Added accuracy computation to the graph\n",
      "Model graph was created\n",
      "I0927 08:51:52.760571 4424283584 feedforward_robust.py:54] Model graph was created\n",
      "W0927 08:51:52.762496 4424283584 deprecation_wrapper.py:119] From ../feedforward_robust.py:55: The name tf.summary.merge_all is deprecated. Please use tf.compat.v1.summary.merge_all instead.\n",
      "\n",
      "Created model successfully. Now going to load weights\n",
      "I0927 08:51:52.766448 4424283584 utils_models.py:48] Created model successfully. Now going to load weights\n",
      "W0927 08:51:52.771129 4424283584 deprecation_wrapper.py:119] From ../utils/utils_models.py:54: The name tf.train.Saver is deprecated. Please use tf.compat.v1.train.Saver instead.\n",
      "\n",
      "W0927 08:51:52.799961 4424283584 deprecation.py:323] From /usr/local/lib/python3.7/site-packages/tensorflow/python/training/saver.py:1276: checkpoint_exists (from tensorflow.python.training.checkpoint_management) is deprecated and will be removed in a future version.\n",
      "Instructions for updating:\n",
      "Use standard file APIs to check for files with this prefix.\n",
      "Restored model from None\n",
      "I0927 08:51:52.842025 4424283584 utils_models.py:60] Restored model from None\n",
      "Model was evaluated on benign data\n",
      "I0927 08:51:52.913105 4424283584 feedforward_robust.py:411] Model was evaluated on benign data\n",
      "----Regular test accuracy and loss ----\n",
      "I0927 08:51:52.914349 4424283584 utils_models.py:74] ----Regular test accuracy and loss ----\n",
      "(0.2021035, 0.9609)\n",
      "I0927 08:51:52.916360 4424283584 utils_models.py:75] (0.2021035, 0.9609)\n",
      "Model was evaluated on benign data\n",
      "I0927 08:51:52.939952 4424283584 feedforward_robust.py:411] Model was evaluated on benign data\n",
      "----Regular test accuracy and loss ----\n",
      "I0927 08:51:52.942305 4424283584 utils_models.py:78] ----Regular test accuracy and loss ----\n",
      "(0.2021035, 0.9609)\n",
      "I0927 08:51:52.943761 4424283584 utils_models.py:79] (0.2021035, 0.9609)\n",
      "Model is being evaluated on FGSM data\n",
      "I0927 08:51:53.126909 4424283584 feedforward_robust.py:418] Model is being evaluated on FGSM data\n",
      "----FGSM test accuracy and loss ----\n",
      "I0927 08:51:53.139396 4424283584 utils_models.py:82] ----FGSM test accuracy and loss ----\n",
      "(25.647673, 0.0732)\n",
      "I0927 08:51:53.140686 4424283584 utils_models.py:83] (25.647673, 0.0732)\n"
     ]
    }
   ],
   "source": [
    "#model_hybrid, sess_hybrid, = regular_training(config)\n",
    "model, sess, path = regular_training(config)"
   ]
  },
  {
   "cell_type": "code",
   "execution_count": 15,
   "metadata": {},
   "outputs": [
    {
     "name": "stdout",
     "output_type": "stream",
     "text": [
      "> \u001b[0;32m/Users/adhyyan/projects/robustNN/feedforward_robust.py\u001b[0m(190)\u001b[0;36mget_spectral_norm\u001b[0;34m()\u001b[0m\n",
      "\u001b[0;32m    189 \u001b[0;31m        \u001b[0mipdb\u001b[0m\u001b[0;34m.\u001b[0m\u001b[0mset_trace\u001b[0m\u001b[0;34m(\u001b[0m\u001b[0;34m)\u001b[0m\u001b[0;34m\u001b[0m\u001b[0;34m\u001b[0m\u001b[0m\n",
      "\u001b[0m\u001b[0;32m--> 190 \u001b[0;31m        \u001b[0;32mreturn\u001b[0m \u001b[0mfirst_term\u001b[0m \u001b[0;34m*\u001b[0m \u001b[0msecond_term\u001b[0m\u001b[0;34m\u001b[0m\u001b[0;34m\u001b[0m\u001b[0m\n",
      "\u001b[0m\u001b[0;32m    191 \u001b[0;31m\u001b[0;34m\u001b[0m\u001b[0m\n",
      "\u001b[0m\n",
      "ipdb> c\n"
     ]
    }
   ],
   "source": [
    "with tf.variable_scope(\"model_non_robust\", reuse = tf.AUTO_REUSE) as scope:\n",
    "    spectral_norm = model.get_spectral_norm(sess)"
   ]
  },
  {
   "cell_type": "code",
   "execution_count": 16,
   "metadata": {},
   "outputs": [
    {
     "data": {
      "text/plain": [
       "3397289.689039783"
      ]
     },
     "execution_count": 16,
     "metadata": {},
     "output_type": "execute_result"
    }
   ],
   "source": [
    "spectral_norm"
   ]
  },
  {
   "cell_type": "markdown",
   "metadata": {},
   "source": [
    "# Regular Training"
   ]
  },
  {
   "cell_type": "code",
   "execution_count": 32,
   "metadata": {},
   "outputs": [],
   "source": [
    "weights_path_non_rob = paths.item()['non_robust']"
   ]
  },
  {
   "cell_type": "code",
   "execution_count": 33,
   "metadata": {},
   "outputs": [
    {
     "data": {
      "text/plain": [
       "['weights/model_375.ckpt',\n",
       " 'weights/model_381.ckpt',\n",
       " 'weights/model_387.ckpt',\n",
       " 'weights/model_393.ckpt',\n",
       " 'weights/model_399.ckpt',\n",
       " 'weights/model_405.ckpt',\n",
       " 'weights/model_411.ckpt',\n",
       " 'weights/model_417.ckpt']"
      ]
     },
     "execution_count": 33,
     "metadata": {},
     "output_type": "execute_result"
    }
   ],
   "source": [
    "weights_path_non_rob"
   ]
  },
  {
   "cell_type": "code",
   "execution_count": 34,
   "metadata": {},
   "outputs": [
    {
     "name": "stderr",
     "output_type": "stream",
     "text": [
      "Initialized instance variables of the robust model class\n",
      "I0927 08:57:01.580443 4424283584 feedforward_robust.py:32] Initialized instance variables of the robust model class\n",
      "Created placeholders for x and y\n",
      "I0927 08:57:01.584581 4424283584 feedforward_robust.py:38] Created placeholders for x and y\n",
      "Created layers and tensor for logits\n",
      "I0927 08:57:01.655027 4424283584 feedforward_robust.py:42] Created layers and tensor for logits\n",
      "Added loss computation to the graph\n",
      "I0927 08:57:01.685524 4424283584 feedforward_robust.py:47] Added loss computation to the graph\n",
      "Added accuracy computation to the graph\n",
      "I0927 08:57:01.698801 4424283584 feedforward_robust.py:51] Added accuracy computation to the graph\n",
      "Model graph was created\n",
      "I0927 08:57:01.702249 4424283584 feedforward_robust.py:54] Model graph was created\n",
      "Created model successfully. Now going to load weights\n",
      "I0927 08:57:01.716875 4424283584 utils_models.py:48] Created model successfully. Now going to load weights\n",
      "Restored model from None\n",
      "I0927 08:57:01.958019 4424283584 utils_models.py:60] Restored model from None\n",
      "Model was evaluated on benign data\n",
      "I0927 08:57:02.166320 4424283584 feedforward_robust.py:411] Model was evaluated on benign data\n",
      "----Regular test accuracy and loss ----\n",
      "I0927 08:57:02.167569 4424283584 utils_models.py:74] ----Regular test accuracy and loss ----\n",
      "(0.2021035, 0.9609)\n",
      "I0927 08:57:02.169165 4424283584 utils_models.py:75] (0.2021035, 0.9609)\n",
      "Model was evaluated on benign data\n",
      "I0927 08:57:02.192717 4424283584 feedforward_robust.py:411] Model was evaluated on benign data\n",
      "----Regular test accuracy and loss ----\n",
      "I0927 08:57:02.194133 4424283584 utils_models.py:78] ----Regular test accuracy and loss ----\n",
      "(0.2021035, 0.9609)\n",
      "I0927 08:57:02.196738 4424283584 utils_models.py:79] (0.2021035, 0.9609)\n",
      "Model is being evaluated on FGSM data\n",
      "I0927 08:57:02.558045 4424283584 feedforward_robust.py:418] Model is being evaluated on FGSM data\n",
      "----FGSM test accuracy and loss ----\n",
      "I0927 08:57:02.572912 4424283584 utils_models.py:82] ----FGSM test accuracy and loss ----\n",
      "(25.647673, 0.0732)\n",
      "I0927 08:57:02.574051 4424283584 utils_models.py:83] (25.647673, 0.0732)\n",
      "Initialized instance variables of the robust model class\n",
      "I0927 08:57:03.602549 4424283584 feedforward_robust.py:32] Initialized instance variables of the robust model class\n",
      "Created placeholders for x and y\n",
      "I0927 08:57:03.605852 4424283584 feedforward_robust.py:38] Created placeholders for x and y\n",
      "Created layers and tensor for logits\n",
      "I0927 08:57:03.653001 4424283584 feedforward_robust.py:42] Created layers and tensor for logits\n",
      "Added loss computation to the graph\n",
      "I0927 08:57:03.685240 4424283584 feedforward_robust.py:47] Added loss computation to the graph\n",
      "Added accuracy computation to the graph\n",
      "I0927 08:57:03.693037 4424283584 feedforward_robust.py:51] Added accuracy computation to the graph\n",
      "Model graph was created\n",
      "I0927 08:57:03.699219 4424283584 feedforward_robust.py:54] Model graph was created\n",
      "Created model successfully. Now going to load weights\n",
      "I0927 08:57:03.717945 4424283584 utils_models.py:48] Created model successfully. Now going to load weights\n",
      "Restored model from None\n",
      "I0927 08:57:03.956158 4424283584 utils_models.py:60] Restored model from None\n",
      "Model was evaluated on benign data\n",
      "I0927 08:57:04.086576 4424283584 feedforward_robust.py:411] Model was evaluated on benign data\n",
      "----Regular test accuracy and loss ----\n",
      "I0927 08:57:04.087864 4424283584 utils_models.py:74] ----Regular test accuracy and loss ----\n",
      "(0.18299213, 0.9648)\n",
      "I0927 08:57:04.089149 4424283584 utils_models.py:75] (0.18299213, 0.9648)\n",
      "Model was evaluated on benign data\n",
      "I0927 08:57:04.113245 4424283584 feedforward_robust.py:411] Model was evaluated on benign data\n",
      "----Regular test accuracy and loss ----\n",
      "I0927 08:57:04.114448 4424283584 utils_models.py:78] ----Regular test accuracy and loss ----\n",
      "(0.18299213, 0.9648)\n",
      "I0927 08:57:04.116029 4424283584 utils_models.py:79] (0.18299213, 0.9648)\n",
      "Model is being evaluated on FGSM data\n",
      "I0927 08:57:04.518919 4424283584 feedforward_robust.py:418] Model is being evaluated on FGSM data\n",
      "----FGSM test accuracy and loss ----\n",
      "I0927 08:57:04.539469 4424283584 utils_models.py:82] ----FGSM test accuracy and loss ----\n",
      "(23.441946, 0.0788)\n",
      "I0927 08:57:04.543194 4424283584 utils_models.py:83] (23.441946, 0.0788)\n",
      "Initialized instance variables of the robust model class\n",
      "I0927 08:57:05.640406 4424283584 feedforward_robust.py:32] Initialized instance variables of the robust model class\n",
      "Created placeholders for x and y\n",
      "I0927 08:57:05.648006 4424283584 feedforward_robust.py:38] Created placeholders for x and y\n",
      "Created layers and tensor for logits\n",
      "I0927 08:57:05.703990 4424283584 feedforward_robust.py:42] Created layers and tensor for logits\n",
      "Added loss computation to the graph\n",
      "I0927 08:57:05.732314 4424283584 feedforward_robust.py:47] Added loss computation to the graph\n",
      "Added accuracy computation to the graph\n",
      "I0927 08:57:05.742620 4424283584 feedforward_robust.py:51] Added accuracy computation to the graph\n",
      "Model graph was created\n",
      "I0927 08:57:05.748734 4424283584 feedforward_robust.py:54] Model graph was created\n",
      "Created model successfully. Now going to load weights\n",
      "I0927 08:57:05.766310 4424283584 utils_models.py:48] Created model successfully. Now going to load weights\n",
      "Restored model from None\n",
      "I0927 08:57:06.010566 4424283584 utils_models.py:60] Restored model from None\n",
      "Model was evaluated on benign data\n",
      "I0927 08:57:06.137386 4424283584 feedforward_robust.py:411] Model was evaluated on benign data\n",
      "----Regular test accuracy and loss ----\n",
      "I0927 08:57:06.139060 4424283584 utils_models.py:74] ----Regular test accuracy and loss ----\n",
      "(0.20287047, 0.9614)\n",
      "I0927 08:57:06.140688 4424283584 utils_models.py:75] (0.20287047, 0.9614)\n",
      "Model was evaluated on benign data\n",
      "I0927 08:57:06.161232 4424283584 feedforward_robust.py:411] Model was evaluated on benign data\n",
      "----Regular test accuracy and loss ----\n",
      "I0927 08:57:06.162639 4424283584 utils_models.py:78] ----Regular test accuracy and loss ----\n",
      "(0.20287047, 0.9614)\n",
      "I0927 08:57:06.164107 4424283584 utils_models.py:79] (0.20287047, 0.9614)\n",
      "Model is being evaluated on FGSM data\n",
      "I0927 08:57:06.530727 4424283584 feedforward_robust.py:418] Model is being evaluated on FGSM data\n",
      "----FGSM test accuracy and loss ----\n",
      "I0927 08:57:06.545751 4424283584 utils_models.py:82] ----FGSM test accuracy and loss ----\n",
      "(25.64447, 0.0501)\n",
      "I0927 08:57:06.547281 4424283584 utils_models.py:83] (25.64447, 0.0501)\n",
      "Initialized instance variables of the robust model class\n",
      "I0927 08:57:07.545907 4424283584 feedforward_robust.py:32] Initialized instance variables of the robust model class\n",
      "Created placeholders for x and y\n",
      "I0927 08:57:07.549226 4424283584 feedforward_robust.py:38] Created placeholders for x and y\n",
      "Created layers and tensor for logits\n",
      "I0927 08:57:07.592941 4424283584 feedforward_robust.py:42] Created layers and tensor for logits\n",
      "Added loss computation to the graph\n",
      "I0927 08:57:07.625254 4424283584 feedforward_robust.py:47] Added loss computation to the graph\n",
      "Added accuracy computation to the graph\n",
      "I0927 08:57:07.636697 4424283584 feedforward_robust.py:51] Added accuracy computation to the graph\n",
      "Model graph was created\n",
      "I0927 08:57:07.639698 4424283584 feedforward_robust.py:54] Model graph was created\n",
      "Created model successfully. Now going to load weights\n",
      "I0927 08:57:07.658198 4424283584 utils_models.py:48] Created model successfully. Now going to load weights\n",
      "Restored model from None\n",
      "I0927 08:57:07.939049 4424283584 utils_models.py:60] Restored model from None\n",
      "Model was evaluated on benign data\n",
      "I0927 08:57:08.071914 4424283584 feedforward_robust.py:411] Model was evaluated on benign data\n",
      "----Regular test accuracy and loss ----\n",
      "I0927 08:57:08.073178 4424283584 utils_models.py:74] ----Regular test accuracy and loss ----\n",
      "(0.19511901, 0.963)\n",
      "I0927 08:57:08.075083 4424283584 utils_models.py:75] (0.19511901, 0.963)\n",
      "Model was evaluated on benign data\n",
      "I0927 08:57:08.101027 4424283584 feedforward_robust.py:411] Model was evaluated on benign data\n",
      "----Regular test accuracy and loss ----\n",
      "I0927 08:57:08.102391 4424283584 utils_models.py:78] ----Regular test accuracy and loss ----\n",
      "(0.19511901, 0.963)\n",
      "I0927 08:57:08.105099 4424283584 utils_models.py:79] (0.19511901, 0.963)\n"
     ]
    },
    {
     "name": "stderr",
     "output_type": "stream",
     "text": [
      "Model is being evaluated on FGSM data\n",
      "I0927 08:57:08.471639 4424283584 feedforward_robust.py:418] Model is being evaluated on FGSM data\n",
      "----FGSM test accuracy and loss ----\n",
      "I0927 08:57:08.493854 4424283584 utils_models.py:82] ----FGSM test accuracy and loss ----\n",
      "(21.776306, 0.083)\n",
      "I0927 08:57:08.499108 4424283584 utils_models.py:83] (21.776306, 0.083)\n",
      "Initialized instance variables of the robust model class\n",
      "I0927 08:57:09.631845 4424283584 feedforward_robust.py:32] Initialized instance variables of the robust model class\n",
      "Created placeholders for x and y\n",
      "I0927 08:57:09.634891 4424283584 feedforward_robust.py:38] Created placeholders for x and y\n",
      "Created layers and tensor for logits\n",
      "I0927 08:57:09.682147 4424283584 feedforward_robust.py:42] Created layers and tensor for logits\n",
      "Added loss computation to the graph\n",
      "I0927 08:57:09.706279 4424283584 feedforward_robust.py:47] Added loss computation to the graph\n",
      "Added accuracy computation to the graph\n",
      "I0927 08:57:09.714490 4424283584 feedforward_robust.py:51] Added accuracy computation to the graph\n",
      "Model graph was created\n",
      "I0927 08:57:09.717404 4424283584 feedforward_robust.py:54] Model graph was created\n",
      "Created model successfully. Now going to load weights\n",
      "I0927 08:57:09.881854 4424283584 utils_models.py:48] Created model successfully. Now going to load weights\n",
      "Restored model from None\n",
      "I0927 08:57:10.142421 4424283584 utils_models.py:60] Restored model from None\n",
      "Model was evaluated on benign data\n",
      "I0927 08:57:10.293149 4424283584 feedforward_robust.py:411] Model was evaluated on benign data\n",
      "----Regular test accuracy and loss ----\n",
      "I0927 08:57:10.295097 4424283584 utils_models.py:74] ----Regular test accuracy and loss ----\n",
      "(0.19655581, 0.961)\n",
      "I0927 08:57:10.297018 4424283584 utils_models.py:75] (0.19655581, 0.961)\n",
      "Model was evaluated on benign data\n",
      "I0927 08:57:10.322452 4424283584 feedforward_robust.py:411] Model was evaluated on benign data\n",
      "----Regular test accuracy and loss ----\n",
      "I0927 08:57:10.323971 4424283584 utils_models.py:78] ----Regular test accuracy and loss ----\n",
      "(0.19655581, 0.961)\n",
      "I0927 08:57:10.327906 4424283584 utils_models.py:79] (0.19655581, 0.961)\n",
      "Model is being evaluated on FGSM data\n",
      "I0927 08:57:10.753082 4424283584 feedforward_robust.py:418] Model is being evaluated on FGSM data\n",
      "----FGSM test accuracy and loss ----\n",
      "I0927 08:57:10.772219 4424283584 utils_models.py:82] ----FGSM test accuracy and loss ----\n",
      "(21.579887, 0.0654)\n",
      "I0927 08:57:10.773720 4424283584 utils_models.py:83] (21.579887, 0.0654)\n",
      "Initialized instance variables of the robust model class\n",
      "I0927 08:57:11.766845 4424283584 feedforward_robust.py:32] Initialized instance variables of the robust model class\n",
      "Created placeholders for x and y\n",
      "I0927 08:57:11.769986 4424283584 feedforward_robust.py:38] Created placeholders for x and y\n",
      "Created layers and tensor for logits\n",
      "I0927 08:57:11.819671 4424283584 feedforward_robust.py:42] Created layers and tensor for logits\n",
      "Added loss computation to the graph\n",
      "I0927 08:57:11.848279 4424283584 feedforward_robust.py:47] Added loss computation to the graph\n",
      "Added accuracy computation to the graph\n",
      "I0927 08:57:11.854145 4424283584 feedforward_robust.py:51] Added accuracy computation to the graph\n",
      "Model graph was created\n",
      "I0927 08:57:11.857038 4424283584 feedforward_robust.py:54] Model graph was created\n",
      "Created model successfully. Now going to load weights\n",
      "I0927 08:57:11.875513 4424283584 utils_models.py:48] Created model successfully. Now going to load weights\n",
      "Restored model from None\n",
      "I0927 08:57:12.142890 4424283584 utils_models.py:60] Restored model from None\n",
      "Model was evaluated on benign data\n",
      "I0927 08:57:12.281405 4424283584 feedforward_robust.py:411] Model was evaluated on benign data\n",
      "----Regular test accuracy and loss ----\n",
      "I0927 08:57:12.282899 4424283584 utils_models.py:74] ----Regular test accuracy and loss ----\n",
      "(0.18205817, 0.9623)\n",
      "I0927 08:57:12.284873 4424283584 utils_models.py:75] (0.18205817, 0.9623)\n",
      "Model was evaluated on benign data\n",
      "I0927 08:57:12.310966 4424283584 feedforward_robust.py:411] Model was evaluated on benign data\n",
      "----Regular test accuracy and loss ----\n",
      "I0927 08:57:12.312764 4424283584 utils_models.py:78] ----Regular test accuracy and loss ----\n",
      "(0.18205817, 0.9623)\n",
      "I0927 08:57:12.316472 4424283584 utils_models.py:79] (0.18205817, 0.9623)\n",
      "Model is being evaluated on FGSM data\n",
      "I0927 08:57:12.703791 4424283584 feedforward_robust.py:418] Model is being evaluated on FGSM data\n",
      "----FGSM test accuracy and loss ----\n",
      "I0927 08:57:12.718538 4424283584 utils_models.py:82] ----FGSM test accuracy and loss ----\n",
      "(21.159954, 0.1318)\n",
      "I0927 08:57:12.720216 4424283584 utils_models.py:83] (21.159954, 0.1318)\n",
      "Initialized instance variables of the robust model class\n",
      "I0927 08:57:13.728505 4424283584 feedforward_robust.py:32] Initialized instance variables of the robust model class\n",
      "Created placeholders for x and y\n",
      "I0927 08:57:13.731806 4424283584 feedforward_robust.py:38] Created placeholders for x and y\n",
      "Created layers and tensor for logits\n",
      "I0927 08:57:13.775098 4424283584 feedforward_robust.py:42] Created layers and tensor for logits\n",
      "Added loss computation to the graph\n",
      "I0927 08:57:13.801349 4424283584 feedforward_robust.py:47] Added loss computation to the graph\n",
      "Added accuracy computation to the graph\n",
      "I0927 08:57:13.810910 4424283584 feedforward_robust.py:51] Added accuracy computation to the graph\n",
      "Model graph was created\n",
      "I0927 08:57:13.815563 4424283584 feedforward_robust.py:54] Model graph was created\n",
      "Created model successfully. Now going to load weights\n",
      "I0927 08:57:13.837002 4424283584 utils_models.py:48] Created model successfully. Now going to load weights\n",
      "Restored model from None\n",
      "I0927 08:57:14.140058 4424283584 utils_models.py:60] Restored model from None\n",
      "Model was evaluated on benign data\n",
      "I0927 08:57:14.285658 4424283584 feedforward_robust.py:411] Model was evaluated on benign data\n",
      "----Regular test accuracy and loss ----\n",
      "I0927 08:57:14.286821 4424283584 utils_models.py:74] ----Regular test accuracy and loss ----\n",
      "(0.19011636, 0.9643)\n",
      "I0927 08:57:14.288775 4424283584 utils_models.py:75] (0.19011636, 0.9643)\n",
      "Model was evaluated on benign data\n",
      "I0927 08:57:14.315673 4424283584 feedforward_robust.py:411] Model was evaluated on benign data\n",
      "----Regular test accuracy and loss ----\n",
      "I0927 08:57:14.316832 4424283584 utils_models.py:78] ----Regular test accuracy and loss ----\n",
      "(0.19011636, 0.9643)\n",
      "I0927 08:57:14.318491 4424283584 utils_models.py:79] (0.19011636, 0.9643)\n",
      "Model is being evaluated on FGSM data\n",
      "I0927 08:57:14.713452 4424283584 feedforward_robust.py:418] Model is being evaluated on FGSM data\n",
      "----FGSM test accuracy and loss ----\n",
      "I0927 08:57:14.729835 4424283584 utils_models.py:82] ----FGSM test accuracy and loss ----\n",
      "(23.325087, 0.0393)\n",
      "I0927 08:57:14.731006 4424283584 utils_models.py:83] (23.325087, 0.0393)\n",
      "Initialized instance variables of the robust model class\n",
      "I0927 08:57:15.765829 4424283584 feedforward_robust.py:32] Initialized instance variables of the robust model class\n",
      "Created placeholders for x and y\n",
      "I0927 08:57:15.769026 4424283584 feedforward_robust.py:38] Created placeholders for x and y\n",
      "Created layers and tensor for logits\n",
      "I0927 08:57:15.816294 4424283584 feedforward_robust.py:42] Created layers and tensor for logits\n",
      "Added loss computation to the graph\n",
      "I0927 08:57:15.845082 4424283584 feedforward_robust.py:47] Added loss computation to the graph\n",
      "Added accuracy computation to the graph\n",
      "I0927 08:57:15.855378 4424283584 feedforward_robust.py:51] Added accuracy computation to the graph\n",
      "Model graph was created\n",
      "I0927 08:57:15.858832 4424283584 feedforward_robust.py:54] Model graph was created\n",
      "Created model successfully. Now going to load weights\n",
      "I0927 08:57:15.876971 4424283584 utils_models.py:48] Created model successfully. Now going to load weights\n",
      "Restored model from None\n",
      "I0927 08:57:16.164098 4424283584 utils_models.py:60] Restored model from None\n",
      "Model was evaluated on benign data\n",
      "I0927 08:57:16.317892 4424283584 feedforward_robust.py:411] Model was evaluated on benign data\n",
      "----Regular test accuracy and loss ----\n",
      "I0927 08:57:16.319229 4424283584 utils_models.py:74] ----Regular test accuracy and loss ----\n",
      "(0.19717272, 0.9621)\n",
      "I0927 08:57:16.320942 4424283584 utils_models.py:75] (0.19717272, 0.9621)\n"
     ]
    },
    {
     "name": "stderr",
     "output_type": "stream",
     "text": [
      "Model was evaluated on benign data\n",
      "I0927 08:57:16.344591 4424283584 feedforward_robust.py:411] Model was evaluated on benign data\n",
      "----Regular test accuracy and loss ----\n",
      "I0927 08:57:16.345999 4424283584 utils_models.py:78] ----Regular test accuracy and loss ----\n",
      "(0.19717272, 0.9621)\n",
      "I0927 08:57:16.348413 4424283584 utils_models.py:79] (0.19717272, 0.9621)\n",
      "Model is being evaluated on FGSM data\n",
      "I0927 08:57:16.753507 4424283584 feedforward_robust.py:418] Model is being evaluated on FGSM data\n",
      "----FGSM test accuracy and loss ----\n",
      "I0927 08:57:16.769379 4424283584 utils_models.py:82] ----FGSM test accuracy and loss ----\n",
      "(22.460232, 0.0547)\n",
      "I0927 08:57:16.771296 4424283584 utils_models.py:83] (22.460232, 0.0547)\n"
     ]
    }
   ],
   "source": [
    "non_rob_models, non_rob_sess_list = load_many_models_regular(weights_path_non_rob)"
   ]
  },
  {
   "cell_type": "code",
   "execution_count": 37,
   "metadata": {},
   "outputs": [
    {
     "name": "stderr",
     "output_type": "stream",
     "text": [
      "Model was evaluated on benign data\n",
      "I0927 08:57:48.431096 4424283584 feedforward_robust.py:411] Model was evaluated on benign data\n",
      "Model was evaluated on benign data\n",
      "I0927 08:57:49.176368 4424283584 feedforward_robust.py:411] Model was evaluated on benign data\n",
      "Model was evaluated on benign data\n",
      "I0927 08:57:49.898601 4424283584 feedforward_robust.py:411] Model was evaluated on benign data\n",
      "Model was evaluated on benign data\n",
      "I0927 08:57:50.639580 4424283584 feedforward_robust.py:411] Model was evaluated on benign data\n",
      "Model was evaluated on benign data\n",
      "I0927 08:57:51.384709 4424283584 feedforward_robust.py:411] Model was evaluated on benign data\n",
      "Model was evaluated on benign data\n",
      "I0927 08:57:52.135034 4424283584 feedforward_robust.py:411] Model was evaluated on benign data\n",
      "Model was evaluated on benign data\n",
      "I0927 08:57:52.863636 4424283584 feedforward_robust.py:411] Model was evaluated on benign data\n",
      "Model was evaluated on benign data\n",
      "I0927 08:57:53.602717 4424283584 feedforward_robust.py:411] Model was evaluated on benign data\n"
     ]
    }
   ],
   "source": [
    "spectral_non_rob, fr_non_rob = get_complexitites_many_models_reg(non_rob_models, non_rob_sess_list, x_test_flat, y_test)"
   ]
  },
  {
   "cell_type": "code",
   "execution_count": 63,
   "metadata": {},
   "outputs": [
    {
     "data": {
      "text/plain": [
       "3587641.1437585237"
      ]
     },
     "execution_count": 63,
     "metadata": {},
     "output_type": "execute_result"
    }
   ],
   "source": [
    "np.mean(spectral_non_rob)"
   ]
  },
  {
   "cell_type": "code",
   "execution_count": 62,
   "metadata": {},
   "outputs": [
    {
     "data": {
      "text/plain": [
       "0.0006372704"
      ]
     },
     "execution_count": 62,
     "metadata": {},
     "output_type": "execute_result"
    }
   ],
   "source": [
    "np.mean(fr_non_rob)"
   ]
  },
  {
   "cell_type": "markdown",
   "metadata": {},
   "source": [
    "# Op Norm regularized"
   ]
  },
  {
   "cell_type": "code",
   "execution_count": 40,
   "metadata": {},
   "outputs": [],
   "source": [
    "weight_paths_op_norm = paths.item()['op']"
   ]
  },
  {
   "cell_type": "code",
   "execution_count": 41,
   "metadata": {},
   "outputs": [
    {
     "name": "stderr",
     "output_type": "stream",
     "text": [
      "Initialized instance variables of the robust model class\n",
      "I0927 08:59:18.569344 4424283584 feedforward_robust.py:32] Initialized instance variables of the robust model class\n",
      "Created placeholders for x and y\n",
      "I0927 08:59:18.573112 4424283584 feedforward_robust.py:38] Created placeholders for x and y\n",
      "Created layers and tensor for logits\n",
      "I0927 08:59:18.646989 4424283584 feedforward_robust.py:42] Created layers and tensor for logits\n",
      "Added loss computation to the graph\n",
      "I0927 08:59:18.699156 4424283584 feedforward_robust.py:47] Added loss computation to the graph\n",
      "Added accuracy computation to the graph\n",
      "I0927 08:59:18.706383 4424283584 feedforward_robust.py:51] Added accuracy computation to the graph\n",
      "Model graph was created\n",
      "I0927 08:59:18.709487 4424283584 feedforward_robust.py:54] Model graph was created\n",
      "Created model successfully. Now going to load weights\n",
      "I0927 08:59:18.729078 4424283584 utils_models.py:48] Created model successfully. Now going to load weights\n",
      "Restored model from None\n",
      "I0927 08:59:19.047425 4424283584 utils_models.py:60] Restored model from None\n",
      "Model was evaluated on benign data\n",
      "I0927 08:59:19.215425 4424283584 feedforward_robust.py:411] Model was evaluated on benign data\n",
      "----Regular test accuracy and loss ----\n",
      "I0927 08:59:19.216629 4424283584 utils_models.py:74] ----Regular test accuracy and loss ----\n",
      "(0.28148228, 0.9225)\n",
      "I0927 08:59:19.218837 4424283584 utils_models.py:75] (0.28148228, 0.9225)\n",
      "Model was evaluated on benign data\n",
      "I0927 08:59:19.241584 4424283584 feedforward_robust.py:411] Model was evaluated on benign data\n",
      "----Regular test accuracy and loss ----\n",
      "I0927 08:59:19.242805 4424283584 utils_models.py:78] ----Regular test accuracy and loss ----\n",
      "(0.28148228, 0.9225)\n",
      "I0927 08:59:19.244944 4424283584 utils_models.py:79] (0.28148228, 0.9225)\n",
      "Model is being evaluated on FGSM data\n",
      "I0927 08:59:19.670311 4424283584 feedforward_robust.py:418] Model is being evaluated on FGSM data\n",
      "----FGSM test accuracy and loss ----\n",
      "I0927 08:59:19.684705 4424283584 utils_models.py:82] ----FGSM test accuracy and loss ----\n",
      "(2.4351656, 0.2798)\n",
      "I0927 08:59:19.686384 4424283584 utils_models.py:83] (2.4351656, 0.2798)\n",
      "Initialized instance variables of the robust model class\n",
      "I0927 08:59:20.814452 4424283584 feedforward_robust.py:32] Initialized instance variables of the robust model class\n",
      "Created placeholders for x and y\n",
      "I0927 08:59:20.817561 4424283584 feedforward_robust.py:38] Created placeholders for x and y\n",
      "Created layers and tensor for logits\n",
      "I0927 08:59:20.864389 4424283584 feedforward_robust.py:42] Created layers and tensor for logits\n",
      "Added loss computation to the graph\n",
      "I0927 08:59:20.889087 4424283584 feedforward_robust.py:47] Added loss computation to the graph\n",
      "Added accuracy computation to the graph\n",
      "I0927 08:59:20.899199 4424283584 feedforward_robust.py:51] Added accuracy computation to the graph\n",
      "Model graph was created\n",
      "I0927 08:59:20.902149 4424283584 feedforward_robust.py:54] Model graph was created\n",
      "Created model successfully. Now going to load weights\n",
      "I0927 08:59:20.926656 4424283584 utils_models.py:48] Created model successfully. Now going to load weights\n",
      "Restored model from None\n",
      "I0927 08:59:21.252557 4424283584 utils_models.py:60] Restored model from None\n",
      "Model was evaluated on benign data\n",
      "I0927 08:59:21.430215 4424283584 feedforward_robust.py:411] Model was evaluated on benign data\n",
      "----Regular test accuracy and loss ----\n",
      "I0927 08:59:21.432015 4424283584 utils_models.py:74] ----Regular test accuracy and loss ----\n",
      "(0.28752783, 0.9178)\n",
      "I0927 08:59:21.433413 4424283584 utils_models.py:75] (0.28752783, 0.9178)\n",
      "Model was evaluated on benign data\n",
      "I0927 08:59:21.455817 4424283584 feedforward_robust.py:411] Model was evaluated on benign data\n",
      "----Regular test accuracy and loss ----\n",
      "I0927 08:59:21.457036 4424283584 utils_models.py:78] ----Regular test accuracy and loss ----\n",
      "(0.28752783, 0.9178)\n",
      "I0927 08:59:21.458612 4424283584 utils_models.py:79] (0.28752783, 0.9178)\n",
      "Model is being evaluated on FGSM data\n",
      "I0927 08:59:21.978395 4424283584 feedforward_robust.py:418] Model is being evaluated on FGSM data\n",
      "----FGSM test accuracy and loss ----\n",
      "I0927 08:59:21.994915 4424283584 utils_models.py:82] ----FGSM test accuracy and loss ----\n",
      "(2.7377298, 0.2496)\n",
      "I0927 08:59:21.996515 4424283584 utils_models.py:83] (2.7377298, 0.2496)\n",
      "Initialized instance variables of the robust model class\n",
      "I0927 08:59:23.087411 4424283584 feedforward_robust.py:32] Initialized instance variables of the robust model class\n",
      "Created placeholders for x and y\n",
      "I0927 08:59:23.090837 4424283584 feedforward_robust.py:38] Created placeholders for x and y\n",
      "Created layers and tensor for logits\n",
      "I0927 08:59:23.141976 4424283584 feedforward_robust.py:42] Created layers and tensor for logits\n",
      "Added loss computation to the graph\n",
      "I0927 08:59:23.181385 4424283584 feedforward_robust.py:47] Added loss computation to the graph\n",
      "Added accuracy computation to the graph\n",
      "I0927 08:59:23.191527 4424283584 feedforward_robust.py:51] Added accuracy computation to the graph\n",
      "Model graph was created\n",
      "I0927 08:59:23.204204 4424283584 feedforward_robust.py:54] Model graph was created\n",
      "Created model successfully. Now going to load weights\n",
      "I0927 08:59:23.229626 4424283584 utils_models.py:48] Created model successfully. Now going to load weights\n",
      "Restored model from None\n",
      "I0927 08:59:23.606199 4424283584 utils_models.py:60] Restored model from None\n",
      "Model was evaluated on benign data\n",
      "I0927 08:59:23.775145 4424283584 feedforward_robust.py:411] Model was evaluated on benign data\n",
      "----Regular test accuracy and loss ----\n",
      "I0927 08:59:23.776374 4424283584 utils_models.py:74] ----Regular test accuracy and loss ----\n",
      "(0.29316163, 0.9158)\n",
      "I0927 08:59:23.778884 4424283584 utils_models.py:75] (0.29316163, 0.9158)\n",
      "Model was evaluated on benign data\n",
      "I0927 08:59:23.800943 4424283584 feedforward_robust.py:411] Model was evaluated on benign data\n",
      "----Regular test accuracy and loss ----\n",
      "I0927 08:59:23.804826 4424283584 utils_models.py:78] ----Regular test accuracy and loss ----\n",
      "(0.29316163, 0.9158)\n",
      "I0927 08:59:23.806714 4424283584 utils_models.py:79] (0.29316163, 0.9158)\n",
      "Model is being evaluated on FGSM data\n",
      "I0927 08:59:24.741211 4424283584 feedforward_robust.py:418] Model is being evaluated on FGSM data\n",
      "----FGSM test accuracy and loss ----\n",
      "I0927 08:59:24.764665 4424283584 utils_models.py:82] ----FGSM test accuracy and loss ----\n",
      "(2.5858474, 0.302)\n",
      "I0927 08:59:24.766041 4424283584 utils_models.py:83] (2.5858474, 0.302)\n",
      "Initialized instance variables of the robust model class\n",
      "I0927 08:59:25.908288 4424283584 feedforward_robust.py:32] Initialized instance variables of the robust model class\n",
      "Created placeholders for x and y\n",
      "I0927 08:59:25.911965 4424283584 feedforward_robust.py:38] Created placeholders for x and y\n",
      "Created layers and tensor for logits\n",
      "I0927 08:59:25.965121 4424283584 feedforward_robust.py:42] Created layers and tensor for logits\n",
      "Added loss computation to the graph\n",
      "I0927 08:59:25.999341 4424283584 feedforward_robust.py:47] Added loss computation to the graph\n",
      "Added accuracy computation to the graph\n",
      "I0927 08:59:26.009655 4424283584 feedforward_robust.py:51] Added accuracy computation to the graph\n",
      "Model graph was created\n",
      "I0927 08:59:26.014024 4424283584 feedforward_robust.py:54] Model graph was created\n",
      "Created model successfully. Now going to load weights\n",
      "I0927 08:59:26.041582 4424283584 utils_models.py:48] Created model successfully. Now going to load weights\n",
      "Restored model from None\n",
      "I0927 08:59:26.445060 4424283584 utils_models.py:60] Restored model from None\n",
      "Model was evaluated on benign data\n",
      "I0927 08:59:26.622811 4424283584 feedforward_robust.py:411] Model was evaluated on benign data\n",
      "----Regular test accuracy and loss ----\n",
      "I0927 08:59:26.624090 4424283584 utils_models.py:74] ----Regular test accuracy and loss ----\n",
      "(0.2901489, 0.9137)\n",
      "I0927 08:59:26.625830 4424283584 utils_models.py:75] (0.2901489, 0.9137)\n",
      "Model was evaluated on benign data\n",
      "I0927 08:59:26.650447 4424283584 feedforward_robust.py:411] Model was evaluated on benign data\n",
      "----Regular test accuracy and loss ----\n",
      "I0927 08:59:26.651721 4424283584 utils_models.py:78] ----Regular test accuracy and loss ----\n",
      "(0.2901489, 0.9137)\n",
      "I0927 08:59:26.652918 4424283584 utils_models.py:79] (0.2901489, 0.9137)\n"
     ]
    },
    {
     "name": "stderr",
     "output_type": "stream",
     "text": [
      "Model is being evaluated on FGSM data\n",
      "I0927 08:59:27.170755 4424283584 feedforward_robust.py:418] Model is being evaluated on FGSM data\n",
      "----FGSM test accuracy and loss ----\n",
      "I0927 08:59:27.194570 4424283584 utils_models.py:82] ----FGSM test accuracy and loss ----\n",
      "(2.5988894, 0.2659)\n",
      "I0927 08:59:27.196002 4424283584 utils_models.py:83] (2.5988894, 0.2659)\n",
      "Initialized instance variables of the robust model class\n",
      "I0927 08:59:28.437830 4424283584 feedforward_robust.py:32] Initialized instance variables of the robust model class\n",
      "Created placeholders for x and y\n",
      "I0927 08:59:28.445082 4424283584 feedforward_robust.py:38] Created placeholders for x and y\n",
      "Created layers and tensor for logits\n",
      "I0927 08:59:28.512084 4424283584 feedforward_robust.py:42] Created layers and tensor for logits\n",
      "Added loss computation to the graph\n",
      "I0927 08:59:28.535756 4424283584 feedforward_robust.py:47] Added loss computation to the graph\n",
      "Added accuracy computation to the graph\n",
      "I0927 08:59:28.544826 4424283584 feedforward_robust.py:51] Added accuracy computation to the graph\n",
      "Model graph was created\n",
      "I0927 08:59:28.547737 4424283584 feedforward_robust.py:54] Model graph was created\n",
      "Created model successfully. Now going to load weights\n",
      "I0927 08:59:28.570444 4424283584 utils_models.py:48] Created model successfully. Now going to load weights\n",
      "Restored model from None\n",
      "I0927 08:59:28.965016 4424283584 utils_models.py:60] Restored model from None\n",
      "Model was evaluated on benign data\n",
      "I0927 08:59:29.140932 4424283584 feedforward_robust.py:411] Model was evaluated on benign data\n",
      "----Regular test accuracy and loss ----\n",
      "I0927 08:59:29.142081 4424283584 utils_models.py:74] ----Regular test accuracy and loss ----\n",
      "(0.288467, 0.9172)\n",
      "I0927 08:59:29.143674 4424283584 utils_models.py:75] (0.288467, 0.9172)\n",
      "Model was evaluated on benign data\n",
      "I0927 08:59:29.167985 4424283584 feedforward_robust.py:411] Model was evaluated on benign data\n",
      "----Regular test accuracy and loss ----\n",
      "I0927 08:59:29.170878 4424283584 utils_models.py:78] ----Regular test accuracy and loss ----\n",
      "(0.288467, 0.9172)\n",
      "I0927 08:59:29.173151 4424283584 utils_models.py:79] (0.288467, 0.9172)\n",
      "Model is being evaluated on FGSM data\n",
      "I0927 08:59:29.663671 4424283584 feedforward_robust.py:418] Model is being evaluated on FGSM data\n",
      "----FGSM test accuracy and loss ----\n",
      "I0927 08:59:29.683531 4424283584 utils_models.py:82] ----FGSM test accuracy and loss ----\n",
      "(2.300187, 0.3399)\n",
      "I0927 08:59:29.684808 4424283584 utils_models.py:83] (2.300187, 0.3399)\n",
      "Initialized instance variables of the robust model class\n",
      "I0927 08:59:30.796297 4424283584 feedforward_robust.py:32] Initialized instance variables of the robust model class\n",
      "Created placeholders for x and y\n",
      "I0927 08:59:30.799154 4424283584 feedforward_robust.py:38] Created placeholders for x and y\n",
      "Created layers and tensor for logits\n",
      "I0927 08:59:30.847389 4424283584 feedforward_robust.py:42] Created layers and tensor for logits\n",
      "Added loss computation to the graph\n",
      "I0927 08:59:30.875663 4424283584 feedforward_robust.py:47] Added loss computation to the graph\n",
      "Added accuracy computation to the graph\n",
      "I0927 08:59:30.883802 4424283584 feedforward_robust.py:51] Added accuracy computation to the graph\n",
      "Model graph was created\n",
      "I0927 08:59:30.887936 4424283584 feedforward_robust.py:54] Model graph was created\n",
      "Created model successfully. Now going to load weights\n",
      "I0927 08:59:30.911885 4424283584 utils_models.py:48] Created model successfully. Now going to load weights\n",
      "Restored model from None\n",
      "I0927 08:59:31.295855 4424283584 utils_models.py:60] Restored model from None\n",
      "Model was evaluated on benign data\n",
      "I0927 08:59:31.474387 4424283584 feedforward_robust.py:411] Model was evaluated on benign data\n",
      "----Regular test accuracy and loss ----\n",
      "I0927 08:59:31.475866 4424283584 utils_models.py:74] ----Regular test accuracy and loss ----\n",
      "(0.27571934, 0.9219)\n",
      "I0927 08:59:31.477699 4424283584 utils_models.py:75] (0.27571934, 0.9219)\n",
      "Model was evaluated on benign data\n",
      "I0927 08:59:31.501914 4424283584 feedforward_robust.py:411] Model was evaluated on benign data\n",
      "----Regular test accuracy and loss ----\n",
      "I0927 08:59:31.503988 4424283584 utils_models.py:78] ----Regular test accuracy and loss ----\n",
      "(0.27571934, 0.9219)\n",
      "I0927 08:59:31.505363 4424283584 utils_models.py:79] (0.27571934, 0.9219)\n",
      "Model is being evaluated on FGSM data\n",
      "I0927 08:59:31.989151 4424283584 feedforward_robust.py:418] Model is being evaluated on FGSM data\n",
      "----FGSM test accuracy and loss ----\n",
      "I0927 08:59:32.005141 4424283584 utils_models.py:82] ----FGSM test accuracy and loss ----\n",
      "(2.4906883, 0.2618)\n",
      "I0927 08:59:32.006730 4424283584 utils_models.py:83] (2.4906883, 0.2618)\n",
      "Initialized instance variables of the robust model class\n",
      "I0927 08:59:33.146492 4424283584 feedforward_robust.py:32] Initialized instance variables of the robust model class\n",
      "Created placeholders for x and y\n",
      "I0927 08:59:33.149741 4424283584 feedforward_robust.py:38] Created placeholders for x and y\n",
      "Created layers and tensor for logits\n",
      "I0927 08:59:33.201551 4424283584 feedforward_robust.py:42] Created layers and tensor for logits\n",
      "Added loss computation to the graph\n",
      "I0927 08:59:33.223247 4424283584 feedforward_robust.py:47] Added loss computation to the graph\n",
      "Added accuracy computation to the graph\n",
      "I0927 08:59:33.230806 4424283584 feedforward_robust.py:51] Added accuracy computation to the graph\n",
      "Model graph was created\n",
      "I0927 08:59:33.235129 4424283584 feedforward_robust.py:54] Model graph was created\n",
      "Created model successfully. Now going to load weights\n",
      "I0927 08:59:33.262453 4424283584 utils_models.py:48] Created model successfully. Now going to load weights\n",
      "Restored model from None\n",
      "I0927 08:59:33.638494 4424283584 utils_models.py:60] Restored model from None\n",
      "Model was evaluated on benign data\n",
      "I0927 08:59:33.830914 4424283584 feedforward_robust.py:411] Model was evaluated on benign data\n",
      "----Regular test accuracy and loss ----\n",
      "I0927 08:59:33.832403 4424283584 utils_models.py:74] ----Regular test accuracy and loss ----\n",
      "(0.2582109, 0.9256)\n",
      "I0927 08:59:33.834201 4424283584 utils_models.py:75] (0.2582109, 0.9256)\n",
      "Model was evaluated on benign data\n",
      "I0927 08:59:33.862098 4424283584 feedforward_robust.py:411] Model was evaluated on benign data\n",
      "----Regular test accuracy and loss ----\n",
      "I0927 08:59:33.863533 4424283584 utils_models.py:78] ----Regular test accuracy and loss ----\n",
      "(0.2582109, 0.9256)\n",
      "I0927 08:59:33.866011 4424283584 utils_models.py:79] (0.2582109, 0.9256)\n",
      "Model is being evaluated on FGSM data\n",
      "I0927 08:59:34.335958 4424283584 feedforward_robust.py:418] Model is being evaluated on FGSM data\n",
      "----FGSM test accuracy and loss ----\n",
      "I0927 08:59:34.352169 4424283584 utils_models.py:82] ----FGSM test accuracy and loss ----\n",
      "(2.4934, 0.2771)\n",
      "I0927 08:59:34.353950 4424283584 utils_models.py:83] (2.4934, 0.2771)\n",
      "Initialized instance variables of the robust model class\n",
      "I0927 08:59:35.439517 4424283584 feedforward_robust.py:32] Initialized instance variables of the robust model class\n",
      "Created placeholders for x and y\n",
      "I0927 08:59:35.443274 4424283584 feedforward_robust.py:38] Created placeholders for x and y\n",
      "Created layers and tensor for logits\n",
      "I0927 08:59:35.489626 4424283584 feedforward_robust.py:42] Created layers and tensor for logits\n",
      "Added loss computation to the graph\n",
      "I0927 08:59:35.509650 4424283584 feedforward_robust.py:47] Added loss computation to the graph\n",
      "Added accuracy computation to the graph\n",
      "I0927 08:59:35.517621 4424283584 feedforward_robust.py:51] Added accuracy computation to the graph\n",
      "Model graph was created\n",
      "I0927 08:59:35.520736 4424283584 feedforward_robust.py:54] Model graph was created\n",
      "Created model successfully. Now going to load weights\n",
      "I0927 08:59:35.545675 4424283584 utils_models.py:48] Created model successfully. Now going to load weights\n",
      "Restored model from None\n",
      "I0927 08:59:35.904551 4424283584 utils_models.py:60] Restored model from None\n",
      "Model was evaluated on benign data\n",
      "I0927 08:59:36.088903 4424283584 feedforward_robust.py:411] Model was evaluated on benign data\n",
      "----Regular test accuracy and loss ----\n",
      "I0927 08:59:36.090096 4424283584 utils_models.py:74] ----Regular test accuracy and loss ----\n",
      "(0.27628583, 0.9222)\n",
      "I0927 08:59:36.091672 4424283584 utils_models.py:75] (0.27628583, 0.9222)\n"
     ]
    },
    {
     "name": "stderr",
     "output_type": "stream",
     "text": [
      "Model was evaluated on benign data\n",
      "I0927 08:59:36.118880 4424283584 feedforward_robust.py:411] Model was evaluated on benign data\n",
      "----Regular test accuracy and loss ----\n",
      "I0927 08:59:36.120061 4424283584 utils_models.py:78] ----Regular test accuracy and loss ----\n",
      "(0.27628583, 0.9222)\n",
      "I0927 08:59:36.121668 4424283584 utils_models.py:79] (0.27628583, 0.9222)\n",
      "Model is being evaluated on FGSM data\n",
      "I0927 08:59:36.604517 4424283584 feedforward_robust.py:418] Model is being evaluated on FGSM data\n",
      "----FGSM test accuracy and loss ----\n",
      "I0927 08:59:36.622340 4424283584 utils_models.py:82] ----FGSM test accuracy and loss ----\n",
      "(2.328524, 0.2964)\n",
      "I0927 08:59:36.624046 4424283584 utils_models.py:83] (2.328524, 0.2964)\n"
     ]
    }
   ],
   "source": [
    "op_norm_models, sess_op_list = load_many_models_regular(weight_paths_op_norm)"
   ]
  },
  {
   "cell_type": "code",
   "execution_count": 42,
   "metadata": {},
   "outputs": [
    {
     "name": "stderr",
     "output_type": "stream",
     "text": [
      "Model was evaluated on benign data\n",
      "I0927 08:59:38.267462 4424283584 feedforward_robust.py:411] Model was evaluated on benign data\n",
      "Model was evaluated on benign data\n",
      "I0927 08:59:39.202006 4424283584 feedforward_robust.py:411] Model was evaluated on benign data\n",
      "Model was evaluated on benign data\n",
      "I0927 08:59:40.142328 4424283584 feedforward_robust.py:411] Model was evaluated on benign data\n",
      "Model was evaluated on benign data\n",
      "I0927 08:59:41.082664 4424283584 feedforward_robust.py:411] Model was evaluated on benign data\n",
      "Model was evaluated on benign data\n",
      "I0927 08:59:42.135805 4424283584 feedforward_robust.py:411] Model was evaluated on benign data\n",
      "Model was evaluated on benign data\n",
      "I0927 08:59:43.125530 4424283584 feedforward_robust.py:411] Model was evaluated on benign data\n",
      "Model was evaluated on benign data\n",
      "I0927 08:59:44.168884 4424283584 feedforward_robust.py:411] Model was evaluated on benign data\n",
      "Model was evaluated on benign data\n",
      "I0927 08:59:45.150738 4424283584 feedforward_robust.py:411] Model was evaluated on benign data\n"
     ]
    }
   ],
   "source": [
    "spectral_op_list, fr_op_list = get_complexitites_many_models_reg(op_norm_models, sess_op_list, x_test_flat, y_test)"
   ]
  },
  {
   "cell_type": "code",
   "execution_count": 66,
   "metadata": {},
   "outputs": [
    {
     "name": "stdout",
     "output_type": "stream",
     "text": [
      "47874.3027656854\n",
      "0.0018820629\n"
     ]
    }
   ],
   "source": [
    "print(np.mean(spectral_op_list))\n",
    "print(np.mean(fr_op_list))"
   ]
  },
  {
   "cell_type": "markdown",
   "metadata": {},
   "source": [
    "# Trace regularization for first layer"
   ]
  },
  {
   "cell_type": "code",
   "execution_count": 43,
   "metadata": {},
   "outputs": [],
   "source": [
    "weights_path_trace_first = paths.item()['trace_first']"
   ]
  },
  {
   "cell_type": "code",
   "execution_count": 44,
   "metadata": {},
   "outputs": [
    {
     "name": "stderr",
     "output_type": "stream",
     "text": [
      "Initialized instance variables of the robust model class\n",
      "I0927 09:00:15.202970 4424283584 feedforward_robust.py:32] Initialized instance variables of the robust model class\n",
      "Created placeholders for x and y\n",
      "I0927 09:00:15.206628 4424283584 feedforward_robust.py:38] Created placeholders for x and y\n",
      "Created layers and tensor for logits\n",
      "I0927 09:00:15.260502 4424283584 feedforward_robust.py:42] Created layers and tensor for logits\n",
      "Added loss computation to the graph\n",
      "I0927 09:00:15.308504 4424283584 feedforward_robust.py:47] Added loss computation to the graph\n",
      "Added accuracy computation to the graph\n",
      "I0927 09:00:15.320437 4424283584 feedforward_robust.py:51] Added accuracy computation to the graph\n",
      "Model graph was created\n",
      "I0927 09:00:15.328474 4424283584 feedforward_robust.py:54] Model graph was created\n",
      "Created model successfully. Now going to load weights\n",
      "I0927 09:00:15.359493 4424283584 utils_models.py:48] Created model successfully. Now going to load weights\n",
      "Restored model from None\n",
      "I0927 09:00:15.776154 4424283584 utils_models.py:60] Restored model from None\n",
      "Model was evaluated on benign data\n",
      "I0927 09:00:15.990787 4424283584 feedforward_robust.py:411] Model was evaluated on benign data\n",
      "----Regular test accuracy and loss ----\n",
      "I0927 09:00:15.993338 4424283584 utils_models.py:74] ----Regular test accuracy and loss ----\n",
      "(0.36078158, 0.896)\n",
      "I0927 09:00:15.995168 4424283584 utils_models.py:75] (0.36078158, 0.896)\n",
      "Model was evaluated on benign data\n",
      "I0927 09:00:16.015124 4424283584 feedforward_robust.py:411] Model was evaluated on benign data\n",
      "----Regular test accuracy and loss ----\n",
      "I0927 09:00:16.016341 4424283584 utils_models.py:78] ----Regular test accuracy and loss ----\n",
      "(0.36078158, 0.896)\n",
      "I0927 09:00:16.018579 4424283584 utils_models.py:79] (0.36078158, 0.896)\n",
      "Model is being evaluated on FGSM data\n",
      "I0927 09:00:16.588357 4424283584 feedforward_robust.py:418] Model is being evaluated on FGSM data\n",
      "----FGSM test accuracy and loss ----\n",
      "I0927 09:00:16.605443 4424283584 utils_models.py:82] ----FGSM test accuracy and loss ----\n",
      "(3.6325984, 0.3174)\n",
      "I0927 09:00:16.606608 4424283584 utils_models.py:83] (3.6325984, 0.3174)\n",
      "Initialized instance variables of the robust model class\n",
      "I0927 09:00:17.837090 4424283584 feedforward_robust.py:32] Initialized instance variables of the robust model class\n",
      "Created placeholders for x and y\n",
      "I0927 09:00:17.840991 4424283584 feedforward_robust.py:38] Created placeholders for x and y\n",
      "Created layers and tensor for logits\n",
      "I0927 09:00:17.913723 4424283584 feedforward_robust.py:42] Created layers and tensor for logits\n",
      "Added loss computation to the graph\n",
      "I0927 09:00:17.953573 4424283584 feedforward_robust.py:47] Added loss computation to the graph\n",
      "Added accuracy computation to the graph\n",
      "I0927 09:00:17.965644 4424283584 feedforward_robust.py:51] Added accuracy computation to the graph\n",
      "Model graph was created\n",
      "I0927 09:00:17.973061 4424283584 feedforward_robust.py:54] Model graph was created\n",
      "Created model successfully. Now going to load weights\n",
      "I0927 09:00:18.008911 4424283584 utils_models.py:48] Created model successfully. Now going to load weights\n",
      "Restored model from None\n",
      "I0927 09:00:18.441102 4424283584 utils_models.py:60] Restored model from None\n",
      "Model was evaluated on benign data\n",
      "I0927 09:00:18.667784 4424283584 feedforward_robust.py:411] Model was evaluated on benign data\n",
      "----Regular test accuracy and loss ----\n",
      "I0927 09:00:18.671096 4424283584 utils_models.py:74] ----Regular test accuracy and loss ----\n",
      "(0.49695742, 0.8578)\n",
      "I0927 09:00:18.674578 4424283584 utils_models.py:75] (0.49695742, 0.8578)\n",
      "Model was evaluated on benign data\n",
      "I0927 09:00:18.711544 4424283584 feedforward_robust.py:411] Model was evaluated on benign data\n",
      "----Regular test accuracy and loss ----\n",
      "I0927 09:00:18.712950 4424283584 utils_models.py:78] ----Regular test accuracy and loss ----\n",
      "(0.49695742, 0.8578)\n",
      "I0927 09:00:18.714744 4424283584 utils_models.py:79] (0.49695742, 0.8578)\n",
      "Model is being evaluated on FGSM data\n",
      "I0927 09:00:19.336127 4424283584 feedforward_robust.py:418] Model is being evaluated on FGSM data\n",
      "----FGSM test accuracy and loss ----\n",
      "I0927 09:00:19.352988 4424283584 utils_models.py:82] ----FGSM test accuracy and loss ----\n",
      "(4.4495354, 0.221)\n",
      "I0927 09:00:19.354665 4424283584 utils_models.py:83] (4.4495354, 0.221)\n",
      "Initialized instance variables of the robust model class\n",
      "I0927 09:00:20.765054 4424283584 feedforward_robust.py:32] Initialized instance variables of the robust model class\n",
      "Created placeholders for x and y\n",
      "I0927 09:00:20.768390 4424283584 feedforward_robust.py:38] Created placeholders for x and y\n",
      "Created layers and tensor for logits\n",
      "I0927 09:00:20.828902 4424283584 feedforward_robust.py:42] Created layers and tensor for logits\n",
      "Added loss computation to the graph\n",
      "I0927 09:00:20.863505 4424283584 feedforward_robust.py:47] Added loss computation to the graph\n",
      "Added accuracy computation to the graph\n",
      "I0927 09:00:20.870882 4424283584 feedforward_robust.py:51] Added accuracy computation to the graph\n",
      "Model graph was created\n",
      "I0927 09:00:20.875366 4424283584 feedforward_robust.py:54] Model graph was created\n",
      "Created model successfully. Now going to load weights\n",
      "I0927 09:00:20.907473 4424283584 utils_models.py:48] Created model successfully. Now going to load weights\n",
      "Restored model from None\n",
      "I0927 09:00:21.340187 4424283584 utils_models.py:60] Restored model from None\n",
      "Model was evaluated on benign data\n",
      "I0927 09:00:21.555799 4424283584 feedforward_robust.py:411] Model was evaluated on benign data\n",
      "----Regular test accuracy and loss ----\n",
      "I0927 09:00:21.557908 4424283584 utils_models.py:74] ----Regular test accuracy and loss ----\n",
      "(0.33195913, 0.8961)\n",
      "I0927 09:00:21.559926 4424283584 utils_models.py:75] (0.33195913, 0.8961)\n",
      "Model was evaluated on benign data\n",
      "I0927 09:00:21.586894 4424283584 feedforward_robust.py:411] Model was evaluated on benign data\n",
      "----Regular test accuracy and loss ----\n",
      "I0927 09:00:21.589199 4424283584 utils_models.py:78] ----Regular test accuracy and loss ----\n",
      "(0.33195913, 0.8961)\n",
      "I0927 09:00:21.591839 4424283584 utils_models.py:79] (0.33195913, 0.8961)\n",
      "Model is being evaluated on FGSM data\n",
      "I0927 09:00:22.219058 4424283584 feedforward_robust.py:418] Model is being evaluated on FGSM data\n",
      "----FGSM test accuracy and loss ----\n",
      "I0927 09:00:22.240058 4424283584 utils_models.py:82] ----FGSM test accuracy and loss ----\n",
      "(3.6644602, 0.2947)\n",
      "I0927 09:00:22.241955 4424283584 utils_models.py:83] (3.6644602, 0.2947)\n",
      "Initialized instance variables of the robust model class\n",
      "I0927 09:00:23.549366 4424283584 feedforward_robust.py:32] Initialized instance variables of the robust model class\n",
      "Created placeholders for x and y\n",
      "I0927 09:00:23.552565 4424283584 feedforward_robust.py:38] Created placeholders for x and y\n",
      "Created layers and tensor for logits\n",
      "I0927 09:00:23.599165 4424283584 feedforward_robust.py:42] Created layers and tensor for logits\n",
      "Added loss computation to the graph\n",
      "I0927 09:00:23.626837 4424283584 feedforward_robust.py:47] Added loss computation to the graph\n",
      "Added accuracy computation to the graph\n",
      "I0927 09:00:23.636744 4424283584 feedforward_robust.py:51] Added accuracy computation to the graph\n",
      "Model graph was created\n",
      "I0927 09:00:23.639776 4424283584 feedforward_robust.py:54] Model graph was created\n",
      "Created model successfully. Now going to load weights\n",
      "I0927 09:00:23.667237 4424283584 utils_models.py:48] Created model successfully. Now going to load weights\n",
      "Restored model from None\n",
      "I0927 09:00:24.144080 4424283584 utils_models.py:60] Restored model from None\n",
      "Model was evaluated on benign data\n",
      "I0927 09:00:24.348723 4424283584 feedforward_robust.py:411] Model was evaluated on benign data\n",
      "----Regular test accuracy and loss ----\n",
      "I0927 09:00:24.350132 4424283584 utils_models.py:74] ----Regular test accuracy and loss ----\n",
      "(0.2280026, 0.9372)\n",
      "I0927 09:00:24.352051 4424283584 utils_models.py:75] (0.2280026, 0.9372)\n",
      "Model was evaluated on benign data\n",
      "I0927 09:00:24.380539 4424283584 feedforward_robust.py:411] Model was evaluated on benign data\n",
      "----Regular test accuracy and loss ----\n",
      "I0927 09:00:24.381932 4424283584 utils_models.py:78] ----Regular test accuracy and loss ----\n",
      "(0.2280026, 0.9372)\n",
      "I0927 09:00:24.384146 4424283584 utils_models.py:79] (0.2280026, 0.9372)\n"
     ]
    },
    {
     "name": "stderr",
     "output_type": "stream",
     "text": [
      "Model is being evaluated on FGSM data\n",
      "I0927 09:00:24.938070 4424283584 feedforward_robust.py:418] Model is being evaluated on FGSM data\n",
      "----FGSM test accuracy and loss ----\n",
      "I0927 09:00:24.956962 4424283584 utils_models.py:82] ----FGSM test accuracy and loss ----\n",
      "(3.4090078, 0.2847)\n",
      "I0927 09:00:24.958319 4424283584 utils_models.py:83] (3.4090078, 0.2847)\n",
      "Initialized instance variables of the robust model class\n",
      "I0927 09:00:26.130677 4424283584 feedforward_robust.py:32] Initialized instance variables of the robust model class\n",
      "Created placeholders for x and y\n",
      "I0927 09:00:26.133857 4424283584 feedforward_robust.py:38] Created placeholders for x and y\n",
      "Created layers and tensor for logits\n",
      "I0927 09:00:26.177358 4424283584 feedforward_robust.py:42] Created layers and tensor for logits\n",
      "Added loss computation to the graph\n",
      "I0927 09:00:26.203773 4424283584 feedforward_robust.py:47] Added loss computation to the graph\n",
      "Added accuracy computation to the graph\n",
      "I0927 09:00:26.209935 4424283584 feedforward_robust.py:51] Added accuracy computation to the graph\n",
      "Model graph was created\n",
      "I0927 09:00:26.213657 4424283584 feedforward_robust.py:54] Model graph was created\n",
      "Created model successfully. Now going to load weights\n",
      "I0927 09:00:26.237931 4424283584 utils_models.py:48] Created model successfully. Now going to load weights\n",
      "Restored model from None\n",
      "I0927 09:00:26.670339 4424283584 utils_models.py:60] Restored model from None\n",
      "Model was evaluated on benign data\n",
      "I0927 09:00:26.878544 4424283584 feedforward_robust.py:411] Model was evaluated on benign data\n",
      "----Regular test accuracy and loss ----\n",
      "I0927 09:00:26.879735 4424283584 utils_models.py:74] ----Regular test accuracy and loss ----\n",
      "(0.2343002, 0.9356)\n",
      "I0927 09:00:26.882071 4424283584 utils_models.py:75] (0.2343002, 0.9356)\n",
      "Model was evaluated on benign data\n",
      "I0927 09:00:26.908895 4424283584 feedforward_robust.py:411] Model was evaluated on benign data\n",
      "----Regular test accuracy and loss ----\n",
      "I0927 09:00:26.910440 4424283584 utils_models.py:78] ----Regular test accuracy and loss ----\n",
      "(0.2343002, 0.9356)\n",
      "I0927 09:00:26.913498 4424283584 utils_models.py:79] (0.2343002, 0.9356)\n",
      "Model is being evaluated on FGSM data\n",
      "I0927 09:00:27.466168 4424283584 feedforward_robust.py:418] Model is being evaluated on FGSM data\n",
      "----FGSM test accuracy and loss ----\n",
      "I0927 09:00:27.481629 4424283584 utils_models.py:82] ----FGSM test accuracy and loss ----\n",
      "(3.4302616, 0.3214)\n",
      "I0927 09:00:27.482948 4424283584 utils_models.py:83] (3.4302616, 0.3214)\n",
      "Initialized instance variables of the robust model class\n",
      "I0927 09:00:28.697253 4424283584 feedforward_robust.py:32] Initialized instance variables of the robust model class\n",
      "Created placeholders for x and y\n",
      "I0927 09:00:28.700608 4424283584 feedforward_robust.py:38] Created placeholders for x and y\n",
      "Created layers and tensor for logits\n",
      "I0927 09:00:28.742711 4424283584 feedforward_robust.py:42] Created layers and tensor for logits\n",
      "Added loss computation to the graph\n",
      "I0927 09:00:28.767626 4424283584 feedforward_robust.py:47] Added loss computation to the graph\n",
      "Added accuracy computation to the graph\n",
      "I0927 09:00:28.776368 4424283584 feedforward_robust.py:51] Added accuracy computation to the graph\n",
      "Model graph was created\n",
      "I0927 09:00:28.779240 4424283584 feedforward_robust.py:54] Model graph was created\n",
      "Created model successfully. Now going to load weights\n",
      "I0927 09:00:28.808804 4424283584 utils_models.py:48] Created model successfully. Now going to load weights\n",
      "Restored model from None\n",
      "I0927 09:00:29.246686 4424283584 utils_models.py:60] Restored model from None\n",
      "Model was evaluated on benign data\n",
      "I0927 09:00:29.453485 4424283584 feedforward_robust.py:411] Model was evaluated on benign data\n",
      "----Regular test accuracy and loss ----\n",
      "I0927 09:00:29.454782 4424283584 utils_models.py:74] ----Regular test accuracy and loss ----\n",
      "(0.26884952, 0.9248)\n",
      "I0927 09:00:29.456313 4424283584 utils_models.py:75] (0.26884952, 0.9248)\n",
      "Model was evaluated on benign data\n",
      "I0927 09:00:29.479448 4424283584 feedforward_robust.py:411] Model was evaluated on benign data\n",
      "----Regular test accuracy and loss ----\n",
      "I0927 09:00:29.482471 4424283584 utils_models.py:78] ----Regular test accuracy and loss ----\n",
      "(0.26884952, 0.9248)\n",
      "I0927 09:00:29.484731 4424283584 utils_models.py:79] (0.26884952, 0.9248)\n",
      "Model is being evaluated on FGSM data\n",
      "I0927 09:00:30.031907 4424283584 feedforward_robust.py:418] Model is being evaluated on FGSM data\n",
      "----FGSM test accuracy and loss ----\n",
      "I0927 09:00:30.051652 4424283584 utils_models.py:82] ----FGSM test accuracy and loss ----\n",
      "(3.2931468, 0.3483)\n",
      "I0927 09:00:30.053118 4424283584 utils_models.py:83] (3.2931468, 0.3483)\n",
      "Initialized instance variables of the robust model class\n",
      "I0927 09:00:31.257499 4424283584 feedforward_robust.py:32] Initialized instance variables of the robust model class\n",
      "Created placeholders for x and y\n",
      "I0927 09:00:31.260823 4424283584 feedforward_robust.py:38] Created placeholders for x and y\n",
      "Created layers and tensor for logits\n",
      "I0927 09:00:31.306864 4424283584 feedforward_robust.py:42] Created layers and tensor for logits\n",
      "Added loss computation to the graph\n",
      "I0927 09:00:31.333325 4424283584 feedforward_robust.py:47] Added loss computation to the graph\n",
      "Added accuracy computation to the graph\n",
      "I0927 09:00:31.339494 4424283584 feedforward_robust.py:51] Added accuracy computation to the graph\n",
      "Model graph was created\n",
      "I0927 09:00:31.342790 4424283584 feedforward_robust.py:54] Model graph was created\n",
      "Created model successfully. Now going to load weights\n",
      "I0927 09:00:31.371254 4424283584 utils_models.py:48] Created model successfully. Now going to load weights\n",
      "Restored model from None\n",
      "I0927 09:00:31.846029 4424283584 utils_models.py:60] Restored model from None\n",
      "Model was evaluated on benign data\n",
      "I0927 09:00:32.061686 4424283584 feedforward_robust.py:411] Model was evaluated on benign data\n",
      "----Regular test accuracy and loss ----\n",
      "I0927 09:00:32.063061 4424283584 utils_models.py:74] ----Regular test accuracy and loss ----\n",
      "(0.28684628, 0.9161)\n",
      "I0927 09:00:32.065213 4424283584 utils_models.py:75] (0.28684628, 0.9161)\n",
      "Model was evaluated on benign data\n",
      "I0927 09:00:32.091531 4424283584 feedforward_robust.py:411] Model was evaluated on benign data\n",
      "----Regular test accuracy and loss ----\n",
      "I0927 09:00:32.093457 4424283584 utils_models.py:78] ----Regular test accuracy and loss ----\n",
      "(0.28684628, 0.9161)\n",
      "I0927 09:00:32.095359 4424283584 utils_models.py:79] (0.28684628, 0.9161)\n",
      "Model is being evaluated on FGSM data\n",
      "I0927 09:00:32.724312 4424283584 feedforward_robust.py:418] Model is being evaluated on FGSM data\n",
      "----FGSM test accuracy and loss ----\n",
      "I0927 09:00:32.739728 4424283584 utils_models.py:82] ----FGSM test accuracy and loss ----\n",
      "(3.5319195, 0.309)\n",
      "I0927 09:00:32.741083 4424283584 utils_models.py:83] (3.5319195, 0.309)\n",
      "Initialized instance variables of the robust model class\n",
      "I0927 09:00:33.972095 4424283584 feedforward_robust.py:32] Initialized instance variables of the robust model class\n",
      "Created placeholders for x and y\n",
      "I0927 09:00:33.975414 4424283584 feedforward_robust.py:38] Created placeholders for x and y\n",
      "Created layers and tensor for logits\n",
      "I0927 09:00:34.019590 4424283584 feedforward_robust.py:42] Created layers and tensor for logits\n",
      "Added loss computation to the graph\n",
      "I0927 09:00:34.048226 4424283584 feedforward_robust.py:47] Added loss computation to the graph\n",
      "Added accuracy computation to the graph\n",
      "I0927 09:00:34.058686 4424283584 feedforward_robust.py:51] Added accuracy computation to the graph\n",
      "Model graph was created\n",
      "I0927 09:00:34.063516 4424283584 feedforward_robust.py:54] Model graph was created\n",
      "Created model successfully. Now going to load weights\n",
      "I0927 09:00:34.092910 4424283584 utils_models.py:48] Created model successfully. Now going to load weights\n",
      "Restored model from None\n",
      "I0927 09:00:34.564619 4424283584 utils_models.py:60] Restored model from None\n",
      "Model was evaluated on benign data\n",
      "I0927 09:00:34.781340 4424283584 feedforward_robust.py:411] Model was evaluated on benign data\n",
      "----Regular test accuracy and loss ----\n",
      "I0927 09:00:34.782765 4424283584 utils_models.py:74] ----Regular test accuracy and loss ----\n",
      "(0.2695543, 0.927)\n",
      "I0927 09:00:34.787011 4424283584 utils_models.py:75] (0.2695543, 0.927)\n"
     ]
    },
    {
     "name": "stderr",
     "output_type": "stream",
     "text": [
      "Model was evaluated on benign data\n",
      "I0927 09:00:34.814350 4424283584 feedforward_robust.py:411] Model was evaluated on benign data\n",
      "----Regular test accuracy and loss ----\n",
      "I0927 09:00:34.816385 4424283584 utils_models.py:78] ----Regular test accuracy and loss ----\n",
      "(0.2695543, 0.927)\n",
      "I0927 09:00:34.818340 4424283584 utils_models.py:79] (0.2695543, 0.927)\n",
      "Model is being evaluated on FGSM data\n",
      "I0927 09:00:35.409233 4424283584 feedforward_robust.py:418] Model is being evaluated on FGSM data\n",
      "----FGSM test accuracy and loss ----\n",
      "I0927 09:00:35.426403 4424283584 utils_models.py:82] ----FGSM test accuracy and loss ----\n",
      "(3.1846125, 0.3573)\n",
      "I0927 09:00:35.430086 4424283584 utils_models.py:83] (3.1846125, 0.3573)\n"
     ]
    }
   ],
   "source": [
    "trace_first_models, sess_trace_first_list = load_many_models_regular(weights_path_trace_first)"
   ]
  },
  {
   "cell_type": "code",
   "execution_count": 46,
   "metadata": {},
   "outputs": [
    {
     "name": "stderr",
     "output_type": "stream",
     "text": [
      "Model was evaluated on benign data\n",
      "I0927 09:01:08.201530 4424283584 feedforward_robust.py:411] Model was evaluated on benign data\n",
      "Model was evaluated on benign data\n",
      "I0927 09:01:09.129101 4424283584 feedforward_robust.py:411] Model was evaluated on benign data\n",
      "Model was evaluated on benign data\n",
      "I0927 09:01:09.973620 4424283584 feedforward_robust.py:411] Model was evaluated on benign data\n",
      "Model was evaluated on benign data\n",
      "I0927 09:01:10.815388 4424283584 feedforward_robust.py:411] Model was evaluated on benign data\n",
      "Model was evaluated on benign data\n",
      "I0927 09:01:11.647260 4424283584 feedforward_robust.py:411] Model was evaluated on benign data\n",
      "Model was evaluated on benign data\n",
      "I0927 09:01:12.907541 4424283584 feedforward_robust.py:411] Model was evaluated on benign data\n",
      "Model was evaluated on benign data\n",
      "I0927 09:01:14.140743 4424283584 feedforward_robust.py:411] Model was evaluated on benign data\n",
      "Model was evaluated on benign data\n",
      "I0927 09:01:15.363384 4424283584 feedforward_robust.py:411] Model was evaluated on benign data\n"
     ]
    }
   ],
   "source": [
    "spectral_trace_first_list, fr_trace_first_list = get_complexitites_many_models_reg(trace_first_models, sess_trace_first_list, x_test_flat, y_test)"
   ]
  },
  {
   "cell_type": "code",
   "execution_count": 65,
   "metadata": {},
   "outputs": [
    {
     "name": "stdout",
     "output_type": "stream",
     "text": [
      "424965874.2864362\n",
      "0.0008890634\n"
     ]
    }
   ],
   "source": [
    "print(np.mean(spectral_trace_first_list))\n",
    "print(np.mean(fr_trace_first_list))"
   ]
  },
  {
   "cell_type": "markdown",
   "metadata": {},
   "source": [
    "# Trace regularization for all layers"
   ]
  },
  {
   "cell_type": "code",
   "execution_count": 47,
   "metadata": {},
   "outputs": [],
   "source": [
    "weight_paths_trace_all = paths.item()['trace_all']"
   ]
  },
  {
   "cell_type": "code",
   "execution_count": 48,
   "metadata": {},
   "outputs": [
    {
     "name": "stderr",
     "output_type": "stream",
     "text": [
      "Initialized instance variables of the robust model class\n",
      "I0927 09:01:36.331386 4424283584 feedforward_robust.py:32] Initialized instance variables of the robust model class\n",
      "Created placeholders for x and y\n",
      "I0927 09:01:36.342363 4424283584 feedforward_robust.py:38] Created placeholders for x and y\n",
      "Created layers and tensor for logits\n",
      "I0927 09:01:36.413303 4424283584 feedforward_robust.py:42] Created layers and tensor for logits\n",
      "Added loss computation to the graph\n",
      "I0927 09:01:36.478010 4424283584 feedforward_robust.py:47] Added loss computation to the graph\n",
      "Added accuracy computation to the graph\n",
      "I0927 09:01:36.490036 4424283584 feedforward_robust.py:51] Added accuracy computation to the graph\n",
      "Model graph was created\n",
      "I0927 09:01:36.495857 4424283584 feedforward_robust.py:54] Model graph was created\n",
      "Created model successfully. Now going to load weights\n",
      "I0927 09:01:36.565716 4424283584 utils_models.py:48] Created model successfully. Now going to load weights\n",
      "Restored model from None\n",
      "I0927 09:01:37.332329 4424283584 utils_models.py:60] Restored model from None\n",
      "Model was evaluated on benign data\n",
      "I0927 09:01:37.582103 4424283584 feedforward_robust.py:411] Model was evaluated on benign data\n",
      "----Regular test accuracy and loss ----\n",
      "I0927 09:01:37.583234 4424283584 utils_models.py:74] ----Regular test accuracy and loss ----\n",
      "(0.5005887, 0.8737)\n",
      "I0927 09:01:37.585057 4424283584 utils_models.py:75] (0.5005887, 0.8737)\n",
      "Model was evaluated on benign data\n",
      "I0927 09:01:37.606271 4424283584 feedforward_robust.py:411] Model was evaluated on benign data\n",
      "----Regular test accuracy and loss ----\n",
      "I0927 09:01:37.607490 4424283584 utils_models.py:78] ----Regular test accuracy and loss ----\n",
      "(0.5005887, 0.8737)\n",
      "I0927 09:01:37.608911 4424283584 utils_models.py:79] (0.5005887, 0.8737)\n",
      "Model is being evaluated on FGSM data\n",
      "I0927 09:01:38.312624 4424283584 feedforward_robust.py:418] Model is being evaluated on FGSM data\n",
      "----FGSM test accuracy and loss ----\n",
      "I0927 09:01:38.329566 4424283584 utils_models.py:82] ----FGSM test accuracy and loss ----\n",
      "(4.038418, 0.0973)\n",
      "I0927 09:01:38.331236 4424283584 utils_models.py:83] (4.038418, 0.0973)\n",
      "Initialized instance variables of the robust model class\n",
      "I0927 09:01:39.656634 4424283584 feedforward_robust.py:32] Initialized instance variables of the robust model class\n",
      "Created placeholders for x and y\n",
      "I0927 09:01:39.659863 4424283584 feedforward_robust.py:38] Created placeholders for x and y\n",
      "Created layers and tensor for logits\n",
      "I0927 09:01:39.708232 4424283584 feedforward_robust.py:42] Created layers and tensor for logits\n",
      "Added loss computation to the graph\n",
      "I0927 09:01:39.734573 4424283584 feedforward_robust.py:47] Added loss computation to the graph\n",
      "Added accuracy computation to the graph\n",
      "I0927 09:01:39.741914 4424283584 feedforward_robust.py:51] Added accuracy computation to the graph\n",
      "Model graph was created\n",
      "I0927 09:01:39.746426 4424283584 feedforward_robust.py:54] Model graph was created\n",
      "Created model successfully. Now going to load weights\n",
      "I0927 09:01:39.781790 4424283584 utils_models.py:48] Created model successfully. Now going to load weights\n",
      "Restored model from None\n",
      "I0927 09:01:40.358988 4424283584 utils_models.py:60] Restored model from None\n",
      "Model was evaluated on benign data\n",
      "I0927 09:01:40.648711 4424283584 feedforward_robust.py:411] Model was evaluated on benign data\n",
      "----Regular test accuracy and loss ----\n",
      "I0927 09:01:40.650093 4424283584 utils_models.py:74] ----Regular test accuracy and loss ----\n",
      "(0.49650723, 0.8546)\n",
      "I0927 09:01:40.652153 4424283584 utils_models.py:75] (0.49650723, 0.8546)\n",
      "Model was evaluated on benign data\n",
      "I0927 09:01:40.686502 4424283584 feedforward_robust.py:411] Model was evaluated on benign data\n",
      "----Regular test accuracy and loss ----\n",
      "I0927 09:01:40.688978 4424283584 utils_models.py:78] ----Regular test accuracy and loss ----\n",
      "(0.49650723, 0.8546)\n",
      "I0927 09:01:40.690825 4424283584 utils_models.py:79] (0.49650723, 0.8546)\n",
      "Model is being evaluated on FGSM data\n",
      "I0927 09:01:41.450718 4424283584 feedforward_robust.py:418] Model is being evaluated on FGSM data\n",
      "----FGSM test accuracy and loss ----\n",
      "I0927 09:01:41.467626 4424283584 utils_models.py:82] ----FGSM test accuracy and loss ----\n",
      "(3.344314, 0.1483)\n",
      "I0927 09:01:41.469034 4424283584 utils_models.py:83] (3.344314, 0.1483)\n",
      "Initialized instance variables of the robust model class\n",
      "I0927 09:01:42.825830 4424283584 feedforward_robust.py:32] Initialized instance variables of the robust model class\n",
      "Created placeholders for x and y\n",
      "I0927 09:01:42.829146 4424283584 feedforward_robust.py:38] Created placeholders for x and y\n",
      "Created layers and tensor for logits\n",
      "I0927 09:01:42.886272 4424283584 feedforward_robust.py:42] Created layers and tensor for logits\n",
      "Added loss computation to the graph\n",
      "I0927 09:01:42.911128 4424283584 feedforward_robust.py:47] Added loss computation to the graph\n",
      "Added accuracy computation to the graph\n",
      "I0927 09:01:42.920758 4424283584 feedforward_robust.py:51] Added accuracy computation to the graph\n",
      "Model graph was created\n",
      "I0927 09:01:42.923712 4424283584 feedforward_robust.py:54] Model graph was created\n",
      "Created model successfully. Now going to load weights\n",
      "I0927 09:01:43.343324 4424283584 utils_models.py:48] Created model successfully. Now going to load weights\n",
      "Restored model from None\n",
      "I0927 09:01:43.865184 4424283584 utils_models.py:60] Restored model from None\n",
      "Model was evaluated on benign data\n",
      "I0927 09:01:44.120035 4424283584 feedforward_robust.py:411] Model was evaluated on benign data\n",
      "----Regular test accuracy and loss ----\n",
      "I0927 09:01:44.121360 4424283584 utils_models.py:74] ----Regular test accuracy and loss ----\n",
      "(0.48503125, 0.8713)\n",
      "I0927 09:01:44.123562 4424283584 utils_models.py:75] (0.48503125, 0.8713)\n",
      "Model was evaluated on benign data\n",
      "I0927 09:01:44.145059 4424283584 feedforward_robust.py:411] Model was evaluated on benign data\n",
      "----Regular test accuracy and loss ----\n",
      "I0927 09:01:44.147083 4424283584 utils_models.py:78] ----Regular test accuracy and loss ----\n",
      "(0.48503125, 0.8713)\n",
      "I0927 09:01:44.148622 4424283584 utils_models.py:79] (0.48503125, 0.8713)\n",
      "Model is being evaluated on FGSM data\n",
      "I0927 09:01:44.884951 4424283584 feedforward_robust.py:418] Model is being evaluated on FGSM data\n",
      "----FGSM test accuracy and loss ----\n",
      "I0927 09:01:44.900043 4424283584 utils_models.py:82] ----FGSM test accuracy and loss ----\n",
      "(3.6767755, 0.1076)\n",
      "I0927 09:01:44.901345 4424283584 utils_models.py:83] (3.6767755, 0.1076)\n",
      "Initialized instance variables of the robust model class\n",
      "I0927 09:01:46.165548 4424283584 feedforward_robust.py:32] Initialized instance variables of the robust model class\n",
      "Created placeholders for x and y\n",
      "I0927 09:01:46.168736 4424283584 feedforward_robust.py:38] Created placeholders for x and y\n",
      "Created layers and tensor for logits\n",
      "I0927 09:01:46.211617 4424283584 feedforward_robust.py:42] Created layers and tensor for logits\n",
      "Added loss computation to the graph\n",
      "I0927 09:01:46.242288 4424283584 feedforward_robust.py:47] Added loss computation to the graph\n",
      "Added accuracy computation to the graph\n",
      "I0927 09:01:46.250973 4424283584 feedforward_robust.py:51] Added accuracy computation to the graph\n",
      "Model graph was created\n",
      "I0927 09:01:46.255983 4424283584 feedforward_robust.py:54] Model graph was created\n",
      "Created model successfully. Now going to load weights\n",
      "I0927 09:01:46.289338 4424283584 utils_models.py:48] Created model successfully. Now going to load weights\n",
      "Restored model from None\n",
      "I0927 09:01:46.870412 4424283584 utils_models.py:60] Restored model from None\n",
      "Model was evaluated on benign data\n",
      "I0927 09:01:47.159852 4424283584 feedforward_robust.py:411] Model was evaluated on benign data\n",
      "----Regular test accuracy and loss ----\n",
      "I0927 09:01:47.161073 4424283584 utils_models.py:74] ----Regular test accuracy and loss ----\n",
      "(0.523705, 0.8614)\n",
      "I0927 09:01:47.163353 4424283584 utils_models.py:75] (0.523705, 0.8614)\n",
      "Model was evaluated on benign data\n",
      "I0927 09:01:47.194262 4424283584 feedforward_robust.py:411] Model was evaluated on benign data\n",
      "----Regular test accuracy and loss ----\n",
      "I0927 09:01:47.220848 4424283584 utils_models.py:78] ----Regular test accuracy and loss ----\n",
      "(0.523705, 0.8614)\n",
      "I0927 09:01:47.222794 4424283584 utils_models.py:79] (0.523705, 0.8614)\n"
     ]
    },
    {
     "name": "stderr",
     "output_type": "stream",
     "text": [
      "Model is being evaluated on FGSM data\n",
      "I0927 09:01:48.022180 4424283584 feedforward_robust.py:418] Model is being evaluated on FGSM data\n",
      "----FGSM test accuracy and loss ----\n",
      "I0927 09:01:48.039680 4424283584 utils_models.py:82] ----FGSM test accuracy and loss ----\n",
      "(3.8985655, 0.1147)\n",
      "I0927 09:01:48.040997 4424283584 utils_models.py:83] (3.8985655, 0.1147)\n",
      "Initialized instance variables of the robust model class\n",
      "I0927 09:01:49.342540 4424283584 feedforward_robust.py:32] Initialized instance variables of the robust model class\n",
      "Created placeholders for x and y\n",
      "I0927 09:01:49.345869 4424283584 feedforward_robust.py:38] Created placeholders for x and y\n",
      "Created layers and tensor for logits\n",
      "I0927 09:01:49.389458 4424283584 feedforward_robust.py:42] Created layers and tensor for logits\n",
      "Added loss computation to the graph\n",
      "I0927 09:01:49.414535 4424283584 feedforward_robust.py:47] Added loss computation to the graph\n",
      "Added accuracy computation to the graph\n",
      "I0927 09:01:49.420997 4424283584 feedforward_robust.py:51] Added accuracy computation to the graph\n",
      "Model graph was created\n",
      "I0927 09:01:49.424211 4424283584 feedforward_robust.py:54] Model graph was created\n",
      "Created model successfully. Now going to load weights\n",
      "I0927 09:01:49.454391 4424283584 utils_models.py:48] Created model successfully. Now going to load weights\n",
      "Restored model from None\n",
      "I0927 09:01:50.028376 4424283584 utils_models.py:60] Restored model from None\n",
      "Model was evaluated on benign data\n",
      "I0927 09:01:50.275681 4424283584 feedforward_robust.py:411] Model was evaluated on benign data\n",
      "----Regular test accuracy and loss ----\n",
      "I0927 09:01:50.276793 4424283584 utils_models.py:74] ----Regular test accuracy and loss ----\n",
      "(0.48082247, 0.8648)\n",
      "I0927 09:01:50.279469 4424283584 utils_models.py:75] (0.48082247, 0.8648)\n",
      "Model was evaluated on benign data\n",
      "I0927 09:01:50.306757 4424283584 feedforward_robust.py:411] Model was evaluated on benign data\n",
      "----Regular test accuracy and loss ----\n",
      "I0927 09:01:50.307994 4424283584 utils_models.py:78] ----Regular test accuracy and loss ----\n",
      "(0.48082247, 0.8648)\n",
      "I0927 09:01:50.309309 4424283584 utils_models.py:79] (0.48082247, 0.8648)\n",
      "Model is being evaluated on FGSM data\n",
      "I0927 09:01:50.995553 4424283584 feedforward_robust.py:418] Model is being evaluated on FGSM data\n",
      "----FGSM test accuracy and loss ----\n",
      "I0927 09:01:51.011841 4424283584 utils_models.py:82] ----FGSM test accuracy and loss ----\n",
      "(3.4426422, 0.163)\n",
      "I0927 09:01:51.013144 4424283584 utils_models.py:83] (3.4426422, 0.163)\n",
      "Initialized instance variables of the robust model class\n",
      "I0927 09:01:52.323544 4424283584 feedforward_robust.py:32] Initialized instance variables of the robust model class\n",
      "Created placeholders for x and y\n",
      "I0927 09:01:52.326654 4424283584 feedforward_robust.py:38] Created placeholders for x and y\n",
      "Created layers and tensor for logits\n",
      "I0927 09:01:52.375749 4424283584 feedforward_robust.py:42] Created layers and tensor for logits\n",
      "Added loss computation to the graph\n",
      "I0927 09:01:52.404948 4424283584 feedforward_robust.py:47] Added loss computation to the graph\n",
      "Added accuracy computation to the graph\n",
      "I0927 09:01:52.410854 4424283584 feedforward_robust.py:51] Added accuracy computation to the graph\n",
      "Model graph was created\n",
      "I0927 09:01:52.413975 4424283584 feedforward_robust.py:54] Model graph was created\n",
      "Created model successfully. Now going to load weights\n",
      "I0927 09:01:52.448730 4424283584 utils_models.py:48] Created model successfully. Now going to load weights\n",
      "Restored model from None\n",
      "I0927 09:01:52.981356 4424283584 utils_models.py:60] Restored model from None\n",
      "Model was evaluated on benign data\n",
      "I0927 09:01:53.221374 4424283584 feedforward_robust.py:411] Model was evaluated on benign data\n",
      "----Regular test accuracy and loss ----\n",
      "I0927 09:01:53.222660 4424283584 utils_models.py:74] ----Regular test accuracy and loss ----\n",
      "(0.47899458, 0.8735)\n",
      "I0927 09:01:53.224509 4424283584 utils_models.py:75] (0.47899458, 0.8735)\n",
      "Model was evaluated on benign data\n",
      "I0927 09:01:53.250203 4424283584 feedforward_robust.py:411] Model was evaluated on benign data\n",
      "----Regular test accuracy and loss ----\n",
      "I0927 09:01:53.252361 4424283584 utils_models.py:78] ----Regular test accuracy and loss ----\n",
      "(0.47899458, 0.8735)\n",
      "I0927 09:01:53.254250 4424283584 utils_models.py:79] (0.47899458, 0.8735)\n",
      "Model is being evaluated on FGSM data\n",
      "I0927 09:01:53.935228 4424283584 feedforward_robust.py:418] Model is being evaluated on FGSM data\n",
      "----FGSM test accuracy and loss ----\n",
      "I0927 09:01:53.951467 4424283584 utils_models.py:82] ----FGSM test accuracy and loss ----\n",
      "(3.8269134, 0.1498)\n",
      "I0927 09:01:53.952661 4424283584 utils_models.py:83] (3.8269134, 0.1498)\n",
      "Initialized instance variables of the robust model class\n",
      "I0927 09:01:55.244086 4424283584 feedforward_robust.py:32] Initialized instance variables of the robust model class\n",
      "Created placeholders for x and y\n",
      "I0927 09:01:55.247327 4424283584 feedforward_robust.py:38] Created placeholders for x and y\n",
      "Created layers and tensor for logits\n",
      "I0927 09:01:55.291181 4424283584 feedforward_robust.py:42] Created layers and tensor for logits\n",
      "Added loss computation to the graph\n",
      "I0927 09:01:55.313326 4424283584 feedforward_robust.py:47] Added loss computation to the graph\n",
      "Added accuracy computation to the graph\n",
      "I0927 09:01:55.322925 4424283584 feedforward_robust.py:51] Added accuracy computation to the graph\n",
      "Model graph was created\n",
      "I0927 09:01:55.325994 4424283584 feedforward_robust.py:54] Model graph was created\n",
      "Created model successfully. Now going to load weights\n",
      "I0927 09:01:55.360762 4424283584 utils_models.py:48] Created model successfully. Now going to load weights\n",
      "Restored model from None\n",
      "I0927 09:01:55.929585 4424283584 utils_models.py:60] Restored model from None\n",
      "Model was evaluated on benign data\n",
      "I0927 09:01:56.213299 4424283584 feedforward_robust.py:411] Model was evaluated on benign data\n",
      "----Regular test accuracy and loss ----\n",
      "I0927 09:01:56.215446 4424283584 utils_models.py:74] ----Regular test accuracy and loss ----\n",
      "(0.9595201, 0.7103)\n",
      "I0927 09:01:56.218760 4424283584 utils_models.py:75] (0.9595201, 0.7103)\n",
      "Model was evaluated on benign data\n",
      "I0927 09:01:56.248858 4424283584 feedforward_robust.py:411] Model was evaluated on benign data\n",
      "----Regular test accuracy and loss ----\n",
      "I0927 09:01:56.250231 4424283584 utils_models.py:78] ----Regular test accuracy and loss ----\n",
      "(0.9595201, 0.7103)\n",
      "I0927 09:01:56.252521 4424283584 utils_models.py:79] (0.9595201, 0.7103)\n",
      "Model is being evaluated on FGSM data\n",
      "I0927 09:01:57.183548 4424283584 feedforward_robust.py:418] Model is being evaluated on FGSM data\n",
      "----FGSM test accuracy and loss ----\n",
      "I0927 09:01:57.205562 4424283584 utils_models.py:82] ----FGSM test accuracy and loss ----\n",
      "(4.349453, 0.0759)\n",
      "I0927 09:01:57.209316 4424283584 utils_models.py:83] (4.349453, 0.0759)\n",
      "Initialized instance variables of the robust model class\n",
      "I0927 09:01:58.818735 4424283584 feedforward_robust.py:32] Initialized instance variables of the robust model class\n",
      "Created placeholders for x and y\n",
      "I0927 09:01:58.822481 4424283584 feedforward_robust.py:38] Created placeholders for x and y\n",
      "Created layers and tensor for logits\n",
      "I0927 09:01:58.882272 4424283584 feedforward_robust.py:42] Created layers and tensor for logits\n",
      "Added loss computation to the graph\n",
      "I0927 09:01:58.907861 4424283584 feedforward_robust.py:47] Added loss computation to the graph\n",
      "Added accuracy computation to the graph\n",
      "I0927 09:01:58.914811 4424283584 feedforward_robust.py:51] Added accuracy computation to the graph\n",
      "Model graph was created\n",
      "I0927 09:01:58.918832 4424283584 feedforward_robust.py:54] Model graph was created\n",
      "Created model successfully. Now going to load weights\n",
      "I0927 09:01:58.954853 4424283584 utils_models.py:48] Created model successfully. Now going to load weights\n",
      "Restored model from None\n",
      "I0927 09:01:59.596719 4424283584 utils_models.py:60] Restored model from None\n",
      "Model was evaluated on benign data\n",
      "I0927 09:01:59.868309 4424283584 feedforward_robust.py:411] Model was evaluated on benign data\n",
      "----Regular test accuracy and loss ----\n",
      "I0927 09:01:59.869562 4424283584 utils_models.py:74] ----Regular test accuracy and loss ----\n",
      "(0.9636703, 0.6948)\n",
      "I0927 09:01:59.871416 4424283584 utils_models.py:75] (0.9636703, 0.6948)\n"
     ]
    },
    {
     "name": "stderr",
     "output_type": "stream",
     "text": [
      "Model was evaluated on benign data\n",
      "I0927 09:01:59.899461 4424283584 feedforward_robust.py:411] Model was evaluated on benign data\n",
      "----Regular test accuracy and loss ----\n",
      "I0927 09:01:59.901232 4424283584 utils_models.py:78] ----Regular test accuracy and loss ----\n",
      "(0.9636703, 0.6948)\n",
      "I0927 09:01:59.902510 4424283584 utils_models.py:79] (0.9636703, 0.6948)\n",
      "Model is being evaluated on FGSM data\n",
      "I0927 09:02:00.591969 4424283584 feedforward_robust.py:418] Model is being evaluated on FGSM data\n",
      "----FGSM test accuracy and loss ----\n",
      "I0927 09:02:00.609122 4424283584 utils_models.py:82] ----FGSM test accuracy and loss ----\n",
      "(4.760534, 0.0976)\n",
      "I0927 09:02:00.610738 4424283584 utils_models.py:83] (4.760534, 0.0976)\n"
     ]
    }
   ],
   "source": [
    "trace_all_models, sess_trace_all_list = load_many_models_regular(weight_paths_trace_all)"
   ]
  },
  {
   "cell_type": "code",
   "execution_count": 49,
   "metadata": {},
   "outputs": [
    {
     "name": "stderr",
     "output_type": "stream",
     "text": [
      "Model was evaluated on benign data\n",
      "I0927 09:02:03.029682 4424283584 feedforward_robust.py:411] Model was evaluated on benign data\n",
      "Model was evaluated on benign data\n",
      "I0927 09:02:04.497295 4424283584 feedforward_robust.py:411] Model was evaluated on benign data\n",
      "Model was evaluated on benign data\n",
      "I0927 09:02:06.032064 4424283584 feedforward_robust.py:411] Model was evaluated on benign data\n",
      "Model was evaluated on benign data\n",
      "I0927 09:02:07.767495 4424283584 feedforward_robust.py:411] Model was evaluated on benign data\n",
      "Model was evaluated on benign data\n",
      "I0927 09:02:09.539952 4424283584 feedforward_robust.py:411] Model was evaluated on benign data\n",
      "Model was evaluated on benign data\n",
      "I0927 09:02:10.921941 4424283584 feedforward_robust.py:411] Model was evaluated on benign data\n",
      "Model was evaluated on benign data\n",
      "I0927 09:02:12.323217 4424283584 feedforward_robust.py:411] Model was evaluated on benign data\n",
      "Model was evaluated on benign data\n",
      "I0927 09:02:13.793570 4424283584 feedforward_robust.py:411] Model was evaluated on benign data\n"
     ]
    }
   ],
   "source": [
    "spectral_trace_all_list, fr_trace_all_list = get_complexitites_many_models_reg(trace_all_models, sess_trace_all_list, x_test_flat, y_test)"
   ]
  },
  {
   "cell_type": "code",
   "execution_count": 64,
   "metadata": {},
   "outputs": [
    {
     "name": "stdout",
     "output_type": "stream",
     "text": [
      "16256.970926764248\n",
      "0.0018894157\n"
     ]
    }
   ],
   "source": [
    "print(np.mean(spectral_trace_all_list))\n",
    "print(np.mean(fr_trace_all_list))"
   ]
  },
  {
   "cell_type": "markdown",
   "metadata": {},
   "source": [
    "# FGSM Adversarial Training"
   ]
  },
  {
   "cell_type": "code",
   "execution_count": 53,
   "metadata": {},
   "outputs": [],
   "source": [
    "weight_paths_adv_trained = paths.item()['fgsm']"
   ]
  },
  {
   "cell_type": "code",
   "execution_count": 54,
   "metadata": {},
   "outputs": [
    {
     "data": {
      "text/plain": [
       "['weights/model_380.ckpt',\n",
       " 'weights/model_386.ckpt',\n",
       " 'weights/model_392.ckpt',\n",
       " 'weights/model_398.ckpt',\n",
       " 'weights/model_404.ckpt',\n",
       " 'weights/model_410.ckpt',\n",
       " 'weights/model_416.ckpt',\n",
       " 'weights/model_422.ckpt']"
      ]
     },
     "execution_count": 54,
     "metadata": {},
     "output_type": "execute_result"
    }
   ],
   "source": [
    "weight_paths_adv_trained"
   ]
  },
  {
   "cell_type": "code",
   "execution_count": 57,
   "metadata": {},
   "outputs": [
    {
     "name": "stderr",
     "output_type": "stream",
     "text": [
      "Initialized instance variables of the robust model class\n",
      "I0927 09:03:50.487387 4424283584 feedforward_robust.py:32] Initialized instance variables of the robust model class\n",
      "Created placeholders for x and y\n",
      "I0927 09:03:50.490964 4424283584 feedforward_robust.py:38] Created placeholders for x and y\n",
      "Created layers and tensor for logits\n",
      "I0927 09:03:50.541445 4424283584 feedforward_robust.py:42] Created layers and tensor for logits\n",
      "Added loss computation to the graph\n",
      "I0927 09:03:50.573871 4424283584 feedforward_robust.py:47] Added loss computation to the graph\n",
      "Added accuracy computation to the graph\n",
      "I0927 09:03:50.582898 4424283584 feedforward_robust.py:51] Added accuracy computation to the graph\n",
      "Model graph was created\n",
      "I0927 09:03:50.585644 4424283584 feedforward_robust.py:54] Model graph was created\n",
      "Created model successfully. Now going to load weights\n",
      "I0927 09:03:50.591455 4424283584 utils_models.py:48] Created model successfully. Now going to load weights\n",
      "Restored model from None\n",
      "I0927 09:03:51.228600 4424283584 utils_models.py:60] Restored model from None\n",
      "Model was evaluated on benign data\n",
      "I0927 09:03:51.515940 4424283584 feedforward_robust.py:411] Model was evaluated on benign data\n",
      "----Regular test accuracy and loss ----\n",
      "I0927 09:03:51.517770 4424283584 utils_models.py:74] ----Regular test accuracy and loss ----\n",
      "(0.48354554, 0.8213)\n",
      "I0927 09:03:51.520303 4424283584 utils_models.py:75] (0.48354554, 0.8213)\n",
      "Model was evaluated on benign data\n",
      "I0927 09:03:51.550556 4424283584 feedforward_robust.py:411] Model was evaluated on benign data\n",
      "----Regular test accuracy and loss ----\n",
      "I0927 09:03:51.562484 4424283584 utils_models.py:78] ----Regular test accuracy and loss ----\n",
      "(0.48354554, 0.8213)\n",
      "I0927 09:03:51.565647 4424283584 utils_models.py:79] (0.48354554, 0.8213)\n",
      "Model is being evaluated on FGSM data\n",
      "I0927 09:03:52.363914 4424283584 feedforward_robust.py:418] Model is being evaluated on FGSM data\n",
      "----FGSM test accuracy and loss ----\n",
      "I0927 09:03:52.379802 4424283584 utils_models.py:82] ----FGSM test accuracy and loss ----\n",
      "(0.6161962, 0.8046)\n",
      "I0927 09:03:52.381028 4424283584 utils_models.py:83] (0.6161962, 0.8046)\n",
      "Initialized instance variables of the robust model class\n",
      "I0927 09:03:53.747378 4424283584 feedforward_robust.py:32] Initialized instance variables of the robust model class\n",
      "Created placeholders for x and y\n",
      "I0927 09:03:53.752015 4424283584 feedforward_robust.py:38] Created placeholders for x and y\n",
      "Created layers and tensor for logits\n",
      "I0927 09:03:53.798877 4424283584 feedforward_robust.py:42] Created layers and tensor for logits\n",
      "Added loss computation to the graph\n",
      "I0927 09:03:53.830947 4424283584 feedforward_robust.py:47] Added loss computation to the graph\n",
      "Added accuracy computation to the graph\n",
      "I0927 09:03:53.840200 4424283584 feedforward_robust.py:51] Added accuracy computation to the graph\n",
      "Model graph was created\n",
      "I0927 09:03:53.843052 4424283584 feedforward_robust.py:54] Model graph was created\n",
      "Created model successfully. Now going to load weights\n",
      "I0927 09:03:53.849848 4424283584 utils_models.py:48] Created model successfully. Now going to load weights\n",
      "Restored model from None\n",
      "I0927 09:03:54.494565 4424283584 utils_models.py:60] Restored model from None\n",
      "Model was evaluated on benign data\n",
      "I0927 09:03:54.777745 4424283584 feedforward_robust.py:411] Model was evaluated on benign data\n",
      "----Regular test accuracy and loss ----\n",
      "I0927 09:03:54.778889 4424283584 utils_models.py:74] ----Regular test accuracy and loss ----\n",
      "(0.42170995, 0.8705)\n",
      "I0927 09:03:54.781943 4424283584 utils_models.py:75] (0.42170995, 0.8705)\n",
      "Model was evaluated on benign data\n",
      "I0927 09:03:54.807682 4424283584 feedforward_robust.py:411] Model was evaluated on benign data\n",
      "----Regular test accuracy and loss ----\n",
      "I0927 09:03:54.809255 4424283584 utils_models.py:78] ----Regular test accuracy and loss ----\n",
      "(0.42170995, 0.8705)\n",
      "I0927 09:03:54.810811 4424283584 utils_models.py:79] (0.42170995, 0.8705)\n",
      "Model is being evaluated on FGSM data\n",
      "I0927 09:03:55.564452 4424283584 feedforward_robust.py:418] Model is being evaluated on FGSM data\n",
      "----FGSM test accuracy and loss ----\n",
      "I0927 09:03:55.581573 4424283584 utils_models.py:82] ----FGSM test accuracy and loss ----\n",
      "(0.6261215, 0.7954)\n",
      "I0927 09:03:55.582756 4424283584 utils_models.py:83] (0.6261215, 0.7954)\n",
      "Initialized instance variables of the robust model class\n",
      "I0927 09:03:56.939095 4424283584 feedforward_robust.py:32] Initialized instance variables of the robust model class\n",
      "Created placeholders for x and y\n",
      "I0927 09:03:56.942288 4424283584 feedforward_robust.py:38] Created placeholders for x and y\n",
      "Created layers and tensor for logits\n",
      "I0927 09:03:56.990532 4424283584 feedforward_robust.py:42] Created layers and tensor for logits\n",
      "Added loss computation to the graph\n",
      "I0927 09:03:57.022821 4424283584 feedforward_robust.py:47] Added loss computation to the graph\n",
      "Added accuracy computation to the graph\n",
      "I0927 09:03:57.030710 4424283584 feedforward_robust.py:51] Added accuracy computation to the graph\n",
      "Model graph was created\n",
      "I0927 09:03:57.035819 4424283584 feedforward_robust.py:54] Model graph was created\n",
      "Created model successfully. Now going to load weights\n",
      "I0927 09:03:57.046898 4424283584 utils_models.py:48] Created model successfully. Now going to load weights\n",
      "Restored model from None\n",
      "I0927 09:03:57.670304 4424283584 utils_models.py:60] Restored model from None\n",
      "Model was evaluated on benign data\n",
      "I0927 09:03:57.986883 4424283584 feedforward_robust.py:411] Model was evaluated on benign data\n",
      "----Regular test accuracy and loss ----\n",
      "I0927 09:03:57.988565 4424283584 utils_models.py:74] ----Regular test accuracy and loss ----\n",
      "(0.31855726, 0.916)\n",
      "I0927 09:03:57.991964 4424283584 utils_models.py:75] (0.31855726, 0.916)\n",
      "Model was evaluated on benign data\n",
      "I0927 09:03:58.022291 4424283584 feedforward_robust.py:411] Model was evaluated on benign data\n",
      "----Regular test accuracy and loss ----\n",
      "I0927 09:03:58.024703 4424283584 utils_models.py:78] ----Regular test accuracy and loss ----\n",
      "(0.31855726, 0.916)\n",
      "I0927 09:03:58.026051 4424283584 utils_models.py:79] (0.31855726, 0.916)\n",
      "Model is being evaluated on FGSM data\n",
      "I0927 09:03:58.862918 4424283584 feedforward_robust.py:418] Model is being evaluated on FGSM data\n",
      "----FGSM test accuracy and loss ----\n",
      "I0927 09:03:58.879658 4424283584 utils_models.py:82] ----FGSM test accuracy and loss ----\n",
      "(0.6716906, 0.7807)\n",
      "I0927 09:03:58.880995 4424283584 utils_models.py:83] (0.6716906, 0.7807)\n",
      "Initialized instance variables of the robust model class\n",
      "I0927 09:04:00.770393 4424283584 feedforward_robust.py:32] Initialized instance variables of the robust model class\n",
      "Created placeholders for x and y\n",
      "I0927 09:04:00.774107 4424283584 feedforward_robust.py:38] Created placeholders for x and y\n",
      "Created layers and tensor for logits\n",
      "I0927 09:04:00.821061 4424283584 feedforward_robust.py:42] Created layers and tensor for logits\n",
      "Added loss computation to the graph\n",
      "I0927 09:04:00.855551 4424283584 feedforward_robust.py:47] Added loss computation to the graph\n",
      "Added accuracy computation to the graph\n",
      "I0927 09:04:00.861334 4424283584 feedforward_robust.py:51] Added accuracy computation to the graph\n",
      "Model graph was created\n",
      "I0927 09:04:00.864090 4424283584 feedforward_robust.py:54] Model graph was created\n",
      "Created model successfully. Now going to load weights\n",
      "I0927 09:04:00.874117 4424283584 utils_models.py:48] Created model successfully. Now going to load weights\n",
      "Restored model from None\n",
      "I0927 09:04:01.519054 4424283584 utils_models.py:60] Restored model from None\n",
      "Model was evaluated on benign data\n",
      "I0927 09:04:01.895859 4424283584 feedforward_robust.py:411] Model was evaluated on benign data\n",
      "----Regular test accuracy and loss ----\n",
      "I0927 09:04:01.901623 4424283584 utils_models.py:74] ----Regular test accuracy and loss ----\n",
      "(0.35094726, 0.8787)\n",
      "I0927 09:04:01.907382 4424283584 utils_models.py:75] (0.35094726, 0.8787)\n",
      "Model was evaluated on benign data\n",
      "I0927 09:04:01.941257 4424283584 feedforward_robust.py:411] Model was evaluated on benign data\n",
      "----Regular test accuracy and loss ----\n",
      "I0927 09:04:01.944741 4424283584 utils_models.py:78] ----Regular test accuracy and loss ----\n",
      "(0.35094726, 0.8787)\n",
      "I0927 09:04:01.946451 4424283584 utils_models.py:79] (0.35094726, 0.8787)\n"
     ]
    },
    {
     "name": "stderr",
     "output_type": "stream",
     "text": [
      "Model is being evaluated on FGSM data\n",
      "I0927 09:04:02.887514 4424283584 feedforward_robust.py:418] Model is being evaluated on FGSM data\n",
      "----FGSM test accuracy and loss ----\n",
      "I0927 09:04:02.904633 4424283584 utils_models.py:82] ----FGSM test accuracy and loss ----\n",
      "(0.6139609, 0.801)\n",
      "I0927 09:04:02.906171 4424283584 utils_models.py:83] (0.6139609, 0.801)\n",
      "Initialized instance variables of the robust model class\n",
      "I0927 09:04:04.380120 4424283584 feedforward_robust.py:32] Initialized instance variables of the robust model class\n",
      "Created placeholders for x and y\n",
      "I0927 09:04:04.384043 4424283584 feedforward_robust.py:38] Created placeholders for x and y\n",
      "Created layers and tensor for logits\n",
      "I0927 09:04:04.431946 4424283584 feedforward_robust.py:42] Created layers and tensor for logits\n",
      "Added loss computation to the graph\n",
      "I0927 09:04:04.451544 4424283584 feedforward_robust.py:47] Added loss computation to the graph\n",
      "Added accuracy computation to the graph\n",
      "I0927 09:04:04.459815 4424283584 feedforward_robust.py:51] Added accuracy computation to the graph\n",
      "Model graph was created\n",
      "I0927 09:04:04.464730 4424283584 feedforward_robust.py:54] Model graph was created\n",
      "Created model successfully. Now going to load weights\n",
      "I0927 09:04:04.474233 4424283584 utils_models.py:48] Created model successfully. Now going to load weights\n",
      "Restored model from None\n",
      "I0927 09:04:05.138108 4424283584 utils_models.py:60] Restored model from None\n",
      "Model was evaluated on benign data\n",
      "I0927 09:04:05.436793 4424283584 feedforward_robust.py:411] Model was evaluated on benign data\n",
      "----Regular test accuracy and loss ----\n",
      "I0927 09:04:05.437915 4424283584 utils_models.py:74] ----Regular test accuracy and loss ----\n",
      "(0.35917205, 0.8752)\n",
      "I0927 09:04:05.439602 4424283584 utils_models.py:75] (0.35917205, 0.8752)\n",
      "Model was evaluated on benign data\n",
      "I0927 09:04:05.462898 4424283584 feedforward_robust.py:411] Model was evaluated on benign data\n",
      "----Regular test accuracy and loss ----\n",
      "I0927 09:04:05.464645 4424283584 utils_models.py:78] ----Regular test accuracy and loss ----\n",
      "(0.35917205, 0.8752)\n",
      "I0927 09:04:05.467034 4424283584 utils_models.py:79] (0.35917205, 0.8752)\n",
      "Model is being evaluated on FGSM data\n",
      "I0927 09:04:06.275482 4424283584 feedforward_robust.py:418] Model is being evaluated on FGSM data\n",
      "----FGSM test accuracy and loss ----\n",
      "I0927 09:04:06.291696 4424283584 utils_models.py:82] ----FGSM test accuracy and loss ----\n",
      "(0.6828018, 0.7762)\n",
      "I0927 09:04:06.293190 4424283584 utils_models.py:83] (0.6828018, 0.7762)\n",
      "Initialized instance variables of the robust model class\n",
      "I0927 09:04:07.760649 4424283584 feedforward_robust.py:32] Initialized instance variables of the robust model class\n",
      "Created placeholders for x and y\n",
      "I0927 09:04:07.764048 4424283584 feedforward_robust.py:38] Created placeholders for x and y\n",
      "Created layers and tensor for logits\n",
      "I0927 09:04:07.818104 4424283584 feedforward_robust.py:42] Created layers and tensor for logits\n",
      "Added loss computation to the graph\n",
      "I0927 09:04:07.857707 4424283584 feedforward_robust.py:47] Added loss computation to the graph\n",
      "Added accuracy computation to the graph\n",
      "I0927 09:04:07.864552 4424283584 feedforward_robust.py:51] Added accuracy computation to the graph\n",
      "Model graph was created\n",
      "I0927 09:04:07.867730 4424283584 feedforward_robust.py:54] Model graph was created\n",
      "Created model successfully. Now going to load weights\n",
      "I0927 09:04:07.876716 4424283584 utils_models.py:48] Created model successfully. Now going to load weights\n",
      "Restored model from None\n",
      "I0927 09:04:08.599565 4424283584 utils_models.py:60] Restored model from None\n",
      "Model was evaluated on benign data\n",
      "I0927 09:04:08.900060 4424283584 feedforward_robust.py:411] Model was evaluated on benign data\n",
      "----Regular test accuracy and loss ----\n",
      "I0927 09:04:08.901192 4424283584 utils_models.py:74] ----Regular test accuracy and loss ----\n",
      "(0.55681044, 0.8101)\n",
      "I0927 09:04:08.903073 4424283584 utils_models.py:75] (0.55681044, 0.8101)\n",
      "Model was evaluated on benign data\n",
      "I0927 09:04:08.924649 4424283584 feedforward_robust.py:411] Model was evaluated on benign data\n",
      "----Regular test accuracy and loss ----\n",
      "I0927 09:04:08.925935 4424283584 utils_models.py:78] ----Regular test accuracy and loss ----\n",
      "(0.55681044, 0.8101)\n",
      "I0927 09:04:08.928044 4424283584 utils_models.py:79] (0.55681044, 0.8101)\n",
      "Model is being evaluated on FGSM data\n",
      "I0927 09:04:09.779514 4424283584 feedforward_robust.py:418] Model is being evaluated on FGSM data\n",
      "----FGSM test accuracy and loss ----\n",
      "I0927 09:04:09.796638 4424283584 utils_models.py:82] ----FGSM test accuracy and loss ----\n",
      "(0.5568469, 0.8239)\n",
      "I0927 09:04:09.797957 4424283584 utils_models.py:83] (0.5568469, 0.8239)\n",
      "Initialized instance variables of the robust model class\n",
      "I0927 09:04:11.241101 4424283584 feedforward_robust.py:32] Initialized instance variables of the robust model class\n",
      "Created placeholders for x and y\n",
      "I0927 09:04:11.244642 4424283584 feedforward_robust.py:38] Created placeholders for x and y\n",
      "Created layers and tensor for logits\n",
      "I0927 09:04:11.290983 4424283584 feedforward_robust.py:42] Created layers and tensor for logits\n",
      "Added loss computation to the graph\n",
      "I0927 09:04:11.313966 4424283584 feedforward_robust.py:47] Added loss computation to the graph\n",
      "Added accuracy computation to the graph\n",
      "I0927 09:04:11.322304 4424283584 feedforward_robust.py:51] Added accuracy computation to the graph\n",
      "Model graph was created\n",
      "I0927 09:04:11.325529 4424283584 feedforward_robust.py:54] Model graph was created\n",
      "Created model successfully. Now going to load weights\n",
      "I0927 09:04:11.333739 4424283584 utils_models.py:48] Created model successfully. Now going to load weights\n",
      "Restored model from None\n",
      "I0927 09:04:11.993582 4424283584 utils_models.py:60] Restored model from None\n",
      "Model was evaluated on benign data\n",
      "I0927 09:04:12.310116 4424283584 feedforward_robust.py:411] Model was evaluated on benign data\n",
      "----Regular test accuracy and loss ----\n",
      "I0927 09:04:12.312028 4424283584 utils_models.py:74] ----Regular test accuracy and loss ----\n",
      "(0.49875557, 0.8516)\n",
      "I0927 09:04:12.315195 4424283584 utils_models.py:75] (0.49875557, 0.8516)\n",
      "Model was evaluated on benign data\n",
      "I0927 09:04:12.343705 4424283584 feedforward_robust.py:411] Model was evaluated on benign data\n",
      "----Regular test accuracy and loss ----\n",
      "I0927 09:04:12.345557 4424283584 utils_models.py:78] ----Regular test accuracy and loss ----\n",
      "(0.49875557, 0.8516)\n",
      "I0927 09:04:12.347032 4424283584 utils_models.py:79] (0.49875557, 0.8516)\n",
      "Model is being evaluated on FGSM data\n",
      "I0927 09:04:13.265784 4424283584 feedforward_robust.py:418] Model is being evaluated on FGSM data\n",
      "----FGSM test accuracy and loss ----\n",
      "I0927 09:04:13.286266 4424283584 utils_models.py:82] ----FGSM test accuracy and loss ----\n",
      "(0.62748134, 0.7878)\n",
      "I0927 09:04:13.288130 4424283584 utils_models.py:83] (0.62748134, 0.7878)\n",
      "Initialized instance variables of the robust model class\n",
      "I0927 09:04:14.845719 4424283584 feedforward_robust.py:32] Initialized instance variables of the robust model class\n",
      "Created placeholders for x and y\n",
      "I0927 09:04:14.849159 4424283584 feedforward_robust.py:38] Created placeholders for x and y\n",
      "Created layers and tensor for logits\n",
      "I0927 09:04:14.896165 4424283584 feedforward_robust.py:42] Created layers and tensor for logits\n",
      "Added loss computation to the graph\n",
      "I0927 09:04:14.921302 4424283584 feedforward_robust.py:47] Added loss computation to the graph\n",
      "Added accuracy computation to the graph\n",
      "I0927 09:04:14.927500 4424283584 feedforward_robust.py:51] Added accuracy computation to the graph\n",
      "Model graph was created\n",
      "I0927 09:04:14.930783 4424283584 feedforward_robust.py:54] Model graph was created\n",
      "Created model successfully. Now going to load weights\n",
      "I0927 09:04:14.940644 4424283584 utils_models.py:48] Created model successfully. Now going to load weights\n",
      "Restored model from None\n",
      "I0927 09:04:15.625869 4424283584 utils_models.py:60] Restored model from None\n",
      "Model was evaluated on benign data\n",
      "I0927 09:04:15.933712 4424283584 feedforward_robust.py:411] Model was evaluated on benign data\n",
      "----Regular test accuracy and loss ----\n",
      "I0927 09:04:15.934938 4424283584 utils_models.py:74] ----Regular test accuracy and loss ----\n",
      "(0.43251678, 0.8391)\n",
      "I0927 09:04:15.936543 4424283584 utils_models.py:75] (0.43251678, 0.8391)\n"
     ]
    },
    {
     "name": "stderr",
     "output_type": "stream",
     "text": [
      "Model was evaluated on benign data\n",
      "I0927 09:04:15.961383 4424283584 feedforward_robust.py:411] Model was evaluated on benign data\n",
      "----Regular test accuracy and loss ----\n",
      "I0927 09:04:15.962787 4424283584 utils_models.py:78] ----Regular test accuracy and loss ----\n",
      "(0.43251678, 0.8391)\n",
      "I0927 09:04:15.964795 4424283584 utils_models.py:79] (0.43251678, 0.8391)\n",
      "Model is being evaluated on FGSM data\n",
      "I0927 09:04:16.854278 4424283584 feedforward_robust.py:418] Model is being evaluated on FGSM data\n",
      "----FGSM test accuracy and loss ----\n",
      "I0927 09:04:16.876357 4424283584 utils_models.py:82] ----FGSM test accuracy and loss ----\n",
      "(0.64455265, 0.7913)\n",
      "I0927 09:04:16.878051 4424283584 utils_models.py:83] (0.64455265, 0.7913)\n"
     ]
    }
   ],
   "source": [
    "adv_trained_models, adv_train_sess_list = load_many_models_adv(weight_paths_adv_trained)"
   ]
  },
  {
   "cell_type": "code",
   "execution_count": 58,
   "metadata": {},
   "outputs": [],
   "source": [
    "spectral_adv_list, fr_adv_list = get_complexitites_many_models_adv(adv_trained_models, adv_train_sess_list, x_test_flat, y_test)"
   ]
  },
  {
   "cell_type": "code",
   "execution_count": 60,
   "metadata": {},
   "outputs": [
    {
     "data": {
      "text/plain": [
       "567790.6826471635"
      ]
     },
     "execution_count": 60,
     "metadata": {},
     "output_type": "execute_result"
    }
   ],
   "source": [
    "np.mean(spectral_adv_list)"
   ]
  },
  {
   "cell_type": "code",
   "execution_count": 61,
   "metadata": {},
   "outputs": [
    {
     "data": {
      "text/plain": [
       "0.004359629"
      ]
     },
     "execution_count": 61,
     "metadata": {},
     "output_type": "execute_result"
    }
   ],
   "source": [
    "np.mean(fr_adv_list)"
   ]
  },
  {
   "cell_type": "markdown",
   "metadata": {},
   "source": [
    "# Comparison plots"
   ]
  },
  {
   "cell_type": "markdown",
   "metadata": {},
   "source": [
    "# Complexities from papers"
   ]
  },
  {
   "cell_type": "code",
   "execution_count": 67,
   "metadata": {},
   "outputs": [],
   "source": [
    "spectral_norm_list = [np.mean(spectral_non_rob), np.mean(spectral_trace_first_list), np.mean(spectral_trace_all_list), np.mean(spectral_op_list), np.mean(spectral_adv_list)]"
   ]
  },
  {
   "cell_type": "code",
   "execution_count": 68,
   "metadata": {},
   "outputs": [],
   "source": [
    "fr_norm_list= [np.mean(fr_non_rob), np.mean(fr_trace_first_list), np.mean(fr_trace_all_list), np.mean(fr_op_list), np.mean(fr_adv_list)]"
   ]
  },
  {
   "cell_type": "code",
   "execution_count": 69,
   "metadata": {},
   "outputs": [],
   "source": [
    "labels = ['non_rob', 'trace_first', 'trace_all', 'linf op', 'fgsm']"
   ]
  },
  {
   "cell_type": "code",
   "execution_count": 72,
   "metadata": {},
   "outputs": [
    {
     "data": {
      "image/png": "[encoded data removed]",
      "text/plain": [
       "<Figure size 432x288 with 1 Axes>"
      ]
     },
     "metadata": {
      "needs_background": "light"
     },
     "output_type": "display_data"
    },
    {
     "name": "stdout",
     "output_type": "stream",
     "text": [
      "[3587641.1437585237, 424965874.2864362, 16256.970926764248, 47874.3027656854, 567790.6826471635]\n"
     ]
    }
   ],
   "source": [
    "x = 2*np.arange(len(labels))  # the label locations\n",
    "width = 0.60  # the width of the bars\n",
    "\n",
    "fig, ax = plt.subplots()\n",
    "rects1 = ax.bar(x - width/2, spectral_norm_list, width, label='dphi_dx')\n",
    "#rects2 = ax.bar(x + width/2, margins, width, label='margin')\n",
    "\n",
    "# Add some text for labels, title and custom x-axis tick labels, etc.\n",
    "ax.set_ylabel('Spectral complexity')\n",
    "#ax.set_title('Margins and gradient for diferent models')\n",
    "ax.set_xticks(x)\n",
    "ax.set_yscale('log')\n",
    "ax.set_xticklabels(labels)\n",
    "ax.legend()\n",
    "\n",
    "plt.show()\n",
    "print(spectral_norm_list)"
   ]
  },
  {
   "cell_type": "code",
   "execution_count": 73,
   "metadata": {},
   "outputs": [
    {
     "data": {
      "image/png": "[encoded data removed]",
      "text/plain": [
       "<Figure size 432x288 with 1 Axes>"
      ]
     },
     "metadata": {
      "needs_background": "light"
     },
     "output_type": "display_data"
    },
    {
     "name": "stdout",
     "output_type": "stream",
     "text": [
      "[0.0006372704, 0.0008890634, 0.0018894157, 0.0018820629, 0.004359629]\n"
     ]
    }
   ],
   "source": [
    "x = 2*np.arange(len(labels))  # the label locations\n",
    "width = 0.60  # the width of the bars\n",
    "\n",
    "fig, ax = plt.subplots()\n",
    "rects1 = ax.bar(x - width/2, fr_norm_list, width, label='dphi_dx')\n",
    "#rects2 = ax.bar(x + width/2, margins, width, label='margin')\n",
    "\n",
    "# Add some text for labels, title and custom x-axis tick labels, etc.\n",
    "ax.set_ylabel('Spectral complexity')\n",
    "#ax.set_title('Margins and gradient for diferent models')\n",
    "ax.set_xticks(x)\n",
    "ax.set_yscale('log')\n",
    "ax.set_xticklabels(labels)\n",
    "ax.legend()\n",
    "\n",
    "plt.show()\n",
    "print(fr_norm_list)"
   ]
  },
  {
   "cell_type": "markdown",
   "metadata": {},
   "source": [
    "# Accuracies"
   ]
  },
  {
   "cell_type": "code",
   "execution_count": 78,
   "metadata": {},
   "outputs": [],
   "source": [
    "scope_list = ['model_non_robust']*8\n",
    "eps_list = [0, 0.02, 0.05, 0.1, 0.2, 0.3]"
   ]
  },
  {
   "cell_type": "code",
   "execution_count": 88,
   "metadata": {},
   "outputs": [],
   "source": [
    "model_list_big = [non_rob_models, trace_first_models, trace_all_models, op_norm_models, adv_trained_models]\n",
    "sess_list_big = [non_rob_sess_list, sess_trace_first_list, sess_trace_all_list, sess_op_list, adv_train_sess_list]\n",
    "scope_list = ['model_non_robust', 'model_non_robust', 'model_non_robust', 'model_non_robust', 'model_robust']\n",
    "labels = ['non_rob', 'trace_first', 'trace_all', 'linf op', 'fgsm']"
   ]
  },
  {
   "cell_type": "code",
   "execution_count": null,
   "metadata": {},
   "outputs": [],
   "source": [
    "def make_acc_vs_eps_plot_error_bars(model_list_big, sess_list_big, eps_list, legend_list, scope_list, pgd = False):\n",
    "    fig = plt.figure()\n",
    "    \n",
    "    for idx, model_list in enumerate(model_list_big):\n",
    "        sess_list = sess_list_big[idx]\n",
    "        accs, error_top, error_bottom = acc_versus_eps_single_objective(model_list, sess_list, eps_list, scope_name = scope_list[idx])\n",
    "        label = legend_list[idx]\n",
    "        plot.errorbar(eps_list, error_top, error_bottom, label = legend)\n",
    "    \n",
    "    return True"
   ]
  },
  {
   "cell_type": "code",
   "execution_count": null,
   "metadata": {},
   "outputs": [
    {
     "name": "stderr",
     "output_type": "stream",
     "text": [
      "Model is being evaluated on FGSM data\n",
      "I0928 15:48:01.584896 4424283584 feedforward_robust.py:418] Model is being evaluated on FGSM data\n",
      "Model is being evaluated on FGSM data\n",
      "I0928 15:48:03.270120 4424283584 feedforward_robust.py:418] Model is being evaluated on FGSM data\n",
      "Model is being evaluated on FGSM data\n",
      "I0928 15:48:05.081174 4424283584 feedforward_robust.py:418] Model is being evaluated on FGSM data\n",
      "Model is being evaluated on FGSM data\n",
      "I0928 15:48:06.493231 4424283584 feedforward_robust.py:418] Model is being evaluated on FGSM data\n",
      "Model is being evaluated on FGSM data\n",
      "I0928 15:48:07.875530 4424283584 feedforward_robust.py:418] Model is being evaluated on FGSM data\n",
      "Model is being evaluated on FGSM data\n",
      "I0928 15:48:09.131503 4424283584 feedforward_robust.py:418] Model is being evaluated on FGSM data\n",
      "Model is being evaluated on FGSM data\n",
      "I0928 15:48:10.755514 4424283584 feedforward_robust.py:418] Model is being evaluated on FGSM data\n",
      "Model is being evaluated on FGSM data\n",
      "I0928 15:48:12.137005 4424283584 feedforward_robust.py:418] Model is being evaluated on FGSM data\n",
      "Model is being evaluated on FGSM data\n",
      "I0928 15:48:13.390412 4424283584 feedforward_robust.py:418] Model is being evaluated on FGSM data\n",
      "Model is being evaluated on FGSM data\n",
      "I0928 15:48:14.623955 4424283584 feedforward_robust.py:418] Model is being evaluated on FGSM data\n",
      "Model is being evaluated on FGSM data\n",
      "I0928 15:48:15.849157 4424283584 feedforward_robust.py:418] Model is being evaluated on FGSM data\n",
      "Model is being evaluated on FGSM data\n",
      "I0928 15:48:17.131697 4424283584 feedforward_robust.py:418] Model is being evaluated on FGSM data\n",
      "Model is being evaluated on FGSM data\n",
      "I0928 15:48:18.663260 4424283584 feedforward_robust.py:418] Model is being evaluated on FGSM data\n",
      "Model is being evaluated on FGSM data\n",
      "I0928 15:48:19.971787 4424283584 feedforward_robust.py:418] Model is being evaluated on FGSM data\n",
      "Model is being evaluated on FGSM data\n",
      "I0928 15:48:21.311802 4424283584 feedforward_robust.py:418] Model is being evaluated on FGSM data\n",
      "Model is being evaluated on FGSM data\n",
      "I0928 15:48:22.587633 4424283584 feedforward_robust.py:418] Model is being evaluated on FGSM data\n",
      "Model is being evaluated on FGSM data\n",
      "I0928 15:48:24.042010 4424283584 feedforward_robust.py:418] Model is being evaluated on FGSM data\n",
      "Model is being evaluated on FGSM data\n",
      "I0928 15:48:25.477735 4424283584 feedforward_robust.py:418] Model is being evaluated on FGSM data\n",
      "Model is being evaluated on FGSM data\n",
      "I0928 15:48:26.997945 4424283584 feedforward_robust.py:418] Model is being evaluated on FGSM data\n",
      "Model is being evaluated on FGSM data\n",
      "I0928 15:48:28.305877 4424283584 feedforward_robust.py:418] Model is being evaluated on FGSM data\n",
      "Model is being evaluated on FGSM data\n",
      "I0928 15:48:29.597249 4424283584 feedforward_robust.py:418] Model is being evaluated on FGSM data\n",
      "Model is being evaluated on FGSM data\n",
      "I0928 15:48:30.909971 4424283584 feedforward_robust.py:418] Model is being evaluated on FGSM data\n",
      "Model is being evaluated on FGSM data\n",
      "I0928 15:48:32.199892 4424283584 feedforward_robust.py:418] Model is being evaluated on FGSM data\n",
      "Model is being evaluated on FGSM data\n",
      "I0928 15:48:33.528164 4424283584 feedforward_robust.py:418] Model is being evaluated on FGSM data\n",
      "Model is being evaluated on FGSM data\n",
      "I0928 15:48:34.862712 4424283584 feedforward_robust.py:418] Model is being evaluated on FGSM data\n",
      "Model is being evaluated on FGSM data\n",
      "I0928 15:48:36.132606 4424283584 feedforward_robust.py:418] Model is being evaluated on FGSM data\n",
      "Model is being evaluated on FGSM data\n",
      "I0928 15:48:37.379693 4424283584 feedforward_robust.py:418] Model is being evaluated on FGSM data\n",
      "Model is being evaluated on FGSM data\n",
      "I0928 15:48:38.658966 4424283584 feedforward_robust.py:418] Model is being evaluated on FGSM data\n",
      "Model is being evaluated on FGSM data\n",
      "I0928 15:48:39.917015 4424283584 feedforward_robust.py:418] Model is being evaluated on FGSM data\n",
      "Model is being evaluated on FGSM data\n",
      "I0928 15:48:41.174019 4424283584 feedforward_robust.py:418] Model is being evaluated on FGSM data\n",
      "Model is being evaluated on FGSM data\n",
      "I0928 15:48:42.537217 4424283584 feedforward_robust.py:418] Model is being evaluated on FGSM data\n",
      "Model is being evaluated on FGSM data\n",
      "I0928 15:48:43.959237 4424283584 feedforward_robust.py:418] Model is being evaluated on FGSM data\n",
      "Model is being evaluated on FGSM data\n",
      "I0928 15:48:45.387072 4424283584 feedforward_robust.py:418] Model is being evaluated on FGSM data\n",
      "Model is being evaluated on FGSM data\n",
      "I0928 15:48:46.850271 4424283584 feedforward_robust.py:418] Model is being evaluated on FGSM data\n",
      "Model is being evaluated on FGSM data\n",
      "I0928 15:48:48.163872 4424283584 feedforward_robust.py:418] Model is being evaluated on FGSM data\n",
      "Model is being evaluated on FGSM data\n",
      "I0928 15:48:49.460144 4424283584 feedforward_robust.py:418] Model is being evaluated on FGSM data\n",
      "Model is being evaluated on FGSM data\n",
      "I0928 15:48:50.810730 4424283584 feedforward_robust.py:418] Model is being evaluated on FGSM data\n",
      "Model is being evaluated on FGSM data\n",
      "I0928 15:48:52.093233 4424283584 feedforward_robust.py:418] Model is being evaluated on FGSM data\n",
      "Model is being evaluated on FGSM data\n",
      "I0928 15:48:53.383054 4424283584 feedforward_robust.py:418] Model is being evaluated on FGSM data\n",
      "Model is being evaluated on FGSM data\n",
      "I0928 15:48:54.662806 4424283584 feedforward_robust.py:418] Model is being evaluated on FGSM data\n",
      "Model is being evaluated on FGSM data\n",
      "I0928 15:48:55.958955 4424283584 feedforward_robust.py:418] Model is being evaluated on FGSM data\n",
      "Model is being evaluated on FGSM data\n",
      "I0928 15:48:57.264651 4424283584 feedforward_robust.py:418] Model is being evaluated on FGSM data\n"
     ]
    }
   ],
   "source": [
    "make_acc_vs_eps_plot_error_bars(model_list_big, sess_list_big, eps_list, labels, scope_list)"
   ]
  },
  {
   "cell_type": "code",
   "execution_count": 84,
   "metadata": {},
   "outputs": [
    {
     "data": {
      "text/plain": [
       "[0.9621, 0.4573, 0.1278, 0.0547, 0.0349, 0.028]"
      ]
     },
     "execution_count": 84,
     "metadata": {},
     "output_type": "execute_result"
    }
   ],
   "source": [
    "non_rob_accs"
   ]
  },
  {
   "cell_type": "code",
   "execution_count": 83,
   "metadata": {},
   "outputs": [
    {
     "name": "stderr",
     "output_type": "stream",
     "text": [
      "Model is being evaluated on FGSM data\n",
      "I0927 09:26:32.688495 4424283584 feedforward_robust.py:418] Model is being evaluated on FGSM data\n",
      "Model is being evaluated on FGSM data\n",
      "I0927 09:26:33.741971 4424283584 feedforward_robust.py:418] Model is being evaluated on FGSM data\n",
      "Model is being evaluated on FGSM data\n",
      "I0927 09:26:34.756202 4424283584 feedforward_robust.py:418] Model is being evaluated on FGSM data\n",
      "Model is being evaluated on FGSM data\n",
      "I0927 09:26:35.747350 4424283584 feedforward_robust.py:418] Model is being evaluated on FGSM data\n",
      "Model is being evaluated on FGSM data\n",
      "I0927 09:26:36.751282 4424283584 feedforward_robust.py:418] Model is being evaluated on FGSM data\n",
      "Model is being evaluated on FGSM data\n",
      "I0927 09:26:37.724618 4424283584 feedforward_robust.py:418] Model is being evaluated on FGSM data\n",
      "Model is being evaluated on FGSM data\n",
      "I0927 09:26:39.188182 4424283584 feedforward_robust.py:418] Model is being evaluated on FGSM data\n",
      "Model is being evaluated on FGSM data\n",
      "I0927 09:26:40.218692 4424283584 feedforward_robust.py:418] Model is being evaluated on FGSM data\n",
      "Model is being evaluated on FGSM data\n",
      "I0927 09:26:41.230945 4424283584 feedforward_robust.py:418] Model is being evaluated on FGSM data\n",
      "Model is being evaluated on FGSM data\n",
      "I0927 09:26:42.238494 4424283584 feedforward_robust.py:418] Model is being evaluated on FGSM data\n",
      "Model is being evaluated on FGSM data\n",
      "I0927 09:26:43.308802 4424283584 feedforward_robust.py:418] Model is being evaluated on FGSM data\n",
      "Model is being evaluated on FGSM data\n",
      "I0927 09:26:44.373214 4424283584 feedforward_robust.py:418] Model is being evaluated on FGSM data\n",
      "Model is being evaluated on FGSM data\n",
      "I0927 09:26:45.819996 4424283584 feedforward_robust.py:418] Model is being evaluated on FGSM data\n",
      "Model is being evaluated on FGSM data\n",
      "I0927 09:26:46.874495 4424283584 feedforward_robust.py:418] Model is being evaluated on FGSM data\n",
      "Model is being evaluated on FGSM data\n",
      "I0927 09:26:47.936623 4424283584 feedforward_robust.py:418] Model is being evaluated on FGSM data\n",
      "Model is being evaluated on FGSM data\n",
      "I0927 09:26:48.986629 4424283584 feedforward_robust.py:418] Model is being evaluated on FGSM data\n",
      "Model is being evaluated on FGSM data\n",
      "I0927 09:26:50.051865 4424283584 feedforward_robust.py:418] Model is being evaluated on FGSM data\n",
      "Model is being evaluated on FGSM data\n",
      "I0927 09:26:51.100481 4424283584 feedforward_robust.py:418] Model is being evaluated on FGSM data\n",
      "Model is being evaluated on FGSM data\n",
      "I0927 09:26:52.411458 4424283584 feedforward_robust.py:418] Model is being evaluated on FGSM data\n",
      "Model is being evaluated on FGSM data\n",
      "I0927 09:26:53.546344 4424283584 feedforward_robust.py:418] Model is being evaluated on FGSM data\n",
      "Model is being evaluated on FGSM data\n",
      "I0927 09:26:54.640295 4424283584 feedforward_robust.py:418] Model is being evaluated on FGSM data\n",
      "Model is being evaluated on FGSM data\n",
      "I0927 09:26:55.722923 4424283584 feedforward_robust.py:418] Model is being evaluated on FGSM data\n",
      "Model is being evaluated on FGSM data\n",
      "I0927 09:26:56.738985 4424283584 feedforward_robust.py:418] Model is being evaluated on FGSM data\n",
      "Model is being evaluated on FGSM data\n",
      "I0927 09:26:57.817632 4424283584 feedforward_robust.py:418] Model is being evaluated on FGSM data\n",
      "Model is being evaluated on FGSM data\n",
      "I0927 09:26:59.101835 4424283584 feedforward_robust.py:418] Model is being evaluated on FGSM data\n",
      "Model is being evaluated on FGSM data\n",
      "I0927 09:27:00.108447 4424283584 feedforward_robust.py:418] Model is being evaluated on FGSM data\n",
      "Model is being evaluated on FGSM data\n",
      "I0927 09:27:01.138733 4424283584 feedforward_robust.py:418] Model is being evaluated on FGSM data\n",
      "Model is being evaluated on FGSM data\n",
      "I0927 09:27:02.216670 4424283584 feedforward_robust.py:418] Model is being evaluated on FGSM data\n",
      "Model is being evaluated on FGSM data\n",
      "I0927 09:27:03.244905 4424283584 feedforward_robust.py:418] Model is being evaluated on FGSM data\n",
      "Model is being evaluated on FGSM data\n",
      "I0927 09:27:04.257025 4424283584 feedforward_robust.py:418] Model is being evaluated on FGSM data\n",
      "Model is being evaluated on FGSM data\n",
      "I0927 09:27:05.540225 4424283584 feedforward_robust.py:418] Model is being evaluated on FGSM data\n",
      "Model is being evaluated on FGSM data\n",
      "I0927 09:27:06.582772 4424283584 feedforward_robust.py:418] Model is being evaluated on FGSM data\n",
      "Model is being evaluated on FGSM data\n",
      "I0927 09:27:08.100568 4424283584 feedforward_robust.py:418] Model is being evaluated on FGSM data\n",
      "Model is being evaluated on FGSM data\n",
      "I0927 09:27:09.117244 4424283584 feedforward_robust.py:418] Model is being evaluated on FGSM data\n",
      "Model is being evaluated on FGSM data\n",
      "I0927 09:27:10.132350 4424283584 feedforward_robust.py:418] Model is being evaluated on FGSM data\n",
      "Model is being evaluated on FGSM data\n",
      "I0927 09:27:11.169960 4424283584 feedforward_robust.py:418] Model is being evaluated on FGSM data\n",
      "Model is being evaluated on FGSM data\n",
      "I0927 09:27:13.005712 4424283584 feedforward_robust.py:418] Model is being evaluated on FGSM data\n",
      "Model is being evaluated on FGSM data\n",
      "I0927 09:27:14.055110 4424283584 feedforward_robust.py:418] Model is being evaluated on FGSM data\n",
      "Model is being evaluated on FGSM data\n",
      "I0927 09:27:15.212155 4424283584 feedforward_robust.py:418] Model is being evaluated on FGSM data\n",
      "Model is being evaluated on FGSM data\n",
      "I0927 09:27:16.315488 4424283584 feedforward_robust.py:418] Model is being evaluated on FGSM data\n",
      "Model is being evaluated on FGSM data\n",
      "I0927 09:27:17.395478 4424283584 feedforward_robust.py:418] Model is being evaluated on FGSM data\n",
      "Model is being evaluated on FGSM data\n",
      "I0927 09:27:18.486253 4424283584 feedforward_robust.py:418] Model is being evaluated on FGSM data\n",
      "Model is being evaluated on FGSM data\n",
      "I0927 09:27:20.305477 4424283584 feedforward_robust.py:418] Model is being evaluated on FGSM data\n",
      "Model is being evaluated on FGSM data\n",
      "I0927 09:27:21.736729 4424283584 feedforward_robust.py:418] Model is being evaluated on FGSM data\n",
      "Model is being evaluated on FGSM data\n",
      "I0927 09:27:22.995487 4424283584 feedforward_robust.py:418] Model is being evaluated on FGSM data\n",
      "Model is being evaluated on FGSM data\n",
      "I0927 09:27:24.253355 4424283584 feedforward_robust.py:418] Model is being evaluated on FGSM data\n",
      "Model is being evaluated on FGSM data\n",
      "I0927 09:27:25.623558 4424283584 feedforward_robust.py:418] Model is being evaluated on FGSM data\n",
      "Model is being evaluated on FGSM data\n",
      "I0927 09:27:26.744676 4424283584 feedforward_robust.py:418] Model is being evaluated on FGSM data\n"
     ]
    },
    {
     "data": {
      "text/plain": [
       "<Figure size 432x288 with 0 Axes>"
      ]
     },
     "metadata": {},
     "output_type": "display_data"
    }
   ],
   "source": [
    "trace_first_accs = get_acc_vs_eps(trace_first_models, sess_trace_first_list, eps_list , [None]*8, scope_list, pgd = False)"
   ]
  },
  {
   "cell_type": "code",
   "execution_count": null,
   "metadata": {},
   "outputs": [],
   "source": [
    "trace_all_accs = get_acc_vs_eps(trace_first_models, sess_trace_first_list, eps_list , [None]*8, scope_list, pgd = False)"
   ]
  },
  {
   "cell_type": "markdown",
   "metadata": {},
   "source": [
    "## Distances"
   ]
  },
  {
   "cell_type": "code",
   "execution_count": null,
   "metadata": {},
   "outputs": [],
   "source": [
    "model_list = [model_non_robust, model_all_reg, model_rob, model_hybrid, reg_model]\n",
    "sess_list = [sess_non_robust, sess_all_reg, sess_rob, sess_hybrid, sess_reg]\n",
    "scope_list = [\"model_non_robust\", \"model_non_robust\", \"model_robust\", \"hybrid\", \"model_non_robust\"]\n",
    "legend_list = ['non robust', 'all layers trace reg', 'robust', 'hybrid', 'first layer trace reg']"
   ]
  },
  {
   "cell_type": "code",
   "execution_count": null,
   "metadata": {},
   "outputs": [],
   "source": [
    "#make_dist_plot_all_models(model_list, sess_list, scope_list, legend_list, order = 2)"
   ]
  },
  {
   "cell_type": "code",
   "execution_count": null,
   "metadata": {},
   "outputs": [],
   "source": [
    "#make_dist_plot_all_models(model_list, sess_list, scope_list, legend_list, order = float(\"inf\"))"
   ]
  },
  {
   "cell_type": "markdown",
   "metadata": {},
   "source": [
    "## Lipschitzness/ Margins"
   ]
  },
  {
   "cell_type": "code",
   "execution_count": null,
   "metadata": {},
   "outputs": [],
   "source": [
    "model_list = [model_non_robust, model_all_reg, model_rob, model_hybrid, reg_model]\n",
    "sess_list = [sess_non_robust, sess_all_reg, sess_rob, sess_hybrid, sess_reg]\n",
    "scope_list = [\"model_non_robust\", \"model_non_robust\", \"model_robust\", \"hybrid\", \"model_non_robust\"]"
   ]
  },
  {
   "cell_type": "code",
   "execution_count": null,
   "metadata": {},
   "outputs": [],
   "source": [
    "reg_evals, adv_evals, margins, dphi_dxs = get_stats_all_models(model_list, sess_list, scope_list)"
   ]
  },
  {
   "cell_type": "code",
   "execution_count": null,
   "metadata": {},
   "outputs": [],
   "source": [
    "#model_non_robust, model_all_reg, model_rob, model_hybrid, reg_model"
   ]
  },
  {
   "cell_type": "code",
   "execution_count": null,
   "metadata": {},
   "outputs": [],
   "source": [
    "reg_evals"
   ]
  },
  {
   "cell_type": "code",
   "execution_count": null,
   "metadata": {},
   "outputs": [],
   "source": [
    "adv_evals"
   ]
  },
  {
   "cell_type": "code",
   "execution_count": null,
   "metadata": {},
   "outputs": [],
   "source": [
    "dphi_dxs"
   ]
  },
  {
   "cell_type": "code",
   "execution_count": null,
   "metadata": {},
   "outputs": [],
   "source": [
    "margins"
   ]
  },
  {
   "cell_type": "code",
   "execution_count": null,
   "metadata": {},
   "outputs": [],
   "source": [
    "labels = ['non robust', 'Sing val all', 'fgsm train', 'hybrid', 'sing val first']"
   ]
  },
  {
   "cell_type": "code",
   "execution_count": null,
   "metadata": {},
   "outputs": [],
   "source": [
    "adv_evals_np = np.array(adv_evals)\n",
    "acc_adv = adv_evals_np[:, 1]"
   ]
  },
  {
   "cell_type": "code",
   "execution_count": null,
   "metadata": {},
   "outputs": [],
   "source": [
    "x = 2*np.arange(len(labels))  # the label locations\n",
    "width = 0.60  # the width of the bars\n",
    "\n",
    "fig, ax = plt.subplots()\n",
    "rects1 = ax.bar(x - width/2, dphi_dxs, width, label='dphi_dx')\n",
    "rects2 = ax.bar(x + width/2, margins, width, label='margin')\n",
    "\n",
    "# Add some text for labels, title and custom x-axis tick labels, etc.\n",
    "ax.set_ylabel('Margins/ Gradient means')\n",
    "ax.set_title('Margins and gradient for diferent models')\n",
    "ax.set_xticks(x)\n",
    "ax.set_xticklabels(labels)\n",
    "ax.legend()\n",
    "\n",
    "plt.show()\n",
    "print(adv_evals_np[:, 1])"
   ]
  },
  {
   "cell_type": "code",
   "execution_count": null,
   "metadata": {},
   "outputs": [],
   "source": [
    "x = 2*np.arange(len(labels))  # the label locations\n",
    "width = 0.60  # the width of the bars\n",
    "\n",
    "fig, ax = plt.subplots()\n",
    "rects1 = ax.bar(x - width/2, dphi_dxs, width, label='dphi_dx')\n",
    "# Add some text for labels, title and custom x-axis tick labels, etc.\n",
    "ax.set_ylabel('Gradient means')\n",
    "ax.set_ylim((0, 1.1))\n",
    "ax.set_title('Margins and gradient for diferent models')\n",
    "ax.set_xticks(x)\n",
    "ax.set_xticklabels(labels)\n",
    "ax.legend()\n",
    "\n",
    "\n",
    "color = 'tab:orange'\n",
    "ax2 = ax.twinx()\n",
    "rects2 = ax2.bar(x + width/2, margins, width, label='margin', color = color)\n",
    "ax2.set_ylabel('Margins')\n",
    "ax2.set_ylim((0, 0.40))\n",
    "#ax.set_xticks(x)\n",
    "#ax.set_xticklabels(labels)\n",
    "#ax2.legend(legend_loc = (1.0, 0.8))\n",
    "\n",
    "\n",
    "def autolabel(rects):\n",
    "    \"\"\"Attach a text label above each bar in *rects*, displaying its height.\"\"\"\n",
    "    for (idx, rect) in enumerate(rects1):\n",
    "        height = rect.get_height()\n",
    "        height_2 = rects2[idx].get_height() * (1.0/0.37)\n",
    "        height = max(height, height_2)\n",
    "        ax.annotate('{:0.3f}'.format(acc_adv[idx]),\n",
    "                    xy=(rect.get_x() + rect.get_width() / 2, height),\n",
    "                    xytext=(0, 3),  # 3 points vertical offset\n",
    "                    textcoords=\"offset points\",\n",
    "                    ha='center', va='bottom')\n",
    "\n",
    "\n",
    "autolabel(rects1)\n",
    "autolabel(rects2)\n",
    "\n",
    "plt.show()\n",
    "print(adv_evals_np[:, 1])"
   ]
  },
  {
   "cell_type": "markdown",
   "metadata": {},
   "source": [
    "## Accuracies "
   ]
  },
  {
   "cell_type": "code",
   "execution_count": null,
   "metadata": {},
   "outputs": [],
   "source": [
    "model_list = [model_non_robust, model_all_reg, model_rob, model_hybrid, reg_model]\n",
    "sess_list = [sess_non_robust, sess_all_reg, sess_rob, sess_hybrid, sess_reg]\n",
    "eps_list = [0, 0.02, 0.05, 0.1, 0.2, 0.3]\n",
    "scope_list = [\"model_non_robust\", \"model_non_robust\", \"model_robust\", \"hybrid\", \"model_non_robust\"]\n",
    "legend_list = ['non_robust', 'all layers trace reg', 'robust', 'hybrid', 'first layer trace reg']"
   ]
  },
  {
   "cell_type": "code",
   "execution_count": null,
   "metadata": {},
   "outputs": [],
   "source": [
    "#make_plot_acc_vs_eps(model_list, sess_list, eps_list, legend_list, scope_list, pgd = False)"
   ]
  },
  {
   "cell_type": "code",
   "execution_count": null,
   "metadata": {},
   "outputs": [],
   "source": [
    "model_list = [model_non_robust, model_all_reg, model_rob, model_hybrid, reg_model]\n",
    "sess_list = [sess_non_robust, sess_all_reg, sess_rob, sess_hybrid, sess_reg]\n",
    "eps_list = [0, 0.02, 0.05, 0.1, 0.2, 0.3]\n",
    "scope_list = [\"model_non_robust\", \"model_non_robust\", \"model_robust\", \"hybrid\", \"model_non_robust\"]\n",
    "legend_list = ['non_robust', 'all layers trace reg', 'robust', 'hybrid', 'first layer trace reg']"
   ]
  },
  {
   "cell_type": "code",
   "execution_count": null,
   "metadata": {},
   "outputs": [],
   "source": [
    "make_plot_acc_vs_eps(model_list, sess_list, eps_list, legend_list, scope_list, pgd = True)"
   ]
  },
  {
   "cell_type": "markdown",
   "metadata": {},
   "source": [
    "## Black box accuracies"
   ]
  },
  {
   "cell_type": "code",
   "execution_count": null,
   "metadata": {},
   "outputs": [],
   "source": [
    "model_list = [model_non_robust, model_all_reg, model_rob, model_hybrid, reg_model]\n",
    "sess_list = [sess_non_robust, sess_all_reg, sess_rob, sess_hybrid, sess_reg]\n",
    "eps_list = [0, 0.1, 0.2, 0.3, 0.4, 0.5, 0.6]\n",
    "angle_list = [10, 15, 20, 25, 30, 35, 40]\n",
    "scope_list = [\"model_non_robust\", \"model_non_robust\", \"model_robust\", \"hybrid\", \"model_non_robust\"]\n",
    "legend_list = ['non_robust', 'all layers trace reg', 'robust', 'hybrid', 'first layer trace reg']"
   ]
  },
  {
   "cell_type": "code",
   "execution_count": null,
   "metadata": {},
   "outputs": [],
   "source": [
    "make_plot_acc_vs_eps_black_box(model_list, sess_list, eps_list, angle_list, legend_list, scope_list)"
   ]
  },
  {
   "cell_type": "markdown",
   "metadata": {},
   "source": [
    "## Singular Values "
   ]
  },
  {
   "cell_type": "code",
   "execution_count": null,
   "metadata": {},
   "outputs": [],
   "source": [
    "norm_factor_non = sing_vals[0][0]\n",
    "sing_non = sing_vals[0]/norm_factor_non\n",
    "norm_factor_rob = sing_vals_robust[0][0]\n",
    "sing_rob = sing_vals_robust[0]/norm_factor_rob\n",
    "\n",
    "plt.loglog(range(len(sing_vals[0])), sing_non , label = \"non robust\")\n",
    "plt.loglog(range(len(sing_vals_robust[0])), sing_rob , label = \"robust\")\n",
    "plt.legend(loc = \"upper right\")"
   ]
  },
  {
   "cell_type": "code",
   "execution_count": null,
   "metadata": {},
   "outputs": [],
   "source": [
    "plt.semilogy(range(len(sing_vals[0])), sing_non , label = \"non robust\")\n",
    "plt.semilogy(range(len(sing_vals_robust[0])), sing_rob , label = \"robust\")\n",
    "plt.legend(loc = \"upper right\")"
   ]
  },
  {
   "cell_type": "code",
   "execution_count": null,
   "metadata": {},
   "outputs": [],
   "source": [
    "plt.plot(range(len(sing_vals[0])), sing_non , label = \"non robust\")\n",
    "plt.plot(range(len(sing_vals_robust[0])), sing_rob , label = \"robust\")\n",
    "plt.legend(loc = \"upper right\")"
   ]
  },
  {
   "cell_type": "code",
   "execution_count": null,
   "metadata": {},
   "outputs": [],
   "source": []
  },
  {
   "cell_type": "code",
   "execution_count": null,
   "metadata": {},
   "outputs": [],
   "source": [
    "def all_plots_layer_k(k):\n",
    "    norm_factor_non = sing_vals[k][0]\n",
    "    print(\"-----NORM FACTOR NON---\")\n",
    "    print(norm_factor_non)\n",
    "    sing_non = sing_vals[k]/norm_factor_non\n",
    "    norm_factor_rob = sing_vals_robust[k][0]\n",
    "    print(\"-----NORM FACTOR ROB---\")\n",
    "    print(norm_factor_rob)\n",
    "    sing_rob = sing_vals_robust[k]/norm_factor_rob\n",
    "    plt.loglog(range(len(sing_vals[k])), sing_non , label = \"non robust\")\n",
    "    plt.loglog(range(len(sing_vals_robust[k])), sing_rob , label = \"robust\")\n",
    "    plt.legend(loc = \"upper right\")\n",
    "    plt.show()\n",
    "    plt.semilogy(range(len(sing_vals[k])), sing_non , label = \"non robust\")\n",
    "    plt.semilogy(range(len(sing_vals_robust[k])), sing_rob , label = \"robust\")\n",
    "    plt.legend(loc = \"upper right\")\n",
    "    plt.show()\n",
    "    plt.plot(range(len(sing_vals[k])), sing_non , label = \"non robust\")\n",
    "    plt.plot(range(len(sing_vals_robust[k])), sing_rob , label = \"robust\")\n",
    "    plt.legend(loc = \"upper right\")\n",
    "    plt.show()"
   ]
  },
  {
   "cell_type": "code",
   "execution_count": null,
   "metadata": {},
   "outputs": [],
   "source": [
    "num_layers = len(sing_vals)"
   ]
  },
  {
   "cell_type": "code",
   "execution_count": null,
   "metadata": {},
   "outputs": [],
   "source": [
    "num_layers"
   ]
  },
  {
   "cell_type": "code",
   "execution_count": null,
   "metadata": {},
   "outputs": [],
   "source": [
    "for k in range(8):\n",
    "    print(k)\n",
    "    print(\"-----------\")\n",
    "    all_plots_layer_k(k)\n",
    "    print(\"-----------\")"
   ]
  },
  {
   "cell_type": "code",
   "execution_count": null,
   "metadata": {},
   "outputs": [],
   "source": [
    "for k in range(8):\n",
    "    print(k)\n",
    "    print(\"-----------\")\n",
    "    all_plots_layer_k(k)\n",
    "    print(\"-----------\")"
   ]
  },
  {
   "cell_type": "code",
   "execution_count": null,
   "metadata": {},
   "outputs": [],
   "source": []
  }
 ],
 "metadata": {
  "kernelspec": {
   "display_name": "Python 3",
   "language": "python",
   "name": "python3"
  },
  "language_info": {
   "codemirror_mode": {
    "name": "ipython",
    "version": 3
   },
   "file_extension": ".py",
   "mimetype": "text/x-python",
   "name": "python",
   "nbconvert_exporter": "python",
   "pygments_lexer": "ipython3",
   "version": "3.7.1"
  }
 },
 "nbformat": 4,
 "nbformat_minor": 2
}
